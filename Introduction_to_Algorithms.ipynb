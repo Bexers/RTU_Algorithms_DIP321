{
  "cells": [
    {
      "cell_type": "markdown",
      "metadata": {
        "id": "20c2bqCBNWeJ"
      },
      "source": [
        "# What is an Algorithm anyway?\n",
        "\n",
        "An algorithm is an explicit, precise, unambiguous, mechanically-executable\n",
        "sequence of elementary instructions, usually intended to accomplish a specific purpose\n",
        "\n",
        "Source: https://jeffe.cs.illinois.edu/teaching/algorithms/"
      ]
    },
    {
      "cell_type": "markdown",
      "metadata": {
        "id": "1oLXpnAkP4fX"
      },
      "source": [
        "## Al-gebra and al-gorithm and al-gorists (not Al-Gorists)\n",
        "\n",
        "![Musa-al-Kharismi](https://upload.wikimedia.org/wikipedia/commons/a/a6/Khwarizmi_Amirkabir_University_of_Technology.png)\n",
        "\n",
        "https://en.wikipedia.org/wiki/Muhammad_ibn_Musa_al-Khwarizmi\n",
        "\n",
        "Muhhamad ibn Musa al-Khwarizmi was a Persian mathematician, astronomer, geographer, and scholar in the House of Wisdom in Baghdad, whose name means 'the native of Khwarazm', a region that was part of Greater Iran and is now in Uzbekistan. He lived in Baghdad, working under the patronage of the Abbasid Caliphate.\n",
        "\n",
        "He is considered the father of algebra, a name that comes from the title of his book, Kitab al-Jabr. His pioneering work offered practical solutions to mathematical problems in areas such as algebra, trigonometry, and Indian and Greek arithmetic.\n",
        "\n",
        "The years of his activity are not entirely certain, but it is known that he wrote his Al-Jabr wa-l-Muqabala (algebra) in 820, and his Al-Zhir wa-l-Takhtit (astronomy) in 830, and he died around 850."
      ]
    },
    {
      "cell_type": "markdown",
      "metadata": {
        "id": "XaQT2vJyPP9u"
      },
      "source": [
        "## Decent Algorithm\n",
        "\n",
        "BottlesOfBeer(n):\n",
        "\n",
        "```\n",
        "For i ← n down to 1\n",
        "\n",
        "  Sing “i bottles of beer on the wall, i bottles of beer, ”\n",
        "\n",
        "  Sing “ Take one down, pass it around, i − 1 bottles of beer on the wall. ”\n",
        "\n",
        "  Sing “ No bottles of beer on the wall, no bottles of beer, ”\n",
        "\n",
        "  Sing “ Go to the store, buy some more, n bottles of beer on the wall. ”\n",
        "```\n",
        "\n",
        "Note not all the constraints are specified, but it is a decent algorithm.\n"
      ]
    },
    {
      "cell_type": "markdown",
      "metadata": {
        "id": "ag3UlpCEN7d-"
      },
      "source": [
        "## Not a real algorithm \n",
        "\n",
        "BeAMillionaireAndNeverPayTaxes():\n",
        "\n",
        "\n",
        "```\n",
        "\n",
        "Get a million dollars. \n",
        "\n",
        "If the tax man comes to your door and says, “ You have never paid taxes! ”\n",
        "\n",
        "Say “ I forgot.\n",
        "```\n",
        "\n",
        "\n",
        "\n",
        "\n",
        "### How about  Get a million dollars algorithm?\n",
        "1. Collect underpants\n",
        "2. ?\n",
        "3. Profit\n",
        "\n",
        "Source: https://en.wikipedia.org/wiki/Gnomes_(South_Park)\n",
        "\n",
        "Still not a real algorithm.\n"
      ]
    },
    {
      "cell_type": "markdown",
      "metadata": {
        "id": "Kcqi5WkhOg74"
      },
      "source": [
        "## Describing Algorithms\n",
        "\n",
        "The skills required to effectively design and analyze algorithms are entangled with the skills required to effectively describe algorithms. A complete description of any algorithm has four components:\n",
        "\n",
        " *  **What:** A precise specification of the problem that the algorithm solves.\n",
        " *  **How:** A precise description of the algorithm itself.\n",
        " * **Why:** A proof that the algorithm solves the problem it is supposed to solve.\n",
        " * **How fast:** An analysis of the running time of the algorithm."
      ]
    },
    {
      "cell_type": "markdown",
      "metadata": {},
      "source": [
        "## Heuristic - not an algorithm\n",
        "\n",
        "### See lion - run!\n",
        "\n",
        "Above is a rule of thumb. It is not an algorithm. It is a heuristic.\n",
        "\n",
        "Heuristic is a technique designed for solving a problem more quickly when classic methods are too slow, or for finding an approximate solution when classic methods fail to find any exact solution.\n",
        "\n",
        "Heuristic is not an algorithm. Heuristic is a technique which is used as an aid in the process of finding a solution to a problem. It could be a mental shortcut, an educated guess, or a rule of thumb. Heuristics as a noun is another name for heuristic techniques."
      ]
    },
    {
      "cell_type": "code",
      "execution_count": null,
      "metadata": {
        "id": "a6Ayo4tTOzTe"
      },
      "outputs": [],
      "source": []
    },
    {
      "cell_type": "markdown",
      "metadata": {
        "id": "vlXOIa4MM-Ao"
      },
      "source": [
        "# How to find a the largest number in an unsorted list(array)?\n",
        "#"
      ]
    },
    {
      "cell_type": "code",
      "execution_count": 1,
      "metadata": {
        "colab": {
          "base_uri": "https://localhost:8080/"
        },
        "id": "4fdPxJvEM-Aw",
        "outputId": "64b9df14-5af2-4d5f-889f-cdfcbda8ce9a"
      },
      "outputs": [
        {
          "name": "stdout",
          "output_type": "stream",
          "text": [
            "9000\n"
          ]
        }
      ],
      "source": [
        "mylist = [1,4,67,2,7,9000,2] # most languages called an array (not a linked list!) also not as optimal as C arrays because of overhead\n",
        "print(max(mylist)) # built in max function in Python"
      ]
    },
    {
      "cell_type": "code",
      "execution_count": 2,
      "metadata": {
        "id": "n1bkJVxKM-A0"
      },
      "outputs": [],
      "source": [
        "# lets implement our naive max algorithm\n",
        "# or as they call it Brute Force\n",
        "def find_my_max(seq):\n",
        "    my_max = None # alternatives start with first value or max negative \n",
        "    for n in seq:\n",
        "        if my_max == None or n > my_max:\n",
        "            my_max = n\n",
        "    return my_max\n",
        "    # set max to negative infinitty\n",
        "    # loop through seq\n",
        "    # if any number is larger than max we set max to this number\n",
        "    # return max"
      ]
    },
    {
      "cell_type": "code",
      "execution_count": 3,
      "metadata": {
        "colab": {
          "base_uri": "https://localhost:8080/"
        },
        "id": "HYKr3rSLM-A3",
        "outputId": "0d536dab-93d9-483a-9693-29c0e52cb093"
      },
      "outputs": [
        {
          "name": "stdout",
          "output_type": "stream",
          "text": [
            "9000\n"
          ]
        }
      ],
      "source": [
        "print(find_my_max(mylist))"
      ]
    },
    {
      "cell_type": "code",
      "execution_count": 4,
      "metadata": {
        "colab": {
          "base_uri": "https://localhost:8080/"
        },
        "id": "IFYycmEYM-A4",
        "outputId": "ed7f5f70-0acf-4b7d-8cef-15f425a29884"
      },
      "outputs": [
        {
          "name": "stdout",
          "output_type": "stream",
          "text": [
            "99953252523525252\n"
          ]
        }
      ],
      "source": [
        "# before proving things a good idea is to run a suite of tests\n",
        "print(find_my_max([-4,23,-6,2,0,0,5,99953252523525252,-3523525253]))"
      ]
    },
    {
      "cell_type": "markdown",
      "metadata": {
        "id": "romO4D5zF8hD"
      },
      "source": []
    },
    {
      "cell_type": "markdown",
      "metadata": {
        "id": "8Y6BeAdoGJqf"
      },
      "source": []
    },
    {
      "cell_type": "code",
      "execution_count": 5,
      "metadata": {
        "colab": {
          "base_uri": "https://localhost:8080/"
        },
        "id": "KXgk-E94M-A5",
        "outputId": "e8eabd8f-6e8f-41e0-8a7d-96c4ef54133f"
      },
      "outputs": [
        {
          "data": {
            "text/plain": [
              "1000000"
            ]
          },
          "execution_count": 5,
          "metadata": {},
          "output_type": "execute_result"
        }
      ],
      "source": [
        "import random # random provides umm random functions in Python\n",
        "random.seed(42) # answer to the Universe\n",
        "# note randint is inclusive on both ends (rare for a function / method )\n",
        "big_list = [random.randint(1,100_000_000) for _ in range(1_000_000)]  # list comprehension, _ signifies that iterator is not important\n",
        "len(big_list) # so 1 million items of random numbers from 1 to 100million\n",
        "# btw random is not truly random in most architectures it is pseudo-random"
      ]
    },
    {
      "cell_type": "code",
      "execution_count": 6,
      "metadata": {
        "colab": {
          "base_uri": "https://localhost:8080/"
        },
        "id": "KzUEiimOdWLM",
        "outputId": "3c64430e-3a02-49ef-e2e6-b986eb9c9439"
      },
      "outputs": [
        {
          "data": {
            "text/plain": [
              "[85822413, 14942604, 3356887, 99529224, 36913811]"
            ]
          },
          "execution_count": 6,
          "metadata": {},
          "output_type": "execute_result"
        }
      ],
      "source": [
        "big_list[:5] # first 5"
      ]
    },
    {
      "cell_type": "code",
      "execution_count": 7,
      "metadata": {
        "colab": {
          "base_uri": "https://localhost:8080/"
        },
        "id": "jMg53JFEdY1C",
        "outputId": "29cc0006-5b7c-43fa-c66c-0615c2a3f147"
      },
      "outputs": [
        {
          "data": {
            "text/plain": [
              "[4235542, 37491616, 60085083, 52300740, 44742665]"
            ]
          },
          "execution_count": 7,
          "metadata": {},
          "output_type": "execute_result"
        }
      ],
      "source": [
        "big_list[-5:] # last 5"
      ]
    },
    {
      "cell_type": "code",
      "execution_count": 8,
      "metadata": {
        "colab": {
          "base_uri": "https://localhost:8080/"
        },
        "id": "CEKFuO3ddsAI",
        "outputId": "e2fb14ba-d100-4aab-8b1a-cba4b21f380a"
      },
      "outputs": [
        {
          "data": {
            "text/plain": [
              "99999938"
            ]
          },
          "execution_count": 8,
          "metadata": {},
          "output_type": "execute_result"
        }
      ],
      "source": [
        "max(big_list)"
      ]
    },
    {
      "cell_type": "code",
      "execution_count": 9,
      "metadata": {
        "colab": {
          "base_uri": "https://localhost:8080/"
        },
        "id": "uyrcLrMueCI2",
        "outputId": "aff7807e-a058-46dd-bd8e-1fb581e2023c"
      },
      "outputs": [
        {
          "data": {
            "text/plain": [
              "99999938"
            ]
          },
          "execution_count": 9,
          "metadata": {},
          "output_type": "execute_result"
        }
      ],
      "source": [
        "find_my_max(big_list)"
      ]
    },
    {
      "cell_type": "markdown",
      "metadata": {},
      "source": [
        "## Checking the speed/time of an algorithm"
      ]
    },
    {
      "cell_type": "code",
      "execution_count": 10,
      "metadata": {
        "colab": {
          "base_uri": "https://localhost:8080/"
        },
        "id": "BAM96Rwjf22a",
        "outputId": "68d499ec-1e2d-4d0b-9e9a-43c413abdce5"
      },
      "outputs": [
        {
          "name": "stdout",
          "output_type": "stream",
          "text": [
            "222 ns ± 8.38 ns per loop (mean ± std. dev. of 7 runs, 1,000,000 loops each)\n"
          ]
        }
      ],
      "source": [
        "%%timeit\n",
        "max(mylist)"
      ]
    },
    {
      "cell_type": "code",
      "execution_count": 11,
      "metadata": {
        "colab": {
          "base_uri": "https://localhost:8080/"
        },
        "id": "HnNHIE_FgJuS",
        "outputId": "5a477456-849b-44d6-86e2-090b226594f2"
      },
      "outputs": [
        {
          "name": "stdout",
          "output_type": "stream",
          "text": [
            "549 ns ± 33.6 ns per loop (mean ± std. dev. of 7 runs, 1,000,000 loops each)\n"
          ]
        }
      ],
      "source": [
        "%%timeit\n",
        "find_my_max(mylist)"
      ]
    },
    {
      "cell_type": "code",
      "execution_count": 12,
      "metadata": {},
      "outputs": [
        {
          "name": "stdout",
          "output_type": "stream",
          "text": [
            "Lenght of mylist is 7\n"
          ]
        }
      ],
      "source": [
        "print(f\"Lenght of mylist is {len(mylist)}\")"
      ]
    },
    {
      "cell_type": "code",
      "execution_count": 13,
      "metadata": {
        "colab": {
          "base_uri": "https://localhost:8080/"
        },
        "id": "K3XEZd-GM-A6",
        "outputId": "f364f5b7-85c5-4327-d150-3e7214954e85"
      },
      "outputs": [
        {
          "name": "stdout",
          "output_type": "stream",
          "text": [
            "15.4 ms ± 704 µs per loop (mean ± std. dev. of 7 runs, 100 loops each)\n"
          ]
        }
      ],
      "source": [
        "%%timeit\n",
        "max(big_list) # most likely this is already cached so running it 1000 times will not prove nothing"
      ]
    },
    {
      "cell_type": "code",
      "execution_count": 14,
      "metadata": {
        "colab": {
          "base_uri": "https://localhost:8080/"
        },
        "id": "aXmlSvbPM-A7",
        "outputId": "532d8596-3a98-4a51-f797-920b165c4b80"
      },
      "outputs": [
        {
          "name": "stdout",
          "output_type": "stream",
          "text": [
            "49.7 ms ± 1.53 ms per loop (mean ± std. dev. of 7 runs, 10 loops each)\n"
          ]
        }
      ],
      "source": [
        "%%timeit\n",
        "find_my_max(big_list)"
      ]
    },
    {
      "cell_type": "code",
      "execution_count": 15,
      "metadata": {
        "id": "gehlEGmbM-A9"
      },
      "outputs": [],
      "source": [
        "huge_list = [random.randint(1,1_000_000_000) for _ in range(10_000_000)] # lists are not as efficient as c arrays\n"
      ]
    },
    {
      "cell_type": "code",
      "execution_count": 16,
      "metadata": {
        "colab": {
          "base_uri": "https://localhost:8080/"
        },
        "id": "CO7RHHlNglNQ",
        "outputId": "97e1a645-0f33-4ffe-9552-66a41ee74d4e"
      },
      "outputs": [
        {
          "data": {
            "text/plain": [
              "10000000"
            ]
          },
          "execution_count": 16,
          "metadata": {},
          "output_type": "execute_result"
        }
      ],
      "source": [
        "len(huge_list)"
      ]
    },
    {
      "cell_type": "code",
      "execution_count": 17,
      "metadata": {
        "colab": {
          "base_uri": "https://localhost:8080/"
        },
        "id": "uQpR7BrWM-A-",
        "outputId": "cf92ac43-b1a1-4466-d67c-eb4ed356a197"
      },
      "outputs": [
        {
          "name": "stdout",
          "output_type": "stream",
          "text": [
            "149 ms ± 4.07 ms per loop (mean ± std. dev. of 7 runs, 10 loops each)\n"
          ]
        }
      ],
      "source": [
        "%%timeit\n",
        "max(huge_list)"
      ]
    },
    {
      "cell_type": "code",
      "execution_count": 18,
      "metadata": {
        "colab": {
          "base_uri": "https://localhost:8080/"
        },
        "id": "MKebvWqIM-A_",
        "outputId": "c8ed39e1-7fa1-4702-afa5-82f8ca073853"
      },
      "outputs": [
        {
          "name": "stdout",
          "output_type": "stream",
          "text": [
            "502 ms ± 17.3 ms per loop (mean ± std. dev. of 7 runs, 1 loop each)\n"
          ]
        }
      ],
      "source": [
        "%%timeit\n",
        "find_my_max(huge_list)"
      ]
    },
    {
      "cell_type": "code",
      "execution_count": 19,
      "metadata": {
        "id": "zaYvnMXCM-BA",
        "outputId": "c1b4e611-dd67-4320-9bec-f9dfe8657d30"
      },
      "outputs": [
        {
          "name": "stdout",
          "output_type": "stream",
          "text": [
            "497 ms ± 15.7 ms per loop (mean ± std. dev. of 7 runs, 1 loop each)\n"
          ]
        }
      ],
      "source": [
        "%%timeit\n",
        "find_my_max(huge_list)"
      ]
    },
    {
      "cell_type": "markdown",
      "metadata": {
        "id": "3kLSuHJphmVT"
      },
      "source": [
        "## Can we find max(or min) in a faster way in a list?"
      ]
    },
    {
      "cell_type": "code",
      "execution_count": 21,
      "metadata": {
        "colab": {
          "base_uri": "https://localhost:8080/"
        },
        "id": "q_mdquc5M-BB",
        "outputId": "383c36bc-7686-459d-84d1-dd36b183c518"
      },
      "outputs": [
        {
          "name": "stdout",
          "output_type": "stream",
          "text": [
            "We have 1000000 items in our list\n"
          ]
        },
        {
          "data": {
            "text/plain": [
              "[102, 187, 476, 615, 684]"
            ]
          },
          "execution_count": 21,
          "metadata": {},
          "output_type": "execute_result"
        }
      ],
      "source": [
        "sorted_big_list = sorted(big_list)  # sorted has its own complexity (about that later)\n",
        "print(f\"We have {len(sorted_big_list)} items in our list\")\n",
        "sorted_big_list[:5]\n"
      ]
    },
    {
      "cell_type": "code",
      "execution_count": 22,
      "metadata": {
        "colab": {
          "base_uri": "https://localhost:8080/"
        },
        "id": "ZDMXXyotM-BB",
        "outputId": "b6a18687-dfa2-4717-ffe9-564aff623b68"
      },
      "outputs": [
        {
          "name": "stdout",
          "output_type": "stream",
          "text": [
            "96.2 ms ± 4.21 ms per loop (mean ± std. dev. of 7 runs, 10 loops each)\n"
          ]
        }
      ],
      "source": [
        "%%timeit\n",
        "max(sorted_big_list)"
      ]
    },
    {
      "cell_type": "code",
      "execution_count": 23,
      "metadata": {
        "colab": {
          "base_uri": "https://localhost:8080/"
        },
        "id": "bLpo65OdM-BC",
        "outputId": "ef77df6d-bf8d-4df7-e47b-06c1d07c6d89"
      },
      "outputs": [
        {
          "name": "stdout",
          "output_type": "stream",
          "text": [
            "105 ms ± 12.1 ms per loop (mean ± std. dev. of 7 runs, 10 loops each)\n"
          ]
        }
      ],
      "source": [
        "%%timeit\n",
        "min(sorted_big_list)"
      ]
    },
    {
      "cell_type": "code",
      "execution_count": 24,
      "metadata": {},
      "outputs": [
        {
          "name": "stdout",
          "output_type": "stream",
          "text": [
            "230 ms ± 10.5 ms per loop (mean ± std. dev. of 7 runs, 1 loop each)\n"
          ]
        }
      ],
      "source": [
        "%%timeit\n",
        "find_my_max(sorted_big_list)"
      ]
    },
    {
      "cell_type": "code",
      "execution_count": 25,
      "metadata": {
        "colab": {
          "base_uri": "https://localhost:8080/"
        },
        "id": "01t2T1ksM-BC",
        "outputId": "2c1ef9f2-9f45-4dfb-f483-f68169738380"
      },
      "outputs": [
        {
          "data": {
            "text/plain": [
              "(102, 99999938)"
            ]
          },
          "execution_count": 25,
          "metadata": {},
          "output_type": "execute_result"
        }
      ],
      "source": [
        "sorted_big_list[0], sorted_big_list[-1]  # we can find min and max in O(1) CONSTANT time! assuming the list is sorted\n",
        "# we could have as many items as memory allows"
      ]
    },
    {
      "cell_type": "code",
      "execution_count": 27,
      "metadata": {},
      "outputs": [
        {
          "name": "stdout",
          "output_type": "stream",
          "text": [
            "40.2 ns ± 1.63 ns per loop (mean ± std. dev. of 7 runs, 10,000,000 loops each)\n"
          ]
        }
      ],
      "source": [
        "%%timeit\n",
        "## thus I could find max in sorted list in O(1) time - just get the last item\n",
        "sorted_big_list[-1]"
      ]
    },
    {
      "cell_type": "code",
      "execution_count": 28,
      "metadata": {
        "colab": {
          "base_uri": "https://localhost:8080/"
        },
        "id": "dygHgOAFM-BD",
        "outputId": "c77a3fda-e852-4a01-9a13-455aba7ebd2e"
      },
      "outputs": [
        {
          "data": {
            "text/plain": [
              "[False,\n",
              " False,\n",
              " False,\n",
              " False,\n",
              " False,\n",
              " False,\n",
              " False,\n",
              " False,\n",
              " False,\n",
              " False,\n",
              " False,\n",
              " False,\n",
              " False,\n",
              " False,\n",
              " False,\n",
              " False,\n",
              " False,\n",
              " False,\n",
              " False,\n",
              " False,\n",
              " False,\n",
              " False,\n",
              " False,\n",
              " False,\n",
              " False,\n",
              " False,\n",
              " False,\n",
              " False,\n",
              " False,\n",
              " False,\n",
              " False,\n",
              " False,\n",
              " False,\n",
              " False,\n",
              " False,\n",
              " False,\n",
              " False,\n",
              " False,\n",
              " False,\n",
              " False,\n",
              " False,\n",
              " False,\n",
              " False,\n",
              " False,\n",
              " False,\n",
              " False,\n",
              " False,\n",
              " False,\n",
              " False,\n",
              " False,\n",
              " False,\n",
              " False,\n",
              " False,\n",
              " False,\n",
              " False,\n",
              " False,\n",
              " False,\n",
              " False,\n",
              " False,\n",
              " False,\n",
              " False,\n",
              " False,\n",
              " False,\n",
              " False,\n",
              " False,\n",
              " False,\n",
              " False,\n",
              " False,\n",
              " False,\n",
              " False,\n",
              " False,\n",
              " False,\n",
              " False,\n",
              " False,\n",
              " False,\n",
              " False,\n",
              " False,\n",
              " False,\n",
              " False,\n",
              " False,\n",
              " False,\n",
              " False,\n",
              " False,\n",
              " False,\n",
              " False,\n",
              " False,\n",
              " False,\n",
              " False,\n",
              " False,\n",
              " False,\n",
              " False,\n",
              " False,\n",
              " False,\n",
              " False,\n",
              " False,\n",
              " False,\n",
              " False,\n",
              " False,\n",
              " False,\n",
              " False,\n",
              " False,\n",
              " False,\n",
              " False,\n",
              " False,\n",
              " False,\n",
              " False,\n",
              " False,\n",
              " False,\n",
              " False,\n",
              " False,\n",
              " False,\n",
              " False,\n",
              " False,\n",
              " False,\n",
              " False,\n",
              " False,\n",
              " False,\n",
              " False,\n",
              " False,\n",
              " False,\n",
              " False,\n",
              " False,\n",
              " False,\n",
              " False,\n",
              " False,\n",
              " False,\n",
              " False,\n",
              " False,\n",
              " False,\n",
              " True,\n",
              " False,\n",
              " False,\n",
              " False,\n",
              " False,\n",
              " False,\n",
              " False,\n",
              " False,\n",
              " False,\n",
              " False,\n",
              " False,\n",
              " False,\n",
              " False,\n",
              " False,\n",
              " False,\n",
              " False,\n",
              " False,\n",
              " False,\n",
              " False,\n",
              " False,\n",
              " False,\n",
              " False,\n",
              " False,\n",
              " False,\n",
              " False,\n",
              " False,\n",
              " False,\n",
              " False,\n",
              " False,\n",
              " False,\n",
              " False,\n",
              " False,\n",
              " False,\n",
              " False,\n",
              " False,\n",
              " False,\n",
              " False,\n",
              " False,\n",
              " False,\n",
              " False,\n",
              " False,\n",
              " False,\n",
              " False,\n",
              " False,\n",
              " False,\n",
              " False,\n",
              " False,\n",
              " False,\n",
              " False,\n",
              " False,\n",
              " False,\n",
              " False,\n",
              " False,\n",
              " False,\n",
              " False,\n",
              " False,\n",
              " False,\n",
              " False,\n",
              " False,\n",
              " False,\n",
              " False,\n",
              " False,\n",
              " False,\n",
              " False,\n",
              " False,\n",
              " False,\n",
              " False,\n",
              " False,\n",
              " False,\n",
              " False,\n",
              " False]"
            ]
          },
          "execution_count": 28,
          "metadata": {},
          "output_type": "execute_result"
        }
      ],
      "source": [
        "# How about finding some value in a list\n",
        "# i make a list of booleans to see if any values are in range from 9000 until 9199\n",
        "over_9000 = [n in big_list for n in range(9000,9200)]\n",
        "over_9000"
      ]
    },
    {
      "cell_type": "code",
      "execution_count": 29,
      "metadata": {
        "colab": {
          "base_uri": "https://localhost:8080/"
        },
        "id": "eFrx1bp4M-BD",
        "outputId": "83d783ea-0e5d-46ad-894e-70a5ece2ba66"
      },
      "outputs": [
        {
          "data": {
            "text/plain": [
              "True"
            ]
          },
          "execution_count": 29,
          "metadata": {},
          "output_type": "execute_result"
        }
      ],
      "source": [
        "True in over_9000"
      ]
    },
    {
      "cell_type": "code",
      "execution_count": 30,
      "metadata": {
        "colab": {
          "base_uri": "https://localhost:8080/"
        },
        "id": "UJXTvrD0M-BD",
        "outputId": "d08535b1-3e3d-408a-f9a1-2c15e74a0ccf"
      },
      "outputs": [
        {
          "data": {
            "text/plain": [
              "129"
            ]
          },
          "execution_count": 30,
          "metadata": {},
          "output_type": "execute_result"
        }
      ],
      "source": [
        "over_9000.index(True)"
      ]
    },
    {
      "cell_type": "code",
      "execution_count": 31,
      "metadata": {
        "colab": {
          "base_uri": "https://localhost:8080/"
        },
        "id": "3QvdVySnjZuO",
        "outputId": "5be45790-499a-48f0-8ed4-9905e86d76ee"
      },
      "outputs": [
        {
          "data": {
            "text/plain": [
              "1"
            ]
          },
          "execution_count": 31,
          "metadata": {},
          "output_type": "execute_result"
        }
      ],
      "source": [
        "# how many are in range 9000 to 9199\n",
        "sum(over_9000)"
      ]
    },
    {
      "cell_type": "code",
      "execution_count": 32,
      "metadata": {
        "colab": {
          "base_uri": "https://localhost:8080/"
        },
        "id": "kkn9C78xjGql",
        "outputId": "50606d9d-2930-4503-aab3-47f1e51ad472"
      },
      "outputs": [
        {
          "data": {
            "text/plain": [
              "(False, True)"
            ]
          },
          "execution_count": 32,
          "metadata": {},
          "output_type": "execute_result"
        }
      ],
      "source": [
        "9128 in big_list, 9129 in big_list"
      ]
    },
    {
      "cell_type": "code",
      "execution_count": 33,
      "metadata": {
        "colab": {
          "base_uri": "https://localhost:8080/"
        },
        "id": "obO1N8Y5M-BE",
        "outputId": "1b2c0a9e-dd54-4644-c389-77fe81f1d746"
      },
      "outputs": [
        {
          "name": "stdout",
          "output_type": "stream",
          "text": [
            "10.4 ms ± 314 µs per loop (mean ± std. dev. of 7 runs, 100 loops each)\n"
          ]
        }
      ],
      "source": [
        "%%timeit\n",
        "9129 in big_list # so this check took a while"
      ]
    },
    {
      "cell_type": "code",
      "execution_count": 34,
      "metadata": {
        "colab": {
          "base_uri": "https://localhost:8080/"
        },
        "id": "cvEVSy4mM-BE",
        "outputId": "70072c53-0dd9-4aac-ff26-e4884cb83c02"
      },
      "outputs": [
        {
          "name": "stdout",
          "output_type": "stream",
          "text": [
            "921 ns ± 21.4 ns per loop (mean ± std. dev. of 7 runs, 1,000,000 loops each)\n"
          ]
        }
      ],
      "source": [
        "%%timeit\n",
        "9129 in sorted_big_list"
      ]
    },
    {
      "cell_type": "code",
      "execution_count": 35,
      "metadata": {
        "id": "43xRmhk-NzY_"
      },
      "outputs": [
        {
          "name": "stdout",
          "output_type": "stream",
          "text": [
            "Index of 9129 in unsorted list 891828\n",
            "Index of 9129 in sorted list 94\n"
          ]
        }
      ],
      "source": [
        "# let's check indexes of both lists\n",
        "print(\"Index of 9129 in unsorted list\", big_list.index(9129))\n",
        "print(\"Index of 9129 in sorted list\", sorted_big_list.index(9129))"
      ]
    },
    {
      "cell_type": "code",
      "execution_count": null,
      "metadata": {},
      "outputs": [],
      "source": []
    },
    {
      "cell_type": "code",
      "execution_count": 37,
      "metadata": {
        "colab": {
          "base_uri": "https://localhost:8080/"
        },
        "id": "kVg5JlvEM-BF",
        "outputId": "7064c171-fd9c-4c1c-d1b0-d074c14c6369"
      },
      "outputs": [
        {
          "data": {
            "text/plain": [
              "(891828, 94)"
            ]
          },
          "execution_count": 37,
          "metadata": {},
          "output_type": "execute_result"
        }
      ],
      "source": [
        "# why is finding 9129 so much faster in sorted list in this case?\n",
        "big_list.index(9129),sorted_big_list.index(9129)"
      ]
    },
    {
      "cell_type": "code",
      "execution_count": 38,
      "metadata": {
        "colab": {
          "base_uri": "https://localhost:8080/"
        },
        "id": "xB6Ecgcmj8eh",
        "outputId": "7a491059-22f6-4d95-a721-03f103dbbc4d"
      },
      "outputs": [
        {
          "data": {
            "text/plain": [
              "[99999266, 99999353, 99999851, 99999855, 99999938]"
            ]
          },
          "execution_count": 38,
          "metadata": {},
          "output_type": "execute_result"
        }
      ],
      "source": [
        "sorted_big_list[-5:] # last five values"
      ]
    },
    {
      "cell_type": "code",
      "execution_count": 39,
      "metadata": {
        "colab": {
          "base_uri": "https://localhost:8080/"
        },
        "id": "DDcRVxPBkDKS",
        "outputId": "ee61f9ba-0a5f-409d-936f-5a50880feed2"
      },
      "outputs": [
        {
          "name": "stdout",
          "output_type": "stream",
          "text": [
            "68 ms ± 9.08 ms per loop (mean ± std. dev. of 7 runs, 10 loops each)\n"
          ]
        }
      ],
      "source": [
        "%%timeit\n",
        "99999938 in sorted_big_list"
      ]
    },
    {
      "cell_type": "code",
      "execution_count": 40,
      "metadata": {
        "colab": {
          "base_uri": "https://localhost:8080/"
        },
        "id": "jyXymNpZkOQl",
        "outputId": "91893fcf-ba7b-40fe-d9bb-b8b1c46784d9"
      },
      "outputs": [
        {
          "name": "stdout",
          "output_type": "stream",
          "text": [
            "12.7 ms ± 175 µs per loop (mean ± std. dev. of 7 runs, 100 loops each)\n"
          ]
        }
      ],
      "source": [
        "%%timeit\n",
        "99999938 in big_list"
      ]
    },
    {
      "cell_type": "code",
      "execution_count": 43,
      "metadata": {
        "colab": {
          "base_uri": "https://localhost:8080/"
        },
        "id": "lmAoHkZGOOqj",
        "outputId": "591f17b4-26ec-43f0-e0a1-493e6ad2d77d"
      },
      "outputs": [
        {
          "data": {
            "text/plain": [
              "(544926, 999999)"
            ]
          },
          "execution_count": 43,
          "metadata": {},
          "output_type": "execute_result"
        }
      ],
      "source": [
        "# so in this case finding something in unsorted list was faster\n",
        "# because it was found earlier, naturally when it was sorted it was at the very end\n",
        "big_list.index(99999938), sorted_big_list.index(99999938)"
      ]
    },
    {
      "cell_type": "code",
      "execution_count": null,
      "metadata": {
        "id": "Gbab_CvxkUXw"
      },
      "outputs": [],
      "source": [
        "# Can we do better for membership testing in sorted list?\n",
        "# in an unsorted list we have to spend O(n) time, meaning the more items we have the longer we search"
      ]
    },
    {
      "cell_type": "code",
      "execution_count": 44,
      "metadata": {
        "id": "WymuZ-YVM-BF"
      },
      "outputs": [],
      "source": [
        "# this is the best way if you need to do a lot of memerbership testing\n",
        "big_set = set(big_list) # another data structure based on hashmap"
      ]
    },
    {
      "cell_type": "code",
      "execution_count": 45,
      "metadata": {
        "colab": {
          "base_uri": "https://localhost:8080/"
        },
        "id": "b3XWSfpNM-BF",
        "outputId": "9a3c3b24-73e5-4f1c-f4b2-ffe9f55685a3"
      },
      "outputs": [
        {
          "name": "stdout",
          "output_type": "stream",
          "text": [
            "53.5 ns ± 0.96 ns per loop (mean ± std. dev. of 7 runs, 10000000 loops each)\n"
          ]
        }
      ],
      "source": [
        "%%timeit\n",
        "99999983 in big_set\n"
      ]
    },
    {
      "cell_type": "code",
      "execution_count": 46,
      "metadata": {
        "colab": {
          "base_uri": "https://localhost:8080/"
        },
        "id": "M8seBQg1kfy-",
        "outputId": "530807d8-6aa8-4344-acf7-66c2a5d7fe3d"
      },
      "outputs": [
        {
          "name": "stdout",
          "output_type": "stream",
          "text": [
            "57.6 ns ± 1.84 ns per loop (mean ± std. dev. of 7 runs, 10000000 loops each)\n"
          ]
        }
      ],
      "source": [
        "%%timeit\n",
        "-14124215151 in big_set"
      ]
    },
    {
      "cell_type": "code",
      "execution_count": null,
      "metadata": {
        "id": "8FrB50ygM-BG"
      },
      "outputs": [],
      "source": [
        "# Key takeaway - choosing a right data structure can be crucial\n",
        "# in set is O(1) lookup\n",
        "# in list is O(n) - on average, sometimes the value is found quickly sometimes you have to go through whole list"
      ]
    },
    {
      "cell_type": "code",
      "execution_count": null,
      "metadata": {
        "id": "Fj_pQqyMM-BG",
        "outputId": "c81a09df-c343-49d8-ff5f-e31878d85d7f"
      },
      "outputs": [
        {
          "name": "stdout",
          "output_type": "stream",
          "text": [
            "20.8 ms ± 782 µs per loop (mean ± std. dev. of 7 runs, 10 loops each)\n"
          ]
        }
      ],
      "source": [
        "%%timeit\n",
        "9000 in big_list"
      ]
    },
    {
      "cell_type": "code",
      "execution_count": null,
      "metadata": {
        "id": "59lAkXCPM-BH",
        "outputId": "bb157d53-e7dd-4a0b-bb57-ce22ce80151f"
      },
      "outputs": [
        {
          "name": "stdout",
          "output_type": "stream",
          "text": [
            "90.3 ns ± 10.2 ns per loop (mean ± std. dev. of 7 runs, 10000000 loops each)\n"
          ]
        }
      ],
      "source": [
        "%%timeit\n",
        "9000 in big_set"
      ]
    },
    {
      "cell_type": "code",
      "execution_count": null,
      "metadata": {
        "id": "1n-ThLDAM-BH",
        "outputId": "c7923aea-fca8-4f12-a442-d91ec1d99b1f"
      },
      "outputs": [
        {
          "name": "stdout",
          "output_type": "stream",
          "text": [
            "11.2 ms ± 86.2 µs per loop (mean ± std. dev. of 7 runs, 100 loops each)\n"
          ]
        }
      ],
      "source": [
        "%%timeit\n",
        "count = 100_000\n",
        "nums = [] # lets image we do not know about list comprehension\n",
        "for n in range(count):\n",
        "    nums.append(n)\n",
        "nums.reverse() # in place number reversal\n",
        "# of course list(range(count))\n",
        "# nums[:10]"
      ]
    },
    {
      "cell_type": "code",
      "execution_count": null,
      "metadata": {
        "id": "Taw_RB3sM-BH"
      },
      "outputs": [],
      "source": [
        "# can we try to do better ? why reverse if we could already make reverse immediate...."
      ]
    },
    {
      "cell_type": "code",
      "execution_count": null,
      "metadata": {
        "id": "SjfdjM1hM-BI",
        "outputId": "dc6f91fb-b0a1-4147-9539-8c4bc1d24a03"
      },
      "outputs": [
        {
          "name": "stdout",
          "output_type": "stream",
          "text": [
            "3.78 s ± 9.68 ms per loop (mean ± std. dev. of 7 runs, 1 loop each)\n"
          ]
        }
      ],
      "source": [
        "%%timeit\n",
        "count = 100_000\n",
        "nums2 = []\n",
        "for n in range(count):\n",
        "    nums2.insert(0, n)\n",
        "    "
      ]
    },
    {
      "cell_type": "code",
      "execution_count": null,
      "metadata": {
        "id": "r1YQDhfxM-BI",
        "outputId": "1da73168-70cb-48a2-f651-6a61715c20a3"
      },
      "outputs": [
        {
          "data": {
            "text/plain": [
              "([999999, 999998, 999997, 999996, 999995], [99999, 99998, 99997, 99996, 99995])"
            ]
          },
          "execution_count": 59,
          "metadata": {},
          "output_type": "execute_result"
        }
      ],
      "source": [
        "nums[:5],nums2[:5]"
      ]
    },
    {
      "cell_type": "code",
      "execution_count": null,
      "metadata": {
        "id": "BGZzc05Nleer"
      },
      "outputs": [],
      "source": [
        "# if we did not have set we could use binary search in a sorted list"
      ]
    },
    {
      "cell_type": "code",
      "execution_count": null,
      "metadata": {
        "id": "DRwwKuNflkie"
      },
      "outputs": [],
      "source": [
        "# pseudo code for binary search\n",
        "# check if needle is bigger or lesser than middle of sorted collection\n",
        "# check the appropriate half"
      ]
    },
    {
      "cell_type": "code",
      "execution_count": 47,
      "metadata": {
        "id": "4M-4b-moQWoY"
      },
      "outputs": [],
      "source": [
        "import math"
      ]
    },
    {
      "cell_type": "code",
      "execution_count": 48,
      "metadata": {
        "colab": {
          "base_uri": "https://localhost:8080/"
        },
        "id": "NA4VpH1DQZbq",
        "outputId": "4af95398-9334-4024-9f59-a00adcedb355"
      },
      "outputs": [
        {
          "data": {
            "text/plain": [
              "(8.0, 10.0)"
            ]
          },
          "execution_count": 48,
          "metadata": {},
          "output_type": "execute_result"
        }
      ],
      "source": [
        "math.log2(256), math.log2(1024)"
      ]
    },
    {
      "cell_type": "code",
      "execution_count": 49,
      "metadata": {
        "colab": {
          "base_uri": "https://localhost:8080/"
        },
        "id": "Lu9TunHzQogP",
        "outputId": "b92b3009-104e-4255-cb80-fbdabf82c8bb"
      },
      "outputs": [
        {
          "data": {
            "text/plain": [
              "10000000000000000000000000000000000000000000000000000000000000000000000000000000000000000000000000000"
            ]
          },
          "execution_count": 49,
          "metadata": {},
          "output_type": "execute_result"
        }
      ],
      "source": [
        "10**100 # Googol https://en.wikipedia.org/wiki/Googol"
      ]
    },
    {
      "cell_type": "code",
      "execution_count": 50,
      "metadata": {
        "colab": {
          "base_uri": "https://localhost:8080/"
        },
        "id": "A0KWCXYLQduI",
        "outputId": "253987ee-f8ff-420c-bdd9-06ab9acf298d"
      },
      "outputs": [
        {
          "data": {
            "text/plain": [
              "(19.931568569324174, 29.897352853986263, 332.19280948873626)"
            ]
          },
          "execution_count": 50,
          "metadata": {},
          "output_type": "execute_result"
        }
      ],
      "source": [
        "math.log2(1_000_000),math.log2(1_000_000_000),math.log2(10**100) # 1 with 100 zeroes"
      ]
    },
    {
      "cell_type": "code",
      "execution_count": 55,
      "metadata": {
        "id": "2waybW61l6O8"
      },
      "outputs": [],
      "source": [
        "def is_needle_in_seq(seq, needle, debug=False):\n",
        "    \"\"\"\n",
        "    seq should be sorted and indexable!!!\n",
        "    needle can be or not be in the seq\n",
        "    \"\"\"\n",
        "    start = 0\n",
        "    end = len(seq)-1 # len can hide linear complexity in some structures... not here\n",
        "    \n",
        "    # now we will make a while loop\n",
        "    while start <= end:\n",
        "        mid = (end+start) // 2  # // means no reminder , integer division\n",
        "        if needle == seq[mid]:\n",
        "            if debug:\n",
        "                print(\"Found it at index\", mid)\n",
        "            return True\n",
        "        elif needle > seq[mid]:\n",
        "            start = mid + 1\n",
        "        elif needle < seq[mid]: # else would work here just as well\n",
        "            end = mid - 1\n",
        "    if debug:\n",
        "        print(\"Sorry did  not find your needle\", needle)\n",
        "    return False"
      ]
    },
    {
      "cell_type": "code",
      "execution_count": null,
      "metadata": {
        "id": "xkxb-yuGQVo-"
      },
      "outputs": [],
      "source": []
    },
    {
      "cell_type": "code",
      "execution_count": 52,
      "metadata": {
        "colab": {
          "base_uri": "https://localhost:8080/"
        },
        "id": "MX-GjsORnyii",
        "outputId": "b4b73fa7-eaed-4d32-eac9-73401cadf6ff"
      },
      "outputs": [
        {
          "name": "stdout",
          "output_type": "stream",
          "text": [
            "Found it at index 94\n"
          ]
        },
        {
          "data": {
            "text/plain": [
              "True"
            ]
          },
          "execution_count": 52,
          "metadata": {},
          "output_type": "execute_result"
        }
      ],
      "source": [
        "is_needle_in_seq(sorted_big_list, 9129)"
      ]
    },
    {
      "cell_type": "code",
      "execution_count": 53,
      "metadata": {
        "colab": {
          "base_uri": "https://localhost:8080/"
        },
        "id": "Uc63Vz0dpHHY",
        "outputId": "0e801e97-8987-421d-d27a-00a87dfe6bfd"
      },
      "outputs": [
        {
          "data": {
            "text/plain": [
              "False"
            ]
          },
          "execution_count": 53,
          "metadata": {},
          "output_type": "execute_result"
        }
      ],
      "source": [
        "9024 in sorted_big_list"
      ]
    },
    {
      "cell_type": "code",
      "execution_count": 56,
      "metadata": {
        "colab": {
          "base_uri": "https://localhost:8080/"
        },
        "id": "dcBtYRCIRbCL",
        "outputId": "1b5771ff-cdd3-4608-f529-6b94f952ebae"
      },
      "outputs": [
        {
          "name": "stdout",
          "output_type": "stream",
          "text": [
            "5.96 µs ± 65.6 ns per loop (mean ± std. dev. of 7 runs, 100000 loops each)\n"
          ]
        }
      ],
      "source": [
        "%%timeit\n",
        "is_needle_in_seq(sorted_big_list, 9129)"
      ]
    },
    {
      "cell_type": "markdown",
      "metadata": {
        "id": "4yzxPg7FM-BI"
      },
      "source": [
        "# What is GCD?\n",
        "## the largest number that divides two numbers evenly (no reminder)\n",
        "## 12 8 will have GCD of 4, and 21, 18, will have GCD of 3"
      ]
    },
    {
      "cell_type": "markdown",
      "metadata": {
        "id": "R6vS2ZseM-BI"
      },
      "source": [
        "# one algorithm to solve would be this\n",
        "* divide numbers in prime factors\n",
        "* GCD will be the common prime factors in both numbers multiplied"
      ]
    },
    {
      "cell_type": "code",
      "execution_count": null,
      "metadata": {
        "id": "DiSOFH-qM-BJ"
      },
      "outputs": [],
      "source": [
        "# GCD or 30 and 12 would be 6 because:\n",
        "# 30 = 2*3*5\n",
        "# 12 = 2*2*3\n",
        "# so GCD is 2*3\n",
        "# the only catch being that you have to find prime factors for a number\n",
        "# well"
      ]
    },
    {
      "cell_type": "code",
      "execution_count": null,
      "metadata": {
        "id": "Jqn3bYKjM-BJ"
      },
      "outputs": [],
      "source": [
        "# if we did not know about Euclid\n",
        "# brute force algorithm\n",
        "def naiveGCD(x, y):\n",
        "    gcd = 1 # so 1 will always be a fallback GCD\n",
        "    for n in range(2, min(x,y)+1): # also those off by one errors you have to watch out\n",
        "        if x%n == 0 and y%n ==0:\n",
        "            gcd = n # wow we got a new high gcd\n",
        "    return gcd"
      ]
    },
    {
      "cell_type": "code",
      "execution_count": null,
      "metadata": {
        "colab": {
          "base_uri": "https://localhost:8080/"
        },
        "id": "tP3YkeMdM-BJ",
        "outputId": "60b02e79-19af-4bfb-d861-f3364fb169c0"
      },
      "outputs": [
        {
          "data": {
            "text/plain": [
              "4"
            ]
          },
          "execution_count": 49,
          "metadata": {},
          "output_type": "execute_result"
        }
      ],
      "source": [
        "naiveGCD(12,8)"
      ]
    },
    {
      "cell_type": "code",
      "execution_count": null,
      "metadata": {
        "colab": {
          "base_uri": "https://localhost:8080/"
        },
        "id": "5rkbg-4cM-BK",
        "outputId": "c908f0e9-074b-4e23-8823-53becf39ab29"
      },
      "outputs": [
        {
          "data": {
            "text/plain": [
              "6"
            ]
          },
          "execution_count": 50,
          "metadata": {},
          "output_type": "execute_result"
        }
      ],
      "source": [
        "naiveGCD(30,12)"
      ]
    },
    {
      "cell_type": "code",
      "execution_count": null,
      "metadata": {
        "colab": {
          "base_uri": "https://localhost:8080/"
        },
        "id": "afT0le3sM-BK",
        "outputId": "114a3f76-52c2-4e40-8f53-ee915f847737"
      },
      "outputs": [
        {
          "name": "stdout",
          "output_type": "stream",
          "text": [
            "78.6 ms ± 1.28 ms per loop (mean ± std. dev. of 7 runs, 10 loops each)\n"
          ]
        }
      ],
      "source": [
        "%%timeit\n",
        "naiveGCD(10_000_200,900_000)"
      ]
    },
    {
      "cell_type": "code",
      "execution_count": null,
      "metadata": {
        "id": "ycBTLwl0M-BL"
      },
      "outputs": [],
      "source": [
        "# This 2000 years old algorithm\n",
        "# https://en.wikipedia.org/wiki/Euclidean_algorithm"
      ]
    },
    {
      "cell_type": "code",
      "execution_count": null,
      "metadata": {
        "id": "2U9yrtBwM-BL"
      },
      "outputs": [],
      "source": [
        "def gcd(x, y):\n",
        "    while(y):\n",
        "        x, y = y, x % y # calculate the reminder and then swap the values, in other languages you'd use a temp variable\n",
        "    return x"
      ]
    },
    {
      "cell_type": "code",
      "execution_count": null,
      "metadata": {
        "id": "-Ots9_rXqDSy"
      },
      "outputs": [],
      "source": []
    },
    {
      "cell_type": "code",
      "execution_count": null,
      "metadata": {
        "colab": {
          "base_uri": "https://localhost:8080/"
        },
        "id": "IzrOh88TM-BL",
        "outputId": "f064a597-eb4a-45e4-d6d7-aaa489bd31fb"
      },
      "outputs": [
        {
          "data": {
            "text/plain": [
              "600"
            ]
          },
          "execution_count": 54,
          "metadata": {},
          "output_type": "execute_result"
        }
      ],
      "source": [
        "gcd(10_000_200,900_000)"
      ]
    },
    {
      "cell_type": "code",
      "execution_count": null,
      "metadata": {
        "colab": {
          "base_uri": "https://localhost:8080/"
        },
        "id": "R0U1j1P3M-BM",
        "outputId": "19bd58dc-e99c-47ac-8fdd-d1eef594fab5"
      },
      "outputs": [
        {
          "name": "stdout",
          "output_type": "stream",
          "text": [
            "581 ns ± 10 ns per loop (mean ± std. dev. of 7 runs, 1000000 loops each)\n"
          ]
        }
      ],
      "source": [
        "%%timeit\n",
        "gcd(10_000_200,900_000)"
      ]
    },
    {
      "cell_type": "code",
      "execution_count": null,
      "metadata": {
        "colab": {
          "base_uri": "https://localhost:8080/"
        },
        "id": "trnxxyLpM-BM",
        "outputId": "232fe852-f2d9-47a0-d495-46a940ae8367"
      },
      "outputs": [
        {
          "data": {
            "text/plain": [
              "4"
            ]
          },
          "execution_count": 56,
          "metadata": {},
          "output_type": "execute_result"
        }
      ],
      "source": [
        "gcd(12, 8)"
      ]
    },
    {
      "cell_type": "code",
      "execution_count": null,
      "metadata": {
        "colab": {
          "base_uri": "https://localhost:8080/"
        },
        "id": "Lb-bC86-M-BM",
        "outputId": "58e29309-d784-4160-a5a2-ac8895d339e0"
      },
      "outputs": [
        {
          "data": {
            "text/plain": [
              "3"
            ]
          },
          "execution_count": 57,
          "metadata": {},
          "output_type": "execute_result"
        }
      ],
      "source": [
        "gcd(21,18)"
      ]
    },
    {
      "cell_type": "code",
      "execution_count": null,
      "metadata": {
        "colab": {
          "base_uri": "https://localhost:8080/"
        },
        "id": "DP5-W3f_M-BN",
        "outputId": "26cf0ab4-9ae8-4ed0-e585-07055ecfe1d8"
      },
      "outputs": [
        {
          "data": {
            "text/plain": [
              "1"
            ]
          },
          "execution_count": 58,
          "metadata": {},
          "output_type": "execute_result"
        }
      ],
      "source": [
        "gcd(100, 93)"
      ]
    },
    {
      "cell_type": "code",
      "execution_count": null,
      "metadata": {
        "colab": {
          "base_uri": "https://localhost:8080/"
        },
        "id": "c3uQ1r2MM-BN",
        "outputId": "9aaa8bf1-493a-4906-9f93-1eef84ab62e5"
      },
      "outputs": [
        {
          "data": {
            "text/plain": [
              "2"
            ]
          },
          "execution_count": 59,
          "metadata": {},
          "output_type": "execute_result"
        }
      ],
      "source": [
        "gcd(10, 8)"
      ]
    },
    {
      "cell_type": "code",
      "execution_count": null,
      "metadata": {
        "colab": {
          "base_uri": "https://localhost:8080/"
        },
        "id": "ODWG3GQGM-BN",
        "outputId": "bf0f9636-d795-4088-e69f-109e73a1f209"
      },
      "outputs": [
        {
          "data": {
            "text/plain": [
              "12"
            ]
          },
          "execution_count": 60,
          "metadata": {},
          "output_type": "execute_result"
        }
      ],
      "source": [
        "gcd(24,12)"
      ]
    }
  ],
  "metadata": {
    "colab": {
      "collapsed_sections": [
        "4yzxPg7FM-BI",
        "R6vS2ZseM-BI"
      ],
      "name": "Introduction_to_Algorithms.ipynb",
      "provenance": []
    },
    "kernelspec": {
      "display_name": "Python 3",
      "language": "python",
      "name": "python3"
    },
    "language_info": {
      "codemirror_mode": {
        "name": "ipython",
        "version": 3
      },
      "file_extension": ".py",
      "mimetype": "text/x-python",
      "name": "python",
      "nbconvert_exporter": "python",
      "pygments_lexer": "ipython3",
      "version": "3.10.7"
    }
  },
  "nbformat": 4,
  "nbformat_minor": 0
}
