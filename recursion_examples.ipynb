{
  "cells": [
    {
      "cell_type": "markdown",
      "metadata": {
        "id": "vyo3P7BOg246"
      },
      "source": [
        "# Recursion examples\n",
        "\n",
        "adopted from: https://github.com/rasbt/algorithms_in_ipython_notebooks\n",
        "\n",
        "https://github.com/AbhishekSinhaCoder/Data-Structures-Concepts-through-Notebook"
      ]
    },
    {
      "cell_type": "markdown",
      "metadata": {
        "id": "b3WIZabXg24_"
      },
      "source": [
        "# Examples using Recursion"
      ]
    },
    {
      "cell_type": "markdown",
      "metadata": {
        "id": "2epyKFR-g24_"
      },
      "source": [
        "**Important Note**\n",
        "\n",
        "For most cases, using function recursion should be avoided in Python are better be implemented using for/while loops most of the time (although, I must admit that recursive solutions do look elegant). One of the reasons is that stacking recursive calls can easily blow up memory or at least result in the popular yet nasty \"RuntimeError: maximum recursion depth exceeded\". Also, keep in mind that Python does not optimize tail recursion in favor of having the full tracebacks for debugging; related to that, please see Guido van Rossums blog posts \"[Tail Recursion Elimination](http://neopythonic.blogspot.com.au/2009/04/tail-recursion-elimination.html)\" and \"[Final Words on Tail Calls](http://neopythonic.blogspot.com.au/2009/04/final-words-on-tail-calls.html).\" If you do like to play around with recursion more efficiently, I highly recommend taking a look at [Haskell](https://www.haskell.org) or other functional programming languages. That being said, below are some examples of recursive function implementations in Python for illustrative purposes."
      ]
    },
    {
      "cell_type": "markdown",
      "metadata": {
        "id": "92oVoFP6g25A"
      },
      "source": [
        "## Review: Running time and big-$\\mathcal{O}$: Recursive Algorithms for Computing Powers\n",
        "\n",
        "As example of the use of linear recursion, we consider the problem of raising a number $x$ to an arbitrary nonnegative integer, $n$. That is, we wish to compute the power function, defined as $power(x,n) = xn$. (We use the name “power” for this discussion, to differentiate from the built-in Python function _pow_ that provides such functionality.) We will consider two different recursive formulations for the problem that lead to algorithms with very different performance.\n",
        "A trivial recursive definition follows from the fact that $x^n = x \\cdot x^{n−1}$ for $n > 0$.\n",
        "\n",
        "\n",
        "\\begin{equation}\n",
        "power(x,n) ==\\left\\{\n",
        "                \\begin{array}{ll}\n",
        "                        1 \\ if \\ n = 0\\\\\n",
        "                        x \\ power(x, n − 1) \\ otherwise.\n",
        "                \\end{array}\n",
        "              \\right.\n",
        "\\end{equation}\n",
        "\n",
        "This definition leads to a recursive algorithm shown below:"
      ]
    },
    {
      "cell_type": "code",
      "execution_count": null,
      "metadata": {
        "id": "zcgA1_fJg25B"
      },
      "outputs": [],
      "source": [
        "# in case we did not know about Pythons x**n statement :)"
      ]
    },
    {
      "cell_type": "code",
      "execution_count": 1,
      "metadata": {
        "colab": {
          "base_uri": "https://localhost:8080/"
        },
        "id": "gpllds2_g25C",
        "outputId": "2de44e98-d256-4927-9982-f905dfa6f982"
      },
      "outputs": [
        {
          "data": {
            "text/plain": [
              "256"
            ]
          },
          "execution_count": 1,
          "metadata": {},
          "output_type": "execute_result"
        }
      ],
      "source": [
        "2**8"
      ]
    },
    {
      "cell_type": "code",
      "execution_count": 2,
      "metadata": {},
      "outputs": [
        {
          "data": {
            "text/plain": [
              "1"
            ]
          },
          "execution_count": 2,
          "metadata": {},
          "output_type": "execute_result"
        }
      ],
      "source": [
        "554524352**0 # our base case"
      ]
    },
    {
      "cell_type": "code",
      "execution_count": null,
      "metadata": {
        "id": "3PeqrPoOg25C"
      },
      "outputs": [],
      "source": [
        "# so the idea is to reduce the problem to a simpler instance of the same problem\n",
        "## to start with we need a base case\n",
        "## so base case for power would be x to 0 which is 1"
      ]
    },
    {
      "cell_type": "code",
      "execution_count": 3,
      "metadata": {
        "colab": {
          "base_uri": "https://localhost:8080/"
        },
        "id": "BM9mM8yBg25D",
        "outputId": "38e62f87-e650-4d99-efc1-dafd64289b9c"
      },
      "outputs": [
        {
          "data": {
            "text/plain": [
              "1"
            ]
          },
          "execution_count": 3,
          "metadata": {},
          "output_type": "execute_result"
        }
      ],
      "source": [
        "2**0"
      ]
    },
    {
      "cell_type": "markdown",
      "metadata": {
        "id": "kCT51rdgnnUK"
      },
      "source": [
        "## Basic (naive) power function - recursive"
      ]
    },
    {
      "cell_type": "code",
      "execution_count": 1,
      "metadata": {
        "id": "L0eRo9Eog25D"
      },
      "outputs": [],
      "source": [
        "def basicpower(x, n):\n",
        "    '''Compute the value x**n for integer n.\n",
        "    n - has to be a non-negative integer''' \n",
        "    if n == 0:\n",
        "        return 1 # base case without base case our recursive function will run forever\n",
        "    else:\n",
        "        return x  * basicpower(x, n-1) # our recursive call so we are calling the function on itself on a smaller problem space"
      ]
    },
    {
      "cell_type": "code",
      "execution_count": 4,
      "metadata": {
        "colab": {
          "base_uri": "https://localhost:8080/"
        },
        "id": "a1_VXKJnh_fW",
        "outputId": "c3f4bf1c-6fb5-4ba9-dcd6-4757dd2dd867"
      },
      "outputs": [
        {
          "data": {
            "text/plain": [
              "256"
            ]
          },
          "execution_count": 4,
          "metadata": {},
          "output_type": "execute_result"
        }
      ],
      "source": [
        "basicpower(2, 8)"
      ]
    },
    {
      "cell_type": "markdown",
      "metadata": {
        "id": "H6g3qPgDg25E"
      },
      "source": [
        "# How to make a recursive function in two easy steps\n",
        "* figure out the base case\n",
        "* figure out how to reduce problem to a subset of the same problem"
      ]
    },
    {
      "cell_type": "markdown",
      "metadata": {
        "id": "dITIs2wxg25F"
      },
      "source": [
        "A recursive call to this version of power(x,n) runs in $\\mathcal{O}(n)$ time."
      ]
    },
    {
      "cell_type": "code",
      "execution_count": 5,
      "metadata": {},
      "outputs": [
        {
          "data": {
            "text/plain": [
              "10715086071862673209484250490600018105614048117055336074437503883703510511249361224931983788156958581275946729175531468251871452856923140435984577574698574803934567774824230985421074605062371141877954182153046474983581941267398767559165543946077062914571196477686542167660429831652624386837205668069376"
            ]
          },
          "execution_count": 5,
          "metadata": {},
          "output_type": "execute_result"
        }
      ],
      "source": [
        "2**1000"
      ]
    },
    {
      "cell_type": "code",
      "execution_count": 6,
      "metadata": {},
      "outputs": [
        {
          "name": "stdout",
          "output_type": "stream",
          "text": [
            "Number of digits is 302\n"
          ]
        }
      ],
      "source": [
        "print(f\"Number of digits is {len(str(2**1000))}\")"
      ]
    },
    {
      "cell_type": "code",
      "execution_count": 2,
      "metadata": {},
      "outputs": [
        {
          "data": {
            "text/plain": [
              "10715086071862673209484250490600018105614048117055336074437503883703510511249361224931983788156958581275946729175531468251871452856923140435984577574698574803934567774824230985421074605062371141877954182153046474983581941267398767559165543946077062914571196477686542167660429831652624386837205668069376"
            ]
          },
          "execution_count": 2,
          "metadata": {},
          "output_type": "execute_result"
        }
      ],
      "source": [
        "basicpower(2,1000)"
      ]
    },
    {
      "cell_type": "code",
      "execution_count": 3,
      "metadata": {},
      "outputs": [
        {
          "data": {
            "text/plain": [
              "375828023454801203683362418972386504867736551759258677056523839782231681498337708535732725752658844333702457749526057760309227891351617765651907310968780236464694043316236562146724416478591131832593729111221580180531749232777515579969899075142213969117994877343802049421624954402214529390781647563339535024772584901607666862982567918622849636160208877365834950163790188523026247440507390382032188892386109905869706753143243921198482212075444022433366554786856559389689585638126582377224037721702239991441466026185752651502936472280911018500320375496336749951569521541850441747925844066295279671872605285792552660130702047998218334749356321677469529682551765858267502715894007887727250070780350262952377214028842297486263597879792176338220932619489509376"
            ]
          },
          "execution_count": 3,
          "metadata": {},
          "output_type": "execute_result"
        }
      ],
      "source": [
        "basicpower(2, 2500)"
      ]
    },
    {
      "cell_type": "code",
      "execution_count": 7,
      "metadata": {},
      "outputs": [
        {
          "data": {
            "text/plain": [
              "1230231922161117176931558813276752514640713895736833715766118029160058800614672948775360067838593459582429649254051804908512884180898236823585082482065348331234959350355845017413023320111360666922624728239756880416434478315693675013413090757208690376793296658810662941824493488451726505303712916005346747908623702673480919353936813105736620402352744776903840477883651100322409301983488363802930540482487909763484098253940728685132044408863734754271212592471778643949486688511721051561970432780747454823776808464180697103083861812184348565522740195796682622205511845512080552010310050255801589349645928001133745474220715013683413907542779063759833876101354235184245096670042160720629411581502371248008430447184842098610320580417992206662247328722122088513643683907670360209162653670641130936997002170500675501374723998766005827579300723253474890612250135171889174899079911291512399773872178519018229989376"
            ]
          },
          "execution_count": 7,
          "metadata": {},
          "output_type": "execute_result"
        }
      ],
      "source": [
        "basicpower(2, 3000)"
      ]
    },
    {
      "cell_type": "code",
      "execution_count": 2,
      "metadata": {},
      "outputs": [
        {
          "ename": "",
          "evalue": "",
          "output_type": "error",
          "traceback": [
            "\u001b[1;31mThe Kernel crashed while executing code in the current cell or a previous cell. \n",
            "\u001b[1;31mPlease review the code in the cell(s) to identify a possible cause of the failure. \n",
            "\u001b[1;31mClick <a href='https://aka.ms/vscodeJupyterKernelCrash'>here</a> for more info. \n",
            "\u001b[1;31mView Jupyter <a href='command:jupyter.viewOutput'>log</a> for further details."
          ]
        }
      ],
      "source": [
        "for n in range(2000,3000, 10):\n",
        "    print(f\"Working on {n} and the number of digits is {len(str(basicpower(2,n)))}\")"
      ]
    },
    {
      "cell_type": "code",
      "execution_count": 8,
      "metadata": {
        "colab": {
          "base_uri": "https://localhost:8080/",
          "height": 386
        },
        "id": "kdMeUVfLg25F",
        "outputId": "7eae8b86-31c4-44c0-dd0e-90e88d108e9e"
      },
      "outputs": [
        {
          "name": "stdout",
          "output_type": "stream",
          "text": [
            "256 µs ± 9.2 µs per loop (mean ± std. dev. of 7 runs, 1,000 loops each)\n"
          ]
        }
      ],
      "source": [
        "%%timeit\n",
        "basicpower(2,1000)"
      ]
    },
    {
      "cell_type": "code",
      "execution_count": null,
      "metadata": {},
      "outputs": [],
      "source": []
    },
    {
      "cell_type": "code",
      "execution_count": 9,
      "metadata": {},
      "outputs": [
        {
          "name": "stdout",
          "output_type": "stream",
          "text": [
            "866 ns ± 54.8 ns per loop (mean ± std. dev. of 7 runs, 1,000,000 loops each)\n"
          ]
        }
      ],
      "source": [
        "%%timeit\n",
        "2**1000"
      ]
    },
    {
      "cell_type": "code",
      "execution_count": 10,
      "metadata": {},
      "outputs": [
        {
          "name": "stdout",
          "output_type": "stream",
          "text": [
            "19.1 µs ± 1.51 µs per loop (mean ± std. dev. of 7 runs, 10,000 loops each)\n"
          ]
        }
      ],
      "source": [
        "%%timeit\n",
        "basicpower(2,100)"
      ]
    },
    {
      "cell_type": "code",
      "execution_count": 11,
      "metadata": {},
      "outputs": [
        {
          "name": "stdout",
          "output_type": "stream",
          "text": [
            "147 ns ± 4.82 ns per loop (mean ± std. dev. of 7 runs, 10,000,000 loops each)\n"
          ]
        }
      ],
      "source": [
        "%%timeit\n",
        "2**100"
      ]
    },
    {
      "cell_type": "code",
      "execution_count": 12,
      "metadata": {},
      "outputs": [
        {
          "name": "stdout",
          "output_type": "stream",
          "text": [
            "885 ns ± 46.4 ns per loop (mean ± std. dev. of 7 runs, 1,000,000 loops each)\n"
          ]
        }
      ],
      "source": [
        "%%timeit\n",
        "basicpower(2,10)"
      ]
    },
    {
      "cell_type": "code",
      "execution_count": 14,
      "metadata": {},
      "outputs": [
        {
          "name": "stdout",
          "output_type": "stream",
          "text": [
            "9.9 ns ± 0.348 ns per loop (mean ± std. dev. of 7 runs, 100,000,000 loops each)\n"
          ]
        }
      ],
      "source": [
        "%%timeit\n",
        "2**10"
      ]
    },
    {
      "cell_type": "code",
      "execution_count": 4,
      "metadata": {
        "colab": {
          "base_uri": "https://localhost:8080/"
        },
        "id": "WDe5fVAdiiXZ",
        "outputId": "4ce785f2-96f9-464e-cfd0-64c4b5323c8b"
      },
      "outputs": [
        {
          "name": "stdout",
          "output_type": "stream",
          "text": [
            "3000\n"
          ]
        }
      ],
      "source": [
        "import sys\n",
        "print(sys.getrecursionlimit())"
      ]
    },
    {
      "cell_type": "code",
      "execution_count": 6,
      "metadata": {},
      "outputs": [
        {
          "name": "stdout",
          "output_type": "stream",
          "text": [
            "100000\n"
          ]
        }
      ],
      "source": [
        "sys.setrecursionlimit(100_000)\n",
        "print(sys.getrecursionlimit())"
      ]
    },
    {
      "cell_type": "code",
      "execution_count": 10,
      "metadata": {
        "colab": {
          "base_uri": "https://localhost:8080/"
        },
        "id": "xXwl6LbKilNk",
        "outputId": "8de4cbf3-3732-4bbe-f215-42877c08da90"
      },
      "outputs": [
        {
          "data": {
            "text/plain": [
              "9516908214257811601907599988159363584840065290620124537956939899622020205826587990689077212775400643774711832257235027522909345571487396529861315719055325605011013378863743193233193022939505515969530853007049198118833591724018432564205433218231411731277088674906521042072098232413978624"
            ]
          },
          "execution_count": 10,
          "metadata": {},
          "output_type": "execute_result"
        }
      ],
      "source": [
        "basicpower(2,950)"
      ]
    },
    {
      "cell_type": "code",
      "execution_count": 15,
      "metadata": {
        "id": "17_Lvvuui2pK"
      },
      "outputs": [],
      "source": [
        "sys.setrecursionlimit(6000)"
      ]
    },
    {
      "cell_type": "code",
      "execution_count": 15,
      "metadata": {
        "colab": {
          "base_uri": "https://localhost:8080/"
        },
        "id": "NS0cuVT8g25F",
        "outputId": "342bf19d-92c3-497c-bd79-65d3f0579c9c"
      },
      "outputs": [
        {
          "name": "stdout",
          "output_type": "stream",
          "text": [
            "263 µs ± 30 µs per loop (mean ± std. dev. of 7 runs, 1,000 loops each)\n"
          ]
        }
      ],
      "source": [
        "%%timeit\n",
        "basicpower(2,1000)"
      ]
    },
    {
      "cell_type": "code",
      "execution_count": 16,
      "metadata": {
        "colab": {
          "base_uri": "https://localhost:8080/"
        },
        "id": "QCH7sFtgi9IH",
        "outputId": "55f88258-7fe7-44ed-f250-308201e7d678"
      },
      "outputs": [
        {
          "name": "stdout",
          "output_type": "stream",
          "text": [
            "557 µs ± 17.6 µs per loop (mean ± std. dev. of 7 runs, 1,000 loops each)\n"
          ]
        }
      ],
      "source": [
        "%%timeit\n",
        "basicpower(2,2000)"
      ]
    },
    {
      "cell_type": "code",
      "execution_count": 17,
      "metadata": {
        "colab": {
          "base_uri": "https://localhost:8080/"
        },
        "id": "tzHI2BsTg25G",
        "outputId": "7ce6f5a7-8567-4823-91e7-79209ebe367c"
      },
      "outputs": [
        {
          "name": "stdout",
          "output_type": "stream",
          "text": [
            "1.38 ms ± 48.6 µs per loop (mean ± std. dev. of 7 runs, 1,000 loops each)\n"
          ]
        }
      ],
      "source": [
        "%%timeit\n",
        "basicpower(2,4000)"
      ]
    },
    {
      "cell_type": "code",
      "execution_count": 19,
      "metadata": {},
      "outputs": [
        {
          "data": {
            "text/plain": [
              "13182040934309431001038897942365913631840191610932727690928034502417569281128344551079752123172122033140940756480716823038446817694240581281731062452512184038544674444386888956328970642771993930036586552924249514488832183389415832375620009284922608946111038578754077913265440918583125586050431647284603636490823850007826811672468900210689104488089485347192152708820119765006125944858397761874669301278745233504796586994514054435217053803732703240283400815926169348364799472716094576894007243168662568886603065832486830606125017643356469732407252874567217733694824236675323341755681839221954693820456072020253884371226826844858636194212875139566587445390068014747975813971748114770439248826688667129237954128555841874460665729630492658600179338272579110020881228767361200603478973120168893997574353727653998969223092798255701666067972698906236921628764772837915526086464389161570534616956703744840502975279094087587298968423516531626090898389351449020056851221079048966718878943309232071978575639877208621237040940126912767610658141079378758043403611425454744180577150855204937163460902512732551260539639221457005977247266676344018155647509515396711351487546062479444592779055555421362722504575706910949376"
            ]
          },
          "execution_count": 19,
          "metadata": {},
          "output_type": "execute_result"
        }
      ],
      "source": [
        "basicpower(2,4000)"
      ]
    },
    {
      "cell_type": "code",
      "execution_count": 20,
      "metadata": {},
      "outputs": [
        {
          "data": {
            "text/plain": [
              "173766203193809456599982445949435627061939786100117250547173286503262376022458008465094333630120854338003194362163007597987225472483598640843335685441710193966274131338557192586399006789292714554767500194796127964596906605976605873665859580600161998556511368530960400907199253450604168622770350228527124626728538626805418833470107651091641919900725415994689920112219170907023561354484047025713734651608777544579846111001059482132180956689444108315785401642188044178788629853592228467331730519810763559577944882016286493908631503101121166109571682295769470379514531105239965209245314082665518579335511291525230373316486697786532335206274149240813489201828773854353041855598709390675430960381072270432383913542702130202430186637321862331068861776780211082856984506050024895394320139435868484643843368002496089956046419964019877586845530207748994394501505588146979082629871366088121763790555364513243984244004147636040219136443410377798011608722717131323621700159335786445601947601694025107888293017058178562647175461026384343438874861406516767158373279032321096262126551620255666605185789463207944391905756886829667520553014724372245300878786091700563444079107099009003380230356461989260377273986023281444076082783406824471703499844642915587790146384758051663547775336021829171033411043796977042190519657861762804226147480755555085278062866268677842432851421790544407006581148631979148571299417963950579210719961422405768071335213324842709316205032078384168750091017964584060285240107161561019930505687950233196051962261970932008838279760834318101044311710769457048672103958655016388894770892065267451228938951370237422841366052736174160431593023473217066764172949768821843606479073866252864377064398085101223216558344281956767163876579889759124956035672317578122141070933058555310274598884089982879647974020264495921703064439532898207943134374576254840272047075633856749514044298135927611328433323640657533550512376900773273703275329924651465759145114579174356770593439987135755889403613364529029604049868233807295134382284730745937309910703657676103447124097631074153287120040247837143656624045055614076111832245239612708339272798262887437416818440064925049838443370805645609424314780108030016683461562597569371539974003402697903023830108053034645133078208043917492087248958344081026378788915528519967248989338592027124423914083391771884524464968645052058218151010508471258285907685355807229880747677634789376"
            ]
          },
          "execution_count": 20,
          "metadata": {},
          "output_type": "execute_result"
        }
      ],
      "source": [
        "basicpower(2,8000)"
      ]
    },
    {
      "cell_type": "code",
      "execution_count": 21,
      "metadata": {},
      "outputs": [
        {
          "name": "stdout",
          "output_type": "stream",
          "text": [
            "3.6 ms ± 149 µs per loop (mean ± std. dev. of 7 runs, 100 loops each)\n"
          ]
        }
      ],
      "source": [
        "%%timeit\n",
        "basicpower(2,8000)"
      ]
    },
    {
      "cell_type": "code",
      "execution_count": 22,
      "metadata": {},
      "outputs": [
        {
          "name": "stdout",
          "output_type": "stream",
          "text": [
            "10.2 ms ± 330 µs per loop (mean ± std. dev. of 7 runs, 100 loops each)\n"
          ]
        }
      ],
      "source": [
        "%%timeit\n",
        "basicpower(2,16000)"
      ]
    },
    {
      "cell_type": "code",
      "execution_count": null,
      "metadata": {
        "id": "Fq0HFKT5g25G"
      },
      "outputs": [],
      "source": [
        "# not satisfied with performance of our basic power we have an improvement in mind"
      ]
    },
    {
      "cell_type": "markdown",
      "metadata": {
        "id": "yLiRf6iIniBE"
      },
      "source": [
        "## Improved Power Function"
      ]
    },
    {
      "cell_type": "code",
      "execution_count": 25,
      "metadata": {
        "id": "7-Tpf-DLg25G"
      },
      "outputs": [],
      "source": [
        "\n",
        "def power(x, n):\n",
        "    '''Compute the value x**n for integer n.''' \n",
        "    if n == 0: # this is our base case\n",
        "        return 1 \n",
        "    else:\n",
        "        partial = power(x, n // 2) # remember that x^4*x^4 == x^8 or (x^4)^2 == x^(4*2) == x^8\n",
        "        result = partial * partial # so x^4*x^4 == x^8\n",
        "    if n % 2 == 1:  # for odd powers we need to multiply by the number\n",
        "        result *= x # so x^9 = x^4 * x^4 * x\n",
        "    return result"
      ]
    },
    {
      "cell_type": "code",
      "execution_count": 23,
      "metadata": {},
      "outputs": [
        {
          "data": {
            "text/plain": [
              "0.25"
            ]
          },
          "execution_count": 23,
          "metadata": {},
          "output_type": "execute_result"
        }
      ],
      "source": [
        "2**(-2) # our functions do not support it yet"
      ]
    },
    {
      "cell_type": "code",
      "execution_count": 26,
      "metadata": {
        "colab": {
          "base_uri": "https://localhost:8080/"
        },
        "id": "XYOLUdpmg25G",
        "outputId": "30e98fe5-c98a-416d-fee8-90fab83cd1ed"
      },
      "outputs": [
        {
          "data": {
            "text/plain": [
              "256"
            ]
          },
          "execution_count": 26,
          "metadata": {},
          "output_type": "execute_result"
        }
      ],
      "source": [
        "power(2,8)"
      ]
    },
    {
      "cell_type": "code",
      "execution_count": 27,
      "metadata": {
        "colab": {
          "base_uri": "https://localhost:8080/"
        },
        "id": "n-op6Wwig25H",
        "outputId": "7708346d-ce38-4785-a4e1-e1735388d40e"
      },
      "outputs": [
        {
          "data": {
            "text/plain": [
              "512"
            ]
          },
          "execution_count": 27,
          "metadata": {},
          "output_type": "execute_result"
        }
      ],
      "source": [
        "power(2,9)"
      ]
    },
    {
      "cell_type": "code",
      "execution_count": 28,
      "metadata": {},
      "outputs": [
        {
          "data": {
            "text/plain": [
              "(1, 2, 4)"
            ]
          },
          "execution_count": 28,
          "metadata": {},
          "output_type": "execute_result"
        }
      ],
      "source": [
        "power(2,0),power(2,1),power(2,2)"
      ]
    },
    {
      "cell_type": "code",
      "execution_count": 29,
      "metadata": {},
      "outputs": [
        {
          "data": {
            "text/plain": [
              "19950631168807583848837421626835850838234968318861924548520089498529438830221946631919961684036194597899331129423209124271556491349413781117593785932096323957855730046793794526765246551266059895520550086918193311542508608460618104685509074866089624888090489894838009253941633257850621568309473902556912388065225096643874441046759871626985453222868538161694315775629640762836880760732228535091641476183956381458969463899410840960536267821064621427333394036525565649530603142680234969400335934316651459297773279665775606172582031407994198179607378245683762280037302885487251900834464581454650557929601414833921615734588139257095379769119277800826957735674444123062018757836325502728323789270710373802866393031428133241401624195671690574061419654342324638801248856147305207431992259611796250130992860241708340807605932320161268492288496255841312844061536738951487114256315111089745514203313820202931640957596464756010405845841566072044962867016515061920631004186422275908670900574606417856951911456055068251250406007519842261898059237118054444788072906395242548339221982707404473162376760846613033778706039803413197133493654622700563169937455508241780972810983291314403571877524768509857276937926433221599399876886660808368837838027643282775172273657572744784112294389733810861607423253291974813120197604178281965697475898164531258434135959862784130128185406283476649088690521047580882615823961985770122407044330583075869039319604603404973156583208672105913300903752823415539745394397715257455290510212310947321610753474825740775273986348298498340756937955646638621874569499279016572103701364433135817214311791398222983845847334440270964182851005072927748364550578634501100852987812389473928699540834346158807043959118985815145779177143619698728131459483783202081474982171858011389071228250905826817436220577475921417653715687725614904582904992461028630081535583308130101987675856234343538955409175623400844887526162643568648833519463720377293240094456246923254350400678027273837755376406726898636241037491410966718557050759098100246789880178271925953381282421954028302759408448955014676668389697996886241636313376393903373455801407636741877711055384225739499110186468219696581651485130494222369947714763069155468217682876200362777257723781365331611196811280792669481887201298643660768551639860534602297871557517947385246369446923087894265948217008051120322365496288169035739121368338393591756418733850510970271613915439590991598154654417336311656936031122249937969999226781732358023111862644575299135758175008199839236284615249881088960232244362173771618086357015468484058622329792853875623486556440536962622018963571028812361567512543338303270029097668650568557157505516727518899194129711337690149916181315171544007728650573189557450920330185304847113818315407324053319038462084036421763703911550639789000742853672196280903477974533320468368795868580237952218629120080742819551317948157624448298518461509704888027274721574688131594750409732115080498190455803416826949787141316063210686391511681774304792596709376"
            ]
          },
          "execution_count": 29,
          "metadata": {},
          "output_type": "execute_result"
        }
      ],
      "source": [
        "power(2,10_000)"
      ]
    },
    {
      "cell_type": "code",
      "execution_count": 31,
      "metadata": {
        "id": "_7GO7neRg25H"
      },
      "outputs": [],
      "source": [
        "import math\n"
      ]
    },
    {
      "cell_type": "code",
      "execution_count": 32,
      "metadata": {
        "colab": {
          "base_uri": "https://localhost:8080/"
        },
        "id": "p001vTOxg25H",
        "outputId": "f118deed-7a77-4780-9a33-13e5dd143db8"
      },
      "outputs": [
        {
          "data": {
            "text/plain": [
              "10.0"
            ]
          },
          "execution_count": 32,
          "metadata": {},
          "output_type": "execute_result"
        }
      ],
      "source": [
        "math.log2(1024)"
      ]
    },
    {
      "cell_type": "code",
      "execution_count": null,
      "metadata": {},
      "outputs": [],
      "source": []
    },
    {
      "cell_type": "code",
      "execution_count": 33,
      "metadata": {},
      "outputs": [
        {
          "data": {
            "text/plain": [
              "13.287712379549449"
            ]
          },
          "execution_count": 33,
          "metadata": {},
          "output_type": "execute_result"
        }
      ],
      "source": [
        "# so for 10_000 we need 14 recursive calls\n",
        "math.log2(10_000)"
      ]
    },
    {
      "cell_type": "code",
      "execution_count": 34,
      "metadata": {
        "colab": {
          "base_uri": "https://localhost:8080/"
        },
        "id": "hDMJ_wfog25H",
        "outputId": "d51559c2-93f1-4118-8c14-847e7670afe2"
      },
      "outputs": [
        {
          "data": {
            "text/plain": [
              "20.0"
            ]
          },
          "execution_count": 34,
          "metadata": {},
          "output_type": "execute_result"
        }
      ],
      "source": [
        "math.log2(1024*1024) # for Million we need 20 recursive calls"
      ]
    },
    {
      "cell_type": "code",
      "execution_count": 35,
      "metadata": {
        "colab": {
          "base_uri": "https://localhost:8080/"
        },
        "id": "lz6Q4R5Cg25H",
        "outputId": "513506c4-b2ae-4c52-eb47-e13e31b9589b"
      },
      "outputs": [
        {
          "data": {
            "text/plain": [
              "332.19280948873626"
            ]
          },
          "execution_count": 35,
          "metadata": {},
          "output_type": "execute_result"
        }
      ],
      "source": [
        "math.log2(10**100) # log n of googool that is 10 with 100 zeros more than atoms in the universe"
      ]
    },
    {
      "cell_type": "markdown",
      "metadata": {},
      "source": [
        "## Googool - sidenote on history\n",
        "\n",
        "Invention of the term \"googol\" is attributed to the nine-year-old nephew of mathematician Edward Kasner. The term was introduced in his 1940 book \"Mathematics and the Imagination\" and is used to describe a very large number. The term \"googolplex\" was coined to describe an even larger number, namely $10^{googol}$, or equivalently, $10^{10^{100}}$. The number of atoms in the observable universe is estimated to be around $10^{80}$.\n",
        "\n",
        "The term was coined in 1920 by 9-year-old Milton Sirotta (1911–1981), nephew of U.S. mathematician Edward Kasner.\n",
        "Src: https://en.wikipedia.org/wiki/Googol"
      ]
    },
    {
      "cell_type": "code",
      "execution_count": null,
      "metadata": {
        "id": "4vQzBnBmg25I"
      },
      "outputs": [],
      "source": [
        "# so if we were playing the guess the number with yes and no questions we could figure out any number up to googool in 333 questions\n",
        "\n",
        "# not bad when we consider that number of atoms in Universe is something 10**80"
      ]
    },
    {
      "cell_type": "code",
      "execution_count": 36,
      "metadata": {
        "colab": {
          "base_uri": "https://localhost:8080/"
        },
        "id": "qtizfdtvg25I",
        "outputId": "cc5e108b-f7a5-4db6-d515-00d4bea35a69"
      },
      "outputs": [
        {
          "name": "stdout",
          "output_type": "stream",
          "text": [
            "2.34 µs ± 80.3 ns per loop (mean ± std. dev. of 7 runs, 100,000 loops each)\n"
          ]
        }
      ],
      "source": [
        "%%timeit\n",
        "power(2,1000)"
      ]
    },
    {
      "cell_type": "code",
      "execution_count": 37,
      "metadata": {},
      "outputs": [
        {
          "name": "stdout",
          "output_type": "stream",
          "text": [
            "871 ns ± 16 ns per loop (mean ± std. dev. of 7 runs, 1,000,000 loops each)\n"
          ]
        }
      ],
      "source": [
        "%%timeit\n",
        "2**1000"
      ]
    },
    {
      "cell_type": "code",
      "execution_count": 38,
      "metadata": {},
      "outputs": [
        {
          "name": "stdout",
          "output_type": "stream",
          "text": [
            "289 µs ± 16.4 µs per loop (mean ± std. dev. of 7 runs, 1,000 loops each)\n"
          ]
        }
      ],
      "source": [
        "%%timeit\n",
        "basicpower(2,1000)"
      ]
    },
    {
      "cell_type": "code",
      "execution_count": 39,
      "metadata": {
        "colab": {
          "base_uri": "https://localhost:8080/"
        },
        "id": "1UV9BcFxg25I",
        "outputId": "c11b1379-260c-416f-fcfe-6d5b59b53492"
      },
      "outputs": [
        {
          "name": "stdout",
          "output_type": "stream",
          "text": [
            "3.5 µs ± 177 ns per loop (mean ± std. dev. of 7 runs, 100,000 loops each)\n"
          ]
        }
      ],
      "source": [
        "%%timeit\n",
        "power(2,2000)"
      ]
    },
    {
      "cell_type": "code",
      "execution_count": 40,
      "metadata": {
        "colab": {
          "base_uri": "https://localhost:8080/"
        },
        "id": "-bbjy5QtkDua",
        "outputId": "39543945-5a69-4e1f-f2f5-ef17e6af1f4b"
      },
      "outputs": [
        {
          "name": "stdout",
          "output_type": "stream",
          "text": [
            "6.91 µs ± 187 ns per loop (mean ± std. dev. of 7 runs, 100,000 loops each)\n"
          ]
        }
      ],
      "source": [
        "%%timeit\n",
        "power(2,4000)"
      ]
    },
    {
      "cell_type": "code",
      "execution_count": 41,
      "metadata": {
        "colab": {
          "base_uri": "https://localhost:8080/"
        },
        "id": "Yf6sgkeLg25I",
        "outputId": "3d5e96ab-173b-4f77-cea9-a07ee85b55be"
      },
      "outputs": [
        {
          "name": "stdout",
          "output_type": "stream",
          "text": [
            "8.23 ms ± 354 µs per loop (mean ± std. dev. of 7 runs, 100 loops each)\n"
          ]
        }
      ],
      "source": [
        "%%timeit\n",
        "power(2,2_000_000)"
      ]
    },
    {
      "cell_type": "code",
      "execution_count": 42,
      "metadata": {},
      "outputs": [
        {
          "ename": "ValueError",
          "evalue": "Exceeds the limit (4300 digits) for integer string conversion; use sys.set_int_max_str_digits() to increase the limit",
          "output_type": "error",
          "traceback": [
            "\u001b[1;31m---------------------------------------------------------------------------\u001b[0m",
            "\u001b[1;31mValueError\u001b[0m                                Traceback (most recent call last)",
            "Cell \u001b[1;32mIn[42], line 2\u001b[0m\n\u001b[0;32m      1\u001b[0m \u001b[38;5;66;03m# catch is that we are starting to deal with huuuge numbers\u001b[39;00m\n\u001b[1;32m----> 2\u001b[0m \u001b[38;5;28mprint\u001b[39m(\u001b[38;5;124mf\u001b[39m\u001b[38;5;124m\"\u001b[39m\u001b[38;5;124mNumber of digits is \u001b[39m\u001b[38;5;132;01m{\u001b[39;00m\u001b[38;5;28mlen\u001b[39m(\u001b[38;5;28;43mstr\u001b[39;49m\u001b[43m(\u001b[49m\u001b[43mpower\u001b[49m\u001b[43m(\u001b[49m\u001b[38;5;241;43m2\u001b[39;49m\u001b[43m,\u001b[49m\u001b[38;5;241;43m2_000_000\u001b[39;49m\u001b[43m)\u001b[49m\u001b[43m)\u001b[49m)\u001b[38;5;132;01m}\u001b[39;00m\u001b[38;5;124m\"\u001b[39m)\n",
            "\u001b[1;31mValueError\u001b[0m: Exceeds the limit (4300 digits) for integer string conversion; use sys.set_int_max_str_digits() to increase the limit"
          ]
        }
      ],
      "source": [
        "# catch is that we are starting to deal with huuuge numbers\n",
        "print(f\"Number of digits is {len(str(power(2,2_000_000)))}\")"
      ]
    },
    {
      "cell_type": "code",
      "execution_count": 46,
      "metadata": {},
      "outputs": [
        {
          "data": {
            "text/plain": [
              "1000000"
            ]
          },
          "execution_count": 46,
          "metadata": {},
          "output_type": "execute_result"
        }
      ],
      "source": [
        "sys.set_int_max_str_digits(1_000_000)\n",
        "sys.get_int_max_str_digits()"
      ]
    },
    {
      "cell_type": "code",
      "execution_count": 47,
      "metadata": {},
      "outputs": [
        {
          "name": "stdout",
          "output_type": "stream",
          "text": [
            "Number of digits is 602060\n"
          ]
        }
      ],
      "source": [
        "# catch is that we are starting to deal with huuuge numbers\n",
        "print(f\"Number of digits is {len(str(power(2,2_000_000)))}\")"
      ]
    },
    {
      "cell_type": "code",
      "execution_count": 48,
      "metadata": {},
      "outputs": [
        {
          "data": {
            "text/plain": [
              "3.321928094887362"
            ]
          },
          "execution_count": 48,
          "metadata": {},
          "output_type": "execute_result"
        }
      ],
      "source": [
        "math.log2(10)"
      ]
    },
    {
      "cell_type": "code",
      "execution_count": 49,
      "metadata": {},
      "outputs": [
        {
          "data": {
            "text/plain": [
              "2000000.0288078852"
            ]
          },
          "execution_count": 49,
          "metadata": {},
          "output_type": "execute_result"
        }
      ],
      "source": [
        "3.321928094887362*602060"
      ]
    },
    {
      "cell_type": "code",
      "execution_count": 28,
      "metadata": {
        "colab": {
          "base_uri": "https://localhost:8080/"
        },
        "id": "iHu36-Rzk47z",
        "outputId": "0322ac49-1277-4ade-83ed-4240c110adce"
      },
      "outputs": [
        {
          "name": "stdout",
          "output_type": "stream",
          "text": [
            "The slowest run took 4.55 times longer than the fastest. This could mean that an intermediate result is being cached.\n",
            "1000000 loops, best of 5: 831 ns per loop\n"
          ]
        }
      ],
      "source": [
        "%%timeit\n",
        "2**1000"
      ]
    },
    {
      "cell_type": "code",
      "execution_count": 29,
      "metadata": {
        "colab": {
          "base_uri": "https://localhost:8080/"
        },
        "id": "t7kWrfcilCFq",
        "outputId": "0c1f4618-3c63-4da5-f65f-05e90701829c"
      },
      "outputs": [
        {
          "name": "stdout",
          "output_type": "stream",
          "text": [
            "1000000 loops, best of 5: 1.8 µs per loop\n"
          ]
        }
      ],
      "source": [
        "%%timeit\n",
        "2**2000"
      ]
    },
    {
      "cell_type": "code",
      "execution_count": 30,
      "metadata": {
        "colab": {
          "base_uri": "https://localhost:8080/"
        },
        "id": "Ucvznre4lKQE",
        "outputId": "17b0fe61-d3e0-45ec-fd96-fffd5673f539"
      },
      "outputs": [
        {
          "name": "stdout",
          "output_type": "stream",
          "text": [
            "100 loops, best of 5: 8.71 ms per loop\n"
          ]
        }
      ],
      "source": [
        "%%timeit\n",
        "2**2_000_000"
      ]
    },
    {
      "cell_type": "code",
      "execution_count": 31,
      "metadata": {
        "colab": {
          "base_uri": "https://localhost:8080/"
        },
        "id": "DeDm5OFxlcJU",
        "outputId": "9cf213e7-a211-40f0-d2a0-2cdb1b583db4"
      },
      "outputs": [
        {
          "data": {
            "text/plain": [
              "256.0"
            ]
          },
          "execution_count": 31,
          "metadata": {},
          "output_type": "execute_result"
        }
      ],
      "source": [
        "math.pow(2,8)"
      ]
    },
    {
      "cell_type": "code",
      "execution_count": 50,
      "metadata": {
        "colab": {
          "base_uri": "https://localhost:8080/"
        },
        "id": "yYIb_xfqli6p",
        "outputId": "c130e8f3-b44a-48f7-b408-592502f14a5e"
      },
      "outputs": [
        {
          "name": "stdout",
          "output_type": "stream",
          "text": [
            "191 ns ± 5.57 ns per loop (mean ± std. dev. of 7 runs, 10,000,000 loops each)\n"
          ]
        }
      ],
      "source": [
        "%%timeit\n",
        "math.pow(2,1_000)"
      ]
    },
    {
      "cell_type": "code",
      "execution_count": 33,
      "metadata": {
        "colab": {
          "base_uri": "https://localhost:8080/"
        },
        "id": "QqTa_QqElqNx",
        "outputId": "b12f54c4-0843-49e7-f8f4-7c49d51f916a"
      },
      "outputs": [
        {
          "data": {
            "text/plain": [
              "1.0715086071862673e+301"
            ]
          },
          "execution_count": 33,
          "metadata": {},
          "output_type": "execute_result"
        }
      ],
      "source": [
        "math.pow(2,1_000)"
      ]
    },
    {
      "cell_type": "code",
      "execution_count": 34,
      "metadata": {
        "colab": {
          "base_uri": "https://localhost:8080/"
        },
        "id": "yiNTKbizlt0b",
        "outputId": "0cc3afae-93b5-4a6c-a140-495421d3661e"
      },
      "outputs": [
        {
          "data": {
            "text/plain": [
              "10715086071862673209484250490600018105614048117055336074437503883703510511249361224931983788156958581275946729175531468251871452856923140435984577574698574803934567774824230985421074605062371141877954182153046474983581941267398767559165543946077062914571196477686542167660429831652624386837205668069376"
            ]
          },
          "execution_count": 34,
          "metadata": {},
          "output_type": "execute_result"
        }
      ],
      "source": [
        "2**1_000"
      ]
    },
    {
      "cell_type": "code",
      "execution_count": 41,
      "metadata": {
        "colab": {
          "base_uri": "https://localhost:8080/"
        },
        "id": "dUV_m7oblzJ7",
        "outputId": "72964f3a-20e4-42be-9ca0-bf2ed2b9fd8a"
      },
      "outputs": [
        {
          "name": "stdout",
          "output_type": "stream",
          "text": [
            "The slowest run took 30.28 times longer than the fastest. This could mean that an intermediate result is being cached.\n",
            "1000000 loops, best of 5: 241 ns per loop\n"
          ]
        }
      ],
      "source": [
        "%%timeit\n",
        "math.pow(2,1_010)"
      ]
    },
    {
      "cell_type": "markdown",
      "metadata": {
        "id": "5M5fSDvng25I"
      },
      "source": [
        "To analyze the running time of the revised algorithm, we observe that the exponent in each recursive call of function power(x,n) is at most half of the preceding exponent. As we saw with the analysis of binary search, the number of times that we can divide $n$ in half before getting to one or less is $\\mathcal{O}(log n)$. Therefore, our new formulation of the power function results in $\\mathcal{O}(logn)$ recursive calls. Each individual activation of the function uses $\\mathcal{O}(1)$ operations (excluding the recursive calls), and so the total number of operations for computing power(x,n) is O(logn). This is a significant improvement over the original $\\mathcal{O}(n)$-time algorithm.\n",
        "\n",
        "**Exercise:** Test the two functions with a timer and see the difference. Identify the base case and stopping conditions."
      ]
    },
    {
      "cell_type": "code",
      "execution_count": null,
      "metadata": {
        "id": "dgQt-3s2g25J"
      },
      "outputs": [],
      "source": [
        "# so we got the famous stack overflow\n",
        "# technically we could adjust the recursion depth in Python but it would not really help in the long run"
      ]
    },
    {
      "cell_type": "code",
      "execution_count": null,
      "metadata": {
        "id": "tOQDOKGUg25J"
      },
      "outputs": [],
      "source": [
        "%%timeit\n",
        "power(2,100_000)"
      ]
    },
    {
      "cell_type": "code",
      "execution_count": null,
      "metadata": {
        "id": "QKRPqdQJg25J"
      },
      "outputs": [],
      "source": [
        "%%timeit\n",
        "2**100_000"
      ]
    },
    {
      "cell_type": "code",
      "execution_count": null,
      "metadata": {
        "id": "gMT2Kelhg25J"
      },
      "outputs": [],
      "source": [
        "%%timeit\n",
        "power(2,1_000_000)"
      ]
    },
    {
      "cell_type": "code",
      "execution_count": null,
      "metadata": {
        "id": "J3O53srSg25J"
      },
      "outputs": [],
      "source": [
        "%%timeit\n",
        "2**1_000_000"
      ]
    },
    {
      "cell_type": "markdown",
      "metadata": {
        "id": "fm85Fo4Ag25J"
      },
      "source": [
        "# We humans operate better on visual data - 1 picture and 1000 words"
      ]
    },
    {
      "cell_type": "code",
      "execution_count": 51,
      "metadata": {},
      "outputs": [],
      "source": [
        "# in python we can pass functions as arguments\n",
        "import matplotlib.pyplot as plt\n",
        "import time\n",
        "from IPython.utils import io as iuio"
      ]
    },
    {
      "cell_type": "code",
      "execution_count": 58,
      "metadata": {
        "id": "AY7uwayQg25K"
      },
      "outputs": [
        {
          "name": "stdout",
          "output_type": "stream",
          "text": [
            "testing function_1 with the automatic measure\n",
            "run-time for function 1 result in nanoseconds: \n",
            "[0.0009963512420654297, 0.0009922981262207031, 0.0019998550415039062]\n"
          ]
        }
      ],
      "source": [
        "\n",
        "def automatic_time(input_array, func_name):\n",
        "    # input_array contains all elements of input,\n",
        "    #   preferably sorted from small to big,\n",
        "    #   each element could also be a tuple, which is requried\n",
        "    #   for functions that need more than 1 input\n",
        "    # func_name is the name of the function (as object, not str)\n",
        "    # this function also suppresses printing output from the {func_name}\n",
        "    ret = []\n",
        "    for val in input_array:\n",
        "#         print(time.process_time_ns())\n",
        "#         start = time.process_time()\n",
        "        start = time.time()\n",
        "\n",
        "        with iuio.capture_output() as suppressed: # suppress output from the function\n",
        "            if isinstance(val, tuple):\n",
        "                _ = func_name(*val) #unrolling the tuple to pass multiple arguments to our function\n",
        "                # func_name(*val) #unrolling the tuple to pass multiple arguments to our function\n",
        "            else:\n",
        "                _ = func_name(val) # just a single argument function\n",
        "                # func_name(val) # just a single argument function\n",
        "                \n",
        "        ret.append((time.time() - start)) # 10e9 converts unit from second to nanosecond\n",
        "    return ret\n",
        "\n",
        "my_input_arr = [(2,1_000),(2,2_000),(4,4_000)] # so our inputs are tuples of (base, power)\n",
        "print(\"testing function_1 with the automatic measure\")\n",
        "print(f\"run-time for function 1 result in seconds: \\n{automatic_time(my_input_arr, basicpower)}\")"
      ]
    },
    {
      "cell_type": "code",
      "execution_count": 60,
      "metadata": {
        "id": "TfApv7Bsg25K"
      },
      "outputs": [],
      "source": [
        "seconds = time.time()"
      ]
    },
    {
      "cell_type": "code",
      "execution_count": 61,
      "metadata": {},
      "outputs": [
        {
          "data": {
            "text/plain": [
              "54.0"
            ]
          },
          "execution_count": 61,
          "metadata": {},
          "output_type": "execute_result"
        }
      ],
      "source": [
        "seconds // 60 // 60 // 24 // 365\n",
        "# so around 54 years since start of the epoch which was in 1970"
      ]
    },
    {
      "cell_type": "code",
      "execution_count": 62,
      "metadata": {},
      "outputs": [],
      "source": [
        "# there is year 2038 problem based on this epoch\n",
        "# so we will have to deal with it at some point\n",
        "# https://en.wikipedia.org/wiki/Year_2038_problem\n",
        "# similar to Y2K problem (https://en.wikipedia.org/wiki/Year_2000_problem) but for 2038"
      ]
    },
    {
      "cell_type": "code",
      "execution_count": 65,
      "metadata": {
        "colab": {
          "base_uri": "https://localhost:8080/",
          "height": 281
        },
        "id": "bumFvwBWg25K",
        "outputId": "014bd2f4-126b-44c3-bd45-94bb3ba9f08a"
      },
      "outputs": [
        {
          "data": {
            "image/png": "[encoded data removed]",
            "text/plain": [
              "<Figure size 640x480 with 1 Axes>"
            ]
          },
          "metadata": {},
          "output_type": "display_data"
        }
      ],
      "source": [
        "input_arr = [(2,i) for i in range(100, 50_000+1, 100)] # we will use list comprehension to generate our input\n",
        "\n",
        "# input_arr_t = [(i,i) for i in range(1, 1000)]\n",
        "\n",
        "# fun1 = automatic_time(input_arr, function_1)\n",
        "results = automatic_time(input_arr, basicpower) # this is our naive function\n",
        "results_2 = automatic_time(input_arr, power) # this is our improved function\n",
        "# fun3 = automatic_time(input_arr, function_3)\n",
        "# fun4 = automatic_time(input_arr_t, function_4)\n",
        "# fun5 = automatic_time(input_arr_t, function_5)\n",
        "\n",
        "plt.plot([el[1] for el in input_arr], results, color=\"red\") # we only want to see the i as x\n",
        "plt.plot([el[1] for el in input_arr], results_2, color=\"blue\") # we only want to see the i as x\n",
        "plt.xlabel(\"input size\")\n",
        "plt.ylabel(\"running time in seconds\")\n",
        "# add legend\n",
        "plt.legend([\"basicpower\", \"power\"])\n",
        "plt.show()"
      ]
    },
    {
      "cell_type": "code",
      "execution_count": 66,
      "metadata": {
        "colab": {
          "base_uri": "https://localhost:8080/",
          "height": 283
        },
        "id": "gwi88tvUg25K",
        "outputId": "417d38b5-3b3a-4314-e244-4ab2fca1e120"
      },
      "outputs": [
        {
          "data": {
            "image/png": "[encoded data removed]",
            "text/plain": [
              "<Figure size 640x480 with 1 Axes>"
            ]
          },
          "metadata": {},
          "output_type": "display_data"
        }
      ],
      "source": [
        "input_arr = [(2,i) for i in range(100_000, 20_000_000, 100_000)]\n",
        "\n",
        "results = automatic_time(input_arr, power)\n",
        "# mathpow_results = automatic_time(input_arr, math.pow) # math.pow does n ot like large powers\n",
        "\n",
        "plt.plot([el[1] for el in input_arr], results)\n",
        "# plt.plot([el[1] for el in input_arr], mathpow_results)\n",
        "plt.xlabel(\"input size\")\n",
        "plt.ylabel(\"running time in seconds\")\n",
        "plt.show()"
      ]
    },
    {
      "cell_type": "code",
      "execution_count": 20,
      "metadata": {
        "colab": {
          "base_uri": "https://localhost:8080/",
          "height": 279
        },
        "id": "yfdHt21QoEX9",
        "outputId": "3a3431f9-2b8e-40fb-e1f7-8343a442becf"
      },
      "outputs": [
        {
          "data": {
            "image/png": "[encoded data removed]",
            "text/plain": [
              "<Figure size 432x288 with 1 Axes>"
            ]
          },
          "metadata": {
            "needs_background": "light"
          },
          "output_type": "display_data"
        }
      ],
      "source": [
        "input_arr = [(2,i) for i in range(1_000, 100_000, 1_000)]\n",
        "\n",
        "results = automatic_time(input_arr, power)\n",
        "# mathpow_results = automatic_time(input_arr, math.pow) # math.pow does n ot like large powers\n",
        "\n",
        "plt.plot([el[1] for el in input_arr], results)\n",
        "# plt.plot([el[1] for el in input_arr], mathpow_results)\n",
        "plt.xlabel(\"input size\")\n",
        "plt.ylabel(\"running time in seconds\")\n",
        "plt.show()"
      ]
    },
    {
      "cell_type": "code",
      "execution_count": null,
      "metadata": {
        "id": "1tq0h7qxg25L"
      },
      "outputs": [],
      "source": [
        "math.pow(2,800_000)"
      ]
    },
    {
      "cell_type": "markdown",
      "metadata": {
        "id": "I0YqzuEyg25L"
      },
      "source": [
        "# so it certainly looks linear but the jumps in our speed indicates how OS and computer hardware might affect an algorithm in real life"
      ]
    },
    {
      "cell_type": "markdown",
      "metadata": {
        "id": "Y20PkNpEg25L"
      },
      "source": [
        "## Factorial"
      ]
    },
    {
      "cell_type": "code",
      "execution_count": 47,
      "metadata": {
        "id": "8Wqy0YSYg25L"
      },
      "outputs": [],
      "source": [
        "# so again base case for stopping will be 1"
      ]
    },
    {
      "cell_type": "code",
      "execution_count": 69,
      "metadata": {
        "id": "iOAR7YEBg25L"
      },
      "outputs": [],
      "source": [
        "def factorial(x):\n",
        "    if x <= 1: # our base\n",
        "        return 1 # not x! as factorial of 0 is considered 1! # TODO find out why factorial of 0 is 1\n",
        "    else:\n",
        "        return x * factorial(x-1) # so we want to be sure that our problem space keeps getting smaller"
      ]
    },
    {
      "cell_type": "code",
      "execution_count": 23,
      "metadata": {
        "colab": {
          "base_uri": "https://localhost:8080/"
        },
        "id": "GuqQ_NEFg25L",
        "outputId": "2b14cb04-689d-4039-8893-0895aa192f0b"
      },
      "outputs": [
        {
          "data": {
            "text/plain": [
              "1"
            ]
          },
          "execution_count": 23,
          "metadata": {},
          "output_type": "execute_result"
        }
      ],
      "source": [
        "import math\n",
        "math.factorial(0)"
      ]
    },
    {
      "cell_type": "code",
      "execution_count": 68,
      "metadata": {
        "colab": {
          "base_uri": "https://localhost:8080/"
        },
        "id": "M64s0jrPobQu",
        "outputId": "aa8e5ddb-f970-4edd-ad54-aa360f94ca93"
      },
      "outputs": [
        {
          "data": {
            "text/plain": [
              "(120, 720, 5040)"
            ]
          },
          "execution_count": 68,
          "metadata": {},
          "output_type": "execute_result"
        }
      ],
      "source": [
        "math.factorial(5),math.factorial(6),math.factorial(7)"
      ]
    },
    {
      "cell_type": "code",
      "execution_count": 71,
      "metadata": {
        "id": "q9n00D4ig25L"
      },
      "outputs": [],
      "source": [
        "# regular loop based algorithm should need less memory\n",
        "def factorial_loop_top_down(x):\n",
        "    res = 1  # try not to put 0 as a multiplier...\n",
        "    while x > 1:\n",
        "        res *= x\n",
        "        x -= 1\n",
        "    return res"
      ]
    },
    {
      "cell_type": "code",
      "execution_count": 72,
      "metadata": {
        "colab": {
          "base_uri": "https://localhost:8080/"
        },
        "id": "gv2nwPnyg25L",
        "outputId": "036676f1-a7dc-499c-8ec7-4a80ef061c5b"
      },
      "outputs": [
        {
          "data": {
            "text/plain": [
              "120"
            ]
          },
          "execution_count": 72,
          "metadata": {},
          "output_type": "execute_result"
        }
      ],
      "source": [
        "factorial_loop_top_down(5)"
      ]
    },
    {
      "cell_type": "code",
      "execution_count": 73,
      "metadata": {},
      "outputs": [],
      "source": [
        "# let's make a loop based factorial from bottom up\n",
        "def factorial_loop_bottom_up(x):\n",
        "    res = 1  # try not to put 0 as a multiplier...\n",
        "    for i in range(2, x+1):\n",
        "        res *= i\n",
        "    return res"
      ]
    },
    {
      "cell_type": "code",
      "execution_count": 29,
      "metadata": {
        "colab": {
          "base_uri": "https://localhost:8080/"
        },
        "id": "6V7f8f9Jg25M",
        "outputId": "14d966f2-a3b0-4eba-908a-f9a30736c27a"
      },
      "outputs": [
        {
          "data": {
            "text/plain": [
              "120"
            ]
          },
          "execution_count": 29,
          "metadata": {},
          "output_type": "execute_result"
        }
      ],
      "source": [
        "factorial(5)"
      ]
    },
    {
      "cell_type": "code",
      "execution_count": 53,
      "metadata": {
        "colab": {
          "base_uri": "https://localhost:8080/"
        },
        "id": "o3Q_UPH2g25M",
        "outputId": "caa73b9d-e288-43fb-f833-f3d064deb57b"
      },
      "outputs": [
        {
          "data": {
            "text/plain": [
              "1"
            ]
          },
          "execution_count": 53,
          "metadata": {},
          "output_type": "execute_result"
        }
      ],
      "source": [
        "factorial(1)"
      ]
    },
    {
      "cell_type": "markdown",
      "metadata": {
        "id": "YggWjevIg25M"
      },
      "source": [
        "5! = 5 x 4 x 3 x 2 x 1 = 120"
      ]
    },
    {
      "cell_type": "code",
      "execution_count": 54,
      "metadata": {
        "colab": {
          "base_uri": "https://localhost:8080/"
        },
        "id": "ZmkJVVd9g25M",
        "outputId": "00db0733-291e-4bce-fa43-97a0c991f085"
      },
      "outputs": [
        {
          "data": {
            "text/plain": [
              "120"
            ]
          },
          "execution_count": 54,
          "metadata": {},
          "output_type": "execute_result"
        }
      ],
      "source": [
        "factorial(5)"
      ]
    },
    {
      "cell_type": "code",
      "execution_count": 74,
      "metadata": {
        "colab": {
          "base_uri": "https://localhost:8080/"
        },
        "id": "Ivp-VY2wg25M",
        "outputId": "b7ae34dd-819b-4eeb-8ec5-73112a297612"
      },
      "outputs": [
        {
          "name": "stdout",
          "output_type": "stream",
          "text": [
            "827 ns ± 22.2 ns per loop (mean ± std. dev. of 7 runs, 1,000,000 loops each)\n"
          ]
        }
      ],
      "source": [
        "%%timeit\n",
        "factorial(10)"
      ]
    },
    {
      "cell_type": "code",
      "execution_count": 75,
      "metadata": {
        "id": "hP5kKbqyg25N"
      },
      "outputs": [
        {
          "name": "stdout",
          "output_type": "stream",
          "text": [
            "13 µs ± 527 ns per loop (mean ± std. dev. of 7 runs, 100,000 loops each)\n"
          ]
        }
      ],
      "source": [
        "%%timeit\n",
        "factorial(100)"
      ]
    },
    {
      "cell_type": "code",
      "execution_count": 76,
      "metadata": {
        "id": "A_7hZ_DKg25N"
      },
      "outputs": [
        {
          "name": "stdout",
          "output_type": "stream",
          "text": [
            "8.24 µs ± 356 ns per loop (mean ± std. dev. of 7 runs, 100,000 loops each)\n"
          ]
        }
      ],
      "source": [
        "%%timeit\n",
        "factorial_loop_bottom_up(100)"
      ]
    },
    {
      "cell_type": "code",
      "execution_count": 77,
      "metadata": {},
      "outputs": [
        {
          "name": "stdout",
          "output_type": "stream",
          "text": [
            "9.26 µs ± 199 ns per loop (mean ± std. dev. of 7 runs, 100,000 loops each)\n"
          ]
        }
      ],
      "source": [
        "%%timeit\n",
        "factorial_loop_top_down(100)"
      ]
    },
    {
      "cell_type": "code",
      "execution_count": 78,
      "metadata": {
        "colab": {
          "base_uri": "https://localhost:8080/"
        },
        "id": "xYcKrj94g25N",
        "outputId": "fddf3032-df13-44a1-da05-cadefc231b18"
      },
      "outputs": [
        {
          "name": "stdout",
          "output_type": "stream",
          "text": [
            "501 µs ± 29 µs per loop (mean ± std. dev. of 7 runs, 1,000 loops each)\n"
          ]
        }
      ],
      "source": [
        "%%timeit\n",
        "factorial(1000)"
      ]
    },
    {
      "cell_type": "code",
      "execution_count": 79,
      "metadata": {},
      "outputs": [
        {
          "name": "stdout",
          "output_type": "stream",
          "text": [
            "382 µs ± 12.9 µs per loop (mean ± std. dev. of 7 runs, 1,000 loops each)\n"
          ]
        }
      ],
      "source": [
        "%%timeit\n",
        "factorial_loop_top_down(1000)"
      ]
    },
    {
      "cell_type": "code",
      "execution_count": 80,
      "metadata": {},
      "outputs": [
        {
          "name": "stdout",
          "output_type": "stream",
          "text": [
            "347 µs ± 19.5 µs per loop (mean ± std. dev. of 7 runs, 1,000 loops each)\n"
          ]
        }
      ],
      "source": [
        "%%timeit\n",
        "factorial_loop_bottom_up(1000)"
      ]
    },
    {
      "cell_type": "code",
      "execution_count": 81,
      "metadata": {},
      "outputs": [
        {
          "name": "stdout",
          "output_type": "stream",
          "text": [
            "48.7 µs ± 1.53 µs per loop (mean ± std. dev. of 7 runs, 10,000 loops each)\n"
          ]
        }
      ],
      "source": [
        "%%timeit\n",
        "math.factorial(1000)"
      ]
    },
    {
      "cell_type": "code",
      "execution_count": 34,
      "metadata": {
        "colab": {
          "base_uri": "https://localhost:8080/"
        },
        "id": "g_KZj8iyg25O",
        "outputId": "2048c181-1dba-4706-d5a9-9e0bb9512478"
      },
      "outputs": [
        {
          "name": "stdout",
          "output_type": "stream",
          "text": [
            "1.92 ms ± 160 µs per loop (mean ± std. dev. of 7 runs, 100 loops each)\n"
          ]
        }
      ],
      "source": [
        "%%timeit\n",
        "factorial(2000)"
      ]
    },
    {
      "cell_type": "code",
      "execution_count": 35,
      "metadata": {
        "colab": {
          "base_uri": "https://localhost:8080/"
        },
        "id": "wZFw43Xjg25O",
        "outputId": "8c9a884d-2f90-4cd9-8d6c-0f1e1220d243"
      },
      "outputs": [
        {
          "name": "stdout",
          "output_type": "stream",
          "text": [
            "451 µs ± 74.2 µs per loop (mean ± std. dev. of 7 runs, 1,000 loops each)\n"
          ]
        }
      ],
      "source": [
        "%%timeit\n",
        "factorial_loop(1000)"
      ]
    },
    {
      "cell_type": "code",
      "execution_count": 36,
      "metadata": {
        "colab": {
          "base_uri": "https://localhost:8080/"
        },
        "id": "mIyBU1jCg25O",
        "outputId": "2c6f6a94-8f7f-4ee7-f20b-c49642d86024"
      },
      "outputs": [
        {
          "name": "stdout",
          "output_type": "stream",
          "text": [
            "1.33 ms ± 50.5 µs per loop (mean ± std. dev. of 7 runs, 1,000 loops each)\n"
          ]
        }
      ],
      "source": [
        "%%timeit\n",
        "factorial_loop(2000)"
      ]
    },
    {
      "cell_type": "code",
      "execution_count": 69,
      "metadata": {
        "colab": {
          "base_uri": "https://localhost:8080/"
        },
        "id": "cMW-cGNng25P",
        "outputId": "f7ad9635-a57a-4cb4-c0b0-58d0bf8199e8"
      },
      "outputs": [
        {
          "data": {
            "text/plain": [
              "422857792660554352220106420023358440539078667462664674884978240218135805270810820069089904787170638753708474665730068544587848606668381273633721089377278763127939036305846216064390447898698223987192970889621161265296832177550039924219683703146907264472878789790404754884162215226671928410969236910449565971736352948400223840381120644820230857671104502306174894755428309761781724040805324809927809328784055486199364548291211876258248802189173977900050213212598043639244626460770511358846595108675470585833924655225589035474435988347383178988034633008458631510209091509935653820010933047965742556741930917055172805200236075085991197635228755907902043369743123506916831211924495971556267407521462198986233088625998302859864857578749445963115286970886710046268423648178989905454690861391613218344174148807186234448114831209490361196546872767755617886828720269104814092456410341835975604276458161513178575901661071782544156980883359372729995603371371200471049437656291142488605335299499642300699972204918120100819059439140675053265004775533850899097945101551091486907004407119572336026243368132330218709287699196806656569752790422258267841561083376425781032629202687211070274681394351128601502326190649959171897364176378436491219709109840944514895358959103804176941956657834822071749105512752639148381172052604826965162642710094919393332661030104360530459117014557209584714353721948246686793467375904872268133410207860903657108806376616249749507413107077401682180585945526445171409277469230062697511346044174567946735828782261629584248675157379172942724178783105429858245117575511884506574424827574660800238588378492396247368761507015767725898321128632295537044902516387925127590841791744640466913531047347984464996154595542013996317357476301740036796192919942190762895445656261767041799538161133387312823511534152581309087915883638351664797225912944270653557142511737323807232632958121797916679692329687096923901003255574789055099807487061047230646195984955239657612208673866514171699307557691897902675157342075864796345338446835085965490727326321910504064289713096224505162064669468098869917122127404504020684923266241760132910227866687270305284709452526825496617772499645206699836925910690894082637401043498371591126455822280606361394115344316771769934353664284928294436414769615881993661388255577487709937004594753907845149034434521174560594039916268444697661821387470705325559577933196460996662145377564935474169708562389214773222865507182490430016186142192760452307670621142961767274704123616107220009743758647492753665149532164780849075146330071016691313420662882562618283865836983632108760710427516073348347788414796732427080410860761841281888307115098982135338406610652147087046874760995427473673509451553599769040367353385551052571682650317682405743993414862392331981432579182193321898940450865013610998098383993110996355981328001049731588596312131853801205046787642910669365600437305633431984879048998524701293300789344532868156679762880495532846386020133480265279836946393384995675049993707814746561543438930431384237878981847802886009971088695632988347711863122382785963653115132377931373647397429369411499028751972227999545182615488298951151926682112451355318472209990435355949887299922035062039816011086376236539782172380237846650673624510635034423187315338308212043804710999419227821039747552717416043890169723961305549371844836119803565896062025009093664399360172007383613354405094329072476518909502507724675841989412224659392163116352038147362479528539732089309533421910635702805576629720156556510767780805933453631121829561792887673002802450932122778852968418208261778476955644980385691275787372678040959158711733971103165232678060798127609246173504120182666874262805385275843979167609007743380748420751185119102921960339376280986753665085212869255321536787932521882574101866137054328973735862725370178558806639851350386944039604928258820180419178073649693885802597758398892014389747165465973510852605706234402069637065660129535734043582961473427275805630839510667375349259659518575646939723218275780003250593895303820539697558870511543073920827422440516299708739599768461206246629098112368012579891284802505094028916959765079395437191311379314427405135599630375642214527294341797246187597964074239147838993541565834716156858499036773056611353833367087548900413091981676330749041510337597307246885839246941715548295730750618505881581959528992660225626903439573313450666972952115230668696227920947779974336574472673471408928071411283888082693377378077293104110767513639476200610858040596019639058015761002337463869352228385801434957178125581445862930042479404065736859862007914604590255413929950088044710384758990326548097338166940500085452723713571394902463820308668541802838317527668064278489561005755859991718966786449154063570014497194249878920859731254275567514575206399118150736397483102490793841725653421894276769116598153430084637087769510295415136551734675054015239706042571746001089968440498845985477977905031632568489156557231006499726498721480800181770357701502983008879487243887718884416833034708723239505377642232944095773219137582371673924704216723002256883135779230394688900662466182532658490724406767024939579697217467485562998183149665611743997680482094166257463879660305171274925119226367615337524381656217330771650129520988754856467131862602387619964334867961514408328902061082833180891221325853682856469916007952105166960451695430614212305743006877217407155473217957577017595967640563812729153867513698712395570542350999228605975469962186195531354132139126436676900465429996811680550737866770665988027062972502001882845886145344368771455361304414465613369092862748276981946836480550952968681758714859972973082332924094777085275279923304892719633314751563311192746150389219290616780607901383451137066300684376267199885515143681266137319912103235469786756421210624899005553564022924345831264231038363416781719908354140411717740185950606674198348143345444247191436828225654380047860390575922417071802670646875454211626958746795398540784464654140381751149965273621123540880166990280149033225139460832668170930713868826549977374286127789417784752681328371818759103642140881783220739808059714203285309721443041845459183002833408705783138284973283761286182927136745161897366207237396132790944984014154408304074405393067540767126182547597130843470311389815695365971788564022750674237400323621850094765267521941901241387478279883426470873616812485384444012772521050072279315853096279121131160167772077952572613800240684421885453537121341902236379684012385255288607189967725694227433323948595075570839061877450159652184414998155476107548008054192318436948191732631430603548399790783307267636729090980772827355854348032260067472537097785464567761181807367424367391769863758072145859791485033700592994963793369100283444558089838054017635403737133019311293080958287612107380374800660269767842888358265737486556785868822015143046249655995760379768685318192365806469199584071845493606922169776137542662239658644989770921478134709127917460871630220821981434654245065731262683089579031012893360788644107230184805400373136014216229159146992019884148290014414312800903102107833305090238435726779416177246873411503598700003151092815700331081727415624680432977205070450456683898626301702989301145364477416856732512330376477881749036052572605520684370616116539755132541369303867783267208227323664249206432363089268768826650939691861683271739757479552993242406186992420363781929485368098035256331092448215269276219116259145886393677034653480367887126133367116968226450914997055448521259751870084720025674658752403932061045903070039438252019383102480929019684602472171298321628237994627125366359971898374425099120673688383738299653892030662843074547559074235345274029211606091346327684749522046010409575607348155101677203187580089224494752922031093841661588823584993931745149914395557357641584185479831702428523965451087525425464777294595230360946416541997797947136806344915998772409176443137371178542210740572121166868692153240490080384205921192622875440898261478908123698956367080804687628524499897440855677969456909042340530355943524640751677873953113928698614347227572144946891896093294375476741234907792754338349412323060078767610089949156126934038921148370217193387617823370358925817112869563450001367619897145400986643461922197676975930010555225198913002123021780831934330880446592954552165911855939202579781122952065357362914478404946474565003115498072056580360667380889572746464375428055819322299305089287806874537401327100274428317925355003451536693172112088227603942809788645727306979971285649576934354004030728440581746648376658498039958964243370183454151720285337810904113124462432903353964296651109482836884580127588701293156099225044518125460113274986014470437757313881001319276124676116614833528935557503106018449788994378274613854651708241613167681463911870000812845144341406739985430072772303758111613511094355614896323929750846383152930263582535361784837558519666949972251935515953807207838615142130284450051795239760968433198292598921623223582396390262548856855875458198371559008447860086745945709118128793228222051767509371866110013193625845223493949829511199280837860523506412769337548130609594264463425077601147334209139128541628183172262143783062962408149391997187528106367348876678481602342743230027158192404187686545826519361990687336892886715133840245486110982482004482721799496658712257174429044916781194824165631560303473833317665121218052780795958220298330611945164019413315550379662980215357680731124530585915969709973988055743550083279071844959752353594644354789680372126344509423070253995102864458237454677761013556916212309752286152053213998745673034127676503369636682306665552051562491132528926155863868503100849180920507680658265915276163719928694258350604859732273949286080260640627521341007801815105623787926212039424781833439433877206395801115809084190794320195178235740190546595990289617711776195270354051193727229722248442080440098750369411277686593022133010625031862085145076421052980508837197986052557750303949606158442838846866137510968441567309838079394349570013029265177957120625555851951313574029897589283475525334409858911400694449308432874005015554332587793895080241128538758725945136400838324944471346436826148195406004114845870234072926697740631325878634790667698266181501256117692275715291249164821702372884416357600996851100939411444677628186007072278522314941048564396255796808221289935799262208553889221164765220850367706476491496133789353761537391569177822237744837614120253342622508007300513473422771427333106345971803240244226950458090539326689103619381998838844036231795282435495362489670734155948067688515321073064476077859628627852283657244564306449096277517172656954238392941958409527253281659572534531428389629894005886539486824117113929627356938973482935854650278689437014798383826002058208853517073216288725214522205265969614962147884840129004507737252424605074339660818182960296019196314124998538422017695110361380561701016357743542531148669369994130940908368220071936435111978592782493491477052187226546109199597269439152400467901173602521030051886080337084840114810246351288263986170081804888380750203521448348740849154718714478857809574515499505005070789428842888410027877777455981132319940624176532148686316581736774410084063436959989519288310869124517866342559353458242589411390516469440377562665821577845936829909679754548350510473633770839151033854639602753486401635204633884342346714935641429160856846724874244782055113759168236472297793612971080302530934478115527737540458968990354808058309381267323593563098546564376209385371052808344607189076003388781618019853273759498566916704703448438363503416368325266403224174519476678140428319327482851882140344319384445475456765253419659194332132585432270070759038565239668227171300009189122050845185261514627937717597528852978637931711212529529443323757910072909001703558763798612480281463093944391916950129336315045285163539312868586427437296109446101235604877439863299611899755965996608749049271167685268675335991297583209089553296409523640116060078495005377892783750147344122123777907727134146647404489837589487675423294546899354220341669961366698976529978580795899055864050388507083137333076839766882463680992355219727241831735127646189112380485883115569477888101759708977682149644340317924443085170303692214137621194388641989508360339306459037361842937028710758321966607546113761076362543928614316242890754021082233620012309384737312220374269033838579928678572939434168287053763374091938184632261131740934278117918891642447513543478446040549455379834556163353815868441692054518698919434175386663900335756765603264363767906721626620330878425545157208117246381251512669846685887209013144861632560461019513371814585249988176629925142145014710206193190373671380347663431029705222414785030188275106347446241258707937339085095757724316735066885094208761536164440443755860160625837091300574162065273670941888667964570550744724714137001968165215954380698515999483361357521322106131884771926641942395351412233546746461491743013475866037338176532604557402925472279360288926189385899695656876783017186873988763887625972743976062813263446647679413679726184933395074665820441677989806604203937116666336696282569349097348391155869004856032512219241534268522369316036765491047702733521540143168338872968405443296967684036073182435336224865433823598123544167514608340781166661858781733980624199254577853462678039039937557802759942957205281043775666979396838109341118959475766220191217535093638985465283078692370662512323684390235587636228324657161183714078807661162179517887972801841572019639084400269037450381192797170314489871815031319992111563908303017288012610642062005359240278277393918026391717720136125984776933980647063763022608885359937595079088789081791802195768033381968605120487107610874898411568740159953020639098138993261095538868264084012160831040525974539251576403732889086736948366404734622708560040891610782221943405179794550155347682966855320097501905581419914591124181501062255627411231571377358697194374130822027383843815940638571387913337592362330440453487233047240668784133333047898995255221468847973813568083995644533005222551320155267768895412770329278670827490041172076663112783638152343547681663121189086864991380236281775275946061211813342054791801619220346912760381900528012343973598270461499814511324618195658528232044658270082064934680251556511272822083811563192256509945201222666603226059396247019707668580396286975551115189973049085051758765306785758000660424066894170620303846785860257370634352599586885088679654004465187790208942935153217316750113738031466034642429489076322228133763299919641336502028627289268087560036613770607463575515079087982099722660130472907825746908175451952405573791313113170617323191598673971588373108168916968657704150695512947652386134815766967580364762005289060222744531744305498402863048850869557761528650326080941160688570698894762046478500884303973107412774191961697450517110329082815201273888663422631492147090220016940636504812047036016738602290671629816411198202268607961324739550057567564568204754619040423011062371367395995678940884705976859514505017241517746017351430990972615509378334720000000000000000000000000000000000000000000000000000000000000000000000000000000000000000000000000000000000000000000000000000000000000000000000000000000000000000000000000000000000000000000000000000000000000000000000000000000000000000000000000000000000000000000000000000000000000000000000000000000000000000000000000000000000000000000000000000000000000000000000000000000000000000000000000000000000000000000000000000000000000000000000000000000000000000000000000000000000000000000000000000000000000000000000000000000000000000000000000000000000000000000000000000000000000000000000000000000000000000000000000000000000000000000000000000000000000000000000000000000000000000000000000000000000000000000000000000000000000000000000000000000000000000000000000000000000000000000000000000000000000000000000000000000000000000000000000000000000000000000000000000000000000000000000000000000000000000000000000000000000000000000000000000000000000000000000000000000000000000000000000000000000000000000000000000000000000000000000000000000000000000000000000000000000000000000000000000000000000000000000000000000000000000000000000000000000000000000000000000000000000000000000000000000000000000000000000000000000000000000000000000000000000000000000000000000000000000000000000"
            ]
          },
          "execution_count": 69,
          "metadata": {},
          "output_type": "execute_result"
        }
      ],
      "source": [
        "factorial(5000)"
      ]
    },
    {
      "cell_type": "code",
      "execution_count": 70,
      "metadata": {
        "colab": {
          "base_uri": "https://localhost:8080/"
        },
        "id": "x7eo-_O6pTN3",
        "outputId": "96826d08-7c41-4bfa-acbb-b1b849a45bd4"
      },
      "outputs": [
        {
          "data": {
            "text/plain": [
              "16326"
            ]
          },
          "execution_count": 70,
          "metadata": {},
          "output_type": "execute_result"
        }
      ],
      "source": [
        "len(str(factorial(5000)))"
      ]
    },
    {
      "cell_type": "code",
      "execution_count": 37,
      "metadata": {
        "colab": {
          "base_uri": "https://localhost:8080/"
        },
        "id": "UXf3GsFEpZbc",
        "outputId": "0d3101be-5311-47b9-fd87-d6ef4bed9305"
      },
      "outputs": [
        {
          "name": "stdout",
          "output_type": "stream",
          "text": [
            "51.4 µs ± 5.25 µs per loop (mean ± std. dev. of 7 runs, 10,000 loops each)\n"
          ]
        }
      ],
      "source": [
        "%%timeit\n",
        "math.factorial(1_000)"
      ]
    },
    {
      "cell_type": "code",
      "execution_count": 72,
      "metadata": {
        "colab": {
          "base_uri": "https://localhost:8080/"
        },
        "id": "e1oLDYY_pfz0",
        "outputId": "8db2719f-f45b-4a18-8a32-ecd25fbe3d0b"
      },
      "outputs": [
        {
          "name": "stdout",
          "output_type": "stream",
          "text": [
            "10000 loops, best of 5: 136 µs per loop\n"
          ]
        }
      ],
      "source": [
        "%%timeit\n",
        "math.factorial(2_000)"
      ]
    },
    {
      "cell_type": "code",
      "execution_count": null,
      "metadata": {
        "id": "5jR6nEzhg25P"
      },
      "outputs": [],
      "source": [
        "%%timeit\n",
        "factorial(5000) #"
      ]
    },
    {
      "cell_type": "code",
      "execution_count": 83,
      "metadata": {
        "id": "BJIOIlgEg25P"
      },
      "outputs": [
        {
          "data": {
            "image/png": "[encoded data removed]",
            "text/plain": [
              "<Figure size 640x480 with 1 Axes>"
            ]
          },
          "metadata": {},
          "output_type": "display_data"
        }
      ],
      "source": [
        "input_arr = [i for i in range(1_000, 30_000, 1_000)]\n",
        "\n",
        "results = automatic_time(input_arr, factorial)\n",
        "top_down = automatic_time(input_arr, factorial_loop_top_down)\n",
        "bottom_up = automatic_time(input_arr, factorial_loop_bottom_up)\n",
        "built_in = automatic_time(input_arr, math.factorial)\n",
        "plt.plot(input_arr, results)\n",
        "plt.plot(input_arr, top_down)\n",
        "plt.plot(input_arr, bottom_up)\n",
        "plt.plot(input_arr, built_in)\n",
        "plt.xlabel(\"input size\")\n",
        "plt.ylabel(\"running time in seconds\")\n",
        "# add legend\n",
        "plt.legend([\"recursive, factorial_loop_top_down, factorial_loop_bottom_up, built_in\"])\n",
        "plt.show()"
      ]
    },
    {
      "cell_type": "code",
      "execution_count": 39,
      "metadata": {
        "colab": {
          "base_uri": "https://localhost:8080/",
          "height": 279
        },
        "id": "P-rRP7CAg25P",
        "outputId": "147fadf8-549e-4a23-d54c-fe4e9d9f29e0"
      },
      "outputs": [
        {
          "data": {
            "image/png": "[encoded data removed]",
            "text/plain": [
              "<Figure size 432x288 with 1 Axes>"
            ]
          },
          "metadata": {
            "needs_background": "light"
          },
          "output_type": "display_data"
        }
      ],
      "source": [
        "input_arr = [i for i in range(100, 2_000, 100)]\n",
        "\n",
        "fun2 = automatic_time(input_arr, factorial_loop)\n",
        "plt.plot(input_arr, fun2, color='red')\n",
        "fun1 = automatic_time(input_arr, factorial)\n",
        "plt.plot(input_arr, fun1, color='blue') # blue is recursive\n",
        "# add legend\n",
        "plt.legend([\"loop\",\"recursive\"])\n",
        "\n",
        "plt.xlabel(\"input size\")\n",
        "plt.ylabel(\"running time in seconds\")\n",
        "plt.show()"
      ]
    },
    {
      "cell_type": "code",
      "execution_count": 76,
      "metadata": {
        "colab": {
          "base_uri": "https://localhost:8080/",
          "height": 279
        },
        "id": "25Sm34H7g25P",
        "outputId": "c514ca6a-cd52-4c5e-a6a4-c2066ab6352d"
      },
      "outputs": [
        {
          "data": {
            "image/png": "[encoded data removed]",
            "text/plain": [
              "<Figure size 432x288 with 1 Axes>"
            ]
          },
          "metadata": {
            "needs_background": "light"
          },
          "output_type": "display_data"
        }
      ],
      "source": [
        "input_arr = [i for i in range(100, 5_000, 100)]\n",
        "\n",
        "fun3 = automatic_time(input_arr, math.factorial)\n",
        "plt.plot(input_arr, fun3, color='green')\n",
        "fun2 = automatic_time(input_arr, factorial_loop)\n",
        "plt.plot(input_arr, fun2, color='red')\n",
        "fun1 = automatic_time(input_arr, factorial)\n",
        "plt.plot(input_arr, fun1, color='blue')\n",
        "plt.xlabel(\"input size\")\n",
        "plt.ylabel(\"running time in seconds\")\n",
        "plt.show()"
      ]
    },
    {
      "cell_type": "code",
      "execution_count": 77,
      "metadata": {
        "colab": {
          "base_uri": "https://localhost:8080/",
          "height": 279
        },
        "id": "pGvv6HzIqUHd",
        "outputId": "c3c09702-5784-4a8a-a74d-f212830b25de"
      },
      "outputs": [
        {
          "data": {
            "image/png": "[encoded data removed]",
            "text/plain": [
              "<Figure size 432x288 with 1 Axes>"
            ]
          },
          "metadata": {
            "needs_background": "light"
          },
          "output_type": "display_data"
        }
      ],
      "source": [
        "input_arr = [i for i in range(1000, 100_000, 1000)]\n",
        "\n",
        "fun3 = automatic_time(input_arr, math.factorial)\n",
        "plt.plot(input_arr, fun3, color='green')\n",
        "fun2 = automatic_time(input_arr, factorial_loop)\n",
        "plt.plot(input_arr, fun2, color='red')\n",
        "# fun1 = automatic_time(input_arr, factorial)\n",
        "# plt.plot(input_arr, fun1, color='blue')\n",
        "plt.xlabel(\"input size\")\n",
        "plt.ylabel(\"running time in seconds\")\n",
        "plt.show()"
      ]
    },
    {
      "cell_type": "markdown",
      "metadata": {
        "id": "Y1k3lTftg25P"
      },
      "source": [
        "# Exercise: Fibonacci\n",
        "\n",
        "The sequence, in which each number is the sum of the two preceding numbers is known as the Fibonacci sequence: $1, 1, 2, 3, 5, 8, 13, 21, 34, 55, 89, 144, 233, 377, 610, 987, 1597, 2584, 4181, \\cdots$ (each number is the sum of the previous two, e.g., $144=55 + 89$).\n",
        "\n",
        "As you covered Fibonacci in Semester 1, this should be familiar. The twist is we are going to look at a variety of ways of implementing it and the complexity of execution for each.\n",
        "\n",
        "A direct implementation of the description above would lead to pseudo code like this:"
      ]
    },
    {
      "cell_type": "code",
      "execution_count": 84,
      "metadata": {
        "id": "l5Rt1jI-g25R"
      },
      "outputs": [],
      "source": [
        "def bad_fibonacci(n):\n",
        "  \"\"\"Return the nth Fibonacci number.\"\"\"\n",
        "  if n <= 1:\n",
        "    return n\n",
        "  else:\n",
        "    return bad_fibonacci(n-2) + bad_fibonacci(n-1)"
      ]
    },
    {
      "cell_type": "code",
      "execution_count": 85,
      "metadata": {},
      "outputs": [
        {
          "data": {
            "text/plain": [
              "(1, 1, 2, 3, 5, 8, 13)"
            ]
          },
          "execution_count": 85,
          "metadata": {},
          "output_type": "execute_result"
        }
      ],
      "source": [
        "bad_fibonacci(1), bad_fibonacci(2),bad_fibonacci(3),bad_fibonacci(4),bad_fibonacci(5),bad_fibonacci(6),bad_fibonacci(7)"
      ]
    },
    {
      "cell_type": "code",
      "execution_count": 86,
      "metadata": {
        "colab": {
          "base_uri": "https://localhost:8080/"
        },
        "id": "5S8hIQJyg25R",
        "outputId": "053b2bab-3738-46f2-d826-18c67e0a0597"
      },
      "outputs": [
        {
          "name": "stdout",
          "output_type": "stream",
          "text": [
            "0 0\n",
            "1 1\n",
            "2 1\n",
            "3 2\n",
            "4 3\n",
            "5 5\n",
            "6 8\n",
            "7 13\n",
            "8 21\n",
            "9 34\n"
          ]
        }
      ],
      "source": [
        "for n in range(10):\n",
        "    print(n, bad_fibonacci(n))"
      ]
    },
    {
      "cell_type": "code",
      "execution_count": 87,
      "metadata": {
        "colab": {
          "base_uri": "https://localhost:8080/"
        },
        "id": "S5lFoD_9sl24",
        "outputId": "8ad64be0-193d-46fd-840d-0e9a5ae67c56"
      },
      "outputs": [
        {
          "name": "stdout",
          "output_type": "stream",
          "text": [
            "2 1 1.0\n",
            "3 2 2.0\n",
            "4 3 1.5\n",
            "5 5 1.6666666666666667\n",
            "6 8 1.6\n",
            "7 13 1.625\n",
            "8 21 1.6153846153846154\n",
            "9 34 1.619047619047619\n",
            "10 55 1.6176470588235294\n",
            "11 89 1.6181818181818182\n",
            "12 144 1.6179775280898876\n",
            "13 233 1.6180555555555556\n",
            "14 377 1.6180257510729614\n",
            "15 610 1.6180371352785146\n",
            "16 987 1.618032786885246\n",
            "17 1597 1.618034447821682\n",
            "18 2584 1.6180338134001253\n",
            "19 4181 1.618034055727554\n"
          ]
        }
      ],
      "source": [
        "# https://en.wikipedia.org/wiki/Golden_ratio\n",
        "for n in range(2,20):\n",
        "    print(n, bad_fibonacci(n), bad_fibonacci(n)/bad_fibonacci(n-1))"
      ]
    },
    {
      "cell_type": "markdown",
      "metadata": {},
      "source": [
        "## Fibonacci spiral\n",
        "\n",
        "<img src=\"https://upload.wikimedia.org/wikipedia/commons/thumb/b/b9/Fibonacci_Spiral.svg/500px-Fibonacci_Spiral.svg.png\" width=\"400\">"
      ]
    },
    {
      "cell_type": "code",
      "execution_count": 88,
      "metadata": {
        "colab": {
          "base_uri": "https://localhost:8080/"
        },
        "id": "rHzyAHNQg25R",
        "outputId": "08b28c23-b7d1-4c3c-c08c-faa7059bbfbb"
      },
      "outputs": [
        {
          "name": "stdout",
          "output_type": "stream",
          "text": [
            "13.3 µs ± 1.09 µs per loop (mean ± std. dev. of 7 runs, 100,000 loops each)\n"
          ]
        }
      ],
      "source": [
        "%%timeit\n",
        "bad_fibonacci(10)"
      ]
    },
    {
      "cell_type": "code",
      "execution_count": 83,
      "metadata": {
        "colab": {
          "base_uri": "https://localhost:8080/"
        },
        "id": "3HsMQwNig25S",
        "outputId": "2bb5748a-d62f-494c-8534-39579a881de4"
      },
      "outputs": [
        {
          "name": "stdout",
          "output_type": "stream",
          "text": [
            "10000 loops, best of 5: 72.5 µs per loop\n"
          ]
        }
      ],
      "source": [
        "%%timeit\n",
        "bad_fibonacci(12)"
      ]
    },
    {
      "cell_type": "code",
      "execution_count": 84,
      "metadata": {
        "colab": {
          "base_uri": "https://localhost:8080/"
        },
        "id": "PaLAommIg25S",
        "outputId": "0d635c89-372b-4a1a-8e2b-e8e9619bc883"
      },
      "outputs": [
        {
          "name": "stdout",
          "output_type": "stream",
          "text": [
            "1000 loops, best of 5: 494 µs per loop\n"
          ]
        }
      ],
      "source": [
        "%%timeit\n",
        "bad_fibonacci(16)"
      ]
    },
    {
      "cell_type": "code",
      "execution_count": 47,
      "metadata": {
        "colab": {
          "base_uri": "https://localhost:8080/"
        },
        "id": "Sww1jqIig25S",
        "outputId": "67e55fed-24c5-4f96-8ced-3a2aae675d89"
      },
      "outputs": [
        {
          "name": "stdout",
          "output_type": "stream",
          "text": [
            "2.12 ms ± 31.8 µs per loop (mean ± std. dev. of 7 runs, 100 loops each)\n"
          ]
        }
      ],
      "source": [
        "%%timeit\n",
        "bad_fibonacci(20)"
      ]
    },
    {
      "cell_type": "code",
      "execution_count": 48,
      "metadata": {
        "colab": {
          "base_uri": "https://localhost:8080/"
        },
        "id": "7dJ1oQ8Bg25S",
        "outputId": "b484691f-6fe5-4ccd-8bfe-f49a8084e636"
      },
      "outputs": [
        {
          "name": "stdout",
          "output_type": "stream",
          "text": [
            "16.3 ms ± 644 µs per loop (mean ± std. dev. of 7 runs, 100 loops each)\n"
          ]
        }
      ],
      "source": [
        "%%timeit\n",
        "bad_fibonacci(24)"
      ]
    },
    {
      "cell_type": "code",
      "execution_count": 90,
      "metadata": {},
      "outputs": [
        {
          "data": {
            "text/plain": [
              "2178309"
            ]
          },
          "execution_count": 90,
          "metadata": {},
          "output_type": "execute_result"
        }
      ],
      "source": [
        "bad_fibonacci(32)"
      ]
    },
    {
      "cell_type": "code",
      "execution_count": 89,
      "metadata": {
        "colab": {
          "base_uri": "https://localhost:8080/"
        },
        "id": "43Ma-Ef6g25S",
        "outputId": "18597e00-c4a7-45a1-d119-32767251cb95"
      },
      "outputs": [
        {
          "name": "stdout",
          "output_type": "stream",
          "text": [
            "512 ms ± 20.1 ms per loop (mean ± std. dev. of 7 runs, 1 loop each)\n"
          ]
        }
      ],
      "source": [
        "%%timeit\n",
        "bad_fibonacci(32)"
      ]
    },
    {
      "cell_type": "code",
      "execution_count": 91,
      "metadata": {
        "colab": {
          "base_uri": "https://localhost:8080/",
          "height": 279
        },
        "id": "EVfz99O8g25S",
        "outputId": "3dc4ee4d-c0b0-45a1-da95-46095a13436c"
      },
      "outputs": [
        {
          "data": {
            "image/png": "[encoded data removed]",
            "text/plain": [
              "<Figure size 640x480 with 1 Axes>"
            ]
          },
          "metadata": {},
          "output_type": "display_data"
        }
      ],
      "source": [
        "input_arr = [i for i in range(1, 35, 1)]\n",
        "\n",
        "fun2 = automatic_time(input_arr, bad_fibonacci)\n",
        "plt.plot(input_arr, fun2, label = \"Bad Fibonacci\")\n",
        "plt.xlabel(\"input size\")\n",
        "plt.ylabel(\"running time in seconds\")\n",
        "plt.show()"
      ]
    },
    {
      "cell_type": "code",
      "execution_count": null,
      "metadata": {
        "id": "NvMNf7SAg25S"
      },
      "outputs": [],
      "source": [
        "# so bad_fibonacci looks like an exponational complexity"
      ]
    },
    {
      "cell_type": "code",
      "execution_count": null,
      "metadata": {
        "id": "HnpbABl2g25S"
      },
      "outputs": [],
      "source": [
        "arr = [2**n for n in range(30)]\n",
        "plt.plot(list(range(30)), arr)\n",
        "plt.show()"
      ]
    },
    {
      "cell_type": "code",
      "execution_count": null,
      "metadata": {
        "id": "oNSfZDqPg25S"
      },
      "outputs": [],
      "source": [
        "# sure smells like exponential"
      ]
    },
    {
      "cell_type": "code",
      "execution_count": null,
      "metadata": {
        "id": "a2wso8Qog25T"
      },
      "outputs": [],
      "source": [
        "# what is so bad about bad fibonacci ?\n",
        "# so for each recursive call you get new 2 recursive calls\n",
        "# it is like that story of inventor of chess in India\n",
        "# he asked for 1 grain of rice on first square\n",
        "# 2 on 2nd , 4 on 3rd, 8 on 4th,\n",
        "# the story modification is that king realized the problem\n",
        "# to get out of it king said ok, you have to count the rice \n"
      ]
    },
    {
      "cell_type": "code",
      "execution_count": 90,
      "metadata": {
        "colab": {
          "base_uri": "https://localhost:8080/"
        },
        "id": "8fTWpPTdg25T",
        "outputId": "b3911552-cfb6-4496-9386-f854d0eac466"
      },
      "outputs": [
        {
          "data": {
            "text/plain": [
              "4294967296"
            ]
          },
          "execution_count": 90,
          "metadata": {},
          "output_type": "execute_result"
        }
      ],
      "source": [
        "2**32 # he could count half a board"
      ]
    },
    {
      "cell_type": "code",
      "execution_count": 91,
      "metadata": {
        "colab": {
          "base_uri": "https://localhost:8080/"
        },
        "id": "9QCNhk1cg25T",
        "outputId": "03206d20-3acb-4ff3-e45f-02fa7feff8c4"
      },
      "outputs": [
        {
          "data": {
            "text/plain": [
              "18446744073709551616"
            ]
          },
          "execution_count": 91,
          "metadata": {},
          "output_type": "execute_result"
        }
      ],
      "source": [
        "2**64 # not likely for a human..."
      ]
    },
    {
      "cell_type": "code",
      "execution_count": 92,
      "metadata": {
        "id": "oe18J_S7g25T"
      },
      "outputs": [],
      "source": [
        "\n",
        "\n",
        "def good_fibonacci(n):\n",
        "  \"\"\"Return pair of Fibonacci numbers, F(n) and F(n-1).\"\"\"\n",
        "  if n <= 1:\n",
        "    return (n,0)\n",
        "  else:\n",
        "    (a, b) = good_fibonacci(n-1) # looks linear here\n",
        "    return (a+b, a) # using the fact that we have the previous number\n",
        "  \n",
        "# Note: a bit like using accumulator in loop based approach"
      ]
    },
    {
      "cell_type": "code",
      "execution_count": 93,
      "metadata": {
        "colab": {
          "base_uri": "https://localhost:8080/"
        },
        "id": "prMV6nl4uBDU",
        "outputId": "f14e176a-9511-4d30-f5da-fed251aec986"
      },
      "outputs": [
        {
          "data": {
            "text/plain": [
              "(55, 34)"
            ]
          },
          "execution_count": 93,
          "metadata": {},
          "output_type": "execute_result"
        }
      ],
      "source": [
        "good_fibonacci(10)"
      ]
    },
    {
      "cell_type": "code",
      "execution_count": 94,
      "metadata": {
        "colab": {
          "base_uri": "https://localhost:8080/"
        },
        "id": "zXEq5EGtuJw7",
        "outputId": "dd718f91-435e-40eb-944e-e98aba5ea14a"
      },
      "outputs": [
        {
          "data": {
            "text/plain": [
              "(354224848179261915075, 218922995834555169026)"
            ]
          },
          "execution_count": 94,
          "metadata": {},
          "output_type": "execute_result"
        }
      ],
      "source": [
        "good_fibonacci(100)"
      ]
    },
    {
      "cell_type": "code",
      "execution_count": 95,
      "metadata": {
        "colab": {
          "base_uri": "https://localhost:8080/"
        },
        "id": "CL2m7G19g25T",
        "outputId": "f3ec1525-dc1e-4512-b2d8-43c8186967b8"
      },
      "outputs": [
        {
          "name": "stdout",
          "output_type": "stream",
          "text": [
            "100000 loops, best of 5: 1.97 µs per loop\n"
          ]
        }
      ],
      "source": [
        "%%timeit\n",
        "good_fibonacci(10)"
      ]
    },
    {
      "cell_type": "code",
      "execution_count": 96,
      "metadata": {
        "colab": {
          "base_uri": "https://localhost:8080/"
        },
        "id": "RxyaoRwQg25T",
        "outputId": "610bead7-0432-4bf6-c1d5-48ba7ca3b64a"
      },
      "outputs": [
        {
          "name": "stdout",
          "output_type": "stream",
          "text": [
            "100000 loops, best of 5: 4.14 µs per loop\n"
          ]
        }
      ],
      "source": [
        "%%timeit\n",
        "good_fibonacci(20)"
      ]
    },
    {
      "cell_type": "code",
      "execution_count": 54,
      "metadata": {
        "colab": {
          "base_uri": "https://localhost:8080/"
        },
        "id": "f_NpPtkwg25T",
        "outputId": "35f9a2da-49bf-48b3-d230-4cc5ada4d15c"
      },
      "outputs": [
        {
          "name": "stdout",
          "output_type": "stream",
          "text": [
            "4.8 µs ± 395 ns per loop (mean ± std. dev. of 7 runs, 100,000 loops each)\n"
          ]
        }
      ],
      "source": [
        "%%timeit\n",
        "good_fibonacci(30)"
      ]
    },
    {
      "cell_type": "code",
      "execution_count": 96,
      "metadata": {
        "colab": {
          "base_uri": "https://localhost:8080/",
          "height": 279
        },
        "id": "VKKv6Lw_g25T",
        "outputId": "13f9f2cc-24e8-465a-9f9d-bf16cf30588e"
      },
      "outputs": [
        {
          "data": {
            "image/png": "[encoded data removed]",
            "text/plain": [
              "<Figure size 640x480 with 1 Axes>"
            ]
          },
          "metadata": {},
          "output_type": "display_data"
        }
      ],
      "source": [
        "# input_arr = [i for i in range(1, 100, 1)]\n",
        "input_arr = [i for i in range(10, 10_000, 10)]\n",
        "\n",
        "fun2 = automatic_time(input_arr, good_fibonacci)\n",
        "plt.plot(input_arr, fun2, label=\"Good Fibonacci\")\n",
        "plt.xlabel(\"input size\")\n",
        "plt.ylabel(\"running time in seconds\")\n",
        "plt.show()"
      ]
    },
    {
      "cell_type": "code",
      "execution_count": 98,
      "metadata": {
        "colab": {
          "base_uri": "https://localhost:8080/"
        },
        "id": "sFyCSdaBg25U",
        "outputId": "08f0deb7-b9a1-4b31-cd58-a51027ffcead"
      },
      "outputs": [
        {
          "name": "stdout",
          "output_type": "stream",
          "text": [
            "6000\n"
          ]
        }
      ],
      "source": [
        "import sys\n",
        "print(sys.getrecursionlimit())"
      ]
    },
    {
      "cell_type": "code",
      "execution_count": null,
      "metadata": {
        "id": "g4SghLsng25U"
      },
      "outputs": [],
      "source": [
        "#https://stackoverflow.com/questions/3323001/what-is-the-maximum-recursion-depth-in-python-and-how-to-increase-it\n",
        "sys.setrecursionlimit(100_000)\n",
        "print(sys.getrecursionlimit())"
      ]
    },
    {
      "cell_type": "code",
      "execution_count": null,
      "metadata": {
        "id": "uhJwnE4vg25U"
      },
      "outputs": [],
      "source": [
        "good_fibonacci(5_000)"
      ]
    },
    {
      "cell_type": "code",
      "execution_count": null,
      "metadata": {
        "id": "yzYj9ZQyg25U"
      },
      "outputs": [],
      "source": [
        "## Fibonacci Solutions\n",
        "\n",
        "1. timing"
      ]
    },
    {
      "cell_type": "code",
      "execution_count": 97,
      "metadata": {
        "id": "c4U9lWZ0g25U"
      },
      "outputs": [],
      "source": [
        "def fibonacci_loop(n):\n",
        "    a, b = 1, 1\n",
        "    cnt = 3\n",
        "    while cnt <= n:\n",
        "        a, b = a+b, a  # Python lets us swap values using tuple unpacking\n",
        "        # in other languages we would need a temporary variable\n",
        "        cnt += 1\n",
        "    return a"
      ]
    },
    {
      "cell_type": "code",
      "execution_count": 102,
      "metadata": {
        "colab": {
          "base_uri": "https://localhost:8080/"
        },
        "id": "3McdZRZYg25U",
        "outputId": "ea23e16c-d5f4-4c50-cb2c-14968ed05e42"
      },
      "outputs": [
        {
          "data": {
            "text/plain": [
              "1"
            ]
          },
          "execution_count": 102,
          "metadata": {},
          "output_type": "execute_result"
        }
      ],
      "source": [
        "fibonacci_loop(2)"
      ]
    },
    {
      "cell_type": "code",
      "execution_count": 104,
      "metadata": {
        "colab": {
          "base_uri": "https://localhost:8080/"
        },
        "id": "8Rru9ra7g25U",
        "outputId": "01c5eb20-c1c5-403b-8020-1647444f193b"
      },
      "outputs": [
        {
          "data": {
            "text/plain": [
              "(55, (55, 34), 55)"
            ]
          },
          "execution_count": 104,
          "metadata": {},
          "output_type": "execute_result"
        }
      ],
      "source": [
        "fibonacci_loop(10), good_fibonacci(10), bad_fibonacci(10)"
      ]
    },
    {
      "cell_type": "code",
      "execution_count": 98,
      "metadata": {
        "colab": {
          "base_uri": "https://localhost:8080/",
          "height": 280
        },
        "id": "_h4uFiqvg25U",
        "outputId": "4f725a0c-24f6-4088-a1af-7b221269fee1"
      },
      "outputs": [
        {
          "data": {
            "image/png": "[encoded data removed]",
            "text/plain": [
              "<Figure size 640x480 with 1 Axes>"
            ]
          },
          "metadata": {},
          "output_type": "display_data"
        }
      ],
      "source": [
        "input_arr = [i for i in range(100, 2_000, 10)]\n",
        "\n",
        "fun2 = automatic_time(input_arr, fibonacci_loop)\n",
        "plt.plot(input_arr, fun2, color='red')\n",
        "fun1 = automatic_time(input_arr, good_fibonacci)\n",
        "plt.plot(input_arr, fun1, color='green')\n",
        "# add legend\n",
        "plt.legend([\"loop\",\"recursive\"])\n",
        "plt.xlabel(\"input size\")\n",
        "plt.ylabel(\"running time in seconds\")\n",
        "plt.show()"
      ]
    },
    {
      "cell_type": "code",
      "execution_count": 73,
      "metadata": {
        "colab": {
          "base_uri": "https://localhost:8080/",
          "height": 279
        },
        "id": "1lUG_C96vJMk",
        "outputId": "4695a4fb-a67a-4eee-c52d-cbc9bdfb32a0"
      },
      "outputs": [
        {
          "data": {
            "image/png": "[encoded data removed]",
            "text/plain": [
              "<Figure size 432x288 with 1 Axes>"
            ]
          },
          "metadata": {
            "needs_background": "light"
          },
          "output_type": "display_data"
        }
      ],
      "source": [
        "input_arr = [i for i in range(1000, 50_000, 1000)]\n",
        "\n",
        "fun2 = automatic_time(input_arr, fibonacci_loop)\n",
        "plt.plot(input_arr, fun2, label=\"Loop Fibonacci\")\n",
        "plt.xlabel(\"input size\")\n",
        "plt.ylabel(\"running time in seconds\")\n",
        "plt.show()"
      ]
    },
    {
      "cell_type": "code",
      "execution_count": 109,
      "metadata": {
        "colab": {
          "base_uri": "https://localhost:8080/"
        },
        "id": "j3OqqMGOvypo",
        "outputId": "65b2f3b9-6de5-43d1-ecda-216831a9bc1b"
      },
      "outputs": [
        {
          "data": {
            "text/plain": [
              "1077773489307297478027903885511948082962510676941157978490230921003274473536465230498488444020476029849319433283274054953307539817330483067414835387175554540519844620087346424938072325821301670190811988251618614959586085409937375106530448744637829968513893256636681633131732045918931898863135599612655615546389764030557151405397922601243227304829000716908863786206755177008322693280878498662740588365375937582745087047441929768088349613112971288592851767548484151032523851465334921528252459084466698411101587182887301894506311341515623798245893600417568995720126596157628990959355731402138029685765390557089535847112683962321195360189733388114238140515264593740927152326504059583750815213732368481593236728447575119467557464554422126542220275696283937536759059155955463878564256896667116761467384803801434909803321471265525245144152549832048734930166056768820668771759919744444935935088639508014800544331468556549936334994139143072089673319542213769664519855004306020366507003052291723041808934238051920953410007158729893603386457670243188709645798965413747164667906577936267866196457775757252015252068493715000460956718593142123341990626215459893933077132059613701637301087675999606255687706667591676091409577877451663668287538782197418996327734228301092476982626873928576490563480059410310767526696258416645787778507414220704441130914493668425195910176918761448464396869983540535428776253464879551756244862159817408126456774225752803753838399845933757396201602416068842272523487140676462153030586204625113611434042433798760578652117922768659247166354431987943463843003939890821453509262965233902059369238673525294206131750551625882357774114071358826125773212222415075574803998022214274948740799210572359084607321757510709230245040535821780299001683552089622478492821696389953101404432463976483368103166182454835144828572325165031466503598458267317211993173365145809936143008326989566407562507349640887192313422925890193544883744743179727153441102714065881520580800020703833148947768887649191217797780979925592987356964202390623983465277804263308821933051679883889295266504139825370287752631917589681462250484938100037614775188338234832218620895846937534869553149128721601417705627313643081288948613138219163025293502371819159964259808237634023944931332062605474612272279529426331164678088155095646499466245557649737684860053738504901734266039739248324716625233531964886694788142734276445419008184313311285634528998213366980652066093433365043971592724637670468056377718948001726470920269147563047690456061135449238592015854761083538522702832146058168406399364954040520312306429657043970818858218160287319473973542885349326873880702527039319014025425047674928003622157175606361221575771548307134889801648417805407682784567024531556241603011884695211901247893641848955660423954234060275086391900543714565307315974261376130677387011843248554909313482884510304468810023601212358542690835193336851063797643620778280627109031980839538821279264429549745862240679506906449939373868213045019493727878607758972681525013807476516567635263938687279182306523896293479421812775275767067080834661210060051449791193755194190272728264690837515587718472613394334005550731610759189196968295860856861127020272643374476594416348575355559350638645878075115101672843266839395295381516632463411691476527413885271733639979859771479701207382441862353688808431127070705443538393969991680729860997643787330361260452079179396215604783758857968160780376962005355105386101336700557030472593829600047682758904638946037995486421545466364591300907318692931557088089086195527051967319521656496879035621255086701042537404765688643583452932585495452656385578238942025984173701721726864251831594213215214887668013508259781248399946219087345016625368706423157916003496183228244221682588630755402774473006338257125053879794762007437829800385369171749592778397346486327639016218711371892595610580707152762581359953265897623888561431188784043844473052571055419223538596910537360352163873550560403153352499121085534012095978028039950967075483974230215432887173636247566623653380866864430165175366352610819322424161233092164312788407197728087032050242455296087274026149289728159928263937106027206247439203247705490211932980442487754584865236725036261503900272923999666373202619794081335574553272262224605020899992558374066410962363234619005279301784791564988962718852591579853514055187317372760225259278385032595533811723576068841003022532869389869512546991201860699250824699401152332702346215697937912339958175599061438259957388503897441647234171231389242764766139658847848865015454296064721728576055594663714912731505480325845556539532978711005142326842122418012383510399669199064364345355046580787890301614832970226041029108284021409508226100740261823493634691446617576464290209169492370331450663677309353028251465593040128357177052250027208271570162475958870983023951038237863317452827462837487831054529685241949550949300270558322882077594617493238778913673986212126487826512788140241476393543650959905044617726398073232737256400441289404756875082095025276877147072002068920905854395547491023074689952655988273754666079554722185768678339179917272311420903110261709672972820429876481918498528587138377701559889210214565715979078971055224258831946819028198708349528931795666673647713585326447378802655871624873692001133245996495979512491665017864224497401050660184945903924035680374218146194711367607013135028960782279158072703882459958944714887511134589371887360227661908272318939690112306974896858833174918479997120488507247345883095561156569291160773363311668417546453646881624620857813573180522067467140711482126062130699939856646824418267252979262452163383734411769930020367599600041783070096647169520710430984530779404242067445367313738799553275024603565157944491051109070665601404439941303780651854209730366323236086243808427807836753957463728590904062733874450560833790907346524980178737076670939139552105977373544906691655391102374992643002914560871898633256709874214502604984198816587332526831300605181816940481120587769275403445248982637481916391408520977719026098018526264301068727580050276809651792651716778187417438257153462699124447249565395132157534098418741235952746319802948605805611456205430193033596579324052274700134754987235581438252140425609628387606110527624718665488453716388222064628242046530124386099066517029486976032231174356597287928422723062460288788493358147105141511843672692519703933079389596250940749519518888098925655135988885701034055608754787209109532669487862345542862395362198334738551193514126583403099071806642221309860067721397686439793997791874899911592790375937100959177170168572551490609213096576987939444911316491133789751810580383022983881022008306091954322409601718365129974393104526918765567278705004743109508234037000236203693788853661375250567622973987365096071922663911213575659407494821583275920055441280699337966774677324078043916349598025118249971177882181830949863376164307813396603520247309182901757641796189701867666644657221232253811686116690912512665593122088467395732882460984227300618730614550665517158822709423183997675859237499300033514984853418833576097219524912054242267258271598490050901153972060253506226574678670622729692574998296809862577467225312694377023108363334414094355190989667655694415467173655735043735739278776509098374178270845535406317005069492078576483478289010993186205307737966664476771098958901153875491182698550325000552001309512085432894883248703104282593044230754234390695272647660220467324355983500460072684315358072710121127285384136760785378783103917958411954976413486928821058759532423899190358084225493001627000353033052088483748334929693388376318136230371670203359196670944887036147063035829298900896143631330096190057914242480691051968711036751346386916513104107408004257705076970455910557858723075595606915444904699652059156003908374517740263850194645488889167688358164311770641761788556479637620858284349112486366297000113369668619480190214121828164968171572735937095527707418079389610746472056852556923698683510801663730896494924358254425350706886201337834869795550747097370804271993324466140488861182220129154162318726927688938969292645509104916790039580176352365955058324426342204300126312549030595760622495862412634991057720122696284840731881205354830446943593964754164663587362164408781943949394826941923066545013268227299230790816701834137738671563394257084274107548430461739011142089895926922025607576486756312206236476000320258221498865747307869066088007593172717058800631067076025694246089138274686567385092261362361877821865883357996812329393028588861531195675558638677535574037205134653019181464741394364508632886321237869144759613705372635240130896237178985645318435761293363137895788100128813998911451017309988278367279140056990486891770644253869480711351967297092824202984812408878880431609348366135722327305774300128365219671994124950218534758476010543101647183465233462602174992570730116613189011695837136196346010376401485952494303531545751807381703538672148888672857626796472162417153381846603529369168061215869106968133569298701863093974377188004962852429839846398786383902904879497682857610688826661622717722626622250277735138061743992139859564690782235927994815436279154422537138563151659778253356822105524886400502765781650721804764164746233916221399341296264918214925606204501374304277857342560329690471180900430114207491819855872579225525208705654669240631463536275526404830226589992544397711562448807298277242831199965076119043609478712852663234822882865193256113124732013775586212528756087102479608712043180116458627079198279777781613711291295095243391731346239583285733632659648015650286988515006468909920659847545510172427616176240651739916939504597982496521591256133212646747851195837416643424292979101420604760095492319857449030727672157337435668631115590379450566286530080575780763060803482800642069793519164220974968065427952408907932659908102378715272523242170091136614684124158724497988910317528686643460105357181934446922109445999414768301104269876906038785417562116181321330670808593206053807020698071823063330468615629232705045196419148031059705628013608175009331914291885808751962605458474604194206257224753676742372629234677631054260685497191783786688197868052125761772640409495112155761882698223668381539682186867629262907557205675103732451647568429444236992124912404874642815806867508067244510645124441922343362518137645828033764612095719936197364556462149210633588703081823042665930493669537680372203970374907819690111266524020297618305364252373553125"
            ]
          },
          "execution_count": 109,
          "metadata": {},
          "output_type": "execute_result"
        }
      ],
      "source": [
        "fibonacci_loop(50_000)"
      ]
    },
    {
      "cell_type": "code",
      "execution_count": 110,
      "metadata": {
        "id": "_KPpgIaeg25V"
      },
      "outputs": [],
      "source": [
        "# 2. It is not tail recursive becuase there is something to do after returning the values (adding them together). We can use 2 accumulators to avoid this."
      ]
    },
    {
      "cell_type": "markdown",
      "metadata": {
        "id": "L6kIaQTOg25V"
      },
      "source": [
        "# Example: Binary Search"
      ]
    },
    {
      "cell_type": "markdown",
      "metadata": {
        "id": "CD5xx9X8g25V"
      },
      "source": [
        "Binary search is a classic recursive algorithm to find a target value within a sorted sequence. This is among the most important of computer algorithms, and it is the reason that we so often store data in sorted order.\n",
        "\n",
        "e.g. For the sorted sequence below stored in a Python list with indexes above:\n",
        "\n",
        "<table>\n",
        "<tr><th>0</th><th>1</th><th> 2</th><th>3</th><th>4</th><th> 5</th><th>6</th><th>7</th><th> 8</th><th>9</th><th>10</th><th> 11</th> </tr>\n",
        "<tr><td>2</td><td>4</td><td> 5</td><td>6</td><td>8</td><td> 9</td><td>15</td><td>16</td><td> 17</td><td>22</td><td>30</td><td> 31</td> </tr>\n",
        "</table>\n",
        "\n",
        "If the sequence was unsorted a simple solution is a _sequential search algorithm_: use a loop to examine every element. You either reach the end of the list or find the target.\n",
        "\n",
        "It is linear complexity, running in $\\mathcal{O}(n)$ time as worst case it inspects every element in the sequence.\n",
        "\n",
        "A sorted sequence allows a much faster approach. Think about how you would accomplish this task by hand: divide in two, and choose the middle digit as a candidate to compare to the target. Everything to the left of the candidate is lower than it and everything to the right is higher. Compare the target to the candidate and discard the left if the candidate is lower and the right if it is higher. Then repeat your _binary search_ algorithm. This is much more efficient, running in $\\mathcal{O}($log$n$) time.\n",
        "\n",
        "Review the iterative and recursive binary search algorithm implementations below."
      ]
    },
    {
      "cell_type": "code",
      "execution_count": 111,
      "metadata": {
        "id": "E1c5567Dg25V"
      },
      "outputs": [],
      "source": [
        "def binary_search_iterative(data, target):\n",
        "    \"\"\"Return True if target is found in the given Python list.\"\"\"\n",
        "    low = 0\n",
        "    high = len(data)-1\n",
        "    while low <= high: # so while array/list pointers do not meet we keep going\n",
        "        mid = (low + high) // 2 # // meaning even half\n",
        "        if target == data[mid]:         # found a match\n",
        "            return True\n",
        "        elif target < data[mid]:\n",
        "            high = mid - 1                # only consider values left of mid\n",
        "        else:\n",
        "            low = mid + 1                 # only consider values right of mid\n",
        "    return False                      # loop ended without success"
      ]
    },
    {
      "cell_type": "code",
      "execution_count": 112,
      "metadata": {
        "id": "31KWLGx8g25V"
      },
      "outputs": [],
      "source": [
        "def binary_search(data, target, low, high):\n",
        "    \"\"\"Return True if target is found in indicated portion of a Python list.\n",
        "\n",
        "      The search only considers the portion from data[low] to data[high] inclusive.\n",
        "      \"\"\"\n",
        "    if low > high:\n",
        "        return False                    # interval is empty; no match\n",
        "    else:\n",
        "        mid = (low + high) // 2\n",
        "    if target == data[mid]:         # found a match\n",
        "        return True\n",
        "    elif target < data[mid]:\n",
        "        # recur on the portion left of the middle\n",
        "        return binary_search(data, target, low, mid - 1)\n",
        "    else: # target > data[mid]\n",
        "        # recur on the portion right of the middle\n",
        "        return binary_search(data, target, mid + 1, high)"
      ]
    },
    {
      "cell_type": "markdown",
      "metadata": {
        "id": "znA9NT_mg25V"
      },
      "source": [
        "When a function makes two recursive calls, we say that it uses binary recursion. Clearly the binary_search above is a binary recursion. Drawing the English ruler and the bad fibonacci function are also examples of binary recursion."
      ]
    },
    {
      "cell_type": "code",
      "execution_count": 114,
      "metadata": {
        "colab": {
          "base_uri": "https://localhost:8080/"
        },
        "id": "ymGLof_zg25V",
        "outputId": "e68f1888-788c-4c0c-e334-03c69ee88dbf"
      },
      "outputs": [
        {
          "data": {
            "text/plain": [
              "True"
            ]
          },
          "execution_count": 114,
          "metadata": {},
          "output_type": "execute_result"
        }
      ],
      "source": [
        "data=[2,4,5,6,8,9,15,16,17,22,30,31,100, 9000, 9001,10_000]\n",
        "iter_ans = binary_search_iterative(data,100)\n",
        "iter_ans"
      ]
    },
    {
      "cell_type": "code",
      "execution_count": 115,
      "metadata": {
        "colab": {
          "base_uri": "https://localhost:8080/"
        },
        "id": "da4PXWQ_g25V",
        "outputId": "bc2ad345-c5eb-4160-94bb-61cdb178ef92"
      },
      "outputs": [
        {
          "data": {
            "text/plain": [
              "True"
            ]
          },
          "execution_count": 115,
          "metadata": {},
          "output_type": "execute_result"
        }
      ],
      "source": [
        "binary_search_iterative(data,15)"
      ]
    },
    {
      "cell_type": "code",
      "execution_count": null,
      "metadata": {
        "id": "ABz_pn-Yg25W"
      },
      "outputs": [],
      "source": [
        "binary_search_iterative(data,7)"
      ]
    },
    {
      "cell_type": "code",
      "execution_count": 116,
      "metadata": {
        "colab": {
          "base_uri": "https://localhost:8080/"
        },
        "id": "zl_2B34wg25W",
        "outputId": "e6542dc4-aad1-4268-ef39-90ba868166a7"
      },
      "outputs": [
        {
          "name": "stdout",
          "output_type": "stream",
          "text": [
            "10 loops, best of 5: 38.1 ms per loop\n"
          ]
        }
      ],
      "source": [
        "%%timeit\n",
        "binary_search_iterative(list(range(1_000_000)), 9000)"
      ]
    },
    {
      "cell_type": "code",
      "execution_count": 117,
      "metadata": {
        "colab": {
          "base_uri": "https://localhost:8080/"
        },
        "id": "DsRLIZkZg25W",
        "outputId": "54a83d58-982a-45b5-d7e2-f7f6a03e0b66"
      },
      "outputs": [
        {
          "data": {
            "text/plain": [
              "[999995, 999996, 999997, 999998, 999999]"
            ]
          },
          "execution_count": 117,
          "metadata": {},
          "output_type": "execute_result"
        }
      ],
      "source": [
        "# better would be to make the list before timing so as not to distort timing for the algorithm itself\n",
        "million = list(range(1_000_000))\n",
        "million[-5:]"
      ]
    },
    {
      "cell_type": "code",
      "execution_count": 118,
      "metadata": {
        "colab": {
          "base_uri": "https://localhost:8080/"
        },
        "id": "4tunh_oAw8kF",
        "outputId": "c4e73500-2d00-4b2e-c33d-3ee7d54fcaeb"
      },
      "outputs": [
        {
          "name": "stdout",
          "output_type": "stream",
          "text": [
            "The slowest run took 4.78 times longer than the fastest. This could mean that an intermediate result is being cached.\n",
            "100000 loops, best of 5: 4.33 µs per loop\n"
          ]
        }
      ],
      "source": [
        "%%timeit\n",
        "binary_search_iterative(million, 9000)"
      ]
    },
    {
      "cell_type": "markdown",
      "metadata": {
        "id": "p1Q-BRWoxJ0M"
      },
      "source": [
        "## Time the right thing - exclude data preparation if possible"
      ]
    },
    {
      "cell_type": "code",
      "execution_count": 121,
      "metadata": {
        "colab": {
          "base_uri": "https://localhost:8080/",
          "height": 279
        },
        "id": "7LTEkoH4g25W",
        "outputId": "a88680d5-07d8-4f36-ea64-3ab2f108728e"
      },
      "outputs": [
        {
          "data": {
            "image/png": "[encoded data removed]",
            "text/plain": [
              "<Figure size 432x288 with 1 Axes>"
            ]
          },
          "metadata": {
            "needs_background": "light"
          },
          "output_type": "display_data"
        }
      ],
      "source": [
        "input_arr = [(list(range(i)), 9000) for i in range(10_000, 2_000_000, 10_000)]\n",
        "\n",
        "fun1 = automatic_time(input_arr, binary_search_iterative)\n",
        "plt.plot([len(el[0]) for el in input_arr], fun1)b\n",
        "# fun2 = automatic_time(input_arr, binary_search) # the recursive one\n",
        "# plt.plot([len(el[0]) for el in input_arr], fun2)\n",
        "plt.xlabel(\"input size\")\n",
        "plt.ylabel(\"running time in seconds\")\n",
        "plt.show()"
      ]
    },
    {
      "cell_type": "code",
      "execution_count": 122,
      "metadata": {
        "id": "LPTdAEp_x1EZ"
      },
      "outputs": [],
      "source": [
        "input_arr = None # let GC handle this"
      ]
    },
    {
      "cell_type": "code",
      "execution_count": null,
      "metadata": {
        "id": "E74LvGrHg25W"
      },
      "outputs": [],
      "source": [
        "# so binary search is in log n time we would need a trulyl large data sets to see difference\n",
        "# most of our time is spent linearly setting up our data sets"
      ]
    },
    {
      "cell_type": "code",
      "execution_count": 123,
      "metadata": {
        "id": "ok353STLg25X"
      },
      "outputs": [],
      "source": [
        "arr = list(range(1_000_000))\n",
        "big_arr = list(range(100_000_000))"
      ]
    },
    {
      "cell_type": "code",
      "execution_count": 124,
      "metadata": {
        "colab": {
          "base_uri": "https://localhost:8080/"
        },
        "id": "WUTwdmp4g25X",
        "outputId": "994641c2-c568-4252-b355-e49976018720"
      },
      "outputs": [
        {
          "name": "stdout",
          "output_type": "stream",
          "text": [
            "The slowest run took 4.23 times longer than the fastest. This could mean that an intermediate result is being cached.\n",
            "100000 loops, best of 5: 5.6 µs per loop\n"
          ]
        }
      ],
      "source": [
        "%%timeit\n",
        "binary_search(arr, 9000, 0, len(arr)-1)"
      ]
    },
    {
      "cell_type": "code",
      "execution_count": 125,
      "metadata": {
        "colab": {
          "base_uri": "https://localhost:8080/"
        },
        "id": "MoqNWSNZg25X",
        "outputId": "f0ff9408-8979-4fa2-9f70-93be74f7a96d"
      },
      "outputs": [
        {
          "name": "stdout",
          "output_type": "stream",
          "text": [
            "The slowest run took 5.97 times longer than the fastest. This could mean that an intermediate result is being cached.\n",
            "100000 loops, best of 5: 4.39 µs per loop\n"
          ]
        }
      ],
      "source": [
        "%%timeit\n",
        "binary_search_iterative(arr, 9000)"
      ]
    },
    {
      "cell_type": "code",
      "execution_count": 126,
      "metadata": {
        "colab": {
          "base_uri": "https://localhost:8080/"
        },
        "id": "kKYXD1Kcg25X",
        "outputId": "63aee3ed-8d79-4f36-e8b6-9530e2af0eb6"
      },
      "outputs": [
        {
          "name": "stdout",
          "output_type": "stream",
          "text": [
            "100000 loops, best of 5: 10.1 µs per loop\n"
          ]
        }
      ],
      "source": [
        "%%timeit\n",
        "binary_search(big_arr, 9000, 0, len(big_arr)-1)"
      ]
    },
    {
      "cell_type": "code",
      "execution_count": 127,
      "metadata": {
        "colab": {
          "base_uri": "https://localhost:8080/"
        },
        "id": "zIgsKJI9g25X",
        "outputId": "05d81efd-fd3d-464b-8a4f-d83fc8daa503"
      },
      "outputs": [
        {
          "name": "stdout",
          "output_type": "stream",
          "text": [
            "The slowest run took 4.86 times longer than the fastest. This could mean that an intermediate result is being cached.\n",
            "100000 loops, best of 5: 9.82 µs per loop\n"
          ]
        }
      ],
      "source": [
        "%%timeit\n",
        "binary_search(big_arr, 50_000_000, 0, len(big_arr)-1) # so this should hit with 1 comparison"
      ]
    },
    {
      "cell_type": "code",
      "execution_count": 128,
      "metadata": {
        "colab": {
          "base_uri": "https://localhost:8080/"
        },
        "id": "NRIeg6ZLg25X",
        "outputId": "79bb36fa-37ce-4396-a0bc-9903774134d6"
      },
      "outputs": [
        {
          "name": "stdout",
          "output_type": "stream",
          "text": [
            "The slowest run took 5.42 times longer than the fastest. This could mean that an intermediate result is being cached.\n",
            "100000 loops, best of 5: 7.57 µs per loop\n"
          ]
        }
      ],
      "source": [
        "%%timeit\n",
        "binary_search_iterative(big_arr, 9000)"
      ]
    },
    {
      "cell_type": "code",
      "execution_count": 129,
      "metadata": {
        "colab": {
          "base_uri": "https://localhost:8080/"
        },
        "id": "d4G2m1o7g25Y",
        "outputId": "c1f46615-1a37-4c1a-acd6-fa6ccb1d4dd1"
      },
      "outputs": [
        {
          "name": "stdout",
          "output_type": "stream",
          "text": [
            "100000 loops, best of 5: 7.17 µs per loop\n"
          ]
        }
      ],
      "source": [
        "%%timeit\n",
        "binary_search_iterative(big_arr, 50_000_000) # so this should hit with 1 comparison"
      ]
    },
    {
      "cell_type": "code",
      "execution_count": null,
      "metadata": {
        "id": "CymgDhz9g25Y"
      },
      "outputs": [],
      "source": [
        "# so creating a recursive algorithm yourself\n",
        "# check if problem is already solved\n",
        "# otherwise reduce problem to simpler instance of the same problem\n",
        "# in other words Simplify and Delegate the problem"
      ]
    },
    {
      "cell_type": "code",
      "execution_count": null,
      "metadata": {
        "id": "Jp3XfuDpg25Y"
      },
      "outputs": [],
      "source": [
        "# all recursive algorithms can be transformed to regular loop based algorithms\n",
        "# worst case you build your stack for holding the function calls"
      ]
    },
    {
      "cell_type": "markdown",
      "metadata": {
        "id": "9RQ09TaYg25Y"
      },
      "source": [
        "## Length of an array"
      ]
    },
    {
      "cell_type": "code",
      "execution_count": null,
      "metadata": {
        "id": "F0BmBTgkg25Y"
      },
      "outputs": [],
      "source": [
        "# in case we forgout about len() function ..."
      ]
    },
    {
      "cell_type": "code",
      "execution_count": null,
      "metadata": {
        "id": "SHLdKFW5g25Y"
      },
      "outputs": [],
      "source": [
        "def array_len(x):\n",
        "    if x == []:\n",
        "        return 0\n",
        "    else:\n",
        "        return 1 + array_len(x[1:])"
      ]
    },
    {
      "cell_type": "code",
      "execution_count": null,
      "metadata": {
        "id": "yAQhACT2g25Y",
        "outputId": "1adcf5b9-cb6f-4fa5-f642-9ccc4ec2cf75"
      },
      "outputs": [
        {
          "data": {
            "text/plain": [
              "0"
            ]
          },
          "execution_count": 16,
          "metadata": {},
          "output_type": "execute_result"
        }
      ],
      "source": [
        "array_len([])"
      ]
    },
    {
      "cell_type": "code",
      "execution_count": null,
      "metadata": {
        "id": "Iq5o0uPkg25Z",
        "outputId": "e145b3d6-ad90-4060-88de-a9ba04d2dd52"
      },
      "outputs": [
        {
          "data": {
            "text/plain": [
              "3"
            ]
          },
          "execution_count": 17,
          "metadata": {},
          "output_type": "execute_result"
        }
      ],
      "source": [
        "array_len([1, 2, 3])"
      ]
    },
    {
      "cell_type": "code",
      "execution_count": null,
      "metadata": {
        "id": "0IiBjgTpg25Z",
        "outputId": "6b46eec6-aa30-4480-b17d-8d0d455fe1bd"
      },
      "outputs": [
        {
          "data": {
            "text/plain": [
              "2961"
            ]
          },
          "execution_count": 29,
          "metadata": {},
          "output_type": "execute_result"
        }
      ],
      "source": [
        "array_len(list(range(2961))) # so it looks like 3000 limit is actually 2961 (presumably stack needs space for other functions)"
      ]
    },
    {
      "cell_type": "markdown",
      "metadata": {
        "id": "AMdXRjtig25Z"
      },
      "source": [
        "## Sum of the elements in an array"
      ]
    },
    {
      "cell_type": "code",
      "execution_count": null,
      "metadata": {
        "id": "VV0wKx8Mg25Z"
      },
      "outputs": [],
      "source": [
        "# in case we forgot about sum() function ..."
      ]
    },
    {
      "cell_type": "code",
      "execution_count": null,
      "metadata": {
        "id": "tCUSvgRzg25Z"
      },
      "outputs": [],
      "source": [
        "def array_sum(x):\n",
        "    if x == []:\n",
        "        return 0\n",
        "    else:\n",
        "        return x[0] + array_sum(x[1:])"
      ]
    },
    {
      "cell_type": "code",
      "execution_count": null,
      "metadata": {
        "id": "QKcFSvKbg25a",
        "outputId": "5e2397a0-c9f9-4839-f8ad-8142cab22d02"
      },
      "outputs": [
        {
          "data": {
            "text/plain": [
              "0"
            ]
          },
          "execution_count": 31,
          "metadata": {},
          "output_type": "execute_result"
        }
      ],
      "source": [
        "array_sum([])"
      ]
    },
    {
      "cell_type": "code",
      "execution_count": null,
      "metadata": {
        "id": "0OpWqh7Tg25a",
        "outputId": "ca754fc5-ac3c-4ce3-8a5f-f5828ef2f4bf"
      },
      "outputs": [
        {
          "data": {
            "text/plain": [
              "5"
            ]
          },
          "execution_count": 32,
          "metadata": {},
          "output_type": "execute_result"
        }
      ],
      "source": [
        "array_sum([5])"
      ]
    },
    {
      "cell_type": "code",
      "execution_count": null,
      "metadata": {
        "id": "gyEe2cd9g25a",
        "outputId": "8e99a2a9-3169-4195-cc70-c1f7ea822570"
      },
      "outputs": [
        {
          "data": {
            "text/plain": [
              "15"
            ]
          },
          "execution_count": 33,
          "metadata": {},
          "output_type": "execute_result"
        }
      ],
      "source": [
        "array_sum([1, 2, 3, 4, 5])"
      ]
    },
    {
      "cell_type": "code",
      "execution_count": null,
      "metadata": {
        "id": "7p_4tPChg25a",
        "outputId": "61b36b03-53b7-47ed-dc84-d97ffbe728ea"
      },
      "outputs": [
        {
          "data": {
            "text/plain": [
              "5050"
            ]
          },
          "execution_count": 34,
          "metadata": {},
          "output_type": "execute_result"
        }
      ],
      "source": [
        "array_sum(list(range(101))) # remember the formula for summing arithmethic series n(n-1)/2"
      ]
    },
    {
      "cell_type": "code",
      "execution_count": null,
      "metadata": {
        "id": "kcjXoZD5g25a",
        "outputId": "0948957d-67a0-41b9-bab3-9189f74ab1d0"
      },
      "outputs": [
        {
          "data": {
            "text/plain": [
              "4382280"
            ]
          },
          "execution_count": 37,
          "metadata": {},
          "output_type": "execute_result"
        }
      ],
      "source": [
        "array_sum(list(range(2961)))"
      ]
    },
    {
      "cell_type": "markdown",
      "metadata": {
        "id": "LxSZXHb7g25a"
      },
      "source": [
        "# Tower of Hanoi\n",
        "![tower](https://upload.wikimedia.org/wikipedia/commons/thumb/0/07/Tower_of_Hanoi.jpeg/600px-Tower_of_Hanoi.jpeg)\n",
        "\n",
        "* must not move more than one disc at a time \n",
        "* must place this disc on a needle so that there is no smaller disc below it"
      ]
    },
    {
      "cell_type": "markdown",
      "metadata": {
        "id": "1zdJUGxYg25a"
      },
      "source": [
        "## Quicksort - more about sorting later on"
      ]
    },
    {
      "cell_type": "code",
      "execution_count": null,
      "metadata": {
        "id": "gmWikfzWg25b"
      },
      "outputs": [],
      "source": [
        "def quicksort(array):\n",
        "    if len(array) < 2:\n",
        "        return array\n",
        "    else:\n",
        "        pivot = array[0]\n",
        "        smaller, bigger = [], []\n",
        "        for ele in array[1:]:\n",
        "            if ele <= pivot:\n",
        "                smaller.append(ele)\n",
        "            else:\n",
        "                bigger.append(ele)\n",
        "        return quicksort(smaller) + [pivot] + quicksort(bigger)"
      ]
    },
    {
      "cell_type": "code",
      "execution_count": null,
      "metadata": {
        "id": "THuZ_fkZg25b"
      },
      "outputs": [],
      "source": [
        "quicksort([])"
      ]
    },
    {
      "cell_type": "code",
      "execution_count": null,
      "metadata": {
        "id": "qBYb8QJFg25b"
      },
      "outputs": [],
      "source": [
        "quicksort([5])"
      ]
    },
    {
      "cell_type": "code",
      "execution_count": null,
      "metadata": {
        "id": "6_Sfou0Ig25b"
      },
      "outputs": [],
      "source": [
        "quicksort([5, 4])"
      ]
    },
    {
      "cell_type": "code",
      "execution_count": null,
      "metadata": {
        "id": "CniofWXBg25b"
      },
      "outputs": [],
      "source": [
        "quicksort([1, 2, 7, 5, 4])"
      ]
    },
    {
      "cell_type": "code",
      "execution_count": null,
      "metadata": {
        "id": "KLxi9e84g25b"
      },
      "outputs": [],
      "source": [
        "quicksort([5, 4, 3, 2])"
      ]
    }
  ],
  "metadata": {
    "colab": {
      "name": "recursion-examples.ipynb",
      "provenance": []
    },
    "kernelspec": {
      "display_name": "Python 3",
      "language": "python",
      "name": "python3"
    },
    "language_info": {
      "codemirror_mode": {
        "name": "ipython",
        "version": 3
      },
      "file_extension": ".py",
      "mimetype": "text/x-python",
      "name": "python",
      "nbconvert_exporter": "python",
      "pygments_lexer": "ipython3",
      "version": "3.11.4"
    }
  },
  "nbformat": 4,
  "nbformat_minor": 0
}
