{
 "cells": [
  {
   "cell_type": "markdown",
   "metadata": {},
   "source": [
    "# n queens -\n",
    "https://www.geeksforgeeks.org/n-queen-problem-backtracking-3/"
   ]
  },
  {
   "cell_type": "code",
   "execution_count": 3,
   "metadata": {},
   "outputs": [],
   "source": [
    "# Python3 program to solve N Queen \n",
    "# Problem using backtracking \n",
    "global N # kind of ugly global state\n",
    "N = 4\n",
    "\n",
    "def printSolution(board): \n",
    "    for i in range(N): \n",
    "        for j in range(N): \n",
    "            print (board[i][j], end = \" \") \n",
    "        print() \n",
    "\n",
    "# A utility function to check if a queen can \n",
    "# be placed on board[row][col]. Note that this \n",
    "# function is called when \"col\" queens are \n",
    "# already placed in columns from 0 to col -1. \n",
    "# So we need to check only left side for \n",
    "# attacking queens \n",
    "def isSafe(board, row, col): \n",
    "    # Check this row on left side \n",
    "    for i in range(col): \n",
    "        if board[row][i] == 1: \n",
    "            return False\n",
    "\n",
    "    # Check upper diagonal on left side \n",
    "    for i, j in zip(range(row, -1, -1), \n",
    "                    range(col, -1, -1)): \n",
    "        if board[i][j] == 1: \n",
    "            return False\n",
    "\n",
    "    # Check lower diagonal on left side \n",
    "    for i, j in zip(range(row, N, 1), \n",
    "                    range(col, -1, -1)): \n",
    "        if board[i][j] == 1: \n",
    "            return False\n",
    "\n",
    "    return True\n",
    "\n",
    "def solveNQUtil(board, col): \n",
    "\n",
    "    # base case: If all queens are placed \n",
    "    # then return true \n",
    "    if col >= N: \n",
    "        return True\n",
    "\n",
    "    # Consider this column and try placing \n",
    "    # this queen in all rows one by one \n",
    "    for i in range(N): \n",
    "\n",
    "        if isSafe(board, i, col): \n",
    "\n",
    "            # Place this queen in board[i][col] \n",
    "            board[i][col] = 1\n",
    "\n",
    "            # recur to place rest of the queens \n",
    "            if solveNQUtil(board, col + 1) == True: \n",
    "                return True\n",
    "\n",
    "            # If placing queen in board[i][col \n",
    "            # doesn't lead to a solution, then \n",
    "            # queen from board[i][col] \n",
    "            board[i][col] = 0\n",
    "\n",
    "    # if the queen can not be placed in any row in \n",
    "    # this colum col then return false \n",
    "    return False\n",
    "\n",
    "# This function solves the N Queen problem using \n",
    "# Backtracking. It mainly uses solveNQUtil() to \n",
    "# solve the problem. It returns false if queens \n",
    "# cannot be placed, otherwise return true and \n",
    "# placement of queens in the form of 1s. \n",
    "# note that there may be more than one \n",
    "# solutions, this function prints one of the \n",
    "# feasible solutions. \n",
    "\n",
    "\n",
    "\n",
    "\n",
    "\n",
    "# This code is contributed by Divyanshu Mehta \n"
   ]
  },
  {
   "cell_type": "code",
   "execution_count": 13,
   "metadata": {},
   "outputs": [],
   "source": [
    "def solveNQ(board = tuple([0,0,0,0] for n in range(4)), print_board=True): # passing in default 4x4\n",
    "#     board = [ [0, 0, 0, 0], \n",
    "#             [0, 0, 0, 0], \n",
    "#             [0, 0, 0, 0], \n",
    "#             [0, 0, 0, 0] ] \n",
    "\n",
    "    if solveNQUtil(board, 0) == False: \n",
    "        #print (\"Solution does not exist\") \n",
    "        return False\n",
    "\n",
    "    if print_board:\n",
    "        printSolution(board) \n",
    "    return True"
   ]
  },
  {
   "cell_type": "code",
   "execution_count": 5,
   "metadata": {},
   "outputs": [
    {
     "name": "stdout",
     "output_type": "stream",
     "text": [
      "0 0 1 0 \n",
      "1 0 0 0 \n",
      "0 0 0 1 \n",
      "0 1 0 0 \n"
     ]
    },
    {
     "data": {
      "text/plain": [
       "True"
      ]
     },
     "execution_count": 5,
     "metadata": {},
     "output_type": "execute_result"
    }
   ],
   "source": [
    "# Driver Code \n",
    "solveNQ() "
   ]
  },
  {
   "cell_type": "code",
   "execution_count": 6,
   "metadata": {},
   "outputs": [
    {
     "name": "stdout",
     "output_type": "stream",
     "text": [
      "0 0 0 1 0 0 \n",
      "1 0 0 0 0 0 \n",
      "0 0 0 0 1 0 \n",
      "0 1 0 0 0 0 \n",
      "0 0 0 0 0 1 \n",
      "0 0 1 0 0 0 \n"
     ]
    },
    {
     "data": {
      "text/plain": [
       "True"
      ]
     },
     "execution_count": 6,
     "metadata": {},
     "output_type": "execute_result"
    }
   ],
   "source": [
    "N = 6 # ack global\n",
    "solveNQ([[0]*N for _ in range(N)])"
   ]
  },
  {
   "cell_type": "code",
   "execution_count": 7,
   "metadata": {},
   "outputs": [
    {
     "name": "stdout",
     "output_type": "stream",
     "text": [
      "1 0 0 0 0 0 0 \n",
      "0 0 0 0 1 0 0 \n",
      "0 1 0 0 0 0 0 \n",
      "0 0 0 0 0 1 0 \n",
      "0 0 1 0 0 0 0 \n",
      "0 0 0 0 0 0 1 \n",
      "0 0 0 1 0 0 0 \n"
     ]
    },
    {
     "data": {
      "text/plain": [
       "True"
      ]
     },
     "execution_count": 7,
     "metadata": {},
     "output_type": "execute_result"
    }
   ],
   "source": [
    "N = 7 # ack global\n",
    "solveNQ([[0]*N for _ in range(N)])"
   ]
  },
  {
   "cell_type": "code",
   "execution_count": 8,
   "metadata": {},
   "outputs": [
    {
     "name": "stdout",
     "output_type": "stream",
     "text": [
      "1 0 0 0 0 0 0 0 \n",
      "0 0 0 0 0 0 1 0 \n",
      "0 0 0 0 1 0 0 0 \n",
      "0 0 0 0 0 0 0 1 \n",
      "0 1 0 0 0 0 0 0 \n",
      "0 0 0 1 0 0 0 0 \n",
      "0 0 0 0 0 1 0 0 \n",
      "0 0 1 0 0 0 0 0 \n"
     ]
    },
    {
     "data": {
      "text/plain": [
       "True"
      ]
     },
     "execution_count": 8,
     "metadata": {},
     "output_type": "execute_result"
    }
   ],
   "source": [
    "N = 8 # ack global\n",
    "solveNQ([[0]*N for _ in range(N)])"
   ]
  },
  {
   "cell_type": "code",
   "execution_count": 9,
   "metadata": {},
   "outputs": [
    {
     "name": "stdout",
     "output_type": "stream",
     "text": [
      "1 0 0 0 0 0 0 0 \n",
      "0 0 0 0 0 0 1 0 \n",
      "0 0 0 0 1 0 0 0 \n",
      "0 0 0 0 0 0 0 1 \n",
      "0 1 0 0 0 0 0 0 \n",
      "0 0 0 1 0 0 0 0 \n",
      "0 0 0 0 0 1 0 0 \n",
      "0 0 1 0 0 0 0 0 \n"
     ]
    },
    {
     "data": {
      "text/plain": [
       "True"
      ]
     },
     "execution_count": 9,
     "metadata": {},
     "output_type": "execute_result"
    }
   ],
   "source": [
    "N = 8 # ack global\n",
    "solveNQ([[0]*N for _ in range(N)])"
   ]
  },
  {
   "cell_type": "code",
   "execution_count": null,
   "metadata": {},
   "outputs": [],
   "source": [
    "# since we choose our paths deterministically we get the same solution always\n",
    "# we could flip the board around to get mirror and rotated solutions\n"
   ]
  },
  {
   "cell_type": "code",
   "execution_count": 10,
   "metadata": {},
   "outputs": [
    {
     "data": {
      "text/plain": [
       "[[0, 0, 0, 0, 0, 0, 0, 0],\n",
       " [0, 0, 0, 0, 0, 0, 0, 0],\n",
       " [0, 0, 0, 0, 0, 0, 0, 0],\n",
       " [0, 0, 0, 0, 0, 0, 0, 0],\n",
       " [0, 0, 0, 0, 0, 0, 0, 0],\n",
       " [0, 0, 0, 0, 0, 0, 0, 0],\n",
       " [0, 0, 0, 0, 0, 0, 0, 0],\n",
       " [0, 0, 0, 0, 0, 0, 0, 0]]"
      ]
     },
     "execution_count": 10,
     "metadata": {},
     "output_type": "execute_result"
    }
   ],
   "source": [
    "board = [[0]*N for _ in range(N)]\n",
    "board"
   ]
  },
  {
   "cell_type": "code",
   "execution_count": 14,
   "metadata": {},
   "outputs": [
    {
     "name": "stdout",
     "output_type": "stream",
     "text": [
      "1.8 ms ± 28.7 µs per loop (mean ± std. dev. of 7 runs, 1000 loops each)\n"
     ]
    }
   ],
   "source": [
    "%%timeit\n",
    "solveNQ([[0]*N for _ in range(N)], print_board=False)"
   ]
  },
  {
   "cell_type": "code",
   "execution_count": null,
   "metadata": {},
   "outputs": [],
   "source": [
    "# reason we got a solution does not exist is that we already prefilled the board after first run :)\n"
   ]
  },
  {
   "cell_type": "code",
   "execution_count": 15,
   "metadata": {},
   "outputs": [
    {
     "name": "stdout",
     "output_type": "stream",
     "text": [
      "1 0 0 0 0 0 0 0 0 0 \n",
      "0 0 0 0 0 0 0 1 0 0 \n",
      "0 1 0 0 0 0 0 0 0 0 \n",
      "0 0 0 0 0 0 0 0 1 0 \n",
      "0 0 0 0 0 1 0 0 0 0 \n",
      "0 0 1 0 0 0 0 0 0 0 \n",
      "0 0 0 0 0 0 0 0 0 1 \n",
      "0 0 0 1 0 0 0 0 0 0 \n",
      "0 0 0 0 0 0 1 0 0 0 \n",
      "0 0 0 0 1 0 0 0 0 0 \n"
     ]
    },
    {
     "data": {
      "text/plain": [
       "True"
      ]
     },
     "execution_count": 15,
     "metadata": {},
     "output_type": "execute_result"
    }
   ],
   "source": [
    "N = 10\n",
    "solveNQ([[0]*N for _ in range(N)])"
   ]
  },
  {
   "cell_type": "code",
   "execution_count": 16,
   "metadata": {},
   "outputs": [
    {
     "name": "stdout",
     "output_type": "stream",
     "text": [
      "1 0 0 0 0 0 0 0 0 0 0 \n",
      "0 0 0 0 0 0 1 0 0 0 0 \n",
      "0 1 0 0 0 0 0 0 0 0 0 \n",
      "0 0 0 0 0 0 0 1 0 0 0 \n",
      "0 0 1 0 0 0 0 0 0 0 0 \n",
      "0 0 0 0 0 0 0 0 1 0 0 \n",
      "0 0 0 1 0 0 0 0 0 0 0 \n",
      "0 0 0 0 0 0 0 0 0 1 0 \n",
      "0 0 0 0 1 0 0 0 0 0 0 \n",
      "0 0 0 0 0 0 0 0 0 0 1 \n",
      "0 0 0 0 0 1 0 0 0 0 0 \n"
     ]
    },
    {
     "data": {
      "text/plain": [
       "True"
      ]
     },
     "execution_count": 16,
     "metadata": {},
     "output_type": "execute_result"
    }
   ],
   "source": [
    "N = 11\n",
    "solveNQ([[0]*N for _ in range(N)])"
   ]
  },
  {
   "cell_type": "code",
   "execution_count": 17,
   "metadata": {},
   "outputs": [
    {
     "name": "stdout",
     "output_type": "stream",
     "text": [
      "1 0 0 0 0 0 0 0 0 0 0 0 \n",
      "0 0 0 0 0 0 0 0 1 0 0 0 \n",
      "0 1 0 0 0 0 0 0 0 0 0 0 \n",
      "0 0 0 0 0 0 0 0 0 0 0 1 \n",
      "0 0 1 0 0 0 0 0 0 0 0 0 \n",
      "0 0 0 0 0 0 1 0 0 0 0 0 \n",
      "0 0 0 0 0 0 0 0 0 1 0 0 \n",
      "0 0 0 1 0 0 0 0 0 0 0 0 \n",
      "0 0 0 0 0 0 0 0 0 0 1 0 \n",
      "0 0 0 0 1 0 0 0 0 0 0 0 \n",
      "0 0 0 0 0 0 0 1 0 0 0 0 \n",
      "0 0 0 0 0 1 0 0 0 0 0 0 \n"
     ]
    },
    {
     "data": {
      "text/plain": [
       "True"
      ]
     },
     "execution_count": 17,
     "metadata": {},
     "output_type": "execute_result"
    }
   ],
   "source": [
    "N = 12\n",
    "solveNQ([[0]*N for _ in range(N)])"
   ]
  },
  {
   "cell_type": "code",
   "execution_count": 18,
   "metadata": {},
   "outputs": [
    {
     "name": "stdout",
     "output_type": "stream",
     "text": [
      "1 0 0 0 0 0 0 0 0 \n",
      "0 0 0 0 1 0 0 0 0 \n",
      "0 1 0 0 0 0 0 0 0 \n",
      "0 0 0 0 0 1 0 0 0 \n",
      "0 0 0 0 0 0 0 0 1 \n",
      "0 0 1 0 0 0 0 0 0 \n",
      "0 0 0 0 0 0 0 1 0 \n",
      "0 0 0 1 0 0 0 0 0 \n",
      "0 0 0 0 0 0 1 0 0 \n"
     ]
    },
    {
     "data": {
      "text/plain": [
       "True"
      ]
     },
     "execution_count": 18,
     "metadata": {},
     "output_type": "execute_result"
    }
   ],
   "source": [
    "N = 9\n",
    "solveNQ([[0]*N for _ in range(N)])"
   ]
  },
  {
   "cell_type": "code",
   "execution_count": 19,
   "metadata": {},
   "outputs": [
    {
     "name": "stdout",
     "output_type": "stream",
     "text": [
      "1 0 0 0 0 0 0 \n",
      "0 0 0 0 1 0 0 \n",
      "0 1 0 0 0 0 0 \n",
      "0 0 0 0 0 1 0 \n",
      "0 0 1 0 0 0 0 \n",
      "0 0 0 0 0 0 1 \n",
      "0 0 0 1 0 0 0 \n"
     ]
    },
    {
     "data": {
      "text/plain": [
       "True"
      ]
     },
     "execution_count": 19,
     "metadata": {},
     "output_type": "execute_result"
    }
   ],
   "source": [
    "N = 7\n",
    "solveNQ([[0]*N for _ in range(N)])"
   ]
  },
  {
   "cell_type": "code",
   "execution_count": 20,
   "metadata": {},
   "outputs": [
    {
     "name": "stdout",
     "output_type": "stream",
     "text": [
      "1 0 0 0 0 0 0 0 \n",
      "0 0 0 0 0 0 1 0 \n",
      "0 0 0 0 1 0 0 0 \n",
      "0 0 0 0 0 0 0 1 \n",
      "0 1 0 0 0 0 0 0 \n",
      "0 0 0 1 0 0 0 0 \n",
      "0 0 0 0 0 1 0 0 \n",
      "0 0 1 0 0 0 0 0 \n"
     ]
    },
    {
     "data": {
      "text/plain": [
       "True"
      ]
     },
     "execution_count": 20,
     "metadata": {},
     "output_type": "execute_result"
    }
   ],
   "source": [
    "N = 8\n",
    "solveNQ([[0]*N for _ in range(N)])"
   ]
  },
  {
   "cell_type": "code",
   "execution_count": 21,
   "metadata": {},
   "outputs": [],
   "source": [
    "import random"
   ]
  },
  {
   "cell_type": "code",
   "execution_count": 26,
   "metadata": {},
   "outputs": [
    {
     "data": {
      "text/plain": [
       "[2, 2, 4, 0, 2, 2, 3, 0]"
      ]
     },
     "execution_count": 26,
     "metadata": {},
     "output_type": "execute_result"
    }
   ],
   "source": [
    "random.choices(list(range(N)),k=N)"
   ]
  },
  {
   "cell_type": "code",
   "execution_count": 34,
   "metadata": {},
   "outputs": [
    {
     "data": {
      "text/plain": [
       "[3, 7, 2, 0, 6, 4, 5, 1]"
      ]
     },
     "execution_count": 34,
     "metadata": {},
     "output_type": "execute_result"
    }
   ],
   "source": [
    "random.sample(list(range(N)),k=N)"
   ]
  },
  {
   "cell_type": "code",
   "execution_count": 35,
   "metadata": {},
   "outputs": [],
   "source": [
    "\n",
    "def solveNQUtilRandom(board, col): \n",
    "\n",
    "    # base case: If all queens are placed \n",
    "    # then return true \n",
    "    if col >= N: \n",
    "        return True\n",
    "\n",
    "    # Consider this column and try placing \n",
    "    # this queen in all rows one by one \n",
    "    for i in random.sample(list(range(N)),k=N): \n",
    "\n",
    "        if isSafe(board, i, col): \n",
    "\n",
    "            # Place this queen in board[i][col] \n",
    "            board[i][col] = 1\n",
    "\n",
    "            # recur to place rest of the queens \n",
    "            if solveNQUtil(board, col + 1) == True: \n",
    "                return True\n",
    "\n",
    "            # If placing queen in board[i][col \n",
    "            # doesn't lead to a solution, then \n",
    "            # queen from board[i][col] \n",
    "            board[i][col] = 0\n",
    "\n",
    "    # if the queen can not be placed in any row in \n",
    "    # this colum col then return false \n",
    "    return False\n",
    "\n",
    "def solveNQRandom(board = tuple([0,0,0,0] for n in range(4)), print_board=True): # passing in default 4x4\n",
    "#     board = [ [0, 0, 0, 0], \n",
    "#             [0, 0, 0, 0], \n",
    "#             [0, 0, 0, 0], \n",
    "#             [0, 0, 0, 0] ] \n",
    "\n",
    "    if solveNQUtilRandom(board, 0) == False: \n",
    "        #print (\"Solution does not exist\") \n",
    "        return False\n",
    "\n",
    "    if print_board:\n",
    "        printSolution(board) \n",
    "    return True"
   ]
  },
  {
   "cell_type": "code",
   "execution_count": 36,
   "metadata": {},
   "outputs": [
    {
     "name": "stdout",
     "output_type": "stream",
     "text": [
      "0 1 0 0 0 0 0 0 \n",
      "0 0 0 1 0 0 0 0 \n",
      "0 0 0 0 0 1 0 0 \n",
      "0 0 0 0 0 0 0 1 \n",
      "0 0 1 0 0 0 0 0 \n",
      "1 0 0 0 0 0 0 0 \n",
      "0 0 0 0 0 0 1 0 \n",
      "0 0 0 0 1 0 0 0 \n"
     ]
    },
    {
     "data": {
      "text/plain": [
       "True"
      ]
     },
     "execution_count": 36,
     "metadata": {},
     "output_type": "execute_result"
    }
   ],
   "source": [
    "N = 8\n",
    "solveNQRandom([[0]*N for _ in range(N)])"
   ]
  },
  {
   "cell_type": "code",
   "execution_count": 59,
   "metadata": {},
   "outputs": [
    {
     "name": "stdout",
     "output_type": "stream",
     "text": [
      "1 0 0 0 0 0 0 0 \n",
      "0 0 0 0 0 0 1 0 \n",
      "0 0 0 0 1 0 0 0 \n",
      "0 0 0 0 0 0 0 1 \n",
      "0 1 0 0 0 0 0 0 \n",
      "0 0 0 1 0 0 0 0 \n",
      "0 0 0 0 0 1 0 0 \n",
      "0 0 1 0 0 0 0 0 \n"
     ]
    },
    {
     "data": {
      "text/plain": [
       "True"
      ]
     },
     "execution_count": 59,
     "metadata": {},
     "output_type": "execute_result"
    }
   ],
   "source": [
    "N = 8\n",
    "solveNQRandom([[0]*N for _ in range(N)])"
   ]
  },
  {
   "cell_type": "code",
   "execution_count": 60,
   "metadata": {},
   "outputs": [
    {
     "name": "stdout",
     "output_type": "stream",
     "text": [
      "586 µs ± 13.8 µs per loop (mean ± std. dev. of 7 runs, 1000 loops each)\n"
     ]
    }
   ],
   "source": [
    "%%timeit\n",
    "solveNQRandom([[0]*N for _ in range(N)], print_board=False)"
   ]
  },
  {
   "cell_type": "code",
   "execution_count": null,
   "metadata": {},
   "outputs": [],
   "source": [
    "# what does it mean that our randomized solution worked faster than hardcoded selection?\n",
    "# random is about twice as fast in this case"
   ]
  },
  {
   "cell_type": "code",
   "execution_count": 61,
   "metadata": {},
   "outputs": [],
   "source": [
    "N=10"
   ]
  },
  {
   "cell_type": "code",
   "execution_count": 62,
   "metadata": {},
   "outputs": [
    {
     "name": "stdout",
     "output_type": "stream",
     "text": [
      "1.85 ms ± 79.3 µs per loop (mean ± std. dev. of 7 runs, 100 loops each)\n"
     ]
    }
   ],
   "source": [
    "%%timeit\n",
    "solveNQRandom([[0]*N for _ in range(N)], print_board=False)"
   ]
  },
  {
   "cell_type": "code",
   "execution_count": 63,
   "metadata": {},
   "outputs": [
    {
     "name": "stdout",
     "output_type": "stream",
     "text": [
      "2.13 ms ± 56.2 µs per loop (mean ± std. dev. of 7 runs, 100 loops each)\n"
     ]
    }
   ],
   "source": [
    "%%timeit\n",
    "solveNQ([[0]*N for _ in range(N)], print_board=False)"
   ]
  },
  {
   "cell_type": "code",
   "execution_count": 65,
   "metadata": {},
   "outputs": [
    {
     "data": {
      "text/plain": [
       "[9, 8, 7, 6, 5, 4, 3, 2, 1, 0]"
      ]
     },
     "execution_count": 65,
     "metadata": {},
     "output_type": "execute_result"
    }
   ],
   "source": [
    "list(range(N-1,-1,-1))"
   ]
  },
  {
   "cell_type": "code",
   "execution_count": 66,
   "metadata": {},
   "outputs": [
    {
     "data": {
      "text/plain": [
       "[0, 1, 2, 3, 4, 5, 6, 7, 8, 9]"
      ]
     },
     "execution_count": 66,
     "metadata": {},
     "output_type": "execute_result"
    }
   ],
   "source": [
    "list(range(N))"
   ]
  },
  {
   "cell_type": "code",
   "execution_count": 67,
   "metadata": {},
   "outputs": [],
   "source": [
    "def solveNQUtilReverse(board, col): \n",
    "\n",
    "    # base case: If all queens are placed \n",
    "    # then return true \n",
    "    if col >= N: \n",
    "        return True\n",
    "\n",
    "    # Consider this column and try placing \n",
    "    # this queen in all rows one by one \n",
    "    for i in range(N-1,-1,-1): \n",
    "\n",
    "        if isSafe(board, i, col): \n",
    "\n",
    "            # Place this queen in board[i][col] \n",
    "            board[i][col] = 1\n",
    "\n",
    "            # recur to place rest of the queens \n",
    "            if solveNQUtil(board, col + 1) == True: \n",
    "                return True\n",
    "\n",
    "            # If placing queen in board[i][col \n",
    "            # doesn't lead to a solution, then \n",
    "            # queen from board[i][col] \n",
    "            board[i][col] = 0\n",
    "\n",
    "    # if the queen can not be placed in any row in \n",
    "    # this colum col then return false \n",
    "    return False\n",
    "\n",
    "def solveNQReverse(board = tuple([0,0,0,0] for n in range(4)), print_board=True): # passing in default 4x4\n",
    "#     board = [ [0, 0, 0, 0], \n",
    "#             [0, 0, 0, 0], \n",
    "#             [0, 0, 0, 0], \n",
    "#             [0, 0, 0, 0] ] \n",
    "\n",
    "    if solveNQUtilReverse(board, 0) == False: \n",
    "        #print (\"Solution does not exist\") \n",
    "        return False\n",
    "\n",
    "    if print_board:\n",
    "        printSolution(board) \n",
    "    return True"
   ]
  },
  {
   "cell_type": "code",
   "execution_count": 68,
   "metadata": {},
   "outputs": [
    {
     "name": "stdout",
     "output_type": "stream",
     "text": [
      "0 1 0 0 0 0 0 0 0 0 \n",
      "0 0 0 0 0 0 1 0 0 0 \n",
      "0 0 0 0 1 0 0 0 0 0 \n",
      "0 0 1 0 0 0 0 0 0 0 \n",
      "0 0 0 0 0 0 0 0 1 0 \n",
      "0 0 0 1 0 0 0 0 0 0 \n",
      "0 0 0 0 0 0 0 0 0 1 \n",
      "0 0 0 0 0 0 0 1 0 0 \n",
      "0 0 0 0 0 1 0 0 0 0 \n",
      "1 0 0 0 0 0 0 0 0 0 \n"
     ]
    },
    {
     "data": {
      "text/plain": [
       "True"
      ]
     },
     "execution_count": 68,
     "metadata": {},
     "output_type": "execute_result"
    }
   ],
   "source": [
    "N=10\n",
    "solveNQReverse([[0]*N for _ in range(N)])"
   ]
  },
  {
   "cell_type": "code",
   "execution_count": 69,
   "metadata": {},
   "outputs": [
    {
     "name": "stdout",
     "output_type": "stream",
     "text": [
      "1.97 ms ± 36.8 µs per loop (mean ± std. dev. of 7 runs, 1000 loops each)\n"
     ]
    }
   ],
   "source": [
    "%%timeit\n",
    "solveNQReverse([[0]*N for _ in range(N)], print_board=False)"
   ]
  },
  {
   "cell_type": "code",
   "execution_count": 71,
   "metadata": {},
   "outputs": [],
   "source": [
    "N =8"
   ]
  },
  {
   "cell_type": "code",
   "execution_count": 72,
   "metadata": {},
   "outputs": [
    {
     "name": "stdout",
     "output_type": "stream",
     "text": [
      "713 µs ± 43.3 µs per loop (mean ± std. dev. of 7 runs, 1000 loops each)\n"
     ]
    }
   ],
   "source": [
    "%%timeit\n",
    "solveNQReverse([[0]*N for _ in range(N)], print_board=False)"
   ]
  }
 ],
 "metadata": {
  "kernelspec": {
   "display_name": "Python 3",
   "language": "python",
   "name": "python3"
  },
  "language_info": {
   "codemirror_mode": {
    "name": "ipython",
    "version": 3
   },
   "file_extension": ".py",
   "mimetype": "text/x-python",
   "name": "python",
   "nbconvert_exporter": "python",
   "pygments_lexer": "ipython3",
   "version": "3.8.3"
  }
 },
 "nbformat": 4,
 "nbformat_minor": 4
}
