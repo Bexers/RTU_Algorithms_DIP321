{
  "cells": [
    {
      "cell_type": "markdown",
      "metadata": {
        "id": "h0Li5YHDtsKL"
      },
      "source": [
        "# n-queens  problem\n",
        "\n",
        "https://en.wikipedia.org/wiki/Eight_queens_puzzle\n",
        "\n",
        "![Solution](https://upload.wikimedia.org/wikipedia/commons/1/1f/Eight-queens-animation.gif)\n",
        "https://www.geeksforgeeks.org/n-queen-problem-backtracking-3/"
      ]
    },
    {
      "cell_type": "code",
      "execution_count": 1,
      "metadata": {
        "colab": {
          "base_uri": "https://localhost:8080/"
        },
        "id": "l9AyFn99tsKW",
        "outputId": "0b15fe60-00f1-40b3-b481-e47fa9c708b0"
      },
      "outputs": [
        {
          "output_type": "execute_result",
          "data": {
            "text/plain": [
              "4426165368"
            ]
          },
          "metadata": {},
          "execution_count": 1
        }
      ],
      "source": [
        "# so if we were going to use completely brute force we would need  to look at C(8,64) solutions\n",
        "# we can use our friend memoized function from last week\n",
        "import functools\n",
        "@functools.lru_cache(maxsize=None)\n",
        "def C_mem(n,k):\n",
        "    if k == 0: return 1\n",
        "    if n == 0: return 0\n",
        "    return C_mem(n-1,k-1) + C_mem(n-1,k)\n",
        "C_mem(64,8)"
      ]
    },
    {
      "cell_type": "code",
      "source": [
        "# from itertools import combinations # we could generate all combination\n"
      ],
      "metadata": {
        "id": "ge44_GryuaoP"
      },
      "execution_count": null,
      "outputs": []
    },
    {
      "cell_type": "code",
      "execution_count": 18,
      "metadata": {
        "id": "_GPl9u2TtsKa"
      },
      "outputs": [],
      "source": [
        "# Python3 program to solve N Queen \n",
        "# Problem using backtracking \n",
        "# global N # kind of ugly global state\n",
        "# N = 4\n",
        "\n",
        "def printSolution(board, N): \n",
        "    for i in range(N): \n",
        "        for j in range(N): \n",
        "            print (board[i][j], end = \" \") \n",
        "        print() \n",
        "\n",
        "# A utility function to check if a queen can \n",
        "# be placed on board[row][col]. Note that this \n",
        "# function is called when \"col\" queens are \n",
        "# already placed in columns from 0 to col -1. \n",
        "# So we need to check only left side for \n",
        "# attacking queens \n",
        "def isSafe(board, row, col, N, debug=False): \n",
        "    # Check this row on left side \n",
        "    for i in range(col): \n",
        "        if board[row][i] == 1: \n",
        "            return False\n",
        "\n",
        "    # Check upper diagonal on left side \n",
        "    for i, j in zip(range(row, -1, -1), \n",
        "                    range(col, -1, -1)): \n",
        "        if debug:\n",
        "            print(f\"Checking row {i}, col {j}\")\n",
        "            printSolution(board, N)\n",
        "        if board[i][j] == 1: \n",
        "            return False\n",
        "\n",
        "    # Check lower diagonal on left side \n",
        "    for i, j in zip(range(row, N, 1), \n",
        "                    range(col, -1, -1)): \n",
        "        if board[i][j] == 1: \n",
        "            return False\n",
        "\n",
        "    return True\n",
        "\n",
        "def solveNQUtil(board, col, N, debug=False): \n",
        "\n",
        "    # base case: If all queens are placed \n",
        "    # then return true \n",
        "    if col >= N: \n",
        "        return True\n",
        "\n",
        "    # Consider this column and try placing \n",
        "    # this queen in all rows one by one \n",
        "    for i in range(N): \n",
        "\n",
        "        if isSafe(board, i, col, N, debug): \n",
        "\n",
        "            # Place this queen in board[i][col] \n",
        "            board[i][col] = 1\n",
        "\n",
        "            # recur to place rest of the queens \n",
        "            if solveNQUtil(board, col + 1, N, debug) == True: \n",
        "                return True\n",
        "\n",
        "            # If placing queen in board[i][col \n",
        "            # doesn't lead to a solution, then \n",
        "            # queen from board[i][col] \n",
        "            board[i][col] = 0\n",
        "\n",
        "    # if the queen can not be placed in any row in \n",
        "    # this colum col then return false \n",
        "    return False\n",
        "\n",
        "# This function solves the N Queen problem using \n",
        "# Backtracking. It mainly uses solveNQUtil() to \n",
        "# solve the problem. It returns false if queens \n",
        "# cannot be placed, otherwise return true and \n",
        "# placement of queens in the form of 1s. \n",
        "# note that there may be more than one \n",
        "# solutions, this function prints one of the \n",
        "# feasible solutions. \n",
        "\n",
        "def solveNQ(N, print_board=True, debug=False): # passing in default 4x4\n",
        "    # board = tuple([0,0,0,0] for _ in range(N)) # !!!! bug fixed below \n",
        "    # in normal code base you would delete such code lines\n",
        "    board = tuple([0] * N for _ in range(N)) # we need to create a blank board\n",
        "\n",
        "    if solveNQUtil(board, 0, N, debug) == False: \n",
        "        #print (\"Solution does not exist\") \n",
        "        return False\n",
        "\n",
        "    if print_board:\n",
        "        printSolution(board, N) \n",
        "    return True\n",
        "\n",
        "\n",
        "\n",
        "# This code is contributed by Divyanshu Mehta \n",
        "# Modified by VS - strive to avoid globals in  your code!\n"
      ]
    },
    {
      "cell_type": "code",
      "execution_count": 21,
      "metadata": {
        "colab": {
          "base_uri": "https://localhost:8080/"
        },
        "id": "Q_ooZjYKtsKc",
        "outputId": "53b813b2-ace9-4e78-9ade-f0cd4fea6b25"
      },
      "outputs": [
        {
          "output_type": "stream",
          "name": "stdout",
          "text": [
            "0 0 1 0 \n",
            "1 0 0 0 \n",
            "0 0 0 1 \n",
            "0 1 0 0 \n"
          ]
        },
        {
          "output_type": "execute_result",
          "data": {
            "text/plain": [
              "True"
            ]
          },
          "metadata": {},
          "execution_count": 21
        }
      ],
      "source": [
        "solveNQ(4) "
      ]
    },
    {
      "cell_type": "code",
      "source": [
        "solveNQ(4, debug=True) "
      ],
      "metadata": {
        "id": "QJxDDxPQ17NM",
        "outputId": "c3b92cf3-ae98-4599-a60d-4c10a09f82d2",
        "colab": {
          "base_uri": "https://localhost:8080/"
        }
      },
      "execution_count": 22,
      "outputs": [
        {
          "output_type": "stream",
          "name": "stdout",
          "text": [
            "Checking row 0, col 0\n",
            "0 0 0 0 \n",
            "0 0 0 0 \n",
            "0 0 0 0 \n",
            "0 0 0 0 \n",
            "Checking row 1, col 1\n",
            "1 0 0 0 \n",
            "0 0 0 0 \n",
            "0 0 0 0 \n",
            "0 0 0 0 \n",
            "Checking row 0, col 0\n",
            "1 0 0 0 \n",
            "0 0 0 0 \n",
            "0 0 0 0 \n",
            "0 0 0 0 \n",
            "Checking row 2, col 1\n",
            "1 0 0 0 \n",
            "0 0 0 0 \n",
            "0 0 0 0 \n",
            "0 0 0 0 \n",
            "Checking row 1, col 0\n",
            "1 0 0 0 \n",
            "0 0 0 0 \n",
            "0 0 0 0 \n",
            "0 0 0 0 \n",
            "Checking row 1, col 2\n",
            "1 0 0 0 \n",
            "0 0 0 0 \n",
            "0 1 0 0 \n",
            "0 0 0 0 \n",
            "Checking row 0, col 1\n",
            "1 0 0 0 \n",
            "0 0 0 0 \n",
            "0 1 0 0 \n",
            "0 0 0 0 \n",
            "Checking row 3, col 2\n",
            "1 0 0 0 \n",
            "0 0 0 0 \n",
            "0 1 0 0 \n",
            "0 0 0 0 \n",
            "Checking row 2, col 1\n",
            "1 0 0 0 \n",
            "0 0 0 0 \n",
            "0 1 0 0 \n",
            "0 0 0 0 \n",
            "Checking row 3, col 1\n",
            "1 0 0 0 \n",
            "0 0 0 0 \n",
            "0 0 0 0 \n",
            "0 0 0 0 \n",
            "Checking row 2, col 0\n",
            "1 0 0 0 \n",
            "0 0 0 0 \n",
            "0 0 0 0 \n",
            "0 0 0 0 \n",
            "Checking row 1, col 2\n",
            "1 0 0 0 \n",
            "0 0 0 0 \n",
            "0 0 0 0 \n",
            "0 1 0 0 \n",
            "Checking row 0, col 1\n",
            "1 0 0 0 \n",
            "0 0 0 0 \n",
            "0 0 0 0 \n",
            "0 1 0 0 \n",
            "Checking row 2, col 3\n",
            "1 0 0 0 \n",
            "0 0 1 0 \n",
            "0 0 0 0 \n",
            "0 1 0 0 \n",
            "Checking row 1, col 2\n",
            "1 0 0 0 \n",
            "0 0 1 0 \n",
            "0 0 0 0 \n",
            "0 1 0 0 \n",
            "Checking row 2, col 2\n",
            "1 0 0 0 \n",
            "0 0 0 0 \n",
            "0 0 0 0 \n",
            "0 1 0 0 \n",
            "Checking row 1, col 1\n",
            "1 0 0 0 \n",
            "0 0 0 0 \n",
            "0 0 0 0 \n",
            "0 1 0 0 \n",
            "Checking row 0, col 0\n",
            "1 0 0 0 \n",
            "0 0 0 0 \n",
            "0 0 0 0 \n",
            "0 1 0 0 \n",
            "Checking row 1, col 0\n",
            "0 0 0 0 \n",
            "0 0 0 0 \n",
            "0 0 0 0 \n",
            "0 0 0 0 \n",
            "Checking row 0, col 1\n",
            "0 0 0 0 \n",
            "1 0 0 0 \n",
            "0 0 0 0 \n",
            "0 0 0 0 \n",
            "Checking row 2, col 1\n",
            "0 0 0 0 \n",
            "1 0 0 0 \n",
            "0 0 0 0 \n",
            "0 0 0 0 \n",
            "Checking row 1, col 0\n",
            "0 0 0 0 \n",
            "1 0 0 0 \n",
            "0 0 0 0 \n",
            "0 0 0 0 \n",
            "Checking row 3, col 1\n",
            "0 0 0 0 \n",
            "1 0 0 0 \n",
            "0 0 0 0 \n",
            "0 0 0 0 \n",
            "Checking row 2, col 0\n",
            "0 0 0 0 \n",
            "1 0 0 0 \n",
            "0 0 0 0 \n",
            "0 0 0 0 \n",
            "Checking row 0, col 2\n",
            "0 0 0 0 \n",
            "1 0 0 0 \n",
            "0 0 0 0 \n",
            "0 1 0 0 \n",
            "Checking row 2, col 3\n",
            "0 0 1 0 \n",
            "1 0 0 0 \n",
            "0 0 0 0 \n",
            "0 1 0 0 \n",
            "Checking row 1, col 2\n",
            "0 0 1 0 \n",
            "1 0 0 0 \n",
            "0 0 0 0 \n",
            "0 1 0 0 \n",
            "Checking row 0, col 1\n",
            "0 0 1 0 \n",
            "1 0 0 0 \n",
            "0 0 0 0 \n",
            "0 1 0 0 \n",
            "0 0 1 0 \n",
            "1 0 0 0 \n",
            "0 0 0 1 \n",
            "0 1 0 0 \n"
          ]
        },
        {
          "output_type": "execute_result",
          "data": {
            "text/plain": [
              "True"
            ]
          },
          "metadata": {},
          "execution_count": 22
        }
      ]
    },
    {
      "cell_type": "code",
      "execution_count": 12,
      "metadata": {
        "colab": {
          "base_uri": "https://localhost:8080/"
        },
        "id": "ezCgtuiftsKc",
        "outputId": "51d33201-e0b4-4ad7-de3f-7e2e1ce25889"
      },
      "outputs": [
        {
          "output_type": "stream",
          "name": "stdout",
          "text": [
            "Checking row 0, col 0\n",
            "0 0 0 \n",
            "0 0 0 \n",
            "0 0 0 \n",
            "Checking row 1, col 1\n",
            "1 0 0 \n",
            "0 0 0 \n",
            "0 0 0 \n",
            "Checking row 0, col 0\n",
            "1 0 0 \n",
            "0 0 0 \n",
            "0 0 0 \n",
            "Checking row 2, col 1\n",
            "1 0 0 \n",
            "0 0 0 \n",
            "0 0 0 \n",
            "Checking row 1, col 0\n",
            "1 0 0 \n",
            "0 0 0 \n",
            "0 0 0 \n",
            "Checking row 1, col 2\n",
            "1 0 0 \n",
            "0 0 0 \n",
            "0 1 0 \n",
            "Checking row 0, col 1\n",
            "1 0 0 \n",
            "0 0 0 \n",
            "0 1 0 \n",
            "Checking row 1, col 0\n",
            "0 0 0 \n",
            "0 0 0 \n",
            "0 0 0 \n",
            "Checking row 0, col 1\n",
            "0 0 0 \n",
            "1 0 0 \n",
            "0 0 0 \n",
            "Checking row 2, col 1\n",
            "0 0 0 \n",
            "1 0 0 \n",
            "0 0 0 \n",
            "Checking row 1, col 0\n",
            "0 0 0 \n",
            "1 0 0 \n",
            "0 0 0 \n",
            "Checking row 2, col 0\n",
            "0 0 0 \n",
            "0 0 0 \n",
            "0 0 0 \n",
            "Checking row 0, col 1\n",
            "0 0 0 \n",
            "0 0 0 \n",
            "1 0 0 \n",
            "Checking row 1, col 2\n",
            "0 1 0 \n",
            "0 0 0 \n",
            "1 0 0 \n",
            "Checking row 0, col 1\n",
            "0 1 0 \n",
            "0 0 0 \n",
            "1 0 0 \n",
            "Checking row 1, col 1\n",
            "0 0 0 \n",
            "0 0 0 \n",
            "1 0 0 \n",
            "Checking row 0, col 0\n",
            "0 0 0 \n",
            "0 0 0 \n",
            "1 0 0 \n"
          ]
        },
        {
          "output_type": "execute_result",
          "data": {
            "text/plain": [
              "False"
            ]
          },
          "metadata": {},
          "execution_count": 12
        }
      ],
      "source": [
        "# Driver Code \n",
        "solveNQ(3) "
      ]
    },
    {
      "cell_type": "code",
      "source": [
        "# Driver Code \n",
        "solveNQ(5) "
      ],
      "metadata": {
        "colab": {
          "base_uri": "https://localhost:8080/"
        },
        "id": "AH5xm2Bkvv0c",
        "outputId": "ad5fa06d-9119-43ec-c061-f9deff1d4e83"
      },
      "execution_count": 23,
      "outputs": [
        {
          "output_type": "stream",
          "name": "stdout",
          "text": [
            "1 0 0 0 0 \n",
            "0 0 0 1 0 \n",
            "0 1 0 0 0 \n",
            "0 0 0 0 1 \n",
            "0 0 1 0 0 \n"
          ]
        },
        {
          "output_type": "execute_result",
          "data": {
            "text/plain": [
              "True"
            ]
          },
          "metadata": {},
          "execution_count": 23
        }
      ]
    },
    {
      "cell_type": "code",
      "execution_count": 16,
      "metadata": {
        "colab": {
          "base_uri": "https://localhost:8080/"
        },
        "id": "gVxX2HyDtsKd",
        "outputId": "2b01b45f-f97d-4d9e-a126-093cc6aaa5d8"
      },
      "outputs": [
        {
          "output_type": "execute_result",
          "data": {
            "text/plain": [
              "[[0, 0, 0, 0, 0, 0],\n",
              " [0, 0, 0, 0, 0, 0],\n",
              " [0, 0, 0, 0, 0, 0],\n",
              " [0, 0, 0, 0, 0, 0],\n",
              " [0, 0, 0, 0, 0, 0],\n",
              " [0, 0, 0, 0, 0, 0]]"
            ]
          },
          "metadata": {},
          "execution_count": 16
        }
      ],
      "source": [
        "N = 6\n",
        "[[0]*N for _ in range(N)]"
      ]
    },
    {
      "cell_type": "code",
      "source": [
        "solveNQ(5, debug=True) "
      ],
      "metadata": {
        "colab": {
          "base_uri": "https://localhost:8080/"
        },
        "id": "Vt7IfJtdv5J4",
        "outputId": "40ce0b5b-30c8-4081-c3c2-2d609955004b"
      },
      "execution_count": 24,
      "outputs": [
        {
          "output_type": "stream",
          "name": "stdout",
          "text": [
            "Checking row 0, col 0\n",
            "0 0 0 0 0 \n",
            "0 0 0 0 0 \n",
            "0 0 0 0 0 \n",
            "0 0 0 0 0 \n",
            "0 0 0 0 0 \n",
            "Checking row 1, col 1\n",
            "1 0 0 0 0 \n",
            "0 0 0 0 0 \n",
            "0 0 0 0 0 \n",
            "0 0 0 0 0 \n",
            "0 0 0 0 0 \n",
            "Checking row 0, col 0\n",
            "1 0 0 0 0 \n",
            "0 0 0 0 0 \n",
            "0 0 0 0 0 \n",
            "0 0 0 0 0 \n",
            "0 0 0 0 0 \n",
            "Checking row 2, col 1\n",
            "1 0 0 0 0 \n",
            "0 0 0 0 0 \n",
            "0 0 0 0 0 \n",
            "0 0 0 0 0 \n",
            "0 0 0 0 0 \n",
            "Checking row 1, col 0\n",
            "1 0 0 0 0 \n",
            "0 0 0 0 0 \n",
            "0 0 0 0 0 \n",
            "0 0 0 0 0 \n",
            "0 0 0 0 0 \n",
            "Checking row 1, col 2\n",
            "1 0 0 0 0 \n",
            "0 0 0 0 0 \n",
            "0 1 0 0 0 \n",
            "0 0 0 0 0 \n",
            "0 0 0 0 0 \n",
            "Checking row 0, col 1\n",
            "1 0 0 0 0 \n",
            "0 0 0 0 0 \n",
            "0 1 0 0 0 \n",
            "0 0 0 0 0 \n",
            "0 0 0 0 0 \n",
            "Checking row 3, col 2\n",
            "1 0 0 0 0 \n",
            "0 0 0 0 0 \n",
            "0 1 0 0 0 \n",
            "0 0 0 0 0 \n",
            "0 0 0 0 0 \n",
            "Checking row 2, col 1\n",
            "1 0 0 0 0 \n",
            "0 0 0 0 0 \n",
            "0 1 0 0 0 \n",
            "0 0 0 0 0 \n",
            "0 0 0 0 0 \n",
            "Checking row 4, col 2\n",
            "1 0 0 0 0 \n",
            "0 0 0 0 0 \n",
            "0 1 0 0 0 \n",
            "0 0 0 0 0 \n",
            "0 0 0 0 0 \n",
            "Checking row 3, col 1\n",
            "1 0 0 0 0 \n",
            "0 0 0 0 0 \n",
            "0 1 0 0 0 \n",
            "0 0 0 0 0 \n",
            "0 0 0 0 0 \n",
            "Checking row 2, col 0\n",
            "1 0 0 0 0 \n",
            "0 0 0 0 0 \n",
            "0 1 0 0 0 \n",
            "0 0 0 0 0 \n",
            "0 0 0 0 0 \n",
            "Checking row 1, col 3\n",
            "1 0 0 0 0 \n",
            "0 0 0 0 0 \n",
            "0 1 0 0 0 \n",
            "0 0 0 0 0 \n",
            "0 0 1 0 0 \n",
            "Checking row 0, col 2\n",
            "1 0 0 0 0 \n",
            "0 0 0 0 0 \n",
            "0 1 0 0 0 \n",
            "0 0 0 0 0 \n",
            "0 0 1 0 0 \n",
            "Checking row 3, col 4\n",
            "1 0 0 0 0 \n",
            "0 0 0 1 0 \n",
            "0 1 0 0 0 \n",
            "0 0 0 0 0 \n",
            "0 0 1 0 0 \n",
            "Checking row 2, col 3\n",
            "1 0 0 0 0 \n",
            "0 0 0 1 0 \n",
            "0 1 0 0 0 \n",
            "0 0 0 0 0 \n",
            "0 0 1 0 0 \n",
            "Checking row 1, col 2\n",
            "1 0 0 0 0 \n",
            "0 0 0 1 0 \n",
            "0 1 0 0 0 \n",
            "0 0 0 0 0 \n",
            "0 0 1 0 0 \n",
            "Checking row 0, col 1\n",
            "1 0 0 0 0 \n",
            "0 0 0 1 0 \n",
            "0 1 0 0 0 \n",
            "0 0 0 0 0 \n",
            "0 0 1 0 0 \n",
            "1 0 0 0 0 \n",
            "0 0 0 1 0 \n",
            "0 1 0 0 0 \n",
            "0 0 0 0 1 \n",
            "0 0 1 0 0 \n"
          ]
        },
        {
          "output_type": "execute_result",
          "data": {
            "text/plain": [
              "True"
            ]
          },
          "metadata": {},
          "execution_count": 24
        }
      ]
    },
    {
      "cell_type": "code",
      "execution_count": 25,
      "metadata": {
        "colab": {
          "base_uri": "https://localhost:8080/"
        },
        "id": "Jic8FG0atsKg",
        "outputId": "5c0cf25f-29de-41e8-8ab8-ee033b1cfb61"
      },
      "outputs": [
        {
          "output_type": "stream",
          "name": "stdout",
          "text": [
            "0 0 1 0 \n",
            "1 0 0 0 \n",
            "0 0 0 1 \n",
            "0 1 0 0 \n",
            "----------------------------------------\n",
            "1 0 0 0 0 \n",
            "0 0 0 1 0 \n",
            "0 1 0 0 0 \n",
            "0 0 0 0 1 \n",
            "0 0 1 0 0 \n",
            "----------------------------------------\n",
            "0 0 0 1 0 0 \n",
            "1 0 0 0 0 0 \n",
            "0 0 0 0 1 0 \n",
            "0 1 0 0 0 0 \n",
            "0 0 0 0 0 1 \n",
            "0 0 1 0 0 0 \n",
            "----------------------------------------\n",
            "1 0 0 0 0 0 0 \n",
            "0 0 0 0 1 0 0 \n",
            "0 1 0 0 0 0 0 \n",
            "0 0 0 0 0 1 0 \n",
            "0 0 1 0 0 0 0 \n",
            "0 0 0 0 0 0 1 \n",
            "0 0 0 1 0 0 0 \n",
            "----------------------------------------\n",
            "1 0 0 0 0 0 0 0 \n",
            "0 0 0 0 0 0 1 0 \n",
            "0 0 0 0 1 0 0 0 \n",
            "0 0 0 0 0 0 0 1 \n",
            "0 1 0 0 0 0 0 0 \n",
            "0 0 0 1 0 0 0 0 \n",
            "0 0 0 0 0 1 0 0 \n",
            "0 0 1 0 0 0 0 0 \n",
            "----------------------------------------\n",
            "1 0 0 0 0 0 0 0 0 \n",
            "0 0 0 0 1 0 0 0 0 \n",
            "0 1 0 0 0 0 0 0 0 \n",
            "0 0 0 0 0 1 0 0 0 \n",
            "0 0 0 0 0 0 0 0 1 \n",
            "0 0 1 0 0 0 0 0 0 \n",
            "0 0 0 0 0 0 0 1 0 \n",
            "0 0 0 1 0 0 0 0 0 \n",
            "0 0 0 0 0 0 1 0 0 \n",
            "----------------------------------------\n",
            "1 0 0 0 0 0 0 0 0 0 \n",
            "0 0 0 0 0 0 0 1 0 0 \n",
            "0 1 0 0 0 0 0 0 0 0 \n",
            "0 0 0 0 0 0 0 0 1 0 \n",
            "0 0 0 0 0 1 0 0 0 0 \n",
            "0 0 1 0 0 0 0 0 0 0 \n",
            "0 0 0 0 0 0 0 0 0 1 \n",
            "0 0 0 1 0 0 0 0 0 0 \n",
            "0 0 0 0 0 0 1 0 0 0 \n",
            "0 0 0 0 1 0 0 0 0 0 \n",
            "----------------------------------------\n",
            "1 0 0 0 0 0 0 0 0 0 0 \n",
            "0 0 0 0 0 0 1 0 0 0 0 \n",
            "0 1 0 0 0 0 0 0 0 0 0 \n",
            "0 0 0 0 0 0 0 1 0 0 0 \n",
            "0 0 1 0 0 0 0 0 0 0 0 \n",
            "0 0 0 0 0 0 0 0 1 0 0 \n",
            "0 0 0 1 0 0 0 0 0 0 0 \n",
            "0 0 0 0 0 0 0 0 0 1 0 \n",
            "0 0 0 0 1 0 0 0 0 0 0 \n",
            "0 0 0 0 0 0 0 0 0 0 1 \n",
            "0 0 0 0 0 1 0 0 0 0 0 \n",
            "----------------------------------------\n",
            "1 0 0 0 0 0 0 0 0 0 0 0 \n",
            "0 0 0 0 0 0 0 0 1 0 0 0 \n",
            "0 1 0 0 0 0 0 0 0 0 0 0 \n",
            "0 0 0 0 0 0 0 0 0 0 0 1 \n",
            "0 0 1 0 0 0 0 0 0 0 0 0 \n",
            "0 0 0 0 0 0 1 0 0 0 0 0 \n",
            "0 0 0 0 0 0 0 0 0 1 0 0 \n",
            "0 0 0 1 0 0 0 0 0 0 0 0 \n",
            "0 0 0 0 0 0 0 0 0 0 1 0 \n",
            "0 0 0 0 1 0 0 0 0 0 0 0 \n",
            "0 0 0 0 0 0 0 1 0 0 0 0 \n",
            "0 0 0 0 0 1 0 0 0 0 0 0 \n",
            "----------------------------------------\n",
            "1 0 0 0 0 0 0 0 0 0 0 0 0 \n",
            "0 0 0 1 0 0 0 0 0 0 0 0 0 \n",
            "0 1 0 0 0 0 0 0 0 0 0 0 0 \n",
            "0 0 0 0 0 0 0 0 1 0 0 0 0 \n",
            "0 0 1 0 0 0 0 0 0 0 0 0 0 \n",
            "0 0 0 0 0 0 0 0 0 1 0 0 0 \n",
            "0 0 0 0 0 0 0 0 0 0 0 0 1 \n",
            "0 0 0 0 0 0 0 0 0 0 1 0 0 \n",
            "0 0 0 0 1 0 0 0 0 0 0 0 0 \n",
            "0 0 0 0 0 0 1 0 0 0 0 0 0 \n",
            "0 0 0 0 0 0 0 0 0 0 0 1 0 \n",
            "0 0 0 0 0 1 0 0 0 0 0 0 0 \n",
            "0 0 0 0 0 0 0 1 0 0 0 0 0 \n",
            "----------------------------------------\n",
            "1 0 0 0 0 0 0 0 0 0 0 0 0 0 \n",
            "0 0 0 0 0 0 0 0 0 0 1 0 0 0 \n",
            "0 1 0 0 0 0 0 0 0 0 0 0 0 0 \n",
            "0 0 0 0 0 0 0 1 0 0 0 0 0 0 \n",
            "0 0 1 0 0 0 0 0 0 0 0 0 0 0 \n",
            "0 0 0 0 0 0 0 0 0 0 0 1 0 0 \n",
            "0 0 0 1 0 0 0 0 0 0 0 0 0 0 \n",
            "0 0 0 0 0 0 0 0 0 0 0 0 1 0 \n",
            "0 0 0 0 0 0 0 0 0 1 0 0 0 0 \n",
            "0 0 0 0 0 1 0 0 0 0 0 0 0 0 \n",
            "0 0 0 0 0 0 0 0 0 0 0 0 0 1 \n",
            "0 0 0 0 1 0 0 0 0 0 0 0 0 0 \n",
            "0 0 0 0 0 0 1 0 0 0 0 0 0 0 \n",
            "0 0 0 0 0 0 0 0 1 0 0 0 0 0 \n",
            "----------------------------------------\n",
            "1 0 0 0 0 0 0 0 0 0 0 0 0 0 0 \n",
            "0 0 0 1 0 0 0 0 0 0 0 0 0 0 0 \n",
            "0 1 0 0 0 0 0 0 0 0 0 0 0 0 0 \n",
            "0 0 0 0 0 0 0 1 0 0 0 0 0 0 0 \n",
            "0 0 1 0 0 0 0 0 0 0 0 0 0 0 0 \n",
            "0 0 0 0 0 0 0 0 0 0 1 0 0 0 0 \n",
            "0 0 0 0 0 0 0 0 0 0 0 0 1 0 0 \n",
            "0 0 0 0 0 0 0 0 0 0 0 0 0 0 1 \n",
            "0 0 0 0 0 0 0 0 0 1 0 0 0 0 0 \n",
            "0 0 0 0 1 0 0 0 0 0 0 0 0 0 0 \n",
            "0 0 0 0 0 0 0 0 0 0 0 0 0 1 0 \n",
            "0 0 0 0 0 1 0 0 0 0 0 0 0 0 0 \n",
            "0 0 0 0 0 0 0 0 1 0 0 0 0 0 0 \n",
            "0 0 0 0 0 0 1 0 0 0 0 0 0 0 0 \n",
            "0 0 0 0 0 0 0 0 0 0 0 1 0 0 0 \n",
            "----------------------------------------\n",
            "1 0 0 0 0 0 0 0 0 0 0 0 0 0 0 0 \n",
            "0 0 0 1 0 0 0 0 0 0 0 0 0 0 0 0 \n",
            "0 1 0 0 0 0 0 0 0 0 0 0 0 0 0 0 \n",
            "0 0 0 0 0 0 0 0 0 0 0 0 1 0 0 0 \n",
            "0 0 1 0 0 0 0 0 0 0 0 0 0 0 0 0 \n",
            "0 0 0 0 0 0 0 0 0 1 0 0 0 0 0 0 \n",
            "0 0 0 0 0 0 0 0 0 0 0 1 0 0 0 0 \n",
            "0 0 0 0 0 0 0 0 0 0 0 0 0 0 1 0 \n",
            "0 0 0 0 0 1 0 0 0 0 0 0 0 0 0 0 \n",
            "0 0 0 0 0 0 0 0 0 0 0 0 0 0 0 1 \n",
            "0 0 0 0 0 0 0 0 0 0 0 0 0 1 0 0 \n",
            "0 0 0 0 0 0 0 1 0 0 0 0 0 0 0 0 \n",
            "0 0 0 0 1 0 0 0 0 0 0 0 0 0 0 0 \n",
            "0 0 0 0 0 0 1 0 0 0 0 0 0 0 0 0 \n",
            "0 0 0 0 0 0 0 0 1 0 0 0 0 0 0 0 \n",
            "0 0 0 0 0 0 0 0 0 0 1 0 0 0 0 0 \n",
            "----------------------------------------\n"
          ]
        }
      ],
      "source": [
        "for n in range(4,17):\n",
        "    solveNQ(n)\n",
        "    print(\"-\"*40)"
      ]
    },
    {
      "cell_type": "code",
      "execution_count": null,
      "metadata": {
        "id": "lnr6C1z7tsKh"
      },
      "outputs": [],
      "source": [
        "# since we choose our paths deterministically we get the same solution always\n",
        "# we could flip the board around to get mirror and rotated solutions\n"
      ]
    },
    {
      "cell_type": "code",
      "execution_count": null,
      "metadata": {
        "id": "ITgDs6mgtsKh",
        "outputId": "2b8b9b7f-a382-4e22-83a6-222bf81eb032"
      },
      "outputs": [
        {
          "data": {
            "text/plain": [
              "[[0, 0, 0, 0, 0, 0, 0, 0],\n",
              " [0, 0, 0, 0, 0, 0, 0, 0],\n",
              " [0, 0, 0, 0, 0, 0, 0, 0],\n",
              " [0, 0, 0, 0, 0, 0, 0, 0],\n",
              " [0, 0, 0, 0, 0, 0, 0, 0],\n",
              " [0, 0, 0, 0, 0, 0, 0, 0],\n",
              " [0, 0, 0, 0, 0, 0, 0, 0],\n",
              " [0, 0, 0, 0, 0, 0, 0, 0]]"
            ]
          },
          "execution_count": 10,
          "metadata": {},
          "output_type": "execute_result"
        }
      ],
      "source": [
        "board = [[0]*N for _ in range(N)]\n",
        "board"
      ]
    },
    {
      "cell_type": "code",
      "execution_count": null,
      "metadata": {
        "id": "zGXEijZatsKh"
      },
      "outputs": [],
      "source": [
        "N = 8"
      ]
    },
    {
      "cell_type": "code",
      "execution_count": null,
      "metadata": {
        "id": "LmQ-ZliOtsKi",
        "outputId": "1939b766-d80f-4eb1-b135-521b6396da00"
      },
      "outputs": [
        {
          "name": "stdout",
          "output_type": "stream",
          "text": [
            "1.76 ms ± 7.85 µs per loop (mean ± std. dev. of 7 runs, 1000 loops each)\n"
          ]
        }
      ],
      "source": [
        "%%timeit\n",
        "solveNQ([[0]*N for _ in range(N)], print_board=False)"
      ]
    },
    {
      "cell_type": "code",
      "execution_count": null,
      "metadata": {
        "id": "N4k7AMKltsKi"
      },
      "outputs": [],
      "source": [
        "# reason we got a solution does not exist is that we already prefilled the board after first run :)\n"
      ]
    },
    {
      "cell_type": "code",
      "execution_count": null,
      "metadata": {
        "id": "P0GoZjtJtsKi"
      },
      "outputs": [],
      "source": []
    },
    {
      "cell_type": "markdown",
      "metadata": {
        "id": "28kt3yWwtsKi"
      },
      "source": [
        "## Idea - choose path at random among all remaining paths\n",
        "We are still going to check all paths (until we find a solution)"
      ]
    },
    {
      "cell_type": "code",
      "execution_count": null,
      "metadata": {
        "id": "dfbh1AAjtsKi"
      },
      "outputs": [],
      "source": [
        "import random\n",
        "def solveNQUtilRandom(board, col): \n",
        "\n",
        "    # base case: If all queens are placed \n",
        "    # then return true \n",
        "    if col >= N: \n",
        "        return True\n",
        "\n",
        "    # Consider this column and try placing \n",
        "    # this queen in all rows one by one \n",
        "    for i in random.sample(list(range(N)),k=N): \n",
        "\n",
        "        if isSafe(board, i, col): \n",
        "\n",
        "            # Place this queen in board[i][col] \n",
        "            board[i][col] = 1\n",
        "\n",
        "            # recur to place rest of the queens \n",
        "            if solveNQUtil(board, col + 1) == True: \n",
        "                return True\n",
        "\n",
        "            # If placing queen in board[i][col \n",
        "            # doesn't lead to a solution, then \n",
        "            # queen from board[i][col] \n",
        "            board[i][col] = 0\n",
        "\n",
        "    # if the queen can not be placed in any row in \n",
        "    # this colum col then return false \n",
        "    return False\n",
        "\n",
        "def solveNQRandom(board = tuple([0,0,0,0] for n in range(4)), print_board=True): # passing in default 4x4\n",
        "#     board = [ [0, 0, 0, 0], \n",
        "#             [0, 0, 0, 0], \n",
        "#             [0, 0, 0, 0], \n",
        "#             [0, 0, 0, 0] ] \n",
        "\n",
        "    if solveNQUtilRandom(board, 0) == False: \n",
        "        #print (\"Solution does not exist\") \n",
        "        return False\n",
        "\n",
        "    if print_board:\n",
        "        printSolution(board) \n",
        "    return True"
      ]
    },
    {
      "cell_type": "code",
      "execution_count": null,
      "metadata": {
        "id": "9s-mWSLptsKj",
        "outputId": "29c1c603-5057-4eef-bc52-3ddb3714b3b7"
      },
      "outputs": [
        {
          "data": {
            "text/plain": [
              "[7, 0, 5, 6, 1, 5, 5, 6]"
            ]
          },
          "execution_count": 19,
          "metadata": {},
          "output_type": "execute_result"
        }
      ],
      "source": [
        "random.choices(list(range(N)),k=N) # no good we got dupes"
      ]
    },
    {
      "cell_type": "code",
      "execution_count": null,
      "metadata": {
        "scrolled": true,
        "id": "_Cwri9F-tsKj",
        "outputId": "be659ab9-d42a-4f68-8ad6-ae64d6fae86d"
      },
      "outputs": [
        {
          "data": {
            "text/plain": [
              "[5, 0, 4, 3, 6, 1, 7, 2]"
            ]
          },
          "execution_count": 26,
          "metadata": {},
          "output_type": "execute_result"
        }
      ],
      "source": [
        "random.sample(list(range(N)),k=N) # this what we want a random sample of uniques"
      ]
    },
    {
      "cell_type": "code",
      "execution_count": null,
      "metadata": {
        "id": "1vp1XkADtsKk",
        "outputId": "c507ac30-247f-4d3b-f398-a4c2fed3a455"
      },
      "outputs": [
        {
          "name": "stdout",
          "output_type": "stream",
          "text": [
            "1 0 0 0 0 0 0 0 \n",
            "0 0 0 0 0 0 1 0 \n",
            "0 0 0 0 1 0 0 0 \n",
            "0 0 0 0 0 0 0 1 \n",
            "0 1 0 0 0 0 0 0 \n",
            "0 0 0 1 0 0 0 0 \n",
            "0 0 0 0 0 1 0 0 \n",
            "0 0 1 0 0 0 0 0 \n"
          ]
        },
        {
          "data": {
            "text/plain": [
              "True"
            ]
          },
          "execution_count": 68,
          "metadata": {},
          "output_type": "execute_result"
        }
      ],
      "source": [
        "N = 8\n",
        "solveNQRandom([[0]*N for _ in range(N)])"
      ]
    },
    {
      "cell_type": "code",
      "execution_count": null,
      "metadata": {
        "id": "ya2mfFuotsKk",
        "outputId": "1d6bf6cd-9be6-429e-8a67-bc1cf2d53478"
      },
      "outputs": [
        {
          "name": "stdout",
          "output_type": "stream",
          "text": [
            "1 0 0 0 0 0 0 0 \n",
            "0 0 0 0 0 0 1 0 \n",
            "0 0 0 0 1 0 0 0 \n",
            "0 0 0 0 0 0 0 1 \n",
            "0 1 0 0 0 0 0 0 \n",
            "0 0 0 1 0 0 0 0 \n",
            "0 0 0 0 0 1 0 0 \n",
            "0 0 1 0 0 0 0 0 \n"
          ]
        },
        {
          "data": {
            "text/plain": [
              "True"
            ]
          },
          "execution_count": 59,
          "metadata": {},
          "output_type": "execute_result"
        }
      ],
      "source": [
        "N = 8\n",
        "solveNQRandom([[0]*N for _ in range(N)])"
      ]
    },
    {
      "cell_type": "code",
      "execution_count": null,
      "metadata": {
        "id": "37u7tplbtsKk",
        "outputId": "49a00a5c-fd95-43f8-df3e-33ff749e626d"
      },
      "outputs": [
        {
          "name": "stdout",
          "output_type": "stream",
          "text": [
            "598 µs ± 18.5 µs per loop (mean ± std. dev. of 7 runs, 1000 loops each)\n"
          ]
        }
      ],
      "source": [
        "%%timeit\n",
        "solveNQRandom([[0]*N for _ in range(N)], print_board=False)"
      ]
    },
    {
      "cell_type": "code",
      "execution_count": null,
      "metadata": {
        "id": "3OFuuw6OtsKk"
      },
      "outputs": [],
      "source": [
        "# what does it mean that our randomized solution worked faster than hardcoded selection?\n",
        "# random is about twice as fast in this case"
      ]
    },
    {
      "cell_type": "code",
      "execution_count": null,
      "metadata": {
        "id": "91HOLVAltsKk"
      },
      "outputs": [],
      "source": [
        "N=10"
      ]
    },
    {
      "cell_type": "code",
      "execution_count": null,
      "metadata": {
        "id": "mykqLKNftsKk",
        "outputId": "fd21fb88-5d66-4b59-bd28-f7dea3a57cc9"
      },
      "outputs": [
        {
          "name": "stdout",
          "output_type": "stream",
          "text": [
            "1.9 ms ± 71.9 µs per loop (mean ± std. dev. of 7 runs, 1000 loops each)\n"
          ]
        }
      ],
      "source": [
        "%%timeit\n",
        "solveNQRandom([[0]*N for _ in range(N)], print_board=False)"
      ]
    },
    {
      "cell_type": "code",
      "execution_count": null,
      "metadata": {
        "id": "72H7N7QMtsKl",
        "outputId": "7e2d4d06-72e4-4da5-85bd-2c7a4595beb9"
      },
      "outputs": [
        {
          "name": "stdout",
          "output_type": "stream",
          "text": [
            "2.11 ms ± 50.2 µs per loop (mean ± std. dev. of 7 runs, 100 loops each)\n"
          ]
        }
      ],
      "source": [
        "%%timeit\n",
        "solveNQ([[0]*N for _ in range(N)], print_board=False)"
      ]
    },
    {
      "cell_type": "code",
      "execution_count": null,
      "metadata": {
        "id": "uvC7Jn4OtsKl"
      },
      "outputs": [],
      "source": [
        "N=16\n",
        "# with larger Ns random path selection might not be the best anymore"
      ]
    },
    {
      "cell_type": "code",
      "execution_count": null,
      "metadata": {
        "id": "i-lC2gdRtsKl",
        "outputId": "9c8429c7-4ebd-43f6-c1e9-5a6b5393225b"
      },
      "outputs": [
        {
          "name": "stdout",
          "output_type": "stream",
          "text": [
            "182 ms ± 72.4 ms per loop (mean ± std. dev. of 7 runs, 10 loops each)\n"
          ]
        }
      ],
      "source": [
        "%%timeit\n",
        "solveNQRandom([[0]*N for _ in range(N)], print_board=False)"
      ]
    },
    {
      "cell_type": "code",
      "execution_count": null,
      "metadata": {
        "id": "N9iKez0HtsKl",
        "outputId": "a4ebb139-5b95-4473-ba8c-1ef7714f9717"
      },
      "outputs": [
        {
          "name": "stdout",
          "output_type": "stream",
          "text": [
            "393 ms ± 1.8 ms per loop (mean ± std. dev. of 7 runs, 1 loop each)\n"
          ]
        }
      ],
      "source": [
        "%%timeit\n",
        "solveNQ([[0]*N for _ in range(N)], print_board=False)"
      ]
    },
    {
      "cell_type": "code",
      "execution_count": null,
      "metadata": {
        "id": "-l3ZgnKbtsKl",
        "outputId": "b3430127-0f82-44c3-a6ce-5e0ea8d33703"
      },
      "outputs": [
        {
          "data": {
            "text/plain": [
              "[15, 14, 13, 12, 11, 10, 9, 8, 7, 6, 5, 4, 3, 2, 1, 0]"
            ]
          },
          "execution_count": 79,
          "metadata": {},
          "output_type": "execute_result"
        }
      ],
      "source": [
        "# we could try going the other way\n",
        "list(range(N-1,-1,-1))"
      ]
    },
    {
      "cell_type": "code",
      "execution_count": null,
      "metadata": {
        "id": "iqZQJNB8tsKl",
        "outputId": "e1dcf027-1939-4529-a312-d6cefd9ec300"
      },
      "outputs": [
        {
          "data": {
            "text/plain": [
              "[0, 1, 2, 3, 4, 5, 6, 7, 8, 9]"
            ]
          },
          "execution_count": 66,
          "metadata": {},
          "output_type": "execute_result"
        }
      ],
      "source": [
        "list(range(N))"
      ]
    },
    {
      "cell_type": "code",
      "execution_count": null,
      "metadata": {
        "id": "Jaw1fv8StsKm"
      },
      "outputs": [],
      "source": [
        "def solveNQUtilReverse(board, col): \n",
        "\n",
        "    # base case: If all queens are placed \n",
        "    # then return true \n",
        "    if col >= N: \n",
        "        return True\n",
        "\n",
        "    # Consider this column and try placing \n",
        "    # this queen in all rows one by one \n",
        "    # we still want to consider all possible solutions but choosing from other end first\n",
        "    for i in range(N-1,-1,-1): \n",
        "\n",
        "        if isSafe(board, i, col): \n",
        "\n",
        "            # Place this queen in board[i][col] \n",
        "            board[i][col] = 1\n",
        "\n",
        "            # recur to place rest of the queens \n",
        "            if solveNQUtil(board, col + 1) == True: \n",
        "                return True\n",
        "\n",
        "            # If placing queen in board[i][col \n",
        "            # doesn't lead to a solution, then \n",
        "            # queen from board[i][col] \n",
        "            board[i][col] = 0\n",
        "\n",
        "    # if the queen can not be placed in any row in \n",
        "    # this colum col then return false \n",
        "    return False\n",
        "\n",
        "def solveNQReverse(board = tuple([0,0,0,0] for n in range(4)), print_board=True): # passing in default 4x4\n",
        "#     board = [ [0, 0, 0, 0], \n",
        "#             [0, 0, 0, 0], \n",
        "#             [0, 0, 0, 0], \n",
        "#             [0, 0, 0, 0] ] \n",
        "\n",
        "    if solveNQUtilReverse(board, 0) == False: \n",
        "        #print (\"Solution does not exist\") \n",
        "        return False\n",
        "\n",
        "    if print_board:\n",
        "        printSolution(board) \n",
        "    return True"
      ]
    },
    {
      "cell_type": "code",
      "execution_count": null,
      "metadata": {
        "id": "G7A71kpatsKm",
        "outputId": "9e6f17e5-6638-41e6-cba8-0949d2391f78"
      },
      "outputs": [
        {
          "name": "stdout",
          "output_type": "stream",
          "text": [
            "0 0 0 1 0 0 0 0 \n",
            "0 1 0 0 0 0 0 0 \n",
            "0 0 0 0 0 0 1 0 \n",
            "0 0 1 0 0 0 0 0 \n",
            "0 0 0 0 0 1 0 0 \n",
            "0 0 0 0 0 0 0 1 \n",
            "0 0 0 0 1 0 0 0 \n",
            "1 0 0 0 0 0 0 0 \n"
          ]
        },
        {
          "data": {
            "text/plain": [
              "True"
            ]
          },
          "execution_count": 85,
          "metadata": {},
          "output_type": "execute_result"
        }
      ],
      "source": [
        "N=8\n",
        "solveNQReverse([[0]*N for _ in range(N)])"
      ]
    },
    {
      "cell_type": "code",
      "execution_count": null,
      "metadata": {
        "id": "dwAMUtz9tsKm",
        "outputId": "4ec94f77-fe98-4678-9201-7e67ea90fbc6"
      },
      "outputs": [
        {
          "name": "stdout",
          "output_type": "stream",
          "text": [
            "718 µs ± 37.6 µs per loop (mean ± std. dev. of 7 runs, 1000 loops each)\n"
          ]
        }
      ],
      "source": [
        "%%timeit\n",
        "solveNQReverse([[0]*N for _ in range(N)], print_board=False)"
      ]
    },
    {
      "cell_type": "code",
      "execution_count": null,
      "metadata": {
        "id": "C79TBD55tsKm"
      },
      "outputs": [],
      "source": [
        "N =8"
      ]
    },
    {
      "cell_type": "code",
      "execution_count": null,
      "metadata": {
        "id": "mahmSbU2tsKm",
        "outputId": "715b5abb-cc6e-4869-a859-aa799466c5b3"
      },
      "outputs": [
        {
          "name": "stdout",
          "output_type": "stream",
          "text": [
            "713 µs ± 43.3 µs per loop (mean ± std. dev. of 7 runs, 1000 loops each)\n"
          ]
        }
      ],
      "source": [
        "%%timeit\n",
        "solveNQReverse([[0]*N for _ in range(N)], print_board=False)"
      ]
    },
    {
      "cell_type": "code",
      "execution_count": null,
      "metadata": {
        "id": "jktj0Vg-tsKm"
      },
      "outputs": [],
      "source": [
        "N=10"
      ]
    },
    {
      "cell_type": "code",
      "execution_count": null,
      "metadata": {
        "id": "o3U45AFHtsKn",
        "outputId": "27e83b62-7718-4c6e-aa0f-b1fd710f637b"
      },
      "outputs": [
        {
          "name": "stdout",
          "output_type": "stream",
          "text": [
            "1.97 ms ± 32.1 µs per loop (mean ± std. dev. of 7 runs, 100 loops each)\n"
          ]
        }
      ],
      "source": [
        "%%timeit\n",
        "solveNQReverse([[0]*N for _ in range(N)], print_board=False)"
      ]
    },
    {
      "cell_type": "code",
      "execution_count": null,
      "metadata": {
        "id": "2BuMTd3RtsKn",
        "outputId": "774d7998-5b96-428b-f4da-1145f8f6239b"
      },
      "outputs": [
        {
          "name": "stdout",
          "output_type": "stream",
          "text": [
            "2.07 ms ± 2.89 µs per loop (mean ± std. dev. of 7 runs, 100 loops each)\n"
          ]
        }
      ],
      "source": [
        "%%timeit\n",
        "solveNQ([[0]*N for _ in range(N)], print_board=False)"
      ]
    },
    {
      "cell_type": "code",
      "execution_count": null,
      "metadata": {
        "id": "INdls9Q8tsKn",
        "outputId": "1e95374f-9f7c-45eb-f793-f99940fc4f1b"
      },
      "outputs": [
        {
          "name": "stdout",
          "output_type": "stream",
          "text": [
            "1.84 ms ± 45 µs per loop (mean ± std. dev. of 7 runs, 1000 loops each)\n"
          ]
        }
      ],
      "source": [
        "%%timeit\n",
        "solveNQRandom([[0]*N for _ in range(N)], print_board=False)"
      ]
    },
    {
      "cell_type": "code",
      "execution_count": null,
      "metadata": {
        "id": "7FM_8gq0tsKn"
      },
      "outputs": [],
      "source": [
        "N=16"
      ]
    },
    {
      "cell_type": "code",
      "execution_count": null,
      "metadata": {
        "id": "LZpO85K0tsKn",
        "outputId": "a794b61c-200a-4c23-97f3-7ed374652fc8"
      },
      "outputs": [
        {
          "name": "stdout",
          "output_type": "stream",
          "text": [
            "39 ms ± 2.01 ms per loop (mean ± std. dev. of 7 runs, 10 loops each)\n"
          ]
        }
      ],
      "source": [
        "%%timeit\n",
        "solveNQReverse([[0]*N for _ in range(N)], print_board=False)"
      ]
    },
    {
      "cell_type": "code",
      "execution_count": null,
      "metadata": {
        "id": "rdzybLEEtsKn",
        "outputId": "a4f36f9d-26ed-451e-9041-0ec029543d00"
      },
      "outputs": [
        {
          "name": "stdout",
          "output_type": "stream",
          "text": [
            "430 ms ± 45.8 ms per loop (mean ± std. dev. of 7 runs, 1 loop each)\n"
          ]
        }
      ],
      "source": [
        "%%timeit\n",
        "solveNQ([[0]*N for _ in range(N)], print_board=False)"
      ]
    },
    {
      "cell_type": "code",
      "execution_count": null,
      "metadata": {
        "id": "iykk04LQtsKo",
        "outputId": "7a139f96-b1c2-4a9a-efd1-0d2bf6c698c8"
      },
      "outputs": [
        {
          "name": "stdout",
          "output_type": "stream",
          "text": [
            "219 ms ± 96.8 ms per loop (mean ± std. dev. of 7 runs, 10 loops each)\n"
          ]
        }
      ],
      "source": [
        "%%timeit\n",
        "solveNQRandom([[0]*N for _ in range(N)], print_board=False)"
      ]
    },
    {
      "cell_type": "code",
      "execution_count": null,
      "metadata": {
        "id": "4_Z3vSzjtsKo",
        "outputId": "c76e553f-fbe1-4a36-bbd7-065a7e8ece83"
      },
      "outputs": [
        {
          "name": "stdout",
          "output_type": "stream",
          "text": [
            "150 ms ± 38.4 ms per loop (mean ± std. dev. of 7 runs, 10 loops each)\n"
          ]
        }
      ],
      "source": [
        "%%timeit\n",
        "solveNQRandom([[0]*N for _ in range(N)], print_board=False)"
      ]
    },
    {
      "cell_type": "code",
      "execution_count": null,
      "metadata": {
        "id": "7u18JW6DtsKo",
        "outputId": "1048d09a-f375-4822-b69a-918340e44694"
      },
      "outputs": [
        {
          "name": "stdout",
          "output_type": "stream",
          "text": [
            "1 0 0 0 0 0 0 0 \n",
            "0 0 0 0 0 0 1 0 \n",
            "0 0 0 0 1 0 0 0 \n",
            "0 0 0 0 0 0 0 1 \n",
            "0 1 0 0 0 0 0 0 \n",
            "0 0 0 1 0 0 0 0 \n",
            "0 0 0 0 0 1 0 0 \n",
            "0 0 1 0 0 0 0 0 \n"
          ]
        },
        {
          "data": {
            "text/plain": [
              "True"
            ]
          },
          "execution_count": 22,
          "metadata": {},
          "output_type": "execute_result"
        }
      ],
      "source": [
        "# Branch and Bound approach\n",
        "\n",
        "\"\"\" Python3 program to solve N Queen Problem\n",
        "using Branch or Bound \"\"\"\n",
        " \n",
        "N = 8\n",
        " \n",
        "\"\"\" A utility function to prsolution \"\"\"\n",
        "def printSolutionBB(board):\n",
        "    for i in range(N):\n",
        "        for j in range(N):\n",
        "            print(board[i][j], end = \" \")\n",
        "        print()\n",
        "\n",
        "\"\"\" A Optimized function to check if\n",
        "a queen can be placed on board[row][col] \"\"\"\n",
        "def isSafeBB(row, col, slashCode, backslashCode,\n",
        "           rowLookup, slashCodeLookup,\n",
        "                       backslashCodeLookup):\n",
        "    if (slashCodeLookup[slashCode[row][col]] or\n",
        "        backslashCodeLookup[backslashCode[row][col]] or\n",
        "        rowLookup[row]):\n",
        "        return False\n",
        "    return True\n",
        " \n",
        "\"\"\" A recursive utility function\n",
        "   to solve N Queen problem \"\"\"\n",
        "def solveNQueensUtilBB(board, col, slashCode, backslashCode,\n",
        "                     rowLookup, slashCodeLookup,\n",
        "                     backslashCodeLookup):\n",
        "                         \n",
        "    \"\"\" base case: If all queens are\n",
        "       placed then return True \"\"\"\n",
        "    if(col >= N):\n",
        "        return True\n",
        "    for i in range(N):\n",
        "        if(isSafeBB(i, col, slashCode, backslashCode,\n",
        "                  rowLookup, slashCodeLookup,\n",
        "                  backslashCodeLookup)):\n",
        "                     \n",
        "            \"\"\" Place this queen in board[i][col] \"\"\"\n",
        "            board[i][col] = 1\n",
        "            rowLookup[i] = True\n",
        "            slashCodeLookup[slashCode[i][col]] = True\n",
        "            backslashCodeLookup[backslashCode[i][col]] = True\n",
        "             \n",
        "            \"\"\" recur to place rest of the queens \"\"\"\n",
        "            if(solveNQueensUtilBB(board, col + 1,\n",
        "                                slashCode, backslashCode,\n",
        "                                rowLookup, slashCodeLookup,\n",
        "                                backslashCodeLookup)):\n",
        "                return True\n",
        "             \n",
        "            \"\"\" If placing queen in board[i][col]\n",
        "            doesn't lead to a solution,then backtrack \"\"\"\n",
        "             \n",
        "            \"\"\" Remove queen from board[i][col] \"\"\"\n",
        "            board[i][col] = 0\n",
        "            rowLookup[i] = False\n",
        "            slashCodeLookup[slashCode[i][col]] = False\n",
        "            backslashCodeLookup[backslashCode[i][col]] = False\n",
        "             \n",
        "    \"\"\" If queen can not be place in any row in\n",
        "    this colum col then return False \"\"\"\n",
        "    return False\n",
        " \n",
        "\"\"\" This function solves the N Queen problem using\n",
        "Branch or Bound. It mainly uses solveNQueensUtil()to\n",
        "solve the problem. It returns False if queens\n",
        "cannot be placed,otherwise return True or\n",
        "prints placement of queens in the form of 1s.\n",
        "Please note that there may be more than one\n",
        "solutions,this function prints one of the\n",
        "feasible solutions.\"\"\"\n",
        "def solveNQueensBB(debug=False):\n",
        "    board = [[0 for i in range(N)]\n",
        "                for j in range(N)]\n",
        "     \n",
        "    # helper matrices\n",
        "    slashCode = [[0 for i in range(N)]\n",
        "                    for j in range(N)]\n",
        "    backslashCode = [[0 for i in range(N)]\n",
        "                        for j in range(N)]\n",
        "     \n",
        "    # arrays to tell us which rows are occupied\n",
        "    rowLookup = [False] * N\n",
        "     \n",
        "    # keep two arrays to tell us\n",
        "    # which diagonals are occupied\n",
        "    x = 2 * N - 1\n",
        "    slashCodeLookup = [False] * x\n",
        "    backslashCodeLookup = [False] * x\n",
        "     \n",
        "    # initialize helper matrices\n",
        "    for rr in range(N):\n",
        "        for cc in range(N):\n",
        "            slashCode[rr][cc] = rr + cc\n",
        "            backslashCode[rr][cc] = rr - cc + 7\n",
        "     \n",
        "    if(solveNQueensUtilBB(board, 0, slashCode, backslashCode,\n",
        "                        rowLookup, slashCodeLookup,\n",
        "                        backslashCodeLookup) == False):\n",
        "        print(\"Solution does not exist\")\n",
        "        return False\n",
        "         \n",
        "    # solution found\n",
        "    if debug:\n",
        "        printSolutionBB(board)\n",
        "    return True\n",
        " \n",
        "# Driver Cde\n",
        "solveNQueensBB(debug=True)\n",
        " \n",
        "# This code is contributed by SHUBHAMSINGH10"
      ]
    },
    {
      "cell_type": "code",
      "execution_count": null,
      "metadata": {
        "id": "P_IkNGQctsKo",
        "outputId": "e4c8cc67-10e7-44db-8f8d-45472b157b04"
      },
      "outputs": [
        {
          "name": "stdout",
          "output_type": "stream",
          "text": [
            "628 µs ± 7.31 µs per loop (mean ± std. dev. of 7 runs, 1000 loops each)\n"
          ]
        }
      ],
      "source": [
        "%%timeit\n",
        "solveNQueensBB()"
      ]
    },
    {
      "cell_type": "code",
      "execution_count": null,
      "metadata": {
        "id": "_Dl10e0ctsKp",
        "outputId": "02908053-2f6a-4d80-90a1-23de6a060d87"
      },
      "outputs": [
        {
          "name": "stdout",
          "output_type": "stream",
          "text": [
            "1 0 0 0 0 0 0 0 0 0 0 0 \n",
            "0 0 0 0 0 0 0 0 1 0 0 0 \n",
            "0 1 0 0 0 0 0 0 0 0 0 0 \n",
            "0 0 0 0 0 0 0 0 0 0 0 1 \n",
            "0 0 1 0 0 0 0 0 0 0 0 0 \n",
            "0 0 0 0 0 0 1 0 0 0 0 0 \n",
            "0 0 0 0 0 0 0 0 0 1 0 0 \n",
            "0 0 0 1 0 0 0 0 0 0 0 0 \n",
            "0 0 0 0 0 0 0 0 0 0 1 0 \n",
            "0 0 0 0 1 0 0 0 0 0 0 0 \n",
            "0 0 0 0 0 0 0 1 0 0 0 0 \n",
            "0 0 0 0 0 1 0 0 0 0 0 0 \n"
          ]
        },
        {
          "data": {
            "text/plain": [
              "True"
            ]
          },
          "execution_count": 9,
          "metadata": {},
          "output_type": "execute_result"
        }
      ],
      "source": [
        "N = 12\n",
        "solveNQueens(debug=True)"
      ]
    },
    {
      "cell_type": "code",
      "execution_count": null,
      "metadata": {
        "id": "IL0sWBTwtsKp",
        "outputId": "8388bf2c-1891-4b47-dbf9-6f1703624092"
      },
      "outputs": [
        {
          "name": "stdout",
          "output_type": "stream",
          "text": [
            "1 0 0 0 0 0 0 0 \n",
            "0 0 0 0 0 0 1 0 \n",
            "0 0 0 0 1 0 0 0 \n",
            "0 0 0 0 0 0 0 1 \n",
            "0 1 0 0 0 0 0 0 \n",
            "0 0 0 1 0 0 0 0 \n",
            "0 0 0 0 0 1 0 0 \n",
            "0 0 1 0 0 0 0 0 \n",
            "1 0 0 0 0 0 0 0 0 \n",
            "0 0 0 0 1 0 0 0 0 \n",
            "0 1 0 0 0 0 0 0 0 \n",
            "0 0 0 0 0 1 0 0 0 \n",
            "0 0 0 0 0 0 0 0 1 \n",
            "0 0 1 0 0 0 0 0 0 \n",
            "0 0 0 0 0 0 0 1 0 \n",
            "0 0 0 1 0 0 0 0 0 \n",
            "0 0 0 0 0 0 1 0 0 \n",
            "1 0 0 0 0 0 0 0 0 0 \n",
            "0 0 0 0 0 0 0 1 0 0 \n",
            "0 1 0 0 0 0 0 0 0 0 \n",
            "0 0 0 0 0 0 0 0 1 0 \n",
            "0 0 0 0 0 1 0 0 0 0 \n",
            "0 0 1 0 0 0 0 0 0 0 \n",
            "0 0 0 0 0 0 0 0 0 1 \n",
            "0 0 0 1 0 0 0 0 0 0 \n",
            "0 0 0 0 0 0 1 0 0 0 \n",
            "0 0 0 0 1 0 0 0 0 0 \n",
            "1 0 0 0 0 0 0 0 0 0 0 \n",
            "0 0 0 0 0 0 1 0 0 0 0 \n",
            "0 1 0 0 0 0 0 0 0 0 0 \n",
            "0 0 0 0 0 0 0 1 0 0 0 \n",
            "0 0 1 0 0 0 0 0 0 0 0 \n",
            "0 0 0 0 0 0 0 0 1 0 0 \n",
            "0 0 0 1 0 0 0 0 0 0 0 \n",
            "0 0 0 0 0 0 0 0 0 1 0 \n",
            "0 0 0 0 1 0 0 0 0 0 0 \n",
            "0 0 0 0 0 0 0 0 0 0 1 \n",
            "0 0 0 0 0 1 0 0 0 0 0 \n",
            "1 0 0 0 0 0 0 0 0 0 0 0 \n",
            "0 0 0 0 0 0 0 0 1 0 0 0 \n",
            "0 1 0 0 0 0 0 0 0 0 0 0 \n",
            "0 0 0 0 0 0 0 0 0 0 0 1 \n",
            "0 0 1 0 0 0 0 0 0 0 0 0 \n",
            "0 0 0 0 0 0 1 0 0 0 0 0 \n",
            "0 0 0 0 0 0 0 0 0 1 0 0 \n",
            "0 0 0 1 0 0 0 0 0 0 0 0 \n",
            "0 0 0 0 0 0 0 0 0 0 1 0 \n",
            "0 0 0 0 1 0 0 0 0 0 0 0 \n",
            "0 0 0 0 0 0 0 1 0 0 0 0 \n",
            "0 0 0 0 0 1 0 0 0 0 0 0 \n",
            "1 0 0 0 0 0 0 0 0 0 0 0 0 \n",
            "0 0 0 1 0 0 0 0 0 0 0 0 0 \n",
            "0 1 0 0 0 0 0 0 0 0 0 0 0 \n",
            "0 0 0 0 0 0 0 0 1 0 0 0 0 \n",
            "0 0 1 0 0 0 0 0 0 0 0 0 0 \n",
            "0 0 0 0 0 0 0 0 0 1 0 0 0 \n",
            "0 0 0 0 0 0 0 0 0 0 0 0 1 \n",
            "0 0 0 0 0 0 0 0 0 0 1 0 0 \n",
            "0 0 0 0 1 0 0 0 0 0 0 0 0 \n",
            "0 0 0 0 0 0 1 0 0 0 0 0 0 \n",
            "0 0 0 0 0 0 0 0 0 0 0 1 0 \n",
            "0 0 0 0 0 1 0 0 0 0 0 0 0 \n",
            "0 0 0 0 0 0 0 1 0 0 0 0 0 \n",
            "1 0 0 0 0 0 0 0 0 0 0 0 0 0 \n",
            "0 0 0 0 0 0 0 0 0 0 1 0 0 0 \n",
            "0 1 0 0 0 0 0 0 0 0 0 0 0 0 \n",
            "0 0 0 0 0 0 0 1 0 0 0 0 0 0 \n",
            "0 0 1 0 0 0 0 0 0 0 0 0 0 0 \n",
            "0 0 0 0 0 0 0 0 0 0 0 1 0 0 \n",
            "0 0 0 1 0 0 0 0 0 0 0 0 0 0 \n",
            "0 0 0 0 0 0 0 0 0 0 0 0 1 0 \n",
            "0 0 0 0 0 0 0 0 0 1 0 0 0 0 \n",
            "0 0 0 0 0 1 0 0 0 0 0 0 0 0 \n",
            "0 0 0 0 0 0 0 0 0 0 0 0 0 1 \n",
            "0 0 0 0 1 0 0 0 0 0 0 0 0 0 \n",
            "0 0 0 0 0 0 1 0 0 0 0 0 0 0 \n",
            "0 0 0 0 0 0 0 0 1 0 0 0 0 0 \n",
            "1 0 0 0 0 0 0 0 0 0 0 0 0 0 0 \n",
            "0 0 0 1 0 0 0 0 0 0 0 0 0 0 0 \n",
            "0 1 0 0 0 0 0 0 0 0 0 0 0 0 0 \n",
            "0 0 0 0 0 0 0 1 0 0 0 0 0 0 0 \n",
            "0 0 1 0 0 0 0 0 0 0 0 0 0 0 0 \n",
            "0 0 0 0 0 0 0 0 0 0 1 0 0 0 0 \n",
            "0 0 0 0 0 0 0 0 0 0 0 0 1 0 0 \n",
            "0 0 0 0 0 0 0 0 0 0 0 0 0 0 1 \n",
            "0 0 0 0 0 0 0 0 0 1 0 0 0 0 0 \n",
            "0 0 0 0 1 0 0 0 0 0 0 0 0 0 0 \n",
            "0 0 0 0 0 0 0 0 0 0 0 0 0 1 0 \n",
            "0 0 0 0 0 1 0 0 0 0 0 0 0 0 0 \n",
            "0 0 0 0 0 0 0 0 1 0 0 0 0 0 0 \n",
            "0 0 0 0 0 0 1 0 0 0 0 0 0 0 0 \n",
            "0 0 0 0 0 0 0 0 0 0 0 1 0 0 0 \n",
            "1 0 0 0 0 0 0 0 0 0 0 0 0 0 0 0 \n",
            "0 0 0 1 0 0 0 0 0 0 0 0 0 0 0 0 \n",
            "0 1 0 0 0 0 0 0 0 0 0 0 0 0 0 0 \n",
            "0 0 0 0 0 0 0 0 0 0 0 0 1 0 0 0 \n",
            "0 0 1 0 0 0 0 0 0 0 0 0 0 0 0 0 \n",
            "0 0 0 0 0 0 0 0 0 1 0 0 0 0 0 0 \n",
            "0 0 0 0 0 0 0 0 0 0 0 1 0 0 0 0 \n",
            "0 0 0 0 0 0 0 0 0 0 0 0 0 0 1 0 \n",
            "0 0 0 0 0 1 0 0 0 0 0 0 0 0 0 0 \n",
            "0 0 0 0 0 0 0 0 0 0 0 0 0 0 0 1 \n",
            "0 0 0 0 0 0 0 0 0 0 0 0 0 1 0 0 \n",
            "0 0 0 0 0 0 0 1 0 0 0 0 0 0 0 0 \n",
            "0 0 0 0 1 0 0 0 0 0 0 0 0 0 0 0 \n",
            "0 0 0 0 0 0 1 0 0 0 0 0 0 0 0 0 \n",
            "0 0 0 0 0 0 0 0 1 0 0 0 0 0 0 0 \n",
            "0 0 0 0 0 0 0 0 0 0 1 0 0 0 0 0 \n"
          ]
        }
      ],
      "source": [
        "for n in range(8, 17):\n",
        "    N = n\n",
        "    solveNQueens(debug=True)"
      ]
    },
    {
      "cell_type": "code",
      "execution_count": null,
      "metadata": {
        "id": "QqKHzTvttsKp"
      },
      "outputs": [],
      "source": [
        "N=12\n"
      ]
    },
    {
      "cell_type": "code",
      "execution_count": null,
      "metadata": {
        "id": "2ewmkStotsKp",
        "outputId": "5056a46c-fc7e-452c-dbf7-74565ad8b614"
      },
      "outputs": [
        {
          "name": "stdout",
          "output_type": "stream",
          "text": [
            "2 ms ± 58 µs per loop (mean ± std. dev. of 7 runs, 1000 loops each)\n"
          ]
        }
      ],
      "source": [
        "%%timeit\n",
        "solveNQueensBB()"
      ]
    },
    {
      "cell_type": "code",
      "execution_count": null,
      "metadata": {
        "id": "chffsEOQtsKp",
        "outputId": "4e0f9834-c946-4234-9cac-08091f0b9976"
      },
      "outputs": [
        {
          "name": "stdout",
          "output_type": "stream",
          "text": [
            "62.5 µs ± 1.92 µs per loop (mean ± std. dev. of 7 runs, 10000 loops each)\n"
          ]
        }
      ],
      "source": [
        "%%timeit\n",
        "solveNQ([[0]*N for _ in range(N)], print_board=False)"
      ]
    },
    {
      "cell_type": "code",
      "execution_count": null,
      "metadata": {
        "id": "Az_Hl5O8tsKq"
      },
      "outputs": [],
      "source": [
        "N=16"
      ]
    },
    {
      "cell_type": "code",
      "execution_count": null,
      "metadata": {
        "id": "OSrEuigCtsKq",
        "outputId": "9ebcd92d-26a8-4b5a-f0f3-c910fc98ad0d"
      },
      "outputs": [
        {
          "name": "stdout",
          "output_type": "stream",
          "text": [
            "1 0 0 0 0 0 0 0 0 0 0 0 0 0 0 0 \n",
            "0 0 0 1 0 0 0 0 0 0 0 0 0 0 0 0 \n",
            "0 1 0 0 0 0 0 0 0 0 0 0 0 0 0 0 \n",
            "0 0 0 0 0 0 0 0 0 0 0 0 1 0 0 0 \n",
            "0 0 1 0 0 0 0 0 0 0 0 0 0 0 0 0 \n",
            "0 0 0 0 0 0 0 0 0 1 0 0 0 0 0 0 \n",
            "0 0 0 0 0 0 0 0 0 0 0 1 0 0 0 0 \n",
            "0 0 0 0 0 0 0 0 0 0 0 0 0 0 1 0 \n",
            "0 0 0 0 0 1 0 0 0 0 0 0 0 0 0 0 \n",
            "0 0 0 0 0 0 0 0 0 0 0 0 0 0 0 1 \n",
            "0 0 0 0 0 0 0 0 0 0 0 0 0 1 0 0 \n",
            "0 0 0 0 0 0 0 1 0 0 0 0 0 0 0 0 \n",
            "0 0 0 0 1 0 0 0 0 0 0 0 0 0 0 0 \n",
            "0 0 0 0 0 0 1 0 0 0 0 0 0 0 0 0 \n",
            "0 0 0 0 0 0 0 0 1 0 0 0 0 0 0 0 \n",
            "0 0 0 0 0 0 0 0 0 0 1 0 0 0 0 0 \n"
          ]
        },
        {
          "data": {
            "text/plain": [
              "True"
            ]
          },
          "execution_count": 19,
          "metadata": {},
          "output_type": "execute_result"
        }
      ],
      "source": [
        "solveNQ([[0]*N for _ in range(N)])"
      ]
    },
    {
      "cell_type": "code",
      "execution_count": null,
      "metadata": {
        "id": "sWT0ZVlLtsKq",
        "outputId": "3a5ad8e3-85fe-4638-9e73-70d5eb0b71b4"
      },
      "outputs": [
        {
          "name": "stdout",
          "output_type": "stream",
          "text": [
            "419 ms ± 29.6 ms per loop (mean ± std. dev. of 7 runs, 1 loop each)\n"
          ]
        }
      ],
      "source": [
        "%%timeit\n",
        "solveNQ([[0]*N for _ in range(N)], print_board=False)"
      ]
    },
    {
      "cell_type": "code",
      "execution_count": null,
      "metadata": {
        "id": "LQJ_mVcctsKq",
        "outputId": "772cf52a-b92b-4263-86f2-b22ee7a30261"
      },
      "outputs": [
        {
          "name": "stdout",
          "output_type": "stream",
          "text": [
            "622 µs ± 5.13 µs per loop (mean ± std. dev. of 7 runs, 1000 loops each)\n"
          ]
        }
      ],
      "source": [
        "%%timeit\n",
        "solveNQueensBB()"
      ]
    },
    {
      "cell_type": "code",
      "execution_count": null,
      "metadata": {
        "id": "xVUrqhA6tsKq",
        "outputId": "74d3fc42-ab9f-4df9-c8e4-23e2c53df7fd"
      },
      "outputs": [
        {
          "name": "stdout",
          "output_type": "stream",
          "text": [
            "1 0 0 0 0 0 0 0 0 0 0 0 0 0 0 0 0 0 0 0 \n",
            "0 0 0 1 0 0 0 0 0 0 0 0 0 0 0 0 0 0 0 0 \n",
            "0 1 0 0 0 0 0 0 0 0 0 0 0 0 0 0 0 0 0 0 \n",
            "0 0 0 0 1 0 0 0 0 0 0 0 0 0 0 0 0 0 0 0 \n",
            "0 0 1 0 0 0 0 0 0 0 0 0 0 0 0 0 0 0 0 0 \n",
            "0 0 0 0 0 0 0 0 0 0 0 0 0 0 0 0 0 0 1 0 \n",
            "0 0 0 0 0 0 0 0 0 0 0 0 0 0 0 0 1 0 0 0 \n",
            "0 0 0 0 0 0 0 0 0 0 0 0 0 0 1 0 0 0 0 0 \n",
            "0 0 0 0 0 0 0 0 0 0 0 1 0 0 0 0 0 0 0 0 \n",
            "0 0 0 0 0 0 0 0 0 0 0 0 0 0 0 1 0 0 0 0 \n",
            "0 0 0 0 0 0 0 0 0 0 0 0 0 0 0 0 0 0 0 1 \n",
            "0 0 0 0 0 0 0 1 0 0 0 0 0 0 0 0 0 0 0 0 \n",
            "0 0 0 0 0 1 0 0 0 0 0 0 0 0 0 0 0 0 0 0 \n",
            "0 0 0 0 0 0 0 0 0 0 0 0 0 0 0 0 0 1 0 0 \n",
            "0 0 0 0 0 0 1 0 0 0 0 0 0 0 0 0 0 0 0 0 \n",
            "0 0 0 0 0 0 0 0 0 0 0 0 1 0 0 0 0 0 0 0 \n",
            "0 0 0 0 0 0 0 0 0 0 1 0 0 0 0 0 0 0 0 0 \n",
            "0 0 0 0 0 0 0 0 1 0 0 0 0 0 0 0 0 0 0 0 \n",
            "0 0 0 0 0 0 0 0 0 0 0 0 0 1 0 0 0 0 0 0 \n",
            "0 0 0 0 0 0 0 0 0 1 0 0 0 0 0 0 0 0 0 0 \n"
          ]
        },
        {
          "data": {
            "text/plain": [
              "True"
            ]
          },
          "execution_count": 16,
          "metadata": {},
          "output_type": "execute_result"
        }
      ],
      "source": [
        "N=20\n",
        "solveNQueensBB(debug=True)"
      ]
    },
    {
      "cell_type": "code",
      "execution_count": null,
      "metadata": {
        "id": "bJiE2A_DtsKq",
        "outputId": "37e07219-d751-4ce4-8b20-818baf5d21e4"
      },
      "outputs": [
        {
          "name": "stdout",
          "output_type": "stream",
          "text": [
            "2.05 s ± 13.8 ms per loop (mean ± std. dev. of 7 runs, 1 loop each)\n"
          ]
        }
      ],
      "source": [
        "%%timeit\n",
        "solveNQueensBB()"
      ]
    },
    {
      "cell_type": "code",
      "execution_count": null,
      "metadata": {
        "id": "5X4csndDtsKr",
        "outputId": "161b18a0-9f4b-443c-c070-42f3bf8f8836"
      },
      "outputs": [
        {
          "name": "stdout",
          "output_type": "stream",
          "text": [
            "0 1 0 0 0 0 0 0 0 0 0 0 0 0 0 0 0 0 0 0 \n",
            "0 0 0 0 1 0 0 0 0 0 0 0 0 0 0 0 0 0 0 0 \n",
            "0 0 1 0 0 0 0 0 0 0 0 0 0 0 0 0 0 0 0 0 \n",
            "0 0 0 0 0 1 0 0 0 0 0 0 0 0 0 0 0 0 0 0 \n",
            "0 0 0 1 0 0 0 0 0 0 0 0 0 0 0 0 0 0 0 0 \n",
            "0 0 0 0 0 0 0 0 0 0 0 0 1 0 0 0 0 0 0 0 \n",
            "0 0 0 0 0 0 0 0 0 0 0 0 0 0 0 1 0 0 0 0 \n",
            "0 0 0 0 0 0 0 0 0 0 0 0 0 0 0 0 0 0 1 0 \n",
            "0 0 0 0 0 0 1 0 0 0 0 0 0 0 0 0 0 0 0 0 \n",
            "0 0 0 0 0 0 0 0 0 0 0 0 0 1 0 0 0 0 0 0 \n",
            "0 0 0 0 0 0 0 0 0 0 0 0 0 0 0 0 1 0 0 0 \n",
            "0 0 0 0 0 0 0 0 0 0 0 0 0 0 0 0 0 0 0 1 \n",
            "0 0 0 0 0 0 0 0 0 0 0 0 0 0 0 0 0 1 0 0 \n",
            "0 0 0 0 0 0 0 1 0 0 0 0 0 0 0 0 0 0 0 0 \n",
            "0 0 0 0 0 0 0 0 0 0 1 0 0 0 0 0 0 0 0 0 \n",
            "0 0 0 0 0 0 0 0 1 0 0 0 0 0 0 0 0 0 0 0 \n",
            "0 0 0 0 0 0 0 0 0 0 0 1 0 0 0 0 0 0 0 0 \n",
            "0 0 0 0 0 0 0 0 0 0 0 0 0 0 1 0 0 0 0 0 \n",
            "1 0 0 0 0 0 0 0 0 0 0 0 0 0 0 0 0 0 0 0 \n",
            "0 0 0 0 0 0 0 0 0 1 0 0 0 0 0 0 0 0 0 0 \n"
          ]
        },
        {
          "data": {
            "text/plain": [
              "True"
            ]
          },
          "execution_count": 22,
          "metadata": {},
          "output_type": "execute_result"
        }
      ],
      "source": [
        "N=20\n",
        "solveNQRandom([[0]*N for _ in range(N)])"
      ]
    },
    {
      "cell_type": "code",
      "execution_count": null,
      "metadata": {
        "id": "KToekqTbtsKr",
        "outputId": "a9eef4a3-87d0-4de3-877a-f141a9ad6990"
      },
      "outputs": [
        {
          "name": "stdout",
          "output_type": "stream",
          "text": [
            "The slowest run took 101.48 times longer than the fastest. This could mean that an intermediate result is being cached.\n",
            "5.04 s ± 4.6 s per loop (mean ± std. dev. of 7 runs, 1 loop each)\n"
          ]
        }
      ],
      "source": [
        "%%timeit\n",
        "solveNQRandom([[0]*N for _ in range(N)], print_board=False)"
      ]
    }
  ],
  "metadata": {
    "kernelspec": {
      "display_name": "Python 3",
      "language": "python",
      "name": "python3"
    },
    "language_info": {
      "codemirror_mode": {
        "name": "ipython",
        "version": 3
      },
      "file_extension": ".py",
      "mimetype": "text/x-python",
      "name": "python",
      "nbconvert_exporter": "python",
      "pygments_lexer": "ipython3",
      "version": "3.8.3"
    },
    "colab": {
      "provenance": []
    }
  },
  "nbformat": 4,
  "nbformat_minor": 0
}