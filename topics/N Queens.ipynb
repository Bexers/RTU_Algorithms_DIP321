{
  "cells": [
    {
      "cell_type": "markdown",
      "metadata": {
        "id": "h0Li5YHDtsKL"
      },
      "source": [
        "# n-queens  problem\n",
        "\n",
        "https://en.wikipedia.org/wiki/Eight_queens_puzzle\n",
        "\n",
        "![Solution](https://upload.wikimedia.org/wikipedia/commons/1/1f/Eight-queens-animation.gif)\n",
        "https://www.geeksforgeeks.org/n-queen-problem-backtracking-3/"
      ]
    },
    {
      "cell_type": "code",
      "execution_count": 1,
      "metadata": {
        "colab": {
          "base_uri": "https://localhost:8080/"
        },
        "id": "l9AyFn99tsKW",
        "outputId": "0b15fe60-00f1-40b3-b481-e47fa9c708b0"
      },
      "outputs": [
        {
          "output_type": "execute_result",
          "data": {
            "text/plain": [
              "4426165368"
            ]
          },
          "metadata": {},
          "execution_count": 1
        }
      ],
      "source": [
        "# so if we were going to use completely brute force we would need  to look at C(8,64) solutions\n",
        "# we can use our friend memoized function from last week\n",
        "import functools\n",
        "@functools.lru_cache(maxsize=None)\n",
        "def C_mem(n,k):\n",
        "    if k == 0: return 1\n",
        "    if n == 0: return 0\n",
        "    return C_mem(n-1,k-1) + C_mem(n-1,k)\n",
        "C_mem(64,8)"
      ]
    },
    {
      "cell_type": "code",
      "source": [
        "# from itertools import combinations # we could generate all combination\n"
      ],
      "metadata": {
        "id": "ge44_GryuaoP"
      },
      "execution_count": null,
      "outputs": []
    },
    {
      "cell_type": "markdown",
      "source": [
        "## Chess pieces in Unicode\n",
        "\n",
        "https://en.wikipedia.org/wiki/Chess_symbols_in_Unicode"
      ],
      "metadata": {
        "id": "ycyoRgJx-Y11"
      }
    },
    {
      "cell_type": "code",
      "source": [
        "print(\"♕\")\n",
        "print(ord(\"♕\"))"
      ],
      "metadata": {
        "id": "eyiW6S___RGW",
        "outputId": "b3108c52-000a-4b5f-f8a6-d0e7374992c5",
        "colab": {
          "base_uri": "https://localhost:8080/"
        }
      },
      "execution_count": 79,
      "outputs": [
        {
          "output_type": "stream",
          "name": "stdout",
          "text": [
            "♕\n",
            "9813\n"
          ]
        }
      ]
    },
    {
      "cell_type": "markdown",
      "source": [
        "## N Queens solved with backtracking"
      ],
      "metadata": {
        "id": "sKe3EBVH4Zsd"
      }
    },
    {
      "cell_type": "code",
      "execution_count": 80,
      "metadata": {
        "id": "_GPl9u2TtsKa"
      },
      "outputs": [],
      "source": [
        "# Python3 program to solve N Queen \n",
        "# Problem using backtracking \n",
        "# global N # kind of ugly global state\n",
        "# N = 4\n",
        "\n",
        "def printSolution(board, N): \n",
        "    for i in range(N): \n",
        "        for j in range(N): \n",
        "            print (board[i][j], end = \" \") \n",
        "        print() \n",
        "\n",
        "# A utility function to check if a queen can \n",
        "# be placed on board[row][col]. Note that this \n",
        "# function is called when \"col\" queens are \n",
        "# already placed in columns from 0 to col -1. \n",
        "# So we need to check only left side for \n",
        "# attacking queens \n",
        "def isSafe(board, row, col, N, debug=False): \n",
        "    # Check this row on left side \n",
        "    for i in range(col): \n",
        "        if board[row][i] == \"♕\": # old version used 1 which should be faster actually less conversion\n",
        "            return False\n",
        "\n",
        "    # Check upper diagonal on left side \n",
        "    for i, j in zip(range(row, -1, -1), \n",
        "                    range(col, -1, -1)): \n",
        "        if debug:\n",
        "            print(f\"Checking row {i}, col {j}\")\n",
        "            printSolution(board, N)\n",
        "        if board[i][j] == \"♕\": \n",
        "            return False\n",
        "\n",
        "    # Check lower diagonal on left side \n",
        "    for i, j in zip(range(row, N, 1), \n",
        "                    range(col, -1, -1)): \n",
        "        if board[i][j] == 1: \n",
        "            return False\n",
        "\n",
        "    return True\n",
        "\n",
        "def solveNQUtil(board, col, N, debug=False): \n",
        "\n",
        "    # base case: If all queens are placed \n",
        "    # then return true \n",
        "    if col >= N: \n",
        "        return True\n",
        "\n",
        "    # Consider this column and try placing \n",
        "    # this queen in all rows one by one \n",
        "    for i in range(N): \n",
        "\n",
        "        if isSafe(board, i, col, N, debug): \n",
        "\n",
        "            # Place this queen in board[i][col] \n",
        "            board[i][col] = \"♕\"\n",
        "\n",
        "            # recur to place rest of the queens \n",
        "            if solveNQUtil(board, col + 1, N, debug) == True: \n",
        "                return True\n",
        "\n",
        "            # If placing queen in board[i][col \n",
        "            # doesn't lead to a solution, then \n",
        "            # queen from board[i][col] \n",
        "            board[i][col] = 0\n",
        "\n",
        "    # if the queen can not be placed in any row in \n",
        "    # this colum col then return false \n",
        "    return False\n",
        "\n",
        "# This function solves the N Queen problem using \n",
        "# Backtracking. It mainly uses solveNQUtil() to \n",
        "# solve the problem. It returns false if queens \n",
        "# cannot be placed, otherwise return true and \n",
        "# placement of queens in the form of 1s. \n",
        "# note that there may be more than one \n",
        "# solutions, this function prints one of the \n",
        "# feasible solutions. \n",
        "\n",
        "def solveNQ(N, print_board=True, debug=False): # passing in default 4x4\n",
        "    # board = tuple([0,0,0,0] for _ in range(N)) # !!!! bug fixed below \n",
        "    # in normal code base you would delete such code lines\n",
        "    board = tuple([0] * N for _ in range(N)) # we need to create a blank board\n",
        "\n",
        "    if solveNQUtil(board, 0, N, debug) == False: \n",
        "        #print (\"Solution does not exist\") \n",
        "        return False\n",
        "\n",
        "    if print_board:\n",
        "        printSolution(board, N) \n",
        "    return True\n",
        "\n",
        "\n",
        "\n",
        "# This code is contributed by Divyanshu Mehta \n",
        "# Modified by VS - strive to avoid globals in  your code!\n"
      ]
    },
    {
      "cell_type": "code",
      "execution_count": 81,
      "metadata": {
        "colab": {
          "base_uri": "https://localhost:8080/"
        },
        "id": "Q_ooZjYKtsKc",
        "outputId": "e4205d62-e1be-4c09-9ed9-d0dcc9b15088"
      },
      "outputs": [
        {
          "output_type": "stream",
          "name": "stdout",
          "text": [
            "0 0 ♕ 0 \n",
            "♕ 0 0 0 \n",
            "0 0 0 ♕ \n",
            "0 ♕ 0 0 \n"
          ]
        },
        {
          "output_type": "execute_result",
          "data": {
            "text/plain": [
              "True"
            ]
          },
          "metadata": {},
          "execution_count": 81
        }
      ],
      "source": [
        "solveNQ(4) "
      ]
    },
    {
      "cell_type": "code",
      "source": [
        "solveNQ(4, debug=True) "
      ],
      "metadata": {
        "colab": {
          "base_uri": "https://localhost:8080/"
        },
        "id": "QJxDDxPQ17NM",
        "outputId": "c3b92cf3-ae98-4599-a60d-4c10a09f82d2"
      },
      "execution_count": 22,
      "outputs": [
        {
          "output_type": "stream",
          "name": "stdout",
          "text": [
            "Checking row 0, col 0\n",
            "0 0 0 0 \n",
            "0 0 0 0 \n",
            "0 0 0 0 \n",
            "0 0 0 0 \n",
            "Checking row 1, col 1\n",
            "1 0 0 0 \n",
            "0 0 0 0 \n",
            "0 0 0 0 \n",
            "0 0 0 0 \n",
            "Checking row 0, col 0\n",
            "1 0 0 0 \n",
            "0 0 0 0 \n",
            "0 0 0 0 \n",
            "0 0 0 0 \n",
            "Checking row 2, col 1\n",
            "1 0 0 0 \n",
            "0 0 0 0 \n",
            "0 0 0 0 \n",
            "0 0 0 0 \n",
            "Checking row 1, col 0\n",
            "1 0 0 0 \n",
            "0 0 0 0 \n",
            "0 0 0 0 \n",
            "0 0 0 0 \n",
            "Checking row 1, col 2\n",
            "1 0 0 0 \n",
            "0 0 0 0 \n",
            "0 1 0 0 \n",
            "0 0 0 0 \n",
            "Checking row 0, col 1\n",
            "1 0 0 0 \n",
            "0 0 0 0 \n",
            "0 1 0 0 \n",
            "0 0 0 0 \n",
            "Checking row 3, col 2\n",
            "1 0 0 0 \n",
            "0 0 0 0 \n",
            "0 1 0 0 \n",
            "0 0 0 0 \n",
            "Checking row 2, col 1\n",
            "1 0 0 0 \n",
            "0 0 0 0 \n",
            "0 1 0 0 \n",
            "0 0 0 0 \n",
            "Checking row 3, col 1\n",
            "1 0 0 0 \n",
            "0 0 0 0 \n",
            "0 0 0 0 \n",
            "0 0 0 0 \n",
            "Checking row 2, col 0\n",
            "1 0 0 0 \n",
            "0 0 0 0 \n",
            "0 0 0 0 \n",
            "0 0 0 0 \n",
            "Checking row 1, col 2\n",
            "1 0 0 0 \n",
            "0 0 0 0 \n",
            "0 0 0 0 \n",
            "0 1 0 0 \n",
            "Checking row 0, col 1\n",
            "1 0 0 0 \n",
            "0 0 0 0 \n",
            "0 0 0 0 \n",
            "0 1 0 0 \n",
            "Checking row 2, col 3\n",
            "1 0 0 0 \n",
            "0 0 1 0 \n",
            "0 0 0 0 \n",
            "0 1 0 0 \n",
            "Checking row 1, col 2\n",
            "1 0 0 0 \n",
            "0 0 1 0 \n",
            "0 0 0 0 \n",
            "0 1 0 0 \n",
            "Checking row 2, col 2\n",
            "1 0 0 0 \n",
            "0 0 0 0 \n",
            "0 0 0 0 \n",
            "0 1 0 0 \n",
            "Checking row 1, col 1\n",
            "1 0 0 0 \n",
            "0 0 0 0 \n",
            "0 0 0 0 \n",
            "0 1 0 0 \n",
            "Checking row 0, col 0\n",
            "1 0 0 0 \n",
            "0 0 0 0 \n",
            "0 0 0 0 \n",
            "0 1 0 0 \n",
            "Checking row 1, col 0\n",
            "0 0 0 0 \n",
            "0 0 0 0 \n",
            "0 0 0 0 \n",
            "0 0 0 0 \n",
            "Checking row 0, col 1\n",
            "0 0 0 0 \n",
            "1 0 0 0 \n",
            "0 0 0 0 \n",
            "0 0 0 0 \n",
            "Checking row 2, col 1\n",
            "0 0 0 0 \n",
            "1 0 0 0 \n",
            "0 0 0 0 \n",
            "0 0 0 0 \n",
            "Checking row 1, col 0\n",
            "0 0 0 0 \n",
            "1 0 0 0 \n",
            "0 0 0 0 \n",
            "0 0 0 0 \n",
            "Checking row 3, col 1\n",
            "0 0 0 0 \n",
            "1 0 0 0 \n",
            "0 0 0 0 \n",
            "0 0 0 0 \n",
            "Checking row 2, col 0\n",
            "0 0 0 0 \n",
            "1 0 0 0 \n",
            "0 0 0 0 \n",
            "0 0 0 0 \n",
            "Checking row 0, col 2\n",
            "0 0 0 0 \n",
            "1 0 0 0 \n",
            "0 0 0 0 \n",
            "0 1 0 0 \n",
            "Checking row 2, col 3\n",
            "0 0 1 0 \n",
            "1 0 0 0 \n",
            "0 0 0 0 \n",
            "0 1 0 0 \n",
            "Checking row 1, col 2\n",
            "0 0 1 0 \n",
            "1 0 0 0 \n",
            "0 0 0 0 \n",
            "0 1 0 0 \n",
            "Checking row 0, col 1\n",
            "0 0 1 0 \n",
            "1 0 0 0 \n",
            "0 0 0 0 \n",
            "0 1 0 0 \n",
            "0 0 1 0 \n",
            "1 0 0 0 \n",
            "0 0 0 1 \n",
            "0 1 0 0 \n"
          ]
        },
        {
          "output_type": "execute_result",
          "data": {
            "text/plain": [
              "True"
            ]
          },
          "metadata": {},
          "execution_count": 22
        }
      ]
    },
    {
      "cell_type": "code",
      "execution_count": 12,
      "metadata": {
        "colab": {
          "base_uri": "https://localhost:8080/"
        },
        "id": "ezCgtuiftsKc",
        "outputId": "51d33201-e0b4-4ad7-de3f-7e2e1ce25889"
      },
      "outputs": [
        {
          "output_type": "stream",
          "name": "stdout",
          "text": [
            "Checking row 0, col 0\n",
            "0 0 0 \n",
            "0 0 0 \n",
            "0 0 0 \n",
            "Checking row 1, col 1\n",
            "1 0 0 \n",
            "0 0 0 \n",
            "0 0 0 \n",
            "Checking row 0, col 0\n",
            "1 0 0 \n",
            "0 0 0 \n",
            "0 0 0 \n",
            "Checking row 2, col 1\n",
            "1 0 0 \n",
            "0 0 0 \n",
            "0 0 0 \n",
            "Checking row 1, col 0\n",
            "1 0 0 \n",
            "0 0 0 \n",
            "0 0 0 \n",
            "Checking row 1, col 2\n",
            "1 0 0 \n",
            "0 0 0 \n",
            "0 1 0 \n",
            "Checking row 0, col 1\n",
            "1 0 0 \n",
            "0 0 0 \n",
            "0 1 0 \n",
            "Checking row 1, col 0\n",
            "0 0 0 \n",
            "0 0 0 \n",
            "0 0 0 \n",
            "Checking row 0, col 1\n",
            "0 0 0 \n",
            "1 0 0 \n",
            "0 0 0 \n",
            "Checking row 2, col 1\n",
            "0 0 0 \n",
            "1 0 0 \n",
            "0 0 0 \n",
            "Checking row 1, col 0\n",
            "0 0 0 \n",
            "1 0 0 \n",
            "0 0 0 \n",
            "Checking row 2, col 0\n",
            "0 0 0 \n",
            "0 0 0 \n",
            "0 0 0 \n",
            "Checking row 0, col 1\n",
            "0 0 0 \n",
            "0 0 0 \n",
            "1 0 0 \n",
            "Checking row 1, col 2\n",
            "0 1 0 \n",
            "0 0 0 \n",
            "1 0 0 \n",
            "Checking row 0, col 1\n",
            "0 1 0 \n",
            "0 0 0 \n",
            "1 0 0 \n",
            "Checking row 1, col 1\n",
            "0 0 0 \n",
            "0 0 0 \n",
            "1 0 0 \n",
            "Checking row 0, col 0\n",
            "0 0 0 \n",
            "0 0 0 \n",
            "1 0 0 \n"
          ]
        },
        {
          "output_type": "execute_result",
          "data": {
            "text/plain": [
              "False"
            ]
          },
          "metadata": {},
          "execution_count": 12
        }
      ],
      "source": [
        "# Driver Code \n",
        "solveNQ(3) "
      ]
    },
    {
      "cell_type": "code",
      "source": [
        "# Driver Code \n",
        "solveNQ(5) "
      ],
      "metadata": {
        "colab": {
          "base_uri": "https://localhost:8080/"
        },
        "id": "AH5xm2Bkvv0c",
        "outputId": "ad5fa06d-9119-43ec-c061-f9deff1d4e83"
      },
      "execution_count": 23,
      "outputs": [
        {
          "output_type": "stream",
          "name": "stdout",
          "text": [
            "1 0 0 0 0 \n",
            "0 0 0 1 0 \n",
            "0 1 0 0 0 \n",
            "0 0 0 0 1 \n",
            "0 0 1 0 0 \n"
          ]
        },
        {
          "output_type": "execute_result",
          "data": {
            "text/plain": [
              "True"
            ]
          },
          "metadata": {},
          "execution_count": 23
        }
      ]
    },
    {
      "cell_type": "code",
      "execution_count": 16,
      "metadata": {
        "colab": {
          "base_uri": "https://localhost:8080/"
        },
        "id": "gVxX2HyDtsKd",
        "outputId": "2b01b45f-f97d-4d9e-a126-093cc6aaa5d8"
      },
      "outputs": [
        {
          "output_type": "execute_result",
          "data": {
            "text/plain": [
              "[[0, 0, 0, 0, 0, 0],\n",
              " [0, 0, 0, 0, 0, 0],\n",
              " [0, 0, 0, 0, 0, 0],\n",
              " [0, 0, 0, 0, 0, 0],\n",
              " [0, 0, 0, 0, 0, 0],\n",
              " [0, 0, 0, 0, 0, 0]]"
            ]
          },
          "metadata": {},
          "execution_count": 16
        }
      ],
      "source": [
        "N = 6\n",
        "[[0]*N for _ in range(N)]"
      ]
    },
    {
      "cell_type": "code",
      "source": [
        "solveNQ(5, debug=True) "
      ],
      "metadata": {
        "colab": {
          "base_uri": "https://localhost:8080/"
        },
        "id": "Vt7IfJtdv5J4",
        "outputId": "40ce0b5b-30c8-4081-c3c2-2d609955004b"
      },
      "execution_count": 24,
      "outputs": [
        {
          "output_type": "stream",
          "name": "stdout",
          "text": [
            "Checking row 0, col 0\n",
            "0 0 0 0 0 \n",
            "0 0 0 0 0 \n",
            "0 0 0 0 0 \n",
            "0 0 0 0 0 \n",
            "0 0 0 0 0 \n",
            "Checking row 1, col 1\n",
            "1 0 0 0 0 \n",
            "0 0 0 0 0 \n",
            "0 0 0 0 0 \n",
            "0 0 0 0 0 \n",
            "0 0 0 0 0 \n",
            "Checking row 0, col 0\n",
            "1 0 0 0 0 \n",
            "0 0 0 0 0 \n",
            "0 0 0 0 0 \n",
            "0 0 0 0 0 \n",
            "0 0 0 0 0 \n",
            "Checking row 2, col 1\n",
            "1 0 0 0 0 \n",
            "0 0 0 0 0 \n",
            "0 0 0 0 0 \n",
            "0 0 0 0 0 \n",
            "0 0 0 0 0 \n",
            "Checking row 1, col 0\n",
            "1 0 0 0 0 \n",
            "0 0 0 0 0 \n",
            "0 0 0 0 0 \n",
            "0 0 0 0 0 \n",
            "0 0 0 0 0 \n",
            "Checking row 1, col 2\n",
            "1 0 0 0 0 \n",
            "0 0 0 0 0 \n",
            "0 1 0 0 0 \n",
            "0 0 0 0 0 \n",
            "0 0 0 0 0 \n",
            "Checking row 0, col 1\n",
            "1 0 0 0 0 \n",
            "0 0 0 0 0 \n",
            "0 1 0 0 0 \n",
            "0 0 0 0 0 \n",
            "0 0 0 0 0 \n",
            "Checking row 3, col 2\n",
            "1 0 0 0 0 \n",
            "0 0 0 0 0 \n",
            "0 1 0 0 0 \n",
            "0 0 0 0 0 \n",
            "0 0 0 0 0 \n",
            "Checking row 2, col 1\n",
            "1 0 0 0 0 \n",
            "0 0 0 0 0 \n",
            "0 1 0 0 0 \n",
            "0 0 0 0 0 \n",
            "0 0 0 0 0 \n",
            "Checking row 4, col 2\n",
            "1 0 0 0 0 \n",
            "0 0 0 0 0 \n",
            "0 1 0 0 0 \n",
            "0 0 0 0 0 \n",
            "0 0 0 0 0 \n",
            "Checking row 3, col 1\n",
            "1 0 0 0 0 \n",
            "0 0 0 0 0 \n",
            "0 1 0 0 0 \n",
            "0 0 0 0 0 \n",
            "0 0 0 0 0 \n",
            "Checking row 2, col 0\n",
            "1 0 0 0 0 \n",
            "0 0 0 0 0 \n",
            "0 1 0 0 0 \n",
            "0 0 0 0 0 \n",
            "0 0 0 0 0 \n",
            "Checking row 1, col 3\n",
            "1 0 0 0 0 \n",
            "0 0 0 0 0 \n",
            "0 1 0 0 0 \n",
            "0 0 0 0 0 \n",
            "0 0 1 0 0 \n",
            "Checking row 0, col 2\n",
            "1 0 0 0 0 \n",
            "0 0 0 0 0 \n",
            "0 1 0 0 0 \n",
            "0 0 0 0 0 \n",
            "0 0 1 0 0 \n",
            "Checking row 3, col 4\n",
            "1 0 0 0 0 \n",
            "0 0 0 1 0 \n",
            "0 1 0 0 0 \n",
            "0 0 0 0 0 \n",
            "0 0 1 0 0 \n",
            "Checking row 2, col 3\n",
            "1 0 0 0 0 \n",
            "0 0 0 1 0 \n",
            "0 1 0 0 0 \n",
            "0 0 0 0 0 \n",
            "0 0 1 0 0 \n",
            "Checking row 1, col 2\n",
            "1 0 0 0 0 \n",
            "0 0 0 1 0 \n",
            "0 1 0 0 0 \n",
            "0 0 0 0 0 \n",
            "0 0 1 0 0 \n",
            "Checking row 0, col 1\n",
            "1 0 0 0 0 \n",
            "0 0 0 1 0 \n",
            "0 1 0 0 0 \n",
            "0 0 0 0 0 \n",
            "0 0 1 0 0 \n",
            "1 0 0 0 0 \n",
            "0 0 0 1 0 \n",
            "0 1 0 0 0 \n",
            "0 0 0 0 1 \n",
            "0 0 1 0 0 \n"
          ]
        },
        {
          "output_type": "execute_result",
          "data": {
            "text/plain": [
              "True"
            ]
          },
          "metadata": {},
          "execution_count": 24
        }
      ]
    },
    {
      "cell_type": "code",
      "execution_count": 25,
      "metadata": {
        "colab": {
          "base_uri": "https://localhost:8080/"
        },
        "id": "Jic8FG0atsKg",
        "outputId": "5c0cf25f-29de-41e8-8ab8-ee033b1cfb61"
      },
      "outputs": [
        {
          "output_type": "stream",
          "name": "stdout",
          "text": [
            "0 0 1 0 \n",
            "1 0 0 0 \n",
            "0 0 0 1 \n",
            "0 1 0 0 \n",
            "----------------------------------------\n",
            "1 0 0 0 0 \n",
            "0 0 0 1 0 \n",
            "0 1 0 0 0 \n",
            "0 0 0 0 1 \n",
            "0 0 1 0 0 \n",
            "----------------------------------------\n",
            "0 0 0 1 0 0 \n",
            "1 0 0 0 0 0 \n",
            "0 0 0 0 1 0 \n",
            "0 1 0 0 0 0 \n",
            "0 0 0 0 0 1 \n",
            "0 0 1 0 0 0 \n",
            "----------------------------------------\n",
            "1 0 0 0 0 0 0 \n",
            "0 0 0 0 1 0 0 \n",
            "0 1 0 0 0 0 0 \n",
            "0 0 0 0 0 1 0 \n",
            "0 0 1 0 0 0 0 \n",
            "0 0 0 0 0 0 1 \n",
            "0 0 0 1 0 0 0 \n",
            "----------------------------------------\n",
            "1 0 0 0 0 0 0 0 \n",
            "0 0 0 0 0 0 1 0 \n",
            "0 0 0 0 1 0 0 0 \n",
            "0 0 0 0 0 0 0 1 \n",
            "0 1 0 0 0 0 0 0 \n",
            "0 0 0 1 0 0 0 0 \n",
            "0 0 0 0 0 1 0 0 \n",
            "0 0 1 0 0 0 0 0 \n",
            "----------------------------------------\n",
            "1 0 0 0 0 0 0 0 0 \n",
            "0 0 0 0 1 0 0 0 0 \n",
            "0 1 0 0 0 0 0 0 0 \n",
            "0 0 0 0 0 1 0 0 0 \n",
            "0 0 0 0 0 0 0 0 1 \n",
            "0 0 1 0 0 0 0 0 0 \n",
            "0 0 0 0 0 0 0 1 0 \n",
            "0 0 0 1 0 0 0 0 0 \n",
            "0 0 0 0 0 0 1 0 0 \n",
            "----------------------------------------\n",
            "1 0 0 0 0 0 0 0 0 0 \n",
            "0 0 0 0 0 0 0 1 0 0 \n",
            "0 1 0 0 0 0 0 0 0 0 \n",
            "0 0 0 0 0 0 0 0 1 0 \n",
            "0 0 0 0 0 1 0 0 0 0 \n",
            "0 0 1 0 0 0 0 0 0 0 \n",
            "0 0 0 0 0 0 0 0 0 1 \n",
            "0 0 0 1 0 0 0 0 0 0 \n",
            "0 0 0 0 0 0 1 0 0 0 \n",
            "0 0 0 0 1 0 0 0 0 0 \n",
            "----------------------------------------\n",
            "1 0 0 0 0 0 0 0 0 0 0 \n",
            "0 0 0 0 0 0 1 0 0 0 0 \n",
            "0 1 0 0 0 0 0 0 0 0 0 \n",
            "0 0 0 0 0 0 0 1 0 0 0 \n",
            "0 0 1 0 0 0 0 0 0 0 0 \n",
            "0 0 0 0 0 0 0 0 1 0 0 \n",
            "0 0 0 1 0 0 0 0 0 0 0 \n",
            "0 0 0 0 0 0 0 0 0 1 0 \n",
            "0 0 0 0 1 0 0 0 0 0 0 \n",
            "0 0 0 0 0 0 0 0 0 0 1 \n",
            "0 0 0 0 0 1 0 0 0 0 0 \n",
            "----------------------------------------\n",
            "1 0 0 0 0 0 0 0 0 0 0 0 \n",
            "0 0 0 0 0 0 0 0 1 0 0 0 \n",
            "0 1 0 0 0 0 0 0 0 0 0 0 \n",
            "0 0 0 0 0 0 0 0 0 0 0 1 \n",
            "0 0 1 0 0 0 0 0 0 0 0 0 \n",
            "0 0 0 0 0 0 1 0 0 0 0 0 \n",
            "0 0 0 0 0 0 0 0 0 1 0 0 \n",
            "0 0 0 1 0 0 0 0 0 0 0 0 \n",
            "0 0 0 0 0 0 0 0 0 0 1 0 \n",
            "0 0 0 0 1 0 0 0 0 0 0 0 \n",
            "0 0 0 0 0 0 0 1 0 0 0 0 \n",
            "0 0 0 0 0 1 0 0 0 0 0 0 \n",
            "----------------------------------------\n",
            "1 0 0 0 0 0 0 0 0 0 0 0 0 \n",
            "0 0 0 1 0 0 0 0 0 0 0 0 0 \n",
            "0 1 0 0 0 0 0 0 0 0 0 0 0 \n",
            "0 0 0 0 0 0 0 0 1 0 0 0 0 \n",
            "0 0 1 0 0 0 0 0 0 0 0 0 0 \n",
            "0 0 0 0 0 0 0 0 0 1 0 0 0 \n",
            "0 0 0 0 0 0 0 0 0 0 0 0 1 \n",
            "0 0 0 0 0 0 0 0 0 0 1 0 0 \n",
            "0 0 0 0 1 0 0 0 0 0 0 0 0 \n",
            "0 0 0 0 0 0 1 0 0 0 0 0 0 \n",
            "0 0 0 0 0 0 0 0 0 0 0 1 0 \n",
            "0 0 0 0 0 1 0 0 0 0 0 0 0 \n",
            "0 0 0 0 0 0 0 1 0 0 0 0 0 \n",
            "----------------------------------------\n",
            "1 0 0 0 0 0 0 0 0 0 0 0 0 0 \n",
            "0 0 0 0 0 0 0 0 0 0 1 0 0 0 \n",
            "0 1 0 0 0 0 0 0 0 0 0 0 0 0 \n",
            "0 0 0 0 0 0 0 1 0 0 0 0 0 0 \n",
            "0 0 1 0 0 0 0 0 0 0 0 0 0 0 \n",
            "0 0 0 0 0 0 0 0 0 0 0 1 0 0 \n",
            "0 0 0 1 0 0 0 0 0 0 0 0 0 0 \n",
            "0 0 0 0 0 0 0 0 0 0 0 0 1 0 \n",
            "0 0 0 0 0 0 0 0 0 1 0 0 0 0 \n",
            "0 0 0 0 0 1 0 0 0 0 0 0 0 0 \n",
            "0 0 0 0 0 0 0 0 0 0 0 0 0 1 \n",
            "0 0 0 0 1 0 0 0 0 0 0 0 0 0 \n",
            "0 0 0 0 0 0 1 0 0 0 0 0 0 0 \n",
            "0 0 0 0 0 0 0 0 1 0 0 0 0 0 \n",
            "----------------------------------------\n",
            "1 0 0 0 0 0 0 0 0 0 0 0 0 0 0 \n",
            "0 0 0 1 0 0 0 0 0 0 0 0 0 0 0 \n",
            "0 1 0 0 0 0 0 0 0 0 0 0 0 0 0 \n",
            "0 0 0 0 0 0 0 1 0 0 0 0 0 0 0 \n",
            "0 0 1 0 0 0 0 0 0 0 0 0 0 0 0 \n",
            "0 0 0 0 0 0 0 0 0 0 1 0 0 0 0 \n",
            "0 0 0 0 0 0 0 0 0 0 0 0 1 0 0 \n",
            "0 0 0 0 0 0 0 0 0 0 0 0 0 0 1 \n",
            "0 0 0 0 0 0 0 0 0 1 0 0 0 0 0 \n",
            "0 0 0 0 1 0 0 0 0 0 0 0 0 0 0 \n",
            "0 0 0 0 0 0 0 0 0 0 0 0 0 1 0 \n",
            "0 0 0 0 0 1 0 0 0 0 0 0 0 0 0 \n",
            "0 0 0 0 0 0 0 0 1 0 0 0 0 0 0 \n",
            "0 0 0 0 0 0 1 0 0 0 0 0 0 0 0 \n",
            "0 0 0 0 0 0 0 0 0 0 0 1 0 0 0 \n",
            "----------------------------------------\n",
            "1 0 0 0 0 0 0 0 0 0 0 0 0 0 0 0 \n",
            "0 0 0 1 0 0 0 0 0 0 0 0 0 0 0 0 \n",
            "0 1 0 0 0 0 0 0 0 0 0 0 0 0 0 0 \n",
            "0 0 0 0 0 0 0 0 0 0 0 0 1 0 0 0 \n",
            "0 0 1 0 0 0 0 0 0 0 0 0 0 0 0 0 \n",
            "0 0 0 0 0 0 0 0 0 1 0 0 0 0 0 0 \n",
            "0 0 0 0 0 0 0 0 0 0 0 1 0 0 0 0 \n",
            "0 0 0 0 0 0 0 0 0 0 0 0 0 0 1 0 \n",
            "0 0 0 0 0 1 0 0 0 0 0 0 0 0 0 0 \n",
            "0 0 0 0 0 0 0 0 0 0 0 0 0 0 0 1 \n",
            "0 0 0 0 0 0 0 0 0 0 0 0 0 1 0 0 \n",
            "0 0 0 0 0 0 0 1 0 0 0 0 0 0 0 0 \n",
            "0 0 0 0 1 0 0 0 0 0 0 0 0 0 0 0 \n",
            "0 0 0 0 0 0 1 0 0 0 0 0 0 0 0 0 \n",
            "0 0 0 0 0 0 0 0 1 0 0 0 0 0 0 0 \n",
            "0 0 0 0 0 0 0 0 0 0 1 0 0 0 0 0 \n",
            "----------------------------------------\n"
          ]
        }
      ],
      "source": [
        "for n in range(4,17):\n",
        "    solveNQ(n)\n",
        "    print(\"-\"*40)"
      ]
    },
    {
      "cell_type": "code",
      "execution_count": null,
      "metadata": {
        "id": "lnr6C1z7tsKh"
      },
      "outputs": [],
      "source": [
        "# since we choose our paths deterministically we get the same solution always\n",
        "# we could flip the board around to get mirror and rotated solutions\n"
      ]
    },
    {
      "cell_type": "code",
      "execution_count": 26,
      "metadata": {
        "colab": {
          "base_uri": "https://localhost:8080/"
        },
        "id": "LmQ-ZliOtsKi",
        "outputId": "de9ff734-1b05-45f5-dc93-8025475e8479"
      },
      "outputs": [
        {
          "output_type": "stream",
          "name": "stdout",
          "text": [
            "32.5 µs ± 1.12 µs per loop (mean ± std. dev. of 7 runs, 10000 loops each)\n"
          ]
        }
      ],
      "source": [
        "%%timeit\n",
        "solveNQ(4, print_board=False)"
      ]
    },
    {
      "cell_type": "code",
      "source": [
        "%%timeit\n",
        "solveNQ(5, print_board=False)"
      ],
      "metadata": {
        "id": "L9MHluW13B25",
        "outputId": "418fa9ac-4f02-41ef-a1b6-fdc1d5dc198f",
        "colab": {
          "base_uri": "https://localhost:8080/"
        }
      },
      "execution_count": 27,
      "outputs": [
        {
          "output_type": "stream",
          "name": "stdout",
          "text": [
            "23.2 µs ± 6.15 µs per loop (mean ± std. dev. of 7 runs, 100000 loops each)\n"
          ]
        }
      ]
    },
    {
      "cell_type": "markdown",
      "source": [
        "### Solution for 5 Queens is faster than 4 Queens\n",
        "\n",
        "Why?\n",
        "\n",
        "Here the 5 queens have a solution with first queen in corner so we have less backtracking to do."
      ],
      "metadata": {
        "id": "_cLptlFg3Leq"
      }
    },
    {
      "cell_type": "code",
      "source": [
        "%%timeit\n",
        "solveNQ(6, print_board=False)"
      ],
      "metadata": {
        "id": "IZtt4jt53iTb",
        "outputId": "75bd87a9-1e59-4478-8788-c5f93145fe12",
        "colab": {
          "base_uri": "https://localhost:8080/"
        }
      },
      "execution_count": 28,
      "outputs": [
        {
          "output_type": "stream",
          "name": "stdout",
          "text": [
            "206 µs ± 42.1 µs per loop (mean ± std. dev. of 7 runs, 10000 loops each)\n"
          ]
        }
      ]
    },
    {
      "cell_type": "code",
      "source": [
        "%%timeit\n",
        "solveNQ(7, print_board=False)"
      ],
      "metadata": {
        "id": "Nx-s1ASi3qO7",
        "outputId": "d2fe0538-dbad-475c-e5d2-e70aaaa58a07",
        "colab": {
          "base_uri": "https://localhost:8080/"
        }
      },
      "execution_count": 29,
      "outputs": [
        {
          "output_type": "stream",
          "name": "stdout",
          "text": [
            "67.3 µs ± 19.8 µs per loop (mean ± std. dev. of 7 runs, 10000 loops each)\n"
          ]
        }
      ]
    },
    {
      "cell_type": "code",
      "source": [
        "%%timeit\n",
        "solveNQ(8, print_board=False)"
      ],
      "metadata": {
        "id": "m7ous-RT3wIv",
        "outputId": "a4f7ed74-0ee0-4a6b-d813-4fb56c4ae03b",
        "colab": {
          "base_uri": "https://localhost:8080/"
        }
      },
      "execution_count": 30,
      "outputs": [
        {
          "output_type": "stream",
          "name": "stdout",
          "text": [
            "1.16 ms ± 327 µs per loop (mean ± std. dev. of 7 runs, 1000 loops each)\n"
          ]
        }
      ]
    },
    {
      "cell_type": "code",
      "source": [
        "%%timeit\n",
        "solveNQ(9, print_board=False)"
      ],
      "metadata": {
        "id": "BNQwRMlC36MP",
        "outputId": "73193ab1-7220-46e1-b7f8-bc60c819f5da",
        "colab": {
          "base_uri": "https://localhost:8080/"
        }
      },
      "execution_count": 31,
      "outputs": [
        {
          "output_type": "stream",
          "name": "stdout",
          "text": [
            "381 µs ± 9.91 µs per loop (mean ± std. dev. of 7 runs, 1000 loops each)\n"
          ]
        }
      ]
    },
    {
      "cell_type": "code",
      "source": [
        "%%timeit\n",
        "solveNQ(10, print_board=False)"
      ],
      "metadata": {
        "id": "JXZa3Fqw3-5L",
        "outputId": "6d7849b9-7109-41a5-f641-223da7135a3a",
        "colab": {
          "base_uri": "https://localhost:8080/"
        }
      },
      "execution_count": 32,
      "outputs": [
        {
          "output_type": "stream",
          "name": "stdout",
          "text": [
            "1.31 ms ± 346 µs per loop (mean ± std. dev. of 7 runs, 1000 loops each)\n"
          ]
        }
      ]
    },
    {
      "cell_type": "code",
      "execution_count": null,
      "metadata": {
        "id": "N4k7AMKltsKi"
      },
      "outputs": [],
      "source": [
        "# reason we got a solution does not exist is that we already prefilled the board after first run :)\n"
      ]
    },
    {
      "cell_type": "code",
      "execution_count": null,
      "metadata": {
        "id": "P0GoZjtJtsKi"
      },
      "outputs": [],
      "source": []
    },
    {
      "cell_type": "markdown",
      "metadata": {
        "id": "28kt3yWwtsKi"
      },
      "source": [
        "## Idea - choose path at random among all remaining paths\n",
        "We are still going to check all paths (until we find a solution)"
      ]
    },
    {
      "cell_type": "code",
      "source": [
        "import random\n",
        "def solveNQUtil_random(board, col, N, debug=False): \n",
        "\n",
        "    # base case: If all queens are placed \n",
        "    # then return true \n",
        "    if col >= N: \n",
        "        return True\n",
        "\n",
        "    # Consider this column and try placing \n",
        "    # this queen in all rows one by one \n",
        "    for i in random.sample(list(range(N)),k=N): \n",
        "\n",
        "        if isSafe(board, i, col, N, debug): \n",
        "\n",
        "            # Place this queen in board[i][col] \n",
        "            board[i][col] = 1\n",
        "\n",
        "            # recur to place rest of the queens \n",
        "            if solveNQUtil(board, col + 1, N, debug) == True: \n",
        "                return True\n",
        "\n",
        "            # If placing queen in board[i][col \n",
        "            # doesn't lead to a solution, then \n",
        "            # queen from board[i][col] \n",
        "            board[i][col] = 0\n",
        "\n",
        "    # if the queen can not be placed in any row in \n",
        "    # this colum col then return false \n",
        "    return False\n",
        "\n",
        "# This function solves the N Queen problem using \n",
        "# Backtracking. It mainly uses solveNQUtil() to \n",
        "# solve the problem. It returns false if queens \n",
        "# cannot be placed, otherwise return true and \n",
        "# placement of queens in the form of 1s. \n",
        "# note that there may be more than one \n",
        "# solutions, this function prints one of the \n",
        "# feasible solutions. \n",
        "\n",
        "def solveNQ_random(N, print_board=True, debug=False): # passing in default 4x4\n",
        "    # board = tuple([0,0,0,0] for _ in range(N)) # !!!! bug fixed below \n",
        "    # in normal code base you would delete such code lines\n",
        "    board = tuple([0] * N for _ in range(N)) # we need to create a blank board\n",
        "\n",
        "    if solveNQUtil_random(board, 0, N, debug) == False: \n",
        "        #print (\"Solution does not exist\") \n",
        "        return False\n",
        "\n",
        "    if print_board:\n",
        "        printSolution(board, N) \n",
        "    return True"
      ],
      "metadata": {
        "id": "4LtmO9bv42mK"
      },
      "execution_count": 34,
      "outputs": []
    },
    {
      "cell_type": "code",
      "execution_count": 36,
      "metadata": {
        "colab": {
          "base_uri": "https://localhost:8080/"
        },
        "id": "9s-mWSLptsKj",
        "outputId": "0118b147-2069-484d-aa91-d5a4ed13838f"
      },
      "outputs": [
        {
          "output_type": "execute_result",
          "data": {
            "text/plain": [
              "[3, 4, 2, 3, 0]"
            ]
          },
          "metadata": {},
          "execution_count": 36
        }
      ],
      "source": [
        "# choices is not suitable here because of potential duplications/replacements\n",
        "random.choices(list(range(5)),k=5) # no good we got dupes"
      ]
    },
    {
      "cell_type": "code",
      "execution_count": 39,
      "metadata": {
        "scrolled": true,
        "colab": {
          "base_uri": "https://localhost:8080/"
        },
        "id": "_Cwri9F-tsKj",
        "outputId": "3ca94ab7-4e3f-4f2c-df28-be9546d7d046"
      },
      "outputs": [
        {
          "output_type": "execute_result",
          "data": {
            "text/plain": [
              "[1, 2, 5, 4, 3, 0]"
            ]
          },
          "metadata": {},
          "execution_count": 39
        }
      ],
      "source": [
        "random.sample(list(range(6)),k=6) # this what we want a random sample of uniques"
      ]
    },
    {
      "cell_type": "code",
      "execution_count": 40,
      "metadata": {
        "colab": {
          "base_uri": "https://localhost:8080/"
        },
        "id": "1vp1XkADtsKk",
        "outputId": "626c11d8-8a31-41ff-c7b6-0faacbd5ffb5"
      },
      "outputs": [
        {
          "output_type": "stream",
          "name": "stdout",
          "text": [
            "0 0 1 0 \n",
            "1 0 0 0 \n",
            "0 0 0 1 \n",
            "0 1 0 0 \n"
          ]
        },
        {
          "output_type": "execute_result",
          "data": {
            "text/plain": [
              "True"
            ]
          },
          "metadata": {},
          "execution_count": 40
        }
      ],
      "source": [
        "solveNQ_random(4)"
      ]
    },
    {
      "cell_type": "code",
      "execution_count": 48,
      "metadata": {
        "colab": {
          "base_uri": "https://localhost:8080/"
        },
        "id": "ya2mfFuotsKk",
        "outputId": "e7f463f7-901f-4552-dcca-a5bc0b481f19"
      },
      "outputs": [
        {
          "output_type": "stream",
          "name": "stdout",
          "text": [
            "0 1 0 0 0 0 0 0 \n",
            "0 0 0 1 0 0 0 0 \n",
            "0 0 0 0 0 1 0 0 \n",
            "0 0 0 0 0 0 0 1 \n",
            "0 0 1 0 0 0 0 0 \n",
            "1 0 0 0 0 0 0 0 \n",
            "0 0 0 0 0 0 1 0 \n",
            "0 0 0 0 1 0 0 0 \n"
          ]
        },
        {
          "output_type": "execute_result",
          "data": {
            "text/plain": [
              "True"
            ]
          },
          "metadata": {},
          "execution_count": 48
        }
      ],
      "source": [
        "solveNQ_random(8)"
      ]
    },
    {
      "cell_type": "markdown",
      "source": [
        "### Timing Random Solutions"
      ],
      "metadata": {
        "id": "A0UPOXAB6JRA"
      }
    },
    {
      "cell_type": "code",
      "execution_count": 50,
      "metadata": {
        "colab": {
          "base_uri": "https://localhost:8080/"
        },
        "id": "37u7tplbtsKk",
        "outputId": "b5b71792-0857-4230-83f4-31aee4838d91"
      },
      "outputs": [
        {
          "output_type": "stream",
          "name": "stdout",
          "text": [
            "36.1 µs ± 9.98 µs per loop (mean ± std. dev. of 7 runs, 10000 loops each)\n"
          ]
        }
      ],
      "source": [
        "%%timeit\n",
        "solveNQ_random(4, print_board=False)"
      ]
    },
    {
      "cell_type": "code",
      "execution_count": null,
      "metadata": {
        "id": "3OFuuw6OtsKk"
      },
      "outputs": [],
      "source": [
        "# what does it mean that our randomized solution worked faster than hardcoded selection?\n",
        "# random is about twice as fast in this case"
      ]
    },
    {
      "cell_type": "code",
      "execution_count": null,
      "metadata": {
        "id": "91HOLVAltsKk"
      },
      "outputs": [],
      "source": []
    },
    {
      "cell_type": "code",
      "execution_count": 51,
      "metadata": {
        "colab": {
          "base_uri": "https://localhost:8080/"
        },
        "id": "mykqLKNftsKk",
        "outputId": "68abdb60-8fb6-4ab3-a953-8b51ecc664c7"
      },
      "outputs": [
        {
          "output_type": "stream",
          "name": "stdout",
          "text": [
            "985 µs ± 24.5 µs per loop (mean ± std. dev. of 7 runs, 1000 loops each)\n"
          ]
        }
      ],
      "source": [
        "%%timeit\n",
        "solveNQ_random(10, print_board=False)"
      ]
    },
    {
      "cell_type": "markdown",
      "source": [
        "Interesting moment our random solution is on average a bit faster than deterministic solution. \n",
        "\n",
        "Why?\n",
        "\n",
        "If deterministic solution has many false paths at first -> dead ends.\n",
        "\n",
        "With randomized we skip the bad paths by pure chance.\n",
        "\n",
        "This will depend on particular problem domain."
      ],
      "metadata": {
        "id": "zGO7-UAU6Oeg"
      }
    },
    {
      "cell_type": "code",
      "execution_count": 52,
      "metadata": {
        "colab": {
          "base_uri": "https://localhost:8080/"
        },
        "id": "uvC7Jn4OtsKl",
        "outputId": "b292caeb-b402-434b-d1c1-125f6cd3d07c"
      },
      "outputs": [
        {
          "output_type": "stream",
          "name": "stdout",
          "text": [
            "0 1 0 0 0 0 0 0 0 0 0 0 0 0 0 0 \n",
            "0 0 0 0 0 0 0 0 0 0 1 0 0 0 0 0 \n",
            "0 0 1 0 0 0 0 0 0 0 0 0 0 0 0 0 \n",
            "0 0 0 0 0 0 0 0 0 0 0 1 0 0 0 0 \n",
            "0 0 0 1 0 0 0 0 0 0 0 0 0 0 0 0 \n",
            "1 0 0 0 0 0 0 0 0 0 0 0 0 0 0 0 \n",
            "0 0 0 0 1 0 0 0 0 0 0 0 0 0 0 0 \n",
            "0 0 0 0 0 0 0 0 0 0 0 0 1 0 0 0 \n",
            "0 0 0 0 0 0 0 0 0 0 0 0 0 0 1 0 \n",
            "0 0 0 0 0 0 1 0 0 0 0 0 0 0 0 0 \n",
            "0 0 0 0 0 0 0 0 0 0 0 0 0 1 0 0 \n",
            "0 0 0 0 0 0 0 0 0 0 0 0 0 0 0 1 \n",
            "0 0 0 0 0 0 0 0 1 0 0 0 0 0 0 0 \n",
            "0 0 0 0 0 1 0 0 0 0 0 0 0 0 0 0 \n",
            "0 0 0 0 0 0 0 1 0 0 0 0 0 0 0 0 \n",
            "0 0 0 0 0 0 0 0 0 1 0 0 0 0 0 0 \n"
          ]
        },
        {
          "output_type": "execute_result",
          "data": {
            "text/plain": [
              "True"
            ]
          },
          "metadata": {},
          "execution_count": 52
        }
      ],
      "source": [
        "solveNQ_random(16)"
      ]
    },
    {
      "cell_type": "code",
      "execution_count": 53,
      "metadata": {
        "colab": {
          "base_uri": "https://localhost:8080/"
        },
        "id": "i-lC2gdRtsKl",
        "outputId": "c3cf56bb-2f41-4b26-e8fd-997c8585f625"
      },
      "outputs": [
        {
          "output_type": "stream",
          "name": "stdout",
          "text": [
            "135 ms ± 35.6 ms per loop (mean ± std. dev. of 7 runs, 10 loops each)\n"
          ]
        }
      ],
      "source": [
        "%%timeit\n",
        "solveNQ_random(16, print_board=False)"
      ]
    },
    {
      "cell_type": "code",
      "source": [
        "%%timeit\n",
        "solveNQ(16, print_board=False)"
      ],
      "metadata": {
        "id": "08x2Nzc-66HU",
        "outputId": "abfdd78b-339e-4a90-c7a6-f4db88522ea9",
        "colab": {
          "base_uri": "https://localhost:8080/"
        }
      },
      "execution_count": 55,
      "outputs": [
        {
          "output_type": "stream",
          "name": "stdout",
          "text": [
            "220 ms ± 6.23 ms per loop (mean ± std. dev. of 7 runs, 1 loop each)\n"
          ]
        }
      ]
    },
    {
      "cell_type": "markdown",
      "source": [
        "## N Queens with Reverse Heuristic \n",
        "\n",
        "Let's try solving with queens in reverse order"
      ],
      "metadata": {
        "id": "21gKbctZ7Y61"
      }
    },
    {
      "cell_type": "code",
      "execution_count": 56,
      "metadata": {
        "colab": {
          "base_uri": "https://localhost:8080/"
        },
        "id": "-l3ZgnKbtsKl",
        "outputId": "3b5dee5c-d78c-432a-ed2f-c11229b367a7"
      },
      "outputs": [
        {
          "output_type": "execute_result",
          "data": {
            "text/plain": [
              "[7, 6, 5, 4, 3, 2, 1, 0]"
            ]
          },
          "metadata": {},
          "execution_count": 56
        }
      ],
      "source": [
        "# we could try going the other way\n",
        "list(range(8-1,-1,-1))"
      ]
    },
    {
      "cell_type": "code",
      "source": [
        "def solveNQUtil_reverse(board, col, N, debug=False): \n",
        "\n",
        "    # base case: If all queens are placed \n",
        "    # then return true \n",
        "    if col >= N: \n",
        "        return True\n",
        "\n",
        "    # Consider this column and try placing \n",
        "    # this queen in all rows one by one \n",
        "    for i in list(range(N-1, -1, -1)): \n",
        "\n",
        "        if isSafe(board, i, col, N, debug): \n",
        "\n",
        "            # Place this queen in board[i][col] \n",
        "            board[i][col] = 1\n",
        "\n",
        "            # recur to place rest of the queens \n",
        "            if solveNQUtil(board, col + 1, N, debug) == True: \n",
        "                return True\n",
        "\n",
        "            # If placing queen in board[i][col \n",
        "            # doesn't lead to a solution, then \n",
        "            # queen from board[i][col] \n",
        "            board[i][col] = 0\n",
        "\n",
        "    # if the queen can not be placed in any row in \n",
        "    # this colum col then return false \n",
        "    return False\n",
        "\n",
        "# This function solves the N Queen problem using \n",
        "# Backtracking. It mainly uses solveNQUtil() to \n",
        "# solve the problem. It returns false if queens \n",
        "# cannot be placed, otherwise return true and \n",
        "# placement of queens in the form of 1s. \n",
        "# note that there may be more than one \n",
        "# solutions, this function prints one of the \n",
        "# feasible solutions. \n",
        "\n",
        "def solveNQ_reverse(N, print_board=True, debug=False): # passing in default 4x4\n",
        "    # board = tuple([0,0,0,0] for _ in range(N)) # !!!! bug fixed below \n",
        "    # in normal code base you would delete such code lines\n",
        "    board = tuple([0] * N for _ in range(N)) # we need to create a blank board\n",
        "\n",
        "    if solveNQUtil_reverse(board, 0, N, debug) == False: \n",
        "        #print (\"Solution does not exist\") \n",
        "        return False\n",
        "\n",
        "    if print_board:\n",
        "        printSolution(board, N) \n",
        "    return True"
      ],
      "metadata": {
        "id": "W6r5R8XT7unB"
      },
      "execution_count": 59,
      "outputs": []
    },
    {
      "cell_type": "code",
      "execution_count": 60,
      "metadata": {
        "colab": {
          "base_uri": "https://localhost:8080/"
        },
        "id": "G7A71kpatsKm",
        "outputId": "4fae893c-4478-476c-ad10-24ea8c04d78f"
      },
      "outputs": [
        {
          "output_type": "stream",
          "name": "stdout",
          "text": [
            "0 1 0 0 \n",
            "0 0 0 1 \n",
            "1 0 0 0 \n",
            "0 0 1 0 \n"
          ]
        },
        {
          "output_type": "execute_result",
          "data": {
            "text/plain": [
              "True"
            ]
          },
          "metadata": {},
          "execution_count": 60
        }
      ],
      "source": [
        "solveNQ_reverse(4)"
      ]
    },
    {
      "cell_type": "markdown",
      "source": [
        "## Comparing all 3 solutions\n"
      ],
      "metadata": {
        "id": "AOHoNfSb81S3"
      }
    },
    {
      "cell_type": "code",
      "execution_count": 62,
      "metadata": {
        "colab": {
          "base_uri": "https://localhost:8080/"
        },
        "id": "dwAMUtz9tsKm",
        "outputId": "fa2bed4c-7ee5-4987-e8ce-edd608de19c7"
      },
      "outputs": [
        {
          "output_type": "stream",
          "name": "stdout",
          "text": [
            "1.08 ms ± 58.3 µs per loop (mean ± std. dev. of 7 runs, 1000 loops each)\n"
          ]
        }
      ],
      "source": [
        "%%timeit\n",
        "solveNQ_reverse(10, print_board=False)"
      ]
    },
    {
      "cell_type": "code",
      "execution_count": 63,
      "metadata": {
        "colab": {
          "base_uri": "https://localhost:8080/"
        },
        "id": "mahmSbU2tsKm",
        "outputId": "a55756e6-992b-4d01-921c-5ae322021ce7"
      },
      "outputs": [
        {
          "output_type": "stream",
          "name": "stdout",
          "text": [
            "1.3 ms ± 356 µs per loop (mean ± std. dev. of 7 runs, 1000 loops each)\n"
          ]
        }
      ],
      "source": [
        "%%timeit\n",
        "solveNQ(10, print_board=False)"
      ]
    },
    {
      "cell_type": "code",
      "source": [
        "%%timeit\n",
        "solveNQ_random(10, print_board=False)"
      ],
      "metadata": {
        "id": "Kbp4Dyby8aKB",
        "outputId": "39776b88-363d-4637-ca35-f1c5f6894859",
        "colab": {
          "base_uri": "https://localhost:8080/"
        }
      },
      "execution_count": 64,
      "outputs": [
        {
          "output_type": "stream",
          "name": "stdout",
          "text": [
            "1.02 ms ± 128 µs per loop (mean ± std. dev. of 7 runs, 1000 loops each)\n"
          ]
        }
      ]
    },
    {
      "cell_type": "markdown",
      "source": [
        "## For Branch and Bound Lecture"
      ],
      "metadata": {
        "id": "uE10QW6584_0"
      }
    },
    {
      "cell_type": "code",
      "execution_count": null,
      "metadata": {
        "id": "7u18JW6DtsKo",
        "outputId": "1048d09a-f375-4822-b69a-918340e44694"
      },
      "outputs": [
        {
          "name": "stdout",
          "output_type": "stream",
          "text": [
            "1 0 0 0 0 0 0 0 \n",
            "0 0 0 0 0 0 1 0 \n",
            "0 0 0 0 1 0 0 0 \n",
            "0 0 0 0 0 0 0 1 \n",
            "0 1 0 0 0 0 0 0 \n",
            "0 0 0 1 0 0 0 0 \n",
            "0 0 0 0 0 1 0 0 \n",
            "0 0 1 0 0 0 0 0 \n"
          ]
        },
        {
          "data": {
            "text/plain": [
              "True"
            ]
          },
          "execution_count": 22,
          "metadata": {},
          "output_type": "execute_result"
        }
      ],
      "source": [
        "# Branch and Bound approach\n",
        "\n",
        "\"\"\" Python3 program to solve N Queen Problem\n",
        "using Branch or Bound \"\"\"\n",
        " \n",
        "N = 8\n",
        " \n",
        "\"\"\" A utility function to prsolution \"\"\"\n",
        "def printSolutionBB(board):\n",
        "    for i in range(N):\n",
        "        for j in range(N):\n",
        "            print(board[i][j], end = \" \")\n",
        "        print()\n",
        "\n",
        "\"\"\" A Optimized function to check if\n",
        "a queen can be placed on board[row][col] \"\"\"\n",
        "def isSafeBB(row, col, slashCode, backslashCode,\n",
        "           rowLookup, slashCodeLookup,\n",
        "                       backslashCodeLookup):\n",
        "    if (slashCodeLookup[slashCode[row][col]] or\n",
        "        backslashCodeLookup[backslashCode[row][col]] or\n",
        "        rowLookup[row]):\n",
        "        return False\n",
        "    return True\n",
        " \n",
        "\"\"\" A recursive utility function\n",
        "   to solve N Queen problem \"\"\"\n",
        "def solveNQueensUtilBB(board, col, slashCode, backslashCode,\n",
        "                     rowLookup, slashCodeLookup,\n",
        "                     backslashCodeLookup):\n",
        "                         \n",
        "    \"\"\" base case: If all queens are\n",
        "       placed then return True \"\"\"\n",
        "    if(col >= N):\n",
        "        return True\n",
        "    for i in range(N):\n",
        "        if(isSafeBB(i, col, slashCode, backslashCode,\n",
        "                  rowLookup, slashCodeLookup,\n",
        "                  backslashCodeLookup)):\n",
        "                     \n",
        "            \"\"\" Place this queen in board[i][col] \"\"\"\n",
        "            board[i][col] = 1\n",
        "            rowLookup[i] = True\n",
        "            slashCodeLookup[slashCode[i][col]] = True\n",
        "            backslashCodeLookup[backslashCode[i][col]] = True\n",
        "             \n",
        "            \"\"\" recur to place rest of the queens \"\"\"\n",
        "            if(solveNQueensUtilBB(board, col + 1,\n",
        "                                slashCode, backslashCode,\n",
        "                                rowLookup, slashCodeLookup,\n",
        "                                backslashCodeLookup)):\n",
        "                return True\n",
        "             \n",
        "            \"\"\" If placing queen in board[i][col]\n",
        "            doesn't lead to a solution,then backtrack \"\"\"\n",
        "             \n",
        "            \"\"\" Remove queen from board[i][col] \"\"\"\n",
        "            board[i][col] = 0\n",
        "            rowLookup[i] = False\n",
        "            slashCodeLookup[slashCode[i][col]] = False\n",
        "            backslashCodeLookup[backslashCode[i][col]] = False\n",
        "             \n",
        "    \"\"\" If queen can not be place in any row in\n",
        "    this colum col then return False \"\"\"\n",
        "    return False\n",
        " \n",
        "\"\"\" This function solves the N Queen problem using\n",
        "Branch or Bound. It mainly uses solveNQueensUtil()to\n",
        "solve the problem. It returns False if queens\n",
        "cannot be placed,otherwise return True or\n",
        "prints placement of queens in the form of 1s.\n",
        "Please note that there may be more than one\n",
        "solutions,this function prints one of the\n",
        "feasible solutions.\"\"\"\n",
        "def solveNQueensBB(debug=False):\n",
        "    board = [[0 for i in range(N)]\n",
        "                for j in range(N)]\n",
        "     \n",
        "    # helper matrices\n",
        "    slashCode = [[0 for i in range(N)]\n",
        "                    for j in range(N)]\n",
        "    backslashCode = [[0 for i in range(N)]\n",
        "                        for j in range(N)]\n",
        "     \n",
        "    # arrays to tell us which rows are occupied\n",
        "    rowLookup = [False] * N\n",
        "     \n",
        "    # keep two arrays to tell us\n",
        "    # which diagonals are occupied\n",
        "    x = 2 * N - 1\n",
        "    slashCodeLookup = [False] * x\n",
        "    backslashCodeLookup = [False] * x\n",
        "     \n",
        "    # initialize helper matrices\n",
        "    for rr in range(N):\n",
        "        for cc in range(N):\n",
        "            slashCode[rr][cc] = rr + cc\n",
        "            backslashCode[rr][cc] = rr - cc + 7\n",
        "     \n",
        "    if(solveNQueensUtilBB(board, 0, slashCode, backslashCode,\n",
        "                        rowLookup, slashCodeLookup,\n",
        "                        backslashCodeLookup) == False):\n",
        "        print(\"Solution does not exist\")\n",
        "        return False\n",
        "         \n",
        "    # solution found\n",
        "    if debug:\n",
        "        printSolutionBB(board)\n",
        "    return True\n",
        " \n",
        "# Driver Cde\n",
        "solveNQueensBB(debug=True)\n",
        " \n",
        "# This code is contributed by SHUBHAMSINGH10"
      ]
    },
    {
      "cell_type": "code",
      "execution_count": null,
      "metadata": {
        "id": "P_IkNGQctsKo",
        "outputId": "e4c8cc67-10e7-44db-8f8d-45472b157b04"
      },
      "outputs": [
        {
          "name": "stdout",
          "output_type": "stream",
          "text": [
            "628 µs ± 7.31 µs per loop (mean ± std. dev. of 7 runs, 1000 loops each)\n"
          ]
        }
      ],
      "source": [
        "%%timeit\n",
        "solveNQueensBB()"
      ]
    },
    {
      "cell_type": "code",
      "execution_count": null,
      "metadata": {
        "id": "_Dl10e0ctsKp",
        "outputId": "02908053-2f6a-4d80-90a1-23de6a060d87"
      },
      "outputs": [
        {
          "name": "stdout",
          "output_type": "stream",
          "text": [
            "1 0 0 0 0 0 0 0 0 0 0 0 \n",
            "0 0 0 0 0 0 0 0 1 0 0 0 \n",
            "0 1 0 0 0 0 0 0 0 0 0 0 \n",
            "0 0 0 0 0 0 0 0 0 0 0 1 \n",
            "0 0 1 0 0 0 0 0 0 0 0 0 \n",
            "0 0 0 0 0 0 1 0 0 0 0 0 \n",
            "0 0 0 0 0 0 0 0 0 1 0 0 \n",
            "0 0 0 1 0 0 0 0 0 0 0 0 \n",
            "0 0 0 0 0 0 0 0 0 0 1 0 \n",
            "0 0 0 0 1 0 0 0 0 0 0 0 \n",
            "0 0 0 0 0 0 0 1 0 0 0 0 \n",
            "0 0 0 0 0 1 0 0 0 0 0 0 \n"
          ]
        },
        {
          "data": {
            "text/plain": [
              "True"
            ]
          },
          "execution_count": 9,
          "metadata": {},
          "output_type": "execute_result"
        }
      ],
      "source": [
        "N = 12\n",
        "solveNQueens(debug=True)"
      ]
    },
    {
      "cell_type": "code",
      "execution_count": null,
      "metadata": {
        "id": "IL0sWBTwtsKp",
        "outputId": "8388bf2c-1891-4b47-dbf9-6f1703624092"
      },
      "outputs": [
        {
          "name": "stdout",
          "output_type": "stream",
          "text": [
            "1 0 0 0 0 0 0 0 \n",
            "0 0 0 0 0 0 1 0 \n",
            "0 0 0 0 1 0 0 0 \n",
            "0 0 0 0 0 0 0 1 \n",
            "0 1 0 0 0 0 0 0 \n",
            "0 0 0 1 0 0 0 0 \n",
            "0 0 0 0 0 1 0 0 \n",
            "0 0 1 0 0 0 0 0 \n",
            "1 0 0 0 0 0 0 0 0 \n",
            "0 0 0 0 1 0 0 0 0 \n",
            "0 1 0 0 0 0 0 0 0 \n",
            "0 0 0 0 0 1 0 0 0 \n",
            "0 0 0 0 0 0 0 0 1 \n",
            "0 0 1 0 0 0 0 0 0 \n",
            "0 0 0 0 0 0 0 1 0 \n",
            "0 0 0 1 0 0 0 0 0 \n",
            "0 0 0 0 0 0 1 0 0 \n",
            "1 0 0 0 0 0 0 0 0 0 \n",
            "0 0 0 0 0 0 0 1 0 0 \n",
            "0 1 0 0 0 0 0 0 0 0 \n",
            "0 0 0 0 0 0 0 0 1 0 \n",
            "0 0 0 0 0 1 0 0 0 0 \n",
            "0 0 1 0 0 0 0 0 0 0 \n",
            "0 0 0 0 0 0 0 0 0 1 \n",
            "0 0 0 1 0 0 0 0 0 0 \n",
            "0 0 0 0 0 0 1 0 0 0 \n",
            "0 0 0 0 1 0 0 0 0 0 \n",
            "1 0 0 0 0 0 0 0 0 0 0 \n",
            "0 0 0 0 0 0 1 0 0 0 0 \n",
            "0 1 0 0 0 0 0 0 0 0 0 \n",
            "0 0 0 0 0 0 0 1 0 0 0 \n",
            "0 0 1 0 0 0 0 0 0 0 0 \n",
            "0 0 0 0 0 0 0 0 1 0 0 \n",
            "0 0 0 1 0 0 0 0 0 0 0 \n",
            "0 0 0 0 0 0 0 0 0 1 0 \n",
            "0 0 0 0 1 0 0 0 0 0 0 \n",
            "0 0 0 0 0 0 0 0 0 0 1 \n",
            "0 0 0 0 0 1 0 0 0 0 0 \n",
            "1 0 0 0 0 0 0 0 0 0 0 0 \n",
            "0 0 0 0 0 0 0 0 1 0 0 0 \n",
            "0 1 0 0 0 0 0 0 0 0 0 0 \n",
            "0 0 0 0 0 0 0 0 0 0 0 1 \n",
            "0 0 1 0 0 0 0 0 0 0 0 0 \n",
            "0 0 0 0 0 0 1 0 0 0 0 0 \n",
            "0 0 0 0 0 0 0 0 0 1 0 0 \n",
            "0 0 0 1 0 0 0 0 0 0 0 0 \n",
            "0 0 0 0 0 0 0 0 0 0 1 0 \n",
            "0 0 0 0 1 0 0 0 0 0 0 0 \n",
            "0 0 0 0 0 0 0 1 0 0 0 0 \n",
            "0 0 0 0 0 1 0 0 0 0 0 0 \n",
            "1 0 0 0 0 0 0 0 0 0 0 0 0 \n",
            "0 0 0 1 0 0 0 0 0 0 0 0 0 \n",
            "0 1 0 0 0 0 0 0 0 0 0 0 0 \n",
            "0 0 0 0 0 0 0 0 1 0 0 0 0 \n",
            "0 0 1 0 0 0 0 0 0 0 0 0 0 \n",
            "0 0 0 0 0 0 0 0 0 1 0 0 0 \n",
            "0 0 0 0 0 0 0 0 0 0 0 0 1 \n",
            "0 0 0 0 0 0 0 0 0 0 1 0 0 \n",
            "0 0 0 0 1 0 0 0 0 0 0 0 0 \n",
            "0 0 0 0 0 0 1 0 0 0 0 0 0 \n",
            "0 0 0 0 0 0 0 0 0 0 0 1 0 \n",
            "0 0 0 0 0 1 0 0 0 0 0 0 0 \n",
            "0 0 0 0 0 0 0 1 0 0 0 0 0 \n",
            "1 0 0 0 0 0 0 0 0 0 0 0 0 0 \n",
            "0 0 0 0 0 0 0 0 0 0 1 0 0 0 \n",
            "0 1 0 0 0 0 0 0 0 0 0 0 0 0 \n",
            "0 0 0 0 0 0 0 1 0 0 0 0 0 0 \n",
            "0 0 1 0 0 0 0 0 0 0 0 0 0 0 \n",
            "0 0 0 0 0 0 0 0 0 0 0 1 0 0 \n",
            "0 0 0 1 0 0 0 0 0 0 0 0 0 0 \n",
            "0 0 0 0 0 0 0 0 0 0 0 0 1 0 \n",
            "0 0 0 0 0 0 0 0 0 1 0 0 0 0 \n",
            "0 0 0 0 0 1 0 0 0 0 0 0 0 0 \n",
            "0 0 0 0 0 0 0 0 0 0 0 0 0 1 \n",
            "0 0 0 0 1 0 0 0 0 0 0 0 0 0 \n",
            "0 0 0 0 0 0 1 0 0 0 0 0 0 0 \n",
            "0 0 0 0 0 0 0 0 1 0 0 0 0 0 \n",
            "1 0 0 0 0 0 0 0 0 0 0 0 0 0 0 \n",
            "0 0 0 1 0 0 0 0 0 0 0 0 0 0 0 \n",
            "0 1 0 0 0 0 0 0 0 0 0 0 0 0 0 \n",
            "0 0 0 0 0 0 0 1 0 0 0 0 0 0 0 \n",
            "0 0 1 0 0 0 0 0 0 0 0 0 0 0 0 \n",
            "0 0 0 0 0 0 0 0 0 0 1 0 0 0 0 \n",
            "0 0 0 0 0 0 0 0 0 0 0 0 1 0 0 \n",
            "0 0 0 0 0 0 0 0 0 0 0 0 0 0 1 \n",
            "0 0 0 0 0 0 0 0 0 1 0 0 0 0 0 \n",
            "0 0 0 0 1 0 0 0 0 0 0 0 0 0 0 \n",
            "0 0 0 0 0 0 0 0 0 0 0 0 0 1 0 \n",
            "0 0 0 0 0 1 0 0 0 0 0 0 0 0 0 \n",
            "0 0 0 0 0 0 0 0 1 0 0 0 0 0 0 \n",
            "0 0 0 0 0 0 1 0 0 0 0 0 0 0 0 \n",
            "0 0 0 0 0 0 0 0 0 0 0 1 0 0 0 \n",
            "1 0 0 0 0 0 0 0 0 0 0 0 0 0 0 0 \n",
            "0 0 0 1 0 0 0 0 0 0 0 0 0 0 0 0 \n",
            "0 1 0 0 0 0 0 0 0 0 0 0 0 0 0 0 \n",
            "0 0 0 0 0 0 0 0 0 0 0 0 1 0 0 0 \n",
            "0 0 1 0 0 0 0 0 0 0 0 0 0 0 0 0 \n",
            "0 0 0 0 0 0 0 0 0 1 0 0 0 0 0 0 \n",
            "0 0 0 0 0 0 0 0 0 0 0 1 0 0 0 0 \n",
            "0 0 0 0 0 0 0 0 0 0 0 0 0 0 1 0 \n",
            "0 0 0 0 0 1 0 0 0 0 0 0 0 0 0 0 \n",
            "0 0 0 0 0 0 0 0 0 0 0 0 0 0 0 1 \n",
            "0 0 0 0 0 0 0 0 0 0 0 0 0 1 0 0 \n",
            "0 0 0 0 0 0 0 1 0 0 0 0 0 0 0 0 \n",
            "0 0 0 0 1 0 0 0 0 0 0 0 0 0 0 0 \n",
            "0 0 0 0 0 0 1 0 0 0 0 0 0 0 0 0 \n",
            "0 0 0 0 0 0 0 0 1 0 0 0 0 0 0 0 \n",
            "0 0 0 0 0 0 0 0 0 0 1 0 0 0 0 0 \n"
          ]
        }
      ],
      "source": [
        "for n in range(8, 17):\n",
        "    N = n\n",
        "    solveNQueens(debug=True)"
      ]
    },
    {
      "cell_type": "code",
      "execution_count": null,
      "metadata": {
        "id": "QqKHzTvttsKp"
      },
      "outputs": [],
      "source": [
        "N=12\n"
      ]
    },
    {
      "cell_type": "code",
      "execution_count": null,
      "metadata": {
        "id": "2ewmkStotsKp",
        "outputId": "5056a46c-fc7e-452c-dbf7-74565ad8b614"
      },
      "outputs": [
        {
          "name": "stdout",
          "output_type": "stream",
          "text": [
            "2 ms ± 58 µs per loop (mean ± std. dev. of 7 runs, 1000 loops each)\n"
          ]
        }
      ],
      "source": [
        "%%timeit\n",
        "solveNQueensBB()"
      ]
    },
    {
      "cell_type": "code",
      "execution_count": null,
      "metadata": {
        "id": "chffsEOQtsKp",
        "outputId": "4e0f9834-c946-4234-9cac-08091f0b9976"
      },
      "outputs": [
        {
          "name": "stdout",
          "output_type": "stream",
          "text": [
            "62.5 µs ± 1.92 µs per loop (mean ± std. dev. of 7 runs, 10000 loops each)\n"
          ]
        }
      ],
      "source": [
        "%%timeit\n",
        "solveNQ([[0]*N for _ in range(N)], print_board=False)"
      ]
    },
    {
      "cell_type": "code",
      "execution_count": null,
      "metadata": {
        "id": "Az_Hl5O8tsKq"
      },
      "outputs": [],
      "source": [
        "N=16"
      ]
    },
    {
      "cell_type": "code",
      "execution_count": null,
      "metadata": {
        "id": "OSrEuigCtsKq",
        "outputId": "9ebcd92d-26a8-4b5a-f0f3-c910fc98ad0d"
      },
      "outputs": [
        {
          "name": "stdout",
          "output_type": "stream",
          "text": [
            "1 0 0 0 0 0 0 0 0 0 0 0 0 0 0 0 \n",
            "0 0 0 1 0 0 0 0 0 0 0 0 0 0 0 0 \n",
            "0 1 0 0 0 0 0 0 0 0 0 0 0 0 0 0 \n",
            "0 0 0 0 0 0 0 0 0 0 0 0 1 0 0 0 \n",
            "0 0 1 0 0 0 0 0 0 0 0 0 0 0 0 0 \n",
            "0 0 0 0 0 0 0 0 0 1 0 0 0 0 0 0 \n",
            "0 0 0 0 0 0 0 0 0 0 0 1 0 0 0 0 \n",
            "0 0 0 0 0 0 0 0 0 0 0 0 0 0 1 0 \n",
            "0 0 0 0 0 1 0 0 0 0 0 0 0 0 0 0 \n",
            "0 0 0 0 0 0 0 0 0 0 0 0 0 0 0 1 \n",
            "0 0 0 0 0 0 0 0 0 0 0 0 0 1 0 0 \n",
            "0 0 0 0 0 0 0 1 0 0 0 0 0 0 0 0 \n",
            "0 0 0 0 1 0 0 0 0 0 0 0 0 0 0 0 \n",
            "0 0 0 0 0 0 1 0 0 0 0 0 0 0 0 0 \n",
            "0 0 0 0 0 0 0 0 1 0 0 0 0 0 0 0 \n",
            "0 0 0 0 0 0 0 0 0 0 1 0 0 0 0 0 \n"
          ]
        },
        {
          "data": {
            "text/plain": [
              "True"
            ]
          },
          "execution_count": 19,
          "metadata": {},
          "output_type": "execute_result"
        }
      ],
      "source": [
        "solveNQ([[0]*N for _ in range(N)])"
      ]
    },
    {
      "cell_type": "code",
      "execution_count": null,
      "metadata": {
        "id": "sWT0ZVlLtsKq",
        "outputId": "3a5ad8e3-85fe-4638-9e73-70d5eb0b71b4"
      },
      "outputs": [
        {
          "name": "stdout",
          "output_type": "stream",
          "text": [
            "419 ms ± 29.6 ms per loop (mean ± std. dev. of 7 runs, 1 loop each)\n"
          ]
        }
      ],
      "source": [
        "%%timeit\n",
        "solveNQ([[0]*N for _ in range(N)], print_board=False)"
      ]
    },
    {
      "cell_type": "code",
      "execution_count": null,
      "metadata": {
        "id": "LQJ_mVcctsKq",
        "outputId": "772cf52a-b92b-4263-86f2-b22ee7a30261"
      },
      "outputs": [
        {
          "name": "stdout",
          "output_type": "stream",
          "text": [
            "622 µs ± 5.13 µs per loop (mean ± std. dev. of 7 runs, 1000 loops each)\n"
          ]
        }
      ],
      "source": [
        "%%timeit\n",
        "solveNQueensBB()"
      ]
    },
    {
      "cell_type": "code",
      "execution_count": null,
      "metadata": {
        "id": "xVUrqhA6tsKq",
        "outputId": "74d3fc42-ab9f-4df9-c8e4-23e2c53df7fd"
      },
      "outputs": [
        {
          "name": "stdout",
          "output_type": "stream",
          "text": [
            "1 0 0 0 0 0 0 0 0 0 0 0 0 0 0 0 0 0 0 0 \n",
            "0 0 0 1 0 0 0 0 0 0 0 0 0 0 0 0 0 0 0 0 \n",
            "0 1 0 0 0 0 0 0 0 0 0 0 0 0 0 0 0 0 0 0 \n",
            "0 0 0 0 1 0 0 0 0 0 0 0 0 0 0 0 0 0 0 0 \n",
            "0 0 1 0 0 0 0 0 0 0 0 0 0 0 0 0 0 0 0 0 \n",
            "0 0 0 0 0 0 0 0 0 0 0 0 0 0 0 0 0 0 1 0 \n",
            "0 0 0 0 0 0 0 0 0 0 0 0 0 0 0 0 1 0 0 0 \n",
            "0 0 0 0 0 0 0 0 0 0 0 0 0 0 1 0 0 0 0 0 \n",
            "0 0 0 0 0 0 0 0 0 0 0 1 0 0 0 0 0 0 0 0 \n",
            "0 0 0 0 0 0 0 0 0 0 0 0 0 0 0 1 0 0 0 0 \n",
            "0 0 0 0 0 0 0 0 0 0 0 0 0 0 0 0 0 0 0 1 \n",
            "0 0 0 0 0 0 0 1 0 0 0 0 0 0 0 0 0 0 0 0 \n",
            "0 0 0 0 0 1 0 0 0 0 0 0 0 0 0 0 0 0 0 0 \n",
            "0 0 0 0 0 0 0 0 0 0 0 0 0 0 0 0 0 1 0 0 \n",
            "0 0 0 0 0 0 1 0 0 0 0 0 0 0 0 0 0 0 0 0 \n",
            "0 0 0 0 0 0 0 0 0 0 0 0 1 0 0 0 0 0 0 0 \n",
            "0 0 0 0 0 0 0 0 0 0 1 0 0 0 0 0 0 0 0 0 \n",
            "0 0 0 0 0 0 0 0 1 0 0 0 0 0 0 0 0 0 0 0 \n",
            "0 0 0 0 0 0 0 0 0 0 0 0 0 1 0 0 0 0 0 0 \n",
            "0 0 0 0 0 0 0 0 0 1 0 0 0 0 0 0 0 0 0 0 \n"
          ]
        },
        {
          "data": {
            "text/plain": [
              "True"
            ]
          },
          "execution_count": 16,
          "metadata": {},
          "output_type": "execute_result"
        }
      ],
      "source": [
        "N=20\n",
        "solveNQueensBB(debug=True)"
      ]
    },
    {
      "cell_type": "code",
      "execution_count": null,
      "metadata": {
        "id": "bJiE2A_DtsKq",
        "outputId": "37e07219-d751-4ce4-8b20-818baf5d21e4"
      },
      "outputs": [
        {
          "name": "stdout",
          "output_type": "stream",
          "text": [
            "2.05 s ± 13.8 ms per loop (mean ± std. dev. of 7 runs, 1 loop each)\n"
          ]
        }
      ],
      "source": [
        "%%timeit\n",
        "solveNQueensBB()"
      ]
    },
    {
      "cell_type": "code",
      "execution_count": null,
      "metadata": {
        "id": "5X4csndDtsKr",
        "outputId": "161b18a0-9f4b-443c-c070-42f3bf8f8836"
      },
      "outputs": [
        {
          "name": "stdout",
          "output_type": "stream",
          "text": [
            "0 1 0 0 0 0 0 0 0 0 0 0 0 0 0 0 0 0 0 0 \n",
            "0 0 0 0 1 0 0 0 0 0 0 0 0 0 0 0 0 0 0 0 \n",
            "0 0 1 0 0 0 0 0 0 0 0 0 0 0 0 0 0 0 0 0 \n",
            "0 0 0 0 0 1 0 0 0 0 0 0 0 0 0 0 0 0 0 0 \n",
            "0 0 0 1 0 0 0 0 0 0 0 0 0 0 0 0 0 0 0 0 \n",
            "0 0 0 0 0 0 0 0 0 0 0 0 1 0 0 0 0 0 0 0 \n",
            "0 0 0 0 0 0 0 0 0 0 0 0 0 0 0 1 0 0 0 0 \n",
            "0 0 0 0 0 0 0 0 0 0 0 0 0 0 0 0 0 0 1 0 \n",
            "0 0 0 0 0 0 1 0 0 0 0 0 0 0 0 0 0 0 0 0 \n",
            "0 0 0 0 0 0 0 0 0 0 0 0 0 1 0 0 0 0 0 0 \n",
            "0 0 0 0 0 0 0 0 0 0 0 0 0 0 0 0 1 0 0 0 \n",
            "0 0 0 0 0 0 0 0 0 0 0 0 0 0 0 0 0 0 0 1 \n",
            "0 0 0 0 0 0 0 0 0 0 0 0 0 0 0 0 0 1 0 0 \n",
            "0 0 0 0 0 0 0 1 0 0 0 0 0 0 0 0 0 0 0 0 \n",
            "0 0 0 0 0 0 0 0 0 0 1 0 0 0 0 0 0 0 0 0 \n",
            "0 0 0 0 0 0 0 0 1 0 0 0 0 0 0 0 0 0 0 0 \n",
            "0 0 0 0 0 0 0 0 0 0 0 1 0 0 0 0 0 0 0 0 \n",
            "0 0 0 0 0 0 0 0 0 0 0 0 0 0 1 0 0 0 0 0 \n",
            "1 0 0 0 0 0 0 0 0 0 0 0 0 0 0 0 0 0 0 0 \n",
            "0 0 0 0 0 0 0 0 0 1 0 0 0 0 0 0 0 0 0 0 \n"
          ]
        },
        {
          "data": {
            "text/plain": [
              "True"
            ]
          },
          "execution_count": 22,
          "metadata": {},
          "output_type": "execute_result"
        }
      ],
      "source": [
        "N=20\n",
        "solveNQRandom([[0]*N for _ in range(N)])"
      ]
    },
    {
      "cell_type": "code",
      "execution_count": null,
      "metadata": {
        "id": "KToekqTbtsKr",
        "outputId": "a9eef4a3-87d0-4de3-877a-f141a9ad6990"
      },
      "outputs": [
        {
          "name": "stdout",
          "output_type": "stream",
          "text": [
            "The slowest run took 101.48 times longer than the fastest. This could mean that an intermediate result is being cached.\n",
            "5.04 s ± 4.6 s per loop (mean ± std. dev. of 7 runs, 1 loop each)\n"
          ]
        }
      ],
      "source": [
        "%%timeit\n",
        "solveNQRandom([[0]*N for _ in range(N)], print_board=False)"
      ]
    }
  ],
  "metadata": {
    "kernelspec": {
      "display_name": "Python 3",
      "language": "python",
      "name": "python3"
    },
    "language_info": {
      "codemirror_mode": {
        "name": "ipython",
        "version": 3
      },
      "file_extension": ".py",
      "mimetype": "text/x-python",
      "name": "python",
      "nbconvert_exporter": "python",
      "pygments_lexer": "ipython3",
      "version": "3.8.3"
    },
    "colab": {
      "provenance": [],
      "toc_visible": true
    }
  },
  "nbformat": 4,
  "nbformat_minor": 0
}