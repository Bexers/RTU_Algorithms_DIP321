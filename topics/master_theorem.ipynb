{
  "cells": [
    {
      "cell_type": "markdown",
      "metadata": {
        "id": "2qqPdnhoKnly"
      },
      "source": [
        "# Master Theorem\n",
        "\n"
      ]
    },
    {
      "cell_type": "markdown",
      "metadata": {
        "id": "qq8O5ls_Knl1"
      },
      "source": [
        "## Complexity Analysis\n",
        "\n",
        "### Big-O Notation\n",
        "\n",
        "Big-O notation is a way to describe the complexity of an algorithm. It is used to describe the worst case scenario, and can be used to describe the execution time or space (e.g. in memory or on disk) required by the algorithm.\n",
        "\n",
        "The notation is defined as follows:\n",
        "\n",
        "$$O(f(n)) = \\{g(n) : \\exists c,n_0 \\in \\mathbb{R}^+ \\text{ s.t. } 0 \\leq g(n) \\leq c f(n) \\text{ for all } n \\geq n_0\\}$$\n",
        "\n",
        "In other words, $O(f(n))$ is the set of all functions $g(n)$ such that there exists a constant $c$ and a value $n_0$ such that $0 \\leq g(n) \\leq c f(n)$ for all $n \\geq n_0$.\n",
        "\n",
        "The notation $O(f(n))$ is read as \"Big-O of $f(n)$\".\n",
        "\n",
        "### Big-Ω Notation\n",
        "\n",
        "Big-Ω notation is a way to describe the complexity of an algorithm. It is used to describe the best case scenario, and can be used to describe the execution time or space (e.g. in memory or on disk) required by the algorithm.\n",
        "\n",
        "The notation is defined as follows:\n",
        "\n",
        "$$\\Omega(f(n)) = \\{g(n) : \\exists c,n_0 \\in \\mathbb{R}^+ \\text{ s.t. } 0 \\leq c f(n) \\leq g(n) \\text{ for all } n \\geq n_0\\}$$\n",
        "\n",
        "In other words, $\\Omega(f(n))$ is the set of all functions $g(n)$ such that there exists a constant $c$ and a value $n_0$ such that $0 \\leq c f(n) \\leq g(n)$ for all $n \\geq n_0$.\n",
        "\n",
        "The notation $\\Omega(f(n))$ is read as \"Big-Ω of $f(n)$\".\n",
        "\n",
        "### Big-Θ Notation\n",
        "\n",
        "Big-Θ notation is a way to describe the complexity of an algorithm. It is used to describe the average case scenario, and can be used to describe the execution time or space (e.g. in memory or on disk) required by the algorithm.\n",
        "\n",
        "The notation is defined as follows:\n",
        "\n",
        "$$\\Theta(f(n)) = \\{g(n) : \\exists c_1,c_2,n_0 \\in \\mathbb{R}^+ \\text{ s.t. } 0 \\leq c_1 f(n) \\leq g(n) \\leq c_2 f(n) \\text{ for all } n \\geq n_0\\}$$\n",
        "\n",
        "In other words, $\\Theta(f(n))$ is the set of all functions $g(n)$ such that there exists constants $c_1$ and $c_2$ and a value $n_0$ such that $0 \\leq c_1 f(n) \\leq g(n) \\leq c_2 f(n)$ for all $n \\geq n_0$.\n",
        "\n",
        "The notation $\\Theta(f(n))$ is read as \"Big-Θ of $f(n)$\".\n",
        "\n",
        "### References\n",
        "\n",
        "- [Big-O Notation](https://en.wikipedia.org/wiki/Big_O_notation)\n",
        "- [Big-Ω Notation](https://en.wikipedia.org/wiki/Big_Omega_notation)\n",
        "- [Big-Θ Notation](https://en.wikipedia.org/wiki/Big_theta_notation)\n",
        "\n",
        "CLRS, Chapter 2\n",
        "- Book reference: Introduction to Algorithms, 3rd Edition, by Thomas H. Cormen, Charles E. Leiserson, Ronald L. Rivest, and Clifford Stein\n",
        "- [Online version](https://mitpress.mit.edu/books/introduction-algorithms-third-edition)\n",
        "Note: There is 4th edition of the book, but the 3rd edition is still widely used and just as good for the purpose of this course.(and cheaper!)\n",
        "\n"
      ]
    },
    {
      "cell_type": "markdown",
      "metadata": {
        "id": "qQYh9_JoKnl3"
      },
      "source": [
        "### Big-O visualization\n",
        "\n",
        "![Big-O](https://upload.wikimedia.org/wikipedia/commons/thumb/8/89/Big-O-notation.png/600px-Big-O-notation.png)\n",
        "\n",
        "\n"
      ]
    },
    {
      "cell_type": "markdown",
      "metadata": {},
      "source": [
        "## Geometric series"
      ]
    },
    {
      "cell_type": "code",
      "execution_count": 3,
      "metadata": {
        "id": "PQIkSSvMKnl3"
      },
      "outputs": [
        {
          "name": "stdout",
          "output_type": "stream",
          "text": [
            "1.4545325355866225\n",
            "Limit should be 16/11 1.4545454545454546\n",
            "1.4545454545454541\n"
          ]
        },
        {
          "data": {
            "text/plain": [
              "(None,)"
            ]
          },
          "execution_count": 3,
          "metadata": {},
          "output_type": "execute_result"
        }
      ],
      "source": [
        "# we will calculate geometric series up to certain number of terms\n",
        "# we need a and we need r and we need n\n",
        "# a is the first term\n",
        "# r is the common ratio\n",
        "# n is the number of terms\n",
        "\n",
        "def get_geometric_series(a, r, n):\n",
        "    # we will use the formula to calculate the sum of the first n terms\n",
        "    # S_n = a * (1 - r^n) / (1 - r)\n",
        "    # let's do a loop based solution\n",
        "    total = 0\n",
        "    for i in range(n):\n",
        "        total += a * (r ** i)\n",
        "    return total\n",
        "\n",
        "# test on a == 1 , r = 5/16 and n = 10\n",
        "print(get_geometric_series(1, 5/16, 10)), \n",
        "print(\"Limit should be 16/11\", 16/11)\n",
        "print(get_geometric_series(1, 5/16, 100)),"
      ]
    },
    {
      "cell_type": "markdown",
      "metadata": {
        "id": "jQPc65hqKnl4"
      },
      "source": [
        "## Complexity of Recurrence Relations\n",
        "\n",
        "The master theorem is a method for determining the complexity of a recurrence relation. It is a very useful tool for determining the complexity of algorithms. The master theorem is based on the following three assumptions:\n",
        "\n",
        "1. The recurrence relation is in the form $T(n) = aT(n/b) + f(n)$, where $a \\geq 1$, $b > 1$, and $f(n)$ is a function that grows slower than $n^d$ for some constant $d \\geq 0$.\n",
        "\n",
        "2. The recurrence relation has a solution of the form $T(n) = \\Theta(n^d)$.\n",
        "\n",
        "3. The recurrence relation has a solution of the form $T(n) = \\Theta(f(n))$.\n",
        "\n",
        "The master theorem can be used to determine the complexity of a recurrence relation in the following three cases:\n",
        "\n",
        "1. f(n) = O(n\n",
        "2. f(n) = \n",
        "3. f(n)\n",
        "\n",
        "\n"
      ]
    },
    {
      "cell_type": "markdown",
      "metadata": {
        "id": "M6goCArKbfnC"
      },
      "source": [
        "## Simple Recurrence\n",
        "\n",
        "T(n) = T(n/2) + 1\n",
        "\n",
        "This will be log n (Case 1) \n",
        "Because only thing here important is the way\n",
        "tree grows, but we have constant factor of operations at each level.\n",
        "\n",
        "T(n) = T(n-1) + 1 (No case - Master Theorem does not apply)\n",
        "\n",
        "Indeed, this is linear! No log because we keep going down by 1 (basically a loop)\n"
      ]
    },
    {
      "cell_type": "markdown",
      "metadata": {
        "id": "WyZlXuskKnl4"
      },
      "source": [
        "## Other Methos of Solving Recurrence Relations\n",
        "\n",
        "### Substitution Method\n",
        "\n",
        "The substitution method is a general method for solving recurrence relations. It is based on the idea that if we can find a solution to a recurrence relation, then we can use that solution to solve other recurrence relations. The substitution method is based on the following steps:\n",
        "\n",
        "1. Find(guess) a solution to the recurrence relation.\n",
        "2. Substitute the solution into the recurrence relation.\n",
        "3. Simplify the recurrence relation.\n",
        "\n",
        "The substitution method can be used to solve recurrence relations in the following three cases:\n",
        "\n",
        "\n",
        "\n",
        "### Recursion Tree Method\n",
        "\n",
        "The recursion tree method is a method for solving recurrence relations. It is based on the idea that if we can draw a recursion tree for a recurrence relation, then we can use the recursion tree to solve the recurrence relation. The recursion tree method is based on the following steps:\n",
        "\n",
        "1. Draw a recursion tree for the recurrence relation.\n",
        "2. Count the number of nodes in the recursion tree.\n",
        "3. Count the number of leaves in the recursion tree.\n",
        "4. Count the number of levels in the recursion tree.\n",
        "5. Come up with general formula for the number of nodes in the recursion tree.\n",
        "\n",
        "\n",
        "\n"
      ]
    },
    {
      "cell_type": "markdown",
      "metadata": {
        "id": "uJ371Jg2Knl5"
      },
      "source": [
        "### Reccurence Tree Example\n",
        "\n",
        "Consider T(n) = 2T(n/2) + n2.\n",
        "\n",
        "Source: https://www.cs.cornell.edu/courses/cs3110/2012sp/lectures/lec20-master/lec20.html\n",
        "\n",
        "![Recursion Tree](https://www.cs.cornell.edu/courses/cs3110/2012sp/lectures/lec20-master/images/lec19-diagram1.png)\n",
        "\n",
        "Here, it is straightforward to sum across each row of the tree to obtain the total work done at a given level. For example, the total work done at level 1 is 2n2, the total work done at level 2 is 4n2, and so on. The total work done at level i is 2in2. Thus, the total work done by the algorithm is\n",
        "\n",
        "![Expanding](https://www.cs.cornell.edu/courses/cs3110/2012sp/lectures/lec20-master/images/lec19-diagram2.png)\n",
        "\n",
        "This a geometric series, thus in the limit the sum is O(n2). The depth of the tree in this case does not really matter; the amount of work at each level is decreasing so quickly that the total is only a constant factor more than the root."
      ]
    },
    {
      "cell_type": "markdown",
      "metadata": {
        "id": "s1nvu4hkKnl5"
      },
      "source": [
        "### Recursion Tree Example 2\n",
        "\n",
        "T(n) = T(n/3) + T(2n/3) + n.\n",
        "\n",
        "![Recurrence Tree](https://www.cs.cornell.edu/courses/cs3110/2012sp/lectures/lec20-master/images/lec19-diagram3.png)\n",
        "\n",
        "Tree here is not balanced: the longest path is the rightmost one, and its length is log3/2 n. Hence our guess for the closed form of this recurrence is O(n log n)."
      ]
    },
    {
      "cell_type": "markdown",
      "metadata": {
        "id": "ez_yPXglKnl5"
      },
      "source": [
        "## Substitution Method Example\n",
        "\n",
        "Consider T(n) = 2T(n/2) + n2.\n",
        "\n",
        "![Substitution Method](https://www.cs.cornell.edu/courses/cs3110/2012sp/lectures/lec20-master/images/lec19-diagram4.png)\n",
        "\n",
        "The substitution method is a general method for solving recurrence relations. It is based on the idea that if we can find a solution to a recurrence relation, then we can use that solution to solve other recurrence relations. The substitution method is based on the following steps:\n",
        "\n",
        "1. Find(guess) a solution to the recurrence relation.\n",
        "2. Substitute the solution into the recurrence relation.\n",
        "3. Simplify the recurrence relation.\n",
        "\n",
        "Kind of pain to do it by hand, but it can be done. The substitution method can be used to solve recurrence relations in the following three cases:\n",
        "\n",
        "\n"
      ]
    },
    {
      "cell_type": "markdown",
      "metadata": {
        "id": "EzqU5exSKnl6"
      },
      "source": [
        "## References\n",
        "\n",
        "- [Master Theorem](https://en.wikipedia.org/wiki/Master_theorem)\n",
        "- [Recurrence Relation](https://en.wikipedia.org/wiki/Recurrence_relation)\n",
        "- [Recursion Tree](https://en.wikipedia.org/wiki/Recursion_tree)\n",
        "- [Recursion Tree Method](https://www.cs.cornell.edu/courses/cs3110/2012sp/lectures/lec20-master/lec20.html)\n",
        "\n",
        "CLRS, Chapter 4\n",
        "- Book reference: Introduction to Algorithms, 3rd Edition, by Thomas H. Cormen, Charles E. Leiserson, Ronald L. Rivest, and Clifford Stein\n",
        "\n",
        "- [Online version](https://mitpress.mit.edu/books/introduction-algorithms-third-edition)"
      ]
    }
  ],
  "metadata": {
    "colab": {
      "provenance": []
    },
    "gpuClass": "standard",
    "kernelspec": {
      "display_name": "Python 3",
      "name": "python3"
    },
    "language_info": {
      "codemirror_mode": {
        "name": "ipython",
        "version": 3
      },
      "file_extension": ".py",
      "mimetype": "text/x-python",
      "name": "python",
      "nbconvert_exporter": "python",
      "pygments_lexer": "ipython3",
      "version": "3.11.4"
    },
    "orig_nbformat": 4
  },
  "nbformat": 4,
  "nbformat_minor": 0
}
