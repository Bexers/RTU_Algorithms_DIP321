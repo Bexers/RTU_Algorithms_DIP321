{
  "nbformat": 4,
  "nbformat_minor": 0,
  "metadata": {
    "kernelspec": {
      "display_name": "Python 3",
      "language": "python",
      "name": "python3"
    },
    "language_info": {
      "codemirror_mode": {
        "name": "ipython",
        "version": 3
      },
      "file_extension": ".py",
      "mimetype": "text/x-python",
      "name": "python",
      "nbconvert_exporter": "python",
      "pygments_lexer": "ipython3",
      "version": "3.8.3"
    },
    "colab": {
      "name": "greedy-algorithm-intro.ipynb",
      "provenance": []
    }
  },
  "cells": [
    {
      "cell_type": "markdown",
      "metadata": {
        "id": "HVmwumXgeDLS"
      },
      "source": [
        "# Introduction to Greedy Algorithms\n",
        "\n",
        "Adopted from: https://github.com/rasbt/algorithms_in_ipython_notebooks"
      ]
    },
    {
      "cell_type": "markdown",
      "metadata": {
        "id": "Dt4GpK5WeDLb"
      },
      "source": [
        "![Burns](https://upload.wikimedia.org/wikipedia/en/5/56/Mr_Burns.png) | ![Gordon](https://upload.wikimedia.org/wikipedia/en/4/40/Gordon_Gekko.jpg)\n",
        "From: https://en.wikipedia.org/wiki/Wall_Street_(1987_film)"
      ]
    },
    {
      "cell_type": "markdown",
      "metadata": {
        "id": "zHPNUYpLeDLc"
      },
      "source": [
        "The subfamily of *Greedy Algorithms* is one of the main paradigms of algorithmic problem solving next to *Dynamic Programming* and *Divide & Conquer Algorithms*. The main goal behind greedy algorithms is to implement an efficient procedure for often computationally more complex, often infeasible brute-force methods such as exhaustive search algorithms. \n",
        "\n",
        "The main outline of a greedy algorithms consists of 3 steps:\n",
        "\n",
        "- make a greedy choice\n",
        "- reduce the problem to a subproblem (a smaller problem of the similar type as the original one)\n",
        "- repeat\n",
        "\n",
        "So, greedy algorithms are essentially a problem solving heuristic, an iterative process of tackling a problem in multiple stages while making an locally optimal choice at each stage. In practice, and depending on the problem task, making this series of locally optimal (\"greedy\") choices must not necessarily lead to a globally optimal solution."
      ]
    },
    {
      "cell_type": "markdown",
      "metadata": {
        "id": "OSwm4eBKeDLc"
      },
      "source": [
        "![Greedy Mountain](https://upload.wikimedia.org/wikipedia/commons/8/8c/Greedy-search-path-example.gif)"
      ]
    },
    {
      "cell_type": "code",
      "metadata": {
        "id": "waFkvV9ReDLd"
      },
      "source": [
        ""
      ],
      "execution_count": null,
      "outputs": []
    },
    {
      "cell_type": "markdown",
      "metadata": {
        "id": "qKLzVFT8eDLd"
      },
      "source": [
        "## Example 1: Coin Changer\n",
        "\n",
        "To look at a first, naive example of a greedy algorithm, let's implement a simple coin changing machine. Given a money value in cents, we want to return the minimum possible number of coins, whereas the possible denominations are 1, 5, 10, and 20 cents."
      ]
    },
    {
      "cell_type": "markdown",
      "metadata": {
        "id": "aoXigWM4eDLe"
      },
      "source": [
        "![Coin](https://upload.wikimedia.org/wikipedia/commons/thumb/d/da/Greedy_algorithm_36_cents.svg/1200px-Greedy_algorithm_36_cents.svg.png)"
      ]
    },
    {
      "cell_type": "code",
      "metadata": {
        "id": "SBxNC2qMeDLe"
      },
      "source": [
        "def coinchanger(cents, denominations=(1, 5, 10, 20)):\n",
        "    coins = {d: 0 for d in denominations}\n",
        "    for c in sorted(coins.keys(), reverse=True):\n",
        "        coins[c] += cents // c \n",
        "        cents = cents % c\n",
        "        if not cents:\n",
        "            total_coins = sum([i for i in coins.values()])\n",
        "            return sorted(coins.items(), reverse=True), total_coins"
      ],
      "execution_count": 2,
      "outputs": []
    },
    {
      "cell_type": "markdown",
      "metadata": {
        "id": "qm-g_N3veDLf"
      },
      "source": [
        "The funtion above creates a dictionary, `coins`, which tracks the number of coins of each denomination to be returned. Then, we iterate though the denominations in descending order of their value. Now, in a \"greedy\" fashion, we count the highest possible number of coins from the largest denomination in the first step. We repeat this process until we reached the smallest denomination or the number of remaining `cents` reaches 0. "
      ]
    },
    {
      "cell_type": "code",
      "metadata": {
        "id": "wL0C7FK-eDLf",
        "outputId": "696ff6b2-bee9-4a9d-adb5-e90ae99b77ae",
        "colab": {
          "base_uri": "https://localhost:8080/"
        }
      },
      "source": [
        "coinchanger(cents=100)"
      ],
      "execution_count": 3,
      "outputs": [
        {
          "output_type": "execute_result",
          "data": {
            "text/plain": [
              "([(20, 5), (10, 0), (5, 0), (1, 0)], 5)"
            ]
          },
          "metadata": {
            "tags": []
          },
          "execution_count": 3
        }
      ]
    },
    {
      "cell_type": "code",
      "metadata": {
        "id": "rFHA0BwMeiU8",
        "outputId": "1fe13129-406e-4d0c-8a02-a5efef58eb5e",
        "colab": {
          "base_uri": "https://localhost:8080/"
        }
      },
      "source": [
        "coinchanger(cents=100, denominations=(1,5,10,20,50))"
      ],
      "execution_count": 4,
      "outputs": [
        {
          "output_type": "execute_result",
          "data": {
            "text/plain": [
              "([(50, 2), (20, 0), (10, 0), (5, 0), (1, 0)], 2)"
            ]
          },
          "metadata": {
            "tags": []
          },
          "execution_count": 4
        }
      ]
    },
    {
      "cell_type": "markdown",
      "metadata": {
        "id": "IXwLCnJkeDLh"
      },
      "source": [
        "Calling out `coinchanger` function with 100 cents as input, it returns 5 coins a 20 cents, the smallest, possible number of coins that can be returned in this case. Below are some more examples: "
      ]
    },
    {
      "cell_type": "code",
      "metadata": {
        "id": "gN_aJd6NeDLh",
        "outputId": "ec5bbe49-d440-4878-b25a-cf28d5a08d39",
        "colab": {
          "base_uri": "https://localhost:8080/"
        }
      },
      "source": [
        "coinchanger(cents=5)"
      ],
      "execution_count": 5,
      "outputs": [
        {
          "output_type": "execute_result",
          "data": {
            "text/plain": [
              "([(20, 0), (10, 0), (5, 1), (1, 0)], 1)"
            ]
          },
          "metadata": {
            "tags": []
          },
          "execution_count": 5
        }
      ]
    },
    {
      "cell_type": "code",
      "metadata": {
        "id": "a5skJQ3JeDLi",
        "outputId": "ddf8bcd8-8c9a-4a86-864e-f0d35806551c",
        "colab": {
          "base_uri": "https://localhost:8080/"
        }
      },
      "source": [
        "coinchanger(cents=4)"
      ],
      "execution_count": 6,
      "outputs": [
        {
          "output_type": "execute_result",
          "data": {
            "text/plain": [
              "([(20, 0), (10, 0), (5, 0), (1, 4)], 4)"
            ]
          },
          "metadata": {
            "tags": []
          },
          "execution_count": 6
        }
      ]
    },
    {
      "cell_type": "code",
      "metadata": {
        "id": "8jwdHL5feDLi",
        "outputId": "3f9e3915-2fac-4d4c-81a8-d9b4f4865903",
        "colab": {
          "base_uri": "https://localhost:8080/"
        }
      },
      "source": [
        "coinchanger(cents=23)"
      ],
      "execution_count": 7,
      "outputs": [
        {
          "output_type": "execute_result",
          "data": {
            "text/plain": [
              "([(20, 1), (10, 0), (5, 0), (1, 3)], 4)"
            ]
          },
          "metadata": {
            "tags": []
          },
          "execution_count": 7
        }
      ]
    },
    {
      "cell_type": "code",
      "metadata": {
        "id": "21ecSmSVeyPP",
        "outputId": "ab076c74-4d4c-4080-b664-6da443cd7570",
        "colab": {
          "base_uri": "https://localhost:8080/"
        }
      },
      "source": [
        "coinchanger(cents=5749, denominations=(1,3,5,10,25,50,100,500,1000,2500))"
      ],
      "execution_count": 8,
      "outputs": [
        {
          "output_type": "execute_result",
          "data": {
            "text/plain": [
              "([(2500, 2),\n",
              "  (1000, 0),\n",
              "  (500, 1),\n",
              "  (100, 2),\n",
              "  (50, 0),\n",
              "  (25, 1),\n",
              "  (10, 2),\n",
              "  (5, 0),\n",
              "  (3, 1),\n",
              "  (1, 1)],\n",
              " 10)"
            ]
          },
          "metadata": {
            "tags": []
          },
          "execution_count": 8
        }
      ]
    },
    {
      "cell_type": "code",
      "metadata": {
        "id": "oqIme2aRfGkW",
        "outputId": "78936abf-d761-496a-fa77-9d3171beb369",
        "colab": {
          "base_uri": "https://localhost:8080/"
        }
      },
      "source": [
        "coinchanger(cents=15, denominations=(1,7,10))"
      ],
      "execution_count": 9,
      "outputs": [
        {
          "output_type": "execute_result",
          "data": {
            "text/plain": [
              "([(10, 1), (7, 0), (1, 5)], 6)"
            ]
          },
          "metadata": {
            "tags": []
          },
          "execution_count": 9
        }
      ]
    },
    {
      "cell_type": "markdown",
      "metadata": {
        "id": "WTMtZZe3eDLj"
      },
      "source": [
        "## Example 2: Knapsack"
      ]
    },
    {
      "cell_type": "markdown",
      "metadata": {
        "id": "YxR-pO_ieDLj"
      },
      "source": [
        "![Knap](https://upload.wikimedia.org/wikipedia/commons/thumb/f/fd/Knapsack.svg/500px-Knapsack.svg.png)"
      ]
    },
    {
      "cell_type": "markdown",
      "metadata": {
        "id": "2EFs0TiheDLj"
      },
      "source": [
        "Now, let us take a look at a classic, combinatorial optimization problem, the so-called \"knapsack\" problem. Here, we can think of a \"knapsack\" as a rucksack, and our goal is to fill it with items so that the rucksack's contents have the highest possible value. Of course, the knappsack has a certain weight capacity, and each item is associated with a certain value and a weight. In other words, we want to maximize the value of the knapsack subject to the constraint that we don't exceed its weight capacity.\n",
        "\n",
        "As trivial as it sounds, the knapsack problem is still one of the most popular algorithmic problems in the modern computer science area. There are numerous applications of knapsack problems, and to provide an intuitive real-world example: We could think of sports betting or daily fantasy soccer predictions as a knapsack problem, where we want to construct a squad of players with the highest possible points to salary ratio."
      ]
    },
    {
      "cell_type": "markdown",
      "metadata": {
        "id": "doXBlEbieDLk"
      },
      "source": [
        "### 0-1 Knapsack"
      ]
    },
    {
      "cell_type": "markdown",
      "metadata": {
        "id": "brkY8eVOeDLk"
      },
      "source": [
        "Let's us take a look the probably simplest variation of the knapsack problem, the 0-1 knapsack, and tackle it using a \"greedy\" strategy. In the 0-1 knapsack, we have a given set of items, $i_1, i_2, ..., i_m$, that we can use to fill the knapsack. Again, the knapsack has a fixed capacity, and the items are associated with weights, $w_1, w_2, ..., w_m$, and values $v_1, v_2, ..., v_m$. While our goal is still to pack the knapsack with a combination of items so that it carries the highest possible value, the 0-1 knapsack variation comes with the constraint that we can only carry 1 copy of each item. Thus, the runtime complexity of this algorithm is $O(nW)$, where $n$ is the number of items in the list and $W$ is the maximum capacity of the knapsack.\n",
        "\n",
        "For example, if we are given 3 items with weights $[w_1: 20, w_2: 50, w_3: 30]$ and values\n",
        "$[v_1: 60, v_2: 100, v_3: 120]$, a knapsack with capacity 50 may carry to 1 copy of item 1 and 1 copy of item 3 to maximize its value (180) in contrast to just carrying 1 copy of item 2 (value: 100)."
      ]
    },
    {
      "cell_type": "markdown",
      "metadata": {
        "id": "GN6EVTNWeDLl"
      },
      "source": [
        "Let's see how one \"greedy\" code implementation may look like:"
      ]
    },
    {
      "cell_type": "code",
      "metadata": {
        "collapsed": true,
        "id": "KWGzlSkKeDLl"
      },
      "source": [
        "def knapsack_01(capacity, weights, values):\n",
        "    val_by_weight = [value / weight \n",
        "                     for value, weight in zip(values, weights)]\n",
        "    sort_idx = [i[0] for i in sorted(enumerate(val_by_weight), \n",
        "                                     key=lambda x:x[1], \n",
        "                                     reverse=True)]\n",
        "    knapsack = [0 for _ in values]\n",
        "    total_weight, total_value = 0, 0\n",
        "\n",
        "    for i in sort_idx:\n",
        "        if total_weight + weights[i] <= capacity:\n",
        "            knapsack[i] = 1\n",
        "            total_weight += weights[i]\n",
        "            total_value += values[i]\n",
        "        if total_weight == capacity:\n",
        "            break\n",
        "\n",
        "    return knapsack, total_weight, total_value"
      ],
      "execution_count": 10,
      "outputs": []
    },
    {
      "cell_type": "markdown",
      "metadata": {
        "id": "5XoFkYvFeDLl"
      },
      "source": [
        "We start by creating an array `val_by_weight`, which contains the value/weight values of the items. Next, we create an array of index positions by sorting the value/weight array; here, we can think of the item with the highest value/weight ratio as the item that gives us the \"best bang for the buck.\" Using a for-loop, we then iterate over the `sort_idx` and check if a given items fits in our knapsack or not, that is, if we can carry it without exceeding the knapsack's capacity. After we checked all items, or if reach the capacity limit prematurely, we exit the for-loop and return the contents of the knapsack as well as its current weight and total value, which we've been tracking all along. \n",
        "\n",
        "A concrete example:"
      ]
    },
    {
      "cell_type": "code",
      "metadata": {
        "id": "l4-27Kg4eDLn",
        "outputId": "924f435c-ebf5-45c7-f01e-4e4cfa798a32",
        "colab": {
          "base_uri": "https://localhost:8080/"
        }
      },
      "source": [
        "weights = [20, 50, 30]\n",
        "values = [60, 100, 120] \n",
        "knapsack_01(capacity=50, weights=weights, values=values)"
      ],
      "execution_count": 11,
      "outputs": [
        {
          "output_type": "execute_result",
          "data": {
            "text/plain": [
              "([1, 0, 1], 50, 180)"
            ]
          },
          "metadata": {
            "tags": []
          },
          "execution_count": 11
        }
      ]
    },
    {
      "cell_type": "markdown",
      "metadata": {
        "id": "yR0qzmlWeDLn"
      },
      "source": [
        "Running the `knapsack_01` function on the example input above returns a knapsack containing item 1 and item 3, with a total weight equal to its maximum capacity and a value of 180."
      ]
    },
    {
      "cell_type": "markdown",
      "metadata": {
        "id": "tMzEc0IqeDLn"
      },
      "source": [
        "Let us take a look at another example:"
      ]
    },
    {
      "cell_type": "code",
      "metadata": {
        "id": "bgkm2ypreDLo",
        "outputId": "d895ea85-c4d6-4640-92a8-387bb01c757e",
        "colab": {
          "base_uri": "https://localhost:8080/"
        }
      },
      "source": [
        "weights = [40, 30, 20]\n",
        "values = [70, 40, 35] \n",
        "\n",
        "knapsack_01(capacity=50, weights=weights, values=values)"
      ],
      "execution_count": 12,
      "outputs": [
        {
          "output_type": "execute_result",
          "data": {
            "text/plain": [
              "([1, 0, 0], 40, 70)"
            ]
          },
          "metadata": {
            "tags": []
          },
          "execution_count": 12
        }
      ]
    },
    {
      "cell_type": "markdown",
      "metadata": {
        "id": "dhsjw-gdeDLo"
      },
      "source": [
        "Notice the problem here? Our greedy algorithm suggests packing item 1 with weight 40 and a value of 70. Now, our knapsack can't pack any of the other items (weights 20 and 30), without exceeding its capacity. This is an example of where a greedy strategy leads to a globally suboptimal solution. An optimal solution would be to take 1 copy of item 2 and 1 copy of item 3, so that our knapsack carries a weight of 50 with a value of 75."
      ]
    },
    {
      "cell_type": "markdown",
      "metadata": {
        "id": "Q-UeQyZKeDLo"
      },
      "source": [
        "### Fractional Knapsack"
      ]
    },
    {
      "cell_type": "markdown",
      "metadata": {
        "id": "lJsK9xMmeDLp"
      },
      "source": [
        "Now, let's implement a slightly different flavor of the knapsack problem, the fractional knapsack, which is guaranteed to find the optimal solution. Here, the rules are slightly different from the 0-1 knapsack that we implemented earlier. Instead of either just *including* or *excluding* an item in the knapsack, we can also add fractions $f$ of an item, subject to the constraint $0 \\geq f \\leq 1$."
      ]
    },
    {
      "cell_type": "markdown",
      "metadata": {
        "id": "T8CCw3mTeDLp"
      },
      "source": [
        "Now, let's take our 0-1 knapsack implementation as a template and make some slight modifications to come up with a fractional knapsack algorithm:"
      ]
    },
    {
      "cell_type": "code",
      "metadata": {
        "id": "ij9znvIqeDLp"
      },
      "source": [
        "def knapsack_fract(capacity, weights, values):\n",
        "    val_by_weight = [value / weight \n",
        "                     for value, weight in zip(values, weights)]\n",
        "    sort_idx = [i[0] for i in sorted(enumerate(val_by_weight), \n",
        "                                     key=lambda x:x[1], \n",
        "                                     reverse=True)]\n",
        "    knapsack = [0 for _ in values]\n",
        "    total_weight, total_value = 0, 0\n",
        "\n",
        "    for i in sort_idx:\n",
        "        if total_weight + weights[i] <= capacity:\n",
        "            knapsack[i] = 1\n",
        "            total_weight += weights[i]\n",
        "            total_value += values[i]\n",
        "        else:\n",
        "            allowed = capacity - total_weight\n",
        "            frac = allowed / weights[i]\n",
        "            knapsack[i] = round(frac, 4)\n",
        "            total_weight += allowed\n",
        "            total_value += frac * values[i]           \n",
        "        if total_weight == capacity:\n",
        "            break\n",
        "\n",
        "    return knapsack, total_weight, round(total_value, 4)"
      ],
      "execution_count": 13,
      "outputs": []
    },
    {
      "cell_type": "markdown",
      "metadata": {
        "id": "JYtHA4v4eDLq"
      },
      "source": [
        "Let's give it a whirl on a simple example first:"
      ]
    },
    {
      "cell_type": "code",
      "metadata": {
        "id": "i2PZa7I9eDLr",
        "outputId": "24f44f20-11f6-4350-c1ca-6d3dae7980d0",
        "colab": {
          "base_uri": "https://localhost:8080/"
        }
      },
      "source": [
        "weights = [20, 50, 30]\n",
        "values = [60, 100, 120] \n",
        "knapsack_fract(capacity=50, weights=weights, values=values)"
      ],
      "execution_count": 16,
      "outputs": [
        {
          "output_type": "execute_result",
          "data": {
            "text/plain": [
              "([1, 0, 1], 50, 180)"
            ]
          },
          "metadata": {
            "tags": []
          },
          "execution_count": 16
        }
      ]
    },
    {
      "cell_type": "markdown",
      "metadata": {
        "id": "yFGLJGaLeDLr"
      },
      "source": [
        "The solution is an optimal solution, and we notice that it is the same as the one we got by using the 0-1 knapsack previously."
      ]
    },
    {
      "cell_type": "markdown",
      "metadata": {
        "id": "YCpyIEq0eDLr"
      },
      "source": [
        "To demonstrate the difference between the 0-1 knapsack and the fractional knapsack, let's do a second example:"
      ]
    },
    {
      "cell_type": "code",
      "metadata": {
        "id": "qMMdgItGeDLs",
        "outputId": "727b0581-fcce-40d1-9e4a-837eda668d60",
        "colab": {
          "base_uri": "https://localhost:8080/"
        }
      },
      "source": [
        "weights = [30]\n",
        "values = [500] \n",
        "\n",
        "knapsack_fract(capacity=10, weights=weights, values=values)"
      ],
      "execution_count": 17,
      "outputs": [
        {
          "output_type": "execute_result",
          "data": {
            "text/plain": [
              "([0.3333], 10, 166.6667)"
            ]
          },
          "metadata": {
            "tags": []
          },
          "execution_count": 17
        }
      ]
    },
    {
      "cell_type": "code",
      "metadata": {
        "id": "dB8dEMnHhIV7",
        "outputId": "b78bcef7-0696-458c-86aa-97db9df24e38",
        "colab": {
          "base_uri": "https://localhost:8080/"
        }
      },
      "source": [
        "weights = [40, 30, 20]\r\n",
        "values = [70, 40, 35] \r\n",
        "\r\n",
        "knapsack_fract(capacity=50, weights=weights, values=values)"
      ],
      "execution_count": 18,
      "outputs": [
        {
          "output_type": "execute_result",
          "data": {
            "text/plain": [
              "([1, 0, 0.5], 50, 87.5)"
            ]
          },
          "metadata": {
            "tags": []
          },
          "execution_count": 18
        }
      ]
    },
    {
      "cell_type": "markdown",
      "metadata": {
        "id": "sOOwy_FZeDLs"
      },
      "source": [
        "## Example 3: Point-Cover-Interval Problem"
      ]
    },
    {
      "cell_type": "markdown",
      "metadata": {
        "id": "1fWtHnkueDLs"
      },
      "source": [
        "The classic Point-Cover-Interval problem is another example that is well suited for demonstrating greedy algorithms. Here, we are given a set of Intervals *L*, and we want to find the minimum set of points so that each interval is covered at least once by a given point as illustrated in the example below:\n",
        "\n",
        "![](https://github.com/ValRCS/RTU_Algorithms_DIP321/blob/main/topics/images/point-cover-interval-ex.png?raw=1)"
      ]
    },
    {
      "cell_type": "markdown",
      "metadata": {
        "id": "mJmB4aSIeDLt"
      },
      "source": [
        "Our greedy strategy, which finds the optimal solution for this problem, can be as follows:\n",
        "\n",
        "- sort intervals in increasing order by the value of their endpoints\n",
        "- for interval in interval-set:\n",
        "    - if interval is not yet covered:\n",
        "        - add interval-endpoint to the set of points"
      ]
    },
    {
      "cell_type": "code",
      "metadata": {
        "collapsed": true,
        "id": "z7EQYiAdeDLt"
      },
      "source": [
        "def min_points(intervals):\n",
        "    s_ints = sorted(intervals, key=lambda x: x[1]) # so we sort by the endpoints!\n",
        "\n",
        "    points = [s_ints[0][-1]]\n",
        "\n",
        "    for interv in s_ints:\n",
        "        if not(points[-1] >= interv[0] and points[-1] <= interv[-1]):\n",
        "            points.append(interv[-1])\n",
        "        \n",
        "    return points"
      ],
      "execution_count": 20,
      "outputs": []
    },
    {
      "cell_type": "code",
      "metadata": {
        "id": "9kN9YAFfeDLt",
        "outputId": "77ee2aad-710a-443c-af42-6a67a76ced25",
        "colab": {
          "base_uri": "https://localhost:8080/"
        }
      },
      "source": [
        "pts = [[2, 5], [1, 3], [3, 6]] \n",
        "min_points(pts)"
      ],
      "execution_count": 21,
      "outputs": [
        {
          "output_type": "execute_result",
          "data": {
            "text/plain": [
              "[3]"
            ]
          },
          "metadata": {
            "tags": []
          },
          "execution_count": 21
        }
      ]
    },
    {
      "cell_type": "code",
      "metadata": {
        "id": "Vq0M_ILph_Ps",
        "outputId": "fab77a2b-9c91-4da8-946e-9e9280c6252c",
        "colab": {
          "base_uri": "https://localhost:8080/"
        }
      },
      "source": [
        "pts = [[2, 5], [1, 3], [3, 6],[0,4]] \r\n",
        "min_points(pts)"
      ],
      "execution_count": 22,
      "outputs": [
        {
          "output_type": "execute_result",
          "data": {
            "text/plain": [
              "[3]"
            ]
          },
          "metadata": {
            "tags": []
          },
          "execution_count": 22
        }
      ]
    },
    {
      "cell_type": "code",
      "metadata": {
        "id": "lwbih30JiGvT",
        "outputId": "735a089c-69a5-448f-aa71-f81b4f9e78a2",
        "colab": {
          "base_uri": "https://localhost:8080/"
        }
      },
      "source": [
        "pts = [[2, 5], [1, 3], [3, 6],[0,2]] \r\n",
        "min_points(pts)"
      ],
      "execution_count": 23,
      "outputs": [
        {
          "output_type": "execute_result",
          "data": {
            "text/plain": [
              "[2, 6]"
            ]
          },
          "metadata": {
            "tags": []
          },
          "execution_count": 23
        }
      ]
    },
    {
      "cell_type": "code",
      "metadata": {
        "id": "1ZrMlwTReDLt",
        "outputId": "7c230126-cc9f-48df-8c4f-aa3a42c6afca",
        "colab": {
          "base_uri": "https://localhost:8080/"
        }
      },
      "source": [
        "pts = [[4, 7], [1, 3], [2, 5], [5, 6]]\n",
        "min_points(pts)"
      ],
      "execution_count": 24,
      "outputs": [
        {
          "output_type": "execute_result",
          "data": {
            "text/plain": [
              "[3, 6]"
            ]
          },
          "metadata": {
            "tags": []
          },
          "execution_count": 24
        }
      ]
    },
    {
      "cell_type": "markdown",
      "metadata": {
        "id": "if7Z74n5eDLu"
      },
      "source": [
        "## Example 4: Pairwise Distinct Summands"
      ]
    },
    {
      "cell_type": "markdown",
      "metadata": {
        "id": "lE79OrTAeDLu"
      },
      "source": [
        "In the pairwise distinct summands problem, we are given an integer $n$, and our goal is to find the maximum number of unique summands. For example, given an integer n=8, the maximum number of unique summands would be `[1 + 2 + 5] = 3`."
      ]
    },
    {
      "cell_type": "markdown",
      "metadata": {
        "id": "kR3lN9jAeDLu"
      },
      "source": [
        "Implemented in code using a greedy strategy, it looks as follows:"
      ]
    },
    {
      "cell_type": "code",
      "metadata": {
        "collapsed": true,
        "id": "Iw4Gqv26eDLu"
      },
      "source": [
        "def max_summands(num):\n",
        "    summands = []\n",
        "    sum_summands = 0\n",
        "    next_int = 1\n",
        "\n",
        "    while sum_summands + next_int <= num:\n",
        "        sum_summands += next_int\n",
        "        summands.append(next_int)\n",
        "        next_int += 1\n",
        "\n",
        "    summands[-1] += num - sum_summands\n",
        "    return summands"
      ],
      "execution_count": null,
      "outputs": []
    },
    {
      "cell_type": "markdown",
      "metadata": {
        "id": "5IHDJvsheDLv"
      },
      "source": [
        "First, we intitialize the sum of the summands to 0 and evaluate the integer `next_int=1`. We then enter a while loop if the sum of the summ"
      ]
    },
    {
      "cell_type": "markdown",
      "metadata": {
        "id": "Jkj76-ozeDLv"
      },
      "source": [
        "## Set Cover Problems"
      ]
    },
    {
      "cell_type": "markdown",
      "metadata": {
        "id": "Ha4LJxMReDLv"
      },
      "source": [
        "Set cover problems are problems where we want to find the minimum number of subsets such that their set union contains all items in a target set. This target set is typically called the \"universe.\" To borrow an example from the excellent [Wikipedia page](https://en.wikipedia.org/wiki/Set_cover_problem) on set cover problems, let's assume we have the universe \n",
        "\n",
        "- $U=\\{1, 2, 3, 4, 5\\}$\n",
        "\n",
        "and are given the collection of sets \n",
        "\n",
        "- $C=\\{\\{1, 2, 3\\}, \\{2, 4\\}, \\{3, 4\\}, \\{4, 5\\}\\}$\n",
        "\n",
        "The task is to find the minimum number of sets in $C$ so that their union equals $U$.\n",
        "\n",
        "Note that set cover problems are NP-complete, thus no computationally efficient solution exists. However, we can use greedy algorithms to approximate the solution; this solution may or may not be globally optimal.\n",
        "\n",
        "The greedy strategy we are going to employ is very simple and works as follows:\n",
        "\n",
        "- While not all elements in U are covered:\n",
        "  - For all uncovered sets in C:\n",
        "  - Pick the set that covers most of the elements in U"
      ]
    },
    {
      "cell_type": "code",
      "metadata": {
        "id": "wlUUixEXeDLv",
        "outputId": "9ecc9c97-95d8-4dc4-e1ec-fc70d449df4b",
        "colab": {
          "base_uri": "https://localhost:8080/"
        }
      },
      "source": [
        "collection = {'set_1': {1, 2, 3},\n",
        "              'set_2': {2, 4}, \n",
        "              'set_3': {3, 4}, \n",
        "              'set_4': {4, 5}}\n",
        "sets_used = []\n",
        "elements_not_covered = {1, 2, 3, 4, 5}\n",
        "\n",
        "\n",
        "while elements_not_covered:\n",
        "    elements_covered = set()\n",
        "    for set_ in collection.keys():\n",
        "        \n",
        "        if set_ in sets_used:\n",
        "            continue\n",
        "        \n",
        "        current_set = collection[set_]\n",
        "        would_cover = elements_covered.union(current_set)\n",
        "        if len(would_cover) > len(elements_covered):\n",
        "            elements_covered = would_cover\n",
        "            sets_used.append(set_)\n",
        "            elements_not_covered -= elements_covered\n",
        "            \n",
        "            if not elements_not_covered:\n",
        "                break\n",
        "    \n",
        "print(sets_used)"
      ],
      "execution_count": 25,
      "outputs": [
        {
          "output_type": "stream",
          "text": [
            "['set_1', 'set_2', 'set_4']\n"
          ],
          "name": "stdout"
        }
      ]
    },
    {
      "cell_type": "markdown",
      "metadata": {
        "id": "a8jyIOi3eDLw"
      },
      "source": [
        "As a result, we can see that 3 sets are required to cover the universe U. In this case, the greedy algorithm has not found the globally optimal solution, which would be `'set_1'` and `'set_4'`. Note that this is just a trivial example, and greedy algorithms can be very useful approximators for solutions that are computationally infeasible.\n",
        "\n",
        "For instance, an exhaustive solution to this problem that would guaranteed to find the global optimum (remember that set cover problems are NP-complete) would involve iterating over a power set, which has $2^n$ elements, where $n$ is the number of sets in the collection. For example, a collection of 30 sets would already require comparing the solutions of $2^{30}=1,073,741,824$ million possible combinations!\n",
        "\n",
        "(Note that the greedy approach may have found the globally optimal solution in this simple example if it had iterated over the dictionary in a different order -- for example, if we had swapped the positions of {2, 4} and {4, 5})"
      ]
    },
    {
      "cell_type": "code",
      "metadata": {
        "id": "89O03zX6epAA"
      },
      "source": [
        ""
      ],
      "execution_count": null,
      "outputs": []
    },
    {
      "cell_type": "code",
      "metadata": {
        "id": "ZFOXHsPyevlx"
      },
      "source": [
        ""
      ],
      "execution_count": null,
      "outputs": []
    },
    {
      "cell_type": "code",
      "metadata": {
        "id": "8vFfpYOEfCHX"
      },
      "source": [
        ""
      ],
      "execution_count": null,
      "outputs": []
    },
    {
      "cell_type": "code",
      "metadata": {
        "id": "kVPo-C3ffFAJ"
      },
      "source": [
        ""
      ],
      "execution_count": null,
      "outputs": []
    }
  ]
}