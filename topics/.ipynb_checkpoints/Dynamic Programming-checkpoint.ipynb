{
 "cells": [
  {
   "cell_type": "markdown",
   "metadata": {},
   "source": [
    "# Dynamic Programming\n",
    "\n",
    "adopted from: https://www.amazon.com/Python-Algorithms-Mastering-Basic-Language/dp/148420056X\n",
    "\n",
    "Python Algorithms: Mastering Basic Algorithms in the Python Language"
   ]
  },
  {
   "cell_type": "markdown",
   "metadata": {},
   "source": [
    "![Bellman](https://upload.wikimedia.org/wikipedia/en/7/7a/Richard_Ernest_Bellman.jpg)\n",
    "\n",
    "https://en.wikipedia.org/wiki/Richard_E._Bellman"
   ]
  },
  {
   "cell_type": "markdown",
   "metadata": {},
   "source": [
    "## Dynamic Programming - not the programming in computer terms!\n",
    "The term dynamic programming (or simply DP) can be a bit confusing to newcomers. Both of the words are\n",
    "used in a different way than most might expect. Programming here refers to making a set of choices (as in “linear\n",
    "programming”) and thus has more in common with the way the term is used in, say, television, than in writing\n",
    "computer programs. Dynamic simply means that things change over time—in this case, that each choice depends\n",
    "on the previous one. In other words, this “dynamicism” has little to do with the program you’ll write and is just a\n",
    "description of the problem class. In Bellman’s own words, “I thought dynamic programming was a good name. It was\n",
    "something not even a Congressman could object to. So I used it as an umbrella for my activities"
   ]
  },
  {
   "cell_type": "markdown",
   "metadata": {},
   "source": [
    "* The core technique of DP -> caching\n",
    "* Decompose your problem recursively/inductively (usual)\n",
    "* allow overlap between the subproblems. \n",
    "* Plain recursive solution xponential number of times -> caching trims away waste\n",
    "* result is usually both an impressively efficient algorithm and a greater insight into the problem.\n",
    "\n",
    "\n",
    "Commonly, DP algorithms turn the recursive formulation upside down, making it iterative and filling out some\n",
    "data structure (such as a multidimensional array) step by step. \n",
    "\n",
    "* Another option well suited to high-level languages such as Python—is to implement the recursive formulation directly but to cache the return\n",
    "values. \n",
    "* If a call is made more than once with the same arguments, the result is simply returned directly from the\n",
    "cache. This is known as **memoization**"
   ]
  },
  {
   "cell_type": "markdown",
   "metadata": {},
   "source": [
    "## Little puzzle: Longest Increasing Subsequence\n",
    "\n",
    "Say you have a sequence of numbers, and you want to find its\n",
    "longest increasing (or, rather nondecreasing) subsequence—or one of them, if there are more. A subsequence consists\n",
    "of a subset of the elements in their original order. So, for example, in the sequence [3, 1, 0, 2, 4], one solution\n",
    "would be [1, 2, 4]."
   ]
  },
  {
   "cell_type": "code",
   "execution_count": 2,
   "metadata": {},
   "outputs": [],
   "source": [
    "from itertools import combinations\n",
    "def naive_lis(seq):\n",
    "    for length in range(len(seq), 0, -1): # n, n-1, ... , 1\n",
    "        for sub in combinations(seq, length): # Subsequences of given length\n",
    "            if list(sub) == sorted(sub): # An increasing subsequence?\n",
    "                return sub # Return it!"
   ]
  },
  {
   "cell_type": "code",
   "execution_count": 4,
   "metadata": {},
   "outputs": [
    {
     "data": {
      "text/plain": [
       "(1, 2, 4)"
      ]
     },
     "execution_count": 4,
     "metadata": {},
     "output_type": "execute_result"
    }
   ],
   "source": [
    "naive_lis([3,1,0,2,4])"
   ]
  },
  {
   "cell_type": "code",
   "execution_count": 5,
   "metadata": {},
   "outputs": [],
   "source": [
    "# how about complexity? \n",
    "# Two nested loops -> n^2 ?\n",
    "# Hint combinations is not O(1)....\n"
   ]
  },
  {
   "cell_type": "code",
   "execution_count": 7,
   "metadata": {},
   "outputs": [],
   "source": [
    "## Fibonacci\n",
    "def fib(i):\n",
    "    if i < 2: \n",
    "        return 1\n",
    "    else:\n",
    "        return fib(i-1) + fib(i-2)"
   ]
  },
  {
   "cell_type": "code",
   "execution_count": 8,
   "metadata": {},
   "outputs": [
    {
     "data": {
      "text/plain": [
       "8"
      ]
     },
     "execution_count": 8,
     "metadata": {},
     "output_type": "execute_result"
    }
   ],
   "source": [
    "fib(5)"
   ]
  },
  {
   "cell_type": "code",
   "execution_count": 9,
   "metadata": {},
   "outputs": [
    {
     "data": {
      "text/plain": [
       "89"
      ]
     },
     "execution_count": 9,
     "metadata": {},
     "output_type": "execute_result"
    }
   ],
   "source": [
    "fib(10)"
   ]
  },
  {
   "cell_type": "code",
   "execution_count": 10,
   "metadata": {},
   "outputs": [
    {
     "name": "stdout",
     "output_type": "stream",
     "text": [
      "1\n",
      "2\n",
      "3\n",
      "5\n",
      "8\n",
      "13\n",
      "21\n",
      "34\n",
      "55\n",
      "89\n",
      "144\n",
      "233\n",
      "377\n",
      "610\n"
     ]
    }
   ],
   "source": [
    "for n in range(1,15):\n",
    "    print(fib(n))"
   ]
  },
  {
   "cell_type": "code",
   "execution_count": null,
   "metadata": {},
   "outputs": [],
   "source": [
    "# so far so good?\n",
    "fib(100)"
   ]
  },
  {
   "cell_type": "code",
   "execution_count": 12,
   "metadata": {},
   "outputs": [],
   "source": [
    "from functools import wraps\n",
    "def memo(func):\n",
    "    cache = {} # Stored subproblem solutions\n",
    "    @wraps(func) # Make wrap look like func\n",
    "    def wrap(*args): # The memoized wrapper\n",
    "        if args not in cache: # Not already computed?\n",
    "            cache[args] = func(*args) # Compute & cache the solution\n",
    "        return cache[args] # Return the cached solution\n",
    "    return wrap # Return the wrapper"
   ]
  },
  {
   "cell_type": "code",
   "execution_count": 13,
   "metadata": {},
   "outputs": [],
   "source": [
    "fib_memo = memo(fib) #functions are first class citizens in Python\n"
   ]
  },
  {
   "cell_type": "code",
   "execution_count": 24,
   "metadata": {},
   "outputs": [
    {
     "data": {
      "text/plain": [
       "14930352"
      ]
     },
     "execution_count": 24,
     "metadata": {},
     "output_type": "execute_result"
    }
   ],
   "source": [
    "fib_memo(35)"
   ]
  },
  {
   "cell_type": "code",
   "execution_count": 25,
   "metadata": {},
   "outputs": [
    {
     "data": {
      "text/plain": [
       "14930352"
      ]
     },
     "execution_count": 25,
     "metadata": {},
     "output_type": "execute_result"
    }
   ],
   "source": [
    "fib(35)"
   ]
  },
  {
   "cell_type": "code",
   "execution_count": 49,
   "metadata": {},
   "outputs": [],
   "source": [
    "@memo \n",
    "def fib_m(i):\n",
    "    if i < 2: \n",
    "        return 1\n",
    "    else:\n",
    "        return fib_m(i-1) + fib_m(i-2)"
   ]
  },
  {
   "cell_type": "code",
   "execution_count": 50,
   "metadata": {},
   "outputs": [
    {
     "data": {
      "text/plain": [
       "14930352"
      ]
     },
     "execution_count": 50,
     "metadata": {},
     "output_type": "execute_result"
    }
   ],
   "source": [
    "fib_m(35)"
   ]
  },
  {
   "cell_type": "code",
   "execution_count": null,
   "metadata": {},
   "outputs": [],
   "source": []
  },
  {
   "cell_type": "code",
   "execution_count": 51,
   "metadata": {},
   "outputs": [
    {
     "data": {
      "text/plain": [
       "24157817"
      ]
     },
     "execution_count": 51,
     "metadata": {},
     "output_type": "execute_result"
    }
   ],
   "source": [
    "fib_m(36) # well the book implemention does not quite work, it is not caching properly"
   ]
  },
  {
   "cell_type": "code",
   "execution_count": 52,
   "metadata": {},
   "outputs": [
    {
     "data": {
      "text/plain": [
       "165580141"
      ]
     },
     "execution_count": 52,
     "metadata": {},
     "output_type": "execute_result"
    }
   ],
   "source": [
    "fib_m(40)"
   ]
  },
  {
   "cell_type": "code",
   "execution_count": 53,
   "metadata": {},
   "outputs": [
    {
     "data": {
      "text/plain": [
       "2504730781961"
      ]
     },
     "execution_count": 53,
     "metadata": {},
     "output_type": "execute_result"
    }
   ],
   "source": [
    "fib_m(60)"
   ]
  },
  {
   "cell_type": "code",
   "execution_count": 29,
   "metadata": {},
   "outputs": [],
   "source": [
    "import functools\n",
    "# https://stackoverflow.com/questions/1988804/what-is-memoization-and-how-can-i-use-it-in-python\n",
    "@functools.lru_cache(maxsize=None) #by default only 128 latest\n",
    "def fib(num):\n",
    "    if num < 2:\n",
    "        return num\n",
    "    else:\n",
    "        return fib(num-1) + fib(num-2)"
   ]
  },
  {
   "cell_type": "code",
   "execution_count": 30,
   "metadata": {},
   "outputs": [
    {
     "data": {
      "text/plain": [
       "9227465"
      ]
     },
     "execution_count": 30,
     "metadata": {},
     "output_type": "execute_result"
    }
   ],
   "source": [
    "fib(35)"
   ]
  },
  {
   "cell_type": "code",
   "execution_count": 31,
   "metadata": {},
   "outputs": [
    {
     "data": {
      "text/plain": [
       "102334155"
      ]
     },
     "execution_count": 31,
     "metadata": {},
     "output_type": "execute_result"
    }
   ],
   "source": [
    "fib(40)"
   ]
  },
  {
   "cell_type": "code",
   "execution_count": 32,
   "metadata": {},
   "outputs": [
    {
     "data": {
      "text/plain": [
       "354224848179261915075"
      ]
     },
     "execution_count": 32,
     "metadata": {},
     "output_type": "execute_result"
    }
   ],
   "source": [
    "fib(100)"
   ]
  },
  {
   "cell_type": "code",
   "execution_count": 33,
   "metadata": {},
   "outputs": [
    {
     "data": {
      "text/plain": [
       "280571172992510140037611932413038677189525"
      ]
     },
     "execution_count": 33,
     "metadata": {},
     "output_type": "execute_result"
    }
   ],
   "source": [
    "fib(200)"
   ]
  },
  {
   "cell_type": "markdown",
   "metadata": {},
   "source": [
    "#https://stackoverflow.com/questions/35959100/explanation-on-fibonacci-recursion\n",
    "![FibTree](https://i.stack.imgur.com/QVSdv.png)"
   ]
  },
  {
   "cell_type": "markdown",
   "metadata": {},
   "source": [
    "# Pascal's triangle\n",
    "![Triangle](https://upload.wikimedia.org/wikipedia/commons/0/0d/PascalTriangleAnimated2.gif)"
   ]
  },
  {
   "cell_type": "markdown",
   "metadata": {},
   "source": [
    "The combinatorial\n",
    "meaning of C(n,k) is the number of k-sized subsets you can get from a set of size n."
   ]
  },
  {
   "cell_type": "markdown",
   "metadata": {},
   "source": [
    "In mathematics, a combination is a selection of items from a collection, such that the order of selection does not matter (unlike permutations). https://en.wikipedia.org/wiki/Combination"
   ]
  },
  {
   "cell_type": "code",
   "execution_count": 34,
   "metadata": {},
   "outputs": [],
   "source": [
    "def C(n,k):\n",
    "    if k == 0: return 1\n",
    "    if n == 0: return 0\n",
    "    return C(n-1,k-1) + C(n-1,k)"
   ]
  },
  {
   "cell_type": "code",
   "execution_count": 37,
   "metadata": {},
   "outputs": [
    {
     "data": {
      "text/plain": [
       "(1, 3, 3, 1)"
      ]
     },
     "execution_count": 37,
     "metadata": {},
     "output_type": "execute_result"
    }
   ],
   "source": [
    "C(3,0),C(3,1),C(3,2),C(3,3)"
   ]
  },
  {
   "cell_type": "code",
   "execution_count": 40,
   "metadata": {},
   "outputs": [
    {
     "data": {
      "text/plain": [
       "(1, 4, 6)"
      ]
     },
     "execution_count": 40,
     "metadata": {},
     "output_type": "execute_result"
    }
   ],
   "source": [
    "C(4,0),C(4,1),C(4,2)"
   ]
  },
  {
   "cell_type": "code",
   "execution_count": 35,
   "metadata": {},
   "outputs": [
    {
     "data": {
      "text/plain": [
       "20"
      ]
     },
     "execution_count": 35,
     "metadata": {},
     "output_type": "execute_result"
    }
   ],
   "source": [
    "C(6,3)"
   ]
  },
  {
   "cell_type": "code",
   "execution_count": 46,
   "metadata": {},
   "outputs": [],
   "source": [
    "@functools.lru_cache(maxsize=None)\n",
    "def C_mem(n,k):\n",
    "    if k == 0: return 1\n",
    "    if n == 0: return 0\n",
    "    return C_mem(n-1,k-1) + C_mem(n-1,k)"
   ]
  },
  {
   "cell_type": "code",
   "execution_count": 47,
   "metadata": {},
   "outputs": [
    {
     "data": {
      "text/plain": [
       "125970"
      ]
     },
     "execution_count": 47,
     "metadata": {},
     "output_type": "execute_result"
    }
   ],
   "source": [
    "C_mem(20,12)"
   ]
  },
  {
   "cell_type": "code",
   "execution_count": 45,
   "metadata": {},
   "outputs": [
    {
     "data": {
      "text/plain": [
       "125970"
      ]
     },
     "execution_count": 45,
     "metadata": {},
     "output_type": "execute_result"
    }
   ],
   "source": [
    "C(20,12)"
   ]
  },
  {
   "cell_type": "code",
   "execution_count": 48,
   "metadata": {},
   "outputs": [
    {
     "data": {
      "text/plain": [
       "5852925"
      ]
     },
     "execution_count": 48,
     "metadata": {},
     "output_type": "execute_result"
    }
   ],
   "source": [
    "C_mem(30,22)"
   ]
  },
  {
   "cell_type": "markdown",
   "metadata": {},
   "source": [
    "You may at times want to rewrite your code to make it iterative. This\n",
    "can make it faster, and you avoid exhausting the stack if the recursion depth gets excessive. There’s another reason, too:\n",
    "The iterative versions are often based on a specially constructed cache, rather than the generic “dict keyed by parameter\n",
    "tuples” used in my @memo. \n",
    "\n",
    "This means that you can sometimes use more efficient structures, such as the multidimensional\n",
    "arrays of NumPy, or even just nested lists. \n",
    "\n",
    "This custom cache design\n",
    "makes it possible to do use DP in more low-level languages(ahem C, C++), where general, abstract solutions such as our @memo decorator\n",
    "are often not feasible.\n",
    "\n",
    "Note that even though these two techniques often go hand in hand, you are certainly free to use an\n",
    "iterative solution with a more generic cache or a recursive one with a tailored structure for your subproblem solutions.\n",
    "\n",
    "Let’s reverse our algorithm, filling out Pascal’s triangle directly. "
   ]
  },
  {
   "cell_type": "code",
   "execution_count": 54,
   "metadata": {},
   "outputs": [
    {
     "data": {
      "text/plain": [
       "120"
      ]
     },
     "execution_count": 54,
     "metadata": {},
     "output_type": "execute_result"
    }
   ],
   "source": [
    "from collections import defaultdict\n",
    "n, k = 10, 7\n",
    "Cit = defaultdict(int)\n",
    "for row in range(n+1):\n",
    "    Cit[row,0] = 1\n",
    "    for col in range(1,k+1):\n",
    "        Cit[row,col] = Cit[row-1,col-1] + Cit[row-1,col]\n",
    "\n",
    "Cit[n,k]"
   ]
  },
  {
   "cell_type": "markdown",
   "metadata": {},
   "source": [
    "# Difference between TOP-DOWN (with memoization) and BOTTOM-UP (with filling up DP table)"
   ]
  },
  {
   "cell_type": "markdown",
   "metadata": {},
   "source": [
    "Basically the same thing is going on. The main difference is that we need to figure out which cells in the cache\n",
    "need to be filled out, and we need to find a safe order to do it in so that when we’re about to calculate C[row,col], the\n",
    "cells C[row-1,col-1] and C[row-1,col] are already calculated. With the memoized function, we needn’t worry about\n",
    "either issue: It will calculate whatever it needs recursively."
   ]
  },
  {
   "cell_type": "code",
   "execution_count": 56,
   "metadata": {},
   "outputs": [],
   "source": [
    "## Back to LIS"
   ]
  },
  {
   "cell_type": "code",
   "execution_count": 57,
   "metadata": {},
   "outputs": [],
   "source": [
    "def rec_lis(seq): # Longest increasing subseq.\n",
    "    @functools.lru_cache(maxsize=None)\n",
    "    def L(cur): # Longest ending at seq[cur]\n",
    "        res = 1 # Length is at least 1\n",
    "        for pre in range(cur): # Potential predecessors\n",
    "            if seq[pre] <= seq[cur]: # A valid (smaller) predec.\n",
    "                res = max(res, 1 + L(pre)) # Can we improve the solution?\n",
    "        return res\n",
    "    return max(L(i) for i in range(len(seq))) # The longest of them all"
   ]
  },
  {
   "cell_type": "code",
   "execution_count": 59,
   "metadata": {},
   "outputs": [
    {
     "data": {
      "text/plain": [
       "3"
      ]
     },
     "execution_count": 59,
     "metadata": {},
     "output_type": "execute_result"
    }
   ],
   "source": [
    "rec_lis([3,1,0,2,4])"
   ]
  },
  {
   "cell_type": "code",
   "execution_count": 60,
   "metadata": {},
   "outputs": [],
   "source": [
    "def basic_lis(seq):\n",
    "    L = [1] * len(seq)\n",
    "    for cur, val in enumerate(seq):\n",
    "        for pre in range(cur):\n",
    "            if seq[pre] <= val:\n",
    "                L[cur] = max(L[cur], 1 + L[pre])\n",
    "    return max(L)"
   ]
  },
  {
   "cell_type": "code",
   "execution_count": 66,
   "metadata": {},
   "outputs": [
    {
     "data": {
      "text/plain": [
       "5"
      ]
     },
     "execution_count": 66,
     "metadata": {},
     "output_type": "execute_result"
    }
   ],
   "source": [
    "basic_lis([3,1,0,2,4,7,9,6])"
   ]
  },
  {
   "cell_type": "markdown",
   "metadata": {},
   "source": [
    "A crucial insight is that if more than one predecessor terminate subsequences of length m, it doesn’t matter which\n",
    "one of them we use—they’ll all give us an optimal answer. Say, we want to keep only one of them around; which one\n",
    "should we keep? The only safe choice would be to keep the smallest of them, because that wouldn’t wrongly preclude\n",
    "any later elements from building on it. So let’s say, inductively, that at a certain point we have a sequence end of\n",
    "endpoints, where end[idx] is the smallest among the endpoints we’ve seen for increasing subsequences of length idx+1\n",
    "(we’re indexing from 0). Because we’re iterating over the sequence, these will all have occurred earlier than our current\n",
    "value, val. All we need now is an inductive step for extending end, finding out how to add val to it. If we can do that, at\n",
    "the end of the algorithm len(end) will give us the final answer—the length of the longest increasing subsequence."
   ]
  },
  {
   "cell_type": "markdown",
   "metadata": {},
   "source": [
    "This devilishly clever little algorithm was first was first described by Michael L. Fredman in 1975"
   ]
  },
  {
   "cell_type": "code",
   "execution_count": 68,
   "metadata": {},
   "outputs": [],
   "source": [
    "from bisect import bisect\n",
    "def lis(seq): # Longest increasing subseq.\n",
    "    end = [] # End-values for all lengths\n",
    "    for val in seq: # Try every value, in order\n",
    "        idx = bisect(end, val) # Can we build on an end val?\n",
    "        if idx == len(end): \n",
    "            end.append(val) # Longest seq. extended\n",
    "        else: \n",
    "            end[idx] = val # Prev. endpoint reduced\n",
    "    return len(end) # The longest we found"
   ]
  },
  {
   "cell_type": "code",
   "execution_count": 69,
   "metadata": {},
   "outputs": [
    {
     "data": {
      "text/plain": [
       "5"
      ]
     },
     "execution_count": 69,
     "metadata": {},
     "output_type": "execute_result"
    }
   ],
   "source": [
    "lis([3,1,0,2,4,7,9,6])"
   ]
  }
 ],
 "metadata": {
  "kernelspec": {
   "display_name": "Python 3",
   "language": "python",
   "name": "python3"
  },
  "language_info": {
   "codemirror_mode": {
    "name": "ipython",
    "version": 3
   },
   "file_extension": ".py",
   "mimetype": "text/x-python",
   "name": "python",
   "nbconvert_exporter": "python",
   "pygments_lexer": "ipython3",
   "version": "3.8.3"
  }
 },
 "nbformat": 4,
 "nbformat_minor": 4
}
