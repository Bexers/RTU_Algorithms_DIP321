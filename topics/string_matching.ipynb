{
 "cells": [
  {
   "attachments": {},
   "cell_type": "markdown",
   "metadata": {},
   "source": [
    "# String Matching Algorithms\n",
    "\n",
    "## Description\n",
    "\n",
    "### String Matching\n",
    "\n",
    "String matching is a fundamental problem in computer science. It is the process of finding a given pattern(needle) in a text(target). The pattern can be a string or a sequence of characters or a regular expression. "
   ]
  },
  {
   "cell_type": "code",
   "execution_count": 5,
   "metadata": {},
   "outputs": [
    {
     "data": {
      "text/plain": [
       "(11, 11)"
      ]
     },
     "execution_count": 5,
     "metadata": {},
     "output_type": "execute_result"
    }
   ],
   "source": [
    "# in python we already have string find / index method\n",
    "text = \"RRRRTTRUUU RTUUUUURRTUUUUU\"\n",
    "text.find(\"RTU\"), text.index(\"RTU\")"
   ]
  },
  {
   "cell_type": "code",
   "execution_count": 6,
   "metadata": {},
   "outputs": [
    {
     "data": {
      "text/plain": [
       "11"
      ]
     },
     "execution_count": 6,
     "metadata": {},
     "output_type": "execute_result"
    }
   ],
   "source": [
    "def find_needle(text, needle):\n",
    "    '''\n",
    "    Brute force search for needle in text\n",
    "    '''\n",
    "    for i in range(len(text)):\n",
    "        # python slicing makes this easy\n",
    "        if text[i:i+len(needle)] == needle: \n",
    "            return i\n",
    "    return -1\n",
    "\n",
    "find_needle(text, \"RTU\")"
   ]
  },
  {
   "cell_type": "code",
   "execution_count": 7,
   "metadata": {},
   "outputs": [
    {
     "data": {
      "text/plain": [
       "11"
      ]
     },
     "execution_count": 7,
     "metadata": {},
     "output_type": "execute_result"
    }
   ],
   "source": [
    "# lets rewrite the above function without slicing\n",
    "def find_needle_no_slice(text, needle):\n",
    "    '''\n",
    "    Brute force search for needle in text\n",
    "    Not pythonic implementation - more like C\n",
    "    '''\n",
    "    for i in range(len(text)-len(needle)+1):\n",
    "        # python slicing makes this easy\n",
    "        for j in range(len(needle)):\n",
    "            if text[i+j] != needle[j]:\n",
    "                break\n",
    "        else: # this else is for the for loop, not the if\n",
    "            return i # if we didn't break out of the loop, we found the needle\n",
    "    return -1\n",
    "\n",
    "find_needle_no_slice(text, \"RTU\")"
   ]
  },
  {
   "attachments": {},
   "cell_type": "markdown",
   "metadata": {},
   "source": [
    "## Complexity of brute force algorithm\n",
    "\n",
    "The brute force algorithm is the simplest algorithm for string matching. It checks for the pattern in the text by sliding the pattern over the text one by one and checking for a match. The time complexity of this algorithm is O(mn) where m is the length of the pattern and n is the length of the text."
   ]
  },
  {
   "cell_type": "code",
   "execution_count": 9,
   "metadata": {},
   "outputs": [
    {
     "data": {
      "text/plain": [
       "('0b11', '0b110', '0b1001', '0b1100')"
      ]
     },
     "execution_count": 9,
     "metadata": {},
     "output_type": "execute_result"
    }
   ],
   "source": [
    "# 6 in binary is 110\n",
    "bin(3),bin(6), bin(9),bin(12)"
   ]
  },
  {
   "attachments": {},
   "cell_type": "markdown",
   "metadata": {},
   "source": [
    "## Knuth-Morris-Pratt Algorithm\n",
    "\n",
    "### Description\n",
    "\n",
    "Big idea: If we know some of the characters in the text, we can use that information to avoid matching the characters that we know will anyway match.\n",
    "\n",
    "In KMP we build a prefix table that tells us how many characters to skip when a mismatch occurs. This is called the failure function or the prefix function.\n",
    "We could use this information to skip characters in the text that we know will anyway match.\n",
    "\n",
    "We could also build a DFA using this information.\n",
    "\n",
    "DFA - Deterministic Finite Automaton\n",
    "https://en.wikipedia.org/wiki/Deterministic_finite_automaton\n",
    "\n",
    "### Complexity\n",
    "\n",
    "Time complexity: O(m+n) where m is the length of the pattern and n is the length of the text."
   ]
  },
  {
   "cell_type": "code",
   "execution_count": 10,
   "metadata": {},
   "outputs": [
    {
     "data": {
      "text/plain": [
       "[0, 0, 0]"
      ]
     },
     "execution_count": 10,
     "metadata": {},
     "output_type": "execute_result"
    }
   ],
   "source": [
    "def kmp_table(needle):\n",
    "    '''\n",
    "    Build the KMP table for the needle\n",
    "    '''\n",
    "    # initialize table\n",
    "    table = [0]*len(needle)\n",
    "    i = 1\n",
    "    j = 0\n",
    "    # we start at 1 because table[0] is always 0\n",
    "    while i < len(needle): \n",
    "        if needle[i] == needle[j]:\n",
    "            table[i] = j+1\n",
    "            i += 1\n",
    "            j += 1\n",
    "        elif j > 0:\n",
    "            j = table[j-1]\n",
    "        else:\n",
    "            i += 1\n",
    "    return table\n",
    "\n",
    "kmp_table(\"RTU\")"
   ]
  },
  {
   "cell_type": "code",
   "execution_count": 11,
   "metadata": {},
   "outputs": [
    {
     "data": {
      "text/plain": [
       "[0, 1, 0, 1, 2, 2]"
      ]
     },
     "execution_count": 11,
     "metadata": {},
     "output_type": "execute_result"
    }
   ],
   "source": [
    "kmp_table(\"aabaaa\")"
   ]
  },
  {
   "cell_type": "code",
   "execution_count": 12,
   "metadata": {},
   "outputs": [
    {
     "data": {
      "text/plain": [
       "11"
      ]
     },
     "execution_count": 12,
     "metadata": {},
     "output_type": "execute_result"
    }
   ],
   "source": [
    "# kmp search\n",
    "def kmp_search(text, needle):\n",
    "    '''\n",
    "    KMP search for needle in text\n",
    "    '''\n",
    "    table = kmp_table(needle)\n",
    "    i = 0\n",
    "    j = 0\n",
    "    while i < len(text):\n",
    "        if text[i] == needle[j]:\n",
    "            # so if we are at the end of the needle, we found it!!\n",
    "            if j == len(needle)-1:\n",
    "                return i-j\n",
    "            else:\n",
    "                i += 1\n",
    "                j += 1\n",
    "        elif j > 0:\n",
    "            j = table[j-1]\n",
    "        else:\n",
    "            i += 1\n",
    "    return -1\n",
    "\n",
    "kmp_search(text, \"RTU\")"
   ]
  },
  {
   "cell_type": "code",
   "execution_count": null,
   "metadata": {},
   "outputs": [],
   "source": [
    "# left as an exercise for the reader run timing tests on the above functions\n",
    "# and compare them to the python find method\n",
    "\n",
    "# you can use %timeit in a jupyter notebook to time a function"
   ]
  },
  {
   "attachments": {},
   "cell_type": "markdown",
   "metadata": {},
   "source": [
    "## Boyer-Moore Algorithm\n",
    "\n",
    "https://en.wikipedia.org/wiki/Boyer%E2%80%93Moore_string-search_algorithm\n",
    "\n",
    "### Description\n",
    "\n",
    "Boyer-Moore algorithm is a string searching algorithm that uses information from the end of the pattern to skip characters in the text. It uses two rules to skip characters in the text.\n",
    "\n",
    "1. Bad character rule\n",
    "Bad character rule is used to skip characters in the text when a mismatch occurs. The bad character rule is based on the observation that if the mismatch occurs at position i in the pattern, then we can shift the pattern by i characters to the right.\n",
    "2. Good suffix rule\n",
    "TODO good suffix rule\n",
    "\n",
    "### Complexity\n",
    "\n",
    "Worst case time complexity: O(mn) where m is the length of the pattern and n is the length of the text.\n",
    "\n",
    "Best case time complexity: O(n/m) where m is the length of the pattern/needle and n is the length of the text."
   ]
  },
  {
   "cell_type": "code",
   "execution_count": 13,
   "metadata": {},
   "outputs": [
    {
     "data": {
      "text/plain": [
       "11"
      ]
     },
     "execution_count": 13,
     "metadata": {},
     "output_type": "execute_result"
    }
   ],
   "source": [
    "# let's implement Boyer Moore\n",
    "def boyer_moore(text, needle):\n",
    "    '''\n",
    "    Boyer Moore search for needle in text\n",
    "    '''\n",
    "    # build bad character table\n",
    "    table = {}\n",
    "    for i in range(len(needle)):\n",
    "        table[needle[i]] = i\n",
    "    # now we search\n",
    "    i = len(needle)-1 # start at the end of the needle!\n",
    "    j = i\n",
    "    while i < len(text):\n",
    "        if text[i] == needle[j]:\n",
    "            if j == 0:\n",
    "                return i\n",
    "            else:\n",
    "                i -= 1\n",
    "                j -= 1\n",
    "        else:\n",
    "            if text[i] in table:\n",
    "                i += len(needle) - min(j, 1+table[text[i]])\n",
    "            else:\n",
    "                i += len(needle)\n",
    "            j = len(needle)-1\n",
    "    return -1\n",
    "\n",
    "boyer_moore(text, \"RTU\")"
   ]
  },
  {
   "attachments": {},
   "cell_type": "markdown",
   "metadata": {},
   "source": [
    "## Timing"
   ]
  },
  {
   "cell_type": "code",
   "execution_count": 16,
   "metadata": {},
   "outputs": [
    {
     "data": {
      "text/plain": [
       "'AAGCCCAATA'"
      ]
     },
     "execution_count": 16,
     "metadata": {},
     "output_type": "execute_result"
    }
   ],
   "source": [
    "import random\n",
    "# insert seed here\n",
    "random.seed(42) # answer to life the universe and everything\n",
    "long_random_text = \"\".join([random.choice(\"ACGT\") for i in range(1000000)])\n",
    "long_random_text[:10]"
   ]
  },
  {
   "cell_type": "code",
   "execution_count": 17,
   "metadata": {},
   "outputs": [
    {
     "data": {
      "text/plain": [
       "27459"
      ]
     },
     "execution_count": 17,
     "metadata": {},
     "output_type": "execute_result"
    }
   ],
   "source": [
    "needle = \"GATTACA\"\n",
    "long_random_text.find(needle)"
   ]
  },
  {
   "cell_type": "code",
   "execution_count": 18,
   "metadata": {},
   "outputs": [
    {
     "name": "stdout",
     "output_type": "stream",
     "text": [
      "76.6 µs ± 4.19 µs per loop (mean ± std. dev. of 7 runs, 10,000 loops each)\n"
     ]
    }
   ],
   "source": [
    "%timeit long_random_text.find(needle)"
   ]
  },
  {
   "cell_type": "code",
   "execution_count": 19,
   "metadata": {},
   "outputs": [
    {
     "name": "stdout",
     "output_type": "stream",
     "text": [
      "7.89 ms ± 297 µs per loop (mean ± std. dev. of 7 runs, 100 loops each)\n"
     ]
    }
   ],
   "source": [
    "%timeit find_needle(long_random_text, needle)"
   ]
  },
  {
   "cell_type": "code",
   "execution_count": 20,
   "metadata": {},
   "outputs": [
    {
     "name": "stdout",
     "output_type": "stream",
     "text": [
      "13.8 ms ± 720 µs per loop (mean ± std. dev. of 7 runs, 100 loops each)\n"
     ]
    }
   ],
   "source": [
    "%timeit find_needle_no_slice(long_random_text, needle)"
   ]
  },
  {
   "cell_type": "code",
   "execution_count": 21,
   "metadata": {},
   "outputs": [
    {
     "name": "stdout",
     "output_type": "stream",
     "text": [
      "7.87 ms ± 432 µs per loop (mean ± std. dev. of 7 runs, 100 loops each)\n"
     ]
    }
   ],
   "source": [
    "%timeit boyer_moore(long_random_text, needle)"
   ]
  },
  {
   "cell_type": "code",
   "execution_count": 22,
   "metadata": {},
   "outputs": [
    {
     "name": "stdout",
     "output_type": "stream",
     "text": [
      "8.73 ms ± 612 µs per loop (mean ± std. dev. of 7 runs, 100 loops each)\n"
     ]
    }
   ],
   "source": [
    "%timeit kmp_search(long_random_text, needle)"
   ]
  },
  {
   "attachments": {},
   "cell_type": "markdown",
   "metadata": {},
   "source": [
    "## Timing longer needles\n",
    "\n",
    "We expect that Boyer Moore and KMP will be faster than brute force for longer needles. Let's test this hypothesis."
   ]
  },
  {
   "cell_type": "code",
   "execution_count": 23,
   "metadata": {},
   "outputs": [
    {
     "data": {
      "text/plain": [
       "'GCCATATTACTTAGGTTAAGGTTGGCGTACTCGTGTTTAACATCCGGCCTACGCAGGCTATTTTATACATTATTGTACTTTTTGATAGTTAGTCAATGCGCCACCGGTTCGTTAGAGGGTAGGTATCTCTTTTGGCGAGGATGCACGTCC'"
      ]
     },
     "execution_count": 23,
     "metadata": {},
     "output_type": "execute_result"
    }
   ],
   "source": [
    "# lets get some longer needle from back of the long_random_text\n",
    "needle = long_random_text[-200:-50]\n",
    "needle"
   ]
  },
  {
   "cell_type": "code",
   "execution_count": 24,
   "metadata": {},
   "outputs": [
    {
     "name": "stdout",
     "output_type": "stream",
     "text": [
      "3.6 ms ± 72.5 µs per loop (mean ± std. dev. of 7 runs, 100 loops each)\n"
     ]
    }
   ],
   "source": [
    "%timeit long_random_text.find(needle)"
   ]
  },
  {
   "cell_type": "code",
   "execution_count": 25,
   "metadata": {},
   "outputs": [
    {
     "name": "stdout",
     "output_type": "stream",
     "text": [
      "303 ms ± 27.5 ms per loop (mean ± std. dev. of 7 runs, 1 loop each)\n"
     ]
    }
   ],
   "source": [
    "%timeit find_needle(long_random_text, needle)"
   ]
  },
  {
   "cell_type": "code",
   "execution_count": 26,
   "metadata": {},
   "outputs": [
    {
     "name": "stdout",
     "output_type": "stream",
     "text": [
      "378 ms ± 42.9 ms per loop (mean ± std. dev. of 7 runs, 1 loop each)\n"
     ]
    }
   ],
   "source": [
    "%timeit boyer_moore(long_random_text, needle)"
   ]
  },
  {
   "cell_type": "code",
   "execution_count": 27,
   "metadata": {},
   "outputs": [
    {
     "name": "stdout",
     "output_type": "stream",
     "text": [
      "261 ms ± 24.5 ms per loop (mean ± std. dev. of 7 runs, 1 loop each)\n"
     ]
    }
   ],
   "source": [
    "%timeit kmp_search(long_random_text, needle)"
   ]
  },
  {
   "attachments": {},
   "cell_type": "markdown",
   "metadata": {},
   "source": [
    "## Timing longer needles with longer text\n",
    "\n",
    "Finally we will use bigger alphabets and longer texts to see how the algorithms perform."
   ]
  },
  {
   "cell_type": "code",
   "execution_count": 28,
   "metadata": {},
   "outputs": [
    {
     "data": {
      "text/plain": [
       "'abcdefghijklmnopqrstuvwxyzABCDEFGHIJKLMNOPQRSTUVWXYZ'"
      ]
     },
     "execution_count": 28,
     "metadata": {},
     "output_type": "execute_result"
    }
   ],
   "source": [
    "import string\n",
    "letters = string.ascii_letters\n",
    "letters"
   ]
  },
  {
   "cell_type": "code",
   "execution_count": 30,
   "metadata": {},
   "outputs": [
    {
     "data": {
      "text/plain": [
       "'zyjnFPQbKJRTsQEawcXZWYnKTlJiZCbduFFXofSHHwcdGoTMpYsCcQMBpaYdcoNPXWnJChYWGcfsAGMKIVKwuLnEpWBSPOKeQdvfQuYGbYbRghMOsuQrzezdMwXnpePcIbpMzdahLYAHkwFXLYFGDj'"
      ]
     },
     "execution_count": 30,
     "metadata": {},
     "output_type": "execute_result"
    }
   ],
   "source": [
    "long_text = \"\".join([random.choice(letters) for i in range(1000000)])\n",
    "needle = long_text[-200:-50]\n",
    "needle"
   ]
  },
  {
   "cell_type": "code",
   "execution_count": 31,
   "metadata": {},
   "outputs": [
    {
     "data": {
      "text/plain": [
       "47"
      ]
     },
     "execution_count": 31,
     "metadata": {},
     "output_type": "execute_result"
    }
   ],
   "source": [
    "len(set(needle))"
   ]
  },
  {
   "cell_type": "code",
   "execution_count": 33,
   "metadata": {},
   "outputs": [
    {
     "data": {
      "text/plain": [
       "999800"
      ]
     },
     "execution_count": 33,
     "metadata": {},
     "output_type": "execute_result"
    }
   ],
   "source": [
    "long_text.find(needle)"
   ]
  },
  {
   "cell_type": "code",
   "execution_count": 32,
   "metadata": {},
   "outputs": [
    {
     "name": "stdout",
     "output_type": "stream",
     "text": [
      "336 µs ± 46.1 µs per loop (mean ± std. dev. of 7 runs, 1,000 loops each)\n"
     ]
    }
   ],
   "source": [
    "%timeit long_text.find(needle)"
   ]
  },
  {
   "cell_type": "code",
   "execution_count": 34,
   "metadata": {},
   "outputs": [
    {
     "name": "stdout",
     "output_type": "stream",
     "text": [
      "269 ms ± 30.6 ms per loop (mean ± std. dev. of 7 runs, 1 loop each)\n"
     ]
    }
   ],
   "source": [
    "%timeit find_needle(long_text, needle)"
   ]
  },
  {
   "cell_type": "code",
   "execution_count": 35,
   "metadata": {},
   "outputs": [
    {
     "name": "stdout",
     "output_type": "stream",
     "text": [
      "284 ms ± 26.1 ms per loop (mean ± std. dev. of 7 runs, 1 loop each)\n"
     ]
    }
   ],
   "source": [
    "%timeit kmp_search(long_text, needle)"
   ]
  },
  {
   "cell_type": "code",
   "execution_count": 36,
   "metadata": {},
   "outputs": [
    {
     "name": "stdout",
     "output_type": "stream",
     "text": [
      "13 ms ± 681 µs per loop (mean ± std. dev. of 7 runs, 100 loops each)\n"
     ]
    }
   ],
   "source": [
    "%timeit boyer_moore(long_text, needle)"
   ]
  },
  {
   "attachments": {},
   "cell_type": "markdown",
   "metadata": {},
   "source": [
    "## Conclusion\n",
    "\n",
    "Boyer-Moore performs best when there are many potential \"easy losses\" - some character is present in the text but not in the pattern. \n",
    "\n",
    "KMP will be faster than brute force when the pattern has many repeated characters."
   ]
  }
 ],
 "metadata": {
  "kernelspec": {
   "display_name": "Python 3",
   "language": "python",
   "name": "python3"
  },
  "language_info": {
   "codemirror_mode": {
    "name": "ipython",
    "version": 3
   },
   "file_extension": ".py",
   "mimetype": "text/x-python",
   "name": "python",
   "nbconvert_exporter": "python",
   "pygments_lexer": "ipython3",
   "version": "3.11.3"
  },
  "orig_nbformat": 4
 },
 "nbformat": 4,
 "nbformat_minor": 2
}
