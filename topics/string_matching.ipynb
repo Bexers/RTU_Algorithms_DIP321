{
 "cells": [
  {
   "attachments": {},
   "cell_type": "markdown",
   "metadata": {},
   "source": [
    "# String Matching Algorithms\n",
    "\n",
    "## Description\n",
    "\n",
    "### String Matching\n",
    "\n",
    "String matching is a fundamental problem in computer science. It is the process of finding a given pattern(needle) in a text(target or haystack). The pattern can be a string or a sequence of characters or a regular expression.\n",
    "\n",
    "Haystack might not be the best description since string is a sequence of characters and not a stack. But it is a common term used in string matching algorithms."
   ]
  },
  {
   "cell_type": "code",
   "execution_count": 1,
   "metadata": {},
   "outputs": [
    {
     "data": {
      "text/plain": [
       "(11, 11)"
      ]
     },
     "execution_count": 1,
     "metadata": {},
     "output_type": "execute_result"
    }
   ],
   "source": [
    "# in python we already have string find / index method\n",
    "text = \"RRRRTTRUUU RTUUUUURRTUUUUU\"\n",
    "text.find(\"RTU\"), text.index(\"RTU\")"
   ]
  },
  {
   "cell_type": "code",
   "execution_count": 2,
   "metadata": {},
   "outputs": [
    {
     "data": {
      "text/plain": [
       "[11, 19]"
      ]
     },
     "execution_count": 2,
     "metadata": {},
     "output_type": "execute_result"
    }
   ],
   "source": [
    "# how about finding all indexes of a substring that matches the search string\n",
    "# we can loop through the string and find the index of the substring and then move the pointer to the next index\n",
    "needle = \"RTU\"\n",
    "text = \"RRRRTTRUUU RTUUUUURRTUUUUU\"\n",
    "# we will save indexes in a list\n",
    "indexes = []\n",
    "# we will start from 0\n",
    "index = 0\n",
    "# we will loop through the text\n",
    "while index < len(text):\n",
    "    # we will find the index of the substring\n",
    "    index = text.find(needle, index) # so find has a start index\n",
    "    # if we find it we will add it to the list\n",
    "    if index != -1:\n",
    "        indexes.append(index)\n",
    "        # we will move the pointer to the next index\n",
    "        index += 1\n",
    "    else: # means we did not find the substring\n",
    "        break\n",
    "indexes"
   ]
  },
  {
   "cell_type": "code",
   "execution_count": 3,
   "metadata": {},
   "outputs": [
    {
     "name": "stdout",
     "output_type": "stream",
     "text": [
      "Starting at index 11 RTU\n",
      "Starting at index 19 RTU\n"
     ]
    }
   ],
   "source": [
    "# we can double check using slicing and lenght of the needle\n",
    "for index in indexes:\n",
    "    print(f\"Starting at index {index}\", text[index:index+len(needle)]) # so we slice the text from the index to the index + length of the needle"
   ]
  },
  {
   "cell_type": "markdown",
   "metadata": {},
   "source": [
    "## Brute force approach"
   ]
  },
  {
   "cell_type": "code",
   "execution_count": 4,
   "metadata": {},
   "outputs": [
    {
     "data": {
      "text/plain": [
       "11"
      ]
     },
     "execution_count": 4,
     "metadata": {},
     "output_type": "execute_result"
    }
   ],
   "source": [
    "def find_needle(text, needle):\n",
    "    '''\n",
    "    Brute force search for needle in text\n",
    "    '''\n",
    "    for i in range(len(text)): # more Pythonic would be to use enumerate\n",
    "        # python slicing makes this easy\n",
    "        if text[i:i+len(needle)] == needle: \n",
    "            return i # if we had to find all we could add the index to a list\n",
    "    return -1\n",
    "\n",
    "find_needle(text, \"RTU\")"
   ]
  },
  {
   "cell_type": "code",
   "execution_count": 6,
   "metadata": {},
   "outputs": [
    {
     "data": {
      "text/plain": [
       "11"
      ]
     },
     "execution_count": 6,
     "metadata": {},
     "output_type": "execute_result"
    }
   ],
   "source": [
    "# lets rewrite the above function without slicing\n",
    "def find_needle_no_slice(text, needle):\n",
    "    '''\n",
    "    Brute force search for needle in text\n",
    "    Not pythonic implementation - more like C\n",
    "    '''\n",
    "    for i in range(len(text)-len(needle)+1): # slight optimization we do not need to go to the end of the text\n",
    "        # python slicing makes this easy\n",
    "        for j in range(len(needle)):\n",
    "            if text[i+j] != needle[j]: # so we check each character one by one\n",
    "                # here we would add a flag if we did not use the else for the for loop (not available in C or Java)\n",
    "                break\n",
    "        else: # this else is for the for loop, not the if - it means we did not break out of the loop\n",
    "            return i # if we didn't break out of the loop, we found the needle\n",
    "\n",
    "    return -1\n",
    "\n",
    "find_needle_no_slice(text, \"RTU\")"
   ]
  },
  {
   "attachments": {},
   "cell_type": "markdown",
   "metadata": {},
   "source": [
    "## Complexity of brute force algorithm\n",
    "\n",
    "The brute force algorithm is the simplest algorithm for string matching. It checks for the pattern in the text by sliding the pattern over the text one by one and checking for a match. The time complexity of this algorithm is O(mn) where m is the length of the pattern and n is the length of the text(**needle** stands for n).\n",
    "\n",
    "Sometimes the m an n are used to represent the length of the pattern and text respectively. "
   ]
  },
  {
   "attachments": {},
   "cell_type": "markdown",
   "metadata": {},
   "source": [
    "## Knuth-Morris-Pratt Algorithm\n",
    "\n",
    "### Description\n",
    "\n",
    "**Big idea: If we know some of the characters in the text, we can use that information to avoid matching the characters that we know will anyway match.**\n",
    "\n",
    "In KMP we build a prefix table that tells us how many characters to skip when a mismatch occurs. This is called the failure function or the prefix function.\n",
    "We could use this information to skip characters in the text that we know will anyway match.\n",
    "\n",
    "We could also build a DFA using this information.\n",
    "\n",
    "DFA - Deterministic Finite Automaton\n",
    "https://en.wikipedia.org/wiki/Deterministic_finite_automaton\n",
    "\n",
    "### Complexity\n",
    "\n",
    "Time complexity: O(m+n) where m is the length of the pattern and n is the length of the text."
   ]
  },
  {
   "cell_type": "code",
   "execution_count": 7,
   "metadata": {},
   "outputs": [
    {
     "data": {
      "text/plain": [
       "[0, 0, 0]"
      ]
     },
     "execution_count": 7,
     "metadata": {},
     "output_type": "execute_result"
    }
   ],
   "source": [
    "def kmp_table(needle):\n",
    "    '''\n",
    "    Build the KMP table for the needle\n",
    "    '''\n",
    "    # initialize table\n",
    "    table = [0]*len(needle)\n",
    "    i = 1\n",
    "    j = 0\n",
    "    # we start at 1 because table[0] is always 0\n",
    "    while i < len(needle): \n",
    "        if needle[i] == needle[j]:\n",
    "            table[i] = j+1\n",
    "            i += 1\n",
    "            j += 1\n",
    "        elif j > 0:\n",
    "            j = table[j-1]\n",
    "        else:\n",
    "            i += 1\n",
    "    return table\n",
    "\n",
    "kmp_table(\"RTU\")"
   ]
  },
  {
   "cell_type": "markdown",
   "metadata": {},
   "source": [
    "## Links on building DFA\n",
    "\n",
    "* Original paper by Knuth-Morris-Pratt: TODO\n",
    "* Video: - https://www.youtube.com/watch?v=GTJr8OvyEVQ\n"
   ]
  },
  {
   "cell_type": "code",
   "execution_count": null,
   "metadata": {},
   "outputs": [],
   "source": []
  },
  {
   "cell_type": "code",
   "execution_count": 8,
   "metadata": {},
   "outputs": [
    {
     "data": {
      "text/plain": [
       "[0, 1, 0, 1, 2, 2]"
      ]
     },
     "execution_count": 8,
     "metadata": {},
     "output_type": "execute_result"
    }
   ],
   "source": [
    "kmp_table(\"aabaaa\")"
   ]
  },
  {
   "cell_type": "code",
   "execution_count": 9,
   "metadata": {},
   "outputs": [
    {
     "data": {
      "text/plain": [
       "11"
      ]
     },
     "execution_count": 9,
     "metadata": {},
     "output_type": "execute_result"
    }
   ],
   "source": [
    "# kmp search\n",
    "def kmp_search(text, needle, table=None):\n",
    "    '''\n",
    "    KMP search for needle in text\n",
    "    '''\n",
    "    if table is None:\n",
    "        table = kmp_table(needle) # so if we had a table we would use it\n",
    "    i = 0\n",
    "    j = 0\n",
    "    while i < len(text):\n",
    "        if text[i] == needle[j]:\n",
    "            # so if we are at the end of the needle, we found it!!\n",
    "            if j == len(needle)-1:\n",
    "                return i-j\n",
    "            else:\n",
    "                i += 1\n",
    "                j += 1\n",
    "        elif j > 0:\n",
    "            j = table[j-1] # essentially it is the same DFA as in the table\n",
    "        else:\n",
    "            i += 1\n",
    "    return -1\n",
    "\n",
    "kmp_search(text, \"RTU\")"
   ]
  },
  {
   "cell_type": "code",
   "execution_count": null,
   "metadata": {},
   "outputs": [],
   "source": [
    "# left as an exercise for the reader run timing tests on the above functions\n",
    "# and compare them to the python find method\n",
    "\n",
    "# you can use %timeit in a jupyter notebook to time a function"
   ]
  },
  {
   "attachments": {},
   "cell_type": "markdown",
   "metadata": {},
   "source": [
    "## Boyer-Moore Algorithm\n",
    "\n",
    "https://en.wikipedia.org/wiki/Boyer%E2%80%93Moore_string-search_algorithm\n",
    "\n",
    "### Description\n",
    "\n",
    "Boyer-Moore algorithm is a string searching algorithm that uses information from the end of the pattern to skip characters in the text. It uses two rules to skip characters in the text.\n",
    "\n",
    "1. Bad character rule\n",
    "Bad character rule is used to skip characters in the text when a mismatch occurs. The bad character rule is based on the observation that if the mismatch occurs at position i in the pattern, then we can shift the pattern by i characters to the right.\n",
    "2. Good suffix rule\n",
    "TODO good suffix rule\n",
    "\n",
    "### Example page\n",
    "\n",
    "Author: Robert C. Moore\n",
    "https://www.cs.utexas.edu/users/moore/best-ideas/string-searching/fstrpos-example.html\n",
    "\n",
    "### Complexity\n",
    "\n",
    "Worst case time complexity: O(mn) where m is the length of the pattern and n is the length of the text.\n",
    "\n",
    "Best case time complexity: O(n/m) where m is the length of the pattern/needle and n is the length of the text."
   ]
  },
  {
   "cell_type": "code",
   "execution_count": 10,
   "metadata": {},
   "outputs": [
    {
     "data": {
      "text/plain": [
       "11"
      ]
     },
     "execution_count": 10,
     "metadata": {},
     "output_type": "execute_result"
    }
   ],
   "source": [
    "# let's implement Boyer Moore\n",
    "def boyer_moore(text, needle):\n",
    "    '''\n",
    "    Boyer Moore search for needle in text\n",
    "    '''\n",
    "    # build bad character table\n",
    "    table = {}\n",
    "    for i in range(len(needle)):\n",
    "        table[needle[i]] = i\n",
    "    # now we search\n",
    "    i = len(needle)-1 # start at the end of the needle!\n",
    "    j = i\n",
    "    while i < len(text):\n",
    "        if text[i] == needle[j]:\n",
    "            if j == 0:\n",
    "                return i\n",
    "            else:\n",
    "                i -= 1\n",
    "                j -= 1\n",
    "        else:\n",
    "            if text[i] in table:\n",
    "                i += len(needle) - min(j, 1+table[text[i]])\n",
    "            else:\n",
    "                i += len(needle)\n",
    "            j = len(needle)-1\n",
    "    return -1\n",
    "\n",
    "boyer_moore(text, \"RTU\")"
   ]
  },
  {
   "attachments": {},
   "cell_type": "markdown",
   "metadata": {},
   "source": [
    "## Timing"
   ]
  },
  {
   "cell_type": "code",
   "execution_count": 11,
   "metadata": {},
   "outputs": [
    {
     "data": {
      "text/plain": [
       "'AAGCCCAATA'"
      ]
     },
     "execution_count": 11,
     "metadata": {},
     "output_type": "execute_result"
    }
   ],
   "source": [
    "import random\n",
    "# insert seed here\n",
    "random.seed(42) # answer to life the universe and everything\n",
    "long_random_text = \"\".join([random.choice(\"ACGT\") for i in range(1000000)])\n",
    "long_random_text[:10]"
   ]
  },
  {
   "cell_type": "code",
   "execution_count": 12,
   "metadata": {},
   "outputs": [
    {
     "data": {
      "text/plain": [
       "27459"
      ]
     },
     "execution_count": 12,
     "metadata": {},
     "output_type": "execute_result"
    }
   ],
   "source": [
    "# movie GATTACA - url https://www.imdb.com/title/tt0119177/\n",
    "needle = \"GATTACA\"\n",
    "long_random_text.find(needle)"
   ]
  },
  {
   "cell_type": "code",
   "execution_count": null,
   "metadata": {},
   "outputs": [],
   "source": []
  },
  {
   "cell_type": "code",
   "execution_count": 13,
   "metadata": {},
   "outputs": [
    {
     "name": "stdout",
     "output_type": "stream",
     "text": [
      "44.7 µs ± 1.5 µs per loop (mean ± std. dev. of 7 runs, 10,000 loops each)\n"
     ]
    }
   ],
   "source": [
    "%timeit long_random_text.find(needle)"
   ]
  },
  {
   "cell_type": "code",
   "execution_count": 14,
   "metadata": {},
   "outputs": [
    {
     "name": "stdout",
     "output_type": "stream",
     "text": [
      "4.85 ms ± 244 µs per loop (mean ± std. dev. of 7 runs, 100 loops each)\n"
     ]
    }
   ],
   "source": [
    "%timeit find_needle(long_random_text, needle)"
   ]
  },
  {
   "cell_type": "code",
   "execution_count": 15,
   "metadata": {},
   "outputs": [
    {
     "name": "stdout",
     "output_type": "stream",
     "text": [
      "9.58 ms ± 1.05 ms per loop (mean ± std. dev. of 7 runs, 100 loops each)\n"
     ]
    }
   ],
   "source": [
    "%timeit find_needle_no_slice(long_random_text, needle)"
   ]
  },
  {
   "cell_type": "code",
   "execution_count": 16,
   "metadata": {},
   "outputs": [
    {
     "name": "stdout",
     "output_type": "stream",
     "text": [
      "7.08 ms ± 322 µs per loop (mean ± std. dev. of 7 runs, 100 loops each)\n"
     ]
    }
   ],
   "source": [
    "%timeit boyer_moore(long_random_text, needle)"
   ]
  },
  {
   "cell_type": "code",
   "execution_count": 17,
   "metadata": {},
   "outputs": [
    {
     "name": "stdout",
     "output_type": "stream",
     "text": [
      "7.65 ms ± 441 µs per loop (mean ± std. dev. of 7 runs, 100 loops each)\n"
     ]
    }
   ],
   "source": [
    "%timeit kmp_search(long_random_text, needle)"
   ]
  },
  {
   "cell_type": "code",
   "execution_count": 18,
   "metadata": {},
   "outputs": [
    {
     "data": {
      "text/plain": [
       "'CGTGGTTGGTTTCGGATCTGTTGACAGAGAACTGACCCCATCCGCCTTGA'"
      ]
     },
     "execution_count": 18,
     "metadata": {},
     "output_type": "execute_result"
    }
   ],
   "source": [
    "# let'' look at the end of the long_random_text\n",
    "long_random_text[-50:]"
   ]
  },
  {
   "cell_type": "code",
   "execution_count": 19,
   "metadata": {},
   "outputs": [],
   "source": [
    "# our needle will be last 100 characters\n",
    "needle = long_random_text[-100:]"
   ]
  },
  {
   "cell_type": "code",
   "execution_count": 20,
   "metadata": {},
   "outputs": [
    {
     "name": "stdout",
     "output_type": "stream",
     "text": [
      "1.46 ms ± 26.8 µs per loop (mean ± std. dev. of 7 runs, 1,000 loops each)\n"
     ]
    }
   ],
   "source": [
    "%%timeit\n",
    "long_random_text.find(needle)"
   ]
  },
  {
   "cell_type": "code",
   "execution_count": 21,
   "metadata": {},
   "outputs": [
    {
     "name": "stdout",
     "output_type": "stream",
     "text": [
      "181 ms ± 11.3 ms per loop (mean ± std. dev. of 7 runs, 10 loops each)\n"
     ]
    }
   ],
   "source": [
    "%%timeit\n",
    "find_needle(long_random_text, needle)"
   ]
  },
  {
   "cell_type": "code",
   "execution_count": 22,
   "metadata": {},
   "outputs": [
    {
     "name": "stdout",
     "output_type": "stream",
     "text": [
      "426 ms ± 33.9 ms per loop (mean ± std. dev. of 7 runs, 1 loop each)\n"
     ]
    }
   ],
   "source": [
    "%%timeit\n",
    "find_needle_no_slice(long_random_text, needle)"
   ]
  },
  {
   "cell_type": "code",
   "execution_count": 23,
   "metadata": {},
   "outputs": [
    {
     "name": "stdout",
     "output_type": "stream",
     "text": [
      "178 ms ± 5.51 ms per loop (mean ± std. dev. of 7 runs, 10 loops each)\n"
     ]
    }
   ],
   "source": [
    "%%timeit\n",
    "kmp_search(long_random_text, needle)"
   ]
  },
  {
   "cell_type": "code",
   "execution_count": 24,
   "metadata": {},
   "outputs": [
    {
     "name": "stdout",
     "output_type": "stream",
     "text": [
      "236 ms ± 7.18 ms per loop (mean ± std. dev. of 7 runs, 1 loop each)\n"
     ]
    }
   ],
   "source": [
    "%%timeit\n",
    "boyer_moore(long_random_text, needle)"
   ]
  },
  {
   "cell_type": "markdown",
   "metadata": {},
   "source": [
    "### Python implemention of find\n",
    "\n",
    "Turns out that the python find method is implemented using the Boyer-Moore algorithm. Actually a modified version of Boyer-Moore algorithm called the Boyer-Moore-Horspool algorithm.\n",
    "\n",
    "* https://en.wikipedia.org/wiki/Boyer%E2%80%93Moore%E2%80%93Horspool_algorithm\n",
    "* Stack Overflow: https://stackoverflow.com/questions/681649/how-is-string-find-implemented-in-cpython"
   ]
  },
  {
   "attachments": {},
   "cell_type": "markdown",
   "metadata": {},
   "source": [
    "## Timing longer needles\n",
    "\n",
    "We expect that Boyer Moore and KMP will be faster than brute force for longer needles. Let's test this hypothesis."
   ]
  },
  {
   "cell_type": "code",
   "execution_count": 23,
   "metadata": {},
   "outputs": [
    {
     "data": {
      "text/plain": [
       "'GCCATATTACTTAGGTTAAGGTTGGCGTACTCGTGTTTAACATCCGGCCTACGCAGGCTATTTTATACATTATTGTACTTTTTGATAGTTAGTCAATGCGCCACCGGTTCGTTAGAGGGTAGGTATCTCTTTTGGCGAGGATGCACGTCC'"
      ]
     },
     "execution_count": 23,
     "metadata": {},
     "output_type": "execute_result"
    }
   ],
   "source": [
    "# lets get some longer needle from back of the long_random_text\n",
    "needle = long_random_text[-200:-50]\n",
    "needle"
   ]
  },
  {
   "cell_type": "code",
   "execution_count": 24,
   "metadata": {},
   "outputs": [
    {
     "name": "stdout",
     "output_type": "stream",
     "text": [
      "3.6 ms ± 72.5 µs per loop (mean ± std. dev. of 7 runs, 100 loops each)\n"
     ]
    }
   ],
   "source": [
    "%timeit long_random_text.find(needle)"
   ]
  },
  {
   "cell_type": "code",
   "execution_count": 25,
   "metadata": {},
   "outputs": [
    {
     "name": "stdout",
     "output_type": "stream",
     "text": [
      "303 ms ± 27.5 ms per loop (mean ± std. dev. of 7 runs, 1 loop each)\n"
     ]
    }
   ],
   "source": [
    "%timeit find_needle(long_random_text, needle)"
   ]
  },
  {
   "cell_type": "code",
   "execution_count": 26,
   "metadata": {},
   "outputs": [
    {
     "name": "stdout",
     "output_type": "stream",
     "text": [
      "378 ms ± 42.9 ms per loop (mean ± std. dev. of 7 runs, 1 loop each)\n"
     ]
    }
   ],
   "source": [
    "%timeit boyer_moore(long_random_text, needle)"
   ]
  },
  {
   "cell_type": "code",
   "execution_count": 27,
   "metadata": {},
   "outputs": [
    {
     "name": "stdout",
     "output_type": "stream",
     "text": [
      "261 ms ± 24.5 ms per loop (mean ± std. dev. of 7 runs, 1 loop each)\n"
     ]
    }
   ],
   "source": [
    "%timeit kmp_search(long_random_text, needle)"
   ]
  },
  {
   "cell_type": "code",
   "execution_count": 25,
   "metadata": {},
   "outputs": [],
   "source": [
    "# let's replace some characters in the long random text with X\n",
    "long_list = list(long_random_text)\n",
    "for i in range(950):\n",
    "    long_list[i*1000] = \"X\"\n",
    "long_random_text = \"\".join(long_list)"
   ]
  },
  {
   "cell_type": "code",
   "execution_count": 26,
   "metadata": {},
   "outputs": [
    {
     "name": "stdout",
     "output_type": "stream",
     "text": [
      "233 ms ± 7.17 ms per loop (mean ± std. dev. of 7 runs, 1 loop each)\n"
     ]
    }
   ],
   "source": [
    "%timeit boyer_moore(long_random_text, needle)"
   ]
  },
  {
   "cell_type": "code",
   "execution_count": 27,
   "metadata": {},
   "outputs": [
    {
     "name": "stdout",
     "output_type": "stream",
     "text": [
      "164 ms ± 3.54 ms per loop (mean ± std. dev. of 7 runs, 10 loops each)\n"
     ]
    }
   ],
   "source": [
    "%timeit find_needle(long_random_text, needle)"
   ]
  },
  {
   "cell_type": "code",
   "execution_count": 28,
   "metadata": {},
   "outputs": [
    {
     "name": "stdout",
     "output_type": "stream",
     "text": [
      "1.61 ms ± 171 µs per loop (mean ± std. dev. of 7 runs, 1,000 loops each)\n"
     ]
    }
   ],
   "source": [
    "%timeit long_random_text.find(needle)"
   ]
  },
  {
   "cell_type": "code",
   "execution_count": null,
   "metadata": {},
   "outputs": [],
   "source": [
    "# so it does look like find and our naive Boyer Moore improve when text contains characters that are NOT in the needle\n"
   ]
  },
  {
   "attachments": {},
   "cell_type": "markdown",
   "metadata": {},
   "source": [
    "## Timing longer needles with longer text\n",
    "\n",
    "Finally we will use bigger alphabets and longer texts to see how the algorithms perform."
   ]
  },
  {
   "cell_type": "code",
   "execution_count": 28,
   "metadata": {},
   "outputs": [
    {
     "data": {
      "text/plain": [
       "'abcdefghijklmnopqrstuvwxyzABCDEFGHIJKLMNOPQRSTUVWXYZ'"
      ]
     },
     "execution_count": 28,
     "metadata": {},
     "output_type": "execute_result"
    }
   ],
   "source": [
    "import string\n",
    "letters = string.ascii_letters\n",
    "letters"
   ]
  },
  {
   "cell_type": "code",
   "execution_count": 30,
   "metadata": {},
   "outputs": [
    {
     "data": {
      "text/plain": [
       "'zyjnFPQbKJRTsQEawcXZWYnKTlJiZCbduFFXofSHHwcdGoTMpYsCcQMBpaYdcoNPXWnJChYWGcfsAGMKIVKwuLnEpWBSPOKeQdvfQuYGbYbRghMOsuQrzezdMwXnpePcIbpMzdahLYAHkwFXLYFGDj'"
      ]
     },
     "execution_count": 30,
     "metadata": {},
     "output_type": "execute_result"
    }
   ],
   "source": [
    "long_text = \"\".join([random.choice(letters) for i in range(1000000)])\n",
    "needle = long_text[-200:-50]\n",
    "needle"
   ]
  },
  {
   "cell_type": "code",
   "execution_count": 31,
   "metadata": {},
   "outputs": [
    {
     "data": {
      "text/plain": [
       "47"
      ]
     },
     "execution_count": 31,
     "metadata": {},
     "output_type": "execute_result"
    }
   ],
   "source": [
    "len(set(needle))"
   ]
  },
  {
   "cell_type": "code",
   "execution_count": 33,
   "metadata": {},
   "outputs": [
    {
     "data": {
      "text/plain": [
       "999800"
      ]
     },
     "execution_count": 33,
     "metadata": {},
     "output_type": "execute_result"
    }
   ],
   "source": [
    "long_text.find(needle)"
   ]
  },
  {
   "cell_type": "code",
   "execution_count": 32,
   "metadata": {},
   "outputs": [
    {
     "name": "stdout",
     "output_type": "stream",
     "text": [
      "336 µs ± 46.1 µs per loop (mean ± std. dev. of 7 runs, 1,000 loops each)\n"
     ]
    }
   ],
   "source": [
    "%timeit long_text.find(needle)"
   ]
  },
  {
   "cell_type": "code",
   "execution_count": 34,
   "metadata": {},
   "outputs": [
    {
     "name": "stdout",
     "output_type": "stream",
     "text": [
      "269 ms ± 30.6 ms per loop (mean ± std. dev. of 7 runs, 1 loop each)\n"
     ]
    }
   ],
   "source": [
    "%timeit find_needle(long_text, needle)"
   ]
  },
  {
   "cell_type": "code",
   "execution_count": 35,
   "metadata": {},
   "outputs": [
    {
     "name": "stdout",
     "output_type": "stream",
     "text": [
      "284 ms ± 26.1 ms per loop (mean ± std. dev. of 7 runs, 1 loop each)\n"
     ]
    }
   ],
   "source": [
    "%timeit kmp_search(long_text, needle)"
   ]
  },
  {
   "cell_type": "code",
   "execution_count": 36,
   "metadata": {},
   "outputs": [
    {
     "name": "stdout",
     "output_type": "stream",
     "text": [
      "13 ms ± 681 µs per loop (mean ± std. dev. of 7 runs, 100 loops each)\n"
     ]
    }
   ],
   "source": [
    "%timeit boyer_moore(long_text, needle)"
   ]
  },
  {
   "attachments": {},
   "cell_type": "markdown",
   "metadata": {},
   "source": [
    "## Conclusion\n",
    "\n",
    "Boyer-Moore performs best when there are many potential \"easy losses\" - some character is present in the text but not in the pattern. \n",
    "\n",
    "KMP will be faster than brute force when the pattern has many repeated characters."
   ]
  }
 ],
 "metadata": {
  "kernelspec": {
   "display_name": "Python 3",
   "language": "python",
   "name": "python3"
  },
  "language_info": {
   "codemirror_mode": {
    "name": "ipython",
    "version": 3
   },
   "file_extension": ".py",
   "mimetype": "text/x-python",
   "name": "python",
   "nbconvert_exporter": "python",
   "pygments_lexer": "ipython3",
   "version": "3.11.4"
  },
  "orig_nbformat": 4
 },
 "nbformat": 4,
 "nbformat_minor": 2
}
