{
 "cells": [
  {
   "attachments": {},
   "cell_type": "markdown",
   "metadata": {},
   "source": [
    "# String Matching Algorithms\n",
    "\n",
    "## Description\n",
    "\n",
    "### String Matching\n",
    "\n",
    "String matching is a fundamental problem in computer science. It is the process of finding a given pattern(needle) in a text(target). The pattern can be a string or a sequence of characters or a regular expression. "
   ]
  },
  {
   "cell_type": "code",
   "execution_count": 5,
   "metadata": {},
   "outputs": [
    {
     "data": {
      "text/plain": [
       "(11, 11)"
      ]
     },
     "execution_count": 5,
     "metadata": {},
     "output_type": "execute_result"
    }
   ],
   "source": [
    "# in python we already have string find / index method\n",
    "text = \"RRRRTTRUUU RTUUUUURRTUUUUU\"\n",
    "text.find(\"RTU\"), text.index(\"RTU\")"
   ]
  },
  {
   "cell_type": "code",
   "execution_count": 6,
   "metadata": {},
   "outputs": [
    {
     "data": {
      "text/plain": [
       "11"
      ]
     },
     "execution_count": 6,
     "metadata": {},
     "output_type": "execute_result"
    }
   ],
   "source": [
    "def find_needle(text, needle):\n",
    "    '''\n",
    "    Brute force search for needle in text\n",
    "    '''\n",
    "    for i in range(len(text)):\n",
    "        # python slicing makes this easy\n",
    "        if text[i:i+len(needle)] == needle: \n",
    "            return i\n",
    "    return -1\n",
    "\n",
    "find_needle(text, \"RTU\")"
   ]
  },
  {
   "cell_type": "code",
   "execution_count": 7,
   "metadata": {},
   "outputs": [
    {
     "data": {
      "text/plain": [
       "11"
      ]
     },
     "execution_count": 7,
     "metadata": {},
     "output_type": "execute_result"
    }
   ],
   "source": [
    "# lets rewrite the above function without slicing\n",
    "def find_needle_no_slice(text, needle):\n",
    "    '''\n",
    "    Brute force search for needle in text\n",
    "    Not pythonic implementation - more like C\n",
    "    '''\n",
    "    for i in range(len(text)-len(needle)+1):\n",
    "        # python slicing makes this easy\n",
    "        for j in range(len(needle)):\n",
    "            if text[i+j] != needle[j]:\n",
    "                break\n",
    "        else: # this else is for the for loop, not the if\n",
    "            return i # if we didn't break out of the loop, we found the needle\n",
    "    return -1\n",
    "\n",
    "find_needle_no_slice(text, \"RTU\")"
   ]
  }
 ],
 "metadata": {
  "kernelspec": {
   "display_name": "Python 3",
   "language": "python",
   "name": "python3"
  },
  "language_info": {
   "codemirror_mode": {
    "name": "ipython",
    "version": 3
   },
   "file_extension": ".py",
   "mimetype": "text/x-python",
   "name": "python",
   "nbconvert_exporter": "python",
   "pygments_lexer": "ipython3",
   "version": "3.11.3"
  },
  "orig_nbformat": 4
 },
 "nbformat": 4,
 "nbformat_minor": 2
}
