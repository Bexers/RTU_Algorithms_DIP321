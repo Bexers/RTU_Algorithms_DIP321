{
 "cells": [
  {
   "cell_type": "markdown",
   "metadata": {},
   "source": [
    "# Sudoku solver using backtracking algorithm\n",
    "\n",
    "Basic idea is to use backtracking algorithm to solve the sudoku puzzle. The algorithm works as follows:\n",
    "1. Find the first empty cell in the puzzle\n",
    "2. Try to fill the cell with a number from 1 to 9\n",
    "3. If the number is valid, move to the next cell and repeat the process\n",
    "4. If the number is not valid, try the next number\n",
    "5. If no number is valid, backtrack to the previous cell and try the next number\n",
    "6. Repeat the process until the puzzle is solved\n",
    "\n",
    "So essentially this is a depth-first search algorithm.\n",
    "We will need to implement some helper functions to check if a number is valid in a given cell, and to find the next empty cell in the puzzle.\n",
    "\n",
    "We will be moving row by row, and for each row we will move column by column. We will also need to check the 3x3 subgrids to make sure the number is not repeated in the subgrid.\n",
    "\n",
    "We will also need to store previous states of the puzzle to be able to backtrack when we reach a dead end."
   ]
  },
  {
   "cell_type": "markdown",
   "metadata": {},
   "source": [
    "<img src=\"https://upload.wikimedia.org/wikipedia/commons/8/8c/Sudoku_solved_by_bactracking.gif\" width=\"400\">"
   ]
  },
  {
   "cell_type": "code",
   "execution_count": 1,
   "metadata": {},
   "outputs": [],
   "source": [
    "# we sill fill sudoko board with all 0's for now so 9x9 list of lists\n",
    "# TODO add OCR here... to read board... for now we will hardcode the board\n",
    "board = [\n",
    "    [0, 0, 0, 0, 0, 0, 0, 0, 0],\n",
    "    [0, 0, 0, 0, 0, 0, 0, 0, 0],\n",
    "    [0, 0, 0, 0, 0, 0, 0, 0, 0],\n",
    "    [0, 0, 0, 0, 0, 0, 0, 0, 0],\n",
    "    [0, 0, 0, 0, 0, 0, 0, 0, 0],\n",
    "    [0, 0, 0, 0, 0, 0, 0, 0, 0],\n",
    "    [0, 0, 0, 0, 0, 0, 0, 0, 0],\n",
    "    [0, 0, 0, 0, 0, 0, 0, 0, 0],\n",
    "    [0, 0, 0, 0, 0, 0, 0, 0, 0],\n",
    "]\n",
    "\n",
    "# we will store list of tuples the moves we've made\n",
    "# so we can backtrack if we need to\n",
    "moves = []\n",
    "\n",
    "counter = 0 # TODO remove this\n",
    "\n",
    "# then we will need 3 functions to check whether move is valid\n",
    "# 1. check row\n",
    "# 2. check column\n",
    "# 3. check square\n",
    "# we will write these functions first\n",
    "\n",
    "def check_row(board, row, number):\n",
    "    # we will iterate through the row and check if number is already present\n",
    "    for i in range(9): # TODO think if this can be optimized\n",
    "        if board[row][i] == number:\n",
    "            return False\n",
    "    return True\n",
    "\n",
    "def check_column(board, column, number):\n",
    "    # we will iterate through the column and check if number is already present\n",
    "    for i in range(9): # TODO think if this can be optimized\n",
    "        if board[i][column] == number:\n",
    "            return False\n",
    "    return True\n",
    "\n",
    "def check_square(board, row, column, number):\n",
    "    # we will iterate through the square and check if number is already present\n",
    "    # we will use integer division to find the start of the square\n",
    "    start_row = (row // 3) * 3 # so we use // integer division to find the start of the square\n",
    "    start_column = (column // 3) * 3\n",
    "    for i in range(3):\n",
    "        for j in range(3):\n",
    "            if board[start_row + i][start_column + j] == number:\n",
    "                return False\n",
    "    return True\n",
    "\n",
    "# now a function to check if move is valid\n",
    "def is_valid(board, row, column, number):\n",
    "    return check_row(board, row, number)\\\n",
    "        and check_column(board, column, number)\\\n",
    "        and check_square(board, row, column, number)\n",
    "\n",
    "\n",
    "\n",
    "# now we will write a function to solve the board\n",
    "def solve(board):\n",
    "    for i in range(9):\n",
    "        for j in range(9):\n",
    "            if board[i][j] == 0:\n",
    "                for number in range(1, 10):\n",
    "                    if is_valid(board, i, j, number):\n",
    "                        board[i][j] = number\n",
    "                        moves.append((i, j, number))\n",
    "                        global counter\n",
    "                        counter += 1 # TODO remove this\n",
    "                        if solve(board):\n",
    "                            return True\n",
    "                        board[i][j] = 0\n",
    "                        moves.pop()\n",
    "                return False\n",
    "    return True"
   ]
  },
  {
   "cell_type": "markdown",
   "metadata": {},
   "source": [
    "## Solving puzzle\n",
    "\n",
    "We are ready to run the algorithm just need to put some actual starting values in the puzzle.\n",
    "\n",
    "Let's use the values from wikipedia example:\n",
    "\n",
    "<img src=\"https://upload.wikimedia.org/wikipedia/commons/thumb/e/e0/Sudoku_Puzzle_by_L2G-20050714_standardized_layout.svg/520px-Sudoku_Puzzle_by_L2G-20050714_standardized_layout.svg.png\" width=\"400\">"
   ]
  },
  {
   "cell_type": "code",
   "execution_count": 2,
   "metadata": {},
   "outputs": [
    {
     "name": "stdout",
     "output_type": "stream",
     "text": [
      "30\n",
      "It took 4208 moves\n"
     ]
    }
   ],
   "source": [
    "board = [\n",
    "    [5, 3, 0, 0, 7, 0, 0, 0, 0],\n",
    "    [6, 0, 0, 1, 9, 5, 0, 0, 0],\n",
    "    [0, 9, 8, 0, 0, 0, 0, 6, 0],\n",
    "    [8, 0, 0, 0, 6, 0, 0, 0, 3],\n",
    "    [4, 0, 0, 8, 0, 3, 0, 0, 1],\n",
    "    [7, 0, 0, 0, 2, 0, 0, 0, 6],\n",
    "    [0, 6, 0, 0, 0, 0, 2, 8, 0],\n",
    "    [0, 0, 0, 4, 1, 9, 0, 0, 5],\n",
    "    [0, 0, 0, 0, 8, 0, 0, 7, 9],\n",
    "]\n",
    "# print how many non zero elements are there - this represents hardness of the board - 17 would be the hardest, and 81 would be the easiest\n",
    "# with less than 17 your puzzle would not be true sudoku because it would have multiple solutions\n",
    "print(sum([1 for i in board for j in i if j != 0]))\n",
    "moves = []\n",
    "counter = 0\n",
    "\n",
    "# now we can solve it\n",
    "solve(board)\n",
    "# print how many moves it took\n",
    "print(f\"It took {counter} moves\")"
   ]
  },
  {
   "cell_type": "code",
   "execution_count": 3,
   "metadata": {},
   "outputs": [
    {
     "name": "stdout",
     "output_type": "stream",
     "text": [
      "[5, 3, 4, 6, 7, 8, 9, 1, 2]\n",
      "[6, 7, 2, 1, 9, 5, 3, 4, 8]\n",
      "[1, 9, 8, 3, 4, 2, 5, 6, 7]\n",
      "[8, 5, 9, 7, 6, 1, 4, 2, 3]\n",
      "[4, 2, 6, 8, 5, 3, 7, 9, 1]\n",
      "[7, 1, 3, 9, 2, 4, 8, 5, 6]\n",
      "[9, 6, 1, 5, 3, 7, 2, 8, 4]\n",
      "[2, 8, 7, 4, 1, 9, 6, 3, 5]\n",
      "[3, 4, 5, 2, 8, 6, 1, 7, 9]\n"
     ]
    }
   ],
   "source": [
    "print(*board, sep='\\n') # so I unrolled the list of lists and printed it with new line separator"
   ]
  },
  {
   "cell_type": "code",
   "execution_count": 7,
   "metadata": {},
   "outputs": [
    {
     "data": {
      "text/plain": [
       "[(0, 2, 4),\n",
       " (0, 3, 6),\n",
       " (0, 5, 8),\n",
       " (0, 6, 9),\n",
       " (0, 7, 1),\n",
       " (0, 8, 2),\n",
       " (1, 1, 7),\n",
       " (1, 2, 2),\n",
       " (1, 6, 3),\n",
       " (1, 7, 4),\n",
       " (1, 8, 8),\n",
       " (2, 0, 1),\n",
       " (2, 3, 3),\n",
       " (2, 4, 4),\n",
       " (2, 5, 2),\n",
       " (2, 6, 5),\n",
       " (2, 8, 7),\n",
       " (3, 1, 5),\n",
       " (3, 2, 9),\n",
       " (3, 3, 7),\n",
       " (3, 5, 1),\n",
       " (3, 6, 4),\n",
       " (3, 7, 2),\n",
       " (4, 1, 2),\n",
       " (4, 2, 6),\n",
       " (4, 4, 5),\n",
       " (4, 6, 7),\n",
       " (4, 7, 9),\n",
       " (5, 1, 1),\n",
       " (5, 2, 3),\n",
       " (5, 3, 9),\n",
       " (5, 5, 4),\n",
       " (5, 6, 8),\n",
       " (5, 7, 5),\n",
       " (6, 0, 9),\n",
       " (6, 2, 1),\n",
       " (6, 3, 5),\n",
       " (6, 4, 3),\n",
       " (6, 5, 7),\n",
       " (6, 8, 4),\n",
       " (7, 0, 2),\n",
       " (7, 1, 8),\n",
       " (7, 2, 7),\n",
       " (7, 6, 6),\n",
       " (7, 7, 3),\n",
       " (8, 0, 3),\n",
       " (8, 1, 4),\n",
       " (8, 2, 5),\n",
       " (8, 3, 2),\n",
       " (8, 5, 6),\n",
       " (8, 6, 1)]"
      ]
     },
     "execution_count": 7,
     "metadata": {},
     "output_type": "execute_result"
    }
   ],
   "source": [
    "moves"
   ]
  },
  {
   "cell_type": "markdown",
   "metadata": {},
   "source": [
    "## Master puzzle\n",
    "\n",
    "[Src: sudoku.com](http://sudoku.com)"
   ]
  },
  {
   "cell_type": "code",
   "execution_count": 15,
   "metadata": {},
   "outputs": [
    {
     "name": "stdout",
     "output_type": "stream",
     "text": [
      "23\n",
      "It took 30007 moves\n"
     ]
    }
   ],
   "source": [
    "board = [\n",
    "    [1, 0, 6, 9, 0, 0, 0, 0, 0],\n",
    "    [0, 3, 0, 0, 5, 0, 0, 2, 8],\n",
    "    [0, 0, 0, 0, 0, 0, 4, 0, 0],\n",
    "    [8, 0, 0, 0, 0, 5, 0, 0, 0],\n",
    "    [0, 0, 0, 0, 0, 0, 0, 0, 7],\n",
    "    [0, 2, 0, 0, 8, 0, 0, 1, 3],\n",
    "    [0, 4, 0, 0, 0, 0, 5, 0, 0],\n",
    "    [0, 0, 0, 0, 1, 0, 7, 0, 0],\n",
    "    [0, 0, 3, 0, 0, 6, 0, 4, 1],\n",
    "]\n",
    "# should be 23 non zero elements\n",
    "print(sum([1 for i in board for j in i if j != 0]))\n",
    "# we will store list of tuples the moves we've made\n",
    "# so we can backtrack if we need to\n",
    "moves = []\n",
    "counter = 0\n",
    "# let's solve it!\n",
    "solve(board)\n",
    "# print how many positions we've tried\n",
    "print(f\"It took {counter} moves\")"
   ]
  },
  {
   "cell_type": "code",
   "execution_count": 10,
   "metadata": {},
   "outputs": [
    {
     "name": "stdout",
     "output_type": "stream",
     "text": [
      "[1, 8, 6, 9, 4, 2, 3, 7, 5]\n",
      "[9, 3, 4, 6, 5, 7, 1, 2, 8]\n",
      "[5, 7, 2, 1, 3, 8, 4, 6, 9]\n",
      "[8, 1, 7, 3, 6, 5, 2, 9, 4]\n",
      "[3, 6, 9, 4, 2, 1, 8, 5, 7]\n",
      "[4, 2, 5, 7, 8, 9, 6, 1, 3]\n",
      "[7, 4, 1, 2, 9, 3, 5, 8, 6]\n",
      "[6, 9, 8, 5, 1, 4, 7, 3, 2]\n",
      "[2, 5, 3, 8, 7, 6, 9, 4, 1]\n"
     ]
    }
   ],
   "source": [
    "print(*board, sep='\\n')"
   ]
  },
  {
   "cell_type": "markdown",
   "metadata": {},
   "source": [
    "## Anti-backtracking puzzle\n",
    "\n",
    "Src: \n",
    "<img src=\"https://upload.wikimedia.org/wikipedia/commons/thumb/e/ed/Sudoku_puzzle_hard_for_brute_force.svg/520px-Sudoku_puzzle_hard_for_brute_force.svg.png\" width=\"400\">"
   ]
  },
  {
   "cell_type": "code",
   "execution_count": 18,
   "metadata": {},
   "outputs": [
    {
     "name": "stdout",
     "output_type": "stream",
     "text": [
      "17\n"
     ]
    }
   ],
   "source": [
    "no_way_board = [\n",
    "    [0, 0, 0, 0, 0, 0, 0, 0, 0],\n",
    "    [0, 0, 0, 0, 0, 3, 0, 8, 5],\n",
    "    [0, 0, 1, 0, 2, 0, 0, 0, 0],\n",
    "    [0, 0, 0, 5, 0, 7, 0, 0, 0],\n",
    "    [0, 0, 4, 0, 0, 0, 1, 0, 0],\n",
    "    [0, 9, 0, 0, 0, 0, 0, 0, 0],\n",
    "    [5, 0, 0, 0, 0, 0, 0, 7, 3],\n",
    "    [0, 0, 2, 0, 1, 0, 0, 0, 0],\n",
    "    [0, 0, 0, 0, 4, 0, 0, 0, 9],\n",
    "]\n",
    "\n",
    "# we will store list of tuples the moves we've made\n",
    "# so we can backtrack if we need to\n",
    "moves = []\n",
    "\n",
    "counter = 0 # TODO remove this\n",
    "\n",
    "# print how many non zero elements are there\n",
    "print(sum([1 for i in no_way_board for j in i if j != 0]))\n",
    "\n",
    "# this should take a while\n",
    "# solve(no_way_board)"
   ]
  },
  {
   "cell_type": "code",
   "execution_count": 18,
   "metadata": {},
   "outputs": [
    {
     "data": {
      "text/plain": [
       "4029061"
      ]
     },
     "execution_count": 18,
     "metadata": {},
     "output_type": "execute_result"
    }
   ],
   "source": [
    "counter\n",
    "# so 4029061 moves after 90 seconds and no end in sight"
   ]
  },
  {
   "cell_type": "markdown",
   "metadata": {},
   "source": [
    "## Blank board\n",
    "\n",
    "Technically not a true sudoku puzzle since we have multiple solutions, but we can use it to test the solver."
   ]
  },
  {
   "cell_type": "code",
   "execution_count": 4,
   "metadata": {},
   "outputs": [
    {
     "name": "stdout",
     "output_type": "stream",
     "text": [
      "0\n"
     ]
    },
    {
     "data": {
      "text/plain": [
       "True"
      ]
     },
     "execution_count": 4,
     "metadata": {},
     "output_type": "execute_result"
    }
   ],
   "source": [
    "board = [\n",
    "    [0, 0, 0, 0, 0, 0, 0, 0, 0],\n",
    "    [0, 0, 0, 0, 0, 0, 0, 0, 0],\n",
    "    [0, 0, 0, 0, 0, 0, 0, 0, 0],\n",
    "    [0, 0, 0, 0, 0, 0, 0, 0, 0],\n",
    "    [0, 0, 0, 0, 0, 0, 0, 0, 0],\n",
    "    [0, 0, 0, 0, 0, 0, 0, 0, 0],\n",
    "    [0, 0, 0, 0, 0, 0, 0, 0, 0],\n",
    "    [0, 0, 0, 0, 0, 0, 0, 0, 0],\n",
    "    [0, 0, 0, 0, 0, 0, 0, 0, 0],\n",
    "]\n",
    "\n",
    "# we will store list of tuples the moves we've made\n",
    "# so we can backtrack if we need to\n",
    "moves = []\n",
    "\n",
    "counter = 0 # TODO remove this\n",
    "\n",
    "# print how many non zero elements are there\n",
    "print(sum([1 for i in board for j in i if j != 0]))\n",
    "\n",
    "# now let's solve it\n",
    "solve(board)"
   ]
  },
  {
   "cell_type": "code",
   "execution_count": 5,
   "metadata": {},
   "outputs": [
    {
     "name": "stdout",
     "output_type": "stream",
     "text": [
      "It took 391 moves\n"
     ]
    }
   ],
   "source": [
    "# how many moves?\n",
    "print(f\"It took {counter} moves\")"
   ]
  },
  {
   "cell_type": "code",
   "execution_count": 6,
   "metadata": {},
   "outputs": [
    {
     "name": "stdout",
     "output_type": "stream",
     "text": [
      "[1, 2, 3, 4, 5, 6, 7, 8, 9]\n",
      "[4, 5, 6, 7, 8, 9, 1, 2, 3]\n",
      "[7, 8, 9, 1, 2, 3, 4, 5, 6]\n",
      "[2, 1, 4, 3, 6, 5, 8, 9, 7]\n",
      "[3, 6, 5, 8, 9, 7, 2, 1, 4]\n",
      "[8, 9, 7, 2, 1, 4, 3, 6, 5]\n",
      "[5, 3, 1, 6, 4, 2, 9, 7, 8]\n",
      "[6, 4, 2, 9, 7, 8, 5, 3, 1]\n",
      "[9, 7, 8, 5, 3, 1, 6, 4, 2]\n"
     ]
    }
   ],
   "source": [
    "# let's see the board\n",
    "print(*board, sep='\\n')"
   ]
  },
  {
   "cell_type": "markdown",
   "metadata": {},
   "source": [
    "## Sudoku solver with backtracking algorithm but no recursion\n",
    "\n",
    "We can reuses our helper functions but our solve function will be different. We will use a stack to store the state of the puzzle and we will use a while loop to iterate through the puzzle. We will also use a flag to indicate if we are moving forward or backward in the puzzle."
   ]
  },
  {
   "cell_type": "code",
   "execution_count": 15,
   "metadata": {},
   "outputs": [
    {
     "name": "stdout",
     "output_type": "stream",
     "text": [
      "[5, 3, 4, 6, 7, 8, 9, 1, 2]\n",
      "[6, 7, 2, 1, 9, 5, 3, 4, 8]\n",
      "[1, 9, 8, 3, 4, 2, 5, 6, 7]\n",
      "[8, 5, 9, 7, 6, 1, 4, 2, 3]\n",
      "[4, 2, 6, 8, 5, 3, 7, 9, 1]\n",
      "[7, 1, 3, 9, 2, 4, 8, 5, 6]\n",
      "[9, 6, 1, 5, 3, 7, 2, 8, 4]\n",
      "[2, 8, 7, 4, 1, 9, 6, 3, 5]\n",
      "[3, 4, 5, 2, 8, 6, 1, 7, 9]\n"
     ]
    }
   ],
   "source": [
    "# so solver without recursion\n",
    "# we will need a helper function to get next legal move\n",
    "# def get_next_move(board, row, column):\n",
    "#     for i in range(row, 9):\n",
    "#         for j in range(column, 9):\n",
    "#             if board[i][j] == 0:\n",
    "#                 return i, j\n",
    "#     return -1, -1 # so means no legal moves left w\n",
    "\n",
    "def get_next_move(board, row, column):\n",
    "    for i in range(row, -1, -1):\n",
    "        for j in range(column, -1, -1):\n",
    "            if board[i][j] == 0:\n",
    "                return i, j\n",
    "    return -1, -1 # so means no legal moves left w\n",
    "\n",
    "def solve_it(board):\n",
    "    moves = []\n",
    "    row, column = 8, 8 \n",
    "    row, column = get_next_move(board, row, column)\n",
    "    number = 1\n",
    "    counter = 1 # we will count how many moves we've made\n",
    "    while row != -1 and column != -1:\n",
    "        counter += 1\n",
    "        if is_valid(board, row, column, number):\n",
    "            board[row][column] = number\n",
    "            moves.append((row, column, number))\n",
    "            # row, column = get_next_move(board, row, column)\n",
    "            row, column = get_next_move(board, 8, 8) # FIXME\n",
    "            number = 1\n",
    "            \n",
    "        else:\n",
    "            number += 1\n",
    "            while number > 9:\n",
    "                board[row][column] = 0\n",
    "                row, column, number = moves.pop()\n",
    "                number += 1\n",
    "    return board, moves, counter\n",
    "\n",
    "board = [\n",
    "    [5, 3, 0, 0, 7, 0, 0, 0, 0],\n",
    "    [6, 0, 0, 1, 9, 5, 0, 0, 0],\n",
    "    [0, 9, 8, 0, 0, 0, 0, 6, 0],\n",
    "    [8, 0, 0, 0, 6, 0, 0, 0, 3],\n",
    "    [4, 0, 0, 8, 0, 3, 0, 0, 1],\n",
    "    [7, 0, 0, 0, 2, 0, 0, 0, 6],\n",
    "    [0, 6, 0, 0, 0, 0, 2, 8, 0],\n",
    "    [0, 0, 0, 4, 1, 9, 0, 0, 5],\n",
    "    [0, 0, 0, 0, 8, 0, 0, 7, 9],\n",
    "]\n",
    "solved_board, moves, tries = solve_it(board)\n",
    "print(*solved_board, sep='\\n')"
   ]
  },
  {
   "cell_type": "code",
   "execution_count": 31,
   "metadata": {},
   "outputs": [
    {
     "data": {
      "text/plain": [
       "[(0, 2, 4),\n",
       " (0, 3, 6),\n",
       " (0, 5, 8),\n",
       " (0, 6, 9),\n",
       " (0, 7, 1),\n",
       " (0, 8, 2),\n",
       " (1, 1, 7),\n",
       " (1, 2, 2),\n",
       " (1, 6, 3),\n",
       " (1, 7, 4),\n",
       " (1, 8, 8),\n",
       " (2, 0, 1),\n",
       " (2, 3, 3),\n",
       " (2, 4, 4),\n",
       " (2, 5, 2),\n",
       " (2, 6, 5),\n",
       " (2, 8, 7),\n",
       " (3, 1, 5),\n",
       " (3, 2, 9),\n",
       " (3, 3, 7),\n",
       " (3, 5, 1),\n",
       " (3, 6, 4),\n",
       " (3, 7, 2),\n",
       " (4, 1, 2),\n",
       " (4, 2, 6),\n",
       " (4, 4, 5),\n",
       " (4, 6, 7),\n",
       " (4, 7, 9),\n",
       " (5, 1, 1),\n",
       " (5, 2, 3),\n",
       " (5, 3, 9),\n",
       " (5, 5, 4),\n",
       " (5, 6, 8),\n",
       " (5, 7, 5),\n",
       " (6, 0, 9),\n",
       " (6, 2, 1),\n",
       " (6, 3, 5),\n",
       " (6, 4, 3),\n",
       " (6, 5, 7),\n",
       " (6, 8, 4),\n",
       " (7, 0, 2),\n",
       " (7, 1, 8),\n",
       " (7, 2, 7),\n",
       " (7, 6, 6),\n",
       " (7, 7, 3),\n",
       " (8, 0, 3),\n",
       " (8, 1, 4),\n",
       " (8, 2, 5),\n",
       " (8, 3, 2),\n",
       " (8, 5, 6),\n",
       " (8, 6, 1)]"
      ]
     },
     "execution_count": 31,
     "metadata": {},
     "output_type": "execute_result"
    }
   ],
   "source": [
    "moves"
   ]
  },
  {
   "cell_type": "code",
   "execution_count": 34,
   "metadata": {},
   "outputs": [
    {
     "name": "stdout",
     "output_type": "stream",
     "text": [
      "[5, 3, 4, 6, 7, 8, 9, 1, 2]\n",
      "[6, 7, 2, 1, 9, 5, 3, 4, 8]\n",
      "[1, 9, 8, 3, 4, 2, 5, 6, 7]\n",
      "[8, 5, 9, 7, 6, 1, 4, 2, 3]\n",
      "[4, 2, 6, 8, 5, 3, 7, 9, 1]\n",
      "[7, 1, 3, 9, 2, 4, 8, 5, 6]\n",
      "[9, 6, 1, 5, 3, 7, 2, 8, 4]\n",
      "[2, 8, 7, 4, 1, 9, 6, 3, 5]\n",
      "[3, 4, 5, 2, 8, 6, 1, 7, 9]\n"
     ]
    }
   ],
   "source": [
    "print(*board, sep='\\n')"
   ]
  },
  {
   "cell_type": "code",
   "execution_count": 17,
   "metadata": {},
   "outputs": [
    {
     "name": "stdout",
     "output_type": "stream",
     "text": [
      "[2, 3, 8, 9, 5, 4, 7, 6, 1]\n",
      "[4, 6, 9, 1, 7, 3, 2, 8, 5]\n",
      "[7, 5, 1, 6, 2, 8, 9, 3, 4]\n",
      "[6, 1, 3, 5, 9, 7, 8, 4, 2]\n",
      "[8, 0, 4, 0, 0, 0, 1, 0, 0]\n",
      "[0, 9, 0, 0, 0, 0, 0, 0, 0]\n",
      "[5, 0, 0, 0, 0, 0, 0, 7, 3]\n",
      "[0, 0, 2, 0, 1, 0, 0, 0, 0]\n",
      "[0, 0, 0, 0, 4, 0, 0, 0, 9]\n"
     ]
    }
   ],
   "source": [
    "# let's print our no_way_board\n",
    "print(*no_way_board, sep='\\n')"
   ]
  },
  {
   "cell_type": "code",
   "execution_count": 19,
   "metadata": {},
   "outputs": [],
   "source": [
    "# let's try solvin the no_way_board\n",
    "solved_board, moves, tries = solve_it(no_way_board)"
   ]
  },
  {
   "cell_type": "code",
   "execution_count": 20,
   "metadata": {},
   "outputs": [
    {
     "name": "stdout",
     "output_type": "stream",
     "text": [
      "[9, 8, 7, 6, 5, 4, 3, 2, 1]\n",
      "[2, 4, 6, 1, 7, 3, 9, 8, 5]\n",
      "[3, 5, 1, 9, 2, 8, 7, 4, 6]\n",
      "[1, 2, 8, 5, 3, 7, 6, 9, 4]\n",
      "[6, 3, 4, 8, 9, 2, 1, 5, 7]\n",
      "[7, 9, 5, 4, 6, 1, 8, 3, 2]\n",
      "[5, 1, 9, 2, 8, 6, 4, 7, 3]\n",
      "[4, 7, 2, 3, 1, 9, 5, 6, 8]\n",
      "[8, 6, 3, 7, 4, 5, 2, 1, 9]\n"
     ]
    }
   ],
   "source": [
    "# print solved_board\n",
    "print(*solved_board, sep='\\n')"
   ]
  },
  {
   "cell_type": "code",
   "execution_count": 21,
   "metadata": {},
   "outputs": [
    {
     "name": "stdout",
     "output_type": "stream",
     "text": [
      "It took 4664220 moves\n"
     ]
    }
   ],
   "source": [
    "print(f'It took {tries} moves')"
   ]
  },
  {
   "cell_type": "markdown",
   "metadata": {},
   "source": [
    "## Bonus add API access for more puzzles\n",
    "\n",
    "There is an API at https://sudoku-api.vercel.app/api/dosuku that we can use to get more puzzles.\n",
    "\n",
    "So you could use json library together with requests to get more puzzles."
   ]
  },
  {
   "cell_type": "code",
   "execution_count": 25,
   "metadata": {},
   "outputs": [
    {
     "name": "stdout",
     "output_type": "stream",
     "text": [
      "We will access this url: https://sudoku-api.vercel.app/api/dosuku\n"
     ]
    }
   ],
   "source": [
    "# let's use requests library in Python to access this API for new puzzle\n",
    "import requests\n",
    "import json\n",
    "\n",
    "url = 'https://sudoku-api.vercel.app/api/dosuku'\n",
    "print(f\"We will access this url: {url}\")\n"
   ]
  },
  {
   "cell_type": "code",
   "execution_count": 28,
   "metadata": {},
   "outputs": [
    {
     "name": "stdout",
     "output_type": "stream",
     "text": [
      "[1, 0, 0, 6, 0, 0, 0, 0, 0]\n",
      "[7, 0, 0, 0, 5, 1, 0, 0, 0]\n",
      "[8, 6, 0, 0, 0, 0, 5, 0, 0]\n",
      "[0, 0, 6, 3, 4, 0, 0, 8, 0]\n",
      "[5, 0, 8, 0, 7, 2, 0, 0, 0]\n",
      "[3, 0, 7, 5, 0, 0, 0, 0, 0]\n",
      "[0, 0, 0, 2, 0, 4, 0, 0, 0]\n",
      "[0, 8, 0, 0, 0, 0, 9, 0, 3]\n",
      "[0, 7, 0, 0, 3, 6, 0, 2, 0]\n"
     ]
    }
   ],
   "source": [
    "# let's make a function to get board from url\n",
    "def get_board(url):\n",
    "    response = requests.get(url)\n",
    "    # check STATUS CODE\n",
    "    if response.status_code == 200:\n",
    "        board = json.loads(response.content)['newboard']['grids'][0]['value']\n",
    "        solution = json.loads(response.content)['newboard']['grids'][0]['solution']\n",
    "        \n",
    "        print(*board, sep='\\n')\n",
    "    else:\n",
    "        print('Error', response.status_code)\n",
    "        return None,None\n",
    "    return board,solution\n",
    "\n",
    "board,solution = get_board(url)"
   ]
  },
  {
   "cell_type": "code",
   "execution_count": 29,
   "metadata": {},
   "outputs": [
    {
     "name": "stdout",
     "output_type": "stream",
     "text": [
      "[1, 5, 4, 6, 8, 3, 2, 7, 9]\n",
      "[7, 2, 9, 4, 5, 1, 6, 3, 8]\n",
      "[8, 6, 3, 9, 2, 7, 5, 1, 4]\n",
      "[2, 1, 6, 3, 4, 9, 7, 8, 5]\n",
      "[5, 4, 8, 1, 7, 2, 3, 9, 6]\n",
      "[3, 9, 7, 5, 6, 8, 1, 4, 2]\n",
      "[6, 3, 1, 2, 9, 4, 8, 5, 7]\n",
      "[4, 8, 2, 7, 1, 5, 9, 6, 3]\n",
      "[9, 7, 5, 8, 3, 6, 4, 2, 1]\n"
     ]
    }
   ],
   "source": [
    "# now let's solve our board\n",
    "solved_board, moves, tries = solve_it(board)\n",
    "#print solution\n",
    "print(*solved_board, sep='\\n')"
   ]
  },
  {
   "cell_type": "code",
   "execution_count": 30,
   "metadata": {},
   "outputs": [
    {
     "name": "stdout",
     "output_type": "stream",
     "text": [
      "[1, 5, 4, 6, 2, 3, 8, 7, 9]\n",
      "[7, 2, 9, 8, 5, 1, 3, 6, 4]\n",
      "[8, 6, 3, 4, 9, 7, 5, 1, 2]\n",
      "[2, 1, 6, 3, 4, 9, 7, 8, 5]\n",
      "[5, 9, 8, 1, 7, 2, 4, 3, 6]\n",
      "[3, 4, 7, 5, 6, 8, 2, 9, 1]\n",
      "[9, 3, 1, 2, 8, 4, 6, 5, 7]\n",
      "[6, 8, 2, 7, 1, 5, 9, 4, 3]\n",
      "[4, 7, 5, 9, 3, 6, 1, 2, 8]\n"
     ]
    }
   ],
   "source": [
    "# print solution\n",
    "print(*solution, sep='\\n')"
   ]
  },
  {
   "cell_type": "code",
   "execution_count": null,
   "metadata": {},
   "outputs": [],
   "source": [
    "# TODO make a function that checks if board is a valid sudoku solution"
   ]
  }
 ],
 "metadata": {
  "kernelspec": {
   "display_name": "Python 3",
   "language": "python",
   "name": "python3"
  },
  "language_info": {
   "codemirror_mode": {
    "name": "ipython",
    "version": 3
   },
   "file_extension": ".py",
   "mimetype": "text/x-python",
   "name": "python",
   "nbconvert_exporter": "python",
   "pygments_lexer": "ipython3",
   "version": "3.11.4"
  }
 },
 "nbformat": 4,
 "nbformat_minor": 2
}
