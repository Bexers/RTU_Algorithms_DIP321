{
  "cells": [
    {
      "cell_type": "markdown",
      "metadata": {
        "id": "gGAaI579H4RH"
      },
      "source": [
        "* Visualization of these concepts: https://visualgo.net/en\n",
        "\n",
        "* https://www.geeksforgeeks.org/ - many implementations"
      ]
    },
    {
      "cell_type": "code",
      "execution_count": null,
      "metadata": {
        "id": "uBpidMfFH4RK"
      },
      "outputs": [],
      "source": [
        "# Selection sort was\n",
        "# starting from one end or our sequence\n",
        "# select min or max out of unsorted and place in the sequence\n",
        "# keep going backwards or forwards\n",
        "# problem was that min (or max) call would be linear\n",
        "# min or max call would need to go through all the unsorted values each time\n",
        "# what if we had a data structure which lets us get the min or max in better than linear time?\n",
        "# turns out there is such a structure - heap"
      ]
    },
    {
      "cell_type": "markdown",
      "metadata": {
        "id": "4jiq1TdoH4RL"
      },
      "source": [
        "## Heap sort\n",
        "* Selection sort where we utilize a better structure for storing max(or min values)\n",
        "* https://www.cs.usfca.edu/~galles/visualization/Heap.html\n",
        "\n",
        "* https://www.cs.usfca.edu/~galles/visualization/HeapSort.html"
      ]
    },
    {
      "cell_type": "code",
      "execution_count": null,
      "metadata": {
        "id": "wBEjs9xXH4RM"
      },
      "outputs": [],
      "source": [
        "## Heap sort is a selection algorithm\n",
        "# we go through our iterable and select the min or max value out of the unsorted\n",
        "# the only improvement is that we use a more efficient data structure for storing the min or max values(we have to pick side)\n",
        "# the problem was that we had to go through all the unsorted values constantly and look for that min or max\n",
        "# that's where O(n^2) comes from"
      ]
    },
    {
      "cell_type": "code",
      "execution_count": null,
      "metadata": {
        "id": "q3CMj2j0H4RM"
      },
      "outputs": [],
      "source": [
        "## https://www.cs.usfca.edu/~galles/visualization/Heap.html - heap data structure visualization"
      ]
    },
    {
      "cell_type": "code",
      "execution_count": 1,
      "metadata": {
        "id": "g8nVVCtDH4RM"
      },
      "outputs": [],
      "source": [
        "import heapq #we are using an existing library of heap data structure\n",
        "def simple_heap_sort(iterable):\n",
        "    heapq.heapify(iterable) # guaranteed linear time by the library but it is IN PLACE\n",
        "    # even if heapify was O(n log n) it would still be good for our purpose\n",
        "    return [heapq.heappop(iterable) for i in range(len(iterable))] # so no IndexErrors \n",
        "# heappop call is O(log n) so we get our O(n log n)\n",
        "# complexity comes from the single [heapq.heappop(iterable) for i in range(len(iterable))]"
      ]
    },
    {
      "cell_type": "code",
      "execution_count": 2,
      "metadata": {
        "id": "jh4DlagpH4RN",
        "outputId": "ffe06174-7884-4fdf-f3b7-d800d296edb2",
        "colab": {
          "base_uri": "https://localhost:8080/"
        }
      },
      "outputs": [
        {
          "output_type": "execute_result",
          "data": {
            "text/plain": [
              "[-33, -2, 0, 1, 1, 2, 5, 6, 6, 6, 7, 21, 21, 34, 656]"
            ]
          },
          "metadata": {},
          "execution_count": 2
        }
      ],
      "source": [
        "simple_heap_sort([1,34,6,21,6,1,21,656,6,2,7,0,-33,-2,5])"
      ]
    },
    {
      "cell_type": "code",
      "execution_count": null,
      "metadata": {
        "id": "wYIAmFmGH4RO"
      },
      "outputs": [],
      "source": [
        "# so our simple heap sort algorithms nicely but in the process of heapify IN PLACE we destroy the original order"
      ]
    },
    {
      "cell_type": "code",
      "execution_count": 3,
      "metadata": {
        "id": "44wYtszOH4RO"
      },
      "outputs": [],
      "source": [
        "import random\n",
        "r10k = [random.randint(1,1_000_000) for n in range(10_000)]\n",
        "r100k = [random.randint(1,1_000_000) for n in range(100_000)]\n",
        "r1m = [random.randint(1,10_000_000) for n in range(1_000_000)]"
      ]
    },
    {
      "cell_type": "code",
      "execution_count": null,
      "metadata": {
        "id": "37hExaGtH4RP"
      },
      "outputs": [],
      "source": []
    },
    {
      "cell_type": "code",
      "execution_count": 4,
      "metadata": {
        "id": "SB54Swt8H4RP"
      },
      "outputs": [],
      "source": [
        "# we could use already provided heap data structure in many languages\n",
        "# in Python https://docs.python.org/3/library/heapq.html\n",
        "# import heapq\n",
        "def heapsort(iterable):\n",
        "    h = [] # we are going to put our heap in a new structure\n",
        "    # so making our heap will be O(n log n) which is fine for our purpose\n",
        "    for value in iterable:\n",
        "         heapq.heappush(h, value)\n",
        "    return [heapq.heappop(h) for i in range(len(h))]"
      ]
    },
    {
      "cell_type": "code",
      "execution_count": 5,
      "metadata": {
        "id": "9AnKMJV3H4RQ",
        "outputId": "95bb07ca-1f24-4473-d952-cb2d5e9d2689",
        "colab": {
          "base_uri": "https://localhost:8080/"
        }
      },
      "outputs": [
        {
          "output_type": "execute_result",
          "data": {
            "text/plain": [
              "[-3, 1, 2, 3, 3, 6, 7, 21, 67]"
            ]
          },
          "metadata": {},
          "execution_count": 5
        }
      ],
      "source": [
        "heapsort([1,3,6,21,2,3,67,-3,7])"
      ]
    },
    {
      "cell_type": "code",
      "execution_count": 6,
      "metadata": {
        "id": "T8XIBB_AH4RQ",
        "outputId": "6a39f118-439c-4503-e7f6-0d6d4b373d42",
        "colab": {
          "base_uri": "https://localhost:8080/"
        }
      },
      "outputs": [
        {
          "output_type": "execute_result",
          "data": {
            "text/plain": [
              "[12, 14, 19, 20, 21, 23, 26, 32, 37, 63]"
            ]
          },
          "metadata": {},
          "execution_count": 6
        }
      ],
      "source": [
        "nlist = heapsort(r100k)\n",
        "nlist[:10]"
      ]
    },
    {
      "cell_type": "code",
      "execution_count": 7,
      "metadata": {
        "id": "CI75CSRHH4RQ",
        "outputId": "04139ea3-b172-4068-8e9b-2c63a513a2f7",
        "colab": {
          "base_uri": "https://localhost:8080/"
        }
      },
      "outputs": [
        {
          "output_type": "execute_result",
          "data": {
            "text/plain": [
              "[28582, 895931, 842170, 419497, 623143]"
            ]
          },
          "metadata": {},
          "execution_count": 7
        }
      ],
      "source": [
        "r100k[:5] # so our original numbers are still unsorted before running our timeit"
      ]
    },
    {
      "cell_type": "code",
      "execution_count": 8,
      "metadata": {
        "id": "uzuBjMwaH4RQ",
        "outputId": "b0d635e9-6706-4c82-e110-22d378c3dacb",
        "colab": {
          "base_uri": "https://localhost:8080/"
        }
      },
      "outputs": [
        {
          "output_type": "stream",
          "name": "stdout",
          "text": [
            "6.25 ms ± 96.6 µs per loop (mean ± std. dev. of 7 runs, 100 loops each)\n"
          ]
        }
      ],
      "source": [
        "%%timeit\n",
        "heapsort(r10k)"
      ]
    },
    {
      "cell_type": "code",
      "source": [
        "%%timeit\n",
        "sorted(r10k)"
      ],
      "metadata": {
        "id": "PbSM-UI8Kx9W",
        "outputId": "a39f80ce-f455-4350-fb14-09e5f3561a74",
        "colab": {
          "base_uri": "https://localhost:8080/"
        }
      },
      "execution_count": 9,
      "outputs": [
        {
          "output_type": "stream",
          "name": "stdout",
          "text": [
            "1.67 ms ± 171 µs per loop (mean ± std. dev. of 7 runs, 1000 loops each)\n"
          ]
        }
      ]
    },
    {
      "cell_type": "code",
      "execution_count": 10,
      "metadata": {
        "id": "lN3NaskFH4RR",
        "outputId": "70555f4e-3658-4ed1-c7d4-3212b2a1fec5",
        "colab": {
          "base_uri": "https://localhost:8080/"
        }
      },
      "outputs": [
        {
          "output_type": "stream",
          "name": "stdout",
          "text": [
            "120 ms ± 27.6 ms per loop (mean ± std. dev. of 7 runs, 10 loops each)\n"
          ]
        }
      ],
      "source": [
        "%%timeit\n",
        "heapsort(r100k)"
      ]
    },
    {
      "cell_type": "code",
      "source": [
        "%%timeit\n",
        "sorted(r100k)"
      ],
      "metadata": {
        "id": "ku82l9ltLC8m",
        "outputId": "7f1d604b-6efd-4034-a360-3d0cb2f803dd",
        "colab": {
          "base_uri": "https://localhost:8080/"
        }
      },
      "execution_count": 11,
      "outputs": [
        {
          "output_type": "stream",
          "name": "stdout",
          "text": [
            "33.9 ms ± 2.71 ms per loop (mean ± std. dev. of 7 runs, 10 loops each)\n"
          ]
        }
      ]
    },
    {
      "cell_type": "code",
      "execution_count": 12,
      "metadata": {
        "id": "8jT2v9xDH4RR",
        "outputId": "f7b45e33-8556-4391-c6ae-ef53639bf3cb",
        "colab": {
          "base_uri": "https://localhost:8080/"
        }
      },
      "outputs": [
        {
          "output_type": "stream",
          "name": "stdout",
          "text": [
            "2.24 s ± 193 ms per loop (mean ± std. dev. of 7 runs, 1 loop each)\n"
          ]
        }
      ],
      "source": [
        "%%timeit\n",
        "heapsort(r1m)"
      ]
    },
    {
      "cell_type": "code",
      "source": [
        "%%timeit\n",
        "sorted(r1m)"
      ],
      "metadata": {
        "id": "vlThnIDhL6-E",
        "outputId": "0f894238-8560-454f-c800-8161faae7692",
        "colab": {
          "base_uri": "https://localhost:8080/"
        }
      },
      "execution_count": 13,
      "outputs": [
        {
          "output_type": "stream",
          "name": "stdout",
          "text": [
            "392 ms ± 6.87 ms per loop (mean ± std. dev. of 7 runs, 1 loop each)\n"
          ]
        }
      ]
    },
    {
      "cell_type": "code",
      "source": [
        "sorted_1m = heapsort(r1m)\n",
        "sorted_1m[:5], sorted_1m[-5:]"
      ],
      "metadata": {
        "id": "b1p5-UteMEmO",
        "outputId": "dc72f8ba-3826-48a9-a06f-b3b8f90b1e56",
        "colab": {
          "base_uri": "https://localhost:8080/"
        }
      },
      "execution_count": 14,
      "outputs": [
        {
          "output_type": "execute_result",
          "data": {
            "text/plain": [
              "([5, 11, 32, 35, 37], [9999942, 9999950, 9999960, 9999960, 9999973])"
            ]
          },
          "metadata": {},
          "execution_count": 14
        }
      ]
    },
    {
      "cell_type": "code",
      "source": [
        "%%timeit\n",
        "heapsort(sorted_1m)"
      ],
      "metadata": {
        "id": "szUme5pjMM7r",
        "outputId": "2843d71a-7ed6-4fb7-b6be-7658f89db711",
        "colab": {
          "base_uri": "https://localhost:8080/"
        }
      },
      "execution_count": 15,
      "outputs": [
        {
          "output_type": "stream",
          "name": "stdout",
          "text": [
            "1.37 s ± 245 ms per loop (mean ± std. dev. of 7 runs, 1 loop each)\n"
          ]
        }
      ]
    },
    {
      "cell_type": "code",
      "source": [
        "%%timeit\n",
        "sorted(sorted_1m)\n",
        "# bubble sort in this best case should be close to this..."
      ],
      "metadata": {
        "id": "5vE62D6bMbp7",
        "outputId": "adc2a10c-058b-4383-9921-f1990b38cb37",
        "colab": {
          "base_uri": "https://localhost:8080/"
        }
      },
      "execution_count": 16,
      "outputs": [
        {
          "output_type": "stream",
          "name": "stdout",
          "text": [
            "107 ms ± 5.92 ms per loop (mean ± std. dev. of 7 runs, 10 loops each)\n"
          ]
        }
      ]
    },
    {
      "cell_type": "code",
      "execution_count": null,
      "metadata": {
        "id": "fD7Igpz-H4RR",
        "outputId": "27ab9b9c-031c-433b-a788-362e88dcc76f"
      },
      "outputs": [
        {
          "name": "stdout",
          "output_type": "stream",
          "text": [
            "1.58 ms ± 6.18 µs per loop (mean ± std. dev. of 7 runs, 1000 loops each)\n"
          ]
        }
      ],
      "source": [
        "%%timeit\n",
        "sorted(r10k) # timsort which is mergesort plus (insertion sort for < 50 items)"
      ]
    },
    {
      "cell_type": "code",
      "execution_count": null,
      "metadata": {
        "id": "DtKA1UmuH4RS",
        "outputId": "e0bf0a5d-79bc-4a7f-f7e2-9b7af5c91594"
      },
      "outputs": [
        {
          "name": "stdout",
          "output_type": "stream",
          "text": [
            "24.7 ms ± 1.52 ms per loop (mean ± std. dev. of 7 runs, 10 loops each)\n"
          ]
        }
      ],
      "source": [
        "%%timeit\n",
        "sorted(r100k) # timsort which is mergesort plus (insertion sort for < 50 items)"
      ]
    },
    {
      "cell_type": "code",
      "execution_count": null,
      "metadata": {
        "id": "vDCR9ACNH4RS",
        "outputId": "1311289b-fe77-4c55-89f7-dbdbbe0a02f9"
      },
      "outputs": [
        {
          "name": "stdout",
          "output_type": "stream",
          "text": [
            "385 ms ± 18.3 ms per loop (mean ± std. dev. of 7 runs, 1 loop each)\n"
          ]
        }
      ],
      "source": [
        "%%timeit\n",
        "sorted(r1m)"
      ]
    },
    {
      "cell_type": "code",
      "execution_count": null,
      "metadata": {
        "id": "zQ9sjHXbH4RS",
        "outputId": "d64f4d10-1150-4d2b-c9dd-d0870937bcb9"
      },
      "outputs": [
        {
          "name": "stdout",
          "output_type": "stream",
          "text": [
            "Sorted array is\n",
            "5\n",
            "6\n",
            "7\n",
            "11\n",
            "12\n",
            "13\n"
          ]
        }
      ],
      "source": [
        "# Python program for implementation of heap Sort - GeeksForGeeks Version\n",
        " \n",
        "# To heapify subtree rooted at index i.\n",
        "# n is size of heap\n",
        " \n",
        " \n",
        "def heapify(arr, n, i):\n",
        "    largest = i  # Initialize largest as root\n",
        "    l = 2 * i + 1     # left = 2*i + 1\n",
        "    r = 2 * i + 2     # right = 2*i + 2\n",
        " \n",
        "    # See if left child of root exists and is\n",
        "    # greater than root\n",
        "    if l < n and arr[largest] < arr[l]:\n",
        "        largest = l\n",
        " \n",
        "    # See if right child of root exists and is\n",
        "    # greater than root\n",
        "    if r < n and arr[largest] < arr[r]:\n",
        "        largest = r\n",
        " \n",
        "    # Change root, if needed\n",
        "    if largest != i:\n",
        "        arr[i], arr[largest] = arr[largest], arr[i]  # swap\n",
        " \n",
        "        # Heapify the root.\n",
        "        heapify(arr, n, largest)\n",
        " \n",
        "# The main function to sort an array of given size\n",
        " \n",
        " \n",
        "def heap_sort_geeks(arr):\n",
        "    n = len(arr)\n",
        " \n",
        "    # Build a maxheap.\n",
        "    for i in range(n//2 - 1, -1, -1):\n",
        "        heapify(arr, n, i)\n",
        " \n",
        "    # One by one extract elements\n",
        "    for i in range(n-1, 0, -1):\n",
        "        arr[i], arr[0] = arr[0], arr[i]  # swap\n",
        "        heapify(arr, i, 0)\n",
        " \n",
        " \n",
        "# Driver code\n",
        "arr = [12, 11, 13, 5, 6, 7]\n",
        "heap_sort_geeks(arr)\n",
        "n = len(arr)\n",
        "print(\"Sorted array is\")\n",
        "for i in range(n):\n",
        "    print(\"%d\" % arr[i]),\n",
        "# This code is contributed by Mohit Kumra"
      ]
    },
    {
      "cell_type": "code",
      "execution_count": null,
      "metadata": {
        "id": "VUIPMbJkH4RS",
        "outputId": "2acce8c0-ab2a-40b4-a1a0-df5512c15369"
      },
      "outputs": [
        {
          "name": "stdout",
          "output_type": "stream",
          "text": [
            "147 ms ± 2.89 ms per loop (mean ± std. dev. of 7 runs, 10 loops each)\n"
          ]
        }
      ],
      "source": [
        "%%timeit\n",
        "heap_sort_geeks(r10k)"
      ]
    },
    {
      "cell_type": "code",
      "execution_count": null,
      "metadata": {
        "id": "5RQdUNrGH4RT",
        "outputId": "634c3293-f4e6-4341-e2be-511e804dee26"
      },
      "outputs": [
        {
          "data": {
            "text/plain": [
              "[193, 358, 359, 364, 374, 391, 516, 578, 587, 604]"
            ]
          },
          "execution_count": 17,
          "metadata": {},
          "output_type": "execute_result"
        }
      ],
      "source": [
        "r10k[:10]"
      ]
    },
    {
      "cell_type": "code",
      "execution_count": null,
      "metadata": {
        "id": "S8mUNBFxH4RT",
        "outputId": "159f5242-8c8a-47d2-8a55-e019ebd80c3d"
      },
      "outputs": [
        {
          "name": "stdout",
          "output_type": "stream",
          "text": [
            "152 ms ± 6.98 ms per loop (mean ± std. dev. of 7 runs, 10 loops each)\n"
          ]
        }
      ],
      "source": [
        "%%timeit\n",
        "heap_sort_geeks(r10k)"
      ]
    },
    {
      "cell_type": "code",
      "execution_count": null,
      "metadata": {
        "id": "Rn4Z6DdtH4RT",
        "outputId": "888a463f-5663-48c1-f891-5a3a6734cb21"
      },
      "outputs": [
        {
          "name": "stdout",
          "output_type": "stream",
          "text": [
            "1.9 s ± 53.4 ms per loop (mean ± std. dev. of 7 runs, 1 loop each)\n"
          ]
        }
      ],
      "source": [
        "%%timeit\n",
        "heap_sort_geeks(r100k)"
      ]
    },
    {
      "cell_type": "code",
      "execution_count": null,
      "metadata": {
        "id": "TIY7JUN2H4RT",
        "outputId": "5ee8c21b-308f-4eee-e3ea-2114b0ca8cdc"
      },
      "outputs": [
        {
          "name": "stdout",
          "output_type": "stream",
          "text": [
            "1.84 s ± 8.07 ms per loop (mean ± std. dev. of 7 runs, 1 loop each)\n"
          ]
        }
      ],
      "source": [
        "%%timeit\n",
        "heap_sort_geeks(r100k)"
      ]
    },
    {
      "cell_type": "code",
      "execution_count": null,
      "metadata": {
        "id": "sHO1YEeGH4RT"
      },
      "outputs": [],
      "source": [
        "# so one takeway is unless you have a serious need use existing data structures (collections) whenever possible\n",
        "# your own data structures are likely to be slower\n",
        "# of course if you come up with an improvement\\\n",
        "# that's probably masters thesis worth or even PhD!\n",
        "# the low hanging fruit has already been picked but you never know"
      ]
    },
    {
      "cell_type": "markdown",
      "metadata": {
        "id": "CimoP63VH4RU"
      },
      "source": [
        "![Heap sort](https://upload.wikimedia.org/wikipedia/commons/1/1b/Sorting_heapsort_anim.gif)"
      ]
    },
    {
      "cell_type": "markdown",
      "metadata": {
        "id": "Q57nbDtCH4RU"
      },
      "source": [
        "# Quick Sort"
      ]
    },
    {
      "cell_type": "markdown",
      "metadata": {
        "id": "deyXOqlxH4RU"
      },
      "source": [
        "![QuickSort](https://upload.wikimedia.org/wikipedia/commons/6/6a/Sorting_quicksort_anim.gif)"
      ]
    },
    {
      "cell_type": "markdown",
      "metadata": {
        "id": "-3-E5uXTH4RU"
      },
      "source": [
        "#### Hungarian Dance version - https://www.youtube.com/watch?v=ywWBy6J5gz8"
      ]
    },
    {
      "cell_type": "code",
      "execution_count": null,
      "metadata": {
        "id": "Hza5ZJ98H4RU"
      },
      "outputs": [],
      "source": [
        "# https://en.wikipedia.org/wiki/Tony_Hoare inventor of quicksort in early 1960s\n",
        "\n",
        "# So quick sort algorithm\n",
        "# choose a pivot (some value)\n",
        "# partion values - those smaller go left, those bigger go right\n",
        "# then apply quicksort to these subdivisions recursively\n",
        "\n",
        "#eventually there are nothing to partition and we are done!"
      ]
    },
    {
      "cell_type": "code",
      "execution_count": 17,
      "metadata": {
        "id": "s1ZQyOAlH4RU"
      },
      "outputs": [],
      "source": [
        "def naive_quicksort(it):\n",
        "    if len(it) <= 1: # it is possible to get an empty list/array\n",
        "        return it # so this is our base case\n",
        "    pivot = it[0] # so our pivot is the first tiem random would be even better, \n",
        "    # an adversary could generate a worst case data set\n",
        "    # if my pivot selection is deterministic\n",
        "    # so partitioning will be 2 linear runs and also will take extra memory unlike optimized quicksort\n",
        "    left = [n for n in it if n < pivot]  # assuming no duplicates\n",
        "    right = [n for n in it if n > pivot] # so i am creating new lists/array so not very space efficient\n",
        "    return naive_quicksort(left) + [pivot] + naive_quicksort(right) \n",
        "# so after one sortie pivot is guaranteed to be in the correct place in our sequence/array\n",
        "# so the Recurrence looks like T(n) = 2T(n/2) + n (well n/2 is not guaranteed so it could be worse)"
      ]
    },
    {
      "cell_type": "code",
      "execution_count": 18,
      "metadata": {
        "id": "9Lu9w4C8H4RU",
        "outputId": "e7397c88-32af-4757-987a-8a181981a5fc",
        "colab": {
          "base_uri": "https://localhost:8080/"
        }
      },
      "outputs": [
        {
          "output_type": "execute_result",
          "data": {
            "text/plain": [
              "[-33, -11, 13, 17, 20, 26, 31, 44, 54, 55, 77, 93]"
            ]
          },
          "metadata": {},
          "execution_count": 18
        }
      ],
      "source": [
        "naive_quicksort([54, 26, 93, 17, 77, 31, 44, 55, 20, -33, 13,-11])"
      ]
    },
    {
      "cell_type": "code",
      "execution_count": 19,
      "metadata": {
        "id": "HnRcOqyGH4RV"
      },
      "outputs": [],
      "source": [
        "r10k = [random.randint(1,1_000_000) for n in range(10_000)]\n",
        "r100k = [random.randint(1,1_000_000) for n in range(100_000)]\n",
        "r1m = [random.randint(1,10_000_000) for n in range(1_000_000)]"
      ]
    },
    {
      "cell_type": "code",
      "execution_count": 23,
      "metadata": {
        "id": "mgSxlnzqH4RV",
        "outputId": "4fb2d5e2-7ecb-4855-a0f9-3e62ad012720",
        "colab": {
          "base_uri": "https://localhost:8080/"
        }
      },
      "outputs": [
        {
          "output_type": "execute_result",
          "data": {
            "text/plain": [
              "([295029, 120896, 350277, 349363, 744818],\n",
              " [295311, 926829, 907424, 907176, 400722],\n",
              " [108325, 4830094, 6274241, 451786, 4323015])"
            ]
          },
          "metadata": {},
          "execution_count": 23
        }
      ],
      "source": [
        "# sanity check if our date is truly random\n",
        "r10k[:5], r100k[:5], r1m[:5]"
      ]
    },
    {
      "cell_type": "code",
      "execution_count": 22,
      "metadata": {
        "id": "qStw9vwZH4RV",
        "outputId": "9260a68e-44de-4b32-b40a-809af285f430",
        "colab": {
          "base_uri": "https://localhost:8080/"
        }
      },
      "outputs": [
        {
          "output_type": "stream",
          "name": "stdout",
          "text": [
            "29.6 ms ± 812 µs per loop (mean ± std. dev. of 7 runs, 10 loops each)\n"
          ]
        }
      ],
      "source": [
        "%%timeit\n",
        "naive_quicksort(r10k)"
      ]
    },
    {
      "cell_type": "code",
      "source": [
        "%%timeit\n",
        "sorted(r10k)"
      ],
      "metadata": {
        "id": "QpvSgK2gQAkC",
        "outputId": "20cb9a28-60a4-4f65-8ebc-7b7f043b33f6",
        "colab": {
          "base_uri": "https://localhost:8080/"
        }
      },
      "execution_count": 24,
      "outputs": [
        {
          "output_type": "stream",
          "name": "stdout",
          "text": [
            "1.65 ms ± 186 µs per loop (mean ± std. dev. of 7 runs, 1000 loops each)\n"
          ]
        }
      ]
    },
    {
      "cell_type": "code",
      "execution_count": 25,
      "metadata": {
        "id": "L-wCJCfVH4RV",
        "outputId": "f4fb932a-fb39-4aae-a9ad-94a0da65f8f0",
        "colab": {
          "base_uri": "https://localhost:8080/"
        }
      },
      "outputs": [
        {
          "output_type": "stream",
          "name": "stdout",
          "text": [
            "388 ms ± 15.1 ms per loop (mean ± std. dev. of 7 runs, 1 loop each)\n"
          ]
        }
      ],
      "source": [
        "%%timeit\n",
        "naive_quicksort(r100k)"
      ]
    },
    {
      "cell_type": "code",
      "execution_count": 26,
      "metadata": {
        "id": "rL8koB5GH4RV",
        "outputId": "a63f6d85-590d-4cbd-ab96-fe062342843b",
        "colab": {
          "base_uri": "https://localhost:8080/"
        }
      },
      "outputs": [
        {
          "output_type": "stream",
          "name": "stdout",
          "text": [
            "6.59 s ± 561 ms per loop (mean ± std. dev. of 7 runs, 1 loop each)\n"
          ]
        }
      ],
      "source": [
        "%%timeit\n",
        "naive_quicksort(r1m)"
      ]
    },
    {
      "cell_type": "markdown",
      "metadata": {
        "id": "J81H4y7NH4RV"
      },
      "source": [
        "![quick](https://github.com/ValRCS/RTU_Algorithms_DIP321/blob/main/imgs/quicksort.png?raw=1)"
      ]
    },
    {
      "cell_type": "markdown",
      "metadata": {
        "id": "3xzOydCjH4RW"
      },
      "source": [
        "$$Complexity: O(nlog(n))$$ $$Worst case : O(n^2)$$"
      ]
    },
    {
      "cell_type": "code",
      "execution_count": 27,
      "metadata": {
        "id": "IKcPKwnFH4RW",
        "outputId": "197f9ac1-f5b0-4586-e37e-3b15bc5a9a4e",
        "colab": {
          "base_uri": "https://localhost:8080/"
        }
      },
      "outputs": [
        {
          "output_type": "stream",
          "name": "stdout",
          "text": [
            "[17, 20, 26, 31, 44, 54, 55, 77, 93]\n"
          ]
        }
      ],
      "source": [
        "def quickSort(alist):\n",
        "    quickSortHelper(alist, 0, len(alist) - 1)\n",
        "\n",
        "\n",
        "def quickSortHelper(alist, first, last):\n",
        "    if first < last:\n",
        "\n",
        "        splitpoint = partition(alist, first, last)\n",
        "\n",
        "        quickSortHelper(alist, first, splitpoint - 1)\n",
        "        quickSortHelper(alist, splitpoint + 1, last)\n",
        "\n",
        "\n",
        "def partition(alist, first, last):\n",
        "    pivotvalue = alist[first]\n",
        "\n",
        "    leftmark = first + 1\n",
        "    rightmark = last\n",
        "\n",
        "    done = False\n",
        "    while not done:\n",
        "\n",
        "        while leftmark <= rightmark and alist[leftmark] <= pivotvalue:\n",
        "            leftmark = leftmark + 1\n",
        "\n",
        "        while alist[rightmark] >= pivotvalue and rightmark >= leftmark:\n",
        "            rightmark = rightmark - 1\n",
        "\n",
        "        if rightmark < leftmark:\n",
        "            done = True\n",
        "        else:\n",
        "            temp = alist[leftmark]\n",
        "            alist[leftmark] = alist[rightmark]\n",
        "            alist[rightmark] = temp\n",
        "\n",
        "    temp = alist[first]\n",
        "    alist[first] = alist[rightmark]\n",
        "    alist[rightmark] = temp\n",
        "\n",
        "    return rightmark\n",
        "\n",
        "\n",
        "alist = [54, 26, 93, 17, 77, 31, 44, 55, 20]\n",
        "quickSort(alist)\n",
        "print(alist)"
      ]
    },
    {
      "cell_type": "code",
      "execution_count": null,
      "metadata": {
        "id": "QRFvN_M2H4RW"
      },
      "outputs": [],
      "source": [
        "# so quicksort reccurence would be\n",
        "T(n) = 2T(n/2) + n # soT(n/2) would be average case \n",
        "# worst case would be with pivots at the wrong end (not middle)\n",
        "T(n) = T(1) + T(n-1) + n # which lead so quadratic complexity\n",
        "# this could in real life scenario if you were applying naive quicksort to reversely ordered list"
      ]
    },
    {
      "cell_type": "code",
      "source": [
        "# so we could pick 1st in array/list as pivot\n",
        "# we could last in array/list as pivot\n",
        "# we could middle item - less likely to be bad randomly but attacker could still make upa bad dataset\n",
        "# best would be to choose pivot randomly - but generating random numbers is slowish\n",
        "# hybrid/compromise\n",
        "# pick first item, last item, and middle item\n",
        "# out of those 3 you pick the median value"
      ],
      "metadata": {
        "id": "VSroxlmWTDfZ"
      },
      "execution_count": null,
      "outputs": []
    },
    {
      "cell_type": "code",
      "execution_count": null,
      "metadata": {
        "id": "bmltKC7hH4RW"
      },
      "outputs": [],
      "source": [
        "# Turns out it can be proven (see Cormen- CLRS) that n log n is the best we can do for sorting algorithms which involve\n",
        "# comparisons"
      ]
    },
    {
      "cell_type": "code",
      "execution_count": null,
      "metadata": {
        "id": "dJ51MZifH4RW"
      },
      "outputs": [],
      "source": [
        "# well those are so called bucket sorts, you have counting sort, radix sort, bucket sort\n",
        "# these will have O(n component + some k some other component) - k being something to do with data"
      ]
    },
    {
      "cell_type": "code",
      "execution_count": 28,
      "metadata": {
        "id": "0OkzN9z9H4RW",
        "outputId": "cf1abda6-f8c7-4c12-efb7-da7531997ab0",
        "colab": {
          "base_uri": "https://localhost:8080/"
        }
      },
      "outputs": [
        {
          "output_type": "execute_result",
          "data": {
            "text/plain": [
              "[8, 6, 2, 7, 3, 8, 0, 7, 1, 3, 8, 1, 2, 4, 4]"
            ]
          },
          "metadata": {},
          "execution_count": 28
        }
      ],
      "source": [
        "# so if we know we will only have to sort numbers 0 to 9 then we can make a bucket for these numbers\n",
        "r_digits = [random.randint(0,9) for _ in range(100)]\n",
        "r_digits[:15]"
      ]
    },
    {
      "cell_type": "code",
      "execution_count": 34,
      "metadata": {
        "id": "3iCyI_g2H4RX",
        "outputId": "660c8241-910a-44a1-e567-4e63598e34fc",
        "colab": {
          "base_uri": "https://localhost:8080/"
        }
      },
      "outputs": [
        {
          "output_type": "execute_result",
          "data": {
            "text/plain": [
              "[0, 0, 0, 0, 0, 0, 0, 0, 1, 1, 1, 1, 1, 1, 1]"
            ]
          },
          "metadata": {},
          "execution_count": 34
        }
      ],
      "source": [
        "sorted(r_digits)[:15]"
      ]
    },
    {
      "cell_type": "code",
      "execution_count": 30,
      "metadata": {
        "id": "xCXbqBfgH4RX",
        "outputId": "1b0ba293-7b42-4910-e366-1a262d872529",
        "colab": {
          "base_uri": "https://localhost:8080/"
        }
      },
      "outputs": [
        {
          "output_type": "execute_result",
          "data": {
            "text/plain": [
              "[0, 0, 0, 0, 0, 0, 0, 0, 0, 0]"
            ]
          },
          "metadata": {},
          "execution_count": 30
        }
      ],
      "source": [
        "# so in this case I will use buckets to store each occurence of digit\n",
        "buckets = [0 for _ in range(10)]\n",
        "buckets"
      ]
    },
    {
      "cell_type": "code",
      "execution_count": 36,
      "metadata": {
        "id": "tIxtgPf7H4RX"
      },
      "outputs": [],
      "source": [
        "def naive_digit_sort(dig_list):\n",
        "    \n",
        "    buckets = [0 for _ in range(10)] # again linear making of buckets\n",
        "    # so linear complexity for this part\n",
        "    for digit in dig_list:\n",
        "        buckets[digit] += 1\n",
        "    # then rebuilding also will be linear\n",
        "    t = [[i]*n for i, n in enumerate(buckets)] # so list of lists\n",
        "    flat_list = [item for sublist in t for item in sublist] #thank you Alex Martelli!\n",
        "    return flat_list"
      ]
    },
    {
      "cell_type": "code",
      "execution_count": 40,
      "metadata": {
        "id": "hUiOT0X0H4RX",
        "outputId": "8b4a54df-bdfd-438a-ff5a-68960921cd30",
        "colab": {
          "base_uri": "https://localhost:8080/"
        }
      },
      "outputs": [
        {
          "output_type": "execute_result",
          "data": {
            "text/plain": [
              "([0, 0, 0, 0, 0, 0, 0, 0, 1, 1, 1, 1, 1, 1, 1],\n",
              " [8, 8, 8, 8, 8, 9, 9, 9, 9, 9, 9, 9, 9, 9, 9, 9, 9, 9, 9, 9])"
            ]
          },
          "metadata": {},
          "execution_count": 40
        }
      ],
      "source": [
        "sorted_digits = naive_digit_sort(r_digits)\n",
        "sorted_digits[:15], sorted_digits[-20:]"
      ]
    },
    {
      "cell_type": "code",
      "execution_count": null,
      "metadata": {
        "id": "oX99xua8H4RX",
        "outputId": "3474944d-b1a0-480b-e634-69d8dec3d00f"
      },
      "outputs": [
        {
          "name": "stdout",
          "output_type": "stream",
          "text": [
            "Sorted character array is        RTUaaabcddghiiknnnooorrssstttt\n"
          ]
        }
      ],
      "source": [
        "# Python program for counting sort - GeeksForGeeks\n",
        " \n",
        "# The main function that sort the given string arr[] in \n",
        "# alphabetical order\n",
        "def countSort(arr):\n",
        " \n",
        "    # The output character array that will have sorted arr\n",
        "    output = [0 for i in range(len(arr))]\n",
        " \n",
        "    # Create a count array to store count of inidividul\n",
        "    # characters and initialize count array as 0\n",
        "    count = [0 for i in range(256)]\n",
        "    # so this works because we  are using English ASCII alphabet no Latvian, Russian or Chinese..\n",
        "    # for extra full Unicode we'd need 100k + buckets\n",
        " \n",
        "    # For storing the resulting answer since the \n",
        "    # string is immutable\n",
        "    ans = [\"\" for _ in arr]\n",
        " \n",
        "    # Store count of each character\n",
        "    for i in arr:\n",
        "        count[ord(i)] += 1\n",
        " \n",
        "    # Change count[i] so that count[i] now contains actual\n",
        "    # position of this character in output array\n",
        "    for i in range(256):\n",
        "        count[i] += count[i-1]\n",
        " \n",
        "    # Build the output character array\n",
        "    for i in range(len(arr)):\n",
        "        output[count[ord(arr[i])]-1] = arr[i]\n",
        "        count[ord(arr[i])] -= 1\n",
        " \n",
        "    # Copy the output array to arr, so that arr now\n",
        "    # contains sorted characters\n",
        "    for i in range(len(arr)):\n",
        "        ans[i] = output[i]\n",
        "    return ans \n",
        " \n",
        "# Driver program to test above function\n",
        "arr = \"RTU rocks and sorting is not that bad\"\n",
        "ans = countSort(arr)\n",
        "print(\"Sorted character array is % s\" %(\"\".join(ans)))\n",
        " \n",
        "# This code is contributed by Nikhil Kumar Singh"
      ]
    },
    {
      "cell_type": "code",
      "execution_count": null,
      "metadata": {
        "id": "yqATTjOsH4RY",
        "outputId": "f8a4e170-6625-4adb-c17a-067f4503d446"
      },
      "outputs": [
        {
          "data": {
            "text/plain": [
              "'   RTUVaaacdeghiilnstt'"
            ]
          },
          "execution_count": 51,
          "metadata": {},
          "output_type": "execute_result"
        }
      ],
      "source": [
        "ans = countSort(\"Valdis teaching at RTU\")\n",
        "\"\".join(ans)"
      ]
    },
    {
      "cell_type": "code",
      "execution_count": null,
      "metadata": {
        "id": "1tJvTs5cH4RY",
        "outputId": "1313036a-0e7a-4492-bded-97ef832ccc67"
      },
      "outputs": [
        {
          "name": "stdout",
          "output_type": "stream",
          "text": [
            "[2, 24, 45, 66, 75, 90, 170, 802]\n"
          ]
        }
      ],
      "source": [
        "# https://en.wikipedia.org/wiki/Radix_sort\n",
        "# Python program for implementation of Radix Sort \n",
        "# A function to do counting sort of arr[] according to \n",
        "# the digit represented by exp. \n",
        "  \n",
        "def countingSort(arr, exp1): \n",
        "  \n",
        "    n = len(arr) \n",
        "  \n",
        "    # The output array elements that will have sorted arr \n",
        "    output = [0] * (n) \n",
        "  \n",
        "    # initialize count array as 0 \n",
        "    count = [0] * (10) \n",
        "  \n",
        "    # Store count of occurrences in count[] \n",
        "    for i in range(0, n): \n",
        "        index = (arr[i] / exp1) \n",
        "        count[int(index % 10)] += 1\n",
        "  \n",
        "    # Change count[i] so that count[i] now contains actual \n",
        "    # position of this digit in output array \n",
        "    for i in range(1, 10): \n",
        "        count[i] += count[i - 1] \n",
        "  \n",
        "    # Build the output array \n",
        "    i = n - 1\n",
        "    while i >= 0: \n",
        "        index = (arr[i] / exp1) \n",
        "        output[count[int(index % 10)] - 1] = arr[i] \n",
        "        count[int(index % 10)] -= 1\n",
        "        i -= 1\n",
        "  \n",
        "    # Copying the output array to arr[], \n",
        "    # so that arr now contains sorted numbers \n",
        "    i = 0\n",
        "    for i in range(0, len(arr)): \n",
        "        arr[i] = output[i] \n",
        "  \n",
        "# Method to do Radix Sort \n",
        "def radixSort(arr): \n",
        "  \n",
        "    # Find the maximum number to know number of digits \n",
        "    max1 = max(arr) \n",
        "  \n",
        "    # Do counting sort for every digit. Note that instead \n",
        "    # of passing digit number, exp is passed. exp is 10^i \n",
        "    # where i is current digit number \n",
        "    exp = 1\n",
        "    while max1 / exp > 0: \n",
        "        countingSort(arr, exp) \n",
        "        exp *= 10\n",
        "  \n",
        "  \n",
        "# Driver code \n",
        "arr = [170, 45, 75, 90, 802, 24, 2, 66] \n",
        "  \n",
        "# Function Call \n",
        "radixSort(arr) \n",
        "  \n",
        "\n",
        "print(arr)\n",
        "  \n",
        "# This code is contributed by Mohit Kumra \n",
        "# Edited by Patrick Gallagher "
      ]
    },
    {
      "cell_type": "code",
      "execution_count": null,
      "metadata": {
        "id": "AvyMqXI0H4RY",
        "outputId": "2894ccc3-6fff-456d-b710-1e7eb9fd1555"
      },
      "outputs": [
        {
          "data": {
            "text/plain": [
              "[7765, 3180, 945, 557, 4201]"
            ]
          },
          "execution_count": 44,
          "metadata": {},
          "output_type": "execute_result"
        }
      ],
      "source": [
        "r1k = [random.randint(1,10_000) for n in range(1_000)]\n",
        "r1k[:5]"
      ]
    },
    {
      "cell_type": "code",
      "execution_count": null,
      "metadata": {
        "id": "04v7v05ZH4RY",
        "outputId": "8e3939dd-c939-4f0b-9153-91d704074c4b"
      },
      "outputs": [
        {
          "name": "stdout",
          "output_type": "stream",
          "text": [
            "807 ms ± 22.9 ms per loop (mean ± std. dev. of 7 runs, 1 loop each)\n"
          ]
        }
      ],
      "source": [
        "%%timeit\n",
        "radixSort(r1k)"
      ]
    },
    {
      "cell_type": "code",
      "execution_count": null,
      "metadata": {
        "id": "yUuLiv1CH4RY",
        "outputId": "78d4e9da-4918-47be-f335-1056d7385a75"
      },
      "outputs": [
        {
          "data": {
            "text/plain": [
              "[2, 7, 11, 23, 35]"
            ]
          },
          "execution_count": 46,
          "metadata": {},
          "output_type": "execute_result"
        }
      ],
      "source": [
        "r1k[:5]"
      ]
    },
    {
      "cell_type": "code",
      "execution_count": null,
      "metadata": {
        "id": "NRY4IrFcH4RZ",
        "outputId": "6389d1db-c237-4c28-eab3-bef09ed2f59f"
      },
      "outputs": [
        {
          "name": "stdout",
          "output_type": "stream",
          "text": [
            "Sorted character array is [-10, -5, -3, -1, 0, 5, 8, 10]\n"
          ]
        }
      ],
      "source": [
        "# Python program for counting sort \n",
        "# which takes negative numbers as well\n",
        "# so we will need to move the buckets\n",
        " \n",
        "# The function that sorts the given arr[]\n",
        "def count_sort(arr):\n",
        "    max_element = int(max(arr)) # these are linear operations\n",
        "    min_element = int(min(arr))\n",
        "    range_of_elements = max_element - min_element + 1\n",
        "    # Create a count array to store count of individual\n",
        "    # elements and initialize count array as 0\n",
        "    count_arr = [0 for _ in range(range_of_elements)]\n",
        "    output_arr = [0 for _ in range(len(arr))]\n",
        " \n",
        "    # Store count of each character\n",
        "    for i in range(0, len(arr)):\n",
        "        count_arr[arr[i]-min_element] += 1\n",
        " \n",
        "    # Change count_arr[i] so that count_arr[i] now contains actual\n",
        "    # position of this element in output array\n",
        "    for i in range(1, len(count_arr)):\n",
        "        count_arr[i] += count_arr[i-1]\n",
        " \n",
        "    # Build the output character array\n",
        "    for i in range(len(arr)-1, -1, -1):\n",
        "        output_arr[count_arr[arr[i] - min_element] - 1] = arr[i]\n",
        "        count_arr[arr[i] - min_element] -= 1\n",
        " \n",
        "    # Copy the output array to arr, so that arr now\n",
        "    # contains sorted characters\n",
        "    for i in range(0, len(arr)):\n",
        "        arr[i] = output_arr[i]\n",
        " \n",
        "    return arr\n",
        " \n",
        " \n",
        "# Driver program to test above function\n",
        "arr = [-5, -10, 0, -3, 8, 5, -1, 10]\n",
        "ans = count_sort(arr)\n",
        "print(\"Sorted character array is \" + str(ans))"
      ]
    },
    {
      "cell_type": "code",
      "execution_count": null,
      "metadata": {
        "id": "EwT_vpCKH4RZ",
        "outputId": "0793a807-f1be-4b31-c471-1a5e987ba0a9"
      },
      "outputs": [
        {
          "name": "stdout",
          "output_type": "stream",
          "text": [
            "4.28 ms ± 80.6 µs per loop (mean ± std. dev. of 7 runs, 100 loops each)\n"
          ]
        }
      ],
      "source": [
        "%%timeit\n",
        "count_sort(r1k)"
      ]
    },
    {
      "cell_type": "code",
      "execution_count": null,
      "metadata": {
        "id": "SmuXpGdOH4RZ",
        "outputId": "84a41dd6-ef96-49cb-d4f4-2249abee48ef"
      },
      "outputs": [
        {
          "data": {
            "text/plain": [
              "[2, 7, 11, 23, 35]"
            ]
          },
          "execution_count": 49,
          "metadata": {},
          "output_type": "execute_result"
        }
      ],
      "source": [
        "r1k[:5]"
      ]
    },
    {
      "cell_type": "code",
      "execution_count": null,
      "metadata": {
        "id": "ypGbzZxyH4RZ",
        "outputId": "d1a7006a-5240-4959-9539-4c2428182739"
      },
      "outputs": [
        {
          "data": {
            "text/plain": [
              "[197150, 507406, 183256, 765344, 236740]"
            ]
          },
          "execution_count": 50,
          "metadata": {},
          "output_type": "execute_result"
        }
      ],
      "source": [
        "r10k[:5]"
      ]
    },
    {
      "cell_type": "code",
      "execution_count": null,
      "metadata": {
        "id": "7P-AnhRqH4RZ",
        "outputId": "b10defc0-45ce-4d96-c4f1-69c0d0ef9d06"
      },
      "outputs": [
        {
          "name": "stdout",
          "output_type": "stream",
          "text": [
            "366 ms ± 7.02 ms per loop (mean ± std. dev. of 7 runs, 1 loop each)\n"
          ]
        }
      ],
      "source": [
        "%%timeit\n",
        "count_sort(r10k)"
      ]
    },
    {
      "cell_type": "code",
      "execution_count": null,
      "metadata": {
        "id": "Udse7K5uH4RZ",
        "outputId": "0e893e5a-fe23-4f84-b968-8d6c93a7e2e3"
      },
      "outputs": [
        {
          "data": {
            "text/plain": [
              "[177, 274, 370, 530, 706]"
            ]
          },
          "execution_count": 52,
          "metadata": {},
          "output_type": "execute_result"
        }
      ],
      "source": [
        "r10k[:5]"
      ]
    },
    {
      "cell_type": "code",
      "execution_count": null,
      "metadata": {
        "id": "fyA_0IqkH4Ra",
        "outputId": "cfdfbd8c-1500-4c2e-9d7d-6efbe656f186"
      },
      "outputs": [
        {
          "data": {
            "text/plain": [
              "[99241, 79321, 253639, 283493, 497741]"
            ]
          },
          "execution_count": 53,
          "metadata": {},
          "output_type": "execute_result"
        }
      ],
      "source": [
        "random.shuffle(r10k)\n",
        "r10k[:5]"
      ]
    },
    {
      "cell_type": "code",
      "execution_count": null,
      "metadata": {
        "id": "L2EKGt_3H4Ra",
        "outputId": "5b3b328e-dcfa-47c6-b0f4-07762d03999b"
      },
      "outputs": [
        {
          "name": "stdout",
          "output_type": "stream",
          "text": [
            "373 ms ± 20.5 ms per loop (mean ± std. dev. of 7 runs, 1 loop each)\n"
          ]
        }
      ],
      "source": [
        "%%timeit\n",
        "count_sort(r10k)"
      ]
    },
    {
      "cell_type": "code",
      "execution_count": null,
      "metadata": {
        "id": "srpweePFH4Ra",
        "outputId": "0f22aa33-6460-4cf7-b271-06e4e422c820"
      },
      "outputs": [
        {
          "data": {
            "text/plain": [
              "[177, 274, 370, 530, 706]"
            ]
          },
          "execution_count": 55,
          "metadata": {},
          "output_type": "execute_result"
        }
      ],
      "source": [
        "r10k[:5]"
      ]
    },
    {
      "cell_type": "code",
      "execution_count": null,
      "metadata": {
        "id": "9EnO4KLUH4Ra"
      },
      "outputs": [],
      "source": [
        "# so Bucket, Counting and Radix sorts can theoretically beat O(n log n), but in practice they are less often used, \n",
        "# because they need extra space for the buckets\n",
        "# and they have larger constants\n"
      ]
    },
    {
      "cell_type": "code",
      "execution_count": null,
      "metadata": {
        "id": "A7j-ltu2H4Ra"
      },
      "outputs": [],
      "source": [
        "# in practice current pragmatic and practial algorithm is Timsort\n",
        "# https://en.wikipedia.org/wiki/Timsort\n",
        "# which uses insertion sort for small number of items and merge sort for larger collections"
      ]
    },
    {
      "cell_type": "code",
      "source": [
        "# there are some improvements to constants using truth tables\n",
        "# presorting small amounts of data\n",
        "# https://github.com/scandum/quadsort"
      ],
      "metadata": {
        "id": "fjho_pqFX3FL"
      },
      "execution_count": null,
      "outputs": []
    },
    {
      "cell_type": "code",
      "source": [
        "# so stability is another criterion when choosing\n",
        "# https://www.geeksforgeeks.org/stable-and-unstable-sorting-algorithms/"
      ],
      "metadata": {
        "id": "NC_tscuaYwcI"
      },
      "execution_count": null,
      "outputs": []
    }
  ],
  "metadata": {
    "kernelspec": {
      "display_name": "Python 3",
      "language": "python",
      "name": "python3"
    },
    "language_info": {
      "codemirror_mode": {
        "name": "ipython",
        "version": 3
      },
      "file_extension": ".py",
      "mimetype": "text/x-python",
      "name": "python",
      "nbconvert_exporter": "python",
      "pygments_lexer": "ipython3",
      "version": "3.8.3"
    },
    "colab": {
      "provenance": []
    }
  },
  "nbformat": 4,
  "nbformat_minor": 0
}