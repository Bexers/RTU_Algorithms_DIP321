{
 "cells": [
  {
   "cell_type": "markdown",
   "metadata": {},
   "source": [
    "* Visualization of these concepts: https://visualgo.net/en\n",
    "\n",
    "* https://www.geeksforgeeks.org/ - many implementations"
   ]
  },
  {
   "cell_type": "markdown",
   "metadata": {},
   "source": [
    "## Heap sort\n",
    "* Selection sort where we utilize a better structure for storing max(or min values)\n",
    "* https://www.cs.usfca.edu/~galles/visualization/Heap.html\n",
    "\n",
    "* https://www.cs.usfca.edu/~galles/visualization/HeapSort.html"
   ]
  },
  {
   "cell_type": "code",
   "execution_count": null,
   "metadata": {},
   "outputs": [],
   "source": [
    "## Heap sort is a selection algorithm\n",
    "# we go through our iterable and select the min or max value out of the unsorted\n",
    "# the only improvement is that we use a more efficient data structure for storing the min or max values(we have to pick side)\n",
    "# the problem was that we had to go through all the unsorted values constantly and look for that min or max\n",
    "# that's where O(n^2) comes from"
   ]
  },
  {
   "cell_type": "code",
   "execution_count": null,
   "metadata": {},
   "outputs": [],
   "source": [
    "## https://www.cs.usfca.edu/~galles/visualization/Heap.html - heap data structure visualization"
   ]
  },
  {
   "cell_type": "code",
   "execution_count": 17,
   "metadata": {},
   "outputs": [],
   "source": [
    "import heapq\n",
    "def simple_heap_sort(iterable):\n",
    "    heapq.heapify(iterable) # guaranteed linear time by the library but it is in place\n",
    "    return [heapq.heappop(iterable) for i in range(len(iterable))] # so no IndexErrors \n",
    "# complexity comes from the single [heapq.heappop(iterable) for i in range(len(iterable))]"
   ]
  },
  {
   "cell_type": "code",
   "execution_count": 18,
   "metadata": {},
   "outputs": [
    {
     "data": {
      "text/plain": [
       "[-33, -2, 0, 1, 1, 2, 5, 6, 6, 6, 7, 21, 21, 34, 656]"
      ]
     },
     "execution_count": 18,
     "metadata": {},
     "output_type": "execute_result"
    }
   ],
   "source": [
    "simple_heap_sort([1,34,6,21,6,1,21,656,6,2,7,0,-33,-2,5])"
   ]
  },
  {
   "cell_type": "code",
   "execution_count": 42,
   "metadata": {},
   "outputs": [],
   "source": [
    "import random\n",
    "r10k = [random.randint(1,1_000_000) for n in range(10_000)]\n",
    "r100k = [random.randint(1,1_000_000) for n in range(100_000)]\n",
    "r1m = [random.randint(1,10_000_000) for n in range(1_000_000)]"
   ]
  },
  {
   "cell_type": "code",
   "execution_count": null,
   "metadata": {},
   "outputs": [],
   "source": []
  },
  {
   "cell_type": "code",
   "execution_count": 21,
   "metadata": {},
   "outputs": [],
   "source": [
    "# we could use already provided heap data structure in many languages\n",
    "# in Python https://docs.python.org/3/library/heapq.html\n",
    "import heapq\n",
    "def heapsort(iterable):\n",
    "    h = []\n",
    "    for value in iterable:\n",
    "         heapq.heappush(h, value)\n",
    "    return [heapq.heappop(h) for i in range(len(h))]"
   ]
  },
  {
   "cell_type": "code",
   "execution_count": 22,
   "metadata": {},
   "outputs": [
    {
     "data": {
      "text/plain": [
       "[-3, 1, 2, 3, 3, 6, 7, 21, 67]"
      ]
     },
     "execution_count": 22,
     "metadata": {},
     "output_type": "execute_result"
    }
   ],
   "source": [
    "heapsort([1,3,6,21,2,3,67,-3,7])"
   ]
  },
  {
   "cell_type": "code",
   "execution_count": 23,
   "metadata": {},
   "outputs": [
    {
     "data": {
      "text/plain": [
       "[13, 25, 38, 53, 93, 124, 128, 132, 134, 139]"
      ]
     },
     "execution_count": 23,
     "metadata": {},
     "output_type": "execute_result"
    }
   ],
   "source": [
    "nlist = heapsort(r100k)\n",
    "nlist[:10]"
   ]
  },
  {
   "cell_type": "code",
   "execution_count": 24,
   "metadata": {},
   "outputs": [
    {
     "data": {
      "text/plain": [
       "[511231, 657295, 739986, 163740, 8909]"
      ]
     },
     "execution_count": 24,
     "metadata": {},
     "output_type": "execute_result"
    }
   ],
   "source": [
    "r100k[:5]"
   ]
  },
  {
   "cell_type": "code",
   "execution_count": 25,
   "metadata": {},
   "outputs": [
    {
     "name": "stdout",
     "output_type": "stream",
     "text": [
      "106 ms ± 5.85 ms per loop (mean ± std. dev. of 7 runs, 10 loops each)\n"
     ]
    }
   ],
   "source": [
    "%%timeit\n",
    "heapsort(r100k)"
   ]
  },
  {
   "cell_type": "code",
   "execution_count": 27,
   "metadata": {},
   "outputs": [
    {
     "name": "stdout",
     "output_type": "stream",
     "text": [
      "1.78 s ± 34.4 ms per loop (mean ± std. dev. of 7 runs, 1 loop each)\n"
     ]
    }
   ],
   "source": [
    "%%timeit\n",
    "heapsort(r1m)"
   ]
  },
  {
   "cell_type": "code",
   "execution_count": 28,
   "metadata": {},
   "outputs": [
    {
     "name": "stdout",
     "output_type": "stream",
     "text": [
      "7.77 ms ± 465 µs per loop (mean ± std. dev. of 7 runs, 100 loops each)\n"
     ]
    }
   ],
   "source": [
    "%%timeit\n",
    "heapsort(r10k)"
   ]
  },
  {
   "cell_type": "code",
   "execution_count": 29,
   "metadata": {},
   "outputs": [
    {
     "name": "stdout",
     "output_type": "stream",
     "text": [
      "25.6 ms ± 1.41 ms per loop (mean ± std. dev. of 7 runs, 10 loops each)\n"
     ]
    }
   ],
   "source": [
    "%%timeit\n",
    "sorted(r100k)"
   ]
  },
  {
   "cell_type": "code",
   "execution_count": 30,
   "metadata": {},
   "outputs": [
    {
     "name": "stdout",
     "output_type": "stream",
     "text": [
      "365 ms ± 7.06 ms per loop (mean ± std. dev. of 7 runs, 1 loop each)\n"
     ]
    }
   ],
   "source": [
    "%%timeit\n",
    "sorted(r1m)"
   ]
  },
  {
   "cell_type": "code",
   "execution_count": 32,
   "metadata": {},
   "outputs": [
    {
     "name": "stdout",
     "output_type": "stream",
     "text": [
      "Sorted array is\n",
      "5\n",
      "6\n",
      "7\n",
      "11\n",
      "12\n",
      "13\n"
     ]
    }
   ],
   "source": [
    "# Python program for implementation of heap Sort - GeeksForGeeks Version\n",
    " \n",
    "# To heapify subtree rooted at index i.\n",
    "# n is size of heap\n",
    " \n",
    " \n",
    "def heapify(arr, n, i):\n",
    "    largest = i  # Initialize largest as root\n",
    "    l = 2 * i + 1     # left = 2*i + 1\n",
    "    r = 2 * i + 2     # right = 2*i + 2\n",
    " \n",
    "    # See if left child of root exists and is\n",
    "    # greater than root\n",
    "    if l < n and arr[largest] < arr[l]:\n",
    "        largest = l\n",
    " \n",
    "    # See if right child of root exists and is\n",
    "    # greater than root\n",
    "    if r < n and arr[largest] < arr[r]:\n",
    "        largest = r\n",
    " \n",
    "    # Change root, if needed\n",
    "    if largest != i:\n",
    "        arr[i], arr[largest] = arr[largest], arr[i]  # swap\n",
    " \n",
    "        # Heapify the root.\n",
    "        heapify(arr, n, largest)\n",
    " \n",
    "# The main function to sort an array of given size\n",
    " \n",
    " \n",
    "def heap_sort_geeks(arr):\n",
    "    n = len(arr)\n",
    " \n",
    "    # Build a maxheap.\n",
    "    for i in range(n//2 - 1, -1, -1):\n",
    "        heapify(arr, n, i)\n",
    " \n",
    "    # One by one extract elements\n",
    "    for i in range(n-1, 0, -1):\n",
    "        arr[i], arr[0] = arr[0], arr[i]  # swap\n",
    "        heapify(arr, i, 0)\n",
    " \n",
    " \n",
    "# Driver code\n",
    "arr = [12, 11, 13, 5, 6, 7]\n",
    "heapSort(arr)\n",
    "n = len(arr)\n",
    "print(\"Sorted array is\")\n",
    "for i in range(n):\n",
    "    print(\"%d\" % arr[i]),\n",
    "# This code is contributed by Mohit Kumra"
   ]
  },
  {
   "cell_type": "code",
   "execution_count": 33,
   "metadata": {},
   "outputs": [
    {
     "name": "stdout",
     "output_type": "stream",
     "text": [
      "147 ms ± 4.72 ms per loop (mean ± std. dev. of 7 runs, 10 loops each)\n"
     ]
    }
   ],
   "source": [
    "%%timeit\n",
    "heap_sort_geeks(r10k)"
   ]
  },
  {
   "cell_type": "code",
   "execution_count": 34,
   "metadata": {},
   "outputs": [
    {
     "name": "stdout",
     "output_type": "stream",
     "text": [
      "1.89 s ± 77.3 ms per loop (mean ± std. dev. of 7 runs, 1 loop each)\n"
     ]
    }
   ],
   "source": [
    "%%timeit\n",
    "heap_sort_geeks(r100k)"
   ]
  },
  {
   "cell_type": "markdown",
   "metadata": {},
   "source": [
    "![Heap sort](https://upload.wikimedia.org/wikipedia/commons/1/1b/Sorting_heapsort_anim.gif)"
   ]
  },
  {
   "cell_type": "markdown",
   "metadata": {},
   "source": [
    "# Quick Sort"
   ]
  },
  {
   "cell_type": "markdown",
   "metadata": {},
   "source": [
    "![QuickSort](https://upload.wikimedia.org/wikipedia/commons/6/6a/Sorting_quicksort_anim.gif)"
   ]
  },
  {
   "cell_type": "markdown",
   "metadata": {},
   "source": [
    "#### Hungarian Dance version - https://www.youtube.com/watch?v=ywWBy6J5gz8"
   ]
  },
  {
   "cell_type": "code",
   "execution_count": null,
   "metadata": {},
   "outputs": [],
   "source": [
    "# So quick sort algorithm\n",
    "# choose a pivot (some value)\n",
    "# partion values - those smaller go left, those bigger go right\n",
    "# then apply quicksort to these subdivisions\n",
    "\n",
    "#eventually there are nothing to partition and we are done!"
   ]
  },
  {
   "cell_type": "markdown",
   "metadata": {},
   "source": [
    "![quick](../imgs/quicksort.png)"
   ]
  },
  {
   "cell_type": "markdown",
   "metadata": {},
   "source": [
    "$$Complexity: O(nlog(n))$$ $$Worst case : O(n^2)$$"
   ]
  },
  {
   "cell_type": "code",
   "execution_count": 35,
   "metadata": {},
   "outputs": [
    {
     "name": "stdout",
     "output_type": "stream",
     "text": [
      "[17, 20, 26, 31, 44, 54, 55, 77, 93]\n"
     ]
    }
   ],
   "source": [
    "def quickSort(alist):\n",
    "    quickSortHelper(alist, 0, len(alist) - 1)\n",
    "\n",
    "\n",
    "def quickSortHelper(alist, first, last):\n",
    "    if first < last:\n",
    "\n",
    "        splitpoint = partition(alist, first, last)\n",
    "\n",
    "        quickSortHelper(alist, first, splitpoint - 1)\n",
    "        quickSortHelper(alist, splitpoint + 1, last)\n",
    "\n",
    "\n",
    "def partition(alist, first, last):\n",
    "    pivotvalue = alist[first]\n",
    "\n",
    "    leftmark = first + 1\n",
    "    rightmark = last\n",
    "\n",
    "    done = False\n",
    "    while not done:\n",
    "\n",
    "        while leftmark <= rightmark and alist[leftmark] <= pivotvalue:\n",
    "            leftmark = leftmark + 1\n",
    "\n",
    "        while alist[rightmark] >= pivotvalue and rightmark >= leftmark:\n",
    "            rightmark = rightmark - 1\n",
    "\n",
    "        if rightmark < leftmark:\n",
    "            done = True\n",
    "        else:\n",
    "            temp = alist[leftmark]\n",
    "            alist[leftmark] = alist[rightmark]\n",
    "            alist[rightmark] = temp\n",
    "\n",
    "    temp = alist[first]\n",
    "    alist[first] = alist[rightmark]\n",
    "    alist[rightmark] = temp\n",
    "\n",
    "    return rightmark\n",
    "\n",
    "\n",
    "alist = [54, 26, 93, 17, 77, 31, 44, 55, 20]\n",
    "quickSort(alist)\n",
    "print(alist)"
   ]
  },
  {
   "cell_type": "code",
   "execution_count": 37,
   "metadata": {},
   "outputs": [],
   "source": [
    "def naive_quicksort(it):\n",
    "    if len(it) <= 1: # it is possible to get an empty list/array\n",
    "        return it\n",
    "    pivot = it[0] # random would be even better\n",
    "    # so partitioning will be 2 linear runs and also will take extra memory unlike optimized quicksort\n",
    "    left = [n for n in it if n < pivot]  # assuming no duplicates\n",
    "    right = [n for n in it if n > pivot] \n",
    "    return naive_quicksort(left) + [pivot] + naive_quicksort(right)"
   ]
  },
  {
   "cell_type": "code",
   "execution_count": null,
   "metadata": {},
   "outputs": [],
   "source": [
    "# so quicksort reccurence would be\n",
    "T(n) = 2T(n/2) + n # soT(n/2) would be average case \n",
    "# worst case would be with pivots at the wrong end (not middle)\n",
    "T(n) = T(1) + T(n-1) + n # which lead so quadratic complexity\n",
    "# this could in real life scenario if you were applying naive quicksort to reversely ordered list"
   ]
  },
  {
   "cell_type": "code",
   "execution_count": 38,
   "metadata": {},
   "outputs": [
    {
     "data": {
      "text/plain": [
       "[17, 20, 26, 31, 44, 54, 55, 77, 93]"
      ]
     },
     "execution_count": 38,
     "metadata": {},
     "output_type": "execute_result"
    }
   ],
   "source": [
    "naive_quicksort([54, 26, 93, 17, 77, 31, 44, 55, 20])"
   ]
  },
  {
   "cell_type": "code",
   "execution_count": 43,
   "metadata": {},
   "outputs": [
    {
     "data": {
      "text/plain": [
       "[613029, 52333, 449512, 371646, 883629]"
      ]
     },
     "execution_count": 43,
     "metadata": {},
     "output_type": "execute_result"
    }
   ],
   "source": [
    "r10k[:5]"
   ]
  },
  {
   "cell_type": "code",
   "execution_count": 44,
   "metadata": {},
   "outputs": [
    {
     "data": {
      "text/plain": [
       "[912105, 490927, 804951, 879203, 126615]"
      ]
     },
     "execution_count": 44,
     "metadata": {},
     "output_type": "execute_result"
    }
   ],
   "source": [
    "r100k[:5]"
   ]
  },
  {
   "cell_type": "code",
   "execution_count": 45,
   "metadata": {},
   "outputs": [
    {
     "data": {
      "text/plain": [
       "[2879817, 533953, 711291, 1660192, 8329680]"
      ]
     },
     "execution_count": 45,
     "metadata": {},
     "output_type": "execute_result"
    }
   ],
   "source": [
    "r1m[:5]"
   ]
  },
  {
   "cell_type": "code",
   "execution_count": 46,
   "metadata": {},
   "outputs": [
    {
     "name": "stdout",
     "output_type": "stream",
     "text": [
      "36.7 ms ± 747 µs per loop (mean ± std. dev. of 7 runs, 10 loops each)\n"
     ]
    }
   ],
   "source": [
    "%%timeit\n",
    "naive_quicksort(r10k)"
   ]
  },
  {
   "cell_type": "code",
   "execution_count": 47,
   "metadata": {},
   "outputs": [
    {
     "name": "stdout",
     "output_type": "stream",
     "text": [
      "461 ms ± 6.48 ms per loop (mean ± std. dev. of 7 runs, 1 loop each)\n"
     ]
    }
   ],
   "source": [
    "%%timeit\n",
    "naive_quicksort(r100k)"
   ]
  },
  {
   "cell_type": "code",
   "execution_count": 48,
   "metadata": {},
   "outputs": [
    {
     "name": "stdout",
     "output_type": "stream",
     "text": [
      "7.68 s ± 782 ms per loop (mean ± std. dev. of 7 runs, 1 loop each)\n"
     ]
    }
   ],
   "source": [
    "%%timeit\n",
    "naive_quicksort(r1m)"
   ]
  },
  {
   "cell_type": "code",
   "execution_count": null,
   "metadata": {},
   "outputs": [],
   "source": [
    "# Turns out it can be proven (see Cormen- CLRS) that n log n is the best we can do for sorting algorithms which involve\n",
    "# comparisons"
   ]
  },
  {
   "cell_type": "code",
   "execution_count": null,
   "metadata": {},
   "outputs": [],
   "source": [
    "# well those are so called bucket sorts, you have counting sort, radix sort, bucket sort\n",
    "# these will have O(n compentt + some k some other component) - k being something to do with data"
   ]
  },
  {
   "cell_type": "code",
   "execution_count": 49,
   "metadata": {},
   "outputs": [
    {
     "name": "stdout",
     "output_type": "stream",
     "text": [
      "Sorted character array is eeeefggkkorss\n"
     ]
    }
   ],
   "source": [
    "# Python program for counting sort - GeeksForGeeks\n",
    " \n",
    "# The main function that sort the given string arr[] in \n",
    "# alphabetical order\n",
    "def countSort(arr):\n",
    " \n",
    "    # The output character array that will have sorted arr\n",
    "    output = [0 for i in range(len(arr))]\n",
    " \n",
    "    # Create a count array to store count of inidividul\n",
    "    # characters and initialize count array as 0\n",
    "    count = [0 for i in range(256)]\n",
    " \n",
    "    # For storing the resulting answer since the \n",
    "    # string is immutable\n",
    "    ans = [\"\" for _ in arr]\n",
    " \n",
    "    # Store count of each character\n",
    "    for i in arr:\n",
    "        count[ord(i)] += 1\n",
    " \n",
    "    # Change count[i] so that count[i] now contains actual\n",
    "    # position of this character in output array\n",
    "    for i in range(256):\n",
    "        count[i] += count[i-1]\n",
    " \n",
    "    # Build the output character array\n",
    "    for i in range(len(arr)):\n",
    "        output[count[ord(arr[i])]-1] = arr[i]\n",
    "        count[ord(arr[i])] -= 1\n",
    " \n",
    "    # Copy the output array to arr, so that arr now\n",
    "    # contains sorted characters\n",
    "    for i in range(len(arr)):\n",
    "        ans[i] = output[i]\n",
    "    return ans \n",
    " \n",
    "# Driver program to test above function\n",
    "arr = \"geeksforgeeks\"\n",
    "ans = countSort(arr)\n",
    "print(\"Sorted character array is % s\" %(\"\".join(ans)))\n",
    " \n",
    "# This code is contributed by Nikhil Kumar Singh"
   ]
  },
  {
   "cell_type": "code",
   "execution_count": 51,
   "metadata": {},
   "outputs": [
    {
     "data": {
      "text/plain": [
       "'   RTUVaaacdeghiilnstt'"
      ]
     },
     "execution_count": 51,
     "metadata": {},
     "output_type": "execute_result"
    }
   ],
   "source": [
    "ans = countSort(\"Valdis teaching at RTU\")\n",
    "\"\".join(ans)"
   ]
  },
  {
   "cell_type": "code",
   "execution_count": 53,
   "metadata": {},
   "outputs": [
    {
     "name": "stdout",
     "output_type": "stream",
     "text": [
      "[2, 24, 45, 66, 75, 90, 170, 802]\n"
     ]
    }
   ],
   "source": [
    "# https://en.wikipedia.org/wiki/Radix_sort\n",
    "# Python program for implementation of Radix Sort \n",
    "# A function to do counting sort of arr[] according to \n",
    "# the digit represented by exp. \n",
    "  \n",
    "def countingSort(arr, exp1): \n",
    "  \n",
    "    n = len(arr) \n",
    "  \n",
    "    # The output array elements that will have sorted arr \n",
    "    output = [0] * (n) \n",
    "  \n",
    "    # initialize count array as 0 \n",
    "    count = [0] * (10) \n",
    "  \n",
    "    # Store count of occurrences in count[] \n",
    "    for i in range(0, n): \n",
    "        index = (arr[i] / exp1) \n",
    "        count[int(index % 10)] += 1\n",
    "  \n",
    "    # Change count[i] so that count[i] now contains actual \n",
    "    # position of this digit in output array \n",
    "    for i in range(1, 10): \n",
    "        count[i] += count[i - 1] \n",
    "  \n",
    "    # Build the output array \n",
    "    i = n - 1\n",
    "    while i >= 0: \n",
    "        index = (arr[i] / exp1) \n",
    "        output[count[int(index % 10)] - 1] = arr[i] \n",
    "        count[int(index % 10)] -= 1\n",
    "        i -= 1\n",
    "  \n",
    "    # Copying the output array to arr[], \n",
    "    # so that arr now contains sorted numbers \n",
    "    i = 0\n",
    "    for i in range(0, len(arr)): \n",
    "        arr[i] = output[i] \n",
    "  \n",
    "# Method to do Radix Sort \n",
    "def radixSort(arr): \n",
    "  \n",
    "    # Find the maximum number to know number of digits \n",
    "    max1 = max(arr) \n",
    "  \n",
    "    # Do counting sort for every digit. Note that instead \n",
    "    # of passing digit number, exp is passed. exp is 10^i \n",
    "    # where i is current digit number \n",
    "    exp = 1\n",
    "    while max1 / exp > 0: \n",
    "        countingSort(arr, exp) \n",
    "        exp *= 10\n",
    "  \n",
    "  \n",
    "# Driver code \n",
    "arr = [170, 45, 75, 90, 802, 24, 2, 66] \n",
    "  \n",
    "# Function Call \n",
    "radixSort(arr) \n",
    "  \n",
    "\n",
    "print(arr)\n",
    "  \n",
    "# This code is contributed by Mohit Kumra \n",
    "# Edited by Patrick Gallagher "
   ]
  },
  {
   "cell_type": "code",
   "execution_count": 55,
   "metadata": {},
   "outputs": [
    {
     "data": {
      "text/plain": [
       "[6541, 3499, 5590, 5432, 1233]"
      ]
     },
     "execution_count": 55,
     "metadata": {},
     "output_type": "execute_result"
    }
   ],
   "source": [
    "r1k = [random.randint(1,10_000) for n in range(1_000)]\n",
    "r1k[:5]"
   ]
  },
  {
   "cell_type": "code",
   "execution_count": 56,
   "metadata": {},
   "outputs": [
    {
     "name": "stdout",
     "output_type": "stream",
     "text": [
      "802 ms ± 16 ms per loop (mean ± std. dev. of 7 runs, 1 loop each)\n"
     ]
    }
   ],
   "source": [
    "%%timeit\n",
    "radixSort(r1k)"
   ]
  }
 ],
 "metadata": {
  "kernelspec": {
   "display_name": "Python 3",
   "language": "python",
   "name": "python3"
  },
  "language_info": {
   "codemirror_mode": {
    "name": "ipython",
    "version": 3
   },
   "file_extension": ".py",
   "mimetype": "text/x-python",
   "name": "python",
   "nbconvert_exporter": "python",
   "pygments_lexer": "ipython3",
   "version": "3.8.3"
  }
 },
 "nbformat": 4,
 "nbformat_minor": 4
}
