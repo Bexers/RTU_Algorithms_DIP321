{
 "cells": [
  {
   "cell_type": "markdown",
   "metadata": {},
   "source": [
    "# General Problem Solving Techniques\n",
    "\n",
    "This notebook is a collection of general problem solving techniques that can be used to solve a wide variety of problems. The techniques are not specific to any particular domain or problem type, but are general enough to be applied to a wide range of problems. The techniques are presented in a step-by-step manner, with examples to illustrate how they can be used in practice."
   ]
  },
  {
   "cell_type": "markdown",
   "metadata": {},
   "source": [
    "## 1. Understand the Problem\n",
    "\n",
    "The first step in solving any problem is to understand the problem itself. This involves reading the problem statement carefully, identifying the key components of the problem, and understanding what is being asked. It is important to make sure that you have a clear understanding of the problem before you start working on a solution.\n",
    "\n",
    "If this was interview question, you should ask clarifying questions to make sure you understand the problem."
   ]
  },
  {
   "cell_type": "markdown",
   "metadata": {},
   "source": [
    "## 2. Break down the problem\n",
    "\n",
    "Once you have a clear understanding of the problem, the next step is to break it down into smaller, more manageable parts. This can help you to identify the key steps that need to be taken to solve the problem, and can make the problem easier to solve.\n",
    "\n",
    "### Identify the inputs and outputs\n",
    "\n",
    "You need to clearly identify what the inputs to the problem are, and what the expected output should be. This can help you to understand what information you need to work with, and what you need to produce as a result.\n",
    "\n",
    "This involves clarifiying the constraints and the data types of the inputs and outputs.\n",
    "\n",
    "For example if you are inputing numbers, what kind of number? Integers, floats, etc. is it 8bit, 16bit, 32bit, etc. - signed or unsigned?\n",
    "\n",
    "### Identify the subproblems\n",
    "\n",
    "Once you have identified the inputs and outputs, you can start to break the problem down into smaller subproblems. This can help you to identify the key steps that need to be taken to solve the problem, and can make the problem easier to solve.\n",
    "\n",
    "For example, if you are trying to find the maximum value in a list of numbers, you can break the problem down into the following steps:\n",
    "\n",
    "1. Read the list of numbers\n",
    "2. Initialize a variable to store the maximum value\n",
    "3. Iterate over the list of numbers\n",
    "4. Update the maximum value if the current number is greater than the current maximum\n",
    "5. Return the maximum value\n",
    "\n",
    "Note: essentialy you've already solved the problem by breaking it down into smaller subproblems. and you can now solve each subproblem individually.\n",
    "\n",
    "Also there is a saying by Richard Feynman on solving problems:\n",
    "\n",
    "1. Write Down Problem\n",
    "2. Think Real Hard\n",
    "3. Write Down Solution\n",
    "\n",
    "Src: https://www.benkuhn.net/thinkrealhard/\n",
    "\n",
    "Of course, this is a simplification, but it's a good starting point. The more tools we have under belt the better we can solve problems by thinking real hard - ie seeing analogies between problems, using known algorithms, etc.\n"
   ]
  },
  {
   "cell_type": "markdown",
   "metadata": {},
   "source": [
    "## 3. Develop a plan\n",
    "\n",
    "Look for patterns in the problem, and try to identify a general approach that can be used to solve it. This can help you to develop a plan for solving the problem, and can make it easier to implement the solution.\n",
    "\n",
    "This is where your knowledge of algorithms and data structures comes in handy. You can use this knowledge to identify the best approach to solving the problem, and to develop a plan for implementing the solution.\n",
    "\n",
    "For example you could start with some sort of brute force solution and then optimize it.\n",
    "Maybe you can use a known algorithm to solve the problem, etc.\n",
    "Maybe you can come up with a greedy solution and see if that leads to a solution.\n",
    "Then you can see maybe I can store/cache some subproblems to avoid recomputing them, etc. - essentially trading memory for time.\n",
    "This memory for time could potentially involve dynamic programming, memoization, etc.\n",
    "Maybe you can subdivide some problem into smaller problems and solve them individually and then combine the results to get the final result. - essentially divide and conquer.\n",
    "\n",
    "Maybe you know some graph algorithms that can be used to solve the problem, etc.\n",
    "\n",
    "Often times see if sorting the input can help you solve the problem, etc.\n",
    "It is possible there are multiple ways to solve the problem, and you can try different approaches to see which one works best.\n",
    "\n",
    "Another thing to remember:\n",
    "- If you can't solve the problem, solve a simpler version of the problem. - we can call this relaxation of some constraints."
   ]
  },
  {
   "cell_type": "markdown",
   "metadata": {},
   "source": [
    "## Optimize the plan\n",
    "\n",
    "Once you have a plan, you can start to optimize it. This involves looking for ways to make the plan more efficient, and to reduce the time and space complexity of the solution.\n",
    "\n",
    "It would inolve looking for bottlenecks in the solution and trying to optimize them.\n",
    "\n",
    "Also it would be a good idea to at least roughly analyze the time and space complexity of the solution.\n",
    "\n",
    "One approach could be simply empirical analysis - ie run the solution on some test cases and see how it performs on time and memory."
   ]
  },
  {
   "cell_type": "markdown",
   "metadata": {},
   "source": [
    "## Implementation matters\n",
    "\n",
    "Once you have a plan, you can start to implement it. This involves writing code to solve the problem, and testing the code to make sure that it works correctly.\n",
    "\n",
    "Make it work, make it right, make it fast.\n",
    "\n",
    "### Make it work\n",
    "\n",
    "The first step is to write code that solves the problem. This involves translating the plan into code, and making sure that the code produces the expected output. It could be any language, but it is important to write code that is easy to read and understand.\n",
    "\n",
    "### Make it right\n",
    "\n",
    "The next step is to make sure that the code is correct. This involves testing the code with a variety of test cases, and making sure that it produces the correct output in all cases. It is important to test the code thoroughly, and to make sure that it works correctly in all cases.\n",
    "\n",
    "### Make it fast\n",
    "\n",
    "The final step is to optimize the code to make it as fast as possible. This involves looking for ways to reduce the time and space complexity of the code, and to make it more efficient. This could involve using more efficient data structures, optimizing loops, etc.\n",
    "\n",
    "Also this could involve parallelizing the code, etc. - ie using multiple cores to solve the problem.\n",
    "\n",
    "This could involve rewriting Python to say C++ or Rust, etc.\n",
    "\n",
    "Note: there is interesting new language called Bend : https://github.com/HigherOrderCO/Bend which promises automatic support for parallelism, etc.\n",
    "\n",
    "Finally remember the saying of Donald Knuth: Premature optimization is the root of all evil.\n",
    "\n",
    "This means go for the readable and correct solution first and then optimize it.\n",
    "\n",
    "### Review and Refactor\n",
    "\n",
    "Once you have implemented the code, you can review it to make sure that it is correct and efficient. This involves looking for ways to improve the code, and to make it more readable and maintainable."
   ]
  },
  {
   "cell_type": "code",
   "execution_count": null,
   "metadata": {},
   "outputs": [],
   "source": []
  }
 ],
 "metadata": {
  "language_info": {
   "name": "python"
  }
 },
 "nbformat": 4,
 "nbformat_minor": 2
}
