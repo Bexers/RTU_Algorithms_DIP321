{
  "cells": [
    {
      "cell_type": "markdown",
      "metadata": {
        "id": "teUUxpod3tsE",
        "toc": true
      },
      "source": [
        "<h1>Table of Contents<span class=\"tocSkip\"></span></h1>\n",
        "<div class=\"toc\" style=\"margin-top: 1em;\"><ul class=\"toc-item\"><li><span><a href=\"#Algorithm-complexity\" data-toc-modified-id=\"Algorithm-complexity-1\"><span class=\"toc-item-num\">1&nbsp;&nbsp;</span>Algorithm complexity</a></span><ul class=\"toc-item\"><li><span><a href=\"#Search-algorithm\" data-toc-modified-id=\"Search-algorithm-1.1\"><span class=\"toc-item-num\">1.1&nbsp;&nbsp;</span>Search algorithm</a></span><ul class=\"toc-item\"><li><span><a href=\"#Linear-search\" data-toc-modified-id=\"Linear-search-1.1.1\"><span class=\"toc-item-num\">1.1.1&nbsp;&nbsp;</span>Linear search</a></span></li><li><span><a href=\"#Binary-search\" data-toc-modified-id=\"Binary-search-1.1.2\"><span class=\"toc-item-num\">1.1.2&nbsp;&nbsp;</span>Binary search</a></span></li></ul></li></ul></li><li><span><a href=\"#Sorting-algorithms\" data-toc-modified-id=\"Sorting-algorithms-2\"><span class=\"toc-item-num\">2&nbsp;&nbsp;</span>Sorting algorithms</a></span><ul class=\"toc-item\"><li><ul class=\"toc-item\"><li><span><a href=\"#Bubble-sort\" data-toc-modified-id=\"Bubble-sort-2.0.1\"><span class=\"toc-item-num\">2.0.1&nbsp;&nbsp;</span>Bubble sort</a></span></li><li><span><a href=\"#Selection-sort\" data-toc-modified-id=\"Selection-sort-2.0.2\"><span class=\"toc-item-num\">2.0.2&nbsp;&nbsp;</span>Selection sort</a></span></li><li><span><a href=\"#Insertion-sort\" data-toc-modified-id=\"Insertion-sort-2.0.3\"><span class=\"toc-item-num\">2.0.3&nbsp;&nbsp;</span>Insertion sort</a></span></li><li><span><a href=\"#Merge-Sort\" data-toc-modified-id=\"Merge-Sort-2.0.4\"><span class=\"toc-item-num\">2.0.4&nbsp;&nbsp;</span>Merge Sort</a></span></li><li><span><a href=\"#Quick-sort\" data-toc-modified-id=\"Quick-sort-2.0.5\"><span class=\"toc-item-num\">2.0.5&nbsp;&nbsp;</span>Quick sort</a></span></li></ul></li></ul></li></ul></div>"
      ]
    },
    {
      "cell_type": "markdown",
      "metadata": {
        "id": "5nbKWxTD3tsK"
      },
      "source": [
        "Discussion and implementation of basic sorting algorithms "
      ]
    },
    {
      "cell_type": "markdown",
      "metadata": {
        "id": "Fa-tT_z53tsL"
      },
      "source": [
        "Notebook is adapted from: https://github.com/shik3519/programming-concepts-for-data-science\n",
        "Content is heavily derived from: http://interactivepython.org/runestone/static/pythonds/index.html"
      ]
    },
    {
      "cell_type": "code",
      "execution_count": 1,
      "metadata": {
        "id": "SFFVn81f3tsL"
      },
      "outputs": [],
      "source": [
        "import pandas as pd\n",
        "import numpy as np\n",
        "import time\n",
        "import matplotlib.pyplot as plt\n",
        "%matplotlib inline"
      ]
    },
    {
      "cell_type": "markdown",
      "metadata": {
        "heading_collapsed": true,
        "id": "TZ47CVD93tsN"
      },
      "source": [
        "# Algorithm complexity"
      ]
    },
    {
      "cell_type": "markdown",
      "metadata": {
        "hidden": true,
        "id": "CsQVRt1b3tsO"
      },
      "source": [
        "`Big O notation` is used in Computer Science to describe the performance or complexity of an algorithm. Big O specifically describes the worst-case scenario, and can be used to describe the execution time required or the space used."
      ]
    },
    {
      "cell_type": "markdown",
      "metadata": {
        "hidden": true,
        "id": "3SRBmHuj3tsO"
      },
      "source": [
        "To know more: http://interactivepython.org/runestone/static/pythonds/AlgorithmAnalysis/BigONotation.html"
      ]
    },
    {
      "cell_type": "markdown",
      "metadata": {
        "hidden": true,
        "id": "1rwDFkW03tsP"
      },
      "source": [
        "![selection](https://github.com/ValRCS/RTU_Algorithms_DIP321/blob/main/imgs/bigo.png?raw=1)"
      ]
    },
    {
      "cell_type": "markdown",
      "metadata": {
        "hidden": true,
        "id": "Xp0XHF3L3tsQ"
      },
      "source": [
        "<img src=\"http://interactivepython.org/runestone/static/pythonds/_images/newplot.png\">"
      ]
    },
    {
      "cell_type": "markdown",
      "metadata": {
        "hidden": true,
        "id": "Z0Rrsybj3tsR"
      },
      "source": [
        "Let's understand this through 2 different implementation of search algorithm"
      ]
    },
    {
      "cell_type": "markdown",
      "metadata": {
        "heading_collapsed": true,
        "hidden": true,
        "id": "pFzOr1Cc3tsS"
      },
      "source": [
        "## Search algorithm"
      ]
    },
    {
      "cell_type": "markdown",
      "metadata": {
        "heading_collapsed": true,
        "hidden": true,
        "id": "q-H4MSB33tsS"
      },
      "source": [
        "### Linear search"
      ]
    },
    {
      "cell_type": "code",
      "execution_count": 2,
      "metadata": {
        "hidden": true,
        "id": "NAQioi_V3tsS"
      },
      "outputs": [],
      "source": [
        "def linear_search(sequence, target):\n",
        "    for element in sequence:\n",
        "        if element == target:\n",
        "            return True\n",
        "    return False\n",
        "# so this is O(n) time complexity"
      ]
    },
    {
      "cell_type": "code",
      "execution_count": 5,
      "metadata": {
        "colab": {
          "base_uri": "https://localhost:8080/"
        },
        "hidden": true,
        "id": "6a_aQUJM3tsT",
        "outputId": "219c245f-ac7c-4715-e68e-048dca9f25aa"
      },
      "outputs": [
        {
          "data": {
            "text/plain": [
              "(array([0, 1, 2, 3, 4]), array([99995, 99996, 99997, 99998, 99999]))"
            ]
          },
          "execution_count": 5,
          "metadata": {},
          "output_type": "execute_result"
        }
      ],
      "source": [
        "l = np.arange(100_000)\n",
        "l[:5],l[-5:]\n",
        "# more on why NumPy arrays are faster than Python lists\n",
        "# https://webcourses.ucf.edu/courses/1249560/pages/python-lists-vs-numpy-arrays-what-is-the-difference"
      ]
    },
    {
      "cell_type": "code",
      "execution_count": 6,
      "metadata": {
        "colab": {
          "base_uri": "https://localhost:8080/"
        },
        "hidden": true,
        "id": "gv2gTYSy3tsT",
        "outputId": "a4666891-1018-4101-bd3b-b2b50796ce2f"
      },
      "outputs": [
        {
          "name": "stdout",
          "output_type": "stream",
          "text": [
            "8.07 ms ± 387 µs per loop (mean ± std. dev. of 7 runs, 100 loops each)\n"
          ]
        }
      ],
      "source": [
        "%%timeit\n",
        "linear_search(l,99_999)"
      ]
    },
    {
      "cell_type": "code",
      "execution_count": 7,
      "metadata": {
        "colab": {
          "base_uri": "https://localhost:8080/"
        },
        "id": "oVWgxTR1M0Wo",
        "outputId": "309b199b-6d20-4dfc-a7c9-aaadcd583d7b"
      },
      "outputs": [
        {
          "name": "stdout",
          "output_type": "stream",
          "text": [
            "296 ns ± 7.14 ns per loop (mean ± std. dev. of 7 runs, 1,000,000 loops each)\n"
          ]
        }
      ],
      "source": [
        "%%timeit\n",
        "linear_search(l,1)"
      ]
    },
    {
      "cell_type": "markdown",
      "metadata": {
        "hidden": true,
        "id": "ZsFZfJ5F3tsT"
      },
      "source": [
        "Time scales linearly with n. So Big-O is $O(n)$"
      ]
    },
    {
      "cell_type": "markdown",
      "metadata": {
        "heading_collapsed": true,
        "hidden": true,
        "id": "KsvpBoGT3tsT"
      },
      "source": [
        "### Binary search"
      ]
    },
    {
      "cell_type": "markdown",
      "metadata": {
        "hidden": true,
        "id": "V6pqKlAI3tsU"
      },
      "source": [
        "Iterative algo"
      ]
    },
    {
      "cell_type": "code",
      "execution_count": 14,
      "metadata": {
        "hidden": true,
        "id": "Uv3k1zs53tsU"
      },
      "outputs": [],
      "source": [
        "def binarySearchIterative(a, target):\n",
        "    upper = len(a) - 1\n",
        "    lower = 0\n",
        "    cnt = 0 # for debugging purposes\n",
        "    while lower <= upper:\n",
        "        middle = (lower + upper) // 2\n",
        "        if target == a[middle]:\n",
        "            return True, cnt\n",
        "        else:\n",
        "            cnt += 1\n",
        "            if target < a[middle]:\n",
        "                upper = middle - 1\n",
        "            else: # t > a[middle]\n",
        "                lower = middle + 1\n",
        "    return False, cnt"
      ]
    },
    {
      "cell_type": "code",
      "execution_count": 12,
      "metadata": {
        "hidden": true,
        "id": "oGZFsyTg3tsU"
      },
      "outputs": [],
      "source": [
        "l = np.arange(100_000)"
      ]
    },
    {
      "cell_type": "code",
      "execution_count": 15,
      "metadata": {},
      "outputs": [
        {
          "data": {
            "text/plain": [
              "(True, 16)"
            ]
          },
          "execution_count": 15,
          "metadata": {},
          "output_type": "execute_result"
        }
      ],
      "source": [
        "binarySearchIterative(l,99_999)"
      ]
    },
    {
      "cell_type": "code",
      "execution_count": 10,
      "metadata": {
        "colab": {
          "base_uri": "https://localhost:8080/"
        },
        "hidden": true,
        "id": "NWcnjpG-3tsU",
        "outputId": "ce5c1896-b85c-49a6-95c7-9a245d12fbad"
      },
      "outputs": [
        {
          "name": "stdout",
          "output_type": "stream",
          "text": [
            "6.25 µs ± 290 ns per loop (mean ± std. dev. of 7 runs, 100,000 loops each)\n"
          ]
        }
      ],
      "source": [
        "%%timeit\n",
        "binarySearchIterative(l,99_999)"
      ]
    },
    {
      "cell_type": "code",
      "execution_count": 16,
      "metadata": {},
      "outputs": [
        {
          "data": {
            "text/plain": [
              "16.609640474436812"
            ]
          },
          "execution_count": 16,
          "metadata": {},
          "output_type": "execute_result"
        }
      ],
      "source": [
        "import math\n",
        "math.log2(100_000)"
      ]
    },
    {
      "cell_type": "markdown",
      "metadata": {
        "hidden": true,
        "id": "1z7Zqprs3tsV"
      },
      "source": [
        "Time scales linearly with n. So Big-O is $O(log(n))$"
      ]
    },
    {
      "cell_type": "markdown",
      "metadata": {
        "hidden": true,
        "id": "tMWTIbI63tsV"
      },
      "source": [
        "We can see that binary search is almost 30x faster"
      ]
    },
    {
      "cell_type": "markdown",
      "metadata": {
        "hidden": true,
        "id": "i_ACmidv3tsV"
      },
      "source": [
        "We can do binary search in a recursive way too"
      ]
    },
    {
      "cell_type": "code",
      "execution_count": null,
      "metadata": {
        "hidden": true,
        "id": "Uojgsc8K3tsV"
      },
      "outputs": [],
      "source": [
        "def binarySearchRecursive(a, t):\n",
        "    upper = len(a) - 1\n",
        "    lower = 0\n",
        "    if upper >= 0:\n",
        "        middle = (lower + upper) // 2\n",
        "        if t == a[middle]: return True\n",
        "        if t < a[middle]: return binarySearchRecursive(a[:middle], t)\n",
        "        else: return binarySearchRecursive(a[middle + 1:], t)\n",
        "    return False"
      ]
    },
    {
      "cell_type": "code",
      "execution_count": null,
      "metadata": {
        "colab": {
          "base_uri": "https://localhost:8080/"
        },
        "hidden": true,
        "id": "xuxeOCyG3tsV",
        "outputId": "1ca845c3-a08a-477a-e1d2-88632a786fd3"
      },
      "outputs": [
        {
          "name": "stdout",
          "output_type": "stream",
          "text": [
            "100000 loops, best of 5: 12.7 µs per loop\n"
          ]
        }
      ],
      "source": [
        "%%timeit\n",
        "binarySearchRecursive(l,999)"
      ]
    },
    {
      "cell_type": "markdown",
      "metadata": {
        "heading_collapsed": true,
        "id": "rEMz6f6D3tsW"
      },
      "source": [
        "# Sorting algorithms"
      ]
    },
    {
      "cell_type": "code",
      "execution_count": null,
      "metadata": {
        "id": "8dot3O233tsW"
      },
      "outputs": [],
      "source": [
        "# What is the worst type of sorting algorithm that you can think of ?\n",
        "# https://en.wikipedia.org/wiki/Bogosort\n",
        "# while not isInOrder(deck):\n",
        "#    shuffle(deck)"
      ]
    },
    {
      "cell_type": "code",
      "execution_count": 17,
      "metadata": {
        "id": "P6u9C3iI3tsW"
      },
      "outputs": [],
      "source": [
        "from random import shuffle\n",
        "\n",
        "# helper function to check if data is sorted\n",
        "def is_sorted(data) -> bool:\n",
        "    \"\"\"Determine whether the data is sorted.\"\"\"\n",
        "    # linear complexity\n",
        "    # could write with a regular for loop\n",
        "    # for i in range(len(data) - 1):\n",
        "    #     if data[i] > data[i + 1]:\n",
        "    #         return False\n",
        "    # return True\n",
        "    # more Pythonic way would be to use zip\n",
        "    # for first, second in zip(data, data[1:]):\n",
        "    #     if first > second:\n",
        "    #         return False\n",
        "    # return True\n",
        "    # same as above code using all -\n",
        "    return all(data[i] <= data[i + 1] for i in range(len(data) - 1)) # go through all items in collection and check order\n",
        "\n",
        "\n",
        "def bogosort(data) -> list:\n",
        "    \"\"\"Shuffle data until sorted.\"\"\"\n",
        "    while not is_sorted(data): # well will we ever be done ? :)\n",
        "        shuffle(data) # in place\n",
        "    return data"
      ]
    },
    {
      "cell_type": "code",
      "execution_count": 18,
      "metadata": {
        "id": "V60CIQ3Y3tsW"
      },
      "outputs": [],
      "source": [
        "mydata = [1,6,4,3,-7]"
      ]
    },
    {
      "cell_type": "code",
      "execution_count": 20,
      "metadata": {
        "colab": {
          "base_uri": "https://localhost:8080/"
        },
        "id": "D0UOyYei3tsW",
        "outputId": "2e68a2ec-5868-464e-da54-8aa08cc9beb7"
      },
      "outputs": [
        {
          "data": {
            "text/plain": [
              "[-7, 1, 3, 4, 6]"
            ]
          },
          "execution_count": 20,
          "metadata": {},
          "output_type": "execute_result"
        }
      ],
      "source": [
        "bogodata = bogosort(mydata)\n",
        "bogodata"
      ]
    },
    {
      "cell_type": "code",
      "execution_count": 21,
      "metadata": {
        "colab": {
          "base_uri": "https://localhost:8080/"
        },
        "id": "_SIrfhq83tsX",
        "outputId": "18f6ceca-3171-44d6-e27d-37add6efd134"
      },
      "outputs": [
        {
          "name": "stdout",
          "output_type": "stream",
          "text": [
            "1.07 µs ± 40.1 ns per loop (mean ± std. dev. of 7 runs, 1,000,000 loops each)\n"
          ]
        }
      ],
      "source": [
        "%%timeit\n",
        "bogosort(mydata)"
      ]
    },
    {
      "cell_type": "code",
      "execution_count": null,
      "metadata": {},
      "outputs": [],
      "source": []
    },
    {
      "cell_type": "code",
      "execution_count": 22,
      "metadata": {},
      "outputs": [
        {
          "data": {
            "text/plain": [
              "[-7, 1, 3, 4, 6]"
            ]
          },
          "execution_count": 22,
          "metadata": {},
          "output_type": "execute_result"
        }
      ],
      "source": [
        "# lets check mydata\n",
        "mydata"
      ]
    },
    {
      "cell_type": "code",
      "execution_count": 25,
      "metadata": {},
      "outputs": [],
      "source": [
        "def bogosort_out_of_place(data) -> list:\n",
        "    \"\"\"Shuffle data until sorted.\n",
        "    This version does not modify the input. - OUT OF PLACE\"\"\"\n",
        "    mydata = data.copy() # easy way to copy a list, expensive for large lists\n",
        "    while not is_sorted(mydata): # well will we ever be done ? :)\n",
        "        shuffle(mydata) # in place\n",
        "    return mydata"
      ]
    },
    {
      "cell_type": "code",
      "execution_count": 26,
      "metadata": {},
      "outputs": [
        {
          "data": {
            "text/plain": [
              "([-7, 1, 3, 4, 6], [1, 6, 4, 3, -7])"
            ]
          },
          "execution_count": 26,
          "metadata": {},
          "output_type": "execute_result"
        }
      ],
      "source": [
        "mydata = [1,6,4,3,-7]\n",
        "sorted_data = bogosort_out_of_place(mydata)\n",
        "sorted_data, mydata # original is preserved"
      ]
    },
    {
      "cell_type": "code",
      "execution_count": 27,
      "metadata": {},
      "outputs": [
        {
          "name": "stdout",
          "output_type": "stream",
          "text": [
            "339 µs ± 15.2 µs per loop (mean ± std. dev. of 7 runs, 1,000 loops each)\n"
          ]
        }
      ],
      "source": [
        "%%timeit\n",
        "bogosort_out_of_place(mydata)"
      ]
    },
    {
      "cell_type": "markdown",
      "metadata": {},
      "source": [
        "## Creating Random Numbers"
      ]
    },
    {
      "cell_type": "code",
      "execution_count": 42,
      "metadata": {
        "id": "fp14QCIl3tsY"
      },
      "outputs": [],
      "source": [
        "import random\n",
        "random.seed(2024) # so we get same pseudo random numbers\n",
        "# using list comprehension to generate random number lists\n",
        "rand1M = [random.randint(1,10_000_000) for _ in range(1_000_000)]\n",
        "rand100000 = [random.randint(1,1000000) for _ in range(100_000)]\n",
        "rand10000 = [random.randint(1,100000) for _ in range(10_000)]\n",
        "rand1000 = [random.randint(1,100000) for _ in range(1_000)]\n",
        "rand100 = [random.randint(1,1000) for _ in range(100)]\n",
        "rand10 = [random.randint(1,1000) for _ in range(10)]\n",
        "rand8 = [random.randint(1,1000) for _ in range(8)]\n",
        "rand9 = [random.randint(1,1000) for _ in range(9)]\n",
        "rand7 = [random.randint(1,1000) for _ in range(7)]\n",
        "rand6 = [random.randint(1,1000) for _ in range(6)]"
      ]
    },
    {
      "cell_type": "code",
      "execution_count": 29,
      "metadata": {
        "colab": {
          "base_uri": "https://localhost:8080/"
        },
        "id": "FuRP78fb8DjU",
        "outputId": "f9d7ea6c-9ff8-4047-c5a8-cf3a97ad26ac"
      },
      "outputs": [
        {
          "data": {
            "text/plain": [
              "[567, 145, 258, 110, 852, 48]"
            ]
          },
          "execution_count": 29,
          "metadata": {},
          "output_type": "execute_result"
        }
      ],
      "source": [
        "rand6"
      ]
    },
    {
      "cell_type": "code",
      "execution_count": 31,
      "metadata": {
        "colab": {
          "base_uri": "https://localhost:8080/"
        },
        "id": "STQPzicN3tsY",
        "outputId": "9e034fed-e66b-41ad-92d7-340a507dd3a4"
      },
      "outputs": [
        {
          "data": {
            "text/plain": [
              "([567, 145, 258, 110, 852, 48], [48, 110, 145, 258, 567, 852])"
            ]
          },
          "execution_count": 31,
          "metadata": {},
          "output_type": "execute_result"
        }
      ],
      "source": [
        "rand6sorted = bogosort_out_of_place(rand6)\n",
        "rand6, rand6sorted"
      ]
    },
    {
      "cell_type": "code",
      "execution_count": 32,
      "metadata": {
        "colab": {
          "base_uri": "https://localhost:8080/"
        },
        "id": "10a6vSmu3tsY",
        "outputId": "96a87b42-305d-48b5-c360-367f53920af4"
      },
      "outputs": [
        {
          "name": "stdout",
          "output_type": "stream",
          "text": [
            "2.63 ms ± 543 µs per loop (mean ± std. dev. of 7 runs, 100 loops each)\n"
          ]
        }
      ],
      "source": [
        "%%timeit\n",
        "bogosort_out_of_place(rand6)"
      ]
    },
    {
      "cell_type": "code",
      "execution_count": 39,
      "metadata": {
        "colab": {
          "base_uri": "https://localhost:8080/"
        },
        "id": "ErYKLsT43tsZ",
        "outputId": "d21febf7-3b00-4c5a-e409-ac6db4da442f"
      },
      "outputs": [
        {
          "data": {
            "text/plain": [
              "([609, 108, 56, 304, 443, 911, 181], [56, 108, 181, 304, 443, 609, 911])"
            ]
          },
          "execution_count": 39,
          "metadata": {},
          "output_type": "execute_result"
        }
      ],
      "source": [
        "rand7sorted = bogosort_out_of_place(rand7) \n",
        "rand7, rand7sorted"
      ]
    },
    {
      "cell_type": "code",
      "execution_count": 40,
      "metadata": {},
      "outputs": [
        {
          "name": "stdout",
          "output_type": "stream",
          "text": [
            "21.1 ms ± 4.73 ms per loop (mean ± std. dev. of 7 runs, 10 loops each)\n"
          ]
        }
      ],
      "source": [
        "%%timeit\n",
        "bogosort_out_of_place(rand7)"
      ]
    },
    {
      "cell_type": "code",
      "execution_count": 43,
      "metadata": {
        "colab": {
          "base_uri": "https://localhost:8080/"
        },
        "id": "Lae0ftRiPMLt",
        "outputId": "b9a59044-b60d-4f03-9485-c71d439f403e"
      },
      "outputs": [
        {
          "name": "stdout",
          "output_type": "stream",
          "text": [
            "The slowest run took 4.61 times longer than the fastest. This could mean that an intermediate result is being cached.\n",
            "131 ms ± 59.8 ms per loop (mean ± std. dev. of 7 runs, 1 loop each)\n"
          ]
        }
      ],
      "source": [
        "%%timeit\n",
        "bogosort_out_of_place(rand8)"
      ]
    },
    {
      "cell_type": "code",
      "execution_count": 49,
      "metadata": {
        "colab": {
          "base_uri": "https://localhost:8080/"
        },
        "id": "GEjrv_3LPQUL",
        "outputId": "4f733425-1696-4018-d36e-d8da6351723a"
      },
      "outputs": [
        {
          "data": {
            "text/plain": [
              "[20, 57, 61, 241, 251, 319, 861, 880, 963]"
            ]
          },
          "execution_count": 49,
          "metadata": {},
          "output_type": "execute_result"
        }
      ],
      "source": [
        "bogosort_out_of_place(rand9)"
      ]
    },
    {
      "cell_type": "code",
      "execution_count": 26,
      "metadata": {
        "colab": {
          "base_uri": "https://localhost:8080/"
        },
        "id": "Sh-uTSAwPYA0",
        "outputId": "af9db277-58d8-44f6-b4c5-eef65765f659"
      },
      "outputs": [
        {
          "data": {
            "text/plain": [
              "[13, 138, 203, 205, 246, 380, 397, 633, 784, 968]"
            ]
          },
          "execution_count": 26,
          "metadata": {},
          "output_type": "execute_result"
        }
      ],
      "source": [
        "bogosort(rand10)"
      ]
    },
    {
      "cell_type": "code",
      "execution_count": null,
      "metadata": {
        "colab": {
          "base_uri": "https://localhost:8080/"
        },
        "id": "IUy5lg7r3tsZ",
        "outputId": "016d99e1-e4e0-4126-cfcd-78895590bfe7"
      },
      "outputs": [
        {
          "name": "stdout",
          "output_type": "stream",
          "text": [
            "The slowest run took 4.54 times longer than the fastest. This could mean that an intermediate result is being cached.\n",
            "1000000 loops, best of 5: 1.72 µs per loop\n"
          ]
        }
      ],
      "source": [
        "%%timeit\n",
        "bogosort(rand7)"
      ]
    },
    {
      "cell_type": "code",
      "execution_count": null,
      "metadata": {
        "colab": {
          "base_uri": "https://localhost:8080/"
        },
        "id": "uFWG8QRI8LeJ",
        "outputId": "f7b79e9a-f6aa-44e4-b534-77b74bbfd92b"
      },
      "outputs": [
        {
          "data": {
            "text/plain": [
              "[873, 367, 458, 522, 336, 881, 356, 393]"
            ]
          },
          "execution_count": 28,
          "metadata": {},
          "output_type": "execute_result"
        }
      ],
      "source": [
        "rand8"
      ]
    },
    {
      "cell_type": "code",
      "execution_count": null,
      "metadata": {
        "colab": {
          "base_uri": "https://localhost:8080/"
        },
        "id": "spb85-UL8Nli",
        "outputId": "0ece40cb-a7f8-4f8d-c7e7-25d049b38c31"
      },
      "outputs": [
        {
          "data": {
            "text/plain": [
              "[336, 356, 367, 393, 458, 522, 873, 881]"
            ]
          },
          "execution_count": 34,
          "metadata": {},
          "output_type": "execute_result"
        }
      ],
      "source": [
        "bogosort(rand8)"
      ]
    },
    {
      "cell_type": "code",
      "execution_count": null,
      "metadata": {
        "colab": {
          "base_uri": "https://localhost:8080/"
        },
        "id": "-RCo4QFH8TNC",
        "outputId": "d032be4e-a205-4533-d768-908e46856554"
      },
      "outputs": [
        {
          "data": {
            "text/plain": [
              "[191, 360, 502, 511, 614, 627, 821, 876, 943]"
            ]
          },
          "execution_count": 38,
          "metadata": {},
          "output_type": "execute_result"
        }
      ],
      "source": [
        "bogosort(rand9)"
      ]
    },
    {
      "cell_type": "code",
      "execution_count": null,
      "metadata": {
        "colab": {
          "base_uri": "https://localhost:8080/"
        },
        "id": "Yw3sUf8V8WdA",
        "outputId": "cd3b8511-3b2c-4d1f-dd92-4e28d45986ec"
      },
      "outputs": [
        {
          "name": "stdout",
          "output_type": "stream",
          "text": [
            "The slowest run took 4.16 times longer than the fastest. This could mean that an intermediate result is being cached.\n",
            "100000 loops, best of 5: 1.93 µs per loop\n"
          ]
        }
      ],
      "source": [
        "%%timeit\n",
        "bogosort(rand9)"
      ]
    },
    {
      "cell_type": "code",
      "execution_count": null,
      "metadata": {
        "id": "cPZkj1vB8iGP"
      },
      "outputs": [],
      "source": []
    },
    {
      "cell_type": "code",
      "execution_count": 28,
      "metadata": {
        "colab": {
          "base_uri": "https://localhost:8080/",
          "height": 333
        },
        "id": "qRczEkbm3tsa",
        "outputId": "c4795df1-cfd3-4c07-98dc-f11d49971bae"
      },
      "outputs": [
        {
          "data": {
            "text/plain": [
              "([13, 138, 203, 205, 246, 380, 397, 633, 784, 968],\n",
              " [13, 138, 203, 205, 246, 380, 397, 633, 784, 968],\n",
              " True)"
            ]
          },
          "execution_count": 28,
          "metadata": {},
          "output_type": "execute_result"
        }
      ],
      "source": [
        "rand10sorted = bogosort(rand10)\n",
        "rand10, rand10sorted, rand10 is rand10sorted # refers to the same object in memory"
      ]
    },
    {
      "cell_type": "code",
      "execution_count": null,
      "metadata": {
        "id": "_qm2Y29G3tsa",
        "outputId": "cab32c74-d6a4-4e9e-9a82-24fcb6865ce0"
      },
      "outputs": [
        {
          "data": {
            "text/plain": [
              "[133, 921, 120, 508, 87, 293]"
            ]
          },
          "execution_count": 14,
          "metadata": {},
          "output_type": "execute_result"
        }
      ],
      "source": [
        "rand6"
      ]
    },
    {
      "cell_type": "code",
      "execution_count": null,
      "metadata": {
        "id": "YNTVAeH43tsb",
        "outputId": "7ef6795b-9514-4a40-cece-e050c2a22674"
      },
      "outputs": [
        {
          "data": {
            "text/plain": [
              "[54, 275, 162, 341, 771, 255, 837]"
            ]
          },
          "execution_count": 13,
          "metadata": {},
          "output_type": "execute_result"
        }
      ],
      "source": [
        "rand7"
      ]
    },
    {
      "cell_type": "code",
      "execution_count": 51,
      "metadata": {
        "id": "IHFbvQbr3tsb",
        "outputId": "ea526548-e7a1-4e10-aa03-df7b0ee633ed"
      },
      "outputs": [
        {
          "data": {
            "text/plain": [
              "[127, 334, 447, 610, 671, 864, 884, 890, 896, 921]"
            ]
          },
          "execution_count": 51,
          "metadata": {},
          "output_type": "execute_result"
        }
      ],
      "source": [
        "bogosort_out_of_place(rand10) # should be 10 times slower than rand9 on AVERAGE!"
      ]
    },
    {
      "cell_type": "code",
      "execution_count": 52,
      "metadata": {
        "colab": {
          "base_uri": "https://localhost:8080/"
        },
        "id": "fG4t4FUZ3tsb",
        "outputId": "a1d710b1-6938-4cda-fc4b-572d05b6e798"
      },
      "outputs": [
        {
          "data": {
            "text/plain": [
              "3628800"
            ]
          },
          "execution_count": 52,
          "metadata": {},
          "output_type": "execute_result"
        }
      ],
      "source": [
        "import math\n",
        "# how many different ways of arranging 10 items\n",
        "math.factorial(10)"
      ]
    },
    {
      "cell_type": "code",
      "execution_count": 53,
      "metadata": {
        "colab": {
          "base_uri": "https://localhost:8080/"
        },
        "id": "pQw0y402Po_N",
        "outputId": "d76ae676-d54f-4e81-e4cd-e624b3a58b6a"
      },
      "outputs": [
        {
          "data": {
            "text/plain": [
              "2432902008176640000"
            ]
          },
          "execution_count": 53,
          "metadata": {},
          "output_type": "execute_result"
        }
      ],
      "source": [
        "math.factorial(20)  # so we are highly unlikely to sort 20 numbers with this Bogosort"
      ]
    },
    {
      "cell_type": "code",
      "execution_count": null,
      "metadata": {
        "colab": {
          "base_uri": "https://localhost:8080/"
        },
        "id": "InVn4kZV8s8d",
        "outputId": "86ef7dfa-f02c-4516-911d-460c5a668d89"
      },
      "outputs": [
        {
          "data": {
            "text/plain": [
              "362880"
            ]
          },
          "execution_count": 42,
          "metadata": {},
          "output_type": "execute_result"
        }
      ],
      "source": [
        "math.factorial(9)"
      ]
    },
    {
      "cell_type": "code",
      "execution_count": null,
      "metadata": {
        "colab": {
          "base_uri": "https://localhost:8080/"
        },
        "id": "0E2uSMAE8zpE",
        "outputId": "5c5fb17b-eba3-4ee9-f238-abd71835c379"
      },
      "outputs": [
        {
          "data": {
            "text/plain": [
              "[614, 487, 345, 161, 946, 92, 433, 367, 896, 587]"
            ]
          },
          "execution_count": 43,
          "metadata": {},
          "output_type": "execute_result"
        }
      ],
      "source": [
        "rand10"
      ]
    },
    {
      "cell_type": "code",
      "execution_count": null,
      "metadata": {
        "colab": {
          "base_uri": "https://localhost:8080/",
          "height": 315
        },
        "id": "K45EdWht81Fw",
        "outputId": "e1ac3e67-53bc-4e41-aa99-76100d72329b"
      },
      "outputs": [
        {
          "ename": "KeyboardInterrupt",
          "evalue": "ignored",
          "output_type": "error",
          "traceback": [
            "\u001b[0;31m---------------------------------------------------------------------------\u001b[0m",
            "\u001b[0;31mKeyboardInterrupt\u001b[0m                         Traceback (most recent call last)",
            "\u001b[0;32m<ipython-input-44-a4f794563997>\u001b[0m in \u001b[0;36m<module>\u001b[0;34m()\u001b[0m\n\u001b[0;32m----> 1\u001b[0;31m \u001b[0mbogosort\u001b[0m\u001b[0;34m(\u001b[0m\u001b[0mrand10\u001b[0m\u001b[0;34m)\u001b[0m\u001b[0;34m\u001b[0m\u001b[0;34m\u001b[0m\u001b[0m\n\u001b[0m",
            "\u001b[0;32m<ipython-input-16-fc240fed4c6c>\u001b[0m in \u001b[0;36mbogosort\u001b[0;34m(data)\u001b[0m\n\u001b[1;32m     10\u001b[0m     \u001b[0;34m\"\"\"Shuffle data until sorted.\"\"\"\u001b[0m\u001b[0;34m\u001b[0m\u001b[0;34m\u001b[0m\u001b[0m\n\u001b[1;32m     11\u001b[0m     \u001b[0;32mwhile\u001b[0m \u001b[0;32mnot\u001b[0m \u001b[0mis_sorted\u001b[0m\u001b[0;34m(\u001b[0m\u001b[0mdata\u001b[0m\u001b[0;34m)\u001b[0m\u001b[0;34m:\u001b[0m \u001b[0;31m# well will we ever be done ? :)\u001b[0m\u001b[0;34m\u001b[0m\u001b[0;34m\u001b[0m\u001b[0m\n\u001b[0;32m---> 12\u001b[0;31m         \u001b[0mshuffle\u001b[0m\u001b[0;34m(\u001b[0m\u001b[0mdata\u001b[0m\u001b[0;34m)\u001b[0m \u001b[0;31m# in place\u001b[0m\u001b[0;34m\u001b[0m\u001b[0;34m\u001b[0m\u001b[0m\n\u001b[0m\u001b[1;32m     13\u001b[0m     \u001b[0;32mreturn\u001b[0m \u001b[0mdata\u001b[0m\u001b[0;34m\u001b[0m\u001b[0;34m\u001b[0m\u001b[0m\n",
            "\u001b[0;32m/usr/lib/python3.7/random.py\u001b[0m in \u001b[0;36mshuffle\u001b[0;34m(self, x, random)\u001b[0m\n\u001b[1;32m    273\u001b[0m         \u001b[0;32mif\u001b[0m \u001b[0mrandom\u001b[0m \u001b[0;32mis\u001b[0m \u001b[0;32mNone\u001b[0m\u001b[0;34m:\u001b[0m\u001b[0;34m\u001b[0m\u001b[0;34m\u001b[0m\u001b[0m\n\u001b[1;32m    274\u001b[0m             \u001b[0mrandbelow\u001b[0m \u001b[0;34m=\u001b[0m \u001b[0mself\u001b[0m\u001b[0;34m.\u001b[0m\u001b[0m_randbelow\u001b[0m\u001b[0;34m\u001b[0m\u001b[0;34m\u001b[0m\u001b[0m\n\u001b[0;32m--> 275\u001b[0;31m             \u001b[0;32mfor\u001b[0m \u001b[0mi\u001b[0m \u001b[0;32min\u001b[0m \u001b[0mreversed\u001b[0m\u001b[0;34m(\u001b[0m\u001b[0mrange\u001b[0m\u001b[0;34m(\u001b[0m\u001b[0;36m1\u001b[0m\u001b[0;34m,\u001b[0m \u001b[0mlen\u001b[0m\u001b[0;34m(\u001b[0m\u001b[0mx\u001b[0m\u001b[0;34m)\u001b[0m\u001b[0;34m)\u001b[0m\u001b[0;34m)\u001b[0m\u001b[0;34m:\u001b[0m\u001b[0;34m\u001b[0m\u001b[0;34m\u001b[0m\u001b[0m\n\u001b[0m\u001b[1;32m    276\u001b[0m                 \u001b[0;31m# pick an element in x[:i+1] with which to exchange x[i]\u001b[0m\u001b[0;34m\u001b[0m\u001b[0;34m\u001b[0m\u001b[0;34m\u001b[0m\u001b[0m\n\u001b[1;32m    277\u001b[0m                 \u001b[0mj\u001b[0m \u001b[0;34m=\u001b[0m \u001b[0mrandbelow\u001b[0m\u001b[0;34m(\u001b[0m\u001b[0mi\u001b[0m\u001b[0;34m+\u001b[0m\u001b[0;36m1\u001b[0m\u001b[0;34m)\u001b[0m\u001b[0;34m\u001b[0m\u001b[0;34m\u001b[0m\u001b[0m\n",
            "\u001b[0;31mKeyboardInterrupt\u001b[0m: "
          ]
        }
      ],
      "source": [
        "bogosort(rand10)"
      ]
    },
    {
      "cell_type": "code",
      "execution_count": null,
      "metadata": {
        "id": "C-sM3WCt3tsb",
        "outputId": "8fe7bc0d-5097-44d0-e25c-9fdaf4be2720"
      },
      "outputs": [
        {
          "data": {
            "text/plain": [
              "[72, 179, 187, 408, 421, 481, 638]"
            ]
          },
          "execution_count": 10,
          "metadata": {},
          "output_type": "execute_result"
        }
      ],
      "source": [
        "bogo7 = bogosort(rand7)\n",
        "bogo7"
      ]
    },
    {
      "cell_type": "code",
      "execution_count": null,
      "metadata": {
        "id": "qdFVm_l23tsc"
      },
      "outputs": [],
      "source": [
        "# so time complexity for Bogosort is (n!) not very practical :)"
      ]
    },
    {
      "cell_type": "markdown",
      "metadata": {
        "hidden": true,
        "id": "Nct_Wjqq3tsc"
      },
      "source": [
        "Source: http://interactivepython.org/runestone/static/pythonds/SortSearch/toctree.html"
      ]
    },
    {
      "cell_type": "markdown",
      "metadata": {
        "heading_collapsed": true,
        "hidden": true,
        "id": "j_Wg-uju3tsc"
      },
      "source": [
        "### Bubble sort"
      ]
    },
    {
      "cell_type": "markdown",
      "metadata": {
        "hidden": true,
        "id": "Axaf7WwE3tsc"
      },
      "source": [
        "![bubble](https://github.com/ValRCS/RTU_Algorithms_DIP321/blob/main/imgs/bubblepass.png?raw=1)"
      ]
    },
    {
      "cell_type": "markdown",
      "metadata": {
        "hidden": true,
        "id": "j_gqWvrQ3tsd"
      },
      "source": [
        "$$Complexity: O(n^2)$$"
      ]
    },
    {
      "cell_type": "markdown",
      "metadata": {
        "hidden": true,
        "id": "pae8HDMq3tsd"
      },
      "source": [
        "A bubble sort is often considered the most inefficient sorting method since it must exchange items before the final location is known. These “wasted” exchange operations are very costly. However, because the bubble sort makes passes through the entire unsorted portion of the list, it has the capability to do something most sorting algorithms cannot. In particular, if during a pass there are no exchanges, then we know that the list must be sorted. A bubble sort can be modified to stop early if it finds that the list has become sorted. This means that for lists that require just a few passes, a bubble sort may have an advantage in that it will recognize the sorted list and stop."
      ]
    },
    {
      "cell_type": "code",
      "execution_count": 54,
      "metadata": {
        "hidden": true,
        "id": "Wv8iQb2F3tsd"
      },
      "outputs": [],
      "source": [
        "l = [1,2,3,4,32,5,5,66,33,221,34,23,12]"
      ]
    },
    {
      "cell_type": "markdown",
      "metadata": {
        "id": "O7NiC8PYR_rA"
      },
      "source": [
        "## Bubble Sort implementation"
      ]
    },
    {
      "cell_type": "code",
      "execution_count": 55,
      "metadata": {
        "hidden": true,
        "id": "IkgPz0_h3tsd"
      },
      "outputs": [],
      "source": [
        "def bubblesort(seq, debug = False):\n",
        "    nums = seq.copy() # we want to keep the original - so out of place - this incurs a space complexity of O(n)\n",
        "    # here it does not affect overall space complexity because we only do it once outside of the loop\n",
        "    # the loop is where the highest space complexity is incurred in this function\n",
        "    n = len(nums)\n",
        "    exchange_cnt = 1 # just to get into the loop\n",
        "    total_exchange_cnt = 0 # this one is for debugging\n",
        "    while exchange_cnt > 0: # outside loop\n",
        "        exchange_cnt = 0\n",
        "        for i in range(1, n): #inner loop\n",
        "            if nums[i] < nums[i - 1]:\n",
        "                exchange_cnt += 1\n",
        "                total_exchange_cnt += 1\n",
        "                nums[i - 1], nums[i] = nums[i], nums[i - 1] # using python tuple packing and unpacking\n",
        "                # if I did not have this unpacking I would need what approach? Question for the reader\n",
        "        if debug:\n",
        "            print(nums)\n",
        "    return nums, total_exchange_cnt"
      ]
    },
    {
      "cell_type": "code",
      "execution_count": 56,
      "metadata": {
        "colab": {
          "base_uri": "https://localhost:8080/"
        },
        "hidden": true,
        "id": "X7G_9az63tse",
        "outputId": "0a0a7db4-f2d5-4985-9456-547e5b735a81"
      },
      "outputs": [
        {
          "name": "stdout",
          "output_type": "stream",
          "text": [
            "[1, 2, 3, 4, 5, 5, 32, 33, 66, 34, 23, 12, 221]\n",
            "[1, 2, 3, 4, 5, 5, 32, 33, 34, 23, 12, 66, 221]\n",
            "[1, 2, 3, 4, 5, 5, 32, 33, 23, 12, 34, 66, 221]\n",
            "[1, 2, 3, 4, 5, 5, 32, 23, 12, 33, 34, 66, 221]\n",
            "[1, 2, 3, 4, 5, 5, 23, 12, 32, 33, 34, 66, 221]\n",
            "[1, 2, 3, 4, 5, 5, 12, 23, 32, 33, 34, 66, 221]\n",
            "[1, 2, 3, 4, 5, 5, 12, 23, 32, 33, 34, 66, 221]\n"
          ]
        },
        {
          "data": {
            "text/plain": [
              "([1, 2, 3, 4, 5, 5, 12, 23, 32, 33, 34, 66, 221], 16)"
            ]
          },
          "execution_count": 56,
          "metadata": {},
          "output_type": "execute_result"
        }
      ],
      "source": [
        "bubblesort(l, debug=True)"
      ]
    },
    {
      "cell_type": "code",
      "execution_count": 57,
      "metadata": {},
      "outputs": [
        {
          "name": "stdout",
          "output_type": "stream",
          "text": [
            "[671, 890, 610, 127, 334, 447, 864, 896, 884, 921]\n",
            "[671, 610, 127, 334, 447, 864, 890, 884, 896, 921]\n",
            "[610, 127, 334, 447, 671, 864, 884, 890, 896, 921]\n",
            "[127, 334, 447, 610, 671, 864, 884, 890, 896, 921]\n",
            "[127, 334, 447, 610, 671, 864, 884, 890, 896, 921]\n"
          ]
        },
        {
          "data": {
            "text/plain": [
              "([127, 334, 447, 610, 671, 864, 884, 890, 896, 921], 22)"
            ]
          },
          "execution_count": 57,
          "metadata": {},
          "output_type": "execute_result"
        }
      ],
      "source": [
        "bubblesort(rand10, debug=True)"
      ]
    },
    {
      "cell_type": "code",
      "execution_count": 34,
      "metadata": {
        "id": "KrJAcZig3tse"
      },
      "outputs": [
        {
          "name": "stdout",
          "output_type": "stream",
          "text": [
            "[0, 1, 2, 3, 4, 5, 6, 7, 8, 9]\n"
          ]
        },
        {
          "data": {
            "text/plain": [
              "([0, 1, 2, 3, 4, 5, 6, 7, 8, 9], 0)"
            ]
          },
          "execution_count": 34,
          "metadata": {},
          "output_type": "execute_result"
        }
      ],
      "source": [
        "sorted_list = list(range(10))\n",
        "new_list = bubblesort(sorted_list, debug=True)\n",
        "new_list"
      ]
    },
    {
      "cell_type": "code",
      "execution_count": 35,
      "metadata": {
        "id": "-11qH5lB3tse"
      },
      "outputs": [],
      "source": [
        "bubble1000 = bubblesort(rand1000)"
      ]
    },
    {
      "cell_type": "code",
      "execution_count": 36,
      "metadata": {
        "colab": {
          "base_uri": "https://localhost:8080/"
        },
        "id": "RME-32t3RhOB",
        "outputId": "2f74fb1f-d6c3-484c-9873-d8227e72b435"
      },
      "outputs": [
        {
          "data": {
            "text/plain": [
              "[24781, 65385, 91272, 36911, 16505]"
            ]
          },
          "execution_count": 36,
          "metadata": {},
          "output_type": "execute_result"
        }
      ],
      "source": [
        "rand1000[:5]"
      ]
    },
    {
      "cell_type": "code",
      "execution_count": 58,
      "metadata": {
        "colab": {
          "base_uri": "https://localhost:8080/"
        },
        "id": "W8ga4Yqt3tse",
        "outputId": "a9077329-63c6-49a9-a352-3fd231449da8"
      },
      "outputs": [
        {
          "name": "stdout",
          "output_type": "stream",
          "text": [
            "122 ms ± 3.05 ms per loop (mean ± std. dev. of 7 runs, 10 loops each)\n"
          ]
        }
      ],
      "source": [
        "%%timeit\n",
        "bubblesort(rand1000)"
      ]
    },
    {
      "cell_type": "code",
      "execution_count": 59,
      "metadata": {
        "colab": {
          "base_uri": "https://localhost:8080/"
        },
        "id": "S7CZbqnZ3tse",
        "outputId": "633965ae-3944-4ea2-96ac-a03df4785938"
      },
      "outputs": [
        {
          "name": "stdout",
          "output_type": "stream",
          "text": [
            "18.8 s ± 1.5 s per loop (mean ± std. dev. of 7 runs, 1 loop each)\n"
          ]
        }
      ],
      "source": [
        "%%timeit\n",
        "bubblesort(rand10000)"
      ]
    },
    {
      "cell_type": "code",
      "execution_count": null,
      "metadata": {
        "id": "GXTJI_pLUFbX"
      },
      "outputs": [],
      "source": [
        "# so 10 times more data -> ~100x slower"
      ]
    },
    {
      "cell_type": "code",
      "execution_count": null,
      "metadata": {
        "colab": {
          "base_uri": "https://localhost:8080/"
        },
        "id": "SWbMQvuW-Q7e",
        "outputId": "db479028-833d-4b86-968d-e1a510eeda17"
      },
      "outputs": [
        {
          "data": {
            "text/plain": [
              "10000000000"
            ]
          },
          "execution_count": 52,
          "metadata": {},
          "output_type": "execute_result"
        }
      ],
      "source": [
        "100_000**2"
      ]
    },
    {
      "cell_type": "code",
      "execution_count": null,
      "metadata": {
        "colab": {
          "base_uri": "https://localhost:8080/",
          "height": 291
        },
        "id": "mhZnfFpN-ZW0",
        "outputId": "7b548ae4-232e-4347-e62e-bd61200987dd"
      },
      "outputs": [
        {
          "ename": "KeyboardInterrupt",
          "evalue": "ignored",
          "output_type": "error",
          "traceback": [
            "\u001b[0;31m---------------------------------------------------------------------------\u001b[0m",
            "\u001b[0;31mKeyboardInterrupt\u001b[0m                         Traceback (most recent call last)",
            "\u001b[0;32m<ipython-input-53-3782c6b61cbf>\u001b[0m in \u001b[0;36m<module>\u001b[0;34m()\u001b[0m\n\u001b[0;32m----> 1\u001b[0;31m \u001b[0msorted_100k\u001b[0m \u001b[0;34m=\u001b[0m \u001b[0mbubblesort\u001b[0m\u001b[0;34m(\u001b[0m\u001b[0mrand100000\u001b[0m\u001b[0;34m)\u001b[0m\u001b[0;34m\u001b[0m\u001b[0;34m\u001b[0m\u001b[0m\n\u001b[0m",
            "\u001b[0;32m<ipython-input-47-f8dc47ee1031>\u001b[0m in \u001b[0;36mbubblesort\u001b[0;34m(nums, debug)\u001b[0m\n\u001b[1;32m      6\u001b[0m         \u001b[0;32mfor\u001b[0m \u001b[0mi\u001b[0m \u001b[0;32min\u001b[0m \u001b[0mrange\u001b[0m\u001b[0;34m(\u001b[0m\u001b[0;36m1\u001b[0m\u001b[0;34m,\u001b[0m \u001b[0mn\u001b[0m\u001b[0;34m)\u001b[0m\u001b[0;34m:\u001b[0m \u001b[0;31m#inner loop\u001b[0m\u001b[0;34m\u001b[0m\u001b[0;34m\u001b[0m\u001b[0m\n\u001b[1;32m      7\u001b[0m             \u001b[0;32mif\u001b[0m \u001b[0mnums\u001b[0m\u001b[0;34m[\u001b[0m\u001b[0mi\u001b[0m\u001b[0;34m]\u001b[0m \u001b[0;34m<\u001b[0m \u001b[0mnums\u001b[0m\u001b[0;34m[\u001b[0m\u001b[0mi\u001b[0m \u001b[0;34m-\u001b[0m \u001b[0;36m1\u001b[0m\u001b[0;34m]\u001b[0m\u001b[0;34m:\u001b[0m\u001b[0;34m\u001b[0m\u001b[0;34m\u001b[0m\u001b[0m\n\u001b[0;32m----> 8\u001b[0;31m                 \u001b[0mexchange_cnt\u001b[0m \u001b[0;34m+=\u001b[0m \u001b[0;36m1\u001b[0m\u001b[0;34m\u001b[0m\u001b[0;34m\u001b[0m\u001b[0m\n\u001b[0m\u001b[1;32m      9\u001b[0m                 \u001b[0mnums\u001b[0m\u001b[0;34m[\u001b[0m\u001b[0mi\u001b[0m \u001b[0;34m-\u001b[0m \u001b[0;36m1\u001b[0m\u001b[0;34m]\u001b[0m\u001b[0;34m,\u001b[0m \u001b[0mnums\u001b[0m\u001b[0;34m[\u001b[0m\u001b[0mi\u001b[0m\u001b[0;34m]\u001b[0m \u001b[0;34m=\u001b[0m \u001b[0mnums\u001b[0m\u001b[0;34m[\u001b[0m\u001b[0mi\u001b[0m\u001b[0;34m]\u001b[0m\u001b[0;34m,\u001b[0m \u001b[0mnums\u001b[0m\u001b[0;34m[\u001b[0m\u001b[0mi\u001b[0m \u001b[0;34m-\u001b[0m \u001b[0;36m1\u001b[0m\u001b[0;34m]\u001b[0m\u001b[0;34m\u001b[0m\u001b[0;34m\u001b[0m\u001b[0m\n\u001b[1;32m     10\u001b[0m         \u001b[0;32mif\u001b[0m \u001b[0mdebug\u001b[0m\u001b[0;34m:\u001b[0m\u001b[0;34m\u001b[0m\u001b[0;34m\u001b[0m\u001b[0m\n",
            "\u001b[0;31mKeyboardInterrupt\u001b[0m: "
          ]
        }
      ],
      "source": [
        "sorted_100k = bubblesort(rand100000)"
      ]
    },
    {
      "cell_type": "code",
      "execution_count": null,
      "metadata": {
        "id": "VWeDNzEe3tsf",
        "outputId": "effd2c19-dc1b-4b13-c1f4-d23c1067052b"
      },
      "outputs": [
        {
          "ename": "KeyboardInterrupt",
          "evalue": "",
          "output_type": "error",
          "traceback": [
            "\u001b[1;31m---------------------------------------------------------------------------\u001b[0m",
            "\u001b[1;31mKeyboardInterrupt\u001b[0m                         Traceback (most recent call last)",
            "\u001b[1;32m<timed eval>\u001b[0m in \u001b[0;36m<module>\u001b[1;34m\u001b[0m\n",
            "\u001b[1;32m<ipython-input-24-f8dc47ee1031>\u001b[0m in \u001b[0;36mbubblesort\u001b[1;34m(nums, debug)\u001b[0m\n\u001b[0;32m      7\u001b[0m             \u001b[1;32mif\u001b[0m \u001b[0mnums\u001b[0m\u001b[1;33m[\u001b[0m\u001b[0mi\u001b[0m\u001b[1;33m]\u001b[0m \u001b[1;33m<\u001b[0m \u001b[0mnums\u001b[0m\u001b[1;33m[\u001b[0m\u001b[0mi\u001b[0m \u001b[1;33m-\u001b[0m \u001b[1;36m1\u001b[0m\u001b[1;33m]\u001b[0m\u001b[1;33m:\u001b[0m\u001b[1;33m\u001b[0m\u001b[1;33m\u001b[0m\u001b[0m\n\u001b[0;32m      8\u001b[0m                 \u001b[0mexchange_cnt\u001b[0m \u001b[1;33m+=\u001b[0m \u001b[1;36m1\u001b[0m\u001b[1;33m\u001b[0m\u001b[1;33m\u001b[0m\u001b[0m\n\u001b[1;32m----> 9\u001b[1;33m                 \u001b[0mnums\u001b[0m\u001b[1;33m[\u001b[0m\u001b[0mi\u001b[0m \u001b[1;33m-\u001b[0m \u001b[1;36m1\u001b[0m\u001b[1;33m]\u001b[0m\u001b[1;33m,\u001b[0m \u001b[0mnums\u001b[0m\u001b[1;33m[\u001b[0m\u001b[0mi\u001b[0m\u001b[1;33m]\u001b[0m \u001b[1;33m=\u001b[0m \u001b[0mnums\u001b[0m\u001b[1;33m[\u001b[0m\u001b[0mi\u001b[0m\u001b[1;33m]\u001b[0m\u001b[1;33m,\u001b[0m \u001b[0mnums\u001b[0m\u001b[1;33m[\u001b[0m\u001b[0mi\u001b[0m \u001b[1;33m-\u001b[0m \u001b[1;36m1\u001b[0m\u001b[1;33m]\u001b[0m\u001b[1;33m\u001b[0m\u001b[1;33m\u001b[0m\u001b[0m\n\u001b[0m\u001b[0;32m     10\u001b[0m         \u001b[1;32mif\u001b[0m \u001b[0mdebug\u001b[0m\u001b[1;33m:\u001b[0m\u001b[1;33m\u001b[0m\u001b[1;33m\u001b[0m\u001b[0m\n\u001b[0;32m     11\u001b[0m             \u001b[0mprint\u001b[0m\u001b[1;33m(\u001b[0m\u001b[0mnums\u001b[0m\u001b[1;33m)\u001b[0m\u001b[1;33m\u001b[0m\u001b[1;33m\u001b[0m\u001b[0m\n",
            "\u001b[1;31mKeyboardInterrupt\u001b[0m: "
          ]
        }
      ],
      "source": [
        "%%time\n",
        "bubblesort(rand100000)"
      ]
    },
    {
      "cell_type": "code",
      "execution_count": null,
      "metadata": {
        "id": "pKCSAzb23tsf",
        "outputId": "de196dfd-f561-4f8e-b193-a59ecac023f8"
      },
      "outputs": [
        {
          "data": {
            "text/plain": [
              "(100000000, 10000000000)"
            ]
          },
          "execution_count": 37,
          "metadata": {},
          "output_type": "execute_result"
        }
      ],
      "source": [
        "10_000**2, 100_000**2"
      ]
    },
    {
      "cell_type": "markdown",
      "metadata": {
        "heading_collapsed": true,
        "hidden": true,
        "id": "mxV2CcAV3tsf"
      },
      "source": [
        "### Selection sort"
      ]
    },
    {
      "cell_type": "markdown",
      "metadata": {
        "hidden": true,
        "id": "nrnJFsjE3tsg"
      },
      "source": [
        "![selection](https://github.com/ValRCS/RTU_Algorithms_DIP321/blob/main/imgs/selectionsort.png?raw=1)"
      ]
    },
    {
      "cell_type": "markdown",
      "metadata": {
        "hidden": true,
        "id": "-5Zy4ulV3tsg"
      },
      "source": [
        "$$Complexity: O(n^2)$$"
      ]
    },
    {
      "cell_type": "markdown",
      "metadata": {
        "hidden": true,
        "id": "YVd2iapJ3tsg"
      },
      "source": [
        "The selection sort improves on the bubble sort by making only one exchange for every pass through the list. In order to do this, a selection sort looks for the largest value as it makes a pass and, after completing the pass, places it in the proper location. As with a bubble sort, after the first pass, the largest item is in the correct place. After the second pass, the next largest is in place. This process continues and requires n−1 passes to sort n items, since the final item must be in place after the (n−1) st pass."
      ]
    },
    {
      "cell_type": "code",
      "execution_count": 60,
      "metadata": {
        "hidden": true,
        "id": "dcEliWFz3tsg"
      },
      "outputs": [],
      "source": [
        "l = [1,2,3,4,32,5,5,66,33,221,34,23,12]"
      ]
    },
    {
      "cell_type": "code",
      "execution_count": 61,
      "metadata": {
        "hidden": true,
        "id": "YfE7AK573tsg"
      },
      "outputs": [],
      "source": [
        "def selectionSort(seq, debug=False):\n",
        "    l = seq.copy() # again out of place - space complexity O(n)\n",
        "    n = len(l)\n",
        "    end = n - 1\n",
        "    for j in range(n): ## outer loop\n",
        "        max_ = l[-1 - j]\n",
        "        max_idx = -1 - j\n",
        "        for i in range(end): ## inner loop\n",
        "            if l[i] > max_:\n",
        "                max_ = l[i]\n",
        "                max_idx = i\n",
        "            else:\n",
        "                continue\n",
        "        l[-1 - j], l[max_idx] = l[max_idx], l[-1 - j] # swapping items at the end so max value gets to the end\n",
        "        end = end - 1\n",
        "        if debug:\n",
        "            print(l)\n",
        "    return l"
      ]
    },
    {
      "cell_type": "code",
      "execution_count": 62,
      "metadata": {
        "colab": {
          "base_uri": "https://localhost:8080/"
        },
        "hidden": true,
        "id": "5bxaKDnM3tsh",
        "outputId": "ad5bdecd-fc59-4695-f48c-c42bffc2597e"
      },
      "outputs": [
        {
          "name": "stdout",
          "output_type": "stream",
          "text": [
            "[1, 2, 3, 4, 32, 5, 5, 66, 33, 12, 34, 23, 221]\n",
            "[1, 2, 3, 4, 32, 5, 5, 23, 33, 12, 34, 66, 221]\n",
            "[1, 2, 3, 4, 32, 5, 5, 23, 33, 12, 34, 66, 221]\n",
            "[1, 2, 3, 4, 32, 5, 5, 23, 12, 33, 34, 66, 221]\n",
            "[1, 2, 3, 4, 12, 5, 5, 23, 32, 33, 34, 66, 221]\n",
            "[1, 2, 3, 4, 12, 5, 5, 23, 32, 33, 34, 66, 221]\n",
            "[1, 2, 3, 4, 5, 5, 12, 23, 32, 33, 34, 66, 221]\n",
            "[1, 2, 3, 4, 5, 5, 12, 23, 32, 33, 34, 66, 221]\n",
            "[1, 2, 3, 4, 5, 5, 12, 23, 32, 33, 34, 66, 221]\n",
            "[1, 2, 3, 4, 5, 5, 12, 23, 32, 33, 34, 66, 221]\n",
            "[1, 2, 3, 4, 5, 5, 12, 23, 32, 33, 34, 66, 221]\n",
            "[1, 2, 3, 4, 5, 5, 12, 23, 32, 33, 34, 66, 221]\n",
            "[1, 2, 3, 4, 5, 5, 12, 23, 32, 33, 34, 66, 221]\n"
          ]
        },
        {
          "data": {
            "text/plain": [
              "[1, 2, 3, 4, 5, 5, 12, 23, 32, 33, 34, 66, 221]"
            ]
          },
          "execution_count": 62,
          "metadata": {},
          "output_type": "execute_result"
        }
      ],
      "source": [
        "selectionSort(l, debug=True)"
      ]
    },
    {
      "cell_type": "code",
      "execution_count": 63,
      "metadata": {
        "colab": {
          "base_uri": "https://localhost:8080/"
        },
        "id": "miXMuClP__4e",
        "outputId": "e1aba7ae-5391-462b-b2e6-3bf91c2562e1"
      },
      "outputs": [
        {
          "data": {
            "text/plain": [
              "[890, 671, 921, 610, 127, 334, 447, 864, 896, 884]"
            ]
          },
          "execution_count": 63,
          "metadata": {},
          "output_type": "execute_result"
        }
      ],
      "source": [
        "rand10"
      ]
    },
    {
      "cell_type": "code",
      "execution_count": 64,
      "metadata": {
        "colab": {
          "base_uri": "https://localhost:8080/"
        },
        "id": "MTlfolXjACBk",
        "outputId": "f5c1c4a4-d899-4ab8-ac31-8d147b2f7b9b"
      },
      "outputs": [
        {
          "name": "stdout",
          "output_type": "stream",
          "text": [
            "[890, 671, 884, 610, 127, 334, 447, 864, 896, 921]\n",
            "[890, 671, 884, 610, 127, 334, 447, 864, 896, 921]\n",
            "[864, 671, 884, 610, 127, 334, 447, 890, 896, 921]\n",
            "[864, 671, 447, 610, 127, 334, 884, 890, 896, 921]\n",
            "[334, 671, 447, 610, 127, 864, 884, 890, 896, 921]\n",
            "[334, 127, 447, 610, 671, 864, 884, 890, 896, 921]\n",
            "[334, 127, 447, 610, 671, 864, 884, 890, 896, 921]\n",
            "[334, 127, 447, 610, 671, 864, 884, 890, 896, 921]\n",
            "[127, 334, 447, 610, 671, 864, 884, 890, 896, 921]\n",
            "[127, 334, 447, 610, 671, 864, 884, 890, 896, 921]\n"
          ]
        },
        {
          "data": {
            "text/plain": [
              "[127, 334, 447, 610, 671, 864, 884, 890, 896, 921]"
            ]
          },
          "execution_count": 64,
          "metadata": {},
          "output_type": "execute_result"
        }
      ],
      "source": [
        "selectionSort(rand10, debug=True)"
      ]
    },
    {
      "cell_type": "markdown",
      "metadata": {
        "hidden": true,
        "id": "2YiNXlNf3tsh"
      },
      "source": [
        "The benefit of selection over bubble sort is it does one exchange per pass whereas bubble sort can do multiple exchanges."
      ]
    },
    {
      "cell_type": "code",
      "execution_count": 65,
      "metadata": {
        "colab": {
          "base_uri": "https://localhost:8080/"
        },
        "id": "mJHoIGMY3tsh",
        "outputId": "cc9d6c21-9e02-4248-8263-74185abde2ac"
      },
      "outputs": [
        {
          "name": "stdout",
          "output_type": "stream",
          "text": [
            "25.6 ms ± 2.76 ms per loop (mean ± std. dev. of 7 runs, 10 loops each)\n"
          ]
        }
      ],
      "source": [
        "%%timeit\n",
        "selectionSort(rand1000)"
      ]
    },
    {
      "cell_type": "code",
      "execution_count": 66,
      "metadata": {
        "colab": {
          "base_uri": "https://localhost:8080/"
        },
        "id": "n1d2WpQd3tsh",
        "outputId": "c1f24203-9f80-4954-a220-bcde957cf63c"
      },
      "outputs": [
        {
          "name": "stdout",
          "output_type": "stream",
          "text": [
            "2.72 s ± 69.6 ms per loop (mean ± std. dev. of 7 runs, 1 loop each)\n"
          ]
        }
      ],
      "source": [
        "%%timeit\n",
        "selectionSort(rand10000)"
      ]
    },
    {
      "cell_type": "code",
      "execution_count": null,
      "metadata": {
        "id": "cKxNl56m3tsh"
      },
      "outputs": [],
      "source": [
        "# so 10 x more items and we ge 10x10=100 slower speed"
      ]
    },
    {
      "cell_type": "markdown",
      "metadata": {
        "heading_collapsed": true,
        "hidden": true,
        "id": "PCwRgPum3tsh"
      },
      "source": [
        "### Insertion sort"
      ]
    },
    {
      "cell_type": "markdown",
      "metadata": {
        "hidden": true,
        "id": "1oe2M-Ff3tsh"
      },
      "source": [
        "![insertion](https://github.com/ValRCS/RTU_Algorithms_DIP321/blob/main/imgs/insertionsort.png?raw=1)"
      ]
    },
    {
      "cell_type": "markdown",
      "metadata": {
        "hidden": true,
        "id": "4NV9Cv9i3tsi"
      },
      "source": [
        "$$Complexity: O(n^2)$$"
      ]
    },
    {
      "cell_type": "code",
      "execution_count": 44,
      "metadata": {
        "hidden": true,
        "id": "1I9VaVsD3tsi"
      },
      "outputs": [],
      "source": [
        "l = [1,2,3,4,32,5,5,66,33,221,34,23,12]"
      ]
    },
    {
      "cell_type": "code",
      "execution_count": 67,
      "metadata": {
        "hidden": true,
        "id": "y8AeKO403tsi"
      },
      "outputs": [],
      "source": [
        "def insertionSort(seq, debug=False):\n",
        "    l = seq.copy()  # we do not want to mess with the original - this costs us O(n) space complexity\n",
        "    # also above costs O(n) time but that does not affect the overall time complexity\n",
        "    # it affects practical speed of the function\n",
        "    for i in range(1, len(l)): # outer loop - we start from 1 because we assume the first element is sorted\n",
        "        cval = l[i]\n",
        "        pos = i\n",
        "        while pos > 0 and l[pos - 1] > cval: # inner loop\n",
        "            l[pos],l[pos-1] = l[pos - 1],l[pos]\n",
        "            pos = pos - 1\n",
        "        if debug:\n",
        "            print(l)\n",
        "    return l"
      ]
    },
    {
      "cell_type": "code",
      "execution_count": 68,
      "metadata": {
        "colab": {
          "base_uri": "https://localhost:8080/"
        },
        "hidden": true,
        "id": "VUEzssRN3tsi",
        "outputId": "c498f947-9944-45a4-ce32-0d7ef1073e9e"
      },
      "outputs": [
        {
          "name": "stdout",
          "output_type": "stream",
          "text": [
            "[1, 2, 3, 4, 32, 5, 5, 66, 33, 221, 34, 23, 12]\n",
            "[1, 2, 3, 4, 32, 5, 5, 66, 33, 221, 34, 23, 12]\n",
            "[1, 2, 3, 4, 32, 5, 5, 66, 33, 221, 34, 23, 12]\n",
            "[1, 2, 3, 4, 32, 5, 5, 66, 33, 221, 34, 23, 12]\n",
            "[1, 2, 3, 4, 5, 32, 5, 66, 33, 221, 34, 23, 12]\n",
            "[1, 2, 3, 4, 5, 5, 32, 66, 33, 221, 34, 23, 12]\n",
            "[1, 2, 3, 4, 5, 5, 32, 66, 33, 221, 34, 23, 12]\n",
            "[1, 2, 3, 4, 5, 5, 32, 33, 66, 221, 34, 23, 12]\n",
            "[1, 2, 3, 4, 5, 5, 32, 33, 66, 221, 34, 23, 12]\n",
            "[1, 2, 3, 4, 5, 5, 32, 33, 34, 66, 221, 23, 12]\n",
            "[1, 2, 3, 4, 5, 5, 23, 32, 33, 34, 66, 221, 12]\n",
            "[1, 2, 3, 4, 5, 5, 12, 23, 32, 33, 34, 66, 221]\n"
          ]
        },
        {
          "data": {
            "text/plain": [
              "[1, 2, 3, 4, 5, 5, 12, 23, 32, 33, 34, 66, 221]"
            ]
          },
          "execution_count": 68,
          "metadata": {},
          "output_type": "execute_result"
        }
      ],
      "source": [
        "insertionSort(l,debug=True)"
      ]
    },
    {
      "cell_type": "code",
      "execution_count": 47,
      "metadata": {
        "colab": {
          "base_uri": "https://localhost:8080/"
        },
        "id": "xGgHcMuAGJvd",
        "outputId": "1c4fdaa8-b4b7-49b2-a1d8-e30e3edec0ae"
      },
      "outputs": [
        {
          "data": {
            "text/plain": [
              "[2613, 2534, 2454, 6124, 4123]"
            ]
          },
          "execution_count": 47,
          "metadata": {},
          "output_type": "execute_result"
        }
      ],
      "source": [
        "rand1000 = [random.randint(1,10000) for _ in range(1_000)]\n",
        "rand1000[:5]"
      ]
    },
    {
      "cell_type": "code",
      "execution_count": 69,
      "metadata": {
        "colab": {
          "base_uri": "https://localhost:8080/"
        },
        "id": "flQQ44fpXU0n",
        "outputId": "cffdabe9-cece-49d6-9eb6-e84ca6023810"
      },
      "outputs": [
        {
          "data": {
            "text/plain": [
              "[39602, 1093, 50787, 97656, 99496]"
            ]
          },
          "execution_count": 69,
          "metadata": {},
          "output_type": "execute_result"
        }
      ],
      "source": [
        "rand1000[:5]"
      ]
    },
    {
      "cell_type": "code",
      "execution_count": 70,
      "metadata": {
        "colab": {
          "base_uri": "https://localhost:8080/"
        },
        "id": "oML9mG_UGUtC",
        "outputId": "0ebb21e4-36d5-47f7-a34e-d320e6e2bbc6"
      },
      "outputs": [
        {
          "name": "stdout",
          "output_type": "stream",
          "text": [
            "57.2 ms ± 3.25 ms per loop (mean ± std. dev. of 7 runs, 10 loops each)\n"
          ]
        }
      ],
      "source": [
        "%%timeit\n",
        "insertionSort(rand1000) "
      ]
    },
    {
      "cell_type": "code",
      "execution_count": 71,
      "metadata": {
        "colab": {
          "base_uri": "https://localhost:8080/"
        },
        "id": "EjB3bqjH3tsi",
        "outputId": "45d6d8a7-3e2f-4519-ae19-342dda5a0adc"
      },
      "outputs": [
        {
          "name": "stdout",
          "output_type": "stream",
          "text": [
            "6.69 s ± 109 ms per loop (mean ± std. dev. of 7 runs, 1 loop each)\n"
          ]
        }
      ],
      "source": [
        "%%timeit\n",
        "insertionSort(rand10000)"
      ]
    },
    {
      "cell_type": "code",
      "execution_count": null,
      "metadata": {
        "colab": {
          "base_uri": "https://localhost:8080/"
        },
        "id": "c4hpPEkFFGn5",
        "outputId": "51c549e9-6054-4057-8be9-9ab343467401"
      },
      "outputs": [
        {
          "data": {
            "text/plain": [
              "[39, 48, 234, 270, 361]"
            ]
          },
          "execution_count": 64,
          "metadata": {},
          "output_type": "execute_result"
        }
      ],
      "source": [
        "rand1000[:5]"
      ]
    },
    {
      "cell_type": "code",
      "execution_count": null,
      "metadata": {
        "colab": {
          "base_uri": "https://localhost:8080/"
        },
        "id": "cvOtnbFVFPL1",
        "outputId": "fa7f3a44-f19e-4f35-ceea-241bb41ceaae"
      },
      "outputs": [
        {
          "name": "stdout",
          "output_type": "stream",
          "text": [
            "1000 loops, best of 5: 215 µs per loop\n"
          ]
        }
      ],
      "source": [
        "%%timeit\n",
        "insertionSort(rand1000)"
      ]
    },
    {
      "cell_type": "code",
      "execution_count": null,
      "metadata": {
        "colab": {
          "base_uri": "https://localhost:8080/"
        },
        "id": "nHDsSVH9God_",
        "outputId": "fb7b6199-0ee1-455a-bf19-33ad325a1e26"
      },
      "outputs": [
        {
          "data": {
            "text/plain": [
              "[43415, 27012, 4835, 30828, 23818]"
            ]
          },
          "execution_count": 77,
          "metadata": {},
          "output_type": "execute_result"
        }
      ],
      "source": [
        "rand10000 = [random.randint(1,100000) for _ in range(10_000)]\n",
        "rand10000[:5]"
      ]
    },
    {
      "cell_type": "code",
      "execution_count": null,
      "metadata": {
        "colab": {
          "base_uri": "https://localhost:8080/"
        },
        "id": "0SwH2bDrGkxC",
        "outputId": "c3375f64-7f81-49c6-8aa8-b16b64ab95f6"
      },
      "outputs": [
        {
          "name": "stdout",
          "output_type": "stream",
          "text": [
            "1 loop, best of 5: 8.89 s per loop\n"
          ]
        }
      ],
      "source": [
        "%%timeit\n",
        "insertionSort(rand10000)"
      ]
    },
    {
      "cell_type": "code",
      "execution_count": null,
      "metadata": {
        "id": "K_j27uUzHEj_"
      },
      "outputs": [],
      "source": [
        "# so again 10 x more data -> 100x slower algorithm when complexity is quadratic O(n^2)"
      ]
    },
    {
      "cell_type": "code",
      "execution_count": null,
      "metadata": {
        "colab": {
          "base_uri": "https://localhost:8080/"
        },
        "id": "snHq-gs33tsi",
        "outputId": "d9334a41-6c5c-48f6-d896-e730ddb3495c"
      },
      "outputs": [
        {
          "name": "stdout",
          "output_type": "stream",
          "text": [
            "1000 loops, best of 5: 1.96 ms per loop\n"
          ]
        }
      ],
      "source": [
        "%%timeit\n",
        "insertionSort(rand1000)"
      ]
    },
    {
      "cell_type": "code",
      "execution_count": null,
      "metadata": {
        "colab": {
          "base_uri": "https://localhost:8080/"
        },
        "id": "aSSjpeLV3tsi",
        "outputId": "efd9d647-c612-434d-cd11-5c889238381f"
      },
      "outputs": [
        {
          "data": {
            "text/plain": [
              "[518699, 645096, 554705, 86126, 53316, 852987, 243402, 49894, 564628, 799849]"
            ]
          },
          "execution_count": 70,
          "metadata": {},
          "output_type": "execute_result"
        }
      ],
      "source": [
        "rand20k = [random.randint(1,1000000) for _ in range(20_000)]\n",
        "rand20k[:10]"
      ]
    },
    {
      "cell_type": "code",
      "execution_count": null,
      "metadata": {
        "colab": {
          "base_uri": "https://localhost:8080/"
        },
        "id": "FIilTvdY3tsj",
        "outputId": "8d4ab0ae-389b-4228-88bd-d662a2b090fe"
      },
      "outputs": [
        {
          "name": "stdout",
          "output_type": "stream",
          "text": [
            "The slowest run took 9637.89 times longer than the fastest. This could mean that an intermediate result is being cached.\n",
            "1 loop, best of 5: 3.82 ms per loop\n"
          ]
        }
      ],
      "source": [
        "%%timeit\n",
        "insertionSort(rand20k)"
      ]
    },
    {
      "cell_type": "code",
      "execution_count": null,
      "metadata": {
        "id": "CDI6jE8F3tsj",
        "outputId": "87e1aa41-151d-485c-84eb-50c9b00c47ab"
      },
      "outputs": [
        {
          "data": {
            "text/plain": [
              "[72, 208, 313, 370, 530, 572, 582, 687, 692, 768]"
            ]
          },
          "execution_count": 51,
          "metadata": {},
          "output_type": "execute_result"
        }
      ],
      "source": [
        "rand20k[:10]"
      ]
    },
    {
      "cell_type": "code",
      "execution_count": null,
      "metadata": {
        "id": "Pnn5jVW23tsj",
        "outputId": "4c5ed968-7a9b-47f1-8139-7b148ba90e40"
      },
      "outputs": [
        {
          "name": "stdout",
          "output_type": "stream",
          "text": [
            "Wall time: 1min 3s\n"
          ]
        }
      ],
      "source": [
        "%%time\n",
        "sorted20k = insertionSort(rand20k)"
      ]
    },
    {
      "cell_type": "code",
      "execution_count": null,
      "metadata": {
        "id": "kaw5y-VP3tsj",
        "outputId": "58f4012b-132d-44f6-be67-7f405582575b"
      },
      "outputs": [
        {
          "data": {
            "text/plain": [
              "([116, 132, 161, 269, 435], [116, 132, 161, 269, 435])"
            ]
          },
          "execution_count": 54,
          "metadata": {},
          "output_type": "execute_result"
        }
      ],
      "source": [
        "sorted20k[:5], rand20k[:5]"
      ]
    },
    {
      "cell_type": "code",
      "execution_count": null,
      "metadata": {
        "id": "w8dVI6lV3tsj"
      },
      "outputs": [],
      "source": [
        "sorted20k[9000] = 777\n",
        "sorted20k[12000] = 555\n",
        "# so not sorted anymore"
      ]
    },
    {
      "cell_type": "markdown",
      "metadata": {},
      "source": [
        "### Insertion Sort - Conclusion\n",
        "\n",
        "Turns outs insertion sort while being $O(n^2)$ is faster than bubble and selection sort in an optimal implementation. This is because it does less comparisons and less swaps.\n",
        "\n",
        "For this insertion sort is sometimes used as a building block for other sorting algorithms - so called hybrid sorting algorithms."
      ]
    },
    {
      "cell_type": "markdown",
      "metadata": {
        "heading_collapsed": true,
        "hidden": true,
        "id": "h65KAxwq3tsl"
      },
      "source": [
        "### Merge Sort"
      ]
    },
    {
      "cell_type": "code",
      "execution_count": null,
      "metadata": {
        "id": "oHq3Gp143tsl"
      },
      "outputs": [],
      "source": [
        "# first implementation idea by https://en.wikipedia.org/wiki/John_von_Neumann\n"
      ]
    },
    {
      "cell_type": "markdown",
      "metadata": {
        "hidden": true,
        "id": "JSAvDqv73tsl"
      },
      "source": [
        "![merge](https://github.com/ValRCS/RTU_Algorithms_DIP321/blob/main/imgs/mergesort.png?raw=1)"
      ]
    },
    {
      "cell_type": "markdown",
      "metadata": {
        "hidden": true,
        "id": "MDHA8hNG3tsl"
      },
      "source": [
        "![merge1](https://github.com/ValRCS/RTU_Algorithms_DIP321/blob/main/imgs/mergesortB.png?raw=1)"
      ]
    },
    {
      "cell_type": "markdown",
      "metadata": {
        "hidden": true,
        "id": "rV399HA-3tsl"
      },
      "source": [
        "$$Complexity: O(nlog(n))$$"
      ]
    },
    {
      "cell_type": "code",
      "execution_count": 72,
      "metadata": {
        "hidden": true,
        "id": "PYkyQ_jI3tsl"
      },
      "outputs": [],
      "source": [
        "l = [1,2,3,4,32,5,5,66,33,221,34,23,12]"
      ]
    },
    {
      "cell_type": "code",
      "execution_count": 76,
      "metadata": {
        "hidden": true,
        "id": "PhhT-crZ3tsm"
      },
      "outputs": [],
      "source": [
        "def mergeSort(seq, debug=False):\n",
        "    alist = seq.copy() # should be a copy for out of place sorting\n",
        "#     print(\"Splitting \", alist)\n",
        "    # check base case\n",
        "    if len(alist) <= 1:\n",
        "        return alist\n",
        "    # so else: is not needed here we want to keep our code as flat as possible\n",
        "    mid = len(alist) // 2\n",
        "    lefthalf = alist[:mid]\n",
        "    righthalf = alist[mid:]\n",
        "\n",
        "    lefthalf = mergeSort(lefthalf, debug=debug)\n",
        "    righthalf = mergeSort(righthalf, debug=debug)\n",
        "    # this could a separate function the merging part\n",
        "    # TODO create function for merge and call it here\n",
        "    i = 0\n",
        "    j = 0\n",
        "    k = 0\n",
        "    while i < len(lefthalf) and j < len(righthalf):\n",
        "        if lefthalf[i] < righthalf[j]:\n",
        "            alist[k] = lefthalf[i]\n",
        "            i = i + 1\n",
        "        else:\n",
        "            alist[k] = righthalf[j]\n",
        "            j = j + 1\n",
        "        k = k + 1\n",
        "\n",
        "    while i < len(lefthalf):\n",
        "        alist[k] = lefthalf[i]\n",
        "        i = i + 1\n",
        "        k = k + 1\n",
        "\n",
        "    while j < len(righthalf):\n",
        "        alist[k] = righthalf[j]\n",
        "        j = j + 1\n",
        "        k = k + 1\n",
        "    if debug:\n",
        "        print(\"Merging \", alist)\n",
        "    return alist"
      ]
    },
    {
      "cell_type": "code",
      "execution_count": 77,
      "metadata": {
        "colab": {
          "base_uri": "https://localhost:8080/"
        },
        "hidden": true,
        "id": "uCPv19-h3tsm",
        "outputId": "246d82f5-5d61-459d-a006-d219c4d45eea"
      },
      "outputs": [
        {
          "name": "stdout",
          "output_type": "stream",
          "text": [
            "Merging  [2, 3]\n",
            "Merging  [1, 2, 3]\n",
            "Merging  [5, 32]\n",
            "Merging  [4, 5, 32]\n",
            "Merging  [1, 2, 3, 4, 5, 32]\n",
            "Merging  [33, 66]\n",
            "Merging  [5, 33, 66]\n",
            "Merging  [34, 221]\n",
            "Merging  [12, 23]\n",
            "Merging  [12, 23, 34, 221]\n",
            "Merging  [5, 12, 23, 33, 34, 66, 221]\n",
            "Merging  [1, 2, 3, 4, 5, 5, 12, 23, 32, 33, 34, 66, 221]\n"
          ]
        },
        {
          "data": {
            "text/plain": [
              "[1, 2, 3, 4, 5, 5, 12, 23, 32, 33, 34, 66, 221]"
            ]
          },
          "execution_count": 77,
          "metadata": {},
          "output_type": "execute_result"
        }
      ],
      "source": [
        "mergeSort(l, debug=True)"
      ]
    },
    {
      "cell_type": "code",
      "execution_count": 5,
      "metadata": {
        "colab": {
          "base_uri": "https://localhost:8080/"
        },
        "id": "_RxoSHGpa876",
        "outputId": "4470f41e-b058-42aa-fb26-c8c71e054caf"
      },
      "outputs": [
        {
          "data": {
            "text/plain": [
              "[1, 2, 3, 4, 32, 5, 5, 66, 33, 221, 34, 23, 12]"
            ]
          },
          "execution_count": 5,
          "metadata": {},
          "output_type": "execute_result"
        }
      ],
      "source": [
        "l"
      ]
    },
    {
      "cell_type": "code",
      "execution_count": 6,
      "metadata": {
        "colab": {
          "base_uri": "https://localhost:8080/"
        },
        "id": "mdMyh3mgbhaB",
        "outputId": "a83e49e8-6517-4f07-90b4-dc7f26334af1"
      },
      "outputs": [
        {
          "data": {
            "text/plain": [
              "[1, 2, 3, 4, 5, 5, 12, 23, 32, 33, 34, 66, 221]"
            ]
          },
          "execution_count": 6,
          "metadata": {},
          "output_type": "execute_result"
        }
      ],
      "source": [
        "sorted_list = mergeSort(l)\n",
        "sorted_list"
      ]
    },
    {
      "cell_type": "code",
      "execution_count": 78,
      "metadata": {
        "colab": {
          "base_uri": "https://localhost:8080/"
        },
        "id": "TD-sdi4c3tsm",
        "outputId": "59f9b7d6-0892-4d39-e962-720fd1e3d29f"
      },
      "outputs": [
        {
          "data": {
            "text/plain": [
              "[39602, 1093, 50787, 97656, 99496, 28493, 89741, 76145, 45930, 19166]"
            ]
          },
          "execution_count": 78,
          "metadata": {},
          "output_type": "execute_result"
        }
      ],
      "source": [
        "rand1000[:10]"
      ]
    },
    {
      "cell_type": "code",
      "execution_count": null,
      "metadata": {
        "id": "rmLxQrGT3tsm"
      },
      "outputs": [],
      "source": [
        "shuffle(rand1000)"
      ]
    },
    {
      "cell_type": "code",
      "execution_count": 9,
      "metadata": {
        "id": "gDkQICKj3tsm",
        "outputId": "b48dee24-01b7-4df3-a058-c10957237506"
      },
      "outputs": [
        {
          "data": {
            "text/plain": [
              "[33978, 96017, 19595, 28969, 77135, 74942, 64507, 29163, 71871, 78092]"
            ]
          },
          "execution_count": 9,
          "metadata": {},
          "output_type": "execute_result"
        }
      ],
      "source": [
        "rand1000[:10]"
      ]
    },
    {
      "cell_type": "code",
      "execution_count": 79,
      "metadata": {
        "colab": {
          "base_uri": "https://localhost:8080/"
        },
        "id": "Y2Hmxw3r3tsm",
        "outputId": "3326d99c-4600-4c21-c40d-aa686ab113af"
      },
      "outputs": [
        {
          "data": {
            "text/plain": [
              "[27,\n",
              " 143,\n",
              " 232,\n",
              " 302,\n",
              " 600,\n",
              " 668,\n",
              " 697,\n",
              " 801,\n",
              " 817,\n",
              " 834,\n",
              " 836,\n",
              " 892,\n",
              " 1047,\n",
              " 1073,\n",
              " 1093,\n",
              " 1219,\n",
              " 1410,\n",
              " 1460,\n",
              " 1499,\n",
              " 1687]"
            ]
          },
          "execution_count": 79,
          "metadata": {},
          "output_type": "execute_result"
        }
      ],
      "source": [
        "merge1000 = mergeSort(rand1000)\n",
        "merge1000[:20]"
      ]
    },
    {
      "cell_type": "code",
      "execution_count": 80,
      "metadata": {
        "colab": {
          "base_uri": "https://localhost:8080/"
        },
        "id": "1Pa9oUbiJfRu",
        "outputId": "fb673483-3b51-4766-a7fb-eded572cc56d"
      },
      "outputs": [
        {
          "data": {
            "text/plain": [
              "[39602, 1093, 50787, 97656, 99496, 28493, 89741, 76145, 45930, 19166]"
            ]
          },
          "execution_count": 80,
          "metadata": {},
          "output_type": "execute_result"
        }
      ],
      "source": [
        "rand1000[:10]"
      ]
    },
    {
      "cell_type": "code",
      "execution_count": 81,
      "metadata": {
        "id": "bpn5G0Kw3tsm",
        "outputId": "7ca60ea8-e431-4a91-b893-e95312af9db2"
      },
      "outputs": [
        {
          "data": {
            "text/plain": [
              "[1, 16, 35, 39, 60, 77, 78, 89, 92, 92]"
            ]
          },
          "execution_count": 81,
          "metadata": {},
          "output_type": "execute_result"
        }
      ],
      "source": [
        "merge10k = mergeSort(rand10000)\n",
        "merge10k[:10]"
      ]
    },
    {
      "cell_type": "code",
      "execution_count": 82,
      "metadata": {
        "colab": {
          "base_uri": "https://localhost:8080/"
        },
        "id": "e4xCUG6b3tsn",
        "outputId": "79cf97fa-a259-4254-fe7d-9a0ec50cde38"
      },
      "outputs": [
        {
          "name": "stdout",
          "output_type": "stream",
          "text": [
            "3.27 ms ± 300 µs per loop (mean ± std. dev. of 7 runs, 100 loops each)\n"
          ]
        }
      ],
      "source": [
        "%%timeit\n",
        "# FIXED whew rand1000 is already sorted\n",
        "mergeSort(rand1000)"
      ]
    },
    {
      "cell_type": "code",
      "execution_count": 83,
      "metadata": {
        "colab": {
          "base_uri": "https://localhost:8080/"
        },
        "id": "J2JlF-Ia3tsn",
        "outputId": "f838b47a-4343-4d77-93d5-2f642c6173e4",
        "scrolled": true
      },
      "outputs": [
        {
          "name": "stdout",
          "output_type": "stream",
          "text": [
            "39.5 ms ± 1.38 ms per loop (mean ± std. dev. of 7 runs, 10 loops each)\n"
          ]
        }
      ],
      "source": [
        "%%timeit\n",
        "mergeSort(rand10000)"
      ]
    },
    {
      "cell_type": "code",
      "execution_count": 70,
      "metadata": {
        "colab": {
          "base_uri": "https://localhost:8080/"
        },
        "id": "Ot8hLCL63tsn",
        "outputId": "9a0e1a04-97ea-476a-89fe-b805ccfc2b8f"
      },
      "outputs": [
        {
          "data": {
            "text/plain": [
              "[501088, 386571, 13623, 739442, 513441]"
            ]
          },
          "execution_count": 70,
          "metadata": {},
          "output_type": "execute_result"
        }
      ],
      "source": [
        "r100_000 = [random.randint(1,1_000_000) for _ in range(100_000)]\n",
        "r100_000[:5]"
      ]
    },
    {
      "cell_type": "code",
      "execution_count": 84,
      "metadata": {
        "colab": {
          "base_uri": "https://localhost:8080/"
        },
        "id": "Pe1IaLjW3tsn",
        "outputId": "7fa7786a-98a2-4566-d9d0-ae8204689e13"
      },
      "outputs": [
        {
          "name": "stdout",
          "output_type": "stream",
          "text": [
            "509 ms ± 22.3 ms per loop (mean ± std. dev. of 7 runs, 1 loop each)\n"
          ]
        }
      ],
      "source": [
        "%%timeit\n",
        "mergeSort(rand100000) # so here n log n starts to really shine  # we could not do this during lecture on buble,selection or insertion sort!!!"
      ]
    },
    {
      "cell_type": "code",
      "execution_count": null,
      "metadata": {
        "id": "WotQXo_m3tsn"
      },
      "outputs": [],
      "source": [
        "shuffle(r100_000)"
      ]
    },
    {
      "cell_type": "code",
      "execution_count": 72,
      "metadata": {
        "colab": {
          "base_uri": "https://localhost:8080/"
        },
        "id": "ko5L4myfcH2F",
        "outputId": "5265de6f-973e-4630-a4a2-b59d7b29ec21"
      },
      "outputs": [
        {
          "data": {
            "text/plain": [
              "[501088, 386571, 13623, 739442, 513441]"
            ]
          },
          "execution_count": 72,
          "metadata": {},
          "output_type": "execute_result"
        }
      ],
      "source": [
        "r100_000[:5]"
      ]
    },
    {
      "cell_type": "code",
      "execution_count": null,
      "metadata": {
        "id": "7da-cF9IKUkf"
      },
      "outputs": [],
      "source": [
        "# Python has a built in sorted - as most languages do, lets test it"
      ]
    },
    {
      "cell_type": "code",
      "execution_count": 73,
      "metadata": {
        "colab": {
          "base_uri": "https://localhost:8080/"
        },
        "id": "4DND3PVV3tsn",
        "outputId": "e771091f-3f29-4db2-b9a4-d37df765153a"
      },
      "outputs": [
        {
          "name": "stdout",
          "output_type": "stream",
          "text": [
            "10 loops, best of 5: 24.5 ms per loop\n"
          ]
        }
      ],
      "source": [
        "%%timeit\n",
        "sorted(r100_000) # sorted uses timsort which is a combination of insertion sort + merge sort"
      ]
    },
    {
      "cell_type": "code",
      "execution_count": 74,
      "metadata": {
        "colab": {
          "base_uri": "https://localhost:8080/"
        },
        "id": "LsX25b3lcNbY",
        "outputId": "4c6e5c07-4545-44b6-f884-037d98bde926"
      },
      "outputs": [
        {
          "name": "stdout",
          "output_type": "stream",
          "text": [
            "1000 loops, best of 5: 1.61 ms per loop\n"
          ]
        }
      ],
      "source": [
        "%%timeit\n",
        "sorted(rand10000)"
      ]
    },
    {
      "cell_type": "code",
      "execution_count": null,
      "metadata": {
        "colab": {
          "base_uri": "https://localhost:8080/"
        },
        "id": "u1BMybSWKe4x",
        "outputId": "25f2cc8b-51f8-42fd-e9f9-c2802b757582"
      },
      "outputs": [
        {
          "data": {
            "text/plain": [
              "[5, 6, 8, 32, 33]"
            ]
          },
          "execution_count": 94,
          "metadata": {},
          "output_type": "execute_result"
        }
      ],
      "source": [
        "r100_000[:5]"
      ]
    },
    {
      "cell_type": "code",
      "execution_count": null,
      "metadata": {
        "id": "sE6vsiMNKhZf"
      },
      "outputs": [],
      "source": [
        "shuffle(r100_000)"
      ]
    },
    {
      "cell_type": "code",
      "execution_count": null,
      "metadata": {
        "colab": {
          "base_uri": "https://localhost:8080/"
        },
        "id": "rIBOydisKjik",
        "outputId": "29a9e945-2da2-4942-d913-80a229a1e9e4"
      },
      "outputs": [
        {
          "data": {
            "text/plain": [
              "[170223, 157376, 70356, 714494, 305483]"
            ]
          },
          "execution_count": 96,
          "metadata": {},
          "output_type": "execute_result"
        }
      ],
      "source": [
        "r100_000[:5]"
      ]
    },
    {
      "cell_type": "code",
      "execution_count": null,
      "metadata": {
        "colab": {
          "base_uri": "https://localhost:8080/"
        },
        "id": "Dm_k_ej8Kmju",
        "outputId": "b033f8f3-3eab-4d96-aafb-be5d9446b7f4"
      },
      "outputs": [
        {
          "name": "stdout",
          "output_type": "stream",
          "text": [
            "10 loops, best of 5: 27 ms per loop\n"
          ]
        }
      ],
      "source": [
        "%%timeit\n",
        "sorted(r100_000) # sorted uses timsort which is a combination of insertion sort + merge sort"
      ]
    },
    {
      "cell_type": "code",
      "execution_count": 75,
      "metadata": {
        "colab": {
          "base_uri": "https://localhost:8080/"
        },
        "id": "pCSbk5oP3tsn",
        "outputId": "25899427-e807-4c74-f1c7-0a5a62ebac61"
      },
      "outputs": [
        {
          "data": {
            "text/plain": [
              "[15, 32, 34, 43, 56]"
            ]
          },
          "execution_count": 75,
          "metadata": {},
          "output_type": "execute_result"
        }
      ],
      "source": [
        "sorted100k = mergeSort(r100_000)\n",
        "sorted100k[:5]"
      ]
    },
    {
      "cell_type": "code",
      "execution_count": null,
      "metadata": {
        "id": "iHX7CrZw3tso",
        "outputId": "fcfbe02c-2783-42e1-935c-b46c9c514881"
      },
      "outputs": [
        {
          "name": "stdout",
          "output_type": "stream",
          "text": [
            "956 ms ± 25.5 ms per loop (mean ± std. dev. of 7 runs, 1 loop each)\n"
          ]
        }
      ],
      "source": [
        "%%timeit\n",
        "mergeSort(sorted100k) # so we gained nothing from being sorted"
      ]
    },
    {
      "cell_type": "code",
      "execution_count": null,
      "metadata": {
        "id": "TUIkRq8c3tso",
        "outputId": "0a1aed33-1bbe-49c8-98a4-11f4a7cc38ed"
      },
      "outputs": [
        {
          "name": "stdout",
          "output_type": "stream",
          "text": [
            "38.8 ms ± 1.95 ms per loop (mean ± std. dev. of 7 runs, 10 loops each)\n"
          ]
        }
      ],
      "source": [
        "%%timeit\n",
        "insertionSort(sorted100k)  # insertion sort should be slow we shall see\n"
      ]
    },
    {
      "cell_type": "code",
      "execution_count": null,
      "metadata": {
        "id": "Z_ubAtht3tso",
        "outputId": "9fd6fa2f-da04-4422-9e1e-5c125289f18b"
      },
      "outputs": [
        {
          "data": {
            "text/plain": [
              "[499488,\n",
              " 499502,\n",
              " 499511,\n",
              " 499522,\n",
              " 499523,\n",
              " 499529,\n",
              " 499540,\n",
              " 499590,\n",
              " 499594,\n",
              " 499604]"
            ]
          },
          "execution_count": 61,
          "metadata": {},
          "output_type": "execute_result"
        }
      ],
      "source": [
        "sorted100k[50000:50000+10]"
      ]
    },
    {
      "cell_type": "code",
      "execution_count": null,
      "metadata": {
        "id": "YCrVzKpf3tso"
      },
      "outputs": [],
      "source": [
        "sorted100k[555] = 400000\n",
        "sorted100k[9000] = 1333\n"
      ]
    },
    {
      "cell_type": "code",
      "execution_count": null,
      "metadata": {
        "id": "FPcZaCOf3tso",
        "outputId": "0fbcd480-0088-4a90-8dc5-57c4e6655d6b"
      },
      "outputs": [
        {
          "name": "stdout",
          "output_type": "stream",
          "text": [
            "40 ms ± 2.78 ms per loop (mean ± std. dev. of 7 runs, 10 loops each)\n"
          ]
        }
      ],
      "source": [
        "%%timeit\n",
        "insertionSort(sorted100k) "
      ]
    },
    {
      "cell_type": "markdown",
      "metadata": {
        "id": "_f-x3idr3tso"
      },
      "source": [
        "# Big O, Theta and Omega bounds"
      ]
    },
    {
      "cell_type": "markdown",
      "metadata": {
        "id": "HfNAQRtS3tsp"
      },
      "source": [
        "### Merge sort is defined by recurrence formula \n",
        "T(n) = 2T(n/2) + n\n",
        "So each problem has to be divided in two halfs and also we have linear(n) merging operation"
      ]
    },
    {
      "cell_type": "code",
      "execution_count": null,
      "metadata": {
        "id": "CrhT0sYF3tsp"
      },
      "outputs": [],
      "source": [
        "# so how to prove that merge sort is really O(n log n) time complexity?\n",
        "# in reality we are looking for tight bound the Θ(n log n) complexity\n",
        "# so O is very loose, in every day usage when people say O they really mean Θ - theta\n",
        "# O is showing that the algorith is no worse than some f(n)\n",
        "# I could say that merge sort is O(n!) and it would still be correct but practically useless\n",
        "# since most algorithms are O(n!)\n",
        "# so Merge sort is O(n!), O(n^5),O(n^2) and so on and finally most crucially O(n log n)\n",
        "# Merge sort is NOT O(n)\n",
        "# so thats what Θ(n log n)"
      ]
    },
    {
      "cell_type": "code",
      "execution_count": null,
      "metadata": {
        "id": "M6TmOipe3tsp"
      },
      "outputs": [],
      "source": [
        "## So ideas on how to prove mergesort is O(n log n) ?\n",
        "## Instinctively we see that we are dividing in halves and solving the problem for those\n",
        "\n",
        "# There is something called Master Theorem which lets us quickly see the solution for most types of recurrence"
      ]
    },
    {
      "cell_type": "code",
      "execution_count": null,
      "metadata": {
        "id": "aP3EAapT3tsp"
      },
      "outputs": [],
      "source": [
        "# what is a reccurence relation then?"
      ]
    },
    {
      "cell_type": "markdown",
      "metadata": {
        "id": "d-ASGlrf3tsq"
      },
      "source": [
        "# given n is our data\n",
        "# so merge sort the reccurence will be\n",
        "T(n) = 2(T(n/2)) + n # because we have to merge in n time the halves\n",
        "# so reccurence defines the recursive function"
      ]
    },
    {
      "cell_type": "code",
      "execution_count": null,
      "metadata": {
        "id": "ZbUTMdVg3tsq"
      },
      "outputs": [],
      "source": [
        "# so for next week we will look at solving this and also the Master Theorem on how to generally \n",
        "# find the complexity"
      ]
    },
    {
      "cell_type": "code",
      "execution_count": null,
      "metadata": {
        "id": "q8kySFnx3tsq"
      },
      "outputs": [],
      "source": [
        "# we do not need the reccurrence if we have regular loops without recursion.."
      ]
    },
    {
      "cell_type": "markdown",
      "metadata": {
        "heading_collapsed": true,
        "hidden": true,
        "id": "DT0am-c-3tsq"
      },
      "source": [
        "### Quick sort"
      ]
    },
    {
      "cell_type": "markdown",
      "metadata": {
        "hidden": true,
        "id": "1DIh8iu63tsq"
      },
      "source": [
        "![quick](https://github.com/ValRCS/RTU_Algorithms_DIP321/blob/main/imgs/quicksort.png?raw=1)"
      ]
    },
    {
      "cell_type": "markdown",
      "metadata": {
        "hidden": true,
        "id": "RQKoFmNN3tsr"
      },
      "source": [
        "$$Complexity: O(nlog(n))$$ $$Worst case : O(n^2)$$"
      ]
    },
    {
      "cell_type": "code",
      "execution_count": null,
      "metadata": {
        "colab": {
          "base_uri": "https://localhost:8080/"
        },
        "hidden": true,
        "id": "FDsKfp0N3tsr",
        "outputId": "e9b86658-4457-46b3-c72b-c70c9beada3a"
      },
      "outputs": [
        {
          "name": "stdout",
          "output_type": "stream",
          "text": [
            "[54, 26, 93, 17, 77, 31, 44, 55, 20]\n"
          ]
        }
      ],
      "source": [
        "def quickSort(seq):\n",
        "    alist = seq.copy()\n",
        "    quickSortHelper(alist, 0, len(alist) - 1)\n",
        "    return alist\n",
        "\n",
        "\n",
        "def quickSortHelper(alist, first, last):\n",
        "    if first < last:\n",
        "\n",
        "        splitpoint = partition(alist, first, last)\n",
        "\n",
        "        quickSortHelper(alist, first, splitpoint - 1)\n",
        "        quickSortHelper(alist, splitpoint + 1, last)\n",
        "\n",
        "\n",
        "def partition(alist, first, last):\n",
        "    pivotvalue = alist[first]\n",
        "\n",
        "    leftmark = first + 1\n",
        "    rightmark = last\n",
        "\n",
        "    done = False\n",
        "    while not done:\n",
        "\n",
        "        while leftmark <= rightmark and alist[leftmark] <= pivotvalue:\n",
        "            leftmark = leftmark + 1\n",
        "\n",
        "        while alist[rightmark] >= pivotvalue and rightmark >= leftmark:\n",
        "            rightmark = rightmark - 1\n",
        "\n",
        "        if rightmark < leftmark:\n",
        "            done = True\n",
        "        else:\n",
        "            temp = alist[leftmark]\n",
        "            alist[leftmark] = alist[rightmark]\n",
        "            alist[rightmark] = temp\n",
        "\n",
        "    temp = alist[first]\n",
        "    alist[first] = alist[rightmark]\n",
        "    alist[rightmark] = temp\n",
        "\n",
        "    return rightmark\n",
        "\n",
        "\n",
        "alist = [54, 26, 93, 17, 77, 31, 44, 55, 20]\n",
        "sorted_list = quickSort(alist)  # in place sort!\n",
        "print(alist)"
      ]
    },
    {
      "cell_type": "code",
      "execution_count": null,
      "metadata": {
        "colab": {
          "base_uri": "https://localhost:8080/"
        },
        "id": "rL6Srt0QY-FU",
        "outputId": "237d619c-f891-4cb1-8ef0-c80b13c30061"
      },
      "outputs": [
        {
          "data": {
            "text/plain": [
              "[17, 20, 26, 31, 44, 54, 55, 77, 93]"
            ]
          },
          "execution_count": 102,
          "metadata": {},
          "output_type": "execute_result"
        }
      ],
      "source": [
        "sorted_list"
      ]
    },
    {
      "cell_type": "code",
      "execution_count": null,
      "metadata": {
        "colab": {
          "base_uri": "https://localhost:8080/"
        },
        "id": "jPL4hLRuZAfc",
        "outputId": "0cbcd097-1563-4187-9d15-909169f0344e"
      },
      "outputs": [
        {
          "name": "stdout",
          "output_type": "stream",
          "text": [
            "100 loops, best of 5: 2.72 ms per loop\n"
          ]
        }
      ],
      "source": [
        "%%timeit\n",
        "quickSort(rand1000)"
      ]
    },
    {
      "cell_type": "code",
      "execution_count": null,
      "metadata": {
        "colab": {
          "base_uri": "https://localhost:8080/"
        },
        "id": "B5oDibmZZLVq",
        "outputId": "68510a1b-7815-4590-d576-58b899c4277f"
      },
      "outputs": [
        {
          "name": "stdout",
          "output_type": "stream",
          "text": [
            "10 loops, best of 5: 36.1 ms per loop\n"
          ]
        }
      ],
      "source": [
        "%%timeit\n",
        "quickSort(rand10000)"
      ]
    },
    {
      "cell_type": "code",
      "execution_count": null,
      "metadata": {
        "colab": {
          "base_uri": "https://localhost:8080/"
        },
        "id": "cDLlUolIZO5b",
        "outputId": "483f229b-b834-4dc9-bc4f-67cd58448f87"
      },
      "outputs": [
        {
          "name": "stdout",
          "output_type": "stream",
          "text": [
            "1 loop, best of 5: 475 ms per loop\n"
          ]
        }
      ],
      "source": [
        "%%timeit\n",
        "quickSort(rand100000)"
      ]
    },
    {
      "cell_type": "code",
      "execution_count": null,
      "metadata": {
        "colab": {
          "base_uri": "https://localhost:8080/"
        },
        "id": "DTzAtQdHZWoN",
        "outputId": "f64fceaf-bf3a-4f9f-aac2-90ca2a8cd24f"
      },
      "outputs": [
        {
          "name": "stdout",
          "output_type": "stream",
          "text": [
            "1 loop, best of 5: 6.23 s per loop\n"
          ]
        }
      ],
      "source": [
        "%%timeit\n",
        "quickSort(rand1M)"
      ]
    },
    {
      "cell_type": "code",
      "execution_count": null,
      "metadata": {
        "colab": {
          "base_uri": "https://localhost:8080/"
        },
        "id": "ApAn_dBhaDCi",
        "outputId": "e6097e2c-4853-4d20-b2bd-5aabb89c2824"
      },
      "outputs": [
        {
          "name": "stdout",
          "output_type": "stream",
          "text": [
            "1 loop, best of 5: 377 ms per loop\n"
          ]
        }
      ],
      "source": [
        "%%timeit\n",
        "sorted(rand1M)"
      ]
    },
    {
      "cell_type": "code",
      "execution_count": null,
      "metadata": {
        "colab": {
          "base_uri": "https://localhost:8080/"
        },
        "id": "Z5Y35JYiaJMy",
        "outputId": "6487bf5e-1d85-414a-c4bc-d33ad2eb3205"
      },
      "outputs": [
        {
          "name": "stdout",
          "output_type": "stream",
          "text": [
            "10 loops, best of 5: 23.7 ms per loop\n"
          ]
        }
      ],
      "source": [
        "%%timeit\n",
        "sorted(rand100000)"
      ]
    },
    {
      "cell_type": "markdown",
      "metadata": {
        "id": "uxViusBSayxB"
      },
      "source": [
        "# Heap Sort"
      ]
    },
    {
      "cell_type": "code",
      "execution_count": null,
      "metadata": {
        "id": "xOvLANnrby2K"
      },
      "outputs": [],
      "source": [
        "# Idea for heap sort is to use selection sort as a basis\n",
        "# but we use a data structure such as heap to get min (or max) values out of the heap"
      ]
    },
    {
      "cell_type": "code",
      "execution_count": null,
      "metadata": {
        "id": "yC0Z5N8gdBJt"
      },
      "outputs": [],
      "source": [
        "import heapq"
      ]
    },
    {
      "cell_type": "code",
      "execution_count": null,
      "metadata": {
        "id": "H13H6vkRco5B"
      },
      "outputs": [],
      "source": [
        "# https://docs.python.org/3/library/heapq.html\n",
        "def heapsort(iterable):  #out of place sort here\n",
        "  h = []\n",
        "  for value in iterable: # so n times where n is number of items in iterable\n",
        "    heapq.heappush(h, value)  # so  heappush takes log n time\n",
        "  return [heapq.heappop(h) for i in range(len(h))]  # here n times and pop again is log n operation"
      ]
    },
    {
      "cell_type": "code",
      "execution_count": null,
      "metadata": {
        "colab": {
          "base_uri": "https://localhost:8080/"
        },
        "id": "S7DmbZq4dMvm",
        "outputId": "fe8f80c6-fe54-4499-89b0-96a77af21a8a"
      },
      "outputs": [
        {
          "data": {
            "text/plain": [
              "[974, 668, 287, 708, 850, 237, 112, 131, 338]"
            ]
          },
          "execution_count": 117,
          "metadata": {},
          "output_type": "execute_result"
        }
      ],
      "source": [
        "rand9"
      ]
    },
    {
      "cell_type": "code",
      "execution_count": null,
      "metadata": {
        "colab": {
          "base_uri": "https://localhost:8080/"
        },
        "id": "PbH8aegMdFIS",
        "outputId": "fe63884f-f4b7-4c0c-efbf-a784bc090cd1"
      },
      "outputs": [
        {
          "data": {
            "text/plain": [
              "[112, 131, 237, 287, 338, 668, 708, 850, 974]"
            ]
          },
          "execution_count": 116,
          "metadata": {},
          "output_type": "execute_result"
        }
      ],
      "source": [
        "heapsort(rand9)"
      ]
    },
    {
      "cell_type": "code",
      "execution_count": null,
      "metadata": {
        "colab": {
          "base_uri": "https://localhost:8080/"
        },
        "id": "-3MvIv_WdR9R",
        "outputId": "6ff4d32c-a0e4-45a3-cbc8-eff295c85fbb"
      },
      "outputs": [
        {
          "name": "stdout",
          "output_type": "stream",
          "text": [
            "10 loops, best of 5: 108 ms per loop\n"
          ]
        }
      ],
      "source": [
        "%%timeit\n",
        "heapsort(rand100000)"
      ]
    },
    {
      "cell_type": "code",
      "execution_count": null,
      "metadata": {
        "colab": {
          "base_uri": "https://localhost:8080/"
        },
        "id": "JR-eTBGtfG_5",
        "outputId": "1777e795-0c50-4661-9832-8ec73a5df17c"
      },
      "outputs": [
        {
          "name": "stdout",
          "output_type": "stream",
          "text": [
            "1 loop, best of 5: 2.31 s per loop\n"
          ]
        }
      ],
      "source": [
        "%%timeit\n",
        "heapsort(rand1M)"
      ]
    },
    {
      "cell_type": "code",
      "execution_count": null,
      "metadata": {
        "id": "kKS3JavzgWvq"
      },
      "outputs": [],
      "source": [
        "# Stable sorts and unstable sorts"
      ]
    },
    {
      "cell_type": "code",
      "execution_count": null,
      "metadata": {
        "colab": {
          "base_uri": "https://localhost:8080/"
        },
        "id": "3PVTsg_Jf94u",
        "outputId": "0bc4a94d-71b4-4c5b-8468-cfbfb8d0272a"
      },
      "outputs": [
        {
          "data": {
            "text/plain": [
              "[('R', 1),\n",
              " ('i', 1),\n",
              " ('g', 8),\n",
              " ('a', 2),\n",
              " (' ', 9),\n",
              " ('T', 10),\n",
              " ('e', 10),\n",
              " ('c', 10),\n",
              " ('h', 8),\n",
              " ('n', 3),\n",
              " ('i', 3),\n",
              " ('c', 3),\n",
              " ('a', 5),\n",
              " ('l', 6),\n",
              " (' ', 3),\n",
              " ('U', 2),\n",
              " ('n', 3),\n",
              " ('i', 5),\n",
              " ('v', 9),\n",
              " ('e', 1),\n",
              " ('r', 3),\n",
              " ('s', 3),\n",
              " ('i', 5),\n",
              " ('t', 9),\n",
              " ('y', 3)]"
            ]
          },
          "execution_count": 120,
          "metadata": {},
          "output_type": "execute_result"
        }
      ],
      "source": [
        "my_tuples = [(c, random.randint(1,10)) for c in \"Riga Technical University\"]\n",
        "my_tuples"
      ]
    },
    {
      "cell_type": "code",
      "execution_count": null,
      "metadata": {
        "colab": {
          "base_uri": "https://localhost:8080/"
        },
        "id": "TrMPcksfgZcX",
        "outputId": "1658e1ec-4ed7-430c-ea9b-ddddb6929a68"
      },
      "outputs": [
        {
          "data": {
            "text/plain": [
              "[(' ', 3),\n",
              " (' ', 9),\n",
              " ('R', 1),\n",
              " ('T', 10),\n",
              " ('U', 2),\n",
              " ('a', 2),\n",
              " ('a', 5),\n",
              " ('c', 3),\n",
              " ('c', 10),\n",
              " ('e', 1),\n",
              " ('e', 10),\n",
              " ('g', 8),\n",
              " ('h', 8),\n",
              " ('i', 1),\n",
              " ('i', 3),\n",
              " ('i', 5),\n",
              " ('i', 5),\n",
              " ('l', 6),\n",
              " ('n', 3),\n",
              " ('n', 3),\n",
              " ('r', 3),\n",
              " ('s', 3),\n",
              " ('t', 9),\n",
              " ('v', 9),\n",
              " ('y', 3)]"
            ]
          },
          "execution_count": 122,
          "metadata": {},
          "output_type": "execute_result"
        }
      ],
      "source": [
        "sorted(my_tuples) # this sorts by the first part of tuple the alphabethical, lexicographical key - ASCII codes\n",
        "# https://www.asciitable.com/"
      ]
    },
    {
      "cell_type": "code",
      "execution_count": null,
      "metadata": {
        "colab": {
          "base_uri": "https://localhost:8080/"
        },
        "id": "QZvm_lp4gqe3",
        "outputId": "f3ff66b3-e95a-44e6-893d-80120fd27e7d"
      },
      "outputs": [
        {
          "data": {
            "text/plain": [
              "[('R', 1),\n",
              " ('i', 1),\n",
              " ('e', 1),\n",
              " ('a', 2),\n",
              " ('U', 2),\n",
              " ('n', 3),\n",
              " ('i', 3),\n",
              " ('c', 3),\n",
              " (' ', 3),\n",
              " ('n', 3),\n",
              " ('r', 3),\n",
              " ('s', 3),\n",
              " ('y', 3),\n",
              " ('a', 5),\n",
              " ('i', 5),\n",
              " ('i', 5),\n",
              " ('l', 6),\n",
              " ('g', 8),\n",
              " ('h', 8),\n",
              " (' ', 9),\n",
              " ('v', 9),\n",
              " ('t', 9),\n",
              " ('T', 10),\n",
              " ('e', 10),\n",
              " ('c', 10)]"
            ]
          },
          "execution_count": 123,
          "metadata": {},
          "output_type": "execute_result"
        }
      ],
      "source": [
        "sorted(my_tuples,  = lambda element: element[1]) # so our key is going to be 2nd item, by passing a selection function"
      ]
    },
    {
      "cell_type": "code",
      "execution_count": null,
      "metadata": {
        "id": "pH1D7w4shII5"
      },
      "outputs": [],
      "source": [
        "# so Python famous timsort is stable - the order of items with same key does not change\n",
        "# https://en.wikipedia.org/wiki/Timsort - basically insertion for small sequences and merge for bigger, highly optimized"
      ]
    },
    {
      "cell_type": "markdown",
      "metadata": {
        "id": "DzVC585Fh4Hu"
      },
      "source": [
        "# Counting Sort\n",
        "Can we do better than O(n logn) time?"
      ]
    },
    {
      "cell_type": "code",
      "execution_count": null,
      "metadata": {
        "id": "c8c8tGaSiAZd"
      },
      "outputs": [],
      "source": [
        "# if we have specific data we can\n",
        "# one place where counting sort could be useful could be if we have to sort many numbers over a limited range\n"
      ]
    },
    {
      "cell_type": "code",
      "execution_count": null,
      "metadata": {
        "id": "6mDXAB30iSFy"
      },
      "outputs": [],
      "source": [
        "def countingSort(seq, buckets=10):\n",
        "  # TODO maybe optimize it a bit\n",
        "  blist = [0] * buckets  # need our counters\n",
        "  for n in seq:\n",
        "    blist[n] +=1\n",
        "  result = []\n",
        "  # we make a new list out of our results\n",
        "  for n, bucket in enumerate(blist):\n",
        "    if bucket:\n",
        "      # result.append([n] * bucket)\n",
        "      result += [n] * bucket  # this might not be efficient\n",
        "  return result"
      ]
    },
    {
      "cell_type": "code",
      "execution_count": null,
      "metadata": {
        "colab": {
          "base_uri": "https://localhost:8080/"
        },
        "id": "9STSI1i6hzgB",
        "outputId": "3097f3e9-3423-400a-ad7f-62f8463b699c"
      },
      "outputs": [
        {
          "data": {
            "text/plain": [
              "[3, 6, 2, 6, 1, 1, 5, 3, 6, 4, 6, 1, 3, 3, 4, 4, 4, 3, 1, 2]"
            ]
          },
          "execution_count": 128,
          "metadata": {},
          "output_type": "execute_result"
        }
      ],
      "source": [
        "dice = [random.randint(1,6) for _ in  range(20)]\n",
        "dice"
      ]
    },
    {
      "cell_type": "code",
      "execution_count": null,
      "metadata": {
        "colab": {
          "base_uri": "https://localhost:8080/"
        },
        "id": "eRwG_f7vjNM4",
        "outputId": "89b60ed6-2125-4aad-b9a2-9c247f19bc49"
      },
      "outputs": [
        {
          "data": {
            "text/plain": [
              "[1, 1, 1, 1, 2, 2, 3, 3, 3, 3, 3, 4, 4, 4, 4, 5, 6, 6, 6, 6]"
            ]
          },
          "execution_count": 129,
          "metadata": {},
          "output_type": "execute_result"
        }
      ],
      "source": [
        "sorted(dice)"
      ]
    },
    {
      "cell_type": "code",
      "execution_count": null,
      "metadata": {
        "colab": {
          "base_uri": "https://localhost:8080/"
        },
        "id": "k8FjmUb8jPK4",
        "outputId": "44573ec5-53f3-4ac2-e514-84d934e83742"
      },
      "outputs": [
        {
          "data": {
            "text/plain": [
              "[1, 1, 1, 1, 2, 2, 3, 3, 3, 3, 3, 4, 4, 4, 4, 5, 6, 6, 6, 6]"
            ]
          },
          "execution_count": 134,
          "metadata": {},
          "output_type": "execute_result"
        }
      ],
      "source": [
        "countingSort(dice)"
      ]
    },
    {
      "cell_type": "code",
      "execution_count": null,
      "metadata": {
        "colab": {
          "base_uri": "https://localhost:8080/"
        },
        "id": "pIMMhBEUkr0d",
        "outputId": "4b8f4ecd-a833-442a-d777-1f86b271c987"
      },
      "outputs": [
        {
          "data": {
            "text/plain": [
              "[7, 13, 6, 20, 9]"
            ]
          },
          "execution_count": 143,
          "metadata": {},
          "output_type": "execute_result"
        }
      ],
      "source": [
        "magic_dice_100k = [random.randint(1,20) for _ in  range(100_000)]\n",
        "magic_dice_100k[:5]"
      ]
    },
    {
      "cell_type": "code",
      "execution_count": null,
      "metadata": {
        "colab": {
          "base_uri": "https://localhost:8080/"
        },
        "id": "N1FeSZV9lBUt",
        "outputId": "6ffdb900-ea7c-483c-c889-9df95f210499"
      },
      "outputs": [
        {
          "name": "stdout",
          "output_type": "stream",
          "text": [
            "100 loops, best of 5: 10.6 ms per loop\n"
          ]
        }
      ],
      "source": [
        "%%timeit\n",
        "sorted(magic_dice_100k)"
      ]
    },
    {
      "cell_type": "code",
      "execution_count": null,
      "metadata": {
        "colab": {
          "base_uri": "https://localhost:8080/"
        },
        "id": "Txv8Jomilb23",
        "outputId": "14bac068-036e-4ae8-a814-95453737bc1b"
      },
      "outputs": [
        {
          "data": {
            "text/plain": [
              "[1, 1, 1, 1, 1]"
            ]
          },
          "execution_count": 141,
          "metadata": {},
          "output_type": "execute_result"
        }
      ],
      "source": [
        "sorted_magic = countingSort(magic_dice_100k, buckets=21)\n",
        "sorted_magic[:5]"
      ]
    },
    {
      "cell_type": "code",
      "execution_count": null,
      "metadata": {
        "colab": {
          "base_uri": "https://localhost:8080/"
        },
        "id": "-vXT_jeMlF8q",
        "outputId": "21427b63-13da-4baa-b18c-4bb34e6ea3e7"
      },
      "outputs": [
        {
          "name": "stdout",
          "output_type": "stream",
          "text": [
            "100 loops, best of 5: 11.2 ms per loop\n"
          ]
        }
      ],
      "source": [
        "%%timeit\n",
        "countingSort(magic_dice_100k, buckets=21) # i need extra bucket since I am not using 0"
      ]
    },
    {
      "cell_type": "code",
      "execution_count": null,
      "metadata": {
        "colab": {
          "base_uri": "https://localhost:8080/"
        },
        "id": "BQYTzQzklrl_",
        "outputId": "37c85442-6097-4031-9ca6-32239cf9dd78"
      },
      "outputs": [
        {
          "data": {
            "text/plain": [
              "[13, 17, 6, 4, 5]"
            ]
          },
          "execution_count": 146,
          "metadata": {},
          "output_type": "execute_result"
        }
      ],
      "source": [
        "magic_dice_1M = [random.randint(1,20) for _ in  range(1_000_000)]\n",
        "magic_dice_1M[:5]"
      ]
    },
    {
      "cell_type": "code",
      "execution_count": null,
      "metadata": {
        "colab": {
          "base_uri": "https://localhost:8080/"
        },
        "id": "ieAvR3ktk39i",
        "outputId": "ddd8ea54-862a-4150-cd16-afb7a1b63e50"
      },
      "outputs": [
        {
          "data": {
            "text/plain": [
              "(1, 20)"
            ]
          },
          "execution_count": 147,
          "metadata": {},
          "output_type": "execute_result"
        }
      ],
      "source": [
        "min(magic_dice_1M),max(magic_dice_1M)"
      ]
    },
    {
      "cell_type": "code",
      "execution_count": null,
      "metadata": {
        "colab": {
          "base_uri": "https://localhost:8080/"
        },
        "id": "bEebN3nemKL8",
        "outputId": "515beee1-f70f-4747-e7b0-3abc0ff449bc"
      },
      "outputs": [
        {
          "name": "stdout",
          "output_type": "stream",
          "text": [
            "10 loops, best of 5: 110 ms per loop\n"
          ]
        }
      ],
      "source": [
        "%%timeit\n",
        "sorted(magic_dice_1M)"
      ]
    },
    {
      "cell_type": "code",
      "execution_count": null,
      "metadata": {
        "colab": {
          "base_uri": "https://localhost:8080/"
        },
        "id": "iij5mkyLmQzv",
        "outputId": "66cbb6c9-fba8-4487-9bed-f44ac31a3891"
      },
      "outputs": [
        {
          "name": "stdout",
          "output_type": "stream",
          "text": [
            "10 loops, best of 5: 117 ms per loop\n"
          ]
        }
      ],
      "source": [
        "%%timeit\n",
        "countingSort(magic_dice_1M, buckets=21)"
      ]
    },
    {
      "cell_type": "code",
      "execution_count": null,
      "metadata": {
        "id": "r2NYX_x9jspz"
      },
      "outputs": [],
      "source": [
        "# so only problem is that we need a specificed number of buckets ahead of time\n",
        "# it will not be very efficienct if we need 2 billion buckets in a sparse array\n",
        "# but good for sorting lists/arrays with many duplicates"
      ]
    },
    {
      "cell_type": "code",
      "execution_count": null,
      "metadata": {
        "id": "7I6radIzmglI"
      },
      "outputs": [],
      "source": [
        "# there is also radix sort and generic bucket sort which are similar to counting sort\n",
        "# https://en.wikipedia.org/wiki/Bucket_sort\n",
        "# https://en.wikipedia.org/wiki/Radix_sort - bucket sort by digits\n",
        "\n",
        "# all three share in common the fact that they are NON comparison sorts - that is how we get theortical linearity"
      ]
    },
    {
      "cell_type": "markdown",
      "metadata": {
        "id": "6itr9IAXoWRt"
      },
      "source": [
        "# # Quad Sort new sort ?\n"
      ]
    },
    {
      "cell_type": "code",
      "execution_count": null,
      "metadata": {
        "id": "BG8Egq2poSVB"
      },
      "outputs": [],
      "source": [
        "# Quad Sort\n",
        "https://github.com/scandum/quadsort"
      ]
    },
    {
      "cell_type": "markdown",
      "metadata": {
        "id": "NBGlYiqP3tsr"
      },
      "source": [
        "# References and useful links:"
      ]
    },
    {
      "cell_type": "markdown",
      "metadata": {
        "id": "R1WXGqmE3tsr"
      },
      "source": [
        "* Visualization of these concepst : https://visualgo.net/en\n"
      ]
    },
    {
      "cell_type": "code",
      "execution_count": null,
      "metadata": {
        "id": "LDwXLhsR3tsr"
      },
      "outputs": [],
      "source": [
        "\n"
      ]
    }
  ],
  "metadata": {
    "colab": {
      "name": "03-sorting-introduction.ipynb",
      "provenance": []
    },
    "kernelspec": {
      "display_name": "Python 3",
      "language": "python",
      "name": "python3"
    },
    "language_info": {
      "codemirror_mode": {
        "name": "ipython",
        "version": 3
      },
      "file_extension": ".py",
      "mimetype": "text/x-python",
      "name": "python",
      "nbconvert_exporter": "python",
      "pygments_lexer": "ipython3",
      "version": "3.10.7"
    },
    "toc": {
      "nav_menu": {},
      "number_sections": true,
      "sideBar": true,
      "skip_h1_title": false,
      "toc_cell": true,
      "toc_position": {},
      "toc_section_display": "none",
      "toc_window_display": false
    }
  },
  "nbformat": 4,
  "nbformat_minor": 0
}
