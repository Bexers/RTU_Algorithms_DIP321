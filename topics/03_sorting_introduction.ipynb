{
  "cells": [
    {
      "cell_type": "markdown",
      "metadata": {
        "toc": true,
        "id": "teUUxpod3tsE"
      },
      "source": [
        "<h1>Table of Contents<span class=\"tocSkip\"></span></h1>\n",
        "<div class=\"toc\" style=\"margin-top: 1em;\"><ul class=\"toc-item\"><li><span><a href=\"#Algorithm-complexity\" data-toc-modified-id=\"Algorithm-complexity-1\"><span class=\"toc-item-num\">1&nbsp;&nbsp;</span>Algorithm complexity</a></span><ul class=\"toc-item\"><li><span><a href=\"#Search-algorithm\" data-toc-modified-id=\"Search-algorithm-1.1\"><span class=\"toc-item-num\">1.1&nbsp;&nbsp;</span>Search algorithm</a></span><ul class=\"toc-item\"><li><span><a href=\"#Linear-search\" data-toc-modified-id=\"Linear-search-1.1.1\"><span class=\"toc-item-num\">1.1.1&nbsp;&nbsp;</span>Linear search</a></span></li><li><span><a href=\"#Binary-search\" data-toc-modified-id=\"Binary-search-1.1.2\"><span class=\"toc-item-num\">1.1.2&nbsp;&nbsp;</span>Binary search</a></span></li></ul></li></ul></li><li><span><a href=\"#Sorting-algorithms\" data-toc-modified-id=\"Sorting-algorithms-2\"><span class=\"toc-item-num\">2&nbsp;&nbsp;</span>Sorting algorithms</a></span><ul class=\"toc-item\"><li><ul class=\"toc-item\"><li><span><a href=\"#Bubble-sort\" data-toc-modified-id=\"Bubble-sort-2.0.1\"><span class=\"toc-item-num\">2.0.1&nbsp;&nbsp;</span>Bubble sort</a></span></li><li><span><a href=\"#Selection-sort\" data-toc-modified-id=\"Selection-sort-2.0.2\"><span class=\"toc-item-num\">2.0.2&nbsp;&nbsp;</span>Selection sort</a></span></li><li><span><a href=\"#Insertion-sort\" data-toc-modified-id=\"Insertion-sort-2.0.3\"><span class=\"toc-item-num\">2.0.3&nbsp;&nbsp;</span>Insertion sort</a></span></li><li><span><a href=\"#Merge-Sort\" data-toc-modified-id=\"Merge-Sort-2.0.4\"><span class=\"toc-item-num\">2.0.4&nbsp;&nbsp;</span>Merge Sort</a></span></li><li><span><a href=\"#Quick-sort\" data-toc-modified-id=\"Quick-sort-2.0.5\"><span class=\"toc-item-num\">2.0.5&nbsp;&nbsp;</span>Quick sort</a></span></li></ul></li></ul></li></ul></div>"
      ]
    },
    {
      "cell_type": "markdown",
      "metadata": {
        "id": "5nbKWxTD3tsK"
      },
      "source": [
        "Discussion and implementation of basic sorting algorithms "
      ]
    },
    {
      "cell_type": "markdown",
      "metadata": {
        "id": "Fa-tT_z53tsL"
      },
      "source": [
        "Notebook is adapted from: https://github.com/shik3519/programming-concepts-for-data-science\n",
        "Content is heavily derived from: http://interactivepython.org/runestone/static/pythonds/index.html"
      ]
    },
    {
      "cell_type": "code",
      "execution_count": 98,
      "metadata": {
        "id": "SFFVn81f3tsL"
      },
      "outputs": [],
      "source": [
        "import pandas as pd\n",
        "import numpy as np\n",
        "import time\n",
        "import matplotlib.pyplot as plt\n",
        "%matplotlib inline"
      ]
    },
    {
      "cell_type": "markdown",
      "metadata": {
        "heading_collapsed": true,
        "id": "TZ47CVD93tsN"
      },
      "source": [
        "# Algorithm complexity"
      ]
    },
    {
      "cell_type": "markdown",
      "metadata": {
        "hidden": true,
        "id": "CsQVRt1b3tsO"
      },
      "source": [
        "`Big O notation` is used in Computer Science to describe the performance or complexity of an algorithm. Big O specifically describes the worst-case scenario, and can be used to describe the execution time required or the space used."
      ]
    },
    {
      "cell_type": "markdown",
      "metadata": {
        "hidden": true,
        "id": "3SRBmHuj3tsO"
      },
      "source": [
        "To know more: http://interactivepython.org/runestone/static/pythonds/AlgorithmAnalysis/BigONotation.html"
      ]
    },
    {
      "cell_type": "markdown",
      "metadata": {
        "hidden": true,
        "id": "1rwDFkW03tsP"
      },
      "source": [
        "![selection](https://github.com/ValRCS/RTU_Algorithms_DIP321/blob/main/imgs/bigo.png?raw=1)"
      ]
    },
    {
      "cell_type": "markdown",
      "metadata": {
        "hidden": true,
        "id": "Xp0XHF3L3tsQ"
      },
      "source": [
        "<img src=\"http://interactivepython.org/runestone/static/pythonds/_images/newplot.png\">"
      ]
    },
    {
      "cell_type": "markdown",
      "metadata": {
        "hidden": true,
        "id": "Z0Rrsybj3tsR"
      },
      "source": [
        "Let's understand this through 2 different implementation of search algorithm"
      ]
    },
    {
      "cell_type": "markdown",
      "metadata": {
        "heading_collapsed": true,
        "hidden": true,
        "id": "pFzOr1Cc3tsS"
      },
      "source": [
        "## Search algorithm"
      ]
    },
    {
      "cell_type": "markdown",
      "metadata": {
        "heading_collapsed": true,
        "hidden": true,
        "id": "q-H4MSB33tsS"
      },
      "source": [
        "### Linear search"
      ]
    },
    {
      "cell_type": "code",
      "execution_count": 10,
      "metadata": {
        "hidden": true,
        "id": "NAQioi_V3tsS"
      },
      "outputs": [],
      "source": [
        "def linear_search(l, target):\n",
        "    for e in l:\n",
        "        if e == target:\n",
        "            return True\n",
        "    return False"
      ]
    },
    {
      "cell_type": "code",
      "execution_count": 11,
      "metadata": {
        "hidden": true,
        "id": "6a_aQUJM3tsT"
      },
      "outputs": [],
      "source": [
        "l = np.arange(1000)"
      ]
    },
    {
      "cell_type": "code",
      "execution_count": 12,
      "metadata": {
        "hidden": true,
        "colab": {
          "base_uri": "https://localhost:8080/"
        },
        "id": "gv2gTYSy3tsT",
        "outputId": "f39d0453-8b0c-418d-e641-1a79b34b8cac"
      },
      "outputs": [
        {
          "output_type": "stream",
          "name": "stdout",
          "text": [
            "1000 loops, best of 5: 293 µs per loop\n"
          ]
        }
      ],
      "source": [
        "%%timeit\n",
        "linear_search(l,999)"
      ]
    },
    {
      "cell_type": "markdown",
      "metadata": {
        "hidden": true,
        "id": "ZsFZfJ5F3tsT"
      },
      "source": [
        "Time scales linearly with n. So Big-O is $O(n)$"
      ]
    },
    {
      "cell_type": "markdown",
      "metadata": {
        "heading_collapsed": true,
        "hidden": true,
        "id": "KsvpBoGT3tsT"
      },
      "source": [
        "### Binary search"
      ]
    },
    {
      "cell_type": "markdown",
      "metadata": {
        "hidden": true,
        "id": "V6pqKlAI3tsU"
      },
      "source": [
        "Iterative algo"
      ]
    },
    {
      "cell_type": "code",
      "execution_count": 13,
      "metadata": {
        "hidden": true,
        "id": "Uv3k1zs53tsU"
      },
      "outputs": [],
      "source": [
        "def binarySearchIterative(a, t):\n",
        "    upper = len(a) - 1\n",
        "    lower = 0\n",
        "    while lower <= upper:\n",
        "        middle = (lower + upper) // 2\n",
        "        if t == a[middle]:\n",
        "            return True\n",
        "        else:\n",
        "            if t < a[middle]:\n",
        "                upper = middle - 1\n",
        "            else:\n",
        "                lower = middle + 1\n",
        "    return False"
      ]
    },
    {
      "cell_type": "code",
      "execution_count": 14,
      "metadata": {
        "hidden": true,
        "id": "oGZFsyTg3tsU"
      },
      "outputs": [],
      "source": [
        "l = np.arange(1000)"
      ]
    },
    {
      "cell_type": "code",
      "execution_count": 15,
      "metadata": {
        "hidden": true,
        "colab": {
          "base_uri": "https://localhost:8080/"
        },
        "id": "NWcnjpG-3tsU",
        "outputId": "92d2fe4d-d7e1-4a2e-f937-fa3d7a70d2ae"
      },
      "outputs": [
        {
          "output_type": "stream",
          "name": "stdout",
          "text": [
            "100000 loops, best of 5: 8.6 µs per loop\n"
          ]
        }
      ],
      "source": [
        "%%timeit\n",
        "binarySearchIterative(l,999)"
      ]
    },
    {
      "cell_type": "markdown",
      "metadata": {
        "hidden": true,
        "id": "1z7Zqprs3tsV"
      },
      "source": [
        "Time scales linearly with n. So Big-O is $O(log(n))$"
      ]
    },
    {
      "cell_type": "markdown",
      "metadata": {
        "hidden": true,
        "id": "tMWTIbI63tsV"
      },
      "source": [
        "We can see that binary search is almost 30x faster"
      ]
    },
    {
      "cell_type": "markdown",
      "metadata": {
        "hidden": true,
        "id": "i_ACmidv3tsV"
      },
      "source": [
        "We can do binary search in a recursive way too"
      ]
    },
    {
      "cell_type": "code",
      "execution_count": 8,
      "metadata": {
        "hidden": true,
        "id": "Uojgsc8K3tsV"
      },
      "outputs": [],
      "source": [
        "def binarySearchRecursive(a, t):\n",
        "    upper = len(a) - 1\n",
        "    lower = 0\n",
        "    if upper >= 0:\n",
        "        middle = (lower + upper) // 2\n",
        "        if t == a[middle]: return True\n",
        "        if t < a[middle]: return binarySearchRecursive(a[:middle], t)\n",
        "        else: return binarySearchRecursive(a[middle + 1:], t)\n",
        "    return False"
      ]
    },
    {
      "cell_type": "code",
      "execution_count": 9,
      "metadata": {
        "hidden": true,
        "colab": {
          "base_uri": "https://localhost:8080/"
        },
        "id": "xuxeOCyG3tsV",
        "outputId": "1ca845c3-a08a-477a-e1d2-88632a786fd3"
      },
      "outputs": [
        {
          "output_type": "stream",
          "name": "stdout",
          "text": [
            "100000 loops, best of 5: 12.7 µs per loop\n"
          ]
        }
      ],
      "source": [
        "%%timeit\n",
        "binarySearchRecursive(l,999)"
      ]
    },
    {
      "cell_type": "markdown",
      "metadata": {
        "heading_collapsed": true,
        "id": "rEMz6f6D3tsW"
      },
      "source": [
        "# Sorting algorithms"
      ]
    },
    {
      "cell_type": "code",
      "execution_count": null,
      "metadata": {
        "id": "8dot3O233tsW"
      },
      "outputs": [],
      "source": [
        "# What is the worst type of sorting algorithm that you can think of ?\n",
        "# https://en.wikipedia.org/wiki/Bogosort\n",
        "# while not isInOrder(deck):\n",
        "#    shuffle(deck)"
      ]
    },
    {
      "cell_type": "code",
      "execution_count": 16,
      "metadata": {
        "id": "P6u9C3iI3tsW"
      },
      "outputs": [],
      "source": [
        "from random import shuffle\n",
        "\n",
        "def is_sorted(data) -> bool:\n",
        "    \"\"\"Determine whether the data is sorted.\"\"\"\n",
        "    # linear complexity\n",
        "    return all(data[i] <= data[i + 1] for i in range(len(data) - 1)) # go through all items in collection and check order\n",
        "\n",
        "\n",
        "def bogosort(data) -> list:\n",
        "    \"\"\"Shuffle data until sorted.\"\"\"\n",
        "    while not is_sorted(data): # well will we ever be done ? :)\n",
        "        shuffle(data) # in place\n",
        "    return data"
      ]
    },
    {
      "cell_type": "code",
      "execution_count": 17,
      "metadata": {
        "id": "V60CIQ3Y3tsW"
      },
      "outputs": [],
      "source": [
        "mydata = [1,6,4,3,-7]"
      ]
    },
    {
      "cell_type": "code",
      "execution_count": 20,
      "metadata": {
        "colab": {
          "base_uri": "https://localhost:8080/"
        },
        "id": "D0UOyYei3tsW",
        "outputId": "cb7d572a-c08a-4f7e-fd57-6e8fd4f59556"
      },
      "outputs": [
        {
          "output_type": "execute_result",
          "data": {
            "text/plain": [
              "[-7, 1, 3, 4, 6]"
            ]
          },
          "metadata": {},
          "execution_count": 20
        }
      ],
      "source": [
        "bogodata = bogosort(mydata)\n",
        "bogodata"
      ]
    },
    {
      "cell_type": "code",
      "execution_count": 21,
      "metadata": {
        "colab": {
          "base_uri": "https://localhost:8080/"
        },
        "id": "_SIrfhq83tsX",
        "outputId": "9c9d8867-2812-4e7f-820b-7ea04ce22665"
      },
      "outputs": [
        {
          "output_type": "stream",
          "name": "stdout",
          "text": [
            "The slowest run took 6.88 times longer than the fastest. This could mean that an intermediate result is being cached.\n",
            "1000000 loops, best of 5: 1.42 µs per loop\n"
          ]
        }
      ],
      "source": [
        "%%timeit\n",
        "bogosort(mydata)"
      ]
    },
    {
      "cell_type": "code",
      "execution_count": 109,
      "metadata": {
        "id": "fp14QCIl3tsY"
      },
      "outputs": [],
      "source": [
        "import random\n",
        "rand1M = [random.randint(1,10_000_000) for _ in range(1_000_000)]\n",
        "rand100000 = [random.randint(1,1000000) for _ in range(100_000)]\n",
        "rand10000 = [random.randint(1,100000) for _ in range(10_000)]\n",
        "rand1000 = [random.randint(1,100000) for _ in range(1_000)]\n",
        "rand100 = [random.randint(1,1000) for _ in range(100)]\n",
        "rand10 = [random.randint(1,1000) for _ in range(10)]\n",
        "\n",
        "rand7 = [random.randint(1,1000) for _ in range(7)]\n",
        "rand6 = [random.randint(1,1000) for _ in range(6)]"
      ]
    },
    {
      "cell_type": "code",
      "source": [
        "rand8 = [random.randint(1,1000) for _ in range(8)]\n",
        "rand9 = [random.randint(1,1000) for _ in range(9)]"
      ],
      "metadata": {
        "id": "FuRP78fb8DjU"
      },
      "execution_count": 104,
      "outputs": []
    },
    {
      "cell_type": "code",
      "execution_count": 23,
      "metadata": {
        "colab": {
          "base_uri": "https://localhost:8080/"
        },
        "id": "STQPzicN3tsY",
        "outputId": "0b6ec0b5-b35f-4426-df6f-3e50fdf14d54"
      },
      "outputs": [
        {
          "output_type": "execute_result",
          "data": {
            "text/plain": [
              "[28, 135, 517, 527, 769, 936]"
            ]
          },
          "metadata": {},
          "execution_count": 23
        }
      ],
      "source": [
        "rand6sorted = bogosort(rand6)\n",
        "rand6"
      ]
    },
    {
      "cell_type": "code",
      "execution_count": 24,
      "metadata": {
        "colab": {
          "base_uri": "https://localhost:8080/"
        },
        "id": "10a6vSmu3tsY",
        "outputId": "9ce02f3e-f9b4-4a38-b339-6a341b51282f"
      },
      "outputs": [
        {
          "output_type": "stream",
          "name": "stdout",
          "text": [
            "The slowest run took 6.46 times longer than the fastest. This could mean that an intermediate result is being cached.\n",
            "1000000 loops, best of 5: 1.55 µs per loop\n"
          ]
        }
      ],
      "source": [
        "%%timeit\n",
        "bogosort(rand6)"
      ]
    },
    {
      "cell_type": "code",
      "execution_count": 25,
      "metadata": {
        "colab": {
          "base_uri": "https://localhost:8080/"
        },
        "id": "ErYKLsT43tsZ",
        "outputId": "68935085-886e-4a39-e7ac-ef63e9083756"
      },
      "outputs": [
        {
          "output_type": "execute_result",
          "data": {
            "text/plain": [
              "[122, 183, 217, 382, 705, 772, 838]"
            ]
          },
          "metadata": {},
          "execution_count": 25
        }
      ],
      "source": [
        "rand7sorted = bogosort(rand7)\n",
        "rand7"
      ]
    },
    {
      "cell_type": "code",
      "execution_count": 26,
      "metadata": {
        "colab": {
          "base_uri": "https://localhost:8080/"
        },
        "id": "IUy5lg7r3tsZ",
        "outputId": "016d99e1-e4e0-4126-cfcd-78895590bfe7"
      },
      "outputs": [
        {
          "output_type": "stream",
          "name": "stdout",
          "text": [
            "The slowest run took 4.54 times longer than the fastest. This could mean that an intermediate result is being cached.\n",
            "1000000 loops, best of 5: 1.72 µs per loop\n"
          ]
        }
      ],
      "source": [
        "%%timeit\n",
        "bogosort(rand7)"
      ]
    },
    {
      "cell_type": "code",
      "source": [
        "rand8"
      ],
      "metadata": {
        "colab": {
          "base_uri": "https://localhost:8080/"
        },
        "id": "uFWG8QRI8LeJ",
        "outputId": "f7b79e9a-f6aa-44e4-b534-77b74bbfd92b"
      },
      "execution_count": 28,
      "outputs": [
        {
          "output_type": "execute_result",
          "data": {
            "text/plain": [
              "[873, 367, 458, 522, 336, 881, 356, 393]"
            ]
          },
          "metadata": {},
          "execution_count": 28
        }
      ]
    },
    {
      "cell_type": "code",
      "source": [
        "bogosort(rand8)"
      ],
      "metadata": {
        "colab": {
          "base_uri": "https://localhost:8080/"
        },
        "id": "spb85-UL8Nli",
        "outputId": "0ece40cb-a7f8-4f8d-c7e7-25d049b38c31"
      },
      "execution_count": 34,
      "outputs": [
        {
          "output_type": "execute_result",
          "data": {
            "text/plain": [
              "[336, 356, 367, 393, 458, 522, 873, 881]"
            ]
          },
          "metadata": {},
          "execution_count": 34
        }
      ]
    },
    {
      "cell_type": "code",
      "source": [
        "bogosort(rand9)"
      ],
      "metadata": {
        "colab": {
          "base_uri": "https://localhost:8080/"
        },
        "id": "-RCo4QFH8TNC",
        "outputId": "d032be4e-a205-4533-d768-908e46856554"
      },
      "execution_count": 38,
      "outputs": [
        {
          "output_type": "execute_result",
          "data": {
            "text/plain": [
              "[191, 360, 502, 511, 614, 627, 821, 876, 943]"
            ]
          },
          "metadata": {},
          "execution_count": 38
        }
      ]
    },
    {
      "cell_type": "code",
      "source": [
        "%%timeit\n",
        "bogosort(rand9)"
      ],
      "metadata": {
        "colab": {
          "base_uri": "https://localhost:8080/"
        },
        "id": "Yw3sUf8V8WdA",
        "outputId": "cd3b8511-3b2c-4d1f-dd92-4e28d45986ec"
      },
      "execution_count": 39,
      "outputs": [
        {
          "output_type": "stream",
          "name": "stdout",
          "text": [
            "The slowest run took 4.16 times longer than the fastest. This could mean that an intermediate result is being cached.\n",
            "100000 loops, best of 5: 1.93 µs per loop\n"
          ]
        }
      ]
    },
    {
      "cell_type": "code",
      "source": [
        ""
      ],
      "metadata": {
        "id": "cPZkj1vB8iGP"
      },
      "execution_count": null,
      "outputs": []
    },
    {
      "cell_type": "code",
      "execution_count": 40,
      "metadata": {
        "colab": {
          "base_uri": "https://localhost:8080/",
          "height": 333
        },
        "id": "qRczEkbm3tsa",
        "outputId": "c4795df1-cfd3-4c07-98dc-f11d49971bae"
      },
      "outputs": [
        {
          "output_type": "error",
          "ename": "KeyboardInterrupt",
          "evalue": "ignored",
          "traceback": [
            "\u001b[0;31m---------------------------------------------------------------------------\u001b[0m",
            "\u001b[0;31mKeyboardInterrupt\u001b[0m                         Traceback (most recent call last)",
            "\u001b[0;32m<ipython-input-40-c24e38681416>\u001b[0m in \u001b[0;36m<module>\u001b[0;34m()\u001b[0m\n\u001b[0;32m----> 1\u001b[0;31m \u001b[0mrand10sorted\u001b[0m \u001b[0;34m=\u001b[0m \u001b[0mbogosort\u001b[0m\u001b[0;34m(\u001b[0m\u001b[0mrand10\u001b[0m\u001b[0;34m)\u001b[0m\u001b[0;34m\u001b[0m\u001b[0;34m\u001b[0m\u001b[0m\n\u001b[0m\u001b[1;32m      2\u001b[0m \u001b[0mrand10\u001b[0m\u001b[0;34m,\u001b[0m \u001b[0mrand10sorted\u001b[0m\u001b[0;34m\u001b[0m\u001b[0;34m\u001b[0m\u001b[0m\n",
            "\u001b[0;32m<ipython-input-16-fc240fed4c6c>\u001b[0m in \u001b[0;36mbogosort\u001b[0;34m(data)\u001b[0m\n\u001b[1;32m     10\u001b[0m     \u001b[0;34m\"\"\"Shuffle data until sorted.\"\"\"\u001b[0m\u001b[0;34m\u001b[0m\u001b[0;34m\u001b[0m\u001b[0m\n\u001b[1;32m     11\u001b[0m     \u001b[0;32mwhile\u001b[0m \u001b[0;32mnot\u001b[0m \u001b[0mis_sorted\u001b[0m\u001b[0;34m(\u001b[0m\u001b[0mdata\u001b[0m\u001b[0;34m)\u001b[0m\u001b[0;34m:\u001b[0m \u001b[0;31m# well will we ever be done ? :)\u001b[0m\u001b[0;34m\u001b[0m\u001b[0;34m\u001b[0m\u001b[0m\n\u001b[0;32m---> 12\u001b[0;31m         \u001b[0mshuffle\u001b[0m\u001b[0;34m(\u001b[0m\u001b[0mdata\u001b[0m\u001b[0;34m)\u001b[0m \u001b[0;31m# in place\u001b[0m\u001b[0;34m\u001b[0m\u001b[0;34m\u001b[0m\u001b[0m\n\u001b[0m\u001b[1;32m     13\u001b[0m     \u001b[0;32mreturn\u001b[0m \u001b[0mdata\u001b[0m\u001b[0;34m\u001b[0m\u001b[0;34m\u001b[0m\u001b[0m\n",
            "\u001b[0;32m/usr/lib/python3.7/random.py\u001b[0m in \u001b[0;36mshuffle\u001b[0;34m(self, x, random)\u001b[0m\n\u001b[1;32m    275\u001b[0m             \u001b[0;32mfor\u001b[0m \u001b[0mi\u001b[0m \u001b[0;32min\u001b[0m \u001b[0mreversed\u001b[0m\u001b[0;34m(\u001b[0m\u001b[0mrange\u001b[0m\u001b[0;34m(\u001b[0m\u001b[0;36m1\u001b[0m\u001b[0;34m,\u001b[0m \u001b[0mlen\u001b[0m\u001b[0;34m(\u001b[0m\u001b[0mx\u001b[0m\u001b[0;34m)\u001b[0m\u001b[0;34m)\u001b[0m\u001b[0;34m)\u001b[0m\u001b[0;34m:\u001b[0m\u001b[0;34m\u001b[0m\u001b[0;34m\u001b[0m\u001b[0m\n\u001b[1;32m    276\u001b[0m                 \u001b[0;31m# pick an element in x[:i+1] with which to exchange x[i]\u001b[0m\u001b[0;34m\u001b[0m\u001b[0;34m\u001b[0m\u001b[0;34m\u001b[0m\u001b[0m\n\u001b[0;32m--> 277\u001b[0;31m                 \u001b[0mj\u001b[0m \u001b[0;34m=\u001b[0m \u001b[0mrandbelow\u001b[0m\u001b[0;34m(\u001b[0m\u001b[0mi\u001b[0m\u001b[0;34m+\u001b[0m\u001b[0;36m1\u001b[0m\u001b[0;34m)\u001b[0m\u001b[0;34m\u001b[0m\u001b[0;34m\u001b[0m\u001b[0m\n\u001b[0m\u001b[1;32m    278\u001b[0m                 \u001b[0mx\u001b[0m\u001b[0;34m[\u001b[0m\u001b[0mi\u001b[0m\u001b[0;34m]\u001b[0m\u001b[0;34m,\u001b[0m \u001b[0mx\u001b[0m\u001b[0;34m[\u001b[0m\u001b[0mj\u001b[0m\u001b[0;34m]\u001b[0m \u001b[0;34m=\u001b[0m \u001b[0mx\u001b[0m\u001b[0;34m[\u001b[0m\u001b[0mj\u001b[0m\u001b[0;34m]\u001b[0m\u001b[0;34m,\u001b[0m \u001b[0mx\u001b[0m\u001b[0;34m[\u001b[0m\u001b[0mi\u001b[0m\u001b[0;34m]\u001b[0m\u001b[0;34m\u001b[0m\u001b[0;34m\u001b[0m\u001b[0m\n\u001b[1;32m    279\u001b[0m         \u001b[0;32melse\u001b[0m\u001b[0;34m:\u001b[0m\u001b[0;34m\u001b[0m\u001b[0;34m\u001b[0m\u001b[0m\n",
            "\u001b[0;31mKeyboardInterrupt\u001b[0m: "
          ]
        }
      ],
      "source": [
        "rand10sorted = bogosort(rand10)\n",
        "rand10, rand10sorted"
      ]
    },
    {
      "cell_type": "code",
      "execution_count": null,
      "metadata": {
        "id": "_qm2Y29G3tsa",
        "outputId": "cab32c74-d6a4-4e9e-9a82-24fcb6865ce0"
      },
      "outputs": [
        {
          "data": {
            "text/plain": [
              "[133, 921, 120, 508, 87, 293]"
            ]
          },
          "execution_count": 14,
          "metadata": {},
          "output_type": "execute_result"
        }
      ],
      "source": [
        "rand6"
      ]
    },
    {
      "cell_type": "code",
      "execution_count": null,
      "metadata": {
        "id": "YNTVAeH43tsb",
        "outputId": "7ef6795b-9514-4a40-cece-e050c2a22674"
      },
      "outputs": [
        {
          "data": {
            "text/plain": [
              "[54, 275, 162, 341, 771, 255, 837]"
            ]
          },
          "execution_count": 13,
          "metadata": {},
          "output_type": "execute_result"
        }
      ],
      "source": [
        "rand7"
      ]
    },
    {
      "cell_type": "code",
      "execution_count": null,
      "metadata": {
        "id": "IHFbvQbr3tsb",
        "outputId": "ea526548-e7a1-4e10-aa03-df7b0ee633ed"
      },
      "outputs": [
        {
          "data": {
            "text/plain": [
              "[615, 538, 45, 258, 570, 963, 46, 122, 681, 303]"
            ]
          },
          "execution_count": 15,
          "metadata": {},
          "output_type": "execute_result"
        }
      ],
      "source": [
        "rand10"
      ]
    },
    {
      "cell_type": "code",
      "execution_count": 41,
      "metadata": {
        "colab": {
          "base_uri": "https://localhost:8080/"
        },
        "id": "fG4t4FUZ3tsb",
        "outputId": "d675bb8a-d926-4782-9fcc-753e034c0989"
      },
      "outputs": [
        {
          "output_type": "execute_result",
          "data": {
            "text/plain": [
              "3628800"
            ]
          },
          "metadata": {},
          "execution_count": 41
        }
      ],
      "source": [
        "import math\n",
        "math.factorial(10)"
      ]
    },
    {
      "cell_type": "code",
      "source": [
        "math.factorial(9)"
      ],
      "metadata": {
        "colab": {
          "base_uri": "https://localhost:8080/"
        },
        "id": "InVn4kZV8s8d",
        "outputId": "86ef7dfa-f02c-4516-911d-460c5a668d89"
      },
      "execution_count": 42,
      "outputs": [
        {
          "output_type": "execute_result",
          "data": {
            "text/plain": [
              "362880"
            ]
          },
          "metadata": {},
          "execution_count": 42
        }
      ]
    },
    {
      "cell_type": "code",
      "source": [
        "rand10"
      ],
      "metadata": {
        "colab": {
          "base_uri": "https://localhost:8080/"
        },
        "id": "0E2uSMAE8zpE",
        "outputId": "5c5fb17b-eba3-4ee9-f238-abd71835c379"
      },
      "execution_count": 43,
      "outputs": [
        {
          "output_type": "execute_result",
          "data": {
            "text/plain": [
              "[614, 487, 345, 161, 946, 92, 433, 367, 896, 587]"
            ]
          },
          "metadata": {},
          "execution_count": 43
        }
      ]
    },
    {
      "cell_type": "code",
      "source": [
        "bogosort(rand10)"
      ],
      "metadata": {
        "colab": {
          "base_uri": "https://localhost:8080/",
          "height": 315
        },
        "id": "K45EdWht81Fw",
        "outputId": "e1ac3e67-53bc-4e41-aa99-76100d72329b"
      },
      "execution_count": 44,
      "outputs": [
        {
          "output_type": "error",
          "ename": "KeyboardInterrupt",
          "evalue": "ignored",
          "traceback": [
            "\u001b[0;31m---------------------------------------------------------------------------\u001b[0m",
            "\u001b[0;31mKeyboardInterrupt\u001b[0m                         Traceback (most recent call last)",
            "\u001b[0;32m<ipython-input-44-a4f794563997>\u001b[0m in \u001b[0;36m<module>\u001b[0;34m()\u001b[0m\n\u001b[0;32m----> 1\u001b[0;31m \u001b[0mbogosort\u001b[0m\u001b[0;34m(\u001b[0m\u001b[0mrand10\u001b[0m\u001b[0;34m)\u001b[0m\u001b[0;34m\u001b[0m\u001b[0;34m\u001b[0m\u001b[0m\n\u001b[0m",
            "\u001b[0;32m<ipython-input-16-fc240fed4c6c>\u001b[0m in \u001b[0;36mbogosort\u001b[0;34m(data)\u001b[0m\n\u001b[1;32m     10\u001b[0m     \u001b[0;34m\"\"\"Shuffle data until sorted.\"\"\"\u001b[0m\u001b[0;34m\u001b[0m\u001b[0;34m\u001b[0m\u001b[0m\n\u001b[1;32m     11\u001b[0m     \u001b[0;32mwhile\u001b[0m \u001b[0;32mnot\u001b[0m \u001b[0mis_sorted\u001b[0m\u001b[0;34m(\u001b[0m\u001b[0mdata\u001b[0m\u001b[0;34m)\u001b[0m\u001b[0;34m:\u001b[0m \u001b[0;31m# well will we ever be done ? :)\u001b[0m\u001b[0;34m\u001b[0m\u001b[0;34m\u001b[0m\u001b[0m\n\u001b[0;32m---> 12\u001b[0;31m         \u001b[0mshuffle\u001b[0m\u001b[0;34m(\u001b[0m\u001b[0mdata\u001b[0m\u001b[0;34m)\u001b[0m \u001b[0;31m# in place\u001b[0m\u001b[0;34m\u001b[0m\u001b[0;34m\u001b[0m\u001b[0m\n\u001b[0m\u001b[1;32m     13\u001b[0m     \u001b[0;32mreturn\u001b[0m \u001b[0mdata\u001b[0m\u001b[0;34m\u001b[0m\u001b[0;34m\u001b[0m\u001b[0m\n",
            "\u001b[0;32m/usr/lib/python3.7/random.py\u001b[0m in \u001b[0;36mshuffle\u001b[0;34m(self, x, random)\u001b[0m\n\u001b[1;32m    273\u001b[0m         \u001b[0;32mif\u001b[0m \u001b[0mrandom\u001b[0m \u001b[0;32mis\u001b[0m \u001b[0;32mNone\u001b[0m\u001b[0;34m:\u001b[0m\u001b[0;34m\u001b[0m\u001b[0;34m\u001b[0m\u001b[0m\n\u001b[1;32m    274\u001b[0m             \u001b[0mrandbelow\u001b[0m \u001b[0;34m=\u001b[0m \u001b[0mself\u001b[0m\u001b[0;34m.\u001b[0m\u001b[0m_randbelow\u001b[0m\u001b[0;34m\u001b[0m\u001b[0;34m\u001b[0m\u001b[0m\n\u001b[0;32m--> 275\u001b[0;31m             \u001b[0;32mfor\u001b[0m \u001b[0mi\u001b[0m \u001b[0;32min\u001b[0m \u001b[0mreversed\u001b[0m\u001b[0;34m(\u001b[0m\u001b[0mrange\u001b[0m\u001b[0;34m(\u001b[0m\u001b[0;36m1\u001b[0m\u001b[0;34m,\u001b[0m \u001b[0mlen\u001b[0m\u001b[0;34m(\u001b[0m\u001b[0mx\u001b[0m\u001b[0;34m)\u001b[0m\u001b[0;34m)\u001b[0m\u001b[0;34m)\u001b[0m\u001b[0;34m:\u001b[0m\u001b[0;34m\u001b[0m\u001b[0;34m\u001b[0m\u001b[0m\n\u001b[0m\u001b[1;32m    276\u001b[0m                 \u001b[0;31m# pick an element in x[:i+1] with which to exchange x[i]\u001b[0m\u001b[0;34m\u001b[0m\u001b[0;34m\u001b[0m\u001b[0;34m\u001b[0m\u001b[0m\n\u001b[1;32m    277\u001b[0m                 \u001b[0mj\u001b[0m \u001b[0;34m=\u001b[0m \u001b[0mrandbelow\u001b[0m\u001b[0;34m(\u001b[0m\u001b[0mi\u001b[0m\u001b[0;34m+\u001b[0m\u001b[0;36m1\u001b[0m\u001b[0;34m)\u001b[0m\u001b[0;34m\u001b[0m\u001b[0;34m\u001b[0m\u001b[0m\n",
            "\u001b[0;31mKeyboardInterrupt\u001b[0m: "
          ]
        }
      ]
    },
    {
      "cell_type": "code",
      "execution_count": null,
      "metadata": {
        "id": "C-sM3WCt3tsb",
        "outputId": "8fe7bc0d-5097-44d0-e25c-9fdaf4be2720"
      },
      "outputs": [
        {
          "data": {
            "text/plain": [
              "[72, 179, 187, 408, 421, 481, 638]"
            ]
          },
          "execution_count": 10,
          "metadata": {},
          "output_type": "execute_result"
        }
      ],
      "source": [
        "bogo7 = bogosort(rand7)\n",
        "bogo7"
      ]
    },
    {
      "cell_type": "code",
      "execution_count": null,
      "metadata": {
        "id": "PTfedvtT3tsc",
        "outputId": "8cdc6e01-2f1a-4b8d-bcac-ef00446b8d4d"
      },
      "outputs": [
        {
          "ename": "KeyboardInterrupt",
          "evalue": "",
          "output_type": "error",
          "traceback": [
            "\u001b[1;31m---------------------------------------------------------------------------\u001b[0m",
            "\u001b[1;31mKeyboardInterrupt\u001b[0m                         Traceback (most recent call last)",
            "\u001b[1;32m<ipython-input-6-a0576b1a5b5d>\u001b[0m in \u001b[0;36m<module>\u001b[1;34m\u001b[0m\n\u001b[1;32m----> 1\u001b[1;33m \u001b[0mget_ipython\u001b[0m\u001b[1;33m(\u001b[0m\u001b[1;33m)\u001b[0m\u001b[1;33m.\u001b[0m\u001b[0mrun_cell_magic\u001b[0m\u001b[1;33m(\u001b[0m\u001b[1;34m'timeit'\u001b[0m\u001b[1;33m,\u001b[0m \u001b[1;34m''\u001b[0m\u001b[1;33m,\u001b[0m \u001b[1;34m'bogosort(rand10)\\n'\u001b[0m\u001b[1;33m)\u001b[0m\u001b[1;33m\u001b[0m\u001b[1;33m\u001b[0m\u001b[0m\n\u001b[0m",
            "\u001b[1;32m~\\anaconda3\\lib\\site-packages\\IPython\\core\\interactiveshell.py\u001b[0m in \u001b[0;36mrun_cell_magic\u001b[1;34m(self, magic_name, line, cell)\u001b[0m\n\u001b[0;32m   2369\u001b[0m             \u001b[1;32mwith\u001b[0m \u001b[0mself\u001b[0m\u001b[1;33m.\u001b[0m\u001b[0mbuiltin_trap\u001b[0m\u001b[1;33m:\u001b[0m\u001b[1;33m\u001b[0m\u001b[1;33m\u001b[0m\u001b[0m\n\u001b[0;32m   2370\u001b[0m                 \u001b[0margs\u001b[0m \u001b[1;33m=\u001b[0m \u001b[1;33m(\u001b[0m\u001b[0mmagic_arg_s\u001b[0m\u001b[1;33m,\u001b[0m \u001b[0mcell\u001b[0m\u001b[1;33m)\u001b[0m\u001b[1;33m\u001b[0m\u001b[1;33m\u001b[0m\u001b[0m\n\u001b[1;32m-> 2371\u001b[1;33m                 \u001b[0mresult\u001b[0m \u001b[1;33m=\u001b[0m \u001b[0mfn\u001b[0m\u001b[1;33m(\u001b[0m\u001b[1;33m*\u001b[0m\u001b[0margs\u001b[0m\u001b[1;33m,\u001b[0m \u001b[1;33m**\u001b[0m\u001b[0mkwargs\u001b[0m\u001b[1;33m)\u001b[0m\u001b[1;33m\u001b[0m\u001b[1;33m\u001b[0m\u001b[0m\n\u001b[0m\u001b[0;32m   2372\u001b[0m             \u001b[1;32mreturn\u001b[0m \u001b[0mresult\u001b[0m\u001b[1;33m\u001b[0m\u001b[1;33m\u001b[0m\u001b[0m\n\u001b[0;32m   2373\u001b[0m \u001b[1;33m\u001b[0m\u001b[0m\n",
            "\u001b[1;32m<decorator-gen-61>\u001b[0m in \u001b[0;36mtimeit\u001b[1;34m(self, line, cell, local_ns)\u001b[0m\n",
            "\u001b[1;32m~\\anaconda3\\lib\\site-packages\\IPython\\core\\magic.py\u001b[0m in \u001b[0;36m<lambda>\u001b[1;34m(f, *a, **k)\u001b[0m\n\u001b[0;32m    185\u001b[0m     \u001b[1;31m# but it's overkill for just that one bit of state.\u001b[0m\u001b[1;33m\u001b[0m\u001b[1;33m\u001b[0m\u001b[1;33m\u001b[0m\u001b[0m\n\u001b[0;32m    186\u001b[0m     \u001b[1;32mdef\u001b[0m \u001b[0mmagic_deco\u001b[0m\u001b[1;33m(\u001b[0m\u001b[0marg\u001b[0m\u001b[1;33m)\u001b[0m\u001b[1;33m:\u001b[0m\u001b[1;33m\u001b[0m\u001b[1;33m\u001b[0m\u001b[0m\n\u001b[1;32m--> 187\u001b[1;33m         \u001b[0mcall\u001b[0m \u001b[1;33m=\u001b[0m \u001b[1;32mlambda\u001b[0m \u001b[0mf\u001b[0m\u001b[1;33m,\u001b[0m \u001b[1;33m*\u001b[0m\u001b[0ma\u001b[0m\u001b[1;33m,\u001b[0m \u001b[1;33m**\u001b[0m\u001b[0mk\u001b[0m\u001b[1;33m:\u001b[0m \u001b[0mf\u001b[0m\u001b[1;33m(\u001b[0m\u001b[1;33m*\u001b[0m\u001b[0ma\u001b[0m\u001b[1;33m,\u001b[0m \u001b[1;33m**\u001b[0m\u001b[0mk\u001b[0m\u001b[1;33m)\u001b[0m\u001b[1;33m\u001b[0m\u001b[1;33m\u001b[0m\u001b[0m\n\u001b[0m\u001b[0;32m    188\u001b[0m \u001b[1;33m\u001b[0m\u001b[0m\n\u001b[0;32m    189\u001b[0m         \u001b[1;32mif\u001b[0m \u001b[0mcallable\u001b[0m\u001b[1;33m(\u001b[0m\u001b[0marg\u001b[0m\u001b[1;33m)\u001b[0m\u001b[1;33m:\u001b[0m\u001b[1;33m\u001b[0m\u001b[1;33m\u001b[0m\u001b[0m\n",
            "\u001b[1;32m~\\anaconda3\\lib\\site-packages\\IPython\\core\\magics\\execution.py\u001b[0m in \u001b[0;36mtimeit\u001b[1;34m(self, line, cell, local_ns)\u001b[0m\n\u001b[0;32m   1161\u001b[0m             \u001b[1;32mfor\u001b[0m \u001b[0mindex\u001b[0m \u001b[1;32min\u001b[0m \u001b[0mrange\u001b[0m\u001b[1;33m(\u001b[0m\u001b[1;36m0\u001b[0m\u001b[1;33m,\u001b[0m \u001b[1;36m10\u001b[0m\u001b[1;33m)\u001b[0m\u001b[1;33m:\u001b[0m\u001b[1;33m\u001b[0m\u001b[1;33m\u001b[0m\u001b[0m\n\u001b[0;32m   1162\u001b[0m                 \u001b[0mnumber\u001b[0m \u001b[1;33m=\u001b[0m \u001b[1;36m10\u001b[0m \u001b[1;33m**\u001b[0m \u001b[0mindex\u001b[0m\u001b[1;33m\u001b[0m\u001b[1;33m\u001b[0m\u001b[0m\n\u001b[1;32m-> 1163\u001b[1;33m                 \u001b[0mtime_number\u001b[0m \u001b[1;33m=\u001b[0m \u001b[0mtimer\u001b[0m\u001b[1;33m.\u001b[0m\u001b[0mtimeit\u001b[0m\u001b[1;33m(\u001b[0m\u001b[0mnumber\u001b[0m\u001b[1;33m)\u001b[0m\u001b[1;33m\u001b[0m\u001b[1;33m\u001b[0m\u001b[0m\n\u001b[0m\u001b[0;32m   1164\u001b[0m                 \u001b[1;32mif\u001b[0m \u001b[0mtime_number\u001b[0m \u001b[1;33m>=\u001b[0m \u001b[1;36m0.2\u001b[0m\u001b[1;33m:\u001b[0m\u001b[1;33m\u001b[0m\u001b[1;33m\u001b[0m\u001b[0m\n\u001b[0;32m   1165\u001b[0m                     \u001b[1;32mbreak\u001b[0m\u001b[1;33m\u001b[0m\u001b[1;33m\u001b[0m\u001b[0m\n",
            "\u001b[1;32m~\\anaconda3\\lib\\site-packages\\IPython\\core\\magics\\execution.py\u001b[0m in \u001b[0;36mtimeit\u001b[1;34m(self, number)\u001b[0m\n\u001b[0;32m    167\u001b[0m         \u001b[0mgc\u001b[0m\u001b[1;33m.\u001b[0m\u001b[0mdisable\u001b[0m\u001b[1;33m(\u001b[0m\u001b[1;33m)\u001b[0m\u001b[1;33m\u001b[0m\u001b[1;33m\u001b[0m\u001b[0m\n\u001b[0;32m    168\u001b[0m         \u001b[1;32mtry\u001b[0m\u001b[1;33m:\u001b[0m\u001b[1;33m\u001b[0m\u001b[1;33m\u001b[0m\u001b[0m\n\u001b[1;32m--> 169\u001b[1;33m             \u001b[0mtiming\u001b[0m \u001b[1;33m=\u001b[0m \u001b[0mself\u001b[0m\u001b[1;33m.\u001b[0m\u001b[0minner\u001b[0m\u001b[1;33m(\u001b[0m\u001b[0mit\u001b[0m\u001b[1;33m,\u001b[0m \u001b[0mself\u001b[0m\u001b[1;33m.\u001b[0m\u001b[0mtimer\u001b[0m\u001b[1;33m)\u001b[0m\u001b[1;33m\u001b[0m\u001b[1;33m\u001b[0m\u001b[0m\n\u001b[0m\u001b[0;32m    170\u001b[0m         \u001b[1;32mfinally\u001b[0m\u001b[1;33m:\u001b[0m\u001b[1;33m\u001b[0m\u001b[1;33m\u001b[0m\u001b[0m\n\u001b[0;32m    171\u001b[0m             \u001b[1;32mif\u001b[0m \u001b[0mgcold\u001b[0m\u001b[1;33m:\u001b[0m\u001b[1;33m\u001b[0m\u001b[1;33m\u001b[0m\u001b[0m\n",
            "\u001b[1;32m<magic-timeit>\u001b[0m in \u001b[0;36minner\u001b[1;34m(_it, _timer)\u001b[0m\n",
            "\u001b[1;32m<ipython-input-1-0d2f3c5499de>\u001b[0m in \u001b[0;36mbogosort\u001b[1;34m(data)\u001b[0m\n\u001b[0;32m      8\u001b[0m     \u001b[1;34m\"\"\"Shuffle data until sorted.\"\"\"\u001b[0m\u001b[1;33m\u001b[0m\u001b[1;33m\u001b[0m\u001b[0m\n\u001b[0;32m      9\u001b[0m     \u001b[1;32mwhile\u001b[0m \u001b[1;32mnot\u001b[0m \u001b[0mis_sorted\u001b[0m\u001b[1;33m(\u001b[0m\u001b[0mdata\u001b[0m\u001b[1;33m)\u001b[0m\u001b[1;33m:\u001b[0m\u001b[1;33m\u001b[0m\u001b[1;33m\u001b[0m\u001b[0m\n\u001b[1;32m---> 10\u001b[1;33m         \u001b[0mshuffle\u001b[0m\u001b[1;33m(\u001b[0m\u001b[0mdata\u001b[0m\u001b[1;33m)\u001b[0m\u001b[1;33m\u001b[0m\u001b[1;33m\u001b[0m\u001b[0m\n\u001b[0m\u001b[0;32m     11\u001b[0m     \u001b[1;32mreturn\u001b[0m \u001b[0mdata\u001b[0m\u001b[1;33m\u001b[0m\u001b[1;33m\u001b[0m\u001b[0m\n",
            "\u001b[1;32m~\\anaconda3\\lib\\random.py\u001b[0m in \u001b[0;36mshuffle\u001b[1;34m(self, x, random)\u001b[0m\n\u001b[0;32m    304\u001b[0m             \u001b[1;32mfor\u001b[0m \u001b[0mi\u001b[0m \u001b[1;32min\u001b[0m \u001b[0mreversed\u001b[0m\u001b[1;33m(\u001b[0m\u001b[0mrange\u001b[0m\u001b[1;33m(\u001b[0m\u001b[1;36m1\u001b[0m\u001b[1;33m,\u001b[0m \u001b[0mlen\u001b[0m\u001b[1;33m(\u001b[0m\u001b[0mx\u001b[0m\u001b[1;33m)\u001b[0m\u001b[1;33m)\u001b[0m\u001b[1;33m)\u001b[0m\u001b[1;33m:\u001b[0m\u001b[1;33m\u001b[0m\u001b[1;33m\u001b[0m\u001b[0m\n\u001b[0;32m    305\u001b[0m                 \u001b[1;31m# pick an element in x[:i+1] with which to exchange x[i]\u001b[0m\u001b[1;33m\u001b[0m\u001b[1;33m\u001b[0m\u001b[1;33m\u001b[0m\u001b[0m\n\u001b[1;32m--> 306\u001b[1;33m                 \u001b[0mj\u001b[0m \u001b[1;33m=\u001b[0m \u001b[0mrandbelow\u001b[0m\u001b[1;33m(\u001b[0m\u001b[0mi\u001b[0m\u001b[1;33m+\u001b[0m\u001b[1;36m1\u001b[0m\u001b[1;33m)\u001b[0m\u001b[1;33m\u001b[0m\u001b[1;33m\u001b[0m\u001b[0m\n\u001b[0m\u001b[0;32m    307\u001b[0m                 \u001b[0mx\u001b[0m\u001b[1;33m[\u001b[0m\u001b[0mi\u001b[0m\u001b[1;33m]\u001b[0m\u001b[1;33m,\u001b[0m \u001b[0mx\u001b[0m\u001b[1;33m[\u001b[0m\u001b[0mj\u001b[0m\u001b[1;33m]\u001b[0m \u001b[1;33m=\u001b[0m \u001b[0mx\u001b[0m\u001b[1;33m[\u001b[0m\u001b[0mj\u001b[0m\u001b[1;33m]\u001b[0m\u001b[1;33m,\u001b[0m \u001b[0mx\u001b[0m\u001b[1;33m[\u001b[0m\u001b[0mi\u001b[0m\u001b[1;33m]\u001b[0m\u001b[1;33m\u001b[0m\u001b[1;33m\u001b[0m\u001b[0m\n\u001b[0;32m    308\u001b[0m         \u001b[1;32melse\u001b[0m\u001b[1;33m:\u001b[0m\u001b[1;33m\u001b[0m\u001b[1;33m\u001b[0m\u001b[0m\n",
            "\u001b[1;31mKeyboardInterrupt\u001b[0m: "
          ]
        }
      ],
      "source": [
        "%%timeit\n",
        "bogosort(rand10)"
      ]
    },
    {
      "cell_type": "code",
      "execution_count": null,
      "metadata": {
        "id": "qdFVm_l23tsc"
      },
      "outputs": [],
      "source": [
        "# so time complexity for Bogosort is (n!) not very practical :)"
      ]
    },
    {
      "cell_type": "markdown",
      "metadata": {
        "hidden": true,
        "id": "Nct_Wjqq3tsc"
      },
      "source": [
        "Source: http://interactivepython.org/runestone/static/pythonds/SortSearch/toctree.html"
      ]
    },
    {
      "cell_type": "markdown",
      "metadata": {
        "heading_collapsed": true,
        "hidden": true,
        "id": "j_Wg-uju3tsc"
      },
      "source": [
        "### Bubble sort"
      ]
    },
    {
      "cell_type": "markdown",
      "metadata": {
        "hidden": true,
        "id": "Axaf7WwE3tsc"
      },
      "source": [
        "![bubble](https://github.com/ValRCS/RTU_Algorithms_DIP321/blob/main/imgs/bubblepass.png?raw=1)"
      ]
    },
    {
      "cell_type": "markdown",
      "metadata": {
        "hidden": true,
        "id": "j_gqWvrQ3tsd"
      },
      "source": [
        "$$Complexity: O(n^2)$$"
      ]
    },
    {
      "cell_type": "markdown",
      "metadata": {
        "hidden": true,
        "id": "pae8HDMq3tsd"
      },
      "source": [
        "A bubble sort is often considered the most inefficient sorting method since it must exchange items before the final location is known. These “wasted” exchange operations are very costly. However, because the bubble sort makes passes through the entire unsorted portion of the list, it has the capability to do something most sorting algorithms cannot. In particular, if during a pass there are no exchanges, then we know that the list must be sorted. A bubble sort can be modified to stop early if it finds that the list has become sorted. This means that for lists that require just a few passes, a bubble sort may have an advantage in that it will recognize the sorted list and stop."
      ]
    },
    {
      "cell_type": "code",
      "execution_count": null,
      "metadata": {
        "hidden": true,
        "id": "Wv8iQb2F3tsd"
      },
      "outputs": [],
      "source": [
        "l = [1,2,3,4,32,5,5,66,33,221,34,23,12]"
      ]
    },
    {
      "cell_type": "code",
      "execution_count": 47,
      "metadata": {
        "hidden": true,
        "id": "IkgPz0_h3tsd"
      },
      "outputs": [],
      "source": [
        "def bubblesort(nums, debug = False):\n",
        "    n = len(nums)\n",
        "    exchange_cnt = 1\n",
        "    while exchange_cnt > 0: # outside loop\n",
        "        exchange_cnt = 0\n",
        "        for i in range(1, n): #inner loop\n",
        "            if nums[i] < nums[i - 1]:\n",
        "                exchange_cnt += 1\n",
        "                nums[i - 1], nums[i] = nums[i], nums[i - 1]\n",
        "        if debug:\n",
        "            print(nums)\n",
        "    return nums"
      ]
    },
    {
      "cell_type": "code",
      "execution_count": 48,
      "metadata": {
        "hidden": true,
        "colab": {
          "base_uri": "https://localhost:8080/"
        },
        "id": "X7G_9az63tse",
        "outputId": "a3b6f9cd-5941-48bd-b64b-ad3a60d3dfc0"
      },
      "outputs": [
        {
          "output_type": "stream",
          "name": "stdout",
          "text": [
            "[  0   1   2   3   4   5   6   7   8   9  10  11  12  13  14  15  16  17\n",
            "  18  19  20  21  22  23  24  25  26  27  28  29  30  31  32  33  34  35\n",
            "  36  37  38  39  40  41  42  43  44  45  46  47  48  49  50  51  52  53\n",
            "  54  55  56  57  58  59  60  61  62  63  64  65  66  67  68  69  70  71\n",
            "  72  73  74  75  76  77  78  79  80  81  82  83  84  85  86  87  88  89\n",
            "  90  91  92  93  94  95  96  97  98  99 100 101 102 103 104 105 106 107\n",
            " 108 109 110 111 112 113 114 115 116 117 118 119 120 121 122 123 124 125\n",
            " 126 127 128 129 130 131 132 133 134 135 136 137 138 139 140 141 142 143\n",
            " 144 145 146 147 148 149 150 151 152 153 154 155 156 157 158 159 160 161\n",
            " 162 163 164 165 166 167 168 169 170 171 172 173 174 175 176 177 178 179\n",
            " 180 181 182 183 184 185 186 187 188 189 190 191 192 193 194 195 196 197\n",
            " 198 199 200 201 202 203 204 205 206 207 208 209 210 211 212 213 214 215\n",
            " 216 217 218 219 220 221 222 223 224 225 226 227 228 229 230 231 232 233\n",
            " 234 235 236 237 238 239 240 241 242 243 244 245 246 247 248 249 250 251\n",
            " 252 253 254 255 256 257 258 259 260 261 262 263 264 265 266 267 268 269\n",
            " 270 271 272 273 274 275 276 277 278 279 280 281 282 283 284 285 286 287\n",
            " 288 289 290 291 292 293 294 295 296 297 298 299 300 301 302 303 304 305\n",
            " 306 307 308 309 310 311 312 313 314 315 316 317 318 319 320 321 322 323\n",
            " 324 325 326 327 328 329 330 331 332 333 334 335 336 337 338 339 340 341\n",
            " 342 343 344 345 346 347 348 349 350 351 352 353 354 355 356 357 358 359\n",
            " 360 361 362 363 364 365 366 367 368 369 370 371 372 373 374 375 376 377\n",
            " 378 379 380 381 382 383 384 385 386 387 388 389 390 391 392 393 394 395\n",
            " 396 397 398 399 400 401 402 403 404 405 406 407 408 409 410 411 412 413\n",
            " 414 415 416 417 418 419 420 421 422 423 424 425 426 427 428 429 430 431\n",
            " 432 433 434 435 436 437 438 439 440 441 442 443 444 445 446 447 448 449\n",
            " 450 451 452 453 454 455 456 457 458 459 460 461 462 463 464 465 466 467\n",
            " 468 469 470 471 472 473 474 475 476 477 478 479 480 481 482 483 484 485\n",
            " 486 487 488 489 490 491 492 493 494 495 496 497 498 499 500 501 502 503\n",
            " 504 505 506 507 508 509 510 511 512 513 514 515 516 517 518 519 520 521\n",
            " 522 523 524 525 526 527 528 529 530 531 532 533 534 535 536 537 538 539\n",
            " 540 541 542 543 544 545 546 547 548 549 550 551 552 553 554 555 556 557\n",
            " 558 559 560 561 562 563 564 565 566 567 568 569 570 571 572 573 574 575\n",
            " 576 577 578 579 580 581 582 583 584 585 586 587 588 589 590 591 592 593\n",
            " 594 595 596 597 598 599 600 601 602 603 604 605 606 607 608 609 610 611\n",
            " 612 613 614 615 616 617 618 619 620 621 622 623 624 625 626 627 628 629\n",
            " 630 631 632 633 634 635 636 637 638 639 640 641 642 643 644 645 646 647\n",
            " 648 649 650 651 652 653 654 655 656 657 658 659 660 661 662 663 664 665\n",
            " 666 667 668 669 670 671 672 673 674 675 676 677 678 679 680 681 682 683\n",
            " 684 685 686 687 688 689 690 691 692 693 694 695 696 697 698 699 700 701\n",
            " 702 703 704 705 706 707 708 709 710 711 712 713 714 715 716 717 718 719\n",
            " 720 721 722 723 724 725 726 727 728 729 730 731 732 733 734 735 736 737\n",
            " 738 739 740 741 742 743 744 745 746 747 748 749 750 751 752 753 754 755\n",
            " 756 757 758 759 760 761 762 763 764 765 766 767 768 769 770 771 772 773\n",
            " 774 775 776 777 778 779 780 781 782 783 784 785 786 787 788 789 790 791\n",
            " 792 793 794 795 796 797 798 799 800 801 802 803 804 805 806 807 808 809\n",
            " 810 811 812 813 814 815 816 817 818 819 820 821 822 823 824 825 826 827\n",
            " 828 829 830 831 832 833 834 835 836 837 838 839 840 841 842 843 844 845\n",
            " 846 847 848 849 850 851 852 853 854 855 856 857 858 859 860 861 862 863\n",
            " 864 865 866 867 868 869 870 871 872 873 874 875 876 877 878 879 880 881\n",
            " 882 883 884 885 886 887 888 889 890 891 892 893 894 895 896 897 898 899\n",
            " 900 901 902 903 904 905 906 907 908 909 910 911 912 913 914 915 916 917\n",
            " 918 919 920 921 922 923 924 925 926 927 928 929 930 931 932 933 934 935\n",
            " 936 937 938 939 940 941 942 943 944 945 946 947 948 949 950 951 952 953\n",
            " 954 955 956 957 958 959 960 961 962 963 964 965 966 967 968 969 970 971\n",
            " 972 973 974 975 976 977 978 979 980 981 982 983 984 985 986 987 988 989\n",
            " 990 991 992 993 994 995 996 997 998 999]\n"
          ]
        },
        {
          "output_type": "execute_result",
          "data": {
            "text/plain": [
              "array([  0,   1,   2,   3,   4,   5,   6,   7,   8,   9,  10,  11,  12,\n",
              "        13,  14,  15,  16,  17,  18,  19,  20,  21,  22,  23,  24,  25,\n",
              "        26,  27,  28,  29,  30,  31,  32,  33,  34,  35,  36,  37,  38,\n",
              "        39,  40,  41,  42,  43,  44,  45,  46,  47,  48,  49,  50,  51,\n",
              "        52,  53,  54,  55,  56,  57,  58,  59,  60,  61,  62,  63,  64,\n",
              "        65,  66,  67,  68,  69,  70,  71,  72,  73,  74,  75,  76,  77,\n",
              "        78,  79,  80,  81,  82,  83,  84,  85,  86,  87,  88,  89,  90,\n",
              "        91,  92,  93,  94,  95,  96,  97,  98,  99, 100, 101, 102, 103,\n",
              "       104, 105, 106, 107, 108, 109, 110, 111, 112, 113, 114, 115, 116,\n",
              "       117, 118, 119, 120, 121, 122, 123, 124, 125, 126, 127, 128, 129,\n",
              "       130, 131, 132, 133, 134, 135, 136, 137, 138, 139, 140, 141, 142,\n",
              "       143, 144, 145, 146, 147, 148, 149, 150, 151, 152, 153, 154, 155,\n",
              "       156, 157, 158, 159, 160, 161, 162, 163, 164, 165, 166, 167, 168,\n",
              "       169, 170, 171, 172, 173, 174, 175, 176, 177, 178, 179, 180, 181,\n",
              "       182, 183, 184, 185, 186, 187, 188, 189, 190, 191, 192, 193, 194,\n",
              "       195, 196, 197, 198, 199, 200, 201, 202, 203, 204, 205, 206, 207,\n",
              "       208, 209, 210, 211, 212, 213, 214, 215, 216, 217, 218, 219, 220,\n",
              "       221, 222, 223, 224, 225, 226, 227, 228, 229, 230, 231, 232, 233,\n",
              "       234, 235, 236, 237, 238, 239, 240, 241, 242, 243, 244, 245, 246,\n",
              "       247, 248, 249, 250, 251, 252, 253, 254, 255, 256, 257, 258, 259,\n",
              "       260, 261, 262, 263, 264, 265, 266, 267, 268, 269, 270, 271, 272,\n",
              "       273, 274, 275, 276, 277, 278, 279, 280, 281, 282, 283, 284, 285,\n",
              "       286, 287, 288, 289, 290, 291, 292, 293, 294, 295, 296, 297, 298,\n",
              "       299, 300, 301, 302, 303, 304, 305, 306, 307, 308, 309, 310, 311,\n",
              "       312, 313, 314, 315, 316, 317, 318, 319, 320, 321, 322, 323, 324,\n",
              "       325, 326, 327, 328, 329, 330, 331, 332, 333, 334, 335, 336, 337,\n",
              "       338, 339, 340, 341, 342, 343, 344, 345, 346, 347, 348, 349, 350,\n",
              "       351, 352, 353, 354, 355, 356, 357, 358, 359, 360, 361, 362, 363,\n",
              "       364, 365, 366, 367, 368, 369, 370, 371, 372, 373, 374, 375, 376,\n",
              "       377, 378, 379, 380, 381, 382, 383, 384, 385, 386, 387, 388, 389,\n",
              "       390, 391, 392, 393, 394, 395, 396, 397, 398, 399, 400, 401, 402,\n",
              "       403, 404, 405, 406, 407, 408, 409, 410, 411, 412, 413, 414, 415,\n",
              "       416, 417, 418, 419, 420, 421, 422, 423, 424, 425, 426, 427, 428,\n",
              "       429, 430, 431, 432, 433, 434, 435, 436, 437, 438, 439, 440, 441,\n",
              "       442, 443, 444, 445, 446, 447, 448, 449, 450, 451, 452, 453, 454,\n",
              "       455, 456, 457, 458, 459, 460, 461, 462, 463, 464, 465, 466, 467,\n",
              "       468, 469, 470, 471, 472, 473, 474, 475, 476, 477, 478, 479, 480,\n",
              "       481, 482, 483, 484, 485, 486, 487, 488, 489, 490, 491, 492, 493,\n",
              "       494, 495, 496, 497, 498, 499, 500, 501, 502, 503, 504, 505, 506,\n",
              "       507, 508, 509, 510, 511, 512, 513, 514, 515, 516, 517, 518, 519,\n",
              "       520, 521, 522, 523, 524, 525, 526, 527, 528, 529, 530, 531, 532,\n",
              "       533, 534, 535, 536, 537, 538, 539, 540, 541, 542, 543, 544, 545,\n",
              "       546, 547, 548, 549, 550, 551, 552, 553, 554, 555, 556, 557, 558,\n",
              "       559, 560, 561, 562, 563, 564, 565, 566, 567, 568, 569, 570, 571,\n",
              "       572, 573, 574, 575, 576, 577, 578, 579, 580, 581, 582, 583, 584,\n",
              "       585, 586, 587, 588, 589, 590, 591, 592, 593, 594, 595, 596, 597,\n",
              "       598, 599, 600, 601, 602, 603, 604, 605, 606, 607, 608, 609, 610,\n",
              "       611, 612, 613, 614, 615, 616, 617, 618, 619, 620, 621, 622, 623,\n",
              "       624, 625, 626, 627, 628, 629, 630, 631, 632, 633, 634, 635, 636,\n",
              "       637, 638, 639, 640, 641, 642, 643, 644, 645, 646, 647, 648, 649,\n",
              "       650, 651, 652, 653, 654, 655, 656, 657, 658, 659, 660, 661, 662,\n",
              "       663, 664, 665, 666, 667, 668, 669, 670, 671, 672, 673, 674, 675,\n",
              "       676, 677, 678, 679, 680, 681, 682, 683, 684, 685, 686, 687, 688,\n",
              "       689, 690, 691, 692, 693, 694, 695, 696, 697, 698, 699, 700, 701,\n",
              "       702, 703, 704, 705, 706, 707, 708, 709, 710, 711, 712, 713, 714,\n",
              "       715, 716, 717, 718, 719, 720, 721, 722, 723, 724, 725, 726, 727,\n",
              "       728, 729, 730, 731, 732, 733, 734, 735, 736, 737, 738, 739, 740,\n",
              "       741, 742, 743, 744, 745, 746, 747, 748, 749, 750, 751, 752, 753,\n",
              "       754, 755, 756, 757, 758, 759, 760, 761, 762, 763, 764, 765, 766,\n",
              "       767, 768, 769, 770, 771, 772, 773, 774, 775, 776, 777, 778, 779,\n",
              "       780, 781, 782, 783, 784, 785, 786, 787, 788, 789, 790, 791, 792,\n",
              "       793, 794, 795, 796, 797, 798, 799, 800, 801, 802, 803, 804, 805,\n",
              "       806, 807, 808, 809, 810, 811, 812, 813, 814, 815, 816, 817, 818,\n",
              "       819, 820, 821, 822, 823, 824, 825, 826, 827, 828, 829, 830, 831,\n",
              "       832, 833, 834, 835, 836, 837, 838, 839, 840, 841, 842, 843, 844,\n",
              "       845, 846, 847, 848, 849, 850, 851, 852, 853, 854, 855, 856, 857,\n",
              "       858, 859, 860, 861, 862, 863, 864, 865, 866, 867, 868, 869, 870,\n",
              "       871, 872, 873, 874, 875, 876, 877, 878, 879, 880, 881, 882, 883,\n",
              "       884, 885, 886, 887, 888, 889, 890, 891, 892, 893, 894, 895, 896,\n",
              "       897, 898, 899, 900, 901, 902, 903, 904, 905, 906, 907, 908, 909,\n",
              "       910, 911, 912, 913, 914, 915, 916, 917, 918, 919, 920, 921, 922,\n",
              "       923, 924, 925, 926, 927, 928, 929, 930, 931, 932, 933, 934, 935,\n",
              "       936, 937, 938, 939, 940, 941, 942, 943, 944, 945, 946, 947, 948,\n",
              "       949, 950, 951, 952, 953, 954, 955, 956, 957, 958, 959, 960, 961,\n",
              "       962, 963, 964, 965, 966, 967, 968, 969, 970, 971, 972, 973, 974,\n",
              "       975, 976, 977, 978, 979, 980, 981, 982, 983, 984, 985, 986, 987,\n",
              "       988, 989, 990, 991, 992, 993, 994, 995, 996, 997, 998, 999])"
            ]
          },
          "metadata": {},
          "execution_count": 48
        }
      ],
      "source": [
        "bubblesort(l, debug=True)"
      ]
    },
    {
      "cell_type": "code",
      "execution_count": null,
      "metadata": {
        "id": "KrJAcZig3tse"
      },
      "outputs": [],
      "source": [
        "ran"
      ]
    },
    {
      "cell_type": "code",
      "execution_count": 49,
      "metadata": {
        "id": "-11qH5lB3tse"
      },
      "outputs": [],
      "source": [
        "bubble1000 = bubblesort(rand1000)"
      ]
    },
    {
      "cell_type": "code",
      "execution_count": 50,
      "metadata": {
        "colab": {
          "base_uri": "https://localhost:8080/"
        },
        "id": "W8ga4Yqt3tse",
        "outputId": "abfa4ef5-c138-4f25-ecaf-ac75a53adcbb"
      },
      "outputs": [
        {
          "output_type": "stream",
          "name": "stdout",
          "text": [
            "10000 loops, best of 5: 120 µs per loop\n"
          ]
        }
      ],
      "source": [
        "%%timeit\n",
        "bubblesort(rand1000)"
      ]
    },
    {
      "cell_type": "code",
      "execution_count": 51,
      "metadata": {
        "colab": {
          "base_uri": "https://localhost:8080/"
        },
        "id": "S7CZbqnZ3tse",
        "outputId": "4b62d63b-af45-4253-8056-d83697aa3735"
      },
      "outputs": [
        {
          "output_type": "stream",
          "name": "stdout",
          "text": [
            "The slowest run took 15971.40 times longer than the fastest. This could mean that an intermediate result is being cached.\n",
            "1 loop, best of 5: 1.23 ms per loop\n"
          ]
        }
      ],
      "source": [
        "%%timeit\n",
        "bubblesort(rand10000)"
      ]
    },
    {
      "cell_type": "code",
      "source": [
        "100_000**2"
      ],
      "metadata": {
        "colab": {
          "base_uri": "https://localhost:8080/"
        },
        "id": "SWbMQvuW-Q7e",
        "outputId": "db479028-833d-4b86-968d-e1a510eeda17"
      },
      "execution_count": 52,
      "outputs": [
        {
          "output_type": "execute_result",
          "data": {
            "text/plain": [
              "10000000000"
            ]
          },
          "metadata": {},
          "execution_count": 52
        }
      ]
    },
    {
      "cell_type": "code",
      "source": [
        "sorted_100k = bubblesort(rand100000)"
      ],
      "metadata": {
        "colab": {
          "base_uri": "https://localhost:8080/",
          "height": 291
        },
        "id": "mhZnfFpN-ZW0",
        "outputId": "7b548ae4-232e-4347-e62e-bd61200987dd"
      },
      "execution_count": 53,
      "outputs": [
        {
          "output_type": "error",
          "ename": "KeyboardInterrupt",
          "evalue": "ignored",
          "traceback": [
            "\u001b[0;31m---------------------------------------------------------------------------\u001b[0m",
            "\u001b[0;31mKeyboardInterrupt\u001b[0m                         Traceback (most recent call last)",
            "\u001b[0;32m<ipython-input-53-3782c6b61cbf>\u001b[0m in \u001b[0;36m<module>\u001b[0;34m()\u001b[0m\n\u001b[0;32m----> 1\u001b[0;31m \u001b[0msorted_100k\u001b[0m \u001b[0;34m=\u001b[0m \u001b[0mbubblesort\u001b[0m\u001b[0;34m(\u001b[0m\u001b[0mrand100000\u001b[0m\u001b[0;34m)\u001b[0m\u001b[0;34m\u001b[0m\u001b[0;34m\u001b[0m\u001b[0m\n\u001b[0m",
            "\u001b[0;32m<ipython-input-47-f8dc47ee1031>\u001b[0m in \u001b[0;36mbubblesort\u001b[0;34m(nums, debug)\u001b[0m\n\u001b[1;32m      6\u001b[0m         \u001b[0;32mfor\u001b[0m \u001b[0mi\u001b[0m \u001b[0;32min\u001b[0m \u001b[0mrange\u001b[0m\u001b[0;34m(\u001b[0m\u001b[0;36m1\u001b[0m\u001b[0;34m,\u001b[0m \u001b[0mn\u001b[0m\u001b[0;34m)\u001b[0m\u001b[0;34m:\u001b[0m \u001b[0;31m#inner loop\u001b[0m\u001b[0;34m\u001b[0m\u001b[0;34m\u001b[0m\u001b[0m\n\u001b[1;32m      7\u001b[0m             \u001b[0;32mif\u001b[0m \u001b[0mnums\u001b[0m\u001b[0;34m[\u001b[0m\u001b[0mi\u001b[0m\u001b[0;34m]\u001b[0m \u001b[0;34m<\u001b[0m \u001b[0mnums\u001b[0m\u001b[0;34m[\u001b[0m\u001b[0mi\u001b[0m \u001b[0;34m-\u001b[0m \u001b[0;36m1\u001b[0m\u001b[0;34m]\u001b[0m\u001b[0;34m:\u001b[0m\u001b[0;34m\u001b[0m\u001b[0;34m\u001b[0m\u001b[0m\n\u001b[0;32m----> 8\u001b[0;31m                 \u001b[0mexchange_cnt\u001b[0m \u001b[0;34m+=\u001b[0m \u001b[0;36m1\u001b[0m\u001b[0;34m\u001b[0m\u001b[0;34m\u001b[0m\u001b[0m\n\u001b[0m\u001b[1;32m      9\u001b[0m                 \u001b[0mnums\u001b[0m\u001b[0;34m[\u001b[0m\u001b[0mi\u001b[0m \u001b[0;34m-\u001b[0m \u001b[0;36m1\u001b[0m\u001b[0;34m]\u001b[0m\u001b[0;34m,\u001b[0m \u001b[0mnums\u001b[0m\u001b[0;34m[\u001b[0m\u001b[0mi\u001b[0m\u001b[0;34m]\u001b[0m \u001b[0;34m=\u001b[0m \u001b[0mnums\u001b[0m\u001b[0;34m[\u001b[0m\u001b[0mi\u001b[0m\u001b[0;34m]\u001b[0m\u001b[0;34m,\u001b[0m \u001b[0mnums\u001b[0m\u001b[0;34m[\u001b[0m\u001b[0mi\u001b[0m \u001b[0;34m-\u001b[0m \u001b[0;36m1\u001b[0m\u001b[0;34m]\u001b[0m\u001b[0;34m\u001b[0m\u001b[0;34m\u001b[0m\u001b[0m\n\u001b[1;32m     10\u001b[0m         \u001b[0;32mif\u001b[0m \u001b[0mdebug\u001b[0m\u001b[0;34m:\u001b[0m\u001b[0;34m\u001b[0m\u001b[0;34m\u001b[0m\u001b[0m\n",
            "\u001b[0;31mKeyboardInterrupt\u001b[0m: "
          ]
        }
      ]
    },
    {
      "cell_type": "code",
      "execution_count": null,
      "metadata": {
        "id": "VWeDNzEe3tsf",
        "outputId": "effd2c19-dc1b-4b13-c1f4-d23c1067052b"
      },
      "outputs": [
        {
          "ename": "KeyboardInterrupt",
          "evalue": "",
          "output_type": "error",
          "traceback": [
            "\u001b[1;31m---------------------------------------------------------------------------\u001b[0m",
            "\u001b[1;31mKeyboardInterrupt\u001b[0m                         Traceback (most recent call last)",
            "\u001b[1;32m<timed eval>\u001b[0m in \u001b[0;36m<module>\u001b[1;34m\u001b[0m\n",
            "\u001b[1;32m<ipython-input-24-f8dc47ee1031>\u001b[0m in \u001b[0;36mbubblesort\u001b[1;34m(nums, debug)\u001b[0m\n\u001b[0;32m      7\u001b[0m             \u001b[1;32mif\u001b[0m \u001b[0mnums\u001b[0m\u001b[1;33m[\u001b[0m\u001b[0mi\u001b[0m\u001b[1;33m]\u001b[0m \u001b[1;33m<\u001b[0m \u001b[0mnums\u001b[0m\u001b[1;33m[\u001b[0m\u001b[0mi\u001b[0m \u001b[1;33m-\u001b[0m \u001b[1;36m1\u001b[0m\u001b[1;33m]\u001b[0m\u001b[1;33m:\u001b[0m\u001b[1;33m\u001b[0m\u001b[1;33m\u001b[0m\u001b[0m\n\u001b[0;32m      8\u001b[0m                 \u001b[0mexchange_cnt\u001b[0m \u001b[1;33m+=\u001b[0m \u001b[1;36m1\u001b[0m\u001b[1;33m\u001b[0m\u001b[1;33m\u001b[0m\u001b[0m\n\u001b[1;32m----> 9\u001b[1;33m                 \u001b[0mnums\u001b[0m\u001b[1;33m[\u001b[0m\u001b[0mi\u001b[0m \u001b[1;33m-\u001b[0m \u001b[1;36m1\u001b[0m\u001b[1;33m]\u001b[0m\u001b[1;33m,\u001b[0m \u001b[0mnums\u001b[0m\u001b[1;33m[\u001b[0m\u001b[0mi\u001b[0m\u001b[1;33m]\u001b[0m \u001b[1;33m=\u001b[0m \u001b[0mnums\u001b[0m\u001b[1;33m[\u001b[0m\u001b[0mi\u001b[0m\u001b[1;33m]\u001b[0m\u001b[1;33m,\u001b[0m \u001b[0mnums\u001b[0m\u001b[1;33m[\u001b[0m\u001b[0mi\u001b[0m \u001b[1;33m-\u001b[0m \u001b[1;36m1\u001b[0m\u001b[1;33m]\u001b[0m\u001b[1;33m\u001b[0m\u001b[1;33m\u001b[0m\u001b[0m\n\u001b[0m\u001b[0;32m     10\u001b[0m         \u001b[1;32mif\u001b[0m \u001b[0mdebug\u001b[0m\u001b[1;33m:\u001b[0m\u001b[1;33m\u001b[0m\u001b[1;33m\u001b[0m\u001b[0m\n\u001b[0;32m     11\u001b[0m             \u001b[0mprint\u001b[0m\u001b[1;33m(\u001b[0m\u001b[0mnums\u001b[0m\u001b[1;33m)\u001b[0m\u001b[1;33m\u001b[0m\u001b[1;33m\u001b[0m\u001b[0m\n",
            "\u001b[1;31mKeyboardInterrupt\u001b[0m: "
          ]
        }
      ],
      "source": [
        "%%time\n",
        "bubblesort(rand100000)"
      ]
    },
    {
      "cell_type": "code",
      "execution_count": null,
      "metadata": {
        "id": "pKCSAzb23tsf",
        "outputId": "de196dfd-f561-4f8e-b193-a59ecac023f8"
      },
      "outputs": [
        {
          "data": {
            "text/plain": [
              "(100000000, 10000000000)"
            ]
          },
          "execution_count": 37,
          "metadata": {},
          "output_type": "execute_result"
        }
      ],
      "source": [
        "10_000**2, 100_000**2"
      ]
    },
    {
      "cell_type": "markdown",
      "metadata": {
        "heading_collapsed": true,
        "hidden": true,
        "id": "mxV2CcAV3tsf"
      },
      "source": [
        "### Selection sort"
      ]
    },
    {
      "cell_type": "markdown",
      "metadata": {
        "hidden": true,
        "id": "nrnJFsjE3tsg"
      },
      "source": [
        "![selection](https://github.com/ValRCS/RTU_Algorithms_DIP321/blob/main/imgs/selectionsort.png?raw=1)"
      ]
    },
    {
      "cell_type": "markdown",
      "metadata": {
        "hidden": true,
        "id": "-5Zy4ulV3tsg"
      },
      "source": [
        "$$Complexity: O(n^2)$$"
      ]
    },
    {
      "cell_type": "markdown",
      "metadata": {
        "hidden": true,
        "id": "YVd2iapJ3tsg"
      },
      "source": [
        "The selection sort improves on the bubble sort by making only one exchange for every pass through the list. In order to do this, a selection sort looks for the largest value as it makes a pass and, after completing the pass, places it in the proper location. As with a bubble sort, after the first pass, the largest item is in the correct place. After the second pass, the next largest is in place. This process continues and requires n−1 passes to sort n items, since the final item must be in place after the (n−1) st pass."
      ]
    },
    {
      "cell_type": "code",
      "execution_count": 54,
      "metadata": {
        "hidden": true,
        "id": "dcEliWFz3tsg"
      },
      "outputs": [],
      "source": [
        "l = [1,2,3,4,32,5,5,66,33,221,34,23,12]"
      ]
    },
    {
      "cell_type": "code",
      "execution_count": 55,
      "metadata": {
        "hidden": true,
        "id": "YfE7AK573tsg"
      },
      "outputs": [],
      "source": [
        "def selectionSort(l, debug=False):\n",
        "    n = len(l)\n",
        "    end = n - 1\n",
        "    for j in range(n): ## outer loop\n",
        "        max_ = l[-1 - j]\n",
        "        max_idx = -1 - j\n",
        "        for i in range(end): ## inner loop\n",
        "            if l[i] > max_:\n",
        "                max_ = l[i]\n",
        "                max_idx = i\n",
        "            else:\n",
        "                continue\n",
        "        l[-1 - j], l[max_idx] = l[max_idx], l[-1 - j] # swapping items at the end so max value gets to the end\n",
        "        end = end - 1\n",
        "        if debug:\n",
        "            print(l)\n",
        "    return l"
      ]
    },
    {
      "cell_type": "code",
      "execution_count": 56,
      "metadata": {
        "hidden": true,
        "colab": {
          "base_uri": "https://localhost:8080/"
        },
        "id": "5bxaKDnM3tsh",
        "outputId": "1f05a214-0423-4139-94b1-0dff2f35aaaa"
      },
      "outputs": [
        {
          "output_type": "stream",
          "name": "stdout",
          "text": [
            "[1, 2, 3, 4, 32, 5, 5, 66, 33, 12, 34, 23, 221]\n",
            "[1, 2, 3, 4, 32, 5, 5, 23, 33, 12, 34, 66, 221]\n",
            "[1, 2, 3, 4, 32, 5, 5, 23, 33, 12, 34, 66, 221]\n",
            "[1, 2, 3, 4, 32, 5, 5, 23, 12, 33, 34, 66, 221]\n",
            "[1, 2, 3, 4, 12, 5, 5, 23, 32, 33, 34, 66, 221]\n",
            "[1, 2, 3, 4, 12, 5, 5, 23, 32, 33, 34, 66, 221]\n",
            "[1, 2, 3, 4, 5, 5, 12, 23, 32, 33, 34, 66, 221]\n",
            "[1, 2, 3, 4, 5, 5, 12, 23, 32, 33, 34, 66, 221]\n",
            "[1, 2, 3, 4, 5, 5, 12, 23, 32, 33, 34, 66, 221]\n",
            "[1, 2, 3, 4, 5, 5, 12, 23, 32, 33, 34, 66, 221]\n",
            "[1, 2, 3, 4, 5, 5, 12, 23, 32, 33, 34, 66, 221]\n",
            "[1, 2, 3, 4, 5, 5, 12, 23, 32, 33, 34, 66, 221]\n",
            "[1, 2, 3, 4, 5, 5, 12, 23, 32, 33, 34, 66, 221]\n"
          ]
        },
        {
          "output_type": "execute_result",
          "data": {
            "text/plain": [
              "[1, 2, 3, 4, 5, 5, 12, 23, 32, 33, 34, 66, 221]"
            ]
          },
          "metadata": {},
          "execution_count": 56
        }
      ],
      "source": [
        "selectionSort(l, debug=True)"
      ]
    },
    {
      "cell_type": "code",
      "source": [
        "rand10"
      ],
      "metadata": {
        "colab": {
          "base_uri": "https://localhost:8080/"
        },
        "id": "miXMuClP__4e",
        "outputId": "34fef96d-10be-47e7-8d46-d258a5c0275c"
      },
      "execution_count": 57,
      "outputs": [
        {
          "output_type": "execute_result",
          "data": {
            "text/plain": [
              "[345, 433, 92, 487, 614, 587, 946, 896, 367, 161]"
            ]
          },
          "metadata": {},
          "execution_count": 57
        }
      ]
    },
    {
      "cell_type": "code",
      "source": [
        "selectionSort(rand10, debug=True)"
      ],
      "metadata": {
        "colab": {
          "base_uri": "https://localhost:8080/"
        },
        "id": "MTlfolXjACBk",
        "outputId": "03751f8b-df61-4dbb-f6bf-da5fb3d9af3c"
      },
      "execution_count": 58,
      "outputs": [
        {
          "output_type": "stream",
          "name": "stdout",
          "text": [
            "[345, 433, 92, 487, 614, 587, 161, 896, 367, 946]\n",
            "[345, 433, 92, 487, 614, 587, 161, 367, 896, 946]\n",
            "[345, 433, 92, 487, 367, 587, 161, 614, 896, 946]\n",
            "[345, 433, 92, 487, 367, 161, 587, 614, 896, 946]\n",
            "[345, 433, 92, 161, 367, 487, 587, 614, 896, 946]\n",
            "[345, 367, 92, 161, 433, 487, 587, 614, 896, 946]\n",
            "[345, 161, 92, 367, 433, 487, 587, 614, 896, 946]\n",
            "[92, 161, 345, 367, 433, 487, 587, 614, 896, 946]\n",
            "[92, 161, 345, 367, 433, 487, 587, 614, 896, 946]\n",
            "[92, 161, 345, 367, 433, 487, 587, 614, 896, 946]\n"
          ]
        },
        {
          "output_type": "execute_result",
          "data": {
            "text/plain": [
              "[92, 161, 345, 367, 433, 487, 587, 614, 896, 946]"
            ]
          },
          "metadata": {},
          "execution_count": 58
        }
      ]
    },
    {
      "cell_type": "markdown",
      "metadata": {
        "hidden": true,
        "id": "2YiNXlNf3tsh"
      },
      "source": [
        "The benefit of selection over bubble sort is it does one exchange per pass whereas bubble sort can do multiple exchanges."
      ]
    },
    {
      "cell_type": "code",
      "execution_count": 59,
      "metadata": {
        "colab": {
          "base_uri": "https://localhost:8080/"
        },
        "id": "mJHoIGMY3tsh",
        "outputId": "28faa0bd-405d-4a78-e5ac-249f38e947f7"
      },
      "outputs": [
        {
          "output_type": "stream",
          "name": "stdout",
          "text": [
            "10 loops, best of 5: 35.5 ms per loop\n"
          ]
        }
      ],
      "source": [
        "%%timeit\n",
        "selectionSort(rand1000)"
      ]
    },
    {
      "cell_type": "code",
      "execution_count": 60,
      "metadata": {
        "colab": {
          "base_uri": "https://localhost:8080/"
        },
        "id": "n1d2WpQd3tsh",
        "outputId": "bdd60a8a-6d4a-493d-e41c-b8b928111e30"
      },
      "outputs": [
        {
          "output_type": "stream",
          "name": "stdout",
          "text": [
            "1 loop, best of 5: 3.84 s per loop\n"
          ]
        }
      ],
      "source": [
        "%%timeit\n",
        "selectionSort(rand10000)"
      ]
    },
    {
      "cell_type": "code",
      "execution_count": null,
      "metadata": {
        "id": "cKxNl56m3tsh"
      },
      "outputs": [],
      "source": [
        "# so 10 x more items and we ge 10x10=100 slower speed"
      ]
    },
    {
      "cell_type": "markdown",
      "metadata": {
        "heading_collapsed": true,
        "hidden": true,
        "id": "PCwRgPum3tsh"
      },
      "source": [
        "### Insertion sort"
      ]
    },
    {
      "cell_type": "markdown",
      "metadata": {
        "hidden": true,
        "id": "1oe2M-Ff3tsh"
      },
      "source": [
        "![insertion](https://github.com/ValRCS/RTU_Algorithms_DIP321/blob/main/imgs/insertionsort.png?raw=1)"
      ]
    },
    {
      "cell_type": "markdown",
      "metadata": {
        "hidden": true,
        "id": "4NV9Cv9i3tsi"
      },
      "source": [
        "$$Complexity: O(n^2)$$"
      ]
    },
    {
      "cell_type": "code",
      "execution_count": 73,
      "metadata": {
        "hidden": true,
        "id": "1I9VaVsD3tsi"
      },
      "outputs": [],
      "source": [
        "l = [1,2,3,4,32,5,5,66,33,221,34,23,12]"
      ]
    },
    {
      "cell_type": "code",
      "execution_count": 72,
      "metadata": {
        "hidden": true,
        "id": "y8AeKO403tsi"
      },
      "outputs": [],
      "source": [
        "def insertionSort(seq, debug=False):\n",
        "    l = seq.copy()  # we do not want to mess with the original\n",
        "    for i in range(1, len(l)): # outer loop\n",
        "        cval = l[i]\n",
        "        pos = i\n",
        "        while pos > 0 and l[pos - 1] > cval: # inner loop\n",
        "            l[pos],l[pos-1] = l[pos - 1],l[pos]\n",
        "            pos = pos - 1\n",
        "        if debug:\n",
        "            print(l)\n",
        "    return l"
      ]
    },
    {
      "cell_type": "code",
      "execution_count": 74,
      "metadata": {
        "hidden": true,
        "colab": {
          "base_uri": "https://localhost:8080/"
        },
        "id": "VUEzssRN3tsi",
        "outputId": "99d6ef6a-2d5f-4818-ae9a-cddbed6ee554"
      },
      "outputs": [
        {
          "output_type": "stream",
          "name": "stdout",
          "text": [
            "[1, 2, 3, 4, 32, 5, 5, 66, 33, 221, 34, 23, 12]\n",
            "[1, 2, 3, 4, 32, 5, 5, 66, 33, 221, 34, 23, 12]\n",
            "[1, 2, 3, 4, 32, 5, 5, 66, 33, 221, 34, 23, 12]\n",
            "[1, 2, 3, 4, 32, 5, 5, 66, 33, 221, 34, 23, 12]\n",
            "[1, 2, 3, 4, 5, 32, 5, 66, 33, 221, 34, 23, 12]\n",
            "[1, 2, 3, 4, 5, 5, 32, 66, 33, 221, 34, 23, 12]\n",
            "[1, 2, 3, 4, 5, 5, 32, 66, 33, 221, 34, 23, 12]\n",
            "[1, 2, 3, 4, 5, 5, 32, 33, 66, 221, 34, 23, 12]\n",
            "[1, 2, 3, 4, 5, 5, 32, 33, 66, 221, 34, 23, 12]\n",
            "[1, 2, 3, 4, 5, 5, 32, 33, 34, 66, 221, 23, 12]\n",
            "[1, 2, 3, 4, 5, 5, 23, 32, 33, 34, 66, 221, 12]\n",
            "[1, 2, 3, 4, 5, 5, 12, 23, 32, 33, 34, 66, 221]\n"
          ]
        },
        {
          "output_type": "execute_result",
          "data": {
            "text/plain": [
              "[1, 2, 3, 4, 5, 5, 12, 23, 32, 33, 34, 66, 221]"
            ]
          },
          "metadata": {},
          "execution_count": 74
        }
      ],
      "source": [
        "insertionSort(l,debug=True)"
      ]
    },
    {
      "cell_type": "code",
      "source": [
        "rand1000 = [random.randint(1,10000) for _ in range(1_000)]\n",
        "rand1000[:5]"
      ],
      "metadata": {
        "colab": {
          "base_uri": "https://localhost:8080/"
        },
        "id": "xGgHcMuAGJvd",
        "outputId": "1c4fdaa8-b4b7-49b2-a1d8-e30e3edec0ae"
      },
      "execution_count": 75,
      "outputs": [
        {
          "output_type": "execute_result",
          "data": {
            "text/plain": [
              "[114, 4079, 5618, 1495, 8490]"
            ]
          },
          "metadata": {},
          "execution_count": 75
        }
      ]
    },
    {
      "cell_type": "code",
      "source": [
        "%%timeit\n",
        "insertionSort(rand1000) "
      ],
      "metadata": {
        "colab": {
          "base_uri": "https://localhost:8080/"
        },
        "id": "oML9mG_UGUtC",
        "outputId": "5f6c4755-6fc4-467c-8181-efc43ac0de0f"
      },
      "execution_count": 76,
      "outputs": [
        {
          "output_type": "stream",
          "name": "stdout",
          "text": [
            "10 loops, best of 5: 84.4 ms per loop\n"
          ]
        }
      ]
    },
    {
      "cell_type": "code",
      "execution_count": 63,
      "metadata": {
        "colab": {
          "base_uri": "https://localhost:8080/"
        },
        "id": "EjB3bqjH3tsi",
        "outputId": "061fface-7862-455f-aa21-55260c07b7fa"
      },
      "outputs": [
        {
          "output_type": "stream",
          "name": "stdout",
          "text": [
            "10000 loops, best of 5: 186 µs per loop\n"
          ]
        }
      ],
      "source": [
        "%%timeit\n",
        "insertionSort(rand1000)"
      ]
    },
    {
      "cell_type": "code",
      "source": [
        "rand1000[:5]"
      ],
      "metadata": {
        "colab": {
          "base_uri": "https://localhost:8080/"
        },
        "id": "c4hpPEkFFGn5",
        "outputId": "51c549e9-6054-4057-8be9-9ab343467401"
      },
      "execution_count": 64,
      "outputs": [
        {
          "output_type": "execute_result",
          "data": {
            "text/plain": [
              "[39, 48, 234, 270, 361]"
            ]
          },
          "metadata": {},
          "execution_count": 64
        }
      ]
    },
    {
      "cell_type": "code",
      "source": [
        "%%timeit\n",
        "insertionSort(rand1000)"
      ],
      "metadata": {
        "colab": {
          "base_uri": "https://localhost:8080/"
        },
        "id": "cvOtnbFVFPL1",
        "outputId": "fa7f3a44-f19e-4f35-ceea-241bb41ceaae"
      },
      "execution_count": 66,
      "outputs": [
        {
          "output_type": "stream",
          "name": "stdout",
          "text": [
            "1000 loops, best of 5: 215 µs per loop\n"
          ]
        }
      ]
    },
    {
      "cell_type": "code",
      "source": [
        "rand10000 = [random.randint(1,100000) for _ in range(10_000)]\n",
        "rand10000[:5]"
      ],
      "metadata": {
        "colab": {
          "base_uri": "https://localhost:8080/"
        },
        "id": "nHDsSVH9God_",
        "outputId": "fb7b6199-0ee1-455a-bf19-33ad325a1e26"
      },
      "execution_count": 77,
      "outputs": [
        {
          "output_type": "execute_result",
          "data": {
            "text/plain": [
              "[43415, 27012, 4835, 30828, 23818]"
            ]
          },
          "metadata": {},
          "execution_count": 77
        }
      ]
    },
    {
      "cell_type": "code",
      "source": [
        "%%timeit\n",
        "insertionSort(rand10000)"
      ],
      "metadata": {
        "colab": {
          "base_uri": "https://localhost:8080/"
        },
        "id": "0SwH2bDrGkxC",
        "outputId": "c3375f64-7f81-49c6-8aa8-b16b64ab95f6"
      },
      "execution_count": 78,
      "outputs": [
        {
          "output_type": "stream",
          "name": "stdout",
          "text": [
            "1 loop, best of 5: 8.89 s per loop\n"
          ]
        }
      ]
    },
    {
      "cell_type": "code",
      "source": [
        "# so again 10 x more data -> 100x slower algorithm when complexity is quadratic O(n^2)"
      ],
      "metadata": {
        "id": "K_j27uUzHEj_"
      },
      "execution_count": null,
      "outputs": []
    },
    {
      "cell_type": "code",
      "execution_count": 67,
      "metadata": {
        "colab": {
          "base_uri": "https://localhost:8080/"
        },
        "id": "snHq-gs33tsi",
        "outputId": "d9334a41-6c5c-48f6-d896-e730ddb3495c"
      },
      "outputs": [
        {
          "output_type": "stream",
          "name": "stdout",
          "text": [
            "1000 loops, best of 5: 1.96 ms per loop\n"
          ]
        }
      ],
      "source": [
        "%%timeit\n",
        "insertionSort(rand1000)"
      ]
    },
    {
      "cell_type": "code",
      "execution_count": 70,
      "metadata": {
        "colab": {
          "base_uri": "https://localhost:8080/"
        },
        "id": "aSSjpeLV3tsi",
        "outputId": "efd9d647-c612-434d-cd11-5c889238381f"
      },
      "outputs": [
        {
          "output_type": "execute_result",
          "data": {
            "text/plain": [
              "[518699, 645096, 554705, 86126, 53316, 852987, 243402, 49894, 564628, 799849]"
            ]
          },
          "metadata": {},
          "execution_count": 70
        }
      ],
      "source": [
        "rand20k = [random.randint(1,1000000) for _ in range(20_000)]\n",
        "rand20k[:10]"
      ]
    },
    {
      "cell_type": "code",
      "execution_count": 71,
      "metadata": {
        "colab": {
          "base_uri": "https://localhost:8080/"
        },
        "id": "FIilTvdY3tsj",
        "outputId": "8d4ab0ae-389b-4228-88bd-d662a2b090fe"
      },
      "outputs": [
        {
          "output_type": "stream",
          "name": "stdout",
          "text": [
            "The slowest run took 9637.89 times longer than the fastest. This could mean that an intermediate result is being cached.\n",
            "1 loop, best of 5: 3.82 ms per loop\n"
          ]
        }
      ],
      "source": [
        "%%timeit\n",
        "insertionSort(rand20k)"
      ]
    },
    {
      "cell_type": "code",
      "execution_count": null,
      "metadata": {
        "id": "CDI6jE8F3tsj",
        "outputId": "87e1aa41-151d-485c-84eb-50c9b00c47ab"
      },
      "outputs": [
        {
          "data": {
            "text/plain": [
              "[72, 208, 313, 370, 530, 572, 582, 687, 692, 768]"
            ]
          },
          "execution_count": 51,
          "metadata": {},
          "output_type": "execute_result"
        }
      ],
      "source": [
        "rand20k[:10]"
      ]
    },
    {
      "cell_type": "code",
      "execution_count": null,
      "metadata": {
        "id": "Pnn5jVW23tsj",
        "outputId": "4c5ed968-7a9b-47f1-8139-7b148ba90e40"
      },
      "outputs": [
        {
          "name": "stdout",
          "output_type": "stream",
          "text": [
            "Wall time: 1min 3s\n"
          ]
        }
      ],
      "source": [
        "%%time\n",
        "sorted20k = insertionSort(rand20k)"
      ]
    },
    {
      "cell_type": "code",
      "execution_count": null,
      "metadata": {
        "id": "kaw5y-VP3tsj",
        "outputId": "58f4012b-132d-44f6-be67-7f405582575b"
      },
      "outputs": [
        {
          "data": {
            "text/plain": [
              "([116, 132, 161, 269, 435], [116, 132, 161, 269, 435])"
            ]
          },
          "execution_count": 54,
          "metadata": {},
          "output_type": "execute_result"
        }
      ],
      "source": [
        "sorted20k[:5], rand20k[:5]"
      ]
    },
    {
      "cell_type": "code",
      "execution_count": null,
      "metadata": {
        "id": "w8dVI6lV3tsj"
      },
      "outputs": [],
      "source": [
        "sorted20k[9000] = 777\n",
        "sorted20k[12000] = 555\n",
        "# so not sorted anymore"
      ]
    },
    {
      "cell_type": "code",
      "execution_count": null,
      "metadata": {
        "id": "lTLDjdJk3tsl",
        "outputId": "54b98b79-8e89-4d80-8b0e-fd725fdb4cf9"
      },
      "outputs": [
        {
          "name": "stdout",
          "output_type": "stream",
          "text": [
            "Wall time: 24 ms\n"
          ]
        },
        {
          "data": {
            "text/plain": [
              "[116,\n",
              " 132,\n",
              " 161,\n",
              " 269,\n",
              " 435,\n",
              " 461,\n",
              " 475,\n",
              " 520,\n",
              " 555,\n",
              " 657,\n",
              " 739,\n",
              " 777,\n",
              " 945,\n",
              " 974,\n",
              " 1051,\n",
              " 1101,\n",
              " 1102,\n",
              " 1108,\n",
              " 1114,\n",
              " 1178,\n",
              " 1239,\n",
              " 1275,\n",
              " 1303,\n",
              " 1379,\n",
              " 1387,\n",
              " 1446,\n",
              " 1517,\n",
              " 1647,\n",
              " 1648,\n",
              " 1656,\n",
              " 1676,\n",
              " 1695,\n",
              " 1835,\n",
              " 1896,\n",
              " 1984,\n",
              " 1996,\n",
              " 1997,\n",
              " 2011,\n",
              " 2195,\n",
              " 2363,\n",
              " 2383,\n",
              " 2425,\n",
              " 2504,\n",
              " 2528,\n",
              " 2571,\n",
              " 2586,\n",
              " 2798,\n",
              " 2848,\n",
              " 2851,\n",
              " 2928,\n",
              " 2950,\n",
              " 3006,\n",
              " 3065,\n",
              " 3088,\n",
              " 3174,\n",
              " 3181,\n",
              " 3206,\n",
              " 3219,\n",
              " 3258,\n",
              " 3350,\n",
              " 3371,\n",
              " 3417,\n",
              " 3420,\n",
              " 3438,\n",
              " 3452,\n",
              " 3456,\n",
              " 3607,\n",
              " 3647,\n",
              " 3658,\n",
              " 3712,\n",
              " 3757,\n",
              " 3802,\n",
              " 3863,\n",
              " 3872,\n",
              " 3912,\n",
              " 3951,\n",
              " 3989,\n",
              " 4031,\n",
              " 4061,\n",
              " 4105,\n",
              " 4149,\n",
              " 4260,\n",
              " 4290,\n",
              " 4325,\n",
              " 4331,\n",
              " 4401,\n",
              " 4417,\n",
              " 4486,\n",
              " 4499,\n",
              " 4756,\n",
              " 4776,\n",
              " 4804,\n",
              " 4849,\n",
              " 4926,\n",
              " 5067,\n",
              " 5228,\n",
              " 5243,\n",
              " 5271,\n",
              " 5345,\n",
              " 5431,\n",
              " 5544,\n",
              " 5573,\n",
              " 5670,\n",
              " 5783,\n",
              " 5869,\n",
              " 5884,\n",
              " 5994,\n",
              " 6040,\n",
              " 6066,\n",
              " 6079,\n",
              " 6088,\n",
              " 6120,\n",
              " 6141,\n",
              " 6143,\n",
              " 6232,\n",
              " 6246,\n",
              " 6266,\n",
              " 6272,\n",
              " 6316,\n",
              " 6339,\n",
              " 6344,\n",
              " 6379,\n",
              " 6403,\n",
              " 6466,\n",
              " 6475,\n",
              " 6506,\n",
              " 6669,\n",
              " 6703,\n",
              " 6733,\n",
              " 6739,\n",
              " 6743,\n",
              " 6777,\n",
              " 6862,\n",
              " 7016,\n",
              " 7072,\n",
              " 7120,\n",
              " 7126,\n",
              " 7216,\n",
              " 7243,\n",
              " 7244,\n",
              " 7278,\n",
              " 7294,\n",
              " 7345,\n",
              " 7366,\n",
              " 7437,\n",
              " 7501,\n",
              " 7579,\n",
              " 7695,\n",
              " 7771,\n",
              " 7834,\n",
              " 7911,\n",
              " 7988,\n",
              " 8002,\n",
              " 8012,\n",
              " 8051,\n",
              " 8119,\n",
              " 8127,\n",
              " 8129,\n",
              " 8136,\n",
              " 8144,\n",
              " 8153,\n",
              " 8304,\n",
              " 8329,\n",
              " 8374,\n",
              " 8439,\n",
              " 8488,\n",
              " 8552,\n",
              " 8562,\n",
              " 8563,\n",
              " 8716,\n",
              " 8731,\n",
              " 8841,\n",
              " 8853,\n",
              " 8934,\n",
              " 8962,\n",
              " 9227,\n",
              " 9242,\n",
              " 9321,\n",
              " 9350,\n",
              " 9372,\n",
              " 9420,\n",
              " 9551,\n",
              " 9571,\n",
              " 9589,\n",
              " 9664,\n",
              " 9676,\n",
              " 9757,\n",
              " 9767,\n",
              " 9816,\n",
              " 9835,\n",
              " 9877,\n",
              " 10048,\n",
              " 10092,\n",
              " 10283,\n",
              " 10313,\n",
              " 10342,\n",
              " 10344,\n",
              " 10412,\n",
              " 10451,\n",
              " 10462,\n",
              " 10488,\n",
              " 10500,\n",
              " 10580,\n",
              " 10586,\n",
              " 10600,\n",
              " 10664,\n",
              " 10704,\n",
              " 10880,\n",
              " 10905,\n",
              " 10931,\n",
              " 11023,\n",
              " 11069,\n",
              " 11074,\n",
              " 11105,\n",
              " 11144,\n",
              " 11275,\n",
              " 11335,\n",
              " 11381,\n",
              " 11417,\n",
              " 11425,\n",
              " 11449,\n",
              " 11462,\n",
              " 11471,\n",
              " 11485,\n",
              " 11548,\n",
              " 11655,\n",
              " 11896,\n",
              " 11963,\n",
              " 12130,\n",
              " 12199,\n",
              " 12249,\n",
              " 12251,\n",
              " 12327,\n",
              " 12453,\n",
              " 12484,\n",
              " 12525,\n",
              " 12594,\n",
              " 12655,\n",
              " 12666,\n",
              " 12699,\n",
              " 12702,\n",
              " 12751,\n",
              " 12794,\n",
              " 12863,\n",
              " 12885,\n",
              " 12934,\n",
              " 13023,\n",
              " 13023,\n",
              " 13053,\n",
              " 13080,\n",
              " 13111,\n",
              " 13199,\n",
              " 13293,\n",
              " 13346,\n",
              " 13347,\n",
              " 13372,\n",
              " 13443,\n",
              " 13482,\n",
              " 13533,\n",
              " 13540,\n",
              " 13572,\n",
              " 13624,\n",
              " 13926,\n",
              " 13931,\n",
              " 13947,\n",
              " 13961,\n",
              " 14002,\n",
              " 14126,\n",
              " 14139,\n",
              " 14268,\n",
              " 14278,\n",
              " 14362,\n",
              " 14362,\n",
              " 14374,\n",
              " 14415,\n",
              " 14415,\n",
              " 14533,\n",
              " 14556,\n",
              " 14668,\n",
              " 14782,\n",
              " 14841,\n",
              " 14885,\n",
              " 14886,\n",
              " 14888,\n",
              " 14910,\n",
              " 14950,\n",
              " 15038,\n",
              " 15077,\n",
              " 15126,\n",
              " 15286,\n",
              " 15305,\n",
              " 15404,\n",
              " 15438,\n",
              " 15501,\n",
              " 15602,\n",
              " 15649,\n",
              " 15668,\n",
              " 15694,\n",
              " 15801,\n",
              " 15862,\n",
              " 15869,\n",
              " 15875,\n",
              " 15881,\n",
              " 16040,\n",
              " 16056,\n",
              " 16116,\n",
              " 16145,\n",
              " 16248,\n",
              " 16290,\n",
              " 16327,\n",
              " 16509,\n",
              " 16677,\n",
              " 16699,\n",
              " 16854,\n",
              " 16869,\n",
              " 16877,\n",
              " 16885,\n",
              " 17003,\n",
              " 17018,\n",
              " 17263,\n",
              " 17329,\n",
              " 17383,\n",
              " 17440,\n",
              " 17709,\n",
              " 17748,\n",
              " 17804,\n",
              " 17833,\n",
              " 17900,\n",
              " 18009,\n",
              " 18138,\n",
              " 18142,\n",
              " 18197,\n",
              " 18227,\n",
              " 18301,\n",
              " 18308,\n",
              " 18353,\n",
              " 18359,\n",
              " 18363,\n",
              " 18396,\n",
              " 18406,\n",
              " 18464,\n",
              " 18479,\n",
              " 18492,\n",
              " 18506,\n",
              " 18516,\n",
              " 18518,\n",
              " 18639,\n",
              " 18761,\n",
              " 18804,\n",
              " 18823,\n",
              " 18887,\n",
              " 18912,\n",
              " 18929,\n",
              " 19088,\n",
              " 19123,\n",
              " 19222,\n",
              " 19307,\n",
              " 19333,\n",
              " 19338,\n",
              " 19359,\n",
              " 19385,\n",
              " 19389,\n",
              " 19656,\n",
              " 19658,\n",
              " 19711,\n",
              " 19959,\n",
              " 19967,\n",
              " 19993,\n",
              " 20059,\n",
              " 20068,\n",
              " 20108,\n",
              " 20227,\n",
              " 20266,\n",
              " 20268,\n",
              " 20301,\n",
              " 20383,\n",
              " 20416,\n",
              " 20418,\n",
              " 20465,\n",
              " 20653,\n",
              " 20713,\n",
              " 20721,\n",
              " 20749,\n",
              " 20754,\n",
              " 20995,\n",
              " 21026,\n",
              " 21116,\n",
              " 21120,\n",
              " 21223,\n",
              " 21238,\n",
              " 21258,\n",
              " 21287,\n",
              " 21293,\n",
              " 21298,\n",
              " 21309,\n",
              " 21317,\n",
              " 21390,\n",
              " 21433,\n",
              " 21436,\n",
              " 21622,\n",
              " 21625,\n",
              " 21641,\n",
              " 21690,\n",
              " 21735,\n",
              " 21777,\n",
              " 21930,\n",
              " 22067,\n",
              " 22072,\n",
              " 22295,\n",
              " 22315,\n",
              " 22345,\n",
              " 22356,\n",
              " 22401,\n",
              " 22408,\n",
              " 22429,\n",
              " 22512,\n",
              " 22534,\n",
              " 22545,\n",
              " 22570,\n",
              " 22597,\n",
              " 22600,\n",
              " 22652,\n",
              " 22663,\n",
              " 22697,\n",
              " 22737,\n",
              " 22767,\n",
              " 22848,\n",
              " 22868,\n",
              " 22870,\n",
              " 23026,\n",
              " 23082,\n",
              " 23114,\n",
              " 23115,\n",
              " 23352,\n",
              " 23442,\n",
              " 23446,\n",
              " 23611,\n",
              " 23776,\n",
              " 23926,\n",
              " 23965,\n",
              " 24033,\n",
              " 24124,\n",
              " 24185,\n",
              " 24194,\n",
              " 24197,\n",
              " 24199,\n",
              " 24260,\n",
              " 24273,\n",
              " 24443,\n",
              " 24476,\n",
              " 24521,\n",
              " 24556,\n",
              " 24743,\n",
              " 24789,\n",
              " 24801,\n",
              " 24824,\n",
              " 24913,\n",
              " 24919,\n",
              " 25038,\n",
              " 25069,\n",
              " 25083,\n",
              " 25084,\n",
              " 25227,\n",
              " 25257,\n",
              " 25285,\n",
              " 25515,\n",
              " 25523,\n",
              " 25674,\n",
              " 25682,\n",
              " 25735,\n",
              " 25742,\n",
              " 25748,\n",
              " 25786,\n",
              " 25790,\n",
              " 25809,\n",
              " 25844,\n",
              " 25911,\n",
              " 25989,\n",
              " 26001,\n",
              " 26005,\n",
              " 26113,\n",
              " 26155,\n",
              " 26214,\n",
              " 26300,\n",
              " 26312,\n",
              " 26314,\n",
              " 26322,\n",
              " 26382,\n",
              " 26524,\n",
              " 26658,\n",
              " 26704,\n",
              " 26738,\n",
              " 26755,\n",
              " 26758,\n",
              " 26806,\n",
              " 26851,\n",
              " 26853,\n",
              " 26854,\n",
              " 26905,\n",
              " 26918,\n",
              " 26920,\n",
              " 26943,\n",
              " 27090,\n",
              " 27127,\n",
              " 27165,\n",
              " 27244,\n",
              " 27297,\n",
              " 27375,\n",
              " 27419,\n",
              " 27489,\n",
              " 27515,\n",
              " 27552,\n",
              " 27656,\n",
              " 27670,\n",
              " 27844,\n",
              " 27875,\n",
              " 27877,\n",
              " 27934,\n",
              " 28077,\n",
              " 28091,\n",
              " 28145,\n",
              " 28154,\n",
              " 28167,\n",
              " 28186,\n",
              " 28188,\n",
              " 28221,\n",
              " 28241,\n",
              " 28258,\n",
              " 28290,\n",
              " 28317,\n",
              " 28429,\n",
              " 28498,\n",
              " 28541,\n",
              " 28757,\n",
              " 28797,\n",
              " 28806,\n",
              " 28871,\n",
              " 28873,\n",
              " 28880,\n",
              " 28929,\n",
              " 28990,\n",
              " 29102,\n",
              " 29144,\n",
              " 29182,\n",
              " 29191,\n",
              " 29251,\n",
              " 29282,\n",
              " 29306,\n",
              " 29400,\n",
              " 29403,\n",
              " 29404,\n",
              " 29453,\n",
              " 29482,\n",
              " 29490,\n",
              " 29503,\n",
              " 29656,\n",
              " 29657,\n",
              " 29683,\n",
              " 29698,\n",
              " 29704,\n",
              " 29726,\n",
              " 29799,\n",
              " 29891,\n",
              " 29912,\n",
              " 29925,\n",
              " 29928,\n",
              " 29936,\n",
              " 29959,\n",
              " 29960,\n",
              " 29966,\n",
              " 29966,\n",
              " 29984,\n",
              " 30008,\n",
              " 30098,\n",
              " 30104,\n",
              " 30193,\n",
              " 30233,\n",
              " 30271,\n",
              " 30462,\n",
              " 30466,\n",
              " 30480,\n",
              " 30591,\n",
              " 30592,\n",
              " 30634,\n",
              " 30651,\n",
              " 30663,\n",
              " 30745,\n",
              " 30797,\n",
              " 30798,\n",
              " 30872,\n",
              " 30892,\n",
              " 30897,\n",
              " 30902,\n",
              " 30909,\n",
              " 30916,\n",
              " 30923,\n",
              " 30986,\n",
              " 31163,\n",
              " 31177,\n",
              " 31259,\n",
              " 31260,\n",
              " 31343,\n",
              " 31343,\n",
              " 31390,\n",
              " 31431,\n",
              " 31449,\n",
              " 31472,\n",
              " 31539,\n",
              " 31550,\n",
              " 31562,\n",
              " 31566,\n",
              " 31567,\n",
              " 31687,\n",
              " 31701,\n",
              " 31938,\n",
              " 31967,\n",
              " 32005,\n",
              " 32051,\n",
              " 32070,\n",
              " 32096,\n",
              " 32108,\n",
              " 32160,\n",
              " 32228,\n",
              " 32252,\n",
              " 32299,\n",
              " 32301,\n",
              " 32417,\n",
              " 32445,\n",
              " 32465,\n",
              " 32524,\n",
              " 32569,\n",
              " 32577,\n",
              " 32651,\n",
              " 32703,\n",
              " 32736,\n",
              " 32773,\n",
              " 32786,\n",
              " 32789,\n",
              " 32804,\n",
              " 33020,\n",
              " 33125,\n",
              " 33152,\n",
              " 33162,\n",
              " 33205,\n",
              " 33216,\n",
              " 33219,\n",
              " 33233,\n",
              " 33256,\n",
              " 33256,\n",
              " 33274,\n",
              " 33325,\n",
              " 33350,\n",
              " 33388,\n",
              " 33454,\n",
              " 33501,\n",
              " 33571,\n",
              " 33585,\n",
              " 33650,\n",
              " 33671,\n",
              " 33786,\n",
              " 33938,\n",
              " 33966,\n",
              " 34051,\n",
              " 34071,\n",
              " 34154,\n",
              " 34174,\n",
              " 34223,\n",
              " 34341,\n",
              " 34341,\n",
              " 34344,\n",
              " 34357,\n",
              " 34383,\n",
              " 34462,\n",
              " 34494,\n",
              " 34555,\n",
              " 34566,\n",
              " 34582,\n",
              " 34605,\n",
              " 34610,\n",
              " 34774,\n",
              " 34801,\n",
              " 34945,\n",
              " 35065,\n",
              " 35369,\n",
              " 35458,\n",
              " 35484,\n",
              " 35750,\n",
              " 35806,\n",
              " 35838,\n",
              " 35842,\n",
              " 35847,\n",
              " 35848,\n",
              " 35877,\n",
              " 35915,\n",
              " 35966,\n",
              " 35986,\n",
              " 35987,\n",
              " 36033,\n",
              " 36164,\n",
              " 36209,\n",
              " 36221,\n",
              " 36327,\n",
              " 36349,\n",
              " 36438,\n",
              " 36451,\n",
              " 36648,\n",
              " 36784,\n",
              " 36861,\n",
              " 36929,\n",
              " 36937,\n",
              " 36982,\n",
              " 37075,\n",
              " 37101,\n",
              " 37110,\n",
              " 37114,\n",
              " 37170,\n",
              " 37231,\n",
              " 37302,\n",
              " 37406,\n",
              " 37426,\n",
              " 37454,\n",
              " 37488,\n",
              " 37508,\n",
              " 37535,\n",
              " 37635,\n",
              " 37658,\n",
              " 37748,\n",
              " 37808,\n",
              " 37843,\n",
              " 37848,\n",
              " 37867,\n",
              " 37872,\n",
              " 37875,\n",
              " 37936,\n",
              " 37990,\n",
              " 38004,\n",
              " 38015,\n",
              " 38021,\n",
              " 38168,\n",
              " 38192,\n",
              " 38197,\n",
              " 38242,\n",
              " 38450,\n",
              " 38561,\n",
              " 38611,\n",
              " 38697,\n",
              " 38705,\n",
              " 38727,\n",
              " 38735,\n",
              " 38759,\n",
              " 38768,\n",
              " 38836,\n",
              " 38856,\n",
              " 38868,\n",
              " 38903,\n",
              " 38912,\n",
              " 38943,\n",
              " 38964,\n",
              " 38968,\n",
              " 39028,\n",
              " 39211,\n",
              " 39234,\n",
              " 39270,\n",
              " 39279,\n",
              " 39297,\n",
              " 39301,\n",
              " 39319,\n",
              " 39478,\n",
              " 39485,\n",
              " 39533,\n",
              " 39536,\n",
              " 39640,\n",
              " 39746,\n",
              " 39777,\n",
              " 40010,\n",
              " 40058,\n",
              " 40066,\n",
              " 40084,\n",
              " 40110,\n",
              " 40204,\n",
              " 40217,\n",
              " 40342,\n",
              " 40404,\n",
              " 40502,\n",
              " 40539,\n",
              " 40620,\n",
              " 40665,\n",
              " 40687,\n",
              " 40792,\n",
              " 40882,\n",
              " 40901,\n",
              " 40905,\n",
              " 40907,\n",
              " 41041,\n",
              " 41048,\n",
              " 41126,\n",
              " 41161,\n",
              " 41194,\n",
              " 41224,\n",
              " 41231,\n",
              " 41260,\n",
              " 41313,\n",
              " 41351,\n",
              " 41369,\n",
              " 41450,\n",
              " 41467,\n",
              " 41548,\n",
              " 41570,\n",
              " 41635,\n",
              " 41649,\n",
              " 41701,\n",
              " 41701,\n",
              " 41749,\n",
              " 41750,\n",
              " 41861,\n",
              " 41879,\n",
              " 41985,\n",
              " 42032,\n",
              " 42050,\n",
              " 42056,\n",
              " 42175,\n",
              " 42190,\n",
              " 42201,\n",
              " 42212,\n",
              " 42231,\n",
              " 42278,\n",
              " 42348,\n",
              " 42412,\n",
              " 42422,\n",
              " 42583,\n",
              " 42591,\n",
              " 42629,\n",
              " 42657,\n",
              " 42671,\n",
              " 42681,\n",
              " 42768,\n",
              " 42846,\n",
              " 42857,\n",
              " 42857,\n",
              " 42938,\n",
              " 42962,\n",
              " 42976,\n",
              " 43007,\n",
              " 43024,\n",
              " 43111,\n",
              " 43143,\n",
              " 43168,\n",
              " 43168,\n",
              " 43173,\n",
              " 43274,\n",
              " 43318,\n",
              " 43324,\n",
              " 43326,\n",
              " 43387,\n",
              " 43406,\n",
              " 43488,\n",
              " 43531,\n",
              " 43547,\n",
              " 43709,\n",
              " 43737,\n",
              " 43758,\n",
              " 43845,\n",
              " 43899,\n",
              " 43974,\n",
              " 44026,\n",
              " 44029,\n",
              " 44136,\n",
              " 44204,\n",
              " 44205,\n",
              " 44205,\n",
              " 44237,\n",
              " 44270,\n",
              " 44271,\n",
              " 44327,\n",
              " 44381,\n",
              " 44431,\n",
              " 44505,\n",
              " 44534,\n",
              " 44587,\n",
              " 44606,\n",
              " 44609,\n",
              " 44690,\n",
              " 44782,\n",
              " 44859,\n",
              " 44865,\n",
              " 44921,\n",
              " 44941,\n",
              " 44951,\n",
              " 44965,\n",
              " 44980,\n",
              " 45046,\n",
              " 45088,\n",
              " 45157,\n",
              " 45168,\n",
              " 45182,\n",
              " 45253,\n",
              " 45296,\n",
              " 45313,\n",
              " 45331,\n",
              " 45335,\n",
              " 45381,\n",
              " 45401,\n",
              " 45428,\n",
              " 45516,\n",
              " 45546,\n",
              " 45551,\n",
              " 45556,\n",
              " 45559,\n",
              " 45582,\n",
              " 45583,\n",
              " 45626,\n",
              " 45630,\n",
              " 45686,\n",
              " 45689,\n",
              " 45779,\n",
              " 45809,\n",
              " 45859,\n",
              " 45924,\n",
              " 45955,\n",
              " 46034,\n",
              " 46286,\n",
              " 46301,\n",
              " 46352,\n",
              " 46359,\n",
              " 46380,\n",
              " 46392,\n",
              " 46505,\n",
              " 46509,\n",
              " 46512,\n",
              " 46535,\n",
              " 46646,\n",
              " 46646,\n",
              " 46712,\n",
              " 46714,\n",
              " 46750,\n",
              " 46769,\n",
              " 46797,\n",
              " 46917,\n",
              " 46953,\n",
              " 46956,\n",
              " 47031,\n",
              " 47096,\n",
              " 47115,\n",
              " 47245,\n",
              " 47270,\n",
              " 47275,\n",
              " 47315,\n",
              " 47378,\n",
              " 47413,\n",
              " 47432,\n",
              " 47441,\n",
              " 47467,\n",
              " 47472,\n",
              " 47519,\n",
              " 47646,\n",
              " 47678,\n",
              " 47704,\n",
              " 47785,\n",
              " 47848,\n",
              " 47885,\n",
              " 47903,\n",
              " 47968,\n",
              " 47974,\n",
              " 48046,\n",
              " 48053,\n",
              " 48144,\n",
              " 48193,\n",
              " 48201,\n",
              " 48244,\n",
              " 48266,\n",
              " 48326,\n",
              " 48353,\n",
              " 48356,\n",
              " 48436,\n",
              " 48519,\n",
              " 48524,\n",
              " 48563,\n",
              " 48593,\n",
              " 48610,\n",
              " 48663,\n",
              " 48673,\n",
              " 48702,\n",
              " 48879,\n",
              " 48970,\n",
              " 49033,\n",
              " 49113,\n",
              " 49126,\n",
              " 49128,\n",
              " 49128,\n",
              " 49276,\n",
              " 49302,\n",
              " 49373,\n",
              " 49465,\n",
              " 49471,\n",
              " 49544,\n",
              " 49631,\n",
              " 49754,\n",
              " 49789,\n",
              " 50063,\n",
              " 50137,\n",
              " ...]"
            ]
          },
          "execution_count": 56,
          "metadata": {},
          "output_type": "execute_result"
        }
      ],
      "source": [
        "%%time\n",
        "insertionSort(sorted20k)"
      ]
    },
    {
      "cell_type": "markdown",
      "metadata": {
        "heading_collapsed": true,
        "hidden": true,
        "id": "h65KAxwq3tsl"
      },
      "source": [
        "### Merge Sort"
      ]
    },
    {
      "cell_type": "code",
      "execution_count": null,
      "metadata": {
        "id": "oHq3Gp143tsl"
      },
      "outputs": [],
      "source": [
        "# first implementation idea by https://en.wikipedia.org/wiki/John_von_Neumann\n"
      ]
    },
    {
      "cell_type": "markdown",
      "metadata": {
        "hidden": true,
        "id": "JSAvDqv73tsl"
      },
      "source": [
        "![merge](https://github.com/ValRCS/RTU_Algorithms_DIP321/blob/main/imgs/mergesort.png?raw=1)"
      ]
    },
    {
      "cell_type": "markdown",
      "metadata": {
        "hidden": true,
        "id": "MDHA8hNG3tsl"
      },
      "source": [
        "![merge1](https://github.com/ValRCS/RTU_Algorithms_DIP321/blob/main/imgs/mergesortB.png?raw=1)"
      ]
    },
    {
      "cell_type": "markdown",
      "metadata": {
        "hidden": true,
        "id": "rV399HA-3tsl"
      },
      "source": [
        "$$Complexity: O(nlog(n))$$"
      ]
    },
    {
      "cell_type": "code",
      "execution_count": null,
      "metadata": {
        "hidden": true,
        "id": "PYkyQ_jI3tsl"
      },
      "outputs": [],
      "source": [
        "l = [1,2,3,4,32,5,5,66,33,221,34,23,12]"
      ]
    },
    {
      "cell_type": "code",
      "execution_count": 84,
      "metadata": {
        "hidden": true,
        "id": "PhhT-crZ3tsm"
      },
      "outputs": [],
      "source": [
        "def mergeSort(alist, debug=False):\n",
        "#     alist = olist[:] # should be a copy\n",
        "#     print(\"Splitting \", alist)\n",
        "    if len(alist) > 1:\n",
        "        mid = len(alist) // 2\n",
        "        lefthalf = alist[:mid]\n",
        "        righthalf = alist[mid:]\n",
        "\n",
        "        mergeSort(lefthalf)\n",
        "        mergeSort(righthalf)\n",
        "        # this could a seperate function the mergin part\n",
        "        i = 0\n",
        "        j = 0\n",
        "        k = 0\n",
        "        while i < len(lefthalf) and j < len(righthalf):\n",
        "            if lefthalf[i] < righthalf[j]:\n",
        "                alist[k] = lefthalf[i]\n",
        "                i = i + 1\n",
        "            else:\n",
        "                alist[k] = righthalf[j]\n",
        "                j = j + 1\n",
        "            k = k + 1\n",
        "\n",
        "        while i < len(lefthalf):\n",
        "            alist[k] = lefthalf[i]\n",
        "            i = i + 1\n",
        "            k = k + 1\n",
        "\n",
        "        while j < len(righthalf):\n",
        "            alist[k] = righthalf[j]\n",
        "            j = j + 1\n",
        "            k = k + 1\n",
        "        if debug:\n",
        "          print(\"Merging \", alist)\n",
        "    return alist"
      ]
    },
    {
      "cell_type": "code",
      "execution_count": 85,
      "metadata": {
        "hidden": true,
        "colab": {
          "base_uri": "https://localhost:8080/"
        },
        "id": "uCPv19-h3tsm",
        "outputId": "60399fb5-dc69-480b-99a7-da6ffb8b5710"
      },
      "outputs": [
        {
          "output_type": "stream",
          "name": "stdout",
          "text": [
            "Merging  [1, 2, 3, 4, 5, 5, 12, 23, 32, 33, 34, 66, 221]\n"
          ]
        },
        {
          "output_type": "execute_result",
          "data": {
            "text/plain": [
              "[1, 2, 3, 4, 5, 5, 12, 23, 32, 33, 34, 66, 221]"
            ]
          },
          "metadata": {},
          "execution_count": 85
        }
      ],
      "source": [
        "mergeSort(l, debug=True)"
      ]
    },
    {
      "cell_type": "code",
      "execution_count": 83,
      "metadata": {
        "colab": {
          "base_uri": "https://localhost:8080/"
        },
        "id": "TD-sdi4c3tsm",
        "outputId": "fbb8aa18-6004-48cb-eb4a-9e54c24a22a9"
      },
      "outputs": [
        {
          "output_type": "execute_result",
          "data": {
            "text/plain": [
              "[114, 4079, 5618, 1495, 8490, 469, 1025, 9067, 5673, 6597]"
            ]
          },
          "metadata": {},
          "execution_count": 83
        }
      ],
      "source": [
        "rand1000[:10]"
      ]
    },
    {
      "cell_type": "code",
      "execution_count": null,
      "metadata": {
        "id": "rmLxQrGT3tsm"
      },
      "outputs": [],
      "source": [
        "shuffle(rand1000)"
      ]
    },
    {
      "cell_type": "code",
      "execution_count": null,
      "metadata": {
        "id": "gDkQICKj3tsm",
        "outputId": "b48dee24-01b7-4df3-a058-c10957237506"
      },
      "outputs": [
        {
          "data": {
            "text/plain": [
              "[23265, 22219, 11825, 10924, 58266, 49760, 37255, 12390, 49549, 67816]"
            ]
          },
          "execution_count": 62,
          "metadata": {},
          "output_type": "execute_result"
        }
      ],
      "source": [
        "rand1000[:10]"
      ]
    },
    {
      "cell_type": "code",
      "execution_count": 86,
      "metadata": {
        "colab": {
          "base_uri": "https://localhost:8080/"
        },
        "id": "Y2Hmxw3r3tsm",
        "outputId": "e3050d72-ef1c-4006-b3a9-4792a85dd77a"
      },
      "outputs": [
        {
          "output_type": "execute_result",
          "data": {
            "text/plain": [
              "[4,\n",
              " 11,\n",
              " 22,\n",
              " 38,\n",
              " 39,\n",
              " 41,\n",
              " 65,\n",
              " 71,\n",
              " 79,\n",
              " 90,\n",
              " 91,\n",
              " 96,\n",
              " 111,\n",
              " 114,\n",
              " 116,\n",
              " 117,\n",
              " 120,\n",
              " 132,\n",
              " 134,\n",
              " 136]"
            ]
          },
          "metadata": {},
          "execution_count": 86
        }
      ],
      "source": [
        "merge1000 = mergeSort(rand1000)\n",
        "merge1000[:20]"
      ]
    },
    {
      "cell_type": "code",
      "source": [
        "rand1000[:10]"
      ],
      "metadata": {
        "colab": {
          "base_uri": "https://localhost:8080/"
        },
        "id": "1Pa9oUbiJfRu",
        "outputId": "93ab716c-7f5d-46f8-9625-20f7591be660"
      },
      "execution_count": 87,
      "outputs": [
        {
          "output_type": "execute_result",
          "data": {
            "text/plain": [
              "[4, 11, 22, 38, 39, 41, 65, 71, 79, 90]"
            ]
          },
          "metadata": {},
          "execution_count": 87
        }
      ]
    },
    {
      "cell_type": "code",
      "execution_count": null,
      "metadata": {
        "id": "bpn5G0Kw3tsm",
        "outputId": "7ca60ea8-e431-4a91-b893-e95312af9db2"
      },
      "outputs": [
        {
          "data": {
            "text/plain": [
              "[10, 34, 40, 40, 43, 46, 57, 61, 64, 81]"
            ]
          },
          "execution_count": 50,
          "metadata": {},
          "output_type": "execute_result"
        }
      ],
      "source": [
        "merge10k = mergeSort(rand10000)\n",
        "merge10k[:10]"
      ]
    },
    {
      "cell_type": "code",
      "execution_count": 88,
      "metadata": {
        "colab": {
          "base_uri": "https://localhost:8080/"
        },
        "id": "e4xCUG6b3tsn",
        "outputId": "7494ccb7-83fa-4e48-8a2c-ad0257b2a604"
      },
      "outputs": [
        {
          "output_type": "stream",
          "name": "stdout",
          "text": [
            "100 loops, best of 5: 4.03 ms per loop\n"
          ]
        }
      ],
      "source": [
        "# FIXME rand1000 is already sorted\n",
        "%%timeit\n",
        "mergeSort(rand1000)"
      ]
    },
    {
      "cell_type": "code",
      "execution_count": 89,
      "metadata": {
        "scrolled": true,
        "colab": {
          "base_uri": "https://localhost:8080/"
        },
        "id": "J2JlF-Ia3tsn",
        "outputId": "4b915de5-d37d-4960-8e3e-c3c5b5812bbb"
      },
      "outputs": [
        {
          "output_type": "stream",
          "name": "stdout",
          "text": [
            "10 loops, best of 5: 52.1 ms per loop\n"
          ]
        }
      ],
      "source": [
        "%%timeit\n",
        "mergeSort(rand10000)"
      ]
    },
    {
      "cell_type": "code",
      "execution_count": 90,
      "metadata": {
        "colab": {
          "base_uri": "https://localhost:8080/"
        },
        "id": "Ot8hLCL63tsn",
        "outputId": "4109509d-af03-4e35-fc50-41d363792e4e"
      },
      "outputs": [
        {
          "output_type": "execute_result",
          "data": {
            "text/plain": [
              "[82623, 209726, 386519, 974336, 773321]"
            ]
          },
          "metadata": {},
          "execution_count": 90
        }
      ],
      "source": [
        "r100_000 = [random.randint(1,1_000_000) for _ in range(100_000)]\n",
        "r100_000[:5]"
      ]
    },
    {
      "cell_type": "code",
      "execution_count": 92,
      "metadata": {
        "colab": {
          "base_uri": "https://localhost:8080/"
        },
        "id": "Pe1IaLjW3tsn",
        "outputId": "41b7b532-6035-40d8-d789-73427c91c1a8"
      },
      "outputs": [
        {
          "output_type": "stream",
          "name": "stdout",
          "text": [
            "1 loop, best of 5: 697 ms per loop\n"
          ]
        }
      ],
      "source": [
        "%%timeit\n",
        "mergeSort(r100_000) # so here n log n starts to really shine  # we could not do this during lecture on buble,selection or insertion sort!!!"
      ]
    },
    {
      "cell_type": "code",
      "execution_count": null,
      "metadata": {
        "id": "WotQXo_m3tsn"
      },
      "outputs": [],
      "source": [
        "shuffle(r100_000)"
      ]
    },
    {
      "cell_type": "code",
      "source": [
        "# Python has a built in sorted - as most languages do, lets test it"
      ],
      "metadata": {
        "id": "7da-cF9IKUkf"
      },
      "execution_count": null,
      "outputs": []
    },
    {
      "cell_type": "code",
      "execution_count": 93,
      "metadata": {
        "colab": {
          "base_uri": "https://localhost:8080/"
        },
        "id": "4DND3PVV3tsn",
        "outputId": "9fec7457-a843-4471-ae4a-848513231a9f"
      },
      "outputs": [
        {
          "output_type": "stream",
          "name": "stdout",
          "text": [
            "1000 loops, best of 5: 1.91 ms per loop\n"
          ]
        }
      ],
      "source": [
        "%%timeit\n",
        "sorted(r100_000) # sorted uses timsort which is a combination of insertion sort + merge sort"
      ]
    },
    {
      "cell_type": "code",
      "source": [
        "r100_000[:5]"
      ],
      "metadata": {
        "colab": {
          "base_uri": "https://localhost:8080/"
        },
        "id": "u1BMybSWKe4x",
        "outputId": "25f2cc8b-51f8-42fd-e9f9-c2802b757582"
      },
      "execution_count": 94,
      "outputs": [
        {
          "output_type": "execute_result",
          "data": {
            "text/plain": [
              "[5, 6, 8, 32, 33]"
            ]
          },
          "metadata": {},
          "execution_count": 94
        }
      ]
    },
    {
      "cell_type": "code",
      "source": [
        "shuffle(r100_000)"
      ],
      "metadata": {
        "id": "sE6vsiMNKhZf"
      },
      "execution_count": 95,
      "outputs": []
    },
    {
      "cell_type": "code",
      "source": [
        "r100_000[:5]"
      ],
      "metadata": {
        "colab": {
          "base_uri": "https://localhost:8080/"
        },
        "id": "rIBOydisKjik",
        "outputId": "29a9e945-2da2-4942-d913-80a229a1e9e4"
      },
      "execution_count": 96,
      "outputs": [
        {
          "output_type": "execute_result",
          "data": {
            "text/plain": [
              "[170223, 157376, 70356, 714494, 305483]"
            ]
          },
          "metadata": {},
          "execution_count": 96
        }
      ]
    },
    {
      "cell_type": "code",
      "source": [
        "%%timeit\n",
        "sorted(r100_000) # sorted uses timsort which is a combination of insertion sort + merge sort"
      ],
      "metadata": {
        "colab": {
          "base_uri": "https://localhost:8080/"
        },
        "id": "Dm_k_ej8Kmju",
        "outputId": "b033f8f3-3eab-4d96-aafb-be5d9446b7f4"
      },
      "execution_count": 97,
      "outputs": [
        {
          "output_type": "stream",
          "name": "stdout",
          "text": [
            "10 loops, best of 5: 27 ms per loop\n"
          ]
        }
      ]
    },
    {
      "cell_type": "code",
      "execution_count": null,
      "metadata": {
        "id": "pCSbk5oP3tsn",
        "outputId": "c0826754-61ae-47c3-c19f-b6d4981be575"
      },
      "outputs": [
        {
          "data": {
            "text/plain": [
              "[18, 18, 24, 62, 66]"
            ]
          },
          "execution_count": 57,
          "metadata": {},
          "output_type": "execute_result"
        }
      ],
      "source": [
        "sorted100k = mergeSort(r100_000)\n",
        "sorted100k[:5]"
      ]
    },
    {
      "cell_type": "code",
      "execution_count": null,
      "metadata": {
        "id": "iHX7CrZw3tso",
        "outputId": "fcfbe02c-2783-42e1-935c-b46c9c514881"
      },
      "outputs": [
        {
          "name": "stdout",
          "output_type": "stream",
          "text": [
            "956 ms ± 25.5 ms per loop (mean ± std. dev. of 7 runs, 1 loop each)\n"
          ]
        }
      ],
      "source": [
        "%%timeit\n",
        "mergeSort(sorted100k) # so we gained nothing from being sorted"
      ]
    },
    {
      "cell_type": "code",
      "execution_count": null,
      "metadata": {
        "id": "TUIkRq8c3tso",
        "outputId": "0a1aed33-1bbe-49c8-98a4-11f4a7cc38ed"
      },
      "outputs": [
        {
          "name": "stdout",
          "output_type": "stream",
          "text": [
            "38.8 ms ± 1.95 ms per loop (mean ± std. dev. of 7 runs, 10 loops each)\n"
          ]
        }
      ],
      "source": [
        "%%timeit\n",
        "insertionSort(sorted100k)  # insertion sort should be slow we shall see\n"
      ]
    },
    {
      "cell_type": "code",
      "execution_count": null,
      "metadata": {
        "id": "Z_ubAtht3tso",
        "outputId": "9fd6fa2f-da04-4422-9e1e-5c125289f18b"
      },
      "outputs": [
        {
          "data": {
            "text/plain": [
              "[499488,\n",
              " 499502,\n",
              " 499511,\n",
              " 499522,\n",
              " 499523,\n",
              " 499529,\n",
              " 499540,\n",
              " 499590,\n",
              " 499594,\n",
              " 499604]"
            ]
          },
          "execution_count": 61,
          "metadata": {},
          "output_type": "execute_result"
        }
      ],
      "source": [
        "sorted100k[50000:50000+10]"
      ]
    },
    {
      "cell_type": "code",
      "execution_count": null,
      "metadata": {
        "id": "YCrVzKpf3tso"
      },
      "outputs": [],
      "source": [
        "sorted100k[555] = 400000\n",
        "sorted100k[9000] = 1333\n"
      ]
    },
    {
      "cell_type": "code",
      "execution_count": null,
      "metadata": {
        "id": "FPcZaCOf3tso",
        "outputId": "0fbcd480-0088-4a90-8dc5-57c4e6655d6b"
      },
      "outputs": [
        {
          "name": "stdout",
          "output_type": "stream",
          "text": [
            "40 ms ± 2.78 ms per loop (mean ± std. dev. of 7 runs, 10 loops each)\n"
          ]
        }
      ],
      "source": [
        "%%timeit\n",
        "insertionSort(sorted100k) "
      ]
    },
    {
      "cell_type": "markdown",
      "metadata": {
        "id": "_f-x3idr3tso"
      },
      "source": [
        "# Big O, Theta and Omega bounds"
      ]
    },
    {
      "cell_type": "markdown",
      "metadata": {
        "id": "HfNAQRtS3tsp"
      },
      "source": [
        "### Merge sort is defined by recurrence formula \n",
        "T(n) = 2T(n/2) + n\n",
        "So each problem has to be divided in two halfs and also we have linear(n) merging operation"
      ]
    },
    {
      "cell_type": "code",
      "execution_count": null,
      "metadata": {
        "id": "CrhT0sYF3tsp"
      },
      "outputs": [],
      "source": [
        "# so how to prove that merge sort is really O(n log n) time complexity?\n",
        "# in reality we are looking for tight bound the Θ(n log n) complexity\n",
        "# so O is very loose, in every day usage when people say O they really mean Θ - theta\n",
        "# O is showing that the algorith is no worse than some f(n)\n",
        "# I could say that merge sort is O(n!) and it would still be correct but practically useless\n",
        "# since most algorithms are O(n!)\n",
        "# so Merge sort is O(n!), O(n^5),O(n^2) and so on and finally most crucially O(n log n)\n",
        "# Merge sort is NOT O(n)\n",
        "# so thats what Θ(n log n)"
      ]
    },
    {
      "cell_type": "code",
      "execution_count": null,
      "metadata": {
        "id": "M6TmOipe3tsp"
      },
      "outputs": [],
      "source": [
        "## So ideas on how to prove mergesort is O(n log n) ?\n",
        "## Instinctively we see that we are dividing in halves and solving the problem for those\n",
        "\n",
        "# There is something called Master Theorem which lets us quickly see the solution for most types of recurrence"
      ]
    },
    {
      "cell_type": "code",
      "execution_count": null,
      "metadata": {
        "id": "aP3EAapT3tsp"
      },
      "outputs": [],
      "source": [
        "# what is a reccurence relation then?"
      ]
    },
    {
      "cell_type": "markdown",
      "metadata": {
        "id": "d-ASGlrf3tsq"
      },
      "source": [
        "# given n is our data\n",
        "# so merge sort the reccurence will be\n",
        "T(n) = 2(T(n/2)) + n # because we have to merge in n time the halves\n",
        "# so reccurence defines the recursive function"
      ]
    },
    {
      "cell_type": "code",
      "execution_count": null,
      "metadata": {
        "id": "ZbUTMdVg3tsq"
      },
      "outputs": [],
      "source": [
        "# so for next week we will look at solving this and also the Master Theorem on how to generally \n",
        "# find the complexity"
      ]
    },
    {
      "cell_type": "code",
      "execution_count": null,
      "metadata": {
        "id": "q8kySFnx3tsq"
      },
      "outputs": [],
      "source": [
        "# we do not need the reccurrence if we have regular loops without recursion.."
      ]
    },
    {
      "cell_type": "markdown",
      "metadata": {
        "heading_collapsed": true,
        "hidden": true,
        "id": "DT0am-c-3tsq"
      },
      "source": [
        "### Quick sort"
      ]
    },
    {
      "cell_type": "markdown",
      "metadata": {
        "hidden": true,
        "id": "1DIh8iu63tsq"
      },
      "source": [
        "![quick](https://github.com/ValRCS/RTU_Algorithms_DIP321/blob/main/imgs/quicksort.png?raw=1)"
      ]
    },
    {
      "cell_type": "markdown",
      "metadata": {
        "hidden": true,
        "id": "RQKoFmNN3tsr"
      },
      "source": [
        "$$Complexity: O(nlog(n))$$ $$Worst case : O(n^2)$$"
      ]
    },
    {
      "cell_type": "code",
      "execution_count": 101,
      "metadata": {
        "hidden": true,
        "colab": {
          "base_uri": "https://localhost:8080/"
        },
        "id": "FDsKfp0N3tsr",
        "outputId": "e9b86658-4457-46b3-c72b-c70c9beada3a"
      },
      "outputs": [
        {
          "output_type": "stream",
          "name": "stdout",
          "text": [
            "[54, 26, 93, 17, 77, 31, 44, 55, 20]\n"
          ]
        }
      ],
      "source": [
        "def quickSort(seq):\n",
        "    alist = seq.copy()\n",
        "    quickSortHelper(alist, 0, len(alist) - 1)\n",
        "    return alist\n",
        "\n",
        "\n",
        "def quickSortHelper(alist, first, last):\n",
        "    if first < last:\n",
        "\n",
        "        splitpoint = partition(alist, first, last)\n",
        "\n",
        "        quickSortHelper(alist, first, splitpoint - 1)\n",
        "        quickSortHelper(alist, splitpoint + 1, last)\n",
        "\n",
        "\n",
        "def partition(alist, first, last):\n",
        "    pivotvalue = alist[first]\n",
        "\n",
        "    leftmark = first + 1\n",
        "    rightmark = last\n",
        "\n",
        "    done = False\n",
        "    while not done:\n",
        "\n",
        "        while leftmark <= rightmark and alist[leftmark] <= pivotvalue:\n",
        "            leftmark = leftmark + 1\n",
        "\n",
        "        while alist[rightmark] >= pivotvalue and rightmark >= leftmark:\n",
        "            rightmark = rightmark - 1\n",
        "\n",
        "        if rightmark < leftmark:\n",
        "            done = True\n",
        "        else:\n",
        "            temp = alist[leftmark]\n",
        "            alist[leftmark] = alist[rightmark]\n",
        "            alist[rightmark] = temp\n",
        "\n",
        "    temp = alist[first]\n",
        "    alist[first] = alist[rightmark]\n",
        "    alist[rightmark] = temp\n",
        "\n",
        "    return rightmark\n",
        "\n",
        "\n",
        "alist = [54, 26, 93, 17, 77, 31, 44, 55, 20]\n",
        "sorted_list = quickSort(alist)  # in place sort!\n",
        "print(alist)"
      ]
    },
    {
      "cell_type": "code",
      "source": [
        "sorted_list"
      ],
      "metadata": {
        "colab": {
          "base_uri": "https://localhost:8080/"
        },
        "id": "rL6Srt0QY-FU",
        "outputId": "237d619c-f891-4cb1-8ef0-c80b13c30061"
      },
      "execution_count": 102,
      "outputs": [
        {
          "output_type": "execute_result",
          "data": {
            "text/plain": [
              "[17, 20, 26, 31, 44, 54, 55, 77, 93]"
            ]
          },
          "metadata": {},
          "execution_count": 102
        }
      ]
    },
    {
      "cell_type": "code",
      "source": [
        "%%timeit\n",
        "quickSort(rand1000)"
      ],
      "metadata": {
        "colab": {
          "base_uri": "https://localhost:8080/"
        },
        "id": "jPL4hLRuZAfc",
        "outputId": "0cbcd097-1563-4187-9d15-909169f0344e"
      },
      "execution_count": 105,
      "outputs": [
        {
          "output_type": "stream",
          "name": "stdout",
          "text": [
            "100 loops, best of 5: 2.72 ms per loop\n"
          ]
        }
      ]
    },
    {
      "cell_type": "code",
      "source": [
        "%%timeit\n",
        "quickSort(rand10000)"
      ],
      "metadata": {
        "colab": {
          "base_uri": "https://localhost:8080/"
        },
        "id": "B5oDibmZZLVq",
        "outputId": "68510a1b-7815-4590-d576-58b899c4277f"
      },
      "execution_count": 106,
      "outputs": [
        {
          "output_type": "stream",
          "name": "stdout",
          "text": [
            "10 loops, best of 5: 36.1 ms per loop\n"
          ]
        }
      ]
    },
    {
      "cell_type": "code",
      "source": [
        "%%timeit\n",
        "quickSort(rand100000)"
      ],
      "metadata": {
        "colab": {
          "base_uri": "https://localhost:8080/"
        },
        "id": "cDLlUolIZO5b",
        "outputId": "483f229b-b834-4dc9-bc4f-67cd58448f87"
      },
      "execution_count": 107,
      "outputs": [
        {
          "output_type": "stream",
          "name": "stdout",
          "text": [
            "1 loop, best of 5: 475 ms per loop\n"
          ]
        }
      ]
    },
    {
      "cell_type": "code",
      "source": [
        "%%timeit\n",
        "quickSort(rand1M)"
      ],
      "metadata": {
        "colab": {
          "base_uri": "https://localhost:8080/"
        },
        "id": "DTzAtQdHZWoN",
        "outputId": "f64fceaf-bf3a-4f9f-aac2-90ca2a8cd24f"
      },
      "execution_count": 110,
      "outputs": [
        {
          "output_type": "stream",
          "name": "stdout",
          "text": [
            "1 loop, best of 5: 6.23 s per loop\n"
          ]
        }
      ]
    },
    {
      "cell_type": "code",
      "source": [
        "%%timeit\n",
        "sorted(rand1M)"
      ],
      "metadata": {
        "colab": {
          "base_uri": "https://localhost:8080/"
        },
        "id": "ApAn_dBhaDCi",
        "outputId": "e6097e2c-4853-4d20-b2bd-5aabb89c2824"
      },
      "execution_count": 111,
      "outputs": [
        {
          "output_type": "stream",
          "name": "stdout",
          "text": [
            "1 loop, best of 5: 377 ms per loop\n"
          ]
        }
      ]
    },
    {
      "cell_type": "code",
      "source": [
        "%%timeit\n",
        "sorted(rand100000)"
      ],
      "metadata": {
        "colab": {
          "base_uri": "https://localhost:8080/"
        },
        "id": "Z5Y35JYiaJMy",
        "outputId": "6487bf5e-1d85-414a-c4bc-d33ad2eb3205"
      },
      "execution_count": 112,
      "outputs": [
        {
          "output_type": "stream",
          "name": "stdout",
          "text": [
            "10 loops, best of 5: 23.7 ms per loop\n"
          ]
        }
      ]
    },
    {
      "cell_type": "markdown",
      "source": [
        "# Heap Sort"
      ],
      "metadata": {
        "id": "uxViusBSayxB"
      }
    },
    {
      "cell_type": "code",
      "source": [
        "# Idea for heap sort is to use selection sort as a basis\n",
        "# but we use a data structure such as heap to get min (or max) values out of the heap"
      ],
      "metadata": {
        "id": "xOvLANnrby2K"
      },
      "execution_count": null,
      "outputs": []
    },
    {
      "cell_type": "code",
      "source": [
        "import heapq"
      ],
      "metadata": {
        "id": "yC0Z5N8gdBJt"
      },
      "execution_count": 138,
      "outputs": []
    },
    {
      "cell_type": "code",
      "source": [
        "# https://docs.python.org/3/library/heapq.html\n",
        "def heapsort(iterable):  #out of place sort here\n",
        "  h = []\n",
        "  for value in iterable: # so n times where n is number of items in iterable\n",
        "    heapq.heappush(h, value)  # so  heappush takes log n time\n",
        "  return [heapq.heappop(h) for i in range(len(h))]  # here n times and pop again is log n operation"
      ],
      "metadata": {
        "id": "H13H6vkRco5B"
      },
      "execution_count": 139,
      "outputs": []
    },
    {
      "cell_type": "code",
      "source": [
        "rand9"
      ],
      "metadata": {
        "colab": {
          "base_uri": "https://localhost:8080/"
        },
        "id": "S7DmbZq4dMvm",
        "outputId": "fe8f80c6-fe54-4499-89b0-96a77af21a8a"
      },
      "execution_count": 117,
      "outputs": [
        {
          "output_type": "execute_result",
          "data": {
            "text/plain": [
              "[974, 668, 287, 708, 850, 237, 112, 131, 338]"
            ]
          },
          "metadata": {},
          "execution_count": 117
        }
      ]
    },
    {
      "cell_type": "code",
      "source": [
        "heapsort(rand9)"
      ],
      "metadata": {
        "colab": {
          "base_uri": "https://localhost:8080/"
        },
        "id": "PbH8aegMdFIS",
        "outputId": "fe63884f-f4b7-4c0c-efbf-a784bc090cd1"
      },
      "execution_count": 116,
      "outputs": [
        {
          "output_type": "execute_result",
          "data": {
            "text/plain": [
              "[112, 131, 237, 287, 338, 668, 708, 850, 974]"
            ]
          },
          "metadata": {},
          "execution_count": 116
        }
      ]
    },
    {
      "cell_type": "code",
      "source": [
        "%%timeit\n",
        "heapsort(rand100000)"
      ],
      "metadata": {
        "colab": {
          "base_uri": "https://localhost:8080/"
        },
        "id": "-3MvIv_WdR9R",
        "outputId": "6ff4d32c-a0e4-45a3-cbc8-eff295c85fbb"
      },
      "execution_count": 118,
      "outputs": [
        {
          "output_type": "stream",
          "name": "stdout",
          "text": [
            "10 loops, best of 5: 108 ms per loop\n"
          ]
        }
      ]
    },
    {
      "cell_type": "code",
      "source": [
        "%%timeit\n",
        "heapsort(rand1M)"
      ],
      "metadata": {
        "id": "JR-eTBGtfG_5",
        "outputId": "1777e795-0c50-4661-9832-8ec73a5df17c",
        "colab": {
          "base_uri": "https://localhost:8080/"
        }
      },
      "execution_count": 119,
      "outputs": [
        {
          "output_type": "stream",
          "name": "stdout",
          "text": [
            "1 loop, best of 5: 2.31 s per loop\n"
          ]
        }
      ]
    },
    {
      "cell_type": "code",
      "source": [
        "# Stable sorts and unstable sorts"
      ],
      "metadata": {
        "id": "kKS3JavzgWvq"
      },
      "execution_count": 121,
      "outputs": []
    },
    {
      "cell_type": "code",
      "source": [
        "my_tuples = [(c, random.randint(1,10)) for c in \"Riga Technical University\"]\n",
        "my_tuples"
      ],
      "metadata": {
        "id": "3PVTsg_Jf94u",
        "outputId": "0bc4a94d-71b4-4c5b-8468-cfbfb8d0272a",
        "colab": {
          "base_uri": "https://localhost:8080/"
        }
      },
      "execution_count": 120,
      "outputs": [
        {
          "output_type": "execute_result",
          "data": {
            "text/plain": [
              "[('R', 1),\n",
              " ('i', 1),\n",
              " ('g', 8),\n",
              " ('a', 2),\n",
              " (' ', 9),\n",
              " ('T', 10),\n",
              " ('e', 10),\n",
              " ('c', 10),\n",
              " ('h', 8),\n",
              " ('n', 3),\n",
              " ('i', 3),\n",
              " ('c', 3),\n",
              " ('a', 5),\n",
              " ('l', 6),\n",
              " (' ', 3),\n",
              " ('U', 2),\n",
              " ('n', 3),\n",
              " ('i', 5),\n",
              " ('v', 9),\n",
              " ('e', 1),\n",
              " ('r', 3),\n",
              " ('s', 3),\n",
              " ('i', 5),\n",
              " ('t', 9),\n",
              " ('y', 3)]"
            ]
          },
          "metadata": {},
          "execution_count": 120
        }
      ]
    },
    {
      "cell_type": "code",
      "source": [
        "sorted(my_tuples) # this sorts by the first part of tuple the alphabethical, lexicographical key - ASCII codes\n",
        "# https://www.asciitable.com/"
      ],
      "metadata": {
        "id": "TrMPcksfgZcX",
        "outputId": "1658e1ec-4ed7-430c-ea9b-ddddb6929a68",
        "colab": {
          "base_uri": "https://localhost:8080/"
        }
      },
      "execution_count": 122,
      "outputs": [
        {
          "output_type": "execute_result",
          "data": {
            "text/plain": [
              "[(' ', 3),\n",
              " (' ', 9),\n",
              " ('R', 1),\n",
              " ('T', 10),\n",
              " ('U', 2),\n",
              " ('a', 2),\n",
              " ('a', 5),\n",
              " ('c', 3),\n",
              " ('c', 10),\n",
              " ('e', 1),\n",
              " ('e', 10),\n",
              " ('g', 8),\n",
              " ('h', 8),\n",
              " ('i', 1),\n",
              " ('i', 3),\n",
              " ('i', 5),\n",
              " ('i', 5),\n",
              " ('l', 6),\n",
              " ('n', 3),\n",
              " ('n', 3),\n",
              " ('r', 3),\n",
              " ('s', 3),\n",
              " ('t', 9),\n",
              " ('v', 9),\n",
              " ('y', 3)]"
            ]
          },
          "metadata": {},
          "execution_count": 122
        }
      ]
    },
    {
      "cell_type": "code",
      "source": [
        "sorted(my_tuples,  = lambda element: element[1]) # so our key is going to be 2nd item, by passing a selection function"
      ],
      "metadata": {
        "id": "QZvm_lp4gqe3",
        "outputId": "f3ff66b3-e95a-44e6-893d-80120fd27e7d",
        "colab": {
          "base_uri": "https://localhost:8080/"
        }
      },
      "execution_count": 123,
      "outputs": [
        {
          "output_type": "execute_result",
          "data": {
            "text/plain": [
              "[('R', 1),\n",
              " ('i', 1),\n",
              " ('e', 1),\n",
              " ('a', 2),\n",
              " ('U', 2),\n",
              " ('n', 3),\n",
              " ('i', 3),\n",
              " ('c', 3),\n",
              " (' ', 3),\n",
              " ('n', 3),\n",
              " ('r', 3),\n",
              " ('s', 3),\n",
              " ('y', 3),\n",
              " ('a', 5),\n",
              " ('i', 5),\n",
              " ('i', 5),\n",
              " ('l', 6),\n",
              " ('g', 8),\n",
              " ('h', 8),\n",
              " (' ', 9),\n",
              " ('v', 9),\n",
              " ('t', 9),\n",
              " ('T', 10),\n",
              " ('e', 10),\n",
              " ('c', 10)]"
            ]
          },
          "metadata": {},
          "execution_count": 123
        }
      ]
    },
    {
      "cell_type": "code",
      "source": [
        "# so Python famous timsort is stable - the order of items with same key does not change\n",
        "# https://en.wikipedia.org/wiki/Timsort - basically insertion for small sequences and merge for bigger, highly optimized"
      ],
      "metadata": {
        "id": "pH1D7w4shII5"
      },
      "execution_count": null,
      "outputs": []
    },
    {
      "cell_type": "markdown",
      "source": [
        "# Counting Sort\n",
        "Can we do better than O(n logn) time?"
      ],
      "metadata": {
        "id": "DzVC585Fh4Hu"
      }
    },
    {
      "cell_type": "code",
      "source": [
        "# if we have specific data we can\n",
        "# one place where counting sort could be useful could be if we have to sort many numbers over a limited range\n"
      ],
      "metadata": {
        "id": "c8c8tGaSiAZd"
      },
      "execution_count": null,
      "outputs": []
    },
    {
      "cell_type": "code",
      "source": [
        "def countingSort(seq, buckets=10):\n",
        "  # TODO maybe optimize it a bit\n",
        "  blist = [0] * buckets  # need our counters\n",
        "  for n in seq:\n",
        "    blist[n] +=1\n",
        "  result = []\n",
        "  # we make a new list out of our results\n",
        "  for n, bucket in enumerate(blist):\n",
        "    if bucket:\n",
        "      # result.append([n] * bucket)\n",
        "      result += [n] * bucket  # this might not be efficient\n",
        "  return result"
      ],
      "metadata": {
        "id": "6mDXAB30iSFy"
      },
      "execution_count": 133,
      "outputs": []
    },
    {
      "cell_type": "code",
      "source": [
        "dice = [random.randint(1,6) for _ in  range(20)]\n",
        "dice"
      ],
      "metadata": {
        "id": "9STSI1i6hzgB",
        "outputId": "3097f3e9-3423-400a-ad7f-62f8463b699c",
        "colab": {
          "base_uri": "https://localhost:8080/"
        }
      },
      "execution_count": 128,
      "outputs": [
        {
          "output_type": "execute_result",
          "data": {
            "text/plain": [
              "[3, 6, 2, 6, 1, 1, 5, 3, 6, 4, 6, 1, 3, 3, 4, 4, 4, 3, 1, 2]"
            ]
          },
          "metadata": {},
          "execution_count": 128
        }
      ]
    },
    {
      "cell_type": "code",
      "source": [
        "sorted(dice)"
      ],
      "metadata": {
        "id": "eRwG_f7vjNM4",
        "outputId": "89b60ed6-2125-4aad-b9a2-9c247f19bc49",
        "colab": {
          "base_uri": "https://localhost:8080/"
        }
      },
      "execution_count": 129,
      "outputs": [
        {
          "output_type": "execute_result",
          "data": {
            "text/plain": [
              "[1, 1, 1, 1, 2, 2, 3, 3, 3, 3, 3, 4, 4, 4, 4, 5, 6, 6, 6, 6]"
            ]
          },
          "metadata": {},
          "execution_count": 129
        }
      ]
    },
    {
      "cell_type": "code",
      "source": [
        "countingSort(dice)"
      ],
      "metadata": {
        "id": "k8FjmUb8jPK4",
        "outputId": "44573ec5-53f3-4ac2-e514-84d934e83742",
        "colab": {
          "base_uri": "https://localhost:8080/"
        }
      },
      "execution_count": 134,
      "outputs": [
        {
          "output_type": "execute_result",
          "data": {
            "text/plain": [
              "[1, 1, 1, 1, 2, 2, 3, 3, 3, 3, 3, 4, 4, 4, 4, 5, 6, 6, 6, 6]"
            ]
          },
          "metadata": {},
          "execution_count": 134
        }
      ]
    },
    {
      "cell_type": "code",
      "source": [
        "magic_dice_100k = [random.randint(1,20) for _ in  range(100_000)]\n",
        "magic_dice_100k[:5]"
      ],
      "metadata": {
        "id": "pIMMhBEUkr0d",
        "outputId": "4b8f4ecd-a833-442a-d777-1f86b271c987",
        "colab": {
          "base_uri": "https://localhost:8080/"
        }
      },
      "execution_count": 143,
      "outputs": [
        {
          "output_type": "execute_result",
          "data": {
            "text/plain": [
              "[7, 13, 6, 20, 9]"
            ]
          },
          "metadata": {},
          "execution_count": 143
        }
      ]
    },
    {
      "cell_type": "code",
      "source": [
        "%%timeit\n",
        "sorted(magic_dice_100k)"
      ],
      "metadata": {
        "id": "N1FeSZV9lBUt",
        "outputId": "6ffdb900-ea7c-483c-c889-9df95f210499",
        "colab": {
          "base_uri": "https://localhost:8080/"
        }
      },
      "execution_count": 144,
      "outputs": [
        {
          "output_type": "stream",
          "name": "stdout",
          "text": [
            "100 loops, best of 5: 10.6 ms per loop\n"
          ]
        }
      ]
    },
    {
      "cell_type": "code",
      "source": [
        "sorted_magic = countingSort(magic_dice_100k, buckets=21)\n",
        "sorted_magic[:5]"
      ],
      "metadata": {
        "id": "Txv8Jomilb23",
        "outputId": "14bac068-036e-4ae8-a814-95453737bc1b",
        "colab": {
          "base_uri": "https://localhost:8080/"
        }
      },
      "execution_count": 141,
      "outputs": [
        {
          "output_type": "execute_result",
          "data": {
            "text/plain": [
              "[1, 1, 1, 1, 1]"
            ]
          },
          "metadata": {},
          "execution_count": 141
        }
      ]
    },
    {
      "cell_type": "code",
      "source": [
        "%%timeit\n",
        "countingSort(magic_dice_100k, buckets=21) # i need extra bucket since I am not using 0"
      ],
      "metadata": {
        "id": "-vXT_jeMlF8q",
        "outputId": "21427b63-13da-4baa-b18c-4bb34e6ea3e7",
        "colab": {
          "base_uri": "https://localhost:8080/"
        }
      },
      "execution_count": 145,
      "outputs": [
        {
          "output_type": "stream",
          "name": "stdout",
          "text": [
            "100 loops, best of 5: 11.2 ms per loop\n"
          ]
        }
      ]
    },
    {
      "cell_type": "code",
      "source": [
        "magic_dice_1M = [random.randint(1,20) for _ in  range(1_000_000)]\n",
        "magic_dice_1M[:5]"
      ],
      "metadata": {
        "id": "BQYTzQzklrl_",
        "outputId": "37c85442-6097-4031-9ca6-32239cf9dd78",
        "colab": {
          "base_uri": "https://localhost:8080/"
        }
      },
      "execution_count": 146,
      "outputs": [
        {
          "output_type": "execute_result",
          "data": {
            "text/plain": [
              "[13, 17, 6, 4, 5]"
            ]
          },
          "metadata": {},
          "execution_count": 146
        }
      ]
    },
    {
      "cell_type": "code",
      "source": [
        "min(magic_dice_1M),max(magic_dice_1M)"
      ],
      "metadata": {
        "id": "ieAvR3ktk39i",
        "outputId": "ddd8ea54-862a-4150-cd16-afb7a1b63e50",
        "colab": {
          "base_uri": "https://localhost:8080/"
        }
      },
      "execution_count": 147,
      "outputs": [
        {
          "output_type": "execute_result",
          "data": {
            "text/plain": [
              "(1, 20)"
            ]
          },
          "metadata": {},
          "execution_count": 147
        }
      ]
    },
    {
      "cell_type": "code",
      "source": [
        "%%timeit\n",
        "sorted(magic_dice_1M)"
      ],
      "metadata": {
        "id": "bEebN3nemKL8",
        "outputId": "515beee1-f70f-4747-e7b0-3abc0ff449bc",
        "colab": {
          "base_uri": "https://localhost:8080/"
        }
      },
      "execution_count": 148,
      "outputs": [
        {
          "output_type": "stream",
          "name": "stdout",
          "text": [
            "10 loops, best of 5: 110 ms per loop\n"
          ]
        }
      ]
    },
    {
      "cell_type": "code",
      "source": [
        "%%timeit\n",
        "countingSort(magic_dice_1M, buckets=21)"
      ],
      "metadata": {
        "id": "iij5mkyLmQzv",
        "outputId": "66cbb6c9-fba8-4487-9bed-f44ac31a3891",
        "colab": {
          "base_uri": "https://localhost:8080/"
        }
      },
      "execution_count": 149,
      "outputs": [
        {
          "output_type": "stream",
          "name": "stdout",
          "text": [
            "10 loops, best of 5: 117 ms per loop\n"
          ]
        }
      ]
    },
    {
      "cell_type": "code",
      "source": [
        "# so only problem is that we need a specificed number of buckets ahead of time\n",
        "# it will not be very efficienct if we need 2 billion buckets in a sparse array\n",
        "# but good for sorting lists/arrays with many duplicates"
      ],
      "metadata": {
        "id": "r2NYX_x9jspz"
      },
      "execution_count": null,
      "outputs": []
    },
    {
      "cell_type": "code",
      "source": [
        "# there is also radix sort and generic bucket sort which are similar to counting sort\n",
        "# https://en.wikipedia.org/wiki/Bucket_sort\n",
        "# https://en.wikipedia.org/wiki/Radix_sort - bucket sort by digits\n",
        "\n",
        "# all three share in common the fact that they are NON comparison sorts - that is how we get theortical linearity"
      ],
      "metadata": {
        "id": "7I6radIzmglI"
      },
      "execution_count": null,
      "outputs": []
    },
    {
      "cell_type": "markdown",
      "source": [
        "# # Quad Sort new sort ?\n"
      ],
      "metadata": {
        "id": "6itr9IAXoWRt"
      }
    },
    {
      "cell_type": "code",
      "source": [
        "# Quad Sort\n",
        "https://github.com/scandum/quadsort"
      ],
      "metadata": {
        "id": "BG8Egq2poSVB"
      },
      "execution_count": null,
      "outputs": []
    },
    {
      "cell_type": "markdown",
      "metadata": {
        "id": "NBGlYiqP3tsr"
      },
      "source": [
        "# References and useful links:"
      ]
    },
    {
      "cell_type": "markdown",
      "metadata": {
        "id": "R1WXGqmE3tsr"
      },
      "source": [
        "* Visualization of these concepst : https://visualgo.net/en\n"
      ]
    },
    {
      "cell_type": "code",
      "execution_count": null,
      "metadata": {
        "id": "LDwXLhsR3tsr"
      },
      "outputs": [],
      "source": [
        "\n"
      ]
    }
  ],
  "metadata": {
    "kernelspec": {
      "display_name": "Python 3",
      "language": "python",
      "name": "python3"
    },
    "language_info": {
      "codemirror_mode": {
        "name": "ipython",
        "version": 3
      },
      "file_extension": ".py",
      "mimetype": "text/x-python",
      "name": "python",
      "nbconvert_exporter": "python",
      "pygments_lexer": "ipython3",
      "version": "3.8.3"
    },
    "toc": {
      "nav_menu": {},
      "number_sections": true,
      "sideBar": true,
      "skip_h1_title": false,
      "toc_cell": true,
      "toc_position": {},
      "toc_section_display": "none",
      "toc_window_display": false
    },
    "colab": {
      "name": "03-sorting-introduction.ipynb",
      "provenance": []
    }
  },
  "nbformat": 4,
  "nbformat_minor": 0
}