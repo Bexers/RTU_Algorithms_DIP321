{
  "cells": [
    {
      "cell_type": "markdown",
      "metadata": {
        "id": "ahKI6eBc5rgk"
      },
      "source": [
        "![Graph](https://www.geeksforgeeks.org/wp-content/uploads/Fig-11.jpg)"
      ]
    },
    {
      "cell_type": "code",
      "execution_count": 1,
      "metadata": {
        "colab": {
          "base_uri": "https://localhost:8080/"
        },
        "id": "oKiZ68Oq5rgn",
        "outputId": "c90fc8c9-ece6-402d-abac-43906639cb92"
      },
      "outputs": [
        {
          "name": "stdout",
          "output_type": "stream",
          "text": [
            "Vertex \tDistance from Source\n",
            "0 \t 0\n",
            "1 \t 4\n",
            "2 \t 12\n",
            "3 \t 19\n",
            "4 \t 21\n",
            "5 \t 11\n",
            "6 \t 9\n",
            "7 \t 8\n",
            "8 \t 14\n"
          ]
        }
      ],
      "source": [
        "# Python program for Dijkstra's single\n",
        "# source shortest path algorithm. The program is\n",
        "# for adjacency matrix representation of the graph\n",
        " \n",
        "# Library for INT_MAX - we will use INT_MAX to represent positive infinity\n",
        "import sys\n",
        " \n",
        "class Graph():\n",
        " \n",
        "    def __init__(self, vertices):\n",
        "        self.V = vertices\n",
        "        self.graph = [[0 for column in range(vertices)]\n",
        "                    for row in range(vertices)]\n",
        " \n",
        "    def printSolution(self, dist):\n",
        "        print(\"Vertex \\tDistance from Source\")\n",
        "        for node in range(self.V):\n",
        "            print(node, \"\\t\", dist[node])\n",
        " \n",
        "    # A utility function to find the vertex with\n",
        "    # minimum distance value, from the set of vertices\n",
        "    # not yet included in shortest path tree\n",
        "    def minDistance(self, dist, sptSet):\n",
        " \n",
        "        # Initialize minimum distance for next node\n",
        "        min = sys.maxsize\n",
        " \n",
        "        # Search not nearest vertex not in the\n",
        "        # shortest path tree\n",
        "        for u in range(self.V):\n",
        "            if dist[u] < min and sptSet[u] == False:\n",
        "                min = dist[u]\n",
        "                min_index = u\n",
        " \n",
        "        return min_index\n",
        " \n",
        "    # Function that implements Dijkstra's single source\n",
        "    # shortest path algorithm for a graph represented\n",
        "    # using adjacency matrix representation\n",
        "    def dijkstra(self, src):\n",
        " \n",
        "        dist = [sys.maxsize] * self.V # so all vertices are initially at infinite distance from the source\n",
        "        dist[src] = 0 # source to itself is 0\n",
        "        sptSet = [False] * self.V # initially no vertices are included in the shortest path tree\n",
        " \n",
        "        for cout in range(self.V): # so O(n) time complexity\n",
        " \n",
        "            # Pick the minimum distance vertex from\n",
        "            # the set of vertices not yet processed.\n",
        "            # x is always equal to src in first iteration\n",
        "            x = self.minDistance(dist, sptSet) # so O(n) time complexity again so O(n^2) time complexity in total\n",
        "            # in this case n is actually |V| so O(|V|^2) time complexity\n",
        "\n",
        "            # Put the minimum distance vertex in the\n",
        "            # shortest path tree\n",
        "            sptSet[x] = True\n",
        " \n",
        "            # Update dist value of the adjacent/neighbor vertices of our current vertex\n",
        "            # of the picked vertex only if the current\n",
        "            # distance is greater than new distance and\n",
        "            # the vertex in not in the shortest path tree\n",
        "            for y in range(self.V):\n",
        "                if self.graph[x][y] > 0 and sptSet[y] == False and \\\n",
        "                dist[y] > dist[x] + self.graph[x][y]: # this means we found a shorter path\n",
        "                        dist[y] = dist[x] + self.graph[x][y]\n",
        " \n",
        "        self.printSolution(dist)\n",
        " \n",
        "# Driver program\n",
        "g = Graph(9)\n",
        "# we are going to assign values directly to the graph matrix\n",
        "g.graph = [[0, 4, 0, 0, 0, 0, 0, 8, 0],\n",
        "        [4, 0, 8, 0, 0, 0, 0, 11, 0],\n",
        "        [0, 8, 0, 7, 0, 4, 0, 0, 2],\n",
        "        [0, 0, 7, 0, 9, 14, 0, 0, 0],\n",
        "        [0, 0, 0, 9, 0, 10, 0, 0, 0],\n",
        "        [0, 0, 4, 14, 10, 0, 2, 0, 0],\n",
        "        [0, 0, 0, 0, 0, 2, 0, 1, 6],\n",
        "        [8, 11, 0, 0, 0, 0, 1, 0, 7],\n",
        "        [0, 0, 2, 0, 0, 0, 6, 7, 0]\n",
        "        ];\n",
        "\n",
        "# let's solve it for the first vertex - 0\n",
        "g.dijkstra(0);\n",
        " \n",
        "# This code is contributed by Divyanshu Mehta and Updated by Pranav Singh Sambyal and Valdis Saulespurens"
      ]
    },
    {
      "cell_type": "code",
      "execution_count": null,
      "metadata": {
        "id": "N-zm67Ow5rgp",
        "outputId": "6fc913d1-7ed0-42ab-93f9-da3d1ba0e14b"
      },
      "outputs": [
        {
          "data": {
            "text/plain": [
              "9223372036854775807"
            ]
          },
          "execution_count": 2,
          "metadata": {},
          "output_type": "execute_result"
        }
      ],
      "source": [
        "sys.maxsize # 64bit signed infinity :)"
      ]
    },
    {
      "cell_type": "code",
      "execution_count": null,
      "metadata": {
        "id": "6nMNuAAZ5rgq",
        "outputId": "3a0c5a93-b06f-4a14-977e-477ee0c6fae6"
      },
      "outputs": [
        {
          "data": {
            "text/plain": [
              "9223372036854775808"
            ]
          },
          "execution_count": 3,
          "metadata": {},
          "output_type": "execute_result"
        }
      ],
      "source": [
        "2**63"
      ]
    },
    {
      "cell_type": "code",
      "execution_count": 2,
      "metadata": {
        "colab": {
          "base_uri": "https://localhost:8080/"
        },
        "id": "4-Zh_W645rgr",
        "outputId": "9fcc88b0-29b6-440f-9fe5-3d1e52e896ed"
      },
      "outputs": [
        {
          "name": "stdout",
          "output_type": "stream",
          "text": [
            "Vertex \tDistance from Source\n",
            "0 \t 11\n",
            "1 \t 12\n",
            "2 \t 4\n",
            "3 \t 11\n",
            "4 \t 10\n",
            "5 \t 0\n",
            "6 \t 2\n",
            "7 \t 3\n",
            "8 \t 6\n"
          ]
        }
      ],
      "source": [
        "    # Driver program\n",
        "g = Graph(9)\n",
        "g.graph =   [[0, 4, 0, 0, 0, 0, 0, 8, 0],\n",
        "            [4, 0, 8, 0, 0, 0, 0, 11, 0],\n",
        "            [0, 8, 0, 7, 0, 4, 0, 0, 2],\n",
        "            [0, 0, 7, 0, 9, 14, 0, 0, 0],\n",
        "            [0, 0, 0, 9, 0, 10, 0, 0, 0],\n",
        "            [0, 0, 4, 14, 10, 0, 2, 0, 0],\n",
        "            [0, 0, 0, 0, 0, 2, 0, 1, 6],\n",
        "            [8, 11, 0, 0, 0, 0, 1, 0, 7],\n",
        "            [0, 0, 2, 0, 0, 0, 6, 7, 0]\n",
        "        ];\n",
        "  \n",
        "g.dijkstra(5);"
      ]
    },
    {
      "cell_type": "code",
      "execution_count": null,
      "metadata": {
        "id": "EPdxewCH5rgr",
        "outputId": "98b48fe3-bdbe-411e-ab30-7d03084c16ad"
      },
      "outputs": [
        {
          "name": "stdout",
          "output_type": "stream",
          "text": [
            "Vertex \tDistance from Source\n",
            "0 \t 21\n",
            "1 \t 22\n",
            "2 \t 14\n",
            "3 \t 9\n",
            "4 \t 0\n",
            "5 \t 10\n",
            "6 \t 12\n",
            "7 \t 13\n",
            "8 \t 16\n"
          ]
        }
      ],
      "source": [
        "g.dijkstra(4)"
      ]
    },
    {
      "cell_type": "markdown",
      "metadata": {},
      "source": [
        "## External Library"
      ]
    },
    {
      "cell_type": "code",
      "execution_count": 3,
      "metadata": {
        "id": "GV4zz2jl5rgs"
      },
      "outputs": [],
      "source": [
        "import networkx as nx  # networkx is a graph library, contains many graph algorithms\n",
        "# install it using pip install networkx\n",
        "# URL to the documentation: https://networkx.org/documentation/stable/index.html\n",
        "G = nx.Graph()"
      ]
    },
    {
      "cell_type": "code",
      "execution_count": 4,
      "metadata": {},
      "outputs": [
        {
          "data": {
            "text/plain": [
              "'3.2.1'"
            ]
          },
          "execution_count": 4,
          "metadata": {},
          "output_type": "execute_result"
        }
      ],
      "source": [
        "# check version\n",
        "nx.__version__"
      ]
    },
    {
      "cell_type": "code",
      "execution_count": 5,
      "metadata": {
        "id": "pZq7FKPk5rgs"
      },
      "outputs": [],
      "source": [
        "import matplotlib.pyplot as plt # universal plotting library\n"
      ]
    },
    {
      "cell_type": "code",
      "execution_count": null,
      "metadata": {
        "id": "W4UcWIxq5rgt"
      },
      "outputs": [],
      "source": [
        "G = nx.petersen_graph()\n",
        "# petersen graph is a graph with 10 vertices and 15 edges\n",
        "# URL at wiki: https://en.wikipedia.org/wiki/Petersen_graph"
      ]
    },
    {
      "cell_type": "code",
      "execution_count": 7,
      "metadata": {
        "id": "oW7EbUk45rgt",
        "outputId": "eba19a02-27d0-4814-d0dd-9c6b9d1d5113"
      },
      "outputs": [
        {
          "data": {
            "image/png": "[encoded data removed]",
            "text/plain": [
              "<Figure size 640x480 with 2 Axes>"
            ]
          },
          "metadata": {},
          "output_type": "display_data"
        }
      ],
      "source": [
        "plt.subplot(121)\n",
        "nx.draw(G, with_labels=True, font_weight='bold')\n",
        "plt.subplot(122)\n",
        "nx.draw_shell(G, nlist=[range(5, 10), range(5)], with_labels=True, font_weight='bold')\n",
        "plt.show()\n"
      ]
    },
    {
      "cell_type": "markdown",
      "metadata": {},
      "source": [
        "## Dijkstra Algorithm"
      ]
    },
    {
      "cell_type": "markdown",
      "metadata": {
        "id": "dpLQHlDG5rgu"
      },
      "source": [
        "![Graph](https://www.geeksforgeeks.org/wp-content/uploads/Fig-11.jpg)"
      ]
    },
    {
      "cell_type": "code",
      "execution_count": 8,
      "metadata": {
        "id": "HSpih1Z15rgu",
        "outputId": "dda56ae9-d848-4e45-9570-4a1ab96e0400"
      },
      "outputs": [
        {
          "data": {
            "image/png": "[encoded data removed]",
            "text/plain": [
              "<Figure size 640x480 with 1 Axes>"
            ]
          },
          "metadata": {},
          "output_type": "display_data"
        }
      ],
      "source": [
        "G = nx.Graph()\n",
        "G.add_weighted_edges_from([(0,1,4),(0,7,8),(2,8,2),\n",
        "                           (7,6,1),(8,6,6),\n",
        "                           (6,5,2),(5,4,10),(7,8,7),\n",
        "                           (7,1,11),(1,2,8),(2,3,7),(2,5,4),(3,5,14),(4,3,9)])\n",
        "pos=nx.shell_layout(G)\n",
        "nx.draw(G, with_labels=True, font_weight='bold') \n",
        "edge_labels = nx.get_edge_attributes(G,'weight') # key is edge, pls check for your case\n",
        "formatted_edge_labels = {(elem[0],elem[1]):edge_labels[elem] for elem in edge_labels} # use this to modify the tuple keyed dict if it has > 2 elements, else ignore\n",
        "out = nx.draw_networkx_edge_labels(G,pos,edge_labels=formatted_edge_labels,font_color='red')"
      ]
    },
    {
      "cell_type": "code",
      "execution_count": null,
      "metadata": {
        "id": "9NZnevls5rgu",
        "outputId": "b734248f-944f-42c4-a538-8ea2a9df4313"
      },
      "outputs": [
        {
          "data": {
            "text/plain": [
              "dict"
            ]
          },
          "execution_count": 26,
          "metadata": {},
          "output_type": "execute_result"
        }
      ],
      "source": [
        "type(out)"
      ]
    },
    {
      "cell_type": "code",
      "execution_count": 9,
      "metadata": {
        "id": "nSxluf8W5rgv"
      },
      "outputs": [
        {
          "data": {
            "text/plain": [
              "({0: 0, 1: 4, 7: 8, 6: 9, 5: 11, 2: 12, 8: 14, 3: 19, 4: 21},\n",
              " {0: [0],\n",
              "  1: [0, 1],\n",
              "  7: [0, 7],\n",
              "  2: [0, 1, 2],\n",
              "  6: [0, 7, 6],\n",
              "  8: [0, 1, 2, 8],\n",
              "  5: [0, 7, 6, 5],\n",
              "  4: [0, 7, 6, 5, 4],\n",
              "  3: [0, 1, 2, 3]})"
            ]
          },
          "execution_count": 9,
          "metadata": {},
          "output_type": "execute_result"
        }
      ],
      "source": [
        "length, path = nx.single_source_dijkstra(G, 0)\n",
        "length,path"
      ]
    },
    {
      "cell_type": "code",
      "execution_count": 10,
      "metadata": {},
      "outputs": [
        {
          "data": {
            "image/png": "[encoded data removed]",
            "text/plain": [
              "<Figure size 640x480 with 1 Axes>"
            ]
          },
          "metadata": {},
          "output_type": "display_data"
        }
      ],
      "source": [
        "# let's check Petersen graph\n",
        "P = nx.petersen_graph()\n",
        "nx.draw(P, with_labels=True, font_weight='bold')"
      ]
    },
    {
      "cell_type": "code",
      "execution_count": 11,
      "metadata": {},
      "outputs": [
        {
          "data": {
            "text/plain": [
              "({0: 0, 1: 1, 4: 1, 5: 1, 2: 2, 6: 2, 3: 2, 9: 2, 7: 2, 8: 2},\n",
              " {0: [0],\n",
              "  1: [0, 1],\n",
              "  4: [0, 4],\n",
              "  5: [0, 5],\n",
              "  2: [0, 1, 2],\n",
              "  6: [0, 1, 6],\n",
              "  3: [0, 4, 3],\n",
              "  9: [0, 4, 9],\n",
              "  7: [0, 5, 7],\n",
              "  8: [0, 5, 8]})"
            ]
          },
          "execution_count": 11,
          "metadata": {},
          "output_type": "execute_result"
        }
      ],
      "source": [
        "# let's calculate shortest path from 0 to all other vertices\n",
        "length, path = nx.single_source_dijkstra(P, 0)\n",
        "length, path"
      ]
    },
    {
      "cell_type": "code",
      "execution_count": null,
      "metadata": {},
      "outputs": [],
      "source": [
        "# TODO to prove that Peterson graph has maximum diameter of 2, you would have solve it for all vertices\n",
        "# in effect you would have to find all pairs shortest paths - this can be with Dijkstra's algorithm\n",
        "# however there are more efficient algorithms for this - Floyd-Warshall algorithm - in networkx it is nx.floyd_warshall\n",
        "# we will cover it later"
      ]
    },
    {
      "cell_type": "code",
      "execution_count": null,
      "metadata": {
        "id": "PjsIoocP5rgv",
        "outputId": "8a3f5aa2-3239-447d-f998-51ac29aa472c"
      },
      "outputs": [
        {
          "data": {
            "text/plain": [
              "dict"
            ]
          },
          "execution_count": 14,
          "metadata": {},
          "output_type": "execute_result"
        }
      ],
      "source": [
        "type(length)"
      ]
    },
    {
      "cell_type": "code",
      "execution_count": null,
      "metadata": {
        "id": "RCbBsob65rgv",
        "outputId": "f618a309-42f0-4e68-f01e-de0fddbef20b"
      },
      "outputs": [
        {
          "data": {
            "text/plain": [
              "{0: 0, 1: 4, 7: 8, 6: 9, 5: 11, 2: 12, 8: 14, 3: 19, 4: 21}"
            ]
          },
          "execution_count": 15,
          "metadata": {},
          "output_type": "execute_result"
        }
      ],
      "source": [
        "length"
      ]
    },
    {
      "cell_type": "markdown",
      "metadata": {},
      "source": [
        "## Dijkstra Algorithm that remembers paths"
      ]
    },
    {
      "cell_type": "code",
      "execution_count": 12,
      "metadata": {},
      "outputs": [
        {
          "data": {
            "text/plain": [
              "([0, 4, 12, 19, 21, 11, 9, 8, 14], [None, 0, 1, 2, 5, 6, 7, 0, 2])"
            ]
          },
          "execution_count": 12,
          "metadata": {},
          "output_type": "execute_result"
        }
      ],
      "source": [
        "# let's implement Dijkstra algorithm that remembers the path\n",
        "# we will use new class DGraph \n",
        "# also we will use priority queue to speed up the algorithm\n",
        "\n",
        "import heapq # this is a data structure that is used to implement priority queue\n",
        "# URL to the documentation: https://docs.python.org/3/library/heapq.html\n",
        "\n",
        "class DGraph():\n",
        "    def __init__(self, vertices):\n",
        "        self.V = vertices\n",
        "        self.graph = {i:[] for i in range(vertices)}\n",
        "        \n",
        "    def add_edge(self, u, v, w):\n",
        "        self.graph[u].append((v,w))\n",
        "        self.graph[v].append((u,w))\n",
        "        \n",
        "    def dijkstra(self, src):\n",
        "        dist = [sys.maxsize] * self.V\n",
        "        dist[src] = 0\n",
        "        prev = [None] * self.V # used to store the path - previous vertex where we came from\n",
        "        pq = [(0, src)]\n",
        "        while pq:\n",
        "            d, u = heapq.heappop(pq) # on the first run we will have nothing in the heap after the first vertex\n",
        "            if d > dist[u]:\n",
        "                continue\n",
        "            for v, w in self.graph[u]:\n",
        "                if dist[v] > dist[u] + w:\n",
        "                    dist[v] = dist[u] + w\n",
        "                    prev[v] = u\n",
        "                    heapq.heappush(pq, (dist[v], v))  # this is logn operation\n",
        "        return dist, prev\n",
        "    \n",
        "# let's test it\n",
        "\n",
        "g = DGraph(9)\n",
        "g.add_edge(0, 1, 4)\n",
        "g.add_edge(0, 7, 8)\n",
        "g.add_edge(1, 2, 8)\n",
        "g.add_edge(1, 7, 11)\n",
        "g.add_edge(2, 3, 7)\n",
        "g.add_edge(2, 8, 2)\n",
        "g.add_edge(2, 5, 4)\n",
        "g.add_edge(3, 4, 9)\n",
        "g.add_edge(3, 5, 14)\n",
        "g.add_edge(4, 5, 10)\n",
        "g.add_edge(5, 6, 2)\n",
        "g.add_edge(6, 7, 1)\n",
        "g.add_edge(6, 8, 6)\n",
        "g.add_edge(7, 8, 7)\n",
        "\n",
        "dist, prev = g.dijkstra(0)\n",
        "dist, prev"
      ]
    },
    {
      "cell_type": "code",
      "execution_count": 13,
      "metadata": {},
      "outputs": [
        {
          "name": "stdout",
          "output_type": "stream",
          "text": [
            "0 7 6 5 4 "
          ]
        }
      ],
      "source": [
        "# TODO add print path given prev list\n",
        "\n",
        "# let's test it\n",
        "def print_path(prev, u):\n",
        "    if prev[u] is not None: # base case is None when we reach our src vertex\n",
        "        print_path(prev, prev[u]) # recursive solution\n",
        "    print(u, end=' ')\n",
        "\n",
        "print_path(prev, 4)"
      ]
    }
  ],
  "metadata": {
    "colab": {
      "name": "Dijkstra's Algorithm.ipynb",
      "provenance": []
    },
    "kernelspec": {
      "display_name": "Python 3",
      "language": "python",
      "name": "python3"
    },
    "language_info": {
      "codemirror_mode": {
        "name": "ipython",
        "version": 3
      },
      "file_extension": ".py",
      "mimetype": "text/x-python",
      "name": "python",
      "nbconvert_exporter": "python",
      "pygments_lexer": "ipython3",
      "version": "3.11.4"
    }
  },
  "nbformat": 4,
  "nbformat_minor": 0
}
