{
 "cells": [
  {
   "cell_type": "code",
   "execution_count": 1,
   "metadata": {},
   "outputs": [],
   "source": [
    "#The maximum-subarray problem"
   ]
  },
  {
   "cell_type": "markdown",
   "metadata": {},
   "source": [
    "Suppose that you been offered the opportunity to invest in the Tesla Corporatioon. Tesla stock is rather volatile. You are allowed to buy one unit\n",
    "of stock only one time and then sell it at a later date, buying and selling after the\n",
    "close of trading for the day. To compensate for this restriction, you are allowed to\n",
    "learn what the price of the stock will be in the future. Your goal is to maximize\n",
    "your profit. "
   ]
  },
  {
   "cell_type": "code",
   "execution_count": 2,
   "metadata": {},
   "outputs": [],
   "source": [
    "import random\n",
    "from matplotlib import pyplot as plt"
   ]
  },
  {
   "cell_type": "code",
   "execution_count": 3,
   "metadata": {},
   "outputs": [],
   "source": [
    "# https://www.google.com/search?q=tesla+stock+price7\n",
    "#lets make it even more volatile\n",
    "tesla = [random.randint(70,900) for _ in range(52)]"
   ]
  },
  {
   "cell_type": "code",
   "execution_count": 4,
   "metadata": {},
   "outputs": [
    {
     "data": {
      "text/plain": [
       "[360, 830, 584, 555, 846]"
      ]
     },
     "execution_count": 4,
     "metadata": {},
     "output_type": "execute_result"
    }
   ],
   "source": [
    "tesla[:5]"
   ]
  },
  {
   "cell_type": "code",
   "execution_count": 5,
   "metadata": {},
   "outputs": [
    {
     "data": {
      "text/plain": [
       "(871, 81)"
      ]
     },
     "execution_count": 5,
     "metadata": {},
     "output_type": "execute_result"
    }
   ],
   "source": [
    "# this might not necessarily work\n",
    "max(tesla), min(tesla)"
   ]
  },
  {
   "cell_type": "code",
   "execution_count": 7,
   "metadata": {},
   "outputs": [
    {
     "data": {
      "text/plain": [
       "790"
      ]
     },
     "execution_count": 7,
     "metadata": {},
     "output_type": "execute_result"
    }
   ],
   "source": [
    "max(tesla)-min(tesla)"
   ]
  },
  {
   "cell_type": "code",
   "execution_count": 8,
   "metadata": {},
   "outputs": [],
   "source": [
    "# why wouldn't this necessarily work?"
   ]
  },
  {
   "cell_type": "code",
   "execution_count": 9,
   "metadata": {},
   "outputs": [
    {
     "data": {
      "text/plain": [
       "[<matplotlib.lines.Line2D at 0x21a981ba2b0>]"
      ]
     },
     "execution_count": 9,
     "metadata": {},
     "output_type": "execute_result"
    },
    {
     "data": {
      "image/png": "[encoded data removed]",
      "text/plain": [
       "<Figure size 432x288 with 1 Axes>"
      ]
     },
     "metadata": {
      "needs_background": "light"
     },
     "output_type": "display_data"
    }
   ],
   "source": [
    "plt.plot(tesla)"
   ]
  },
  {
   "cell_type": "code",
   "execution_count": null,
   "metadata": {},
   "outputs": [],
   "source": [
    "# so max(tesla) could happen before min(tesla)"
   ]
  },
  {
   "cell_type": "code",
   "execution_count": null,
   "metadata": {},
   "outputs": [],
   "source": [
    "# so lets code a brute force solution"
   ]
  },
  {
   "cell_type": "code",
   "execution_count": 11,
   "metadata": {},
   "outputs": [
    {
     "name": "stdout",
     "output_type": "stream",
     "text": [
      "New winner! 830 - 360 = 470\n",
      "New winner! 846 - 360 = 486\n",
      "New winner! 859 - 360 = 499\n",
      "New winner! 871 - 360 = 511\n",
      "New winner! 841 - 122 = 719\n",
      "New winner! 843 - 122 = 721\n",
      "New winner! 859 - 122 = 737\n",
      "New winner! 871 - 122 = 749\n",
      "749\n"
     ]
    }
   ],
   "source": [
    "gain = 0 # could have used None perhaps maybe we have a case where the stock is falling all the time...\n",
    "for i, p in enumerate(tesla):\n",
    "    for p0 in tesla[i+1:]: # we do not want to check prices to the left \n",
    "        if p0 - p > gain:\n",
    "            gain = p0 - p\n",
    "            print(f\"New winner! {p0} - {p} = {gain}\")\n",
    "print(gain)"
   ]
  },
  {
   "cell_type": "code",
   "execution_count": null,
   "metadata": {},
   "outputs": [],
   "source": [
    "# so have sort n(n-1) which is still O(n^2) complexity"
   ]
  },
  {
   "cell_type": "code",
   "execution_count": null,
   "metadata": {},
   "outputs": [],
   "source": [
    "# so classical Divide and Conquer algorithm idea\n",
    "# divide in halfs\n",
    "# solve each half recursively\n",
    "# we have base case\n",
    "# merge the cases back"
   ]
  },
  {
   "cell_type": "code",
   "execution_count": null,
   "metadata": {},
   "outputs": [],
   "source": [
    "def get_best_gain(prices):\n",
    "    # so base case\n",
    "    if len(prices <= 2): # we would also need to catch special case 1\n",
    "        return max(prices),min(prices), prices[1]-prices[0]  # because we only want the second day minus first day"
   ]
  },
  {
   "cell_type": "markdown",
   "metadata": {},
   "source": [
    "1\n",
    "if high == low\n",
    "2\n",
    "return .low; high; AŒlow�/\n",
    "// base case: only one element\n",
    "3\n",
    "else mid D b.low C high/=2c\n",
    "4\n",
    ".left-low; left-high; left-sum/ D\n",
    "FIND-MAXIMUM-SUBARRAY.A; low; mid/\n",
    "5\n",
    ".right-low; right-high; right-sum/ D\n",
    "FIND-MAXIMUM-SUBARRAY.A; mid C 1; high/\n",
    "6\n",
    ".cross-low; cross-high; cross-sum/ D\n",
    "FIND-MAX-CROSSING-SUBARRAY.A; low; mid; high/\n",
    "7\n",
    "if left-sum � right-sum and left-sum � cross-sum\n",
    "8\n",
    "return .left-low; left-high; left-sum/\n",
    "9\n",
    "elseif right-sum � left-sum and right-sum � cross-sum\n",
    "10\n",
    "return .right-low; right-high; right-sum/\n",
    "11\n",
    "else return .cross-low; cross-high; cross-sum/"
   ]
  },
  {
   "cell_type": "code",
   "execution_count": null,
   "metadata": {},
   "outputs": [],
   "source": [
    "def find_max_subarray(a, low, high):\n",
    "    if high == low:\n",
    "        return low, high, a[low]\n",
    "    else:\n",
    "        mid = int((low + high)/2)"
   ]
  }
 ],
 "metadata": {
  "kernelspec": {
   "display_name": "Python 3",
   "language": "python",
   "name": "python3"
  },
  "language_info": {
   "codemirror_mode": {
    "name": "ipython",
    "version": 3
   },
   "file_extension": ".py",
   "mimetype": "text/x-python",
   "name": "python",
   "nbconvert_exporter": "python",
   "pygments_lexer": "ipython3",
   "version": "3.8.3"
  }
 },
 "nbformat": 4,
 "nbformat_minor": 4
}
