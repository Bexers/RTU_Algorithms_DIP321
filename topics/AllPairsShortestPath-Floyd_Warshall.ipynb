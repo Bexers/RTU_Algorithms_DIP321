{
 "cells": [
  {
   "cell_type": "code",
   "execution_count": 1,
   "metadata": {},
   "outputs": [
    {
     "data": {
      "text/plain": [
       "9223372036854775807"
      ]
     },
     "execution_count": 1,
     "metadata": {},
     "output_type": "execute_result"
    }
   ],
   "source": [
    "import sys\n",
    "sys.maxsize # would be more correct way"
   ]
  },
  {
   "cell_type": "code",
   "execution_count": 2,
   "metadata": {},
   "outputs": [
    {
     "name": "stdout",
     "output_type": "stream",
     "text": [
      "Following matrix shows the shortest distances between every pair of vertices\n",
      "      0\t      5\t      8\t      9\t\n",
      "    INF      0\t      3\t      4\t\n",
      "    INF    INF      0\t      1\t\n",
      "    INF    INF    INF      0\t\n"
     ]
    }
   ],
   "source": [
    "# Python Program for Floyd Warshall Algorithm\n",
    " \n",
    "# Number of vertices in the graph\n",
    "V = 4\n",
    " \n",
    "# Define infinity as the large\n",
    "# enough value. This value will be\n",
    "# used for vertices not connected to each other\n",
    "INF = 99999 # works as long as our graphs do not go over 99_999\n",
    " \n",
    "# Solves all pair shortest path\n",
    "# via Floyd Warshall Algorithm\n",
    " \n",
    "def floydWarshall(graph):\n",
    "   \n",
    "    \"\"\" dist[][] will be the output\n",
    "       matrix that will finally\n",
    "        have the shortest distances\n",
    "        between every pair of vertices \"\"\"\n",
    "    \"\"\" initializing the solution matrix\n",
    "    same as input graph matrix\n",
    "    OR we can say that the initial\n",
    "    values of shortest distances\n",
    "    are based on shortest paths considering no\n",
    "    intermediate vertices \"\"\"\n",
    " \n",
    "    dist = list(map(lambda i: list(map(lambda j: j, i)), graph))\n",
    " \n",
    "    \"\"\" Add all vertices one by one\n",
    "    to the set of intermediate\n",
    "     vertices.\n",
    "     ---> Before start of an iteration,\n",
    "     we have shortest distances\n",
    "     between all pairs of vertices\n",
    "     such that the shortest\n",
    "     distances consider only the\n",
    "     vertices in the set\n",
    "    {0, 1, 2, .. k-1} as intermediate vertices.\n",
    "      ----> After the end of a\n",
    "      iteration, vertex no. k is\n",
    "     added to the set of intermediate\n",
    "     vertices and the\n",
    "    set becomes {0, 1, 2, .. k}\n",
    "    \"\"\"\n",
    "    for k in range(V):\n",
    " \n",
    "        # pick all vertices as source one by one\n",
    "        for i in range(V):\n",
    " \n",
    "            # Pick all vertices as destination for the\n",
    "            # above picked source\n",
    "            for j in range(V):\n",
    " \n",
    "                # If vertex k is on the shortest path from\n",
    "                # i to j, then update the value of dist[i][j]\n",
    "                dist[i][j] = min(dist[i][j],\n",
    "                                 dist[i][k] + dist[k][j]\n",
    "                                 )\n",
    "    printSolution(dist)\n",
    " \n",
    " \n",
    "# A utility function to print the solution\n",
    "def printSolution(dist):\n",
    "    print(\"Following matrix shows the shortest distances between every pair of vertices\")\n",
    "    for i in range(V):\n",
    "        for j in range(V):\n",
    "            if(dist[i][j] == INF):\n",
    "                print(\"%7s\" % (\"INF\"), end=\"\")\n",
    "            else:\n",
    "                print(\"%7d\\t\" % (dist[i][j]), end=\"\")\n",
    "            if j == V-1:\n",
    "                print(\"\")\n",
    " \n",
    " \n",
    "# Driver program to test the above program\n",
    "# Let us create the following weighted graph\n",
    "\"\"\"\n",
    "            10\n",
    "       (0)------->(3)\n",
    "        |         /|\\\n",
    "      5 |          |\n",
    "        |          | 1\n",
    "       \\|/         |\n",
    "       (1)------->(2)\n",
    "            3           \"\"\"\n",
    "graph = [[0, 5, INF, 10],\n",
    "         [INF, 0, 3, INF],\n",
    "         [INF, INF, 0,   1],\n",
    "         [INF, INF, INF, 0]\n",
    "         ]\n",
    "# Print the solution\n",
    "floydWarshall(graph)\n",
    "# This code is contributed by Mythri J L with adjustments by VS"
   ]
  },
  {
   "cell_type": "code",
   "execution_count": 3,
   "metadata": {},
   "outputs": [
    {
     "name": "stdout",
     "output_type": "stream",
     "text": [
      "Following matrix shows the shortest distances between every pair of vertices\n",
      "      0\t      2\t      5\t\n",
      "      2\t      0\t      7\t\n",
      "     -1\t     -3\t      0\t\n"
     ]
    }
   ],
   "source": [
    "V=3\n",
    "G = [[0, 4, 5],\n",
    "    [2, 0, INF],\n",
    "    [INF, -3, 0]]\n",
    "floydWarshall(G)"
   ]
  },
  {
   "cell_type": "code",
   "execution_count": 6,
   "metadata": {},
   "outputs": [
    {
     "name": "stdout",
     "output_type": "stream",
     "text": [
      "Following matrix shows the shortest distances between every pair of vertices\n",
      "      0\t    INF      4\t    INF      3\t    INF     18\t     12\t\n",
      "      2\t      0\t      6\t    INF      5\t    INF      9\t     14\t\n",
      "    INF    INF      0\t    INF    INF    INF    INF    INF\n",
      "      7\t      5\t     11\t      0\t     10\t    INF      8\t      2\t\n",
      "    INF    INF      1\t    INF      0\t    INF     15\t      9\t\n",
      "     10\t      8\t     14\t    INF     13\t      0\t     17\t     22\t\n",
      "    INF    INF      7\t    INF      6\t    INF      0\t     15\t\n",
      "    INF    INF     13\t    INF     12\t    INF      6\t      0\t\n"
     ]
    }
   ],
   "source": [
    "V = 8\n",
    "# and we need our adjanency matrix\n",
    "G = [\n",
    "    [0, INF, 7, INF, 3, INF, INF, INF],\n",
    "    [2, 0, INF, INF, INF, INF, 9, INF],\n",
    "    [INF, INF, 0, INF, INF, INF, INF, INF],\n",
    "    [INF, 5, INF, 0, INF, INF, INF, 2],\n",
    "    [INF, INF, 1, INF, 0, INF, INF, 9],\n",
    "    [INF, 8, INF, INF, INF, 0, INF, INF],\n",
    "    [INF, INF, INF, INF, 6, INF, 0, INF],\n",
    "    [INF, INF, INF, INF, INF, INF, 6, 0] \n",
    "    ]\n",
    "floydWarshall(G)"
   ]
  }
 ],
 "metadata": {
  "kernelspec": {
   "display_name": "Python 3",
   "language": "python",
   "name": "python3"
  },
  "language_info": {
   "codemirror_mode": {
    "name": "ipython",
    "version": 3
   },
   "file_extension": ".py",
   "mimetype": "text/x-python",
   "name": "python",
   "nbconvert_exporter": "python",
   "pygments_lexer": "ipython3",
   "version": "3.8.3"
  }
 },
 "nbformat": 4,
 "nbformat_minor": 4
}
