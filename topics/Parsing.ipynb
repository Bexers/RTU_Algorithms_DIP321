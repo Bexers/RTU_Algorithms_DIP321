{
  "cells": [
    {
      "cell_type": "code",
      "execution_count": null,
      "metadata": {
        "id": "gdeZ_PO_witn"
      },
      "outputs": [],
      "source": [
        "# so we want to parse input/strings such as \"5 + 6 + 10\"\n",
        "# eventually we would want to move to \"5+6 * 10+3\" and parse that correctly"
      ]
    },
    {
      "cell_type": "code",
      "execution_count": null,
      "metadata": {
        "id": "vPJTVB6Nwitr"
      },
      "outputs": [],
      "source": [
        "# for addition we do not need anything fance"
      ]
    },
    {
      "cell_type": "code",
      "source": [
        "eval(\"5 + 6 + 7\")  # this is dangerous if you do not control the string ! \n",
        "# so eval will lex the string and parse it and then actually do the work (meaning summing)"
      ],
      "metadata": {
        "id": "ZuibxQzawnzX",
        "outputId": "dea8870e-c7dc-4003-b7ed-2004e6b0b1f0",
        "colab": {
          "base_uri": "https://localhost:8080/"
        }
      },
      "execution_count": 1,
      "outputs": [
        {
          "output_type": "execute_result",
          "data": {
            "text/plain": [
              "18"
            ]
          },
          "metadata": {},
          "execution_count": 1
        }
      ]
    },
    {
      "cell_type": "code",
      "execution_count": 2,
      "metadata": {
        "id": "Z8qwaJVHwits",
        "outputId": "7bb458dc-1f7c-4c89-8e02-081c50154fc1",
        "colab": {
          "base_uri": "https://localhost:8080/"
        }
      },
      "outputs": [
        {
          "output_type": "execute_result",
          "data": {
            "text/plain": [
              "18"
            ]
          },
          "metadata": {},
          "execution_count": 2
        }
      ],
      "source": [
        "text = \"5 + 6 + 7\"\n",
        "# no significant whitespace\n",
        "clean = text.replace(\" \",\"\") # part of lexical analysis cleaning whitespace\n",
        "tokens = clean.split(\"+\") # tokenization again part of lexical analysis\n",
        "result = sum([int(token) for token in tokens]) # here we skip the tree since all of the tokens are separated by +..\n",
        "result"
      ]
    },
    {
      "cell_type": "code",
      "execution_count": 3,
      "metadata": {
        "id": "T0DyvKSWwitt"
      },
      "outputs": [],
      "source": [
        "def addIntrepreter(text):\n",
        "    clean = text.replace(\" \",\"\")\n",
        "    tokens = clean.split(\"+\")\n",
        "    result = sum([int(token) for token in tokens]) # nice shortcut because we only have +\n",
        "    return result"
      ]
    },
    {
      "cell_type": "code",
      "execution_count": 4,
      "metadata": {
        "id": "RnQF7XpFwitt",
        "outputId": "6bf1e385-d2e1-45b6-b861-cbe0ac89de34",
        "colab": {
          "base_uri": "https://localhost:8080/"
        }
      },
      "outputs": [
        {
          "output_type": "execute_result",
          "data": {
            "text/plain": [
              "10032"
            ]
          },
          "metadata": {},
          "execution_count": 4
        }
      ],
      "source": [
        "addIntrepreter(\"  5+5+10000+5   + 7 + 10  \")"
      ]
    },
    {
      "cell_type": "code",
      "execution_count": null,
      "metadata": {
        "id": "ra_derVowitu"
      },
      "outputs": [],
      "source": [
        "# how about substraction well then we will already need some sort of structure we could use a stack based structure to store operation\n",
        "# \"10 - 5 + 3 - 2 + 20\"  should be 26"
      ]
    },
    {
      "cell_type": "code",
      "execution_count": null,
      "metadata": {
        "id": "1ncAwml_witu"
      },
      "outputs": [],
      "source": [
        "# we could start again by stripping whitespace and similar as it is not signifant here\n",
        "# optimization would be to skip cleaning and clean whitespace as we go\n",
        "# then we could save the tokens in some sort of data structure (here stacks would work nicely)\n",
        "# or we could interpret as we go (so sort of like REPL)"
      ]
    },
    {
      "cell_type": "code",
      "execution_count": 5,
      "metadata": {
        "id": "VacehPdVwitv"
      },
      "outputs": [],
      "source": [
        "def sub_add(text):\n",
        "    acc = 0\n",
        "    n = 0\n",
        "    tok = \"\"\n",
        "    state = \"NUM\" # \"OP\"\n",
        "    operations = [\"+\",\"-\"]\n",
        "    op = \"\"\n",
        "    # we really need a state machine here for determining whether we have a number or addition or substraction\n",
        "    # so ONE PASS parsing, scannerless parsing since it is so trivial\n",
        "    # so there is a simple state machine hidden here\n",
        "    for t in text:\n",
        "        if t in [\" \",\"\\t\"]: # same as replace or cleaning our insignifcant\n",
        "            continue\n",
        "        if t.isdigit():\n",
        "#             print(f\"Digit is {t} and tok is {tok}\")\n",
        "            if state == \"OP\":\n",
        "                state = \"NUM\"\n",
        "                tok = \"\" # not efficient keep building up the NUM\n",
        "            tok += t\n",
        "#             print(f\"Digit is {t} and tok AFTER is {tok}\")\n",
        "            continue\n",
        "        if t in operations:\n",
        "            state = \"OP\" # FIXME multiple operations error\n",
        "            print(f\"BEFORE operation  {acc} {op} {tok}\")\n",
        "            if op == \"+\": # we check the previous operation\n",
        "                acc += int(tok)\n",
        "                tok = \"\"\n",
        "            elif op == \"-\":\n",
        "                acc -= int(tok)\n",
        "                tok = \"\"\n",
        "            elif op == \"\": # first time\n",
        "                acc = int(tok)\n",
        "                tok = \"\"\n",
        "            print(f\"AFTER operation {op} {acc}\")\n",
        "            op = t\n",
        "    if op == \"+\": # we check the previous operation\n",
        "        acc += int(tok)\n",
        "    elif op == \"-\":\n",
        "        acc -= int(tok)\n",
        "    return acc\n",
        "        "
      ]
    },
    {
      "cell_type": "code",
      "execution_count": 6,
      "metadata": {
        "id": "y1LHRssbwitv",
        "outputId": "ba865981-ff24-44c6-d44e-9d473534e64c",
        "colab": {
          "base_uri": "https://localhost:8080/"
        }
      },
      "outputs": [
        {
          "output_type": "stream",
          "name": "stdout",
          "text": [
            "BEFORE operation  0  10\n",
            "AFTER operation  10\n",
            "BEFORE operation  10 - 5\n",
            "AFTER operation - 5\n",
            "BEFORE operation  5 + 3\n",
            "AFTER operation + 8\n",
            "BEFORE operation  8 - 2\n",
            "AFTER operation - 6\n"
          ]
        },
        {
          "output_type": "execute_result",
          "data": {
            "text/plain": [
              "26"
            ]
          },
          "metadata": {},
          "execution_count": 6
        }
      ],
      "source": [
        "sub_add(\"10 - 5 + 3 - 2 + 20\")\n"
      ]
    },
    {
      "cell_type": "code",
      "execution_count": null,
      "metadata": {
        "id": "uz0pYGe9witx"
      },
      "outputs": [],
      "source": [
        "# for more complicated operations we will need to build a syntax tree we can't just have a simple accumulator design, \n",
        "# above is only sufficient when we have left to right order of operations\n",
        "\n",
        "# one example is given in this course\n",
        "# https://ruslanspivak.com/lsbasi-part1/"
      ]
    }
  ],
  "metadata": {
    "kernelspec": {
      "display_name": "Python 3",
      "language": "python",
      "name": "python3"
    },
    "language_info": {
      "codemirror_mode": {
        "name": "ipython",
        "version": 3
      },
      "file_extension": ".py",
      "mimetype": "text/x-python",
      "name": "python",
      "nbconvert_exporter": "python",
      "pygments_lexer": "ipython3",
      "version": "3.8.3"
    },
    "colab": {
      "provenance": []
    }
  },
  "nbformat": 4,
  "nbformat_minor": 0
}