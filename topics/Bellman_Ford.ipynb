{
 "cells": [
  {
   "cell_type": "markdown",
   "metadata": {},
   "source": [
    "# Bellman-Ford Algorithm\n",
    "\n",
    "Bellman-Ford algorithm is used to find the shortest paths from the source vertex to all other vertices in the weighted graph. It is similar to Dijkstra's algorithm but it can work with graphs in which edges can have negative weights.\n",
    "\n",
    "More on Bellman-Ford algorithm:\n",
    "* https://en.wikipedia.org/wiki/Bellman%E2%80%93Ford_algorithm\n",
    "* https://www.geeksforgeeks.org/bellman-ford-algorithm-dp-23/ - G4G can have mistakes, so be careful"
   ]
  },
  {
   "cell_type": "code",
   "execution_count": 8,
   "metadata": {},
   "outputs": [
    {
     "data": {
      "text/plain": [
       "A"
      ]
     },
     "execution_count": 8,
     "metadata": {},
     "output_type": "execute_result"
    }
   ],
   "source": [
    "# again we will have a Graph class and a Node class\n",
    "\n",
    "class Node:\n",
    "    def __init__(self, value):\n",
    "        self.value = value\n",
    "        self.connections = []\n",
    "\n",
    "    def add_connection(self, node, weight=1):\n",
    "        self.connections.append((node, weight))\n",
    "\n",
    "    def __repr__(self):\n",
    "        return str(self.value)\n",
    "    \n",
    "class Graph:\n",
    "    def __init__(self):\n",
    "        self.nodes = {}\n",
    "\n",
    "    def add_node(self, value):\n",
    "        self.nodes[value] = Node(value)\n",
    "\n",
    "    def add_edge(self, node1:Node, node2:Node, weight=1):\n",
    "        node1 = self.nodes.get(node1.value)\n",
    "        node2 = self.nodes.get(node2.value)\n",
    "        if node1 and node2:\n",
    "            node1.add_connection(node2, weight)\n",
    "            node2.add_connection(node1, weight)\n",
    "\n",
    "    def __repr__(self):\n",
    "        return str([str(node) for node in self.nodes])\n",
    "\n",
    "    # bellman-ford algorithm\n",
    "    def bellman_ford(self, start):\n",
    "        # initialize distances to all nodes as infinity\n",
    "        distances = {node: float('infinity') for node in self.nodes}\n",
    "        # set the distance to the starting node as 0\n",
    "        distances[start] = 0\n",
    "\n",
    "        # iterate through all the edges\n",
    "        for _ in range(len(self.nodes) - 1): # _ means we don't care about the value\n",
    "            for node in self.nodes:\n",
    "                for connection, weight in node.connections:\n",
    "                    if distances[node] + weight < distances[connection]:\n",
    "                        distances[connection] = distances[node] + weight\n",
    "\n",
    "        return distances\n",
    "    \n",
    "# test it\n",
    "g = Graph()\n",
    "g.add_node('A')\n",
    "g.add_node('B')\n",
    "g.add_node('C')\n",
    "g.add_node('D')\n",
    "# g.add_edge('A', 'B', 3)\n",
    "# g.add_edge('B', 'C', -1)\n",
    "# g.add_edge('C', 'D', 2)\n",
    "# g.add_edge('A', 'C', 5)\n",
    "g.add_edge(g.nodes['A'], g.nodes['B'], 3)\n",
    "g.add_edge(g.nodes['B'], g.nodes['C'], -1)\n",
    "g.add_edge(g.nodes['C'], g.nodes['D'], 2)\n",
    "g.add_edge(g.nodes['A'], g.nodes['C'], 5)\n",
    "\n",
    "\n",
    "first_node = g.nodes['A']\n",
    "# print first_node\n",
    "first_node\n",
    "# TODO fix types"
   ]
  }
 ],
 "metadata": {
  "kernelspec": {
   "display_name": "Python 3",
   "language": "python",
   "name": "python3"
  },
  "language_info": {
   "codemirror_mode": {
    "name": "ipython",
    "version": 3
   },
   "file_extension": ".py",
   "mimetype": "text/x-python",
   "name": "python",
   "nbconvert_exporter": "python",
   "pygments_lexer": "ipython3",
   "version": "3.11.4"
  }
 },
 "nbformat": 4,
 "nbformat_minor": 2
}
