{
 "cells": [
  {
   "cell_type": "markdown",
   "metadata": {},
   "source": [
    "# Recursion examples\n",
    "\n",
    "adopted from: https://github.com/rasbt/algorithms_in_ipython_notebooks\n",
    "\n",
    "https://github.com/AbhishekSinhaCoder/Data-Structures-Concepts-through-Notebook"
   ]
  },
  {
   "cell_type": "markdown",
   "metadata": {},
   "source": [
    "# Examples using Recursion"
   ]
  },
  {
   "cell_type": "markdown",
   "metadata": {},
   "source": [
    "**Important Note**\n",
    "\n",
    "For most cases, using function recursion should be avoided in Python are better be implemented using for/while loops most of the time (although, I must admit that recursive solutions do look elegant). One of the reasons is that stacking recursive calls can easily blow up memory or at least result in the popular yet nasty \"RuntimeError: maximum recursion depth exceeded\". Also, keep in mind that Python does not optimize tail recursion in favor of having the full tracebacks for debugging; related to that, please see Guido van Rossums blog posts \"[Tail Recursion Elimination](http://neopythonic.blogspot.com.au/2009/04/tail-recursion-elimination.html)\" and \"[Final Words on Tail Calls](http://neopythonic.blogspot.com.au/2009/04/final-words-on-tail-calls.html).\" If you do like to play around with recursion more efficiently, I highly recommend taking a look at [Haskell](https://www.haskell.org) or other functional programming languages. That being said, below are some examples of recursive function implementations in Python for illustrative purposes."
   ]
  },
  {
   "cell_type": "markdown",
   "metadata": {},
   "source": [
    "## Review: Running time and big-$\\mathcal{O}$: Recursive Algorithms for Computing Powers\n",
    "\n",
    "As example of the use of linear recursion, we consider the problem of raising a number $x$ to an arbitrary nonnegative integer, $n$. That is, we wish to compute the power function, defined as $power(x,n) = xn$. (We use the name “power” for this discussion, to differentiate from the built-in Python function _pow_ that provides such functionality.) We will consider two different recursive formulations for the problem that lead to algorithms with very different performance.\n",
    "A trivial recursive definition follows from the fact that $x^n = x \\cdot x^{n−1}$ for $n > 0$.\n",
    "\n",
    "\n",
    "\\begin{equation}\n",
    "power(x,n) ==\\left\\{\n",
    "                \\begin{array}{ll}\n",
    "                        1 \\ if \\ n = 0\\\\\n",
    "                        x \\ power(x, n − 1) \\ otherwise.\n",
    "                \\end{array}\n",
    "              \\right.\n",
    "\\end{equation}\n",
    "\n",
    "This definition leads to a recursive algorithm shown below:"
   ]
  },
  {
   "cell_type": "code",
   "execution_count": null,
   "metadata": {},
   "outputs": [],
   "source": [
    "# in case we did not know about Pythons x**n statement :)"
   ]
  },
  {
   "cell_type": "code",
   "execution_count": 1,
   "metadata": {},
   "outputs": [],
   "source": [
    "def basicpower(x, n):\n",
    "    '''Compute the value x**n for integer n.''' \n",
    "    if n == 0:\n",
    "        return 1 \n",
    "    else:\n",
    "        return x  * power(x, n-1)"
   ]
  },
  {
   "cell_type": "markdown",
   "metadata": {},
   "source": [
    "A recursive call to this version of power(x,n) runs in $\\mathcal{O}(n)$ time."
   ]
  },
  {
   "cell_type": "code",
   "execution_count": 2,
   "metadata": {},
   "outputs": [],
   "source": [
    "\n",
    "def power(x, n):\n",
    "    '''Compute the value x**n for integer n.''' \n",
    "    if n == 0:\n",
    "        return 1 \n",
    "    else:\n",
    "        partial = power(x, n // 2) \n",
    "        result = partial * partial\n",
    "    if n % 2 == 1:\n",
    "        result *= x \n",
    "    return result"
   ]
  },
  {
   "cell_type": "markdown",
   "metadata": {},
   "source": [
    "To analyze the running time of the revised algorithm, we observe that the exponent in each recursive call of function power(x,n) is at most half of the preceding exponent. As we saw with the analysis of binary search, the number of times that we can divide $n$ in half before getting to one or less is $\\mathcal{O}(log n)$. Therefore, our new formulation of the power function results in $\\mathcal{O}(logn)$ recursive calls. Each individual activation of the function uses $\\mathcal{O}(1)$ operations (excluding the recursive calls), and so the total number of operations for computing power(x,n) is O(logn). This is a significant improvement over the original $\\mathcal{O}(n)$-time algorithm.\n",
    "\n",
    "**Exercise:** Test the two functions with a timer and see the difference. Identify the base case and stopping conditions."
   ]
  },
  {
   "cell_type": "code",
   "execution_count": 21,
   "metadata": {},
   "outputs": [
    {
     "name": "stdout",
     "output_type": "stream",
     "text": [
      "testing function_1 with the automatic measure\n",
      "run-time for function 1 result in nanoseconds: \n",
      "[0.6312243938446045, 0.0009701251983642578, 0.0, 0.0, 0.0, 0.0, 0.0009982585906982422, 0.0]\n"
     ]
    }
   ],
   "source": [
    "import time\n",
    "def automatic_time(input_array, func_name):\n",
    "    # input_array contains all elements of input,\n",
    "    #   preferably sorted from small to big,\n",
    "    #   each element could also be a tuple, which is requried\n",
    "    #   for functions that need more than 1 input\n",
    "    # func_name is the name of the function (as object, not str)\n",
    "    # this function also suppresses printing output from the {func_name}\n",
    "    ret = []\n",
    "    for val in input_array:\n",
    "#         print(time.process_time_ns())\n",
    "#         start = time.process_time()\n",
    "        start = time.time()\n",
    "        from IPython.utils import io as iuio\n",
    "        with iuio.capture_output() as suppressed:\n",
    "            if isinstance(val, tuple):\n",
    "                _ = func_name(*val)\n",
    "            else:\n",
    "                _ = func_name(val)\n",
    "                \n",
    "        ret.append((time.time() - start)) # 10e9 converts unit from second to nanosecond\n",
    "    return ret\n",
    "\n",
    "my_input_arr = [(10,200000),(2,100),(2,1000),(2,3000),(2,5000),(2,8000), (2,10000),(2,20000)]\n",
    "print(\"testing function_1 with the automatic measure\")\n",
    "print(F\"run-time for function 1 result in nanoseconds: \\n{automatic_time(my_input_arr, basicpower)}\")"
   ]
  },
  {
   "cell_type": "code",
   "execution_count": 16,
   "metadata": {},
   "outputs": [],
   "source": [
    "import matplotlib.pyplot as plt"
   ]
  },
  {
   "cell_type": "code",
   "execution_count": 22,
   "metadata": {},
   "outputs": [
    {
     "data": {
      "image/png": "[encoded data removed]",
      "text/plain": [
       "<Figure size 432x288 with 1 Axes>"
      ]
     },
     "metadata": {
      "needs_background": "light"
     },
     "output_type": "display_data"
    }
   ],
   "source": [
    "input_arr = [(11,i) for i in range(10_000, 1_000_000, 10_000)]\n",
    "\n",
    "# input_arr_t = [(i,i) for i in range(1, 1000)]\n",
    "\n",
    "# fun1 = automatic_time(input_arr, function_1)\n",
    "fun2 = automatic_time(input_arr, basicpower)\n",
    "# fun3 = automatic_time(input_arr, function_3)\n",
    "# fun4 = automatic_time(input_arr_t, function_4)\n",
    "# fun5 = automatic_time(input_arr_t, function_5)\n",
    "\n",
    "plt.plot(input_arr, fun2)\n",
    "plt.xlabel(\"input size\")\n",
    "plt.ylabel(\"running time in nanoseconds\")\n",
    "plt.show()"
   ]
  },
  {
   "cell_type": "markdown",
   "metadata": {},
   "source": [
    "## Factorial"
   ]
  },
  {
   "cell_type": "code",
   "execution_count": null,
   "metadata": {},
   "outputs": [],
   "source": []
  },
  {
   "cell_type": "code",
   "execution_count": 2,
   "metadata": {},
   "outputs": [],
   "source": [
    "def factorial(x):\n",
    "    if x <= 1:\n",
    "        return 1 # not x! as factorial of 0 is considered 1!\n",
    "    else:\n",
    "        return x * factorial(x-1)"
   ]
  },
  {
   "cell_type": "code",
   "execution_count": 3,
   "metadata": {},
   "outputs": [
    {
     "data": {
      "text/plain": [
       "0"
      ]
     },
     "execution_count": 3,
     "metadata": {},
     "output_type": "execute_result"
    }
   ],
   "source": [
    "factorial(0)"
   ]
  },
  {
   "cell_type": "code",
   "execution_count": 4,
   "metadata": {},
   "outputs": [
    {
     "data": {
      "text/plain": [
       "1"
      ]
     },
     "execution_count": 4,
     "metadata": {},
     "output_type": "execute_result"
    }
   ],
   "source": [
    "factorial(1)"
   ]
  },
  {
   "cell_type": "markdown",
   "metadata": {},
   "source": [
    "5! = 5 x 4 x 3 x 2 x 1 = 120"
   ]
  },
  {
   "cell_type": "code",
   "execution_count": 5,
   "metadata": {},
   "outputs": [
    {
     "data": {
      "text/plain": [
       "120"
      ]
     },
     "execution_count": 5,
     "metadata": {},
     "output_type": "execute_result"
    }
   ],
   "source": [
    "factorial(5)"
   ]
  },
  {
   "cell_type": "markdown",
   "metadata": {},
   "source": [
    "# Exercise: Fibonacci\n",
    "\n",
    "The sequence, in which each number is the sum of the two preceding numbers is known as the Fibonacci sequence: $1, 1, 2, 3, 5, 8, 13, 21, 34, 55, 89, 144, 233, 377, 610, 987, 1597, 2584, 4181, \\cdots$ (each number is the sum of the previous two, e.g., $144=55 + 89$).\n",
    "\n",
    "As you covered Fibonacci in Semester 1, this should be familiar. The twist is we are going to look at a variety of ways of implementing it and the complexity of execution for each.\n",
    "\n",
    "A direct implementation of the description above would lead to pseudo code like this:"
   ]
  },
  {
   "cell_type": "code",
   "execution_count": null,
   "metadata": {},
   "outputs": [],
   "source": [
    "def bad_fibonacci(n):\n",
    "  \"\"\"Return the nth Fibonacci number.\"\"\"\n",
    "  if n <= 1:\n",
    "    return n\n",
    "  else:\n",
    "    return bad_fibonacci(n-2) + bad_fibonacci(n-1)\n",
    "\n",
    "def good_fibonacci(n):\n",
    "  \"\"\"Return pair of Fibonacci numbers, F(n) and F(n-1).\"\"\"\n",
    "  if n <= 1:\n",
    "    return (n,0)\n",
    "  else:\n",
    "    (a, b) = good_fibonacci(n-1)\n",
    "    return (a+b, a)"
   ]
  },
  {
   "cell_type": "code",
   "execution_count": null,
   "metadata": {},
   "outputs": [],
   "source": [
    "## Fibonacci Solutions\n",
    "\n",
    "1. timing"
   ]
  },
  {
   "cell_type": "code",
   "execution_count": null,
   "metadata": {},
   "outputs": [],
   "source": [
    "%%time\n",
    "\n",
    "bad_fibonacci(20)"
   ]
  },
  {
   "cell_type": "code",
   "execution_count": null,
   "metadata": {},
   "outputs": [],
   "source": [
    "%%time\n",
    "\n",
    "good_fibonacci(20)"
   ]
  },
  {
   "cell_type": "code",
   "execution_count": null,
   "metadata": {},
   "outputs": [],
   "source": [
    "# 2. It is not tail recursive becuase there is something to do after returning the values (adding them together). We can use 2 accumulators to avoid this."
   ]
  },
  {
   "cell_type": "markdown",
   "metadata": {},
   "source": [
    "# Example: Binary Search"
   ]
  },
  {
   "cell_type": "markdown",
   "metadata": {},
   "source": [
    "Binary search is a classic recursive algorithm to find a target value within a sorted sequence. This is among the most important of computer algorithms, and it is the reason that we so often store data in sorted order.\n",
    "\n",
    "e.g. For the sorted sequence below stored in a Python list with indexes above:\n",
    "\n",
    "<table>\n",
    "<tr><th>0</th><th>1</th><th> 2</th><th>3</th><th>4</th><th> 5</th><th>6</th><th>7</th><th> 8</th><th>9</th><th>10</th><th> 11</th> </tr>\n",
    "<tr><td>2</td><td>4</td><td> 5</td><td>6</td><td>8</td><td> 9</td><td>15</td><td>16</td><td> 17</td><td>22</td><td>30</td><td> 31</td> </tr>\n",
    "</table>\n",
    "\n",
    "If the sequence was unsorted a simple solution is a _sequential search algorithm_: use a loop to examine every element. You either reach the end of the list or find the target.\n",
    "\n",
    "It is linear complexity, running in $\\mathcal{O}(n)$ time as worst case it inspects every element in the sequence.\n",
    "\n",
    "A sorted sequence allows a much faster approach. Think about how you would accomplish this task by hand: divide in two, and choose the middle digit as a candidate to compare to the target. Everything to the left of the candidate is lower than it and everything to the right is higher. Compare the target to the candidate and discard the left if the candidate is lower and the right if it is higher. Then repeat your _binary search_ algorithm. This is much more efficient, running in $\\mathcal{O}($log$n$) time.\n",
    "\n",
    "Review the iterative and recursive binary search algorithm implementations below."
   ]
  },
  {
   "cell_type": "code",
   "execution_count": null,
   "metadata": {},
   "outputs": [],
   "source": [
    "def binary_search_iterative(data, target):\n",
    "  \"\"\"Return True if target is found in the given Python list.\"\"\"\n",
    "  low = 0\n",
    "  high = len(data)-1\n",
    "  while low <= high:b\n",
    "    mid = (low + high) // 2\n",
    "    if target == data[mid]:         # found a match\n",
    "      return True\n",
    "    elif target < data[mid]:\n",
    "      high = mid - 1                # only consider values left of mid\n",
    "    else:\n",
    "      low = mid + 1                 # only consider values right of mid\n",
    "  return False                      # loop ended without success"
   ]
  },
  {
   "cell_type": "code",
   "execution_count": null,
   "metadata": {},
   "outputs": [],
   "source": [
    "def binary_search(data, target, low, high):\n",
    "  \"\"\"Return True if target is found in indicated portion of a Python list.\n",
    "\n",
    "  The search only considers the portion from data[low] to data[high] inclusive.\n",
    "  \"\"\"\n",
    "  if low > high:\n",
    "    return False                    # interval is empty; no match\n",
    "  else:\n",
    "    mid = (low + high) // 2\n",
    "    if target == data[mid]:         # found a match\n",
    "      return True\n",
    "    elif target < data[mid]:\n",
    "      # recur on the portion left of the middle\n",
    "      return binary_search(data, target, low, mid - 1)\n",
    "    else:\n",
    "      # recur on the portion right of the middle\n",
    "      return binary_search(data, target, mid + 1, high)"
   ]
  },
  {
   "cell_type": "markdown",
   "metadata": {},
   "source": [
    "When a function makes two recursive calls, we say that it uses binary recursion. Clearly the binary_search above is a binary recursion. Drawing the English ruler and the bad fibonacci function are also examples of binary recursion."
   ]
  },
  {
   "cell_type": "code",
   "execution_count": null,
   "metadata": {},
   "outputs": [],
   "source": [
    "data=[2,4,5,6,8,9,15,16,17,22,30,31]\n",
    "\n",
    "rec_ans = binary_search(data,5,0,len(data))\n",
    "iter_ans = binary_search_iterative(data,100)\n",
    "\n",
    "print(rec_ans,iter_ans)"
   ]
  },
  {
   "cell_type": "code",
   "execution_count": null,
   "metadata": {},
   "outputs": [],
   "source": []
  },
  {
   "cell_type": "markdown",
   "metadata": {},
   "source": [
    "## Length of an array"
   ]
  },
  {
   "cell_type": "code",
   "execution_count": 6,
   "metadata": {
    "collapsed": true
   },
   "outputs": [],
   "source": [
    "def array_len(x):\n",
    "    if x == []:\n",
    "        return 0\n",
    "    else:\n",
    "        return 1 + array_len(x[1:])"
   ]
  },
  {
   "cell_type": "code",
   "execution_count": 7,
   "metadata": {},
   "outputs": [
    {
     "data": {
      "text/plain": [
       "0"
      ]
     },
     "execution_count": 7,
     "metadata": {},
     "output_type": "execute_result"
    }
   ],
   "source": [
    "array_len([])"
   ]
  },
  {
   "cell_type": "code",
   "execution_count": 8,
   "metadata": {},
   "outputs": [
    {
     "data": {
      "text/plain": [
       "3"
      ]
     },
     "execution_count": 8,
     "metadata": {},
     "output_type": "execute_result"
    }
   ],
   "source": [
    "array_len([1, 2, 3])"
   ]
  },
  {
   "cell_type": "markdown",
   "metadata": {},
   "source": [
    "## Sum of the elements in an array"
   ]
  },
  {
   "cell_type": "code",
   "execution_count": 9,
   "metadata": {
    "collapsed": true
   },
   "outputs": [],
   "source": [
    "def array_sum(x):\n",
    "    if x == []:\n",
    "        return 0\n",
    "    else:\n",
    "        return x[0] + array_sum(x[1:])"
   ]
  },
  {
   "cell_type": "code",
   "execution_count": 10,
   "metadata": {},
   "outputs": [
    {
     "data": {
      "text/plain": [
       "0"
      ]
     },
     "execution_count": 10,
     "metadata": {},
     "output_type": "execute_result"
    }
   ],
   "source": [
    "array_sum([])"
   ]
  },
  {
   "cell_type": "code",
   "execution_count": 11,
   "metadata": {},
   "outputs": [
    {
     "data": {
      "text/plain": [
       "5"
      ]
     },
     "execution_count": 11,
     "metadata": {},
     "output_type": "execute_result"
    }
   ],
   "source": [
    "array_sum([5])"
   ]
  },
  {
   "cell_type": "code",
   "execution_count": 12,
   "metadata": {},
   "outputs": [
    {
     "data": {
      "text/plain": [
       "15"
      ]
     },
     "execution_count": 12,
     "metadata": {},
     "output_type": "execute_result"
    }
   ],
   "source": [
    "array_sum([1, 2, 3, 4, 5])"
   ]
  },
  {
   "cell_type": "markdown",
   "metadata": {},
   "source": [
    "## Binary search using recursion"
   ]
  },
  {
   "cell_type": "code",
   "execution_count": 13,
   "metadata": {
    "collapsed": true
   },
   "outputs": [],
   "source": [
    "def binary_search(array, value, min_idx=0, max_idx=None):\n",
    "    \n",
    "    if min_idx == max_idx:\n",
    "        return None\n",
    "    elif max_idx is None:\n",
    "        max_idx = len(array)\n",
    "    else:\n",
    "        pass\n",
    "\n",
    "    middle_idx = min_idx + (max_idx - min_idx) // 2\n",
    "\n",
    "    if array[middle_idx] == value:\n",
    "        return middle_idx\n",
    "    elif array[middle_idx] < value:\n",
    "        min_idx = middle_idx + 1\n",
    "    else:\n",
    "        max_idx = middle_idx\n",
    "        \n",
    "    return binary_search(array, value, min_idx, max_idx)"
   ]
  },
  {
   "cell_type": "code",
   "execution_count": 14,
   "metadata": {},
   "outputs": [
    {
     "data": {
      "text/plain": [
       "0"
      ]
     },
     "execution_count": 14,
     "metadata": {},
     "output_type": "execute_result"
    }
   ],
   "source": [
    "binary_search(array=[1, 2, 4, 7, 8, 10, 11],\n",
    "                value=1)"
   ]
  },
  {
   "cell_type": "code",
   "execution_count": 15,
   "metadata": {},
   "outputs": [
    {
     "data": {
      "text/plain": [
       "1"
      ]
     },
     "execution_count": 15,
     "metadata": {},
     "output_type": "execute_result"
    }
   ],
   "source": [
    "binary_search(array=[1, 2, 4, 7, 8, 10, 11],\n",
    "                value=2)"
   ]
  },
  {
   "cell_type": "code",
   "execution_count": 16,
   "metadata": {},
   "outputs": [
    {
     "data": {
      "text/plain": [
       "2"
      ]
     },
     "execution_count": 16,
     "metadata": {},
     "output_type": "execute_result"
    }
   ],
   "source": [
    "binary_search(array=[1, 2, 4, 7, 8, 10, 11],\n",
    "                value=4)"
   ]
  },
  {
   "cell_type": "code",
   "execution_count": 17,
   "metadata": {},
   "outputs": [
    {
     "data": {
      "text/plain": [
       "6"
      ]
     },
     "execution_count": 17,
     "metadata": {},
     "output_type": "execute_result"
    }
   ],
   "source": [
    "binary_search(array=[1, 2, 4, 7, 8, 10, 11],\n",
    "                value=11)"
   ]
  },
  {
   "cell_type": "code",
   "execution_count": 18,
   "metadata": {
    "collapsed": true
   },
   "outputs": [],
   "source": [
    "binary_search(array=[1, 2, 4, 7, 8, 10, 11],\n",
    "                value=99)"
   ]
  },
  {
   "cell_type": "markdown",
   "metadata": {},
   "source": [
    "## Quicksort"
   ]
  },
  {
   "cell_type": "code",
   "execution_count": 5,
   "metadata": {
    "collapsed": true
   },
   "outputs": [],
   "source": [
    "def quicksort(array):\n",
    "    if len(array) < 2:\n",
    "        return array\n",
    "    else:\n",
    "        pivot = array[0]\n",
    "        smaller, bigger = [], []\n",
    "        for ele in array[1:]:\n",
    "            if ele <= pivot:\n",
    "                smaller.append(ele)\n",
    "            else:\n",
    "                bigger.append(ele)\n",
    "        return quicksort(smaller) + [pivot] + quicksort(bigger)"
   ]
  },
  {
   "cell_type": "code",
   "execution_count": 6,
   "metadata": {},
   "outputs": [
    {
     "data": {
      "text/plain": [
       "[]"
      ]
     },
     "execution_count": 6,
     "metadata": {},
     "output_type": "execute_result"
    }
   ],
   "source": [
    "quicksort([])"
   ]
  },
  {
   "cell_type": "code",
   "execution_count": 7,
   "metadata": {},
   "outputs": [
    {
     "data": {
      "text/plain": [
       "[5]"
      ]
     },
     "execution_count": 7,
     "metadata": {},
     "output_type": "execute_result"
    }
   ],
   "source": [
    "quicksort([5])"
   ]
  },
  {
   "cell_type": "code",
   "execution_count": 8,
   "metadata": {},
   "outputs": [
    {
     "data": {
      "text/plain": [
       "[4, 5]"
      ]
     },
     "execution_count": 8,
     "metadata": {},
     "output_type": "execute_result"
    }
   ],
   "source": [
    "quicksort([5, 4])"
   ]
  },
  {
   "cell_type": "code",
   "execution_count": 9,
   "metadata": {},
   "outputs": [
    {
     "data": {
      "text/plain": [
       "[1, 2, 4, 5, 7]"
      ]
     },
     "execution_count": 9,
     "metadata": {},
     "output_type": "execute_result"
    }
   ],
   "source": [
    "quicksort([1, 2, 7, 5, 4])"
   ]
  },
  {
   "cell_type": "code",
   "execution_count": 10,
   "metadata": {},
   "outputs": [
    {
     "data": {
      "text/plain": [
       "[2, 3, 4, 5]"
      ]
     },
     "execution_count": 10,
     "metadata": {},
     "output_type": "execute_result"
    }
   ],
   "source": [
    "quicksort([5, 4, 3, 2])"
   ]
  }
 ],
 "metadata": {
  "kernelspec": {
   "display_name": "Python 3",
   "language": "python",
   "name": "python3"
  },
  "language_info": {
   "codemirror_mode": {
    "name": "ipython",
    "version": 3
   },
   "file_extension": ".py",
   "mimetype": "text/x-python",
   "name": "python",
   "nbconvert_exporter": "python",
   "pygments_lexer": "ipython3",
   "version": "3.8.3"
  }
 },
 "nbformat": 4,
 "nbformat_minor": 2
}
