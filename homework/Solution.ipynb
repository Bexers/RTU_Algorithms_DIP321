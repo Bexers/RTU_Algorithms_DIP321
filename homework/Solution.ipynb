{
 "cells": [
  {
   "cell_type": "code",
   "execution_count": 1,
   "metadata": {},
   "outputs": [
    {
     "name": "stdout",
     "output_type": "stream",
     "text": [
      "Maximum difference is 99\n"
     ]
    }
   ],
   "source": [
    "# Python 3 code to find Maximum difference\n",
    "# between two elements such that larger \n",
    "# element appears after the smaller number\n",
    "  \n",
    "# The function assumes that there are \n",
    "# at least two elements in array.\n",
    "# The function returns a negative \n",
    "# value if the array is sorted in \n",
    "# decreasing order. Returns 0 if \n",
    "# elements are equal\n",
    "def maxDiff(arr, arr_size):\n",
    "    max_diff = arr[1] - arr[0]\n",
    "    min_element = arr[0]\n",
    "      \n",
    "    for i in range( 1, arr_size ):\n",
    "        if (arr[i] - min_element > max_diff):\n",
    "            max_diff = arr[i] - min_element # technically substraction is not O(1)\n",
    "            # on truly large numbers it will take more time\n",
    "      \n",
    "        if (arr[i] < min_element):\n",
    "            min_element = arr[i]\n",
    "    return max_diff\n",
    "      \n",
    "# Driver program to test above function \n",
    "arr = [1, 2, 6, 80, 100]\n",
    "size = len(arr)\n",
    "print (\"Maximum difference is\", \n",
    "        maxDiff(arr, size))\n",
    "  \n",
    "# This code is contributed by Swetank Modi"
   ]
  },
  {
   "cell_type": "code",
   "execution_count": 2,
   "metadata": {},
   "outputs": [
    {
     "name": "stdout",
     "output_type": "stream",
     "text": [
      "Maximum difference is 175\n"
     ]
    }
   ],
   "source": [
    "arr = [110, 200, 12, 6, 120, 5, 100, 90, 180, 1, 100, 150, 170]\n",
    "print (\"Maximum difference is\", \n",
    "        maxDiff(arr, len(arr)))"
   ]
  },
  {
   "cell_type": "code",
   "execution_count": 4,
   "metadata": {},
   "outputs": [],
   "source": [
    "def big_dif(arr):\n",
    "    max_diff=arr[1]-arr[0]\n",
    "    cur_min=arr[0]\n",
    "    for n in arr[2:]:\n",
    "        if n < cur_min:\n",
    "            cur_min = n\n",
    "            continue\n",
    "        diff = n-cur_min\n",
    "        if diff > max_diff:\n",
    "            max_diff=diff\n",
    "    return max_diff\n",
    "            \n",
    "        "
   ]
  },
  {
   "cell_type": "code",
   "execution_count": 6,
   "metadata": {},
   "outputs": [
    {
     "data": {
      "text/plain": [
       "175"
      ]
     },
     "execution_count": 6,
     "metadata": {},
     "output_type": "execute_result"
    }
   ],
   "source": [
    "big_dif(arr)"
   ]
  }
 ],
 "metadata": {
  "kernelspec": {
   "display_name": "Python 3",
   "language": "python",
   "name": "python3"
  },
  "language_info": {
   "codemirror_mode": {
    "name": "ipython",
    "version": 3
   },
   "file_extension": ".py",
   "mimetype": "text/x-python",
   "name": "python",
   "nbconvert_exporter": "python",
   "pygments_lexer": "ipython3",
   "version": "3.8.3"
  }
 },
 "nbformat": 4,
 "nbformat_minor": 4
}
