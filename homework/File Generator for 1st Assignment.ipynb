{
 "cells": [
  {
   "cell_type": "code",
   "execution_count": 26,
   "metadata": {},
   "outputs": [],
   "source": [
    "from pathlib import Path\n",
    "import random\n",
    "prefix = \"ints_\"\n",
    "folder = \"../data\"\n",
    "extension = \".txt\""
   ]
  },
  {
   "cell_type": "code",
   "execution_count": 7,
   "metadata": {},
   "outputs": [
    {
     "data": {
      "text/plain": [
       "WindowsPath('../data/ints_.txt')"
      ]
     },
     "execution_count": 7,
     "metadata": {},
     "output_type": "execute_result"
    }
   ],
   "source": [
    "dst = Path(folder,prefix+suffix)\n",
    "dst"
   ]
  },
  {
   "cell_type": "code",
   "execution_count": 22,
   "metadata": {},
   "outputs": [
    {
     "ename": "AttributeError",
     "evalue": "can't set attribute",
     "output_type": "error",
     "traceback": [
      "\u001b[1;31m---------------------------------------------------------------------------\u001b[0m",
      "\u001b[1;31mAttributeError\u001b[0m                            Traceback (most recent call last)",
      "\u001b[1;32m<ipython-input-22-8b7d9b381d8a>\u001b[0m in \u001b[0;36m<module>\u001b[1;34m\u001b[0m\n\u001b[1;32m----> 1\u001b[1;33m \u001b[0mdst\u001b[0m\u001b[1;33m.\u001b[0m\u001b[0mname\u001b[0m\u001b[1;33m+=\u001b[0m \u001b[1;34m\".bak\"\u001b[0m\u001b[1;33m\u001b[0m\u001b[1;33m\u001b[0m\u001b[0m\n\u001b[0m\u001b[0;32m      2\u001b[0m \u001b[0mdst\u001b[0m\u001b[1;33m\u001b[0m\u001b[1;33m\u001b[0m\u001b[0m\n",
      "\u001b[1;31mAttributeError\u001b[0m: can't set attribute"
     ]
    }
   ],
   "source": [
    "dst.name += \".bak\"\n",
    "dst"
   ]
  },
  {
   "cell_type": "code",
   "execution_count": 19,
   "metadata": {},
   "outputs": [],
   "source": [
    "def createRandomIntFile(dst, size=100, min_int=0, max_int=None, scale=10, check_max_before_min=True):\n",
    "    if max_int is None:\n",
    "        max_int = size*scale\n",
    "    data = [random.randint(min_int,max_int) for _ in range(size)]\n",
    "    while check_max_before_min:\n",
    "        dmin = min(data)\n",
    "        dmax = max(data)\n",
    "        min_ndx = data.index(dmin)\n",
    "        max_ndx = data.index(dmax)\n",
    "        if max_ndx < min_ndx:\n",
    "            print(f\"max at {max_ndx} < min at {min_ndx} which we want!\")\n",
    "            break\n",
    "        print(f\"ugh max at {max_ndx} >= min at {min_ndx} let's go again!\")\n",
    "        data = [random.randint(min_int,max_int) for _ in range(size)] # purely theoretically infinite loop is possible...\n",
    "        \n",
    "    data = [str(it) for it in data]\n",
    "    txt = \"\\n\".join(data)\n",
    "    print(f\"Saving {len(data)} rows into {dst}\")\n",
    "    with open(dst, mode=\"w\") as f:\n",
    "        f.write(txt)\n",
    "    "
   ]
  },
  {
   "cell_type": "code",
   "execution_count": 20,
   "metadata": {},
   "outputs": [
    {
     "name": "stdout",
     "output_type": "stream",
     "text": [
      "ugh max at 91 >= min at 20 let's go again!\n",
      "ugh max at 48 >= min at 23 let's go again!\n",
      "ugh max at 42 >= min at 26 let's go again!\n",
      "max at 41 < min at 82 which we want!\n",
      "Saving 100 rows into ..\\data\\ints_.txt\n"
     ]
    }
   ],
   "source": [
    "createRandomIntFile(dst)"
   ]
  },
  {
   "cell_type": "code",
   "execution_count": 32,
   "metadata": {},
   "outputs": [],
   "source": [
    "def genDataFiles(start=10, end=10_000_000, mult=10, folder=folder):\n",
    "    current = start\n",
    "    while current <= end:\n",
    "        suffix = str(current)\n",
    "        if current >= 1000:\n",
    "            suffix = f\"{current//1000}K\"\n",
    "        if current >= 1_000_000:\n",
    "            suffix = f\"{current//1_000_000}M\"\n",
    "        dst = Path(folder, f\"{prefix}{suffix}{extension}\")\n",
    "        print(f\"Will save {current} items into {dst}\")\n",
    "        createRandomIntFile(dst,size=current)\n",
    "        current *= mult"
   ]
  },
  {
   "cell_type": "code",
   "execution_count": 33,
   "metadata": {},
   "outputs": [
    {
     "name": "stdout",
     "output_type": "stream",
     "text": [
      "Will save 10 items into ..\\data\\ints_10.txt\n",
      "max at 2 < min at 4 which we want!\n",
      "Saving 10 rows into ..\\data\\ints_10.txt\n",
      "Will save 100 items into ..\\data\\ints_100.txt\n",
      "ugh max at 43 >= min at 0 let's go again!\n",
      "max at 25 < min at 93 which we want!\n",
      "Saving 100 rows into ..\\data\\ints_100.txt\n",
      "Will save 1000 items into ..\\data\\ints_1K.txt\n",
      "ugh max at 927 >= min at 737 let's go again!\n",
      "max at 87 < min at 597 which we want!\n",
      "Saving 1000 rows into ..\\data\\ints_1K.txt\n",
      "Will save 10000 items into ..\\data\\ints_10K.txt\n",
      "max at 5698 < min at 7126 which we want!\n",
      "Saving 10000 rows into ..\\data\\ints_10K.txt\n",
      "Will save 100000 items into ..\\data\\ints_100K.txt\n",
      "ugh max at 95557 >= min at 44129 let's go again!\n",
      "ugh max at 53496 >= min at 51354 let's go again!\n",
      "ugh max at 66873 >= min at 64635 let's go again!\n",
      "ugh max at 7186 >= min at 3893 let's go again!\n",
      "ugh max at 84814 >= min at 49952 let's go again!\n",
      "max at 13490 < min at 36171 which we want!\n",
      "Saving 100000 rows into ..\\data\\ints_100K.txt\n",
      "Will save 1000000 items into ..\\data\\ints_1M.txt\n",
      "ugh max at 630390 >= min at 19878 let's go again!\n",
      "max at 55614 < min at 875148 which we want!\n",
      "Saving 1000000 rows into ..\\data\\ints_1M.txt\n",
      "Will save 10000000 items into ..\\data\\ints_10M.txt\n",
      "ugh max at 5105555 >= min at 4006261 let's go again!\n",
      "ugh max at 6330437 >= min at 5602394 let's go again!\n",
      "ugh max at 7453934 >= min at 98035 let's go again!\n",
      "ugh max at 4386029 >= min at 991393 let's go again!\n",
      "max at 5989728 < min at 6247860 which we want!\n",
      "Saving 10000000 rows into ..\\data\\ints_10M.txt\n"
     ]
    }
   ],
   "source": [
    "genDataFiles()"
   ]
  }
 ],
 "metadata": {
  "kernelspec": {
   "display_name": "Python 3",
   "language": "python",
   "name": "python3"
  },
  "language_info": {
   "codemirror_mode": {
    "name": "ipython",
    "version": 3
   },
   "file_extension": ".py",
   "mimetype": "text/x-python",
   "name": "python",
   "nbconvert_exporter": "python",
   "pygments_lexer": "ipython3",
   "version": "3.8.3"
  }
 },
 "nbformat": 4,
 "nbformat_minor": 4
}
